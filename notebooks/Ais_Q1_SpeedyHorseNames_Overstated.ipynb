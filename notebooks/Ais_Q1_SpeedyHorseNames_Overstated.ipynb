{
 "cells": [
  {
   "cell_type": "code",
   "execution_count": 1,
   "metadata": {},
   "outputs": [
    {
     "name": "stdout",
     "output_type": "stream",
     "text": [
      "Python 3.7.7\n"
     ]
    }
   ],
   "source": [
    "!python --version"
   ]
  },
  {
   "cell_type": "code",
   "execution_count": 2,
   "metadata": {},
   "outputs": [],
   "source": [
    "#https://stackoverflow.com/questions/53457975/pyspark-udf-function-error-in-lambda-function\n",
    "import os\n",
    "os.environ['OBJC_DISABLE_INITIALIZE_FORK_SAFETY'] = 'YES'"
   ]
  },
  {
   "cell_type": "code",
   "execution_count": 3,
   "metadata": {},
   "outputs": [
    {
     "name": "stderr",
     "output_type": "stream",
     "text": [
      "WARNING: An illegal reflective access operation has occurred\n",
      "WARNING: Illegal reflective access by org.apache.spark.unsafe.Platform (file:/usr/local/spark-3.0.0-bin-hadoop3.2/jars/spark-unsafe_2.12-3.0.0.jar) to constructor java.nio.DirectByteBuffer(long,int)\n",
      "WARNING: Please consider reporting this to the maintainers of org.apache.spark.unsafe.Platform\n",
      "WARNING: Use --illegal-access=warn to enable warnings of further illegal reflective access operations\n",
      "WARNING: All illegal access operations will be denied in a future release\n",
      "Ivy Default Cache set to: /home/jovyan/.ivy2/cache\n",
      "The jars for the packages stored in: /home/jovyan/.ivy2/jars\n",
      ":: loading settings :: url = jar:file:/usr/local/spark-3.0.0-bin-hadoop3.2/jars/ivy-2.4.0.jar!/org/apache/ivy/core/settings/ivysettings.xml\n",
      "org.mongodb.spark#mongo-spark-connector_2.12 added as a dependency\n",
      ":: resolving dependencies :: org.apache.spark#spark-submit-parent-2c670492-8dd5-4cb4-b691-e32c247f7021;1.0\n",
      "\tconfs: [default]\n",
      "\tfound org.mongodb.spark#mongo-spark-connector_2.12;3.0.0 in central\n",
      "\tfound org.mongodb#mongodb-driver-sync;4.0.5 in central\n",
      "\tfound org.mongodb#bson;4.0.5 in central\n",
      "\tfound org.mongodb#mongodb-driver-core;4.0.5 in central\n",
      ":: resolution report :: resolve 330ms :: artifacts dl 12ms\n",
      "\t:: modules in use:\n",
      "\torg.mongodb#bson;4.0.5 from central in [default]\n",
      "\torg.mongodb#mongodb-driver-core;4.0.5 from central in [default]\n",
      "\torg.mongodb#mongodb-driver-sync;4.0.5 from central in [default]\n",
      "\torg.mongodb.spark#mongo-spark-connector_2.12;3.0.0 from central in [default]\n",
      "\t---------------------------------------------------------------------\n",
      "\t|                  |            modules            ||   artifacts   |\n",
      "\t|       conf       | number| search|dwnlded|evicted|| number|dwnlded|\n",
      "\t---------------------------------------------------------------------\n",
      "\t|      default     |   4   |   0   |   0   |   0   ||   4   |   0   |\n",
      "\t---------------------------------------------------------------------\n",
      ":: retrieving :: org.apache.spark#spark-submit-parent-2c670492-8dd5-4cb4-b691-e32c247f7021\n",
      "\tconfs: [default]\n",
      "\t0 artifacts copied, 4 already retrieved (0kB/12ms)\n",
      "21/12/22 18:48:24 WARN NativeCodeLoader: Unable to load native-hadoop library for your platform... using builtin-java classes where applicable\n",
      "Using Spark's default log4j profile: org/apache/spark/log4j-defaults.properties\n",
      "Setting default log level to \"WARN\".\n",
      "To adjust logging level use sc.setLogLevel(newLevel). For SparkR, use setLogLevel(newLevel).\n",
      "21/12/22 18:48:26 WARN Utils: Service 'SparkUI' could not bind on port 4040. Attempting port 4041.\n"
     ]
    }
   ],
   "source": [
    "from pyspark.sql import SparkSession\n",
    "# https://spark.apache.org/docs/latest/job-scheduling.html\n",
    "spark = SparkSession.\\\n",
    "        builder.\\\n",
    "        appName(\"pyspark-notebook2-ais\").\\\n",
    "        master(\"spark://spark-master:7077\").\\\n",
    "        config(\"spark.executor.memory\", \"7g\").\\\n",
    "        config(\"spark.cores.max\", \"3\").\\\n",
    "        config(\"spark.executor.instances\", \"1\").\\\n",
    "        config(\"spark.executor.cores\", \"3\").\\\n",
    "        config(\"spark.mongodb.input.uri\",\"mongodb://mongo1:27017,mongo2:27018,mongo3:27019/database.horses_collection?replicaSet=rs0\").\\\n",
    "        config(\"spark.mongodb.output.uri\",\"mongodb://mongo1:27017,mongo2:27018,mongo3:27019/database.horses_collection?replicaSet=rs0\").\\\n",
    "        config(\"spark.jars.packages\", \"org.mongodb.spark:mongo-spark-connector_2.12:3.0.0\").\\\n",
    "        getOrCreate()\n"
   ]
  },
  {
   "cell_type": "code",
   "execution_count": 4,
   "metadata": {},
   "outputs": [
    {
     "data": {
      "text/plain": [
       "'default'"
      ]
     },
     "execution_count": 4,
     "metadata": {},
     "output_type": "execute_result"
    }
   ],
   "source": [
    "spark.catalog.currentDatabase()"
   ]
  },
  {
   "cell_type": "code",
   "execution_count": 5,
   "metadata": {},
   "outputs": [
    {
     "name": "stderr",
     "output_type": "stream",
     "text": [
      "21/12/22 18:48:57 WARN MongoInferSchema: Field 'bsp' contains conflicting types converting to StringType\n",
      "21/12/22 18:48:59 WARN package: Truncated the string representation of a plan since it was too large. This behavior can be adjusted by setting 'spark.sql.debug.maxToStringFields'.\n"
     ]
    }
   ],
   "source": [
    "#reading dataframes from MongoDB\n",
    "\n",
    "# sampleSize - https://stackoverflow.com/a/56255303\n",
    "df = spark.read.format(\"mongo\").option('sampleSize', 50000).load()\n",
    "df.createOrReplaceTempView(\"mongo\")\n"
   ]
  },
  {
   "cell_type": "code",
   "execution_count": 6,
   "metadata": {},
   "outputs": [
    {
     "name": "stdout",
     "output_type": "stream",
     "text": [
      "root\n",
      " |-- _id: struct (nullable = true)\n",
      " |    |-- oid: string (nullable = true)\n",
      " |-- clk: string (nullable = true)\n",
      " |-- mc: array (nullable = true)\n",
      " |    |-- element: struct (containsNull = true)\n",
      " |    |    |-- id: string (nullable = true)\n",
      " |    |    |-- marketDefinition: struct (nullable = true)\n",
      " |    |    |    |-- betDelay: integer (nullable = true)\n",
      " |    |    |    |-- bettingType: string (nullable = true)\n",
      " |    |    |    |-- bspMarket: boolean (nullable = true)\n",
      " |    |    |    |-- bspReconciled: boolean (nullable = true)\n",
      " |    |    |    |-- complete: boolean (nullable = true)\n",
      " |    |    |    |-- countryCode: string (nullable = true)\n",
      " |    |    |    |-- crossMatching: boolean (nullable = true)\n",
      " |    |    |    |-- discountAllowed: boolean (nullable = true)\n",
      " |    |    |    |-- eachWayDivisor: double (nullable = true)\n",
      " |    |    |    |-- eventId: string (nullable = true)\n",
      " |    |    |    |-- eventName: string (nullable = true)\n",
      " |    |    |    |-- eventTypeId: string (nullable = true)\n",
      " |    |    |    |-- inPlay: boolean (nullable = true)\n",
      " |    |    |    |-- marketBaseRate: double (nullable = true)\n",
      " |    |    |    |-- marketTime: string (nullable = true)\n",
      " |    |    |    |-- marketType: string (nullable = true)\n",
      " |    |    |    |-- name: string (nullable = true)\n",
      " |    |    |    |-- numberOfActiveRunners: integer (nullable = true)\n",
      " |    |    |    |-- numberOfWinners: integer (nullable = true)\n",
      " |    |    |    |-- openDate: string (nullable = true)\n",
      " |    |    |    |-- persistenceEnabled: boolean (nullable = true)\n",
      " |    |    |    |-- regulators: array (nullable = true)\n",
      " |    |    |    |    |-- element: string (containsNull = true)\n",
      " |    |    |    |-- runners: array (nullable = true)\n",
      " |    |    |    |    |-- element: struct (containsNull = true)\n",
      " |    |    |    |    |    |-- adjustmentFactor: double (nullable = true)\n",
      " |    |    |    |    |    |-- bsp: string (nullable = true)\n",
      " |    |    |    |    |    |-- id: integer (nullable = true)\n",
      " |    |    |    |    |    |-- name: string (nullable = true)\n",
      " |    |    |    |    |    |-- removalDate: string (nullable = true)\n",
      " |    |    |    |    |    |-- sortPriority: integer (nullable = true)\n",
      " |    |    |    |    |    |-- status: string (nullable = true)\n",
      " |    |    |    |-- runnersVoidable: boolean (nullable = true)\n",
      " |    |    |    |-- settledTime: string (nullable = true)\n",
      " |    |    |    |-- status: string (nullable = true)\n",
      " |    |    |    |-- suspendTime: string (nullable = true)\n",
      " |    |    |    |-- timezone: string (nullable = true)\n",
      " |    |    |    |-- turnInPlayEnabled: boolean (nullable = true)\n",
      " |    |    |    |-- venue: string (nullable = true)\n",
      " |    |    |    |-- version: integer (nullable = true)\n",
      " |    |    |-- rc: array (nullable = true)\n",
      " |    |    |    |-- element: struct (containsNull = true)\n",
      " |    |    |    |    |-- ltp: double (nullable = true)\n",
      " |    |    |    |    |-- id: integer (nullable = true)\n",
      " |-- op: string (nullable = true)\n",
      " |-- pt: long (nullable = true)\n",
      "\n"
     ]
    }
   ],
   "source": [
    "df.printSchema()"
   ]
  },
  {
   "cell_type": "code",
   "execution_count": 7,
   "metadata": {},
   "outputs": [],
   "source": [
    "#df.show()"
   ]
  },
  {
   "cell_type": "code",
   "execution_count": 8,
   "metadata": {},
   "outputs": [],
   "source": [
    "#spark.sql(\"select * from mongo array_contains(root.mc, array('CLOSED'))\").show()\n",
    "from pyspark.sql.functions import explode   # Explodes lists into rows."
   ]
  },
  {
   "cell_type": "code",
   "execution_count": 9,
   "metadata": {},
   "outputs": [],
   "source": [
    "mc_exploded = df.select('*', explode(df.mc).alias('mc_row'))"
   ]
  },
  {
   "cell_type": "code",
   "execution_count": 10,
   "metadata": {},
   "outputs": [],
   "source": [
    "md_only = mc_exploded.filter(mc_exploded.mc_row.marketDefinition.isNotNull())"
   ]
  },
  {
   "cell_type": "code",
   "execution_count": 11,
   "metadata": {},
   "outputs": [],
   "source": [
    "#md_only.show()"
   ]
  },
  {
   "cell_type": "code",
   "execution_count": 12,
   "metadata": {},
   "outputs": [],
   "source": [
    "# Explode the marketDefinition array.\n",
    "market_definitions = md_only.selectExpr('op AS operation_type',\n",
    "                                        'clk AS sequence_token',\n",
    "                                        'pt AS published_time',\n",
    "                                        'mc_row.id AS market_id',\n",
    "                                        'mc_row.rc AS rc',\n",
    "                                        'mc_row.marketDefinition.betDelay AS bet_delay',\n",
    "                                        'mc_row.marketDefinition.bettingType AS betting_type',\n",
    "                                        'mc_row.marketDefinition.bspMarket AS bsp_market',\n",
    "                                        'mc_row.marketDefinition.bspReconciled AS bsp_reconciled',\n",
    "                                        'mc_row.marketDefinition.complete AS complete',\n",
    "                                        'mc_row.marketDefinition.countryCode AS country_code',\n",
    "                                        'mc_row.marketDefinition.crossMatching AS cross_matching',\n",
    "                                        'mc_row.marketDefinition.discountAllowed AS discount_allowed',\n",
    "                                        'mc_row.marketDefinition.eventId AS event_id',\n",
    "                                        'mc_row.marketDefinition.eventName AS event_name',\n",
    "                                        'mc_row.marketDefinition.eventTypeId AS event_type_id',\n",
    "                                        'mc_row.marketDefinition.inPlay AS in_play',\n",
    "                                        'mc_row.marketDefinition.marketBaseRate AS market_base_rate',\n",
    "                                        'mc_row.marketDefinition.marketTime AS market_time',\n",
    "                                        'mc_row.marketDefinition.marketType AS market_type',\n",
    "                                        'mc_row.marketDefinition.numberOfActiveRunners AS number_of_active_runners',\n",
    "                                        'mc_row.marketDefinition.numberOfWinners AS number_of_winners',\n",
    "                                        'mc_row.marketDefinition.openDate AS open_date',\n",
    "                                        'mc_row.marketDefinition.persistenceEnabled AS persistence_enabled',\n",
    "                                        'mc_row.marketDefinition.runnersVoidable AS runners_voidable',\n",
    "                                        'mc_row.marketDefinition.settledTime AS settled_time',\n",
    "                                        'mc_row.marketDefinition.status AS status',\n",
    "                                        'mc_row.marketDefinition.suspendTime AS suspend_time',\n",
    "                                        'mc_row.marketDefinition.timezone AS timezone',\n",
    "                                        'mc_row.marketDefinition.turnInPlayEnabled AS turn_in_play_enabled',\n",
    "                                        'mc_row.marketDefinition.version AS version',\n",
    "                                        'mc_row.marketDefinition.name AS market_name',\n",
    "                                        'mc_row.marketDefinition.regulators AS regulators',\n",
    "                                        'mc_row.marketDefinition.runners AS runners')"
   ]
  },
  {
   "cell_type": "code",
   "execution_count": 13,
   "metadata": {},
   "outputs": [],
   "source": [
    "market_definitions = market_definitions.filter(market_definitions[\"status\"]==\"CLOSED\")"
   ]
  },
  {
   "cell_type": "code",
   "execution_count": 14,
   "metadata": {},
   "outputs": [],
   "source": [
    "market_definitions = market_definitions.filter(market_definitions[\"market_type\"]==\"WIN\")"
   ]
  },
  {
   "cell_type": "code",
   "execution_count": 15,
   "metadata": {},
   "outputs": [],
   "source": [
    "runners_only = market_definitions.filter(market_definitions.runners.isNotNull())"
   ]
  },
  {
   "cell_type": "code",
   "execution_count": 16,
   "metadata": {},
   "outputs": [],
   "source": [
    "runners_exploded_wbsp = runners_only.select(market_definitions.operation_type,\n",
    "                                       market_definitions.published_time,\n",
    "                                       market_definitions.market_id,\n",
    "                                       market_definitions.market_name,\n",
    "                                       market_definitions.event_id,\n",
    "                                       market_definitions.event_name,\n",
    "                                       market_definitions.number_of_active_runners,\n",
    "                                       explode(market_definitions.runners).alias('runner_row'))"
   ]
  },
  {
   "cell_type": "code",
   "execution_count": 17,
   "metadata": {},
   "outputs": [],
   "source": [
    "runners_wbsp = runners_exploded_wbsp.selectExpr('operation_type',\n",
    "                                      'published_time',\n",
    "                                      'market_id',\n",
    "                                      'market_name',\n",
    "                                      'event_id',\n",
    "                                      'event_name',\n",
    "                                      'number_of_active_runners',\n",
    "                                      'runner_row.id AS runner_id',\n",
    "                                      'runner_row.name AS runner_name',\n",
    "                                      'runner_row.status AS runner_status',\n",
    "                                      'runner_row.bsp AS bsp',\n",
    "                                      'runner_row.sortPriority AS runner_sort_priority')"
   ]
  },
  {
   "cell_type": "code",
   "execution_count": 18,
   "metadata": {},
   "outputs": [],
   "source": [
    "runners_wbsp = runners_wbsp.filter(runners_wbsp.runner_status!='REMOVED')"
   ]
  },
  {
   "cell_type": "code",
   "execution_count": 19,
   "metadata": {},
   "outputs": [],
   "source": [
    "runners_wbsp = runners_wbsp.filter(runners_wbsp.runner_status!='REMOVED_VACANT')"
   ]
  },
  {
   "cell_type": "code",
   "execution_count": 20,
   "metadata": {},
   "outputs": [],
   "source": [
    "#runners_wbsp.count()"
   ]
  },
  {
   "cell_type": "code",
   "execution_count": 21,
   "metadata": {},
   "outputs": [],
   "source": [
    "runners_wbsp = runners_wbsp.dropDuplicates()"
   ]
  },
  {
   "cell_type": "code",
   "execution_count": 22,
   "metadata": {},
   "outputs": [],
   "source": [
    "#runners_wbsp.count()"
   ]
  },
  {
   "cell_type": "code",
   "execution_count": 23,
   "metadata": {},
   "outputs": [],
   "source": [
    "#runners_wbsp.describe().show()"
   ]
  },
  {
   "cell_type": "code",
   "execution_count": 24,
   "metadata": {},
   "outputs": [],
   "source": [
    "from pyspark.sql.functions import *\n",
    "from pyspark.sql.window import Window\n",
    "from pyspark.sql.types import IntegerType"
   ]
  },
  {
   "cell_type": "code",
   "execution_count": 25,
   "metadata": {},
   "outputs": [],
   "source": [
    "#bsps are integers\n",
    "\n",
    "runners_wbsp = runners_wbsp.withColumn(\"bsp\", runners_wbsp[\"bsp\"].cast(IntegerType()))"
   ]
  },
  {
   "cell_type": "code",
   "execution_count": 26,
   "metadata": {},
   "outputs": [],
   "source": [
    "#bsps must be >1 as they are decimal odds, which must always have a value greater than 1 (see https://www.timeform.com/betting/basics/understanding-decimal-odds)\n",
    "\n",
    "runners_wbsp = runners_wbsp.filter(runners_wbsp.bsp>1)"
   ]
  },
  {
   "cell_type": "markdown",
   "metadata": {},
   "source": [
    "# Starting Prices\n",
    "## How often does the best-ranked horse (as determined by BSP) win? Is it better than random chance?"
   ]
  },
  {
   "cell_type": "markdown",
   "metadata": {},
   "source": [
    "Ranking the horses in each race based on Betfair Starting Prices (BSP) (lowest BSP is best [rank=1], highest BSP is worst). This is done so we can see how often Betfair's ranking is correct"
   ]
  },
  {
   "cell_type": "code",
   "execution_count": 27,
   "metadata": {},
   "outputs": [],
   "source": [
    "runners_wbsp_rank=runners_wbsp.withColumn(\n",
    "  \"rank\", dense_rank().over(Window.partitionBy(\"market_id\").orderBy(asc(\"bsp\"))))"
   ]
  },
  {
   "cell_type": "markdown",
   "metadata": {},
   "source": [
    "Reverse Ranking and limiting to where reverse_rank = 1 (rank is therefore the highest count observation within race). This will allow us to find the average number of runners per race. Random chance would predict the winner in 1/(avg. number of runners)% of races. Does Betfair's prices do better than that?"
   ]
  },
  {
   "cell_type": "code",
   "execution_count": 28,
   "metadata": {},
   "outputs": [],
   "source": [
    "runners_wbsp_rank=runners_wbsp_rank.withColumn(\n",
    "  \"reverse_rank\", dense_rank().over(Window.partitionBy(\"market_id\").orderBy(desc(\"bsp\"))))"
   ]
  },
  {
   "cell_type": "code",
   "execution_count": 29,
   "metadata": {},
   "outputs": [],
   "source": [
    "runners_wbsp_reverserank = runners_wbsp_rank.filter(col(\"reverse_rank\") == 1)"
   ]
  },
  {
   "cell_type": "markdown",
   "metadata": {},
   "source": [
    "We see from the rank summary below that the mean is 7.907. This is the average number of runners in a race."
   ]
  },
  {
   "cell_type": "code",
   "execution_count": 32,
   "metadata": {},
   "outputs": [
    {
     "name": "stderr",
     "output_type": "stream",
     "text": [
      "[Stage 6:======================================================>(197 + 3) / 200]\r"
     ]
    },
    {
     "name": "stdout",
     "output_type": "stream",
     "text": [
      "+-------+--------------+--------------------+--------------------+--------------+-------------------+-------------------+------------------------+-----------------+-----------+-------------+------------------+--------------------+-----------------+------------+\n",
      "|summary|operation_type|      published_time|           market_id|   market_name|           event_id|         event_name|number_of_active_runners|        runner_id|runner_name|runner_status|               bsp|runner_sort_priority|             rank|reverse_rank|\n",
      "+-------+--------------+--------------------+--------------------+--------------+-------------------+-------------------+------------------------+-----------------+-----------+-------------+------------------+--------------------+-----------------+------------+\n",
      "|  count|         52533|               52533|               52533|         52533|              52533|              52533|                   52533|            52533|      52533|        52533|             52533|               52533|            52533|       52533|\n",
      "|   mean|          null|1.470709360299066E12|  1.1263067964599014|          null|2.789327462792911E7|               null|                     0.0|9367107.852169113|       null|         null|159.66228846629738|   7.180343783907258|7.907315401747473|         1.0|\n",
      "| stddev|          null| 8.446959770754992E9|0.001822407253285...|          null| 115790.81903454788|               null|                     0.0|2606005.707288294|       null|         null|226.94708912449573|   3.828744232660776|2.760365369011706|         0.0|\n",
      "|    min|           mcm|       1451604171875|         1.122416144|     1000m 2yo|           27640802|APrk (AUS) 10th Dec|                       0|              541|1. A Louest|        LOSER|                 2|                   1|                1|           1|\n",
      "|    max|           mcm|       1483227401214|         1.128941921|r9 2000m Grd 1|           28062881|  ZiaP (US) 9th Oct|                       0|         12299988|        tot|       WINNER|              1000|                  37|               37|           1|\n",
      "+-------+--------------+--------------------+--------------------+--------------+-------------------+-------------------+------------------------+-----------------+-----------+-------------+------------------+--------------------+-----------------+------------+\n",
      "\n"
     ]
    },
    {
     "name": "stderr",
     "output_type": "stream",
     "text": [
      "                                                                                \r"
     ]
    }
   ],
   "source": [
    "runners_wbsp_reverserank.describe().show()"
   ]
  },
  {
   "cell_type": "markdown",
   "metadata": {},
   "source": [
    "Grouping by runner_status (whether the horse was a winner of loser) and rank to get the distribution of winners and losers by rank"
   ]
  },
  {
   "cell_type": "code",
   "execution_count": 30,
   "metadata": {},
   "outputs": [
    {
     "name": "stderr",
     "output_type": "stream",
     "text": [
      "                                                                                \r"
     ]
    },
    {
     "name": "stdout",
     "output_type": "stream",
     "text": [
      "+-------------+----+-----+\n",
      "|runner_status|rank|count|\n",
      "+-------------+----+-----+\n",
      "|       WINNER|   8|  631|\n",
      "|        LOSER|  20|   87|\n",
      "|        LOSER|  31|    1|\n",
      "|       WINNER|  12|   69|\n",
      "|       WINNER|   2|10187|\n",
      "|        LOSER|  25|   14|\n",
      "|        LOSER|   2|48991|\n",
      "|        LOSER|  27|    4|\n",
      "|        LOSER|   4|49656|\n",
      "|        LOSER|  28|    4|\n",
      "+-------------+----+-----+\n",
      "only showing top 10 rows\n",
      "\n"
     ]
    }
   ],
   "source": [
    "runners_wbsp_rank.groupby(\"runner_status\", \"rank\").count().show(10)"
   ]
  },
  {
   "cell_type": "code",
   "execution_count": 31,
   "metadata": {},
   "outputs": [],
   "source": [
    "runners_wbsp_rank1 = runners_wbsp_rank.groupby(\"runner_status\", \"rank\").count()"
   ]
  },
  {
   "cell_type": "code",
   "execution_count": 92,
   "metadata": {},
   "outputs": [],
   "source": [
    "import pandas as pd\n",
    "from matplotlib import pyplot as plt\n",
    "plt.rcParams[\"figure.figsize\"] = [30, 15]"
   ]
  },
  {
   "cell_type": "code",
   "execution_count": 33,
   "metadata": {},
   "outputs": [
    {
     "name": "stderr",
     "output_type": "stream",
     "text": [
      "                                                                                \r"
     ]
    }
   ],
   "source": [
    "############################################################\n",
    "pdf_1 = runners_wbsp_rank1.toPandas()\n",
    "############################################################"
   ]
  },
  {
   "cell_type": "code",
   "execution_count": 93,
   "metadata": {},
   "outputs": [
    {
     "data": {
      "text/plain": [
       "<AxesSubplot:title={'center':'Racehorse Distribution by Rank and Outcome'}, xlabel='rank', ylabel='horses'>"
      ]
     },
     "execution_count": 93,
     "metadata": {},
     "output_type": "execute_result"
    },
    {
     "data": {
      "image/png": "[encoded data removed]",
      "text/plain": [
       "<Figure size 2160x1080 with 1 Axes>"
      ]
     },
     "metadata": {},
     "output_type": "display_data"
    }
   ],
   "source": [
    "plt.style.use('ggplot')\n",
    "pdf_1.pivot('rank', 'runner_status', 'count').plot(kind = 'bar', stacked=False, ylabel = 'horses',  title = 'Racehorse Distribution by Rank and Outcome')"
   ]
  },
  {
   "cell_type": "code",
   "execution_count": 34,
   "metadata": {},
   "outputs": [
    {
     "data": {
      "text/html": [
       "<div>\n",
       "<style scoped>\n",
       "    .dataframe tbody tr th:only-of-type {\n",
       "        vertical-align: middle;\n",
       "    }\n",
       "\n",
       "    .dataframe tbody tr th {\n",
       "        vertical-align: top;\n",
       "    }\n",
       "\n",
       "    .dataframe thead th {\n",
       "        text-align: right;\n",
       "    }\n",
       "</style>\n",
       "<table border=\"1\" class=\"dataframe\">\n",
       "  <thead>\n",
       "    <tr style=\"text-align: right;\">\n",
       "      <th></th>\n",
       "      <th>count</th>\n",
       "    </tr>\n",
       "    <tr>\n",
       "      <th>runner_status</th>\n",
       "      <th></th>\n",
       "    </tr>\n",
       "  </thead>\n",
       "  <tbody>\n",
       "    <tr>\n",
       "      <th>LOSER</th>\n",
       "      <td>391567</td>\n",
       "    </tr>\n",
       "    <tr>\n",
       "      <th>WINNER</th>\n",
       "      <td>45234</td>\n",
       "    </tr>\n",
       "  </tbody>\n",
       "</table>\n",
       "</div>"
      ],
      "text/plain": [
       "                count\n",
       "runner_status        \n",
       "LOSER          391567\n",
       "WINNER          45234"
      ]
     },
     "execution_count": 34,
     "metadata": {},
     "output_type": "execute_result"
    }
   ],
   "source": [
    "# sum of all winners and losers\n",
    "\n",
    "pdf_1.groupby([\"runner_status\"]).agg({\"count\" : \"sum\"})"
   ]
  },
  {
   "cell_type": "code",
   "execution_count": 36,
   "metadata": {},
   "outputs": [
    {
     "data": {
      "text/html": [
       "<div>\n",
       "<style scoped>\n",
       "    .dataframe tbody tr th:only-of-type {\n",
       "        vertical-align: middle;\n",
       "    }\n",
       "\n",
       "    .dataframe tbody tr th {\n",
       "        vertical-align: top;\n",
       "    }\n",
       "\n",
       "    .dataframe thead th {\n",
       "        text-align: right;\n",
       "    }\n",
       "</style>\n",
       "<table border=\"1\" class=\"dataframe\">\n",
       "  <thead>\n",
       "    <tr style=\"text-align: right;\">\n",
       "      <th></th>\n",
       "      <th>count</th>\n",
       "    </tr>\n",
       "    <tr>\n",
       "      <th>runner_status</th>\n",
       "      <th></th>\n",
       "    </tr>\n",
       "  </thead>\n",
       "  <tbody>\n",
       "    <tr>\n",
       "      <th>LOSER</th>\n",
       "      <td>89.644254</td>\n",
       "    </tr>\n",
       "    <tr>\n",
       "      <th>WINNER</th>\n",
       "      <td>10.355746</td>\n",
       "    </tr>\n",
       "  </tbody>\n",
       "</table>\n",
       "</div>"
      ],
      "text/plain": [
       "                   count\n",
       "runner_status           \n",
       "LOSER          89.644254\n",
       "WINNER         10.355746"
      ]
     },
     "execution_count": 36,
     "metadata": {},
     "output_type": "execute_result"
    }
   ],
   "source": [
    "# as a percentage\n",
    "\n",
    "pdf_1.groupby([\"runner_status\"])\\\n",
    ".agg({\"count\" : \"sum\"})[[\"count\"]]\\\n",
    ".apply(lambda x: 100*x/x.sum())\\\n",
    ".sort_values(by=\"count\", ascending=False)"
   ]
  },
  {
   "cell_type": "code",
   "execution_count": 94,
   "metadata": {},
   "outputs": [
    {
     "data": {
      "text/plain": [
       "<AxesSubplot:title={'center':'Racehorse Outcome'}, xlabel='runner_status', ylabel='Horses'>"
      ]
     },
     "execution_count": 94,
     "metadata": {},
     "output_type": "execute_result"
    },
    {
     "data": {
      "image/png": "[encoded data removed]",
      "text/plain": [
       "<Figure size 2160x1080 with 1 Axes>"
      ]
     },
     "metadata": {},
     "output_type": "display_data"
    }
   ],
   "source": [
    "# plotted\n",
    "\n",
    "pdf_1.groupby([\"runner_status\"]).agg({\"count\" : \"sum\"}).plot(kind = 'bar', stacked=False, ylabel = 'Horses', legend=False, color = 'g', title = 'Racehorse Outcome')"
   ]
  },
  {
   "cell_type": "code",
   "execution_count": 37,
   "metadata": {},
   "outputs": [],
   "source": [
    "# looking at winners only in order to get % distribution by rank\n",
    "\n",
    "pdf_winners = pdf_1.loc[pdf_1['runner_status'] == \"WINNER\"]"
   ]
  },
  {
   "cell_type": "code",
   "execution_count": 38,
   "metadata": {},
   "outputs": [
    {
     "data": {
      "text/html": [
       "<div>\n",
       "<style scoped>\n",
       "    .dataframe tbody tr th:only-of-type {\n",
       "        vertical-align: middle;\n",
       "    }\n",
       "\n",
       "    .dataframe tbody tr th {\n",
       "        vertical-align: top;\n",
       "    }\n",
       "\n",
       "    .dataframe thead th {\n",
       "        text-align: right;\n",
       "    }\n",
       "</style>\n",
       "<table border=\"1\" class=\"dataframe\">\n",
       "  <thead>\n",
       "    <tr style=\"text-align: right;\">\n",
       "      <th></th>\n",
       "      <th>count</th>\n",
       "    </tr>\n",
       "    <tr>\n",
       "      <th>rank</th>\n",
       "      <th></th>\n",
       "    </tr>\n",
       "  </thead>\n",
       "  <tbody>\n",
       "    <tr>\n",
       "      <th>1</th>\n",
       "      <td>38.566123</td>\n",
       "    </tr>\n",
       "    <tr>\n",
       "      <th>2</th>\n",
       "      <td>22.520670</td>\n",
       "    </tr>\n",
       "    <tr>\n",
       "      <th>3</th>\n",
       "      <td>14.303400</td>\n",
       "    </tr>\n",
       "    <tr>\n",
       "      <th>4</th>\n",
       "      <td>9.313791</td>\n",
       "    </tr>\n",
       "    <tr>\n",
       "      <th>5</th>\n",
       "      <td>5.980015</td>\n",
       "    </tr>\n",
       "    <tr>\n",
       "      <th>6</th>\n",
       "      <td>3.917407</td>\n",
       "    </tr>\n",
       "    <tr>\n",
       "      <th>7</th>\n",
       "      <td>2.343370</td>\n",
       "    </tr>\n",
       "    <tr>\n",
       "      <th>8</th>\n",
       "      <td>1.394968</td>\n",
       "    </tr>\n",
       "    <tr>\n",
       "      <th>9</th>\n",
       "      <td>0.716275</td>\n",
       "    </tr>\n",
       "    <tr>\n",
       "      <th>10</th>\n",
       "      <td>0.439935</td>\n",
       "    </tr>\n",
       "    <tr>\n",
       "      <th>11</th>\n",
       "      <td>0.236548</td>\n",
       "    </tr>\n",
       "    <tr>\n",
       "      <th>12</th>\n",
       "      <td>0.152540</td>\n",
       "    </tr>\n",
       "    <tr>\n",
       "      <th>13</th>\n",
       "      <td>0.046425</td>\n",
       "    </tr>\n",
       "    <tr>\n",
       "      <th>14</th>\n",
       "      <td>0.028739</td>\n",
       "    </tr>\n",
       "    <tr>\n",
       "      <th>15</th>\n",
       "      <td>0.015475</td>\n",
       "    </tr>\n",
       "    <tr>\n",
       "      <th>16</th>\n",
       "      <td>0.019897</td>\n",
       "    </tr>\n",
       "    <tr>\n",
       "      <th>17</th>\n",
       "      <td>0.002211</td>\n",
       "    </tr>\n",
       "    <tr>\n",
       "      <th>20</th>\n",
       "      <td>0.002211</td>\n",
       "    </tr>\n",
       "  </tbody>\n",
       "</table>\n",
       "</div>"
      ],
      "text/plain": [
       "          count\n",
       "rank           \n",
       "1     38.566123\n",
       "2     22.520670\n",
       "3     14.303400\n",
       "4      9.313791\n",
       "5      5.980015\n",
       "6      3.917407\n",
       "7      2.343370\n",
       "8      1.394968\n",
       "9      0.716275\n",
       "10     0.439935\n",
       "11     0.236548\n",
       "12     0.152540\n",
       "13     0.046425\n",
       "14     0.028739\n",
       "15     0.015475\n",
       "16     0.019897\n",
       "17     0.002211\n",
       "20     0.002211"
      ]
     },
     "execution_count": 38,
     "metadata": {},
     "output_type": "execute_result"
    }
   ],
   "source": [
    "winner_percentages = pdf_winners.groupby([\"rank\"])\\\n",
    ".agg({\"count\" : \"sum\"})[[\"count\"]]\\\n",
    ".apply(lambda x: 100*x/x.sum())\\\n",
    ".sort_values(by=\"rank\", ascending=True)\n",
    "\n",
    "winner_percentages"
   ]
  },
  {
   "cell_type": "code",
   "execution_count": 95,
   "metadata": {},
   "outputs": [
    {
     "data": {
      "text/plain": [
       "<AxesSubplot:title={'center':'Winners: Percentage Distribution by Rank'}, xlabel='rank', ylabel='Percentage of Winners'>"
      ]
     },
     "execution_count": 95,
     "metadata": {},
     "output_type": "execute_result"
    },
    {
     "data": {
      "image/png": "[encoded data removed]",
      "text/plain": [
       "<Figure size 2160x1080 with 1 Axes>"
      ]
     },
     "metadata": {},
     "output_type": "display_data"
    }
   ],
   "source": [
    "winner_percentages.plot(kind = 'bar', stacked=False, ylabel = 'Percentage of Winners', color = 'b', legend=False, title = 'Winners: Percentage Distribution by Rank')"
   ]
  },
  {
   "cell_type": "code",
   "execution_count": 40,
   "metadata": {},
   "outputs": [],
   "source": [
    "# looking at winners only in order to get % distribution by rank\n",
    "\n",
    "pdf_losers = pdf_1.loc[pdf_1['runner_status'] == \"LOSER\"]"
   ]
  },
  {
   "cell_type": "code",
   "execution_count": 41,
   "metadata": {},
   "outputs": [],
   "source": [
    "loser_percentages = pdf_losers.groupby([\"rank\"])\\\n",
    ".agg({\"count\" : \"sum\"})[[\"count\"]]\\\n",
    ".apply(lambda x: 100*x/x.sum())\\\n",
    ".sort_values(by=\"rank\", ascending=True)"
   ]
  },
  {
   "cell_type": "code",
   "execution_count": 96,
   "metadata": {},
   "outputs": [
    {
     "data": {
      "text/plain": [
       "<AxesSubplot:title={'center':'Losers: Percentage Distribution by Rank'}, xlabel='rank', ylabel='Percentage of Losers'>"
      ]
     },
     "execution_count": 96,
     "metadata": {},
     "output_type": "execute_result"
    },
    {
     "data": {
      "image/png": "[encoded data removed]",
      "text/plain": [
       "<Figure size 2160x1080 with 1 Axes>"
      ]
     },
     "metadata": {},
     "output_type": "display_data"
    }
   ],
   "source": [
    "loser_percentages.plot(kind = 'bar', stacked=False, ylabel = 'Percentage of Losers', legend=False, title = 'Losers: Percentage Distribution by Rank',  color='r', ylim =(0, 40))"
   ]
  },
  {
   "cell_type": "markdown",
   "metadata": {},
   "source": [
    "# Price movements"
   ]
  },
  {
   "cell_type": "code",
   "execution_count": 43,
   "metadata": {},
   "outputs": [],
   "source": [
    "runners_wbsp_GoldCup = runners_wbsp.filter(runners_wbsp.event_id=='27653664')"
   ]
  },
  {
   "cell_type": "code",
   "execution_count": 44,
   "metadata": {},
   "outputs": [],
   "source": [
    "runners_wbsp_GoldCup = runners_wbsp.filter(runners_wbsp.market_name=='2m6f Hcap Chs')"
   ]
  },
  {
   "cell_type": "code",
   "execution_count": 45,
   "metadata": {},
   "outputs": [
    {
     "name": "stderr",
     "output_type": "stream",
     "text": [
      "                                                                                \r"
     ]
    },
    {
     "name": "stdout",
     "output_type": "stream",
     "text": [
      "+--------------+--------------+-----------+-------------+--------+--------------+------------------------+---------+------------------+-------------+---+--------------------+\n",
      "|operation_type|published_time|  market_id|  market_name|event_id|    event_name|number_of_active_runners|runner_id|       runner_name|runner_status|bsp|runner_sort_priority|\n",
      "+--------------+--------------+-----------+-------------+--------+--------------+------------------------+---------+------------------+-------------+---+--------------------+\n",
      "|           mcm| 1452785180209|1.122576498|2m6f Hcap Chs|27653664|Thurl 14th Jan|                       0|  7011147|          He Rocks|        LOSER|  8|                   4|\n",
      "|           mcm| 1479563081187|1.128344068|2m6f Hcap Chs|28022833|Punch 19th Nov|                       0|  7843173|    Art Of Payroll|        LOSER| 32|                  10|\n",
      "|           mcm| 1480167761078|1.128448836|2m6f Hcap Chs|28029484| Newb 26th Nov|                       0|  7253667|        Full Shift|        LOSER| 19|                  11|\n",
      "|           mcm| 1476288591933|1.127548758|2m6f Hcap Chs|27969730|Punch 12th Oct|                       0|  8017182|   Eight Till Late|        LOSER| 16|                  10|\n",
      "|           mcm| 1480167761078|1.128448836|2m6f Hcap Chs|28029484| Newb 26th Nov|                       0|  6958488|   Generous Ransom|        LOSER|  8|                   5|\n",
      "|           mcm| 1471190695229|1.126191565|2m6f Hcap Chs|27887805| Tram 14th Aug|                       0|  6799913|        Best Value|        LOSER| 46|                  16|\n",
      "|           mcm| 1477926704876|1.127987843|2m6f Hcap Chs|27998128|  Gal 31st Oct|                       0|  9483275|     Gabrielleamee|        LOSER|216|                  15|\n",
      "|           mcm| 1472914022909|1.126613100|2m6f Hcap Chs|27913727| Strat 3rd Sep|                       0|  8922697|          Set List|        LOSER|  4|                   4|\n",
      "|           mcm| 1476545377720|1.127629942|2m6f Hcap Chs|27974536|Strat 15th Oct|                       0|  5284413|       Mr Robinson|        LOSER| 15|                   7|\n",
      "|           mcm| 1477924544693|1.127987838|2m6f Hcap Chs|27998128|  Gal 31st Oct|                       0|  2672168|    Orpheus Valley|        LOSER| 29|                  11|\n",
      "|           mcm| 1479563081187|1.128344068|2m6f Hcap Chs|28022833|Punch 19th Nov|                       0|  6298558|    On The Shannon|        LOSER| 29|                  11|\n",
      "|           mcm| 1468159166095|1.125531490|2m6f Hcap Chs|27849358|Strat 10th Jul|                       0|  8251301|          Tara Mac|        LOSER| 20|                   5|\n",
      "|           mcm| 1481120873159|1.128656713|2m6f Hcap Chs|28042311|   Hex 7th Dec|                       0|  4508991|           Munsaab|       WINNER| 12|                   9|\n",
      "|           mcm| 1477926704876|1.127987843|2m6f Hcap Chs|27998128|  Gal 31st Oct|                       0|  7359186|     Willow Grange|        LOSER| 10|                   5|\n",
      "|           mcm| 1478962970289|1.128210886|2m6f Hcap Chs|28013631|Uttox 12th Nov|                       0| 10966270|       Newtown Lad|       WINNER|  5|                   1|\n",
      "|           mcm| 1468765949154|1.125644484|2m6f Hcap Chs|27856084|Strat 17th Jul|                       0|  7792138|Relentless Dreamer|        LOSER|  7|                   2|\n",
      "|           mcm| 1471021139968|1.126124350|2m6f Hcap Chs|27885053| Tram 12th Aug|                       0|  8723382|           Elm Lee|        LOSER| 55|                  18|\n",
      "|           mcm| 1469813223680|1.125845258|2m6f Hcap Chs|27868240|  Gal 29th Jul|                       0|  7172114|         Kylestyle|        LOSER| 26|                  11|\n",
      "|           mcm| 1468765949154|1.125644484|2m6f Hcap Chs|27856084|Strat 17th Jul|                       0|  1305351|  Standing Ovation|        LOSER| 14|                   9|\n",
      "|           mcm| 1469813223680|1.125845258|2m6f Hcap Chs|27868240|  Gal 29th Jul|                       0|  5229841|         Tony Star|        LOSER| 36|                  13|\n",
      "+--------------+--------------+-----------+-------------+--------+--------------+------------------------+---------+------------------+-------------+---+--------------------+\n",
      "only showing top 20 rows\n",
      "\n"
     ]
    }
   ],
   "source": [
    "runners_wbsp_GoldCup.show()"
   ]
  },
  {
   "cell_type": "code",
   "execution_count": 46,
   "metadata": {},
   "outputs": [],
   "source": [
    "\n",
    "\n",
    "# Filter down to only the records that have rc (runner changes).\n",
    "rc_only = mc_exploded.filter(mc_exploded.mc_row.rc.isNotNull())\n",
    "\n",
    "# Explode the rc (runner changes) array.\n",
    "rc_exploded = rc_only.select(rc_only.op.alias('operation_type'),\n",
    "                             rc_only.pt.alias('published_time'),\n",
    "                             rc_only.mc_row.id.alias('market_id'),\n",
    "                             explode(rc_only.mc_row.rc).alias('runner_change_row'))\n",
    "\n",
    "rc_exploded = rc_exploded.filter(rc_exploded.market_id=='1.122576498')\n",
    "\n",
    "# Select the useful fields, and give them user friendly names.\n",
    "runner_changes = rc_exploded.selectExpr('operation_type',\n",
    "                                        'published_time',\n",
    "                                        'market_id',\n",
    "                                        'runner_change_row.id AS runner_id',\n",
    "                                        'runner_change_row.ltp AS last_traded_price')\n",
    "\n"
   ]
  },
  {
   "cell_type": "code",
   "execution_count": 47,
   "metadata": {},
   "outputs": [
    {
     "name": "stderr",
     "output_type": "stream",
     "text": [
      "                                                                                \r"
     ]
    }
   ],
   "source": [
    "# This market_id is for the a Thurles race in Jan 2016\n",
    "selection_condition = \"market_id = '1.122576498'\"\n",
    "\n",
    "chosen_runners = runners_wbsp.filter(selection_condition).selectExpr('market_id', \n",
    "                                                                'event_name', \n",
    "                                                                'market_name', \n",
    "                                                                'runner_id', \n",
    "                                                                'runner_name').distinct()\n",
    "\n",
    "# Runners have a 1:many relationship to Runner Changes, so do an inner join from Runners to Runner Changes.\n",
    "chosen_runner_changes = chosen_runners.join(runner_changes, chosen_runners.runner_id == runner_changes.runner_id).select(\n",
    "                        chosen_runners.market_id, \n",
    "                        chosen_runners.event_name, \n",
    "                        chosen_runners.market_name, \n",
    "                        chosen_runners.runner_id, \n",
    "                        chosen_runners.runner_name,\n",
    "                        runner_changes.published_time,\n",
    "                        runner_changes.last_traded_price\n",
    "                        ).orderBy('published_time').collect()"
   ]
  },
  {
   "cell_type": "code",
   "execution_count": 48,
   "metadata": {},
   "outputs": [
    {
     "name": "stderr",
     "output_type": "stream",
     "text": [
      "                                                                                \r"
     ]
    },
    {
     "name": "stdout",
     "output_type": "stream",
     "text": [
      "+-----------+--------------+-------------+---------+-----------------+\n",
      "|  market_id|    event_name|  market_name|runner_id|      runner_name|\n",
      "+-----------+--------------+-------------+---------+-----------------+\n",
      "|1.122576498|Thurl 14th Jan|2m6f Hcap Chs|  5415401|         Miradane|\n",
      "|1.122576498|Thurl 14th Jan|2m6f Hcap Chs|  7011147|         He Rocks|\n",
      "|1.122576498|Thurl 14th Jan|2m6f Hcap Chs|  7281856|          Tooreen|\n",
      "|1.122576498|Thurl 14th Jan|2m6f Hcap Chs|  5568158|     Mister First|\n",
      "|1.122576498|Thurl 14th Jan|2m6f Hcap Chs|  9153264|         Flynsini|\n",
      "|1.122576498|Thurl 14th Jan|2m6f Hcap Chs|  6939953|Coolnagorna Giggs|\n",
      "|1.122576498|Thurl 14th Jan|2m6f Hcap Chs|  8996652|      Shadow Play|\n",
      "|1.122576498|Thurl 14th Jan|2m6f Hcap Chs|  7253717|             Gary|\n",
      "|1.122576498|Thurl 14th Jan|2m6f Hcap Chs|  8742358|  Topper Thornton|\n",
      "|1.122576498|Thurl 14th Jan|2m6f Hcap Chs|   444842|     Winter Magic|\n",
      "|1.122576498|Thurl 14th Jan|2m6f Hcap Chs|  9483270|  Mountain Philip|\n",
      "+-----------+--------------+-------------+---------+-----------------+\n",
      "\n"
     ]
    }
   ],
   "source": [
    "chosen_runners.show()"
   ]
  },
  {
   "cell_type": "code",
   "execution_count": 49,
   "metadata": {},
   "outputs": [],
   "source": [
    "from pyspark.sql import Row"
   ]
  },
  {
   "cell_type": "code",
   "execution_count": 335,
   "metadata": {},
   "outputs": [],
   "source": [
    "crc = spark.createDataFrame(chosen_runner_changes)"
   ]
  },
  {
   "cell_type": "code",
   "execution_count": 336,
   "metadata": {},
   "outputs": [
    {
     "data": {
      "text/plain": [
       "1646"
      ]
     },
     "execution_count": 336,
     "metadata": {},
     "output_type": "execute_result"
    }
   ],
   "source": [
    "crc.count()"
   ]
  },
  {
   "cell_type": "code",
   "execution_count": 337,
   "metadata": {},
   "outputs": [],
   "source": [
    "crc = crc.dropDuplicates()"
   ]
  },
  {
   "cell_type": "code",
   "execution_count": 338,
   "metadata": {},
   "outputs": [
    {
     "name": "stderr",
     "output_type": "stream",
     "text": [
      "                                                                                \r"
     ]
    },
    {
     "data": {
      "text/plain": [
       "823"
      ]
     },
     "execution_count": 338,
     "metadata": {},
     "output_type": "execute_result"
    }
   ],
   "source": [
    "crc.count()"
   ]
  },
  {
   "cell_type": "code",
   "execution_count": 339,
   "metadata": {},
   "outputs": [],
   "source": [
    "crc = crc.sort(\"published_time\")"
   ]
  },
  {
   "cell_type": "code",
   "execution_count": 340,
   "metadata": {},
   "outputs": [],
   "source": [
    "#crc = crc.withColumn(\"published_time\", crc[\"published_time\"].cast(IntegerType()))"
   ]
  },
  {
   "cell_type": "code",
   "execution_count": 341,
   "metadata": {},
   "outputs": [],
   "source": [
    "crc = crc.filter(crc.published_time >= 1452784500000)"
   ]
  },
  {
   "cell_type": "code",
   "execution_count": 342,
   "metadata": {},
   "outputs": [],
   "source": [
    "l = ['Coolnagorna Giggs','Gary','Winter Magic','Topper Thornton','Mountain Philip','Flynsini']\n",
    "crc = crc.filter(crc.runner_name.isin(l))"
   ]
  },
  {
   "cell_type": "code",
   "execution_count": 343,
   "metadata": {},
   "outputs": [],
   "source": [
    "############################################################\n",
    "crc1 = crc.toPandas() \n",
    "############################################################"
   ]
  },
  {
   "cell_type": "code",
   "execution_count": 344,
   "metadata": {},
   "outputs": [
    {
     "data": {
      "text/html": [
       "<div>\n",
       "<style scoped>\n",
       "    .dataframe tbody tr th:only-of-type {\n",
       "        vertical-align: middle;\n",
       "    }\n",
       "\n",
       "    .dataframe tbody tr th {\n",
       "        vertical-align: top;\n",
       "    }\n",
       "\n",
       "    .dataframe thead th {\n",
       "        text-align: right;\n",
       "    }\n",
       "</style>\n",
       "<table border=\"1\" class=\"dataframe\">\n",
       "  <thead>\n",
       "    <tr style=\"text-align: right;\">\n",
       "      <th></th>\n",
       "      <th>market_id</th>\n",
       "      <th>event_name</th>\n",
       "      <th>market_name</th>\n",
       "      <th>runner_id</th>\n",
       "      <th>runner_name</th>\n",
       "      <th>published_time</th>\n",
       "      <th>last_traded_price</th>\n",
       "    </tr>\n",
       "  </thead>\n",
       "  <tbody>\n",
       "    <tr>\n",
       "      <th>0</th>\n",
       "      <td>1.122576498</td>\n",
       "      <td>Thurl 14th Jan</td>\n",
       "      <td>2m6f Hcap Chs</td>\n",
       "      <td>444842</td>\n",
       "      <td>Winter Magic</td>\n",
       "      <td>1452784520247</td>\n",
       "      <td>4.3</td>\n",
       "    </tr>\n",
       "    <tr>\n",
       "      <th>1</th>\n",
       "      <td>1.122576498</td>\n",
       "      <td>Thurl 14th Jan</td>\n",
       "      <td>2m6f Hcap Chs</td>\n",
       "      <td>9483270</td>\n",
       "      <td>Mountain Philip</td>\n",
       "      <td>1452784520247</td>\n",
       "      <td>30.0</td>\n",
       "    </tr>\n",
       "    <tr>\n",
       "      <th>2</th>\n",
       "      <td>1.122576498</td>\n",
       "      <td>Thurl 14th Jan</td>\n",
       "      <td>2m6f Hcap Chs</td>\n",
       "      <td>8742358</td>\n",
       "      <td>Topper Thornton</td>\n",
       "      <td>1452784520247</td>\n",
       "      <td>10.5</td>\n",
       "    </tr>\n",
       "    <tr>\n",
       "      <th>3</th>\n",
       "      <td>1.122576498</td>\n",
       "      <td>Thurl 14th Jan</td>\n",
       "      <td>2m6f Hcap Chs</td>\n",
       "      <td>9153264</td>\n",
       "      <td>Flynsini</td>\n",
       "      <td>1452784520247</td>\n",
       "      <td>36.0</td>\n",
       "    </tr>\n",
       "    <tr>\n",
       "      <th>4</th>\n",
       "      <td>1.122576498</td>\n",
       "      <td>Thurl 14th Jan</td>\n",
       "      <td>2m6f Hcap Chs</td>\n",
       "      <td>6939953</td>\n",
       "      <td>Coolnagorna Giggs</td>\n",
       "      <td>1452784520247</td>\n",
       "      <td>6.8</td>\n",
       "    </tr>\n",
       "  </tbody>\n",
       "</table>\n",
       "</div>"
      ],
      "text/plain": [
       "     market_id      event_name    market_name  runner_id        runner_name  \\\n",
       "0  1.122576498  Thurl 14th Jan  2m6f Hcap Chs     444842       Winter Magic   \n",
       "1  1.122576498  Thurl 14th Jan  2m6f Hcap Chs    9483270    Mountain Philip   \n",
       "2  1.122576498  Thurl 14th Jan  2m6f Hcap Chs    8742358    Topper Thornton   \n",
       "3  1.122576498  Thurl 14th Jan  2m6f Hcap Chs    9153264           Flynsini   \n",
       "4  1.122576498  Thurl 14th Jan  2m6f Hcap Chs    6939953  Coolnagorna Giggs   \n",
       "\n",
       "   published_time  last_traded_price  \n",
       "0   1452784520247                4.3  \n",
       "1   1452784520247               30.0  \n",
       "2   1452784520247               10.5  \n",
       "3   1452784520247               36.0  \n",
       "4   1452784520247                6.8  "
      ]
     },
     "execution_count": 344,
     "metadata": {},
     "output_type": "execute_result"
    }
   ],
   "source": [
    "crc1.head()"
   ]
  },
  {
   "cell_type": "code",
   "execution_count": 345,
   "metadata": {},
   "outputs": [
    {
     "data": {
      "text/html": [
       "<div>\n",
       "<style scoped>\n",
       "    .dataframe tbody tr th:only-of-type {\n",
       "        vertical-align: middle;\n",
       "    }\n",
       "\n",
       "    .dataframe tbody tr th {\n",
       "        vertical-align: top;\n",
       "    }\n",
       "\n",
       "    .dataframe thead th {\n",
       "        text-align: right;\n",
       "    }\n",
       "</style>\n",
       "<table border=\"1\" class=\"dataframe\">\n",
       "  <thead>\n",
       "    <tr style=\"text-align: right;\">\n",
       "      <th></th>\n",
       "      <th>market_id</th>\n",
       "      <th>event_name</th>\n",
       "      <th>market_name</th>\n",
       "      <th>runner_id</th>\n",
       "      <th>runner_name</th>\n",
       "      <th>published_time</th>\n",
       "      <th>last_traded_price</th>\n",
       "    </tr>\n",
       "  </thead>\n",
       "  <tbody>\n",
       "    <tr>\n",
       "      <th>35</th>\n",
       "      <td>1.122576498</td>\n",
       "      <td>Thurl 14th Jan</td>\n",
       "      <td>2m6f Hcap Chs</td>\n",
       "      <td>9153264</td>\n",
       "      <td>Flynsini</td>\n",
       "      <td>1452784880176</td>\n",
       "      <td>7.00</td>\n",
       "    </tr>\n",
       "    <tr>\n",
       "      <th>36</th>\n",
       "      <td>1.122576498</td>\n",
       "      <td>Thurl 14th Jan</td>\n",
       "      <td>2m6f Hcap Chs</td>\n",
       "      <td>444842</td>\n",
       "      <td>Winter Magic</td>\n",
       "      <td>1452784880176</td>\n",
       "      <td>1000.00</td>\n",
       "    </tr>\n",
       "    <tr>\n",
       "      <th>37</th>\n",
       "      <td>1.122576498</td>\n",
       "      <td>Thurl 14th Jan</td>\n",
       "      <td>2m6f Hcap Chs</td>\n",
       "      <td>8742358</td>\n",
       "      <td>Topper Thornton</td>\n",
       "      <td>1452784880176</td>\n",
       "      <td>1000.00</td>\n",
       "    </tr>\n",
       "    <tr>\n",
       "      <th>38</th>\n",
       "      <td>1.122576498</td>\n",
       "      <td>Thurl 14th Jan</td>\n",
       "      <td>2m6f Hcap Chs</td>\n",
       "      <td>9153264</td>\n",
       "      <td>Flynsini</td>\n",
       "      <td>1452784940171</td>\n",
       "      <td>1000.00</td>\n",
       "    </tr>\n",
       "    <tr>\n",
       "      <th>39</th>\n",
       "      <td>1.122576498</td>\n",
       "      <td>Thurl 14th Jan</td>\n",
       "      <td>2m6f Hcap Chs</td>\n",
       "      <td>6939953</td>\n",
       "      <td>Coolnagorna Giggs</td>\n",
       "      <td>1452784940171</td>\n",
       "      <td>1.01</td>\n",
       "    </tr>\n",
       "  </tbody>\n",
       "</table>\n",
       "</div>"
      ],
      "text/plain": [
       "      market_id      event_name    market_name  runner_id        runner_name  \\\n",
       "35  1.122576498  Thurl 14th Jan  2m6f Hcap Chs    9153264           Flynsini   \n",
       "36  1.122576498  Thurl 14th Jan  2m6f Hcap Chs     444842       Winter Magic   \n",
       "37  1.122576498  Thurl 14th Jan  2m6f Hcap Chs    8742358    Topper Thornton   \n",
       "38  1.122576498  Thurl 14th Jan  2m6f Hcap Chs    9153264           Flynsini   \n",
       "39  1.122576498  Thurl 14th Jan  2m6f Hcap Chs    6939953  Coolnagorna Giggs   \n",
       "\n",
       "    published_time  last_traded_price  \n",
       "35   1452784880176               7.00  \n",
       "36   1452784880176            1000.00  \n",
       "37   1452784880176            1000.00  \n",
       "38   1452784940171            1000.00  \n",
       "39   1452784940171               1.01  "
      ]
     },
     "execution_count": 345,
     "metadata": {},
     "output_type": "execute_result"
    }
   ],
   "source": [
    "crc1.tail()"
   ]
  },
  {
   "cell_type": "code",
   "execution_count": 346,
   "metadata": {},
   "outputs": [],
   "source": [
    "from datetime import datetime"
   ]
  },
  {
   "cell_type": "code",
   "execution_count": 347,
   "metadata": {},
   "outputs": [],
   "source": [
    "crc1[\"time\"]= crc1.published_time/1000"
   ]
  },
  {
   "cell_type": "code",
   "execution_count": 348,
   "metadata": {},
   "outputs": [],
   "source": [
    "crc1[\"datetime\"] = pd.to_datetime(crc1[\"time\"],unit='s')"
   ]
  },
  {
   "cell_type": "code",
   "execution_count": 349,
   "metadata": {},
   "outputs": [],
   "source": [
    "crc1['mins'] = crc1['datetime'].dt.minute\n",
    "crc1['hour'] = crc1['datetime'].dt.hour"
   ]
  },
  {
   "cell_type": "code",
   "execution_count": 350,
   "metadata": {},
   "outputs": [
    {
     "data": {
      "text/html": [
       "<div>\n",
       "<style scoped>\n",
       "    .dataframe tbody tr th:only-of-type {\n",
       "        vertical-align: middle;\n",
       "    }\n",
       "\n",
       "    .dataframe tbody tr th {\n",
       "        vertical-align: top;\n",
       "    }\n",
       "\n",
       "    .dataframe thead th {\n",
       "        text-align: right;\n",
       "    }\n",
       "</style>\n",
       "<table border=\"1\" class=\"dataframe\">\n",
       "  <thead>\n",
       "    <tr style=\"text-align: right;\">\n",
       "      <th></th>\n",
       "      <th>market_id</th>\n",
       "      <th>event_name</th>\n",
       "      <th>market_name</th>\n",
       "      <th>runner_id</th>\n",
       "      <th>runner_name</th>\n",
       "      <th>published_time</th>\n",
       "      <th>last_traded_price</th>\n",
       "      <th>time</th>\n",
       "      <th>datetime</th>\n",
       "      <th>mins</th>\n",
       "      <th>hour</th>\n",
       "    </tr>\n",
       "  </thead>\n",
       "  <tbody>\n",
       "    <tr>\n",
       "      <th>0</th>\n",
       "      <td>1.122576498</td>\n",
       "      <td>Thurl 14th Jan</td>\n",
       "      <td>2m6f Hcap Chs</td>\n",
       "      <td>444842</td>\n",
       "      <td>Winter Magic</td>\n",
       "      <td>1452784520247</td>\n",
       "      <td>4.30</td>\n",
       "      <td>1.452785e+09</td>\n",
       "      <td>2016-01-14 15:15:20.247000064</td>\n",
       "      <td>15</td>\n",
       "      <td>15</td>\n",
       "    </tr>\n",
       "    <tr>\n",
       "      <th>1</th>\n",
       "      <td>1.122576498</td>\n",
       "      <td>Thurl 14th Jan</td>\n",
       "      <td>2m6f Hcap Chs</td>\n",
       "      <td>9483270</td>\n",
       "      <td>Mountain Philip</td>\n",
       "      <td>1452784520247</td>\n",
       "      <td>30.00</td>\n",
       "      <td>1.452785e+09</td>\n",
       "      <td>2016-01-14 15:15:20.247000064</td>\n",
       "      <td>15</td>\n",
       "      <td>15</td>\n",
       "    </tr>\n",
       "    <tr>\n",
       "      <th>2</th>\n",
       "      <td>1.122576498</td>\n",
       "      <td>Thurl 14th Jan</td>\n",
       "      <td>2m6f Hcap Chs</td>\n",
       "      <td>8742358</td>\n",
       "      <td>Topper Thornton</td>\n",
       "      <td>1452784520247</td>\n",
       "      <td>10.50</td>\n",
       "      <td>1.452785e+09</td>\n",
       "      <td>2016-01-14 15:15:20.247000064</td>\n",
       "      <td>15</td>\n",
       "      <td>15</td>\n",
       "    </tr>\n",
       "    <tr>\n",
       "      <th>3</th>\n",
       "      <td>1.122576498</td>\n",
       "      <td>Thurl 14th Jan</td>\n",
       "      <td>2m6f Hcap Chs</td>\n",
       "      <td>9153264</td>\n",
       "      <td>Flynsini</td>\n",
       "      <td>1452784520247</td>\n",
       "      <td>36.00</td>\n",
       "      <td>1.452785e+09</td>\n",
       "      <td>2016-01-14 15:15:20.247000064</td>\n",
       "      <td>15</td>\n",
       "      <td>15</td>\n",
       "    </tr>\n",
       "    <tr>\n",
       "      <th>4</th>\n",
       "      <td>1.122576498</td>\n",
       "      <td>Thurl 14th Jan</td>\n",
       "      <td>2m6f Hcap Chs</td>\n",
       "      <td>6939953</td>\n",
       "      <td>Coolnagorna Giggs</td>\n",
       "      <td>1452784520247</td>\n",
       "      <td>6.80</td>\n",
       "      <td>1.452785e+09</td>\n",
       "      <td>2016-01-14 15:15:20.247000064</td>\n",
       "      <td>15</td>\n",
       "      <td>15</td>\n",
       "    </tr>\n",
       "    <tr>\n",
       "      <th>5</th>\n",
       "      <td>1.122576498</td>\n",
       "      <td>Thurl 14th Jan</td>\n",
       "      <td>2m6f Hcap Chs</td>\n",
       "      <td>7253717</td>\n",
       "      <td>Gary</td>\n",
       "      <td>1452784520247</td>\n",
       "      <td>55.00</td>\n",
       "      <td>1.452785e+09</td>\n",
       "      <td>2016-01-14 15:15:20.247000064</td>\n",
       "      <td>15</td>\n",
       "      <td>15</td>\n",
       "    </tr>\n",
       "    <tr>\n",
       "      <th>6</th>\n",
       "      <td>1.122576498</td>\n",
       "      <td>Thurl 14th Jan</td>\n",
       "      <td>2m6f Hcap Chs</td>\n",
       "      <td>444842</td>\n",
       "      <td>Winter Magic</td>\n",
       "      <td>1452784580202</td>\n",
       "      <td>4.90</td>\n",
       "      <td>1.452785e+09</td>\n",
       "      <td>2016-01-14 15:16:20.201999872</td>\n",
       "      <td>16</td>\n",
       "      <td>15</td>\n",
       "    </tr>\n",
       "    <tr>\n",
       "      <th>7</th>\n",
       "      <td>1.122576498</td>\n",
       "      <td>Thurl 14th Jan</td>\n",
       "      <td>2m6f Hcap Chs</td>\n",
       "      <td>9153264</td>\n",
       "      <td>Flynsini</td>\n",
       "      <td>1452784580202</td>\n",
       "      <td>38.00</td>\n",
       "      <td>1.452785e+09</td>\n",
       "      <td>2016-01-14 15:16:20.201999872</td>\n",
       "      <td>16</td>\n",
       "      <td>15</td>\n",
       "    </tr>\n",
       "    <tr>\n",
       "      <th>8</th>\n",
       "      <td>1.122576498</td>\n",
       "      <td>Thurl 14th Jan</td>\n",
       "      <td>2m6f Hcap Chs</td>\n",
       "      <td>7253717</td>\n",
       "      <td>Gary</td>\n",
       "      <td>1452784580202</td>\n",
       "      <td>75.00</td>\n",
       "      <td>1.452785e+09</td>\n",
       "      <td>2016-01-14 15:16:20.201999872</td>\n",
       "      <td>16</td>\n",
       "      <td>15</td>\n",
       "    </tr>\n",
       "    <tr>\n",
       "      <th>9</th>\n",
       "      <td>1.122576498</td>\n",
       "      <td>Thurl 14th Jan</td>\n",
       "      <td>2m6f Hcap Chs</td>\n",
       "      <td>6939953</td>\n",
       "      <td>Coolnagorna Giggs</td>\n",
       "      <td>1452784580202</td>\n",
       "      <td>5.20</td>\n",
       "      <td>1.452785e+09</td>\n",
       "      <td>2016-01-14 15:16:20.201999872</td>\n",
       "      <td>16</td>\n",
       "      <td>15</td>\n",
       "    </tr>\n",
       "    <tr>\n",
       "      <th>10</th>\n",
       "      <td>1.122576498</td>\n",
       "      <td>Thurl 14th Jan</td>\n",
       "      <td>2m6f Hcap Chs</td>\n",
       "      <td>9483270</td>\n",
       "      <td>Mountain Philip</td>\n",
       "      <td>1452784580202</td>\n",
       "      <td>38.00</td>\n",
       "      <td>1.452785e+09</td>\n",
       "      <td>2016-01-14 15:16:20.201999872</td>\n",
       "      <td>16</td>\n",
       "      <td>15</td>\n",
       "    </tr>\n",
       "    <tr>\n",
       "      <th>11</th>\n",
       "      <td>1.122576498</td>\n",
       "      <td>Thurl 14th Jan</td>\n",
       "      <td>2m6f Hcap Chs</td>\n",
       "      <td>444842</td>\n",
       "      <td>Winter Magic</td>\n",
       "      <td>1452784640215</td>\n",
       "      <td>3.95</td>\n",
       "      <td>1.452785e+09</td>\n",
       "      <td>2016-01-14 15:17:20.214999808</td>\n",
       "      <td>17</td>\n",
       "      <td>15</td>\n",
       "    </tr>\n",
       "    <tr>\n",
       "      <th>12</th>\n",
       "      <td>1.122576498</td>\n",
       "      <td>Thurl 14th Jan</td>\n",
       "      <td>2m6f Hcap Chs</td>\n",
       "      <td>7253717</td>\n",
       "      <td>Gary</td>\n",
       "      <td>1452784640215</td>\n",
       "      <td>48.00</td>\n",
       "      <td>1.452785e+09</td>\n",
       "      <td>2016-01-14 15:17:20.214999808</td>\n",
       "      <td>17</td>\n",
       "      <td>15</td>\n",
       "    </tr>\n",
       "    <tr>\n",
       "      <th>13</th>\n",
       "      <td>1.122576498</td>\n",
       "      <td>Thurl 14th Jan</td>\n",
       "      <td>2m6f Hcap Chs</td>\n",
       "      <td>8742358</td>\n",
       "      <td>Topper Thornton</td>\n",
       "      <td>1452784640215</td>\n",
       "      <td>13.50</td>\n",
       "      <td>1.452785e+09</td>\n",
       "      <td>2016-01-14 15:17:20.214999808</td>\n",
       "      <td>17</td>\n",
       "      <td>15</td>\n",
       "    </tr>\n",
       "    <tr>\n",
       "      <th>14</th>\n",
       "      <td>1.122576498</td>\n",
       "      <td>Thurl 14th Jan</td>\n",
       "      <td>2m6f Hcap Chs</td>\n",
       "      <td>9483270</td>\n",
       "      <td>Mountain Philip</td>\n",
       "      <td>1452784640215</td>\n",
       "      <td>100.00</td>\n",
       "      <td>1.452785e+09</td>\n",
       "      <td>2016-01-14 15:17:20.214999808</td>\n",
       "      <td>17</td>\n",
       "      <td>15</td>\n",
       "    </tr>\n",
       "    <tr>\n",
       "      <th>15</th>\n",
       "      <td>1.122576498</td>\n",
       "      <td>Thurl 14th Jan</td>\n",
       "      <td>2m6f Hcap Chs</td>\n",
       "      <td>6939953</td>\n",
       "      <td>Coolnagorna Giggs</td>\n",
       "      <td>1452784640215</td>\n",
       "      <td>5.10</td>\n",
       "      <td>1.452785e+09</td>\n",
       "      <td>2016-01-14 15:17:20.214999808</td>\n",
       "      <td>17</td>\n",
       "      <td>15</td>\n",
       "    </tr>\n",
       "    <tr>\n",
       "      <th>16</th>\n",
       "      <td>1.122576498</td>\n",
       "      <td>Thurl 14th Jan</td>\n",
       "      <td>2m6f Hcap Chs</td>\n",
       "      <td>7253717</td>\n",
       "      <td>Gary</td>\n",
       "      <td>1452784700250</td>\n",
       "      <td>34.00</td>\n",
       "      <td>1.452785e+09</td>\n",
       "      <td>2016-01-14 15:18:20.249999872</td>\n",
       "      <td>18</td>\n",
       "      <td>15</td>\n",
       "    </tr>\n",
       "    <tr>\n",
       "      <th>17</th>\n",
       "      <td>1.122576498</td>\n",
       "      <td>Thurl 14th Jan</td>\n",
       "      <td>2m6f Hcap Chs</td>\n",
       "      <td>6939953</td>\n",
       "      <td>Coolnagorna Giggs</td>\n",
       "      <td>1452784700250</td>\n",
       "      <td>4.90</td>\n",
       "      <td>1.452785e+09</td>\n",
       "      <td>2016-01-14 15:18:20.249999872</td>\n",
       "      <td>18</td>\n",
       "      <td>15</td>\n",
       "    </tr>\n",
       "    <tr>\n",
       "      <th>18</th>\n",
       "      <td>1.122576498</td>\n",
       "      <td>Thurl 14th Jan</td>\n",
       "      <td>2m6f Hcap Chs</td>\n",
       "      <td>444842</td>\n",
       "      <td>Winter Magic</td>\n",
       "      <td>1452784700250</td>\n",
       "      <td>4.20</td>\n",
       "      <td>1.452785e+09</td>\n",
       "      <td>2016-01-14 15:18:20.249999872</td>\n",
       "      <td>18</td>\n",
       "      <td>15</td>\n",
       "    </tr>\n",
       "    <tr>\n",
       "      <th>19</th>\n",
       "      <td>1.122576498</td>\n",
       "      <td>Thurl 14th Jan</td>\n",
       "      <td>2m6f Hcap Chs</td>\n",
       "      <td>8742358</td>\n",
       "      <td>Topper Thornton</td>\n",
       "      <td>1452784700250</td>\n",
       "      <td>17.50</td>\n",
       "      <td>1.452785e+09</td>\n",
       "      <td>2016-01-14 15:18:20.249999872</td>\n",
       "      <td>18</td>\n",
       "      <td>15</td>\n",
       "    </tr>\n",
       "    <tr>\n",
       "      <th>20</th>\n",
       "      <td>1.122576498</td>\n",
       "      <td>Thurl 14th Jan</td>\n",
       "      <td>2m6f Hcap Chs</td>\n",
       "      <td>9483270</td>\n",
       "      <td>Mountain Philip</td>\n",
       "      <td>1452784700250</td>\n",
       "      <td>120.00</td>\n",
       "      <td>1.452785e+09</td>\n",
       "      <td>2016-01-14 15:18:20.249999872</td>\n",
       "      <td>18</td>\n",
       "      <td>15</td>\n",
       "    </tr>\n",
       "    <tr>\n",
       "      <th>21</th>\n",
       "      <td>1.122576498</td>\n",
       "      <td>Thurl 14th Jan</td>\n",
       "      <td>2m6f Hcap Chs</td>\n",
       "      <td>9153264</td>\n",
       "      <td>Flynsini</td>\n",
       "      <td>1452784700250</td>\n",
       "      <td>32.00</td>\n",
       "      <td>1.452785e+09</td>\n",
       "      <td>2016-01-14 15:18:20.249999872</td>\n",
       "      <td>18</td>\n",
       "      <td>15</td>\n",
       "    </tr>\n",
       "    <tr>\n",
       "      <th>22</th>\n",
       "      <td>1.122576498</td>\n",
       "      <td>Thurl 14th Jan</td>\n",
       "      <td>2m6f Hcap Chs</td>\n",
       "      <td>6939953</td>\n",
       "      <td>Coolnagorna Giggs</td>\n",
       "      <td>1452784760229</td>\n",
       "      <td>7.60</td>\n",
       "      <td>1.452785e+09</td>\n",
       "      <td>2016-01-14 15:19:20.229000192</td>\n",
       "      <td>19</td>\n",
       "      <td>15</td>\n",
       "    </tr>\n",
       "    <tr>\n",
       "      <th>23</th>\n",
       "      <td>1.122576498</td>\n",
       "      <td>Thurl 14th Jan</td>\n",
       "      <td>2m6f Hcap Chs</td>\n",
       "      <td>9483270</td>\n",
       "      <td>Mountain Philip</td>\n",
       "      <td>1452784760229</td>\n",
       "      <td>250.00</td>\n",
       "      <td>1.452785e+09</td>\n",
       "      <td>2016-01-14 15:19:20.229000192</td>\n",
       "      <td>19</td>\n",
       "      <td>15</td>\n",
       "    </tr>\n",
       "    <tr>\n",
       "      <th>24</th>\n",
       "      <td>1.122576498</td>\n",
       "      <td>Thurl 14th Jan</td>\n",
       "      <td>2m6f Hcap Chs</td>\n",
       "      <td>9153264</td>\n",
       "      <td>Flynsini</td>\n",
       "      <td>1452784760229</td>\n",
       "      <td>38.00</td>\n",
       "      <td>1.452785e+09</td>\n",
       "      <td>2016-01-14 15:19:20.229000192</td>\n",
       "      <td>19</td>\n",
       "      <td>15</td>\n",
       "    </tr>\n",
       "    <tr>\n",
       "      <th>25</th>\n",
       "      <td>1.122576498</td>\n",
       "      <td>Thurl 14th Jan</td>\n",
       "      <td>2m6f Hcap Chs</td>\n",
       "      <td>444842</td>\n",
       "      <td>Winter Magic</td>\n",
       "      <td>1452784760229</td>\n",
       "      <td>3.40</td>\n",
       "      <td>1.452785e+09</td>\n",
       "      <td>2016-01-14 15:19:20.229000192</td>\n",
       "      <td>19</td>\n",
       "      <td>15</td>\n",
       "    </tr>\n",
       "    <tr>\n",
       "      <th>26</th>\n",
       "      <td>1.122576498</td>\n",
       "      <td>Thurl 14th Jan</td>\n",
       "      <td>2m6f Hcap Chs</td>\n",
       "      <td>8742358</td>\n",
       "      <td>Topper Thornton</td>\n",
       "      <td>1452784760229</td>\n",
       "      <td>15.00</td>\n",
       "      <td>1.452785e+09</td>\n",
       "      <td>2016-01-14 15:19:20.229000192</td>\n",
       "      <td>19</td>\n",
       "      <td>15</td>\n",
       "    </tr>\n",
       "    <tr>\n",
       "      <th>27</th>\n",
       "      <td>1.122576498</td>\n",
       "      <td>Thurl 14th Jan</td>\n",
       "      <td>2m6f Hcap Chs</td>\n",
       "      <td>7253717</td>\n",
       "      <td>Gary</td>\n",
       "      <td>1452784760229</td>\n",
       "      <td>80.00</td>\n",
       "      <td>1.452785e+09</td>\n",
       "      <td>2016-01-14 15:19:20.229000192</td>\n",
       "      <td>19</td>\n",
       "      <td>15</td>\n",
       "    </tr>\n",
       "    <tr>\n",
       "      <th>28</th>\n",
       "      <td>1.122576498</td>\n",
       "      <td>Thurl 14th Jan</td>\n",
       "      <td>2m6f Hcap Chs</td>\n",
       "      <td>8742358</td>\n",
       "      <td>Topper Thornton</td>\n",
       "      <td>1452784820213</td>\n",
       "      <td>21.00</td>\n",
       "      <td>1.452785e+09</td>\n",
       "      <td>2016-01-14 15:20:20.212999936</td>\n",
       "      <td>20</td>\n",
       "      <td>15</td>\n",
       "    </tr>\n",
       "    <tr>\n",
       "      <th>29</th>\n",
       "      <td>1.122576498</td>\n",
       "      <td>Thurl 14th Jan</td>\n",
       "      <td>2m6f Hcap Chs</td>\n",
       "      <td>6939953</td>\n",
       "      <td>Coolnagorna Giggs</td>\n",
       "      <td>1452784820213</td>\n",
       "      <td>3.70</td>\n",
       "      <td>1.452785e+09</td>\n",
       "      <td>2016-01-14 15:20:20.212999936</td>\n",
       "      <td>20</td>\n",
       "      <td>15</td>\n",
       "    </tr>\n",
       "    <tr>\n",
       "      <th>30</th>\n",
       "      <td>1.122576498</td>\n",
       "      <td>Thurl 14th Jan</td>\n",
       "      <td>2m6f Hcap Chs</td>\n",
       "      <td>7253717</td>\n",
       "      <td>Gary</td>\n",
       "      <td>1452784820213</td>\n",
       "      <td>1000.00</td>\n",
       "      <td>1.452785e+09</td>\n",
       "      <td>2016-01-14 15:20:20.212999936</td>\n",
       "      <td>20</td>\n",
       "      <td>15</td>\n",
       "    </tr>\n",
       "    <tr>\n",
       "      <th>31</th>\n",
       "      <td>1.122576498</td>\n",
       "      <td>Thurl 14th Jan</td>\n",
       "      <td>2m6f Hcap Chs</td>\n",
       "      <td>444842</td>\n",
       "      <td>Winter Magic</td>\n",
       "      <td>1452784820213</td>\n",
       "      <td>4.60</td>\n",
       "      <td>1.452785e+09</td>\n",
       "      <td>2016-01-14 15:20:20.212999936</td>\n",
       "      <td>20</td>\n",
       "      <td>15</td>\n",
       "    </tr>\n",
       "    <tr>\n",
       "      <th>32</th>\n",
       "      <td>1.122576498</td>\n",
       "      <td>Thurl 14th Jan</td>\n",
       "      <td>2m6f Hcap Chs</td>\n",
       "      <td>9483270</td>\n",
       "      <td>Mountain Philip</td>\n",
       "      <td>1452784820213</td>\n",
       "      <td>1000.00</td>\n",
       "      <td>1.452785e+09</td>\n",
       "      <td>2016-01-14 15:20:20.212999936</td>\n",
       "      <td>20</td>\n",
       "      <td>15</td>\n",
       "    </tr>\n",
       "    <tr>\n",
       "      <th>33</th>\n",
       "      <td>1.122576498</td>\n",
       "      <td>Thurl 14th Jan</td>\n",
       "      <td>2m6f Hcap Chs</td>\n",
       "      <td>9153264</td>\n",
       "      <td>Flynsini</td>\n",
       "      <td>1452784820213</td>\n",
       "      <td>42.00</td>\n",
       "      <td>1.452785e+09</td>\n",
       "      <td>2016-01-14 15:20:20.212999936</td>\n",
       "      <td>20</td>\n",
       "      <td>15</td>\n",
       "    </tr>\n",
       "    <tr>\n",
       "      <th>34</th>\n",
       "      <td>1.122576498</td>\n",
       "      <td>Thurl 14th Jan</td>\n",
       "      <td>2m6f Hcap Chs</td>\n",
       "      <td>6939953</td>\n",
       "      <td>Coolnagorna Giggs</td>\n",
       "      <td>1452784880176</td>\n",
       "      <td>1.56</td>\n",
       "      <td>1.452785e+09</td>\n",
       "      <td>2016-01-14 15:21:20.176000000</td>\n",
       "      <td>21</td>\n",
       "      <td>15</td>\n",
       "    </tr>\n",
       "    <tr>\n",
       "      <th>35</th>\n",
       "      <td>1.122576498</td>\n",
       "      <td>Thurl 14th Jan</td>\n",
       "      <td>2m6f Hcap Chs</td>\n",
       "      <td>9153264</td>\n",
       "      <td>Flynsini</td>\n",
       "      <td>1452784880176</td>\n",
       "      <td>7.00</td>\n",
       "      <td>1.452785e+09</td>\n",
       "      <td>2016-01-14 15:21:20.176000000</td>\n",
       "      <td>21</td>\n",
       "      <td>15</td>\n",
       "    </tr>\n",
       "    <tr>\n",
       "      <th>36</th>\n",
       "      <td>1.122576498</td>\n",
       "      <td>Thurl 14th Jan</td>\n",
       "      <td>2m6f Hcap Chs</td>\n",
       "      <td>444842</td>\n",
       "      <td>Winter Magic</td>\n",
       "      <td>1452784880176</td>\n",
       "      <td>1000.00</td>\n",
       "      <td>1.452785e+09</td>\n",
       "      <td>2016-01-14 15:21:20.176000000</td>\n",
       "      <td>21</td>\n",
       "      <td>15</td>\n",
       "    </tr>\n",
       "    <tr>\n",
       "      <th>37</th>\n",
       "      <td>1.122576498</td>\n",
       "      <td>Thurl 14th Jan</td>\n",
       "      <td>2m6f Hcap Chs</td>\n",
       "      <td>8742358</td>\n",
       "      <td>Topper Thornton</td>\n",
       "      <td>1452784880176</td>\n",
       "      <td>1000.00</td>\n",
       "      <td>1.452785e+09</td>\n",
       "      <td>2016-01-14 15:21:20.176000000</td>\n",
       "      <td>21</td>\n",
       "      <td>15</td>\n",
       "    </tr>\n",
       "    <tr>\n",
       "      <th>38</th>\n",
       "      <td>1.122576498</td>\n",
       "      <td>Thurl 14th Jan</td>\n",
       "      <td>2m6f Hcap Chs</td>\n",
       "      <td>9153264</td>\n",
       "      <td>Flynsini</td>\n",
       "      <td>1452784940171</td>\n",
       "      <td>1000.00</td>\n",
       "      <td>1.452785e+09</td>\n",
       "      <td>2016-01-14 15:22:20.171000064</td>\n",
       "      <td>22</td>\n",
       "      <td>15</td>\n",
       "    </tr>\n",
       "    <tr>\n",
       "      <th>39</th>\n",
       "      <td>1.122576498</td>\n",
       "      <td>Thurl 14th Jan</td>\n",
       "      <td>2m6f Hcap Chs</td>\n",
       "      <td>6939953</td>\n",
       "      <td>Coolnagorna Giggs</td>\n",
       "      <td>1452784940171</td>\n",
       "      <td>1.01</td>\n",
       "      <td>1.452785e+09</td>\n",
       "      <td>2016-01-14 15:22:20.171000064</td>\n",
       "      <td>22</td>\n",
       "      <td>15</td>\n",
       "    </tr>\n",
       "  </tbody>\n",
       "</table>\n",
       "</div>"
      ],
      "text/plain": [
       "      market_id      event_name    market_name  runner_id        runner_name  \\\n",
       "0   1.122576498  Thurl 14th Jan  2m6f Hcap Chs     444842       Winter Magic   \n",
       "1   1.122576498  Thurl 14th Jan  2m6f Hcap Chs    9483270    Mountain Philip   \n",
       "2   1.122576498  Thurl 14th Jan  2m6f Hcap Chs    8742358    Topper Thornton   \n",
       "3   1.122576498  Thurl 14th Jan  2m6f Hcap Chs    9153264           Flynsini   \n",
       "4   1.122576498  Thurl 14th Jan  2m6f Hcap Chs    6939953  Coolnagorna Giggs   \n",
       "5   1.122576498  Thurl 14th Jan  2m6f Hcap Chs    7253717               Gary   \n",
       "6   1.122576498  Thurl 14th Jan  2m6f Hcap Chs     444842       Winter Magic   \n",
       "7   1.122576498  Thurl 14th Jan  2m6f Hcap Chs    9153264           Flynsini   \n",
       "8   1.122576498  Thurl 14th Jan  2m6f Hcap Chs    7253717               Gary   \n",
       "9   1.122576498  Thurl 14th Jan  2m6f Hcap Chs    6939953  Coolnagorna Giggs   \n",
       "10  1.122576498  Thurl 14th Jan  2m6f Hcap Chs    9483270    Mountain Philip   \n",
       "11  1.122576498  Thurl 14th Jan  2m6f Hcap Chs     444842       Winter Magic   \n",
       "12  1.122576498  Thurl 14th Jan  2m6f Hcap Chs    7253717               Gary   \n",
       "13  1.122576498  Thurl 14th Jan  2m6f Hcap Chs    8742358    Topper Thornton   \n",
       "14  1.122576498  Thurl 14th Jan  2m6f Hcap Chs    9483270    Mountain Philip   \n",
       "15  1.122576498  Thurl 14th Jan  2m6f Hcap Chs    6939953  Coolnagorna Giggs   \n",
       "16  1.122576498  Thurl 14th Jan  2m6f Hcap Chs    7253717               Gary   \n",
       "17  1.122576498  Thurl 14th Jan  2m6f Hcap Chs    6939953  Coolnagorna Giggs   \n",
       "18  1.122576498  Thurl 14th Jan  2m6f Hcap Chs     444842       Winter Magic   \n",
       "19  1.122576498  Thurl 14th Jan  2m6f Hcap Chs    8742358    Topper Thornton   \n",
       "20  1.122576498  Thurl 14th Jan  2m6f Hcap Chs    9483270    Mountain Philip   \n",
       "21  1.122576498  Thurl 14th Jan  2m6f Hcap Chs    9153264           Flynsini   \n",
       "22  1.122576498  Thurl 14th Jan  2m6f Hcap Chs    6939953  Coolnagorna Giggs   \n",
       "23  1.122576498  Thurl 14th Jan  2m6f Hcap Chs    9483270    Mountain Philip   \n",
       "24  1.122576498  Thurl 14th Jan  2m6f Hcap Chs    9153264           Flynsini   \n",
       "25  1.122576498  Thurl 14th Jan  2m6f Hcap Chs     444842       Winter Magic   \n",
       "26  1.122576498  Thurl 14th Jan  2m6f Hcap Chs    8742358    Topper Thornton   \n",
       "27  1.122576498  Thurl 14th Jan  2m6f Hcap Chs    7253717               Gary   \n",
       "28  1.122576498  Thurl 14th Jan  2m6f Hcap Chs    8742358    Topper Thornton   \n",
       "29  1.122576498  Thurl 14th Jan  2m6f Hcap Chs    6939953  Coolnagorna Giggs   \n",
       "30  1.122576498  Thurl 14th Jan  2m6f Hcap Chs    7253717               Gary   \n",
       "31  1.122576498  Thurl 14th Jan  2m6f Hcap Chs     444842       Winter Magic   \n",
       "32  1.122576498  Thurl 14th Jan  2m6f Hcap Chs    9483270    Mountain Philip   \n",
       "33  1.122576498  Thurl 14th Jan  2m6f Hcap Chs    9153264           Flynsini   \n",
       "34  1.122576498  Thurl 14th Jan  2m6f Hcap Chs    6939953  Coolnagorna Giggs   \n",
       "35  1.122576498  Thurl 14th Jan  2m6f Hcap Chs    9153264           Flynsini   \n",
       "36  1.122576498  Thurl 14th Jan  2m6f Hcap Chs     444842       Winter Magic   \n",
       "37  1.122576498  Thurl 14th Jan  2m6f Hcap Chs    8742358    Topper Thornton   \n",
       "38  1.122576498  Thurl 14th Jan  2m6f Hcap Chs    9153264           Flynsini   \n",
       "39  1.122576498  Thurl 14th Jan  2m6f Hcap Chs    6939953  Coolnagorna Giggs   \n",
       "\n",
       "    published_time  last_traded_price          time  \\\n",
       "0    1452784520247               4.30  1.452785e+09   \n",
       "1    1452784520247              30.00  1.452785e+09   \n",
       "2    1452784520247              10.50  1.452785e+09   \n",
       "3    1452784520247              36.00  1.452785e+09   \n",
       "4    1452784520247               6.80  1.452785e+09   \n",
       "5    1452784520247              55.00  1.452785e+09   \n",
       "6    1452784580202               4.90  1.452785e+09   \n",
       "7    1452784580202              38.00  1.452785e+09   \n",
       "8    1452784580202              75.00  1.452785e+09   \n",
       "9    1452784580202               5.20  1.452785e+09   \n",
       "10   1452784580202              38.00  1.452785e+09   \n",
       "11   1452784640215               3.95  1.452785e+09   \n",
       "12   1452784640215              48.00  1.452785e+09   \n",
       "13   1452784640215              13.50  1.452785e+09   \n",
       "14   1452784640215             100.00  1.452785e+09   \n",
       "15   1452784640215               5.10  1.452785e+09   \n",
       "16   1452784700250              34.00  1.452785e+09   \n",
       "17   1452784700250               4.90  1.452785e+09   \n",
       "18   1452784700250               4.20  1.452785e+09   \n",
       "19   1452784700250              17.50  1.452785e+09   \n",
       "20   1452784700250             120.00  1.452785e+09   \n",
       "21   1452784700250              32.00  1.452785e+09   \n",
       "22   1452784760229               7.60  1.452785e+09   \n",
       "23   1452784760229             250.00  1.452785e+09   \n",
       "24   1452784760229              38.00  1.452785e+09   \n",
       "25   1452784760229               3.40  1.452785e+09   \n",
       "26   1452784760229              15.00  1.452785e+09   \n",
       "27   1452784760229              80.00  1.452785e+09   \n",
       "28   1452784820213              21.00  1.452785e+09   \n",
       "29   1452784820213               3.70  1.452785e+09   \n",
       "30   1452784820213            1000.00  1.452785e+09   \n",
       "31   1452784820213               4.60  1.452785e+09   \n",
       "32   1452784820213            1000.00  1.452785e+09   \n",
       "33   1452784820213              42.00  1.452785e+09   \n",
       "34   1452784880176               1.56  1.452785e+09   \n",
       "35   1452784880176               7.00  1.452785e+09   \n",
       "36   1452784880176            1000.00  1.452785e+09   \n",
       "37   1452784880176            1000.00  1.452785e+09   \n",
       "38   1452784940171            1000.00  1.452785e+09   \n",
       "39   1452784940171               1.01  1.452785e+09   \n",
       "\n",
       "                        datetime  mins  hour  \n",
       "0  2016-01-14 15:15:20.247000064    15    15  \n",
       "1  2016-01-14 15:15:20.247000064    15    15  \n",
       "2  2016-01-14 15:15:20.247000064    15    15  \n",
       "3  2016-01-14 15:15:20.247000064    15    15  \n",
       "4  2016-01-14 15:15:20.247000064    15    15  \n",
       "5  2016-01-14 15:15:20.247000064    15    15  \n",
       "6  2016-01-14 15:16:20.201999872    16    15  \n",
       "7  2016-01-14 15:16:20.201999872    16    15  \n",
       "8  2016-01-14 15:16:20.201999872    16    15  \n",
       "9  2016-01-14 15:16:20.201999872    16    15  \n",
       "10 2016-01-14 15:16:20.201999872    16    15  \n",
       "11 2016-01-14 15:17:20.214999808    17    15  \n",
       "12 2016-01-14 15:17:20.214999808    17    15  \n",
       "13 2016-01-14 15:17:20.214999808    17    15  \n",
       "14 2016-01-14 15:17:20.214999808    17    15  \n",
       "15 2016-01-14 15:17:20.214999808    17    15  \n",
       "16 2016-01-14 15:18:20.249999872    18    15  \n",
       "17 2016-01-14 15:18:20.249999872    18    15  \n",
       "18 2016-01-14 15:18:20.249999872    18    15  \n",
       "19 2016-01-14 15:18:20.249999872    18    15  \n",
       "20 2016-01-14 15:18:20.249999872    18    15  \n",
       "21 2016-01-14 15:18:20.249999872    18    15  \n",
       "22 2016-01-14 15:19:20.229000192    19    15  \n",
       "23 2016-01-14 15:19:20.229000192    19    15  \n",
       "24 2016-01-14 15:19:20.229000192    19    15  \n",
       "25 2016-01-14 15:19:20.229000192    19    15  \n",
       "26 2016-01-14 15:19:20.229000192    19    15  \n",
       "27 2016-01-14 15:19:20.229000192    19    15  \n",
       "28 2016-01-14 15:20:20.212999936    20    15  \n",
       "29 2016-01-14 15:20:20.212999936    20    15  \n",
       "30 2016-01-14 15:20:20.212999936    20    15  \n",
       "31 2016-01-14 15:20:20.212999936    20    15  \n",
       "32 2016-01-14 15:20:20.212999936    20    15  \n",
       "33 2016-01-14 15:20:20.212999936    20    15  \n",
       "34 2016-01-14 15:21:20.176000000    21    15  \n",
       "35 2016-01-14 15:21:20.176000000    21    15  \n",
       "36 2016-01-14 15:21:20.176000000    21    15  \n",
       "37 2016-01-14 15:21:20.176000000    21    15  \n",
       "38 2016-01-14 15:22:20.171000064    22    15  \n",
       "39 2016-01-14 15:22:20.171000064    22    15  "
      ]
     },
     "execution_count": 350,
     "metadata": {},
     "output_type": "execute_result"
    }
   ],
   "source": [
    "crc1"
   ]
  },
  {
   "cell_type": "code",
   "execution_count": 351,
   "metadata": {},
   "outputs": [],
   "source": [
    "from matplotlib.pyplot import cm\n",
    "import numpy as np"
   ]
  },
  {
   "cell_type": "code",
   "execution_count": null,
   "metadata": {},
   "outputs": [],
   "source": []
  },
  {
   "cell_type": "code",
   "execution_count": 352,
   "metadata": {},
   "outputs": [
    {
     "data": {
      "text/plain": [
       "Text(0.5, 1.0, 'Thurles Handicap Chase January 14th 2016')"
      ]
     },
     "execution_count": 352,
     "metadata": {},
     "output_type": "execute_result"
    },
    {
     "data": {
      "image/png": "[encoded data removed]",
      "text/plain": [
       "<Figure size 1080x1080 with 1 Axes>"
      ]
     },
     "metadata": {},
     "output_type": "display_data"
    }
   ],
   "source": [
    "dfg = crc1.pivot(index='mins', columns='runner_name', values='last_traded_price')\n",
    "\n",
    "\n",
    "\n",
    "ax = dfg.plot(xticks=dfg.index, ylabel='Price', ylim =(0, 400))\n",
    "plt.rcParams[\"figure.figsize\"] = [15, 15]\n",
    "plt.legend(loc=2, prop={'size': 20})\n",
    "plt.title(\"Thurles Handicap Chase January 14th 2016\", size = 20)\n"
   ]
  },
  {
   "cell_type": "code",
   "execution_count": null,
   "metadata": {},
   "outputs": [],
   "source": [
    "# https://stackoverflow.com/questions/44893565/get-list-of-mysql-databases-with-python\n",
    "cursor = mydb.cursor()\n",
    "databases = (\"show databases\")\n",
    "cursor.execute(databases)\n",
    "for (databases) in cursor:\n",
    "     print (databases[0])"
   ]
  },
  {
   "cell_type": "code",
   "execution_count": null,
   "metadata": {},
   "outputs": [],
   "source": [
    "#https://www.geeksforgeeks.org/how-to-show-all-tables-in-mysql-using-python/\n",
    "mycursor = mydb.cursor()\n",
    "mycursor.execute(\"Show tables;\")\n",
    "myresult = mycursor.fetchall()\n",
    " \n",
    "for x in myresult:\n",
    "    print(x)"
   ]
  }
 ],
 "metadata": {
  "kernelspec": {
   "display_name": "python37",
   "language": "python",
   "name": "python37"
  },
  "language_info": {
   "codemirror_mode": {
    "name": "ipython",
    "version": 3
   },
   "file_extension": ".py",
   "mimetype": "text/x-python",
   "name": "python",
   "nbconvert_exporter": "python",
   "pygments_lexer": "ipython3",
   "version": "3.7.7"
  }
 },
 "nbformat": 4,
 "nbformat_minor": 4
}
