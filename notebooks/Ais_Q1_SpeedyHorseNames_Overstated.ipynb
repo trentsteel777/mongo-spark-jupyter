{
 "cells": [
  {
   "cell_type": "code",
   "execution_count": 1,
   "metadata": {},
   "outputs": [
    {
     "name": "stdout",
     "output_type": "stream",
     "text": [
      "Python 3.7.7\n"
     ]
    }
   ],
   "source": [
    "!python --version"
   ]
  },
  {
   "cell_type": "code",
   "execution_count": 2,
   "metadata": {},
   "outputs": [],
   "source": [
    "#https://stackoverflow.com/questions/53457975/pyspark-udf-function-error-in-lambda-function\n",
    "import os\n",
    "os.environ['OBJC_DISABLE_INITIALIZE_FORK_SAFETY'] = 'YES'"
   ]
  },
  {
   "cell_type": "code",
   "execution_count": 3,
   "metadata": {},
   "outputs": [
    {
     "name": "stderr",
     "output_type": "stream",
     "text": [
      "WARNING: An illegal reflective access operation has occurred\n",
      "WARNING: Illegal reflective access by org.apache.spark.unsafe.Platform (file:/usr/local/spark-3.0.0-bin-hadoop3.2/jars/spark-unsafe_2.12-3.0.0.jar) to constructor java.nio.DirectByteBuffer(long,int)\n",
      "WARNING: Please consider reporting this to the maintainers of org.apache.spark.unsafe.Platform\n",
      "WARNING: Use --illegal-access=warn to enable warnings of further illegal reflective access operations\n",
      "WARNING: All illegal access operations will be denied in a future release\n",
      "Ivy Default Cache set to: /home/jovyan/.ivy2/cache\n",
      "The jars for the packages stored in: /home/jovyan/.ivy2/jars\n",
      ":: loading settings :: url = jar:file:/usr/local/spark-3.0.0-bin-hadoop3.2/jars/ivy-2.4.0.jar!/org/apache/ivy/core/settings/ivysettings.xml\n",
      "org.mongodb.spark#mongo-spark-connector_2.12 added as a dependency\n",
      ":: resolving dependencies :: org.apache.spark#spark-submit-parent-2f89b8f2-87d2-45bd-952a-783abf237ea0;1.0\n",
      "\tconfs: [default]\n",
      "\tfound org.mongodb.spark#mongo-spark-connector_2.12;3.0.0 in central\n",
      "\tfound org.mongodb#mongodb-driver-sync;4.0.5 in central\n",
      "\tfound org.mongodb#bson;4.0.5 in central\n",
      "\tfound org.mongodb#mongodb-driver-core;4.0.5 in central\n",
      ":: resolution report :: resolve 294ms :: artifacts dl 17ms\n",
      "\t:: modules in use:\n",
      "\torg.mongodb#bson;4.0.5 from central in [default]\n",
      "\torg.mongodb#mongodb-driver-core;4.0.5 from central in [default]\n",
      "\torg.mongodb#mongodb-driver-sync;4.0.5 from central in [default]\n",
      "\torg.mongodb.spark#mongo-spark-connector_2.12;3.0.0 from central in [default]\n",
      "\t---------------------------------------------------------------------\n",
      "\t|                  |            modules            ||   artifacts   |\n",
      "\t|       conf       | number| search|dwnlded|evicted|| number|dwnlded|\n",
      "\t---------------------------------------------------------------------\n",
      "\t|      default     |   4   |   0   |   0   |   0   ||   4   |   0   |\n",
      "\t---------------------------------------------------------------------\n",
      ":: retrieving :: org.apache.spark#spark-submit-parent-2f89b8f2-87d2-45bd-952a-783abf237ea0\n",
      "\tconfs: [default]\n",
      "\t0 artifacts copied, 4 already retrieved (0kB/9ms)\n",
      "21/12/21 18:15:50 WARN NativeCodeLoader: Unable to load native-hadoop library for your platform... using builtin-java classes where applicable\n",
      "Using Spark's default log4j profile: org/apache/spark/log4j-defaults.properties\n",
      "Setting default log level to \"WARN\".\n",
      "To adjust logging level use sc.setLogLevel(newLevel). For SparkR, use setLogLevel(newLevel).\n",
      "21/12/21 18:15:52 WARN Utils: Service 'SparkUI' could not bind on port 4040. Attempting port 4041.\n",
      "21/12/21 18:15:52 WARN Utils: Service 'SparkUI' could not bind on port 4041. Attempting port 4042.\n"
     ]
    }
   ],
   "source": [
    "from pyspark.sql import SparkSession\n",
    "# https://spark.apache.org/docs/latest/job-scheduling.html\n",
    "spark = SparkSession.\\\n",
    "        builder.\\\n",
    "        appName(\"pyspark-notebook2-ais\").\\\n",
    "        master(\"spark://spark-master:7077\").\\\n",
    "        config(\"spark.executor.memory\", \"7g\").\\\n",
    "        config(\"spark.cores.max\", \"3\").\\\n",
    "        config(\"spark.executor.instances\", \"1\").\\\n",
    "        config(\"spark.executor.cores\", \"3\").\\\n",
    "        config(\"spark.mongodb.input.uri\",\"mongodb://mongo1:27017,mongo2:27018,mongo3:27019/database.horses_collection?replicaSet=rs0\").\\\n",
    "        config(\"spark.mongodb.output.uri\",\"mongodb://mongo1:27017,mongo2:27018,mongo3:27019/database.horses_collection?replicaSet=rs0\").\\\n",
    "        config(\"spark.jars.packages\", \"org.mongodb.spark:mongo-spark-connector_2.12:3.0.0\").\\\n",
    "        getOrCreate()\n"
   ]
  },
  {
   "cell_type": "code",
   "execution_count": 4,
   "metadata": {},
   "outputs": [
    {
     "data": {
      "text/plain": [
       "'default'"
      ]
     },
     "execution_count": 4,
     "metadata": {},
     "output_type": "execute_result"
    }
   ],
   "source": [
    "spark.catalog.currentDatabase()"
   ]
  },
  {
   "cell_type": "code",
   "execution_count": 5,
   "metadata": {},
   "outputs": [
    {
     "name": "stderr",
     "output_type": "stream",
     "text": [
      "21/12/21 18:16:13 WARN MongoInferSchema: Field 'bsp' contains conflicting types converting to StringType\n",
      "21/12/21 18:16:15 WARN package: Truncated the string representation of a plan since it was too large. This behavior can be adjusted by setting 'spark.sql.debug.maxToStringFields'.\n"
     ]
    }
   ],
   "source": [
    "#reading dataframes from MongoDB\n",
    "\n",
    "# sampleSize - https://stackoverflow.com/a/56255303\n",
    "df = spark.read.format(\"mongo\").option('sampleSize', 50000).load()\n",
    "df.createOrReplaceTempView(\"mongo\")\n"
   ]
  },
  {
   "cell_type": "code",
   "execution_count": 6,
   "metadata": {},
   "outputs": [
    {
     "name": "stdout",
     "output_type": "stream",
     "text": [
      "root\n",
      " |-- _id: struct (nullable = true)\n",
      " |    |-- oid: string (nullable = true)\n",
      " |-- clk: string (nullable = true)\n",
      " |-- mc: array (nullable = true)\n",
      " |    |-- element: struct (containsNull = true)\n",
      " |    |    |-- id: string (nullable = true)\n",
      " |    |    |-- marketDefinition: struct (nullable = true)\n",
      " |    |    |    |-- betDelay: integer (nullable = true)\n",
      " |    |    |    |-- bettingType: string (nullable = true)\n",
      " |    |    |    |-- bspMarket: boolean (nullable = true)\n",
      " |    |    |    |-- bspReconciled: boolean (nullable = true)\n",
      " |    |    |    |-- complete: boolean (nullable = true)\n",
      " |    |    |    |-- countryCode: string (nullable = true)\n",
      " |    |    |    |-- crossMatching: boolean (nullable = true)\n",
      " |    |    |    |-- discountAllowed: boolean (nullable = true)\n",
      " |    |    |    |-- eachWayDivisor: double (nullable = true)\n",
      " |    |    |    |-- eventId: string (nullable = true)\n",
      " |    |    |    |-- eventName: string (nullable = true)\n",
      " |    |    |    |-- eventTypeId: string (nullable = true)\n",
      " |    |    |    |-- inPlay: boolean (nullable = true)\n",
      " |    |    |    |-- marketBaseRate: double (nullable = true)\n",
      " |    |    |    |-- marketTime: string (nullable = true)\n",
      " |    |    |    |-- marketType: string (nullable = true)\n",
      " |    |    |    |-- name: string (nullable = true)\n",
      " |    |    |    |-- numberOfActiveRunners: integer (nullable = true)\n",
      " |    |    |    |-- numberOfWinners: integer (nullable = true)\n",
      " |    |    |    |-- openDate: string (nullable = true)\n",
      " |    |    |    |-- persistenceEnabled: boolean (nullable = true)\n",
      " |    |    |    |-- regulators: array (nullable = true)\n",
      " |    |    |    |    |-- element: string (containsNull = true)\n",
      " |    |    |    |-- runners: array (nullable = true)\n",
      " |    |    |    |    |-- element: struct (containsNull = true)\n",
      " |    |    |    |    |    |-- adjustmentFactor: double (nullable = true)\n",
      " |    |    |    |    |    |-- bsp: string (nullable = true)\n",
      " |    |    |    |    |    |-- id: integer (nullable = true)\n",
      " |    |    |    |    |    |-- name: string (nullable = true)\n",
      " |    |    |    |    |    |-- removalDate: string (nullable = true)\n",
      " |    |    |    |    |    |-- sortPriority: integer (nullable = true)\n",
      " |    |    |    |    |    |-- status: string (nullable = true)\n",
      " |    |    |    |-- runnersVoidable: boolean (nullable = true)\n",
      " |    |    |    |-- settledTime: string (nullable = true)\n",
      " |    |    |    |-- status: string (nullable = true)\n",
      " |    |    |    |-- suspendTime: string (nullable = true)\n",
      " |    |    |    |-- timezone: string (nullable = true)\n",
      " |    |    |    |-- turnInPlayEnabled: boolean (nullable = true)\n",
      " |    |    |    |-- venue: string (nullable = true)\n",
      " |    |    |    |-- version: integer (nullable = true)\n",
      " |    |    |-- rc: array (nullable = true)\n",
      " |    |    |    |-- element: struct (containsNull = true)\n",
      " |    |    |    |    |-- ltp: double (nullable = true)\n",
      " |    |    |    |    |-- id: integer (nullable = true)\n",
      " |-- op: string (nullable = true)\n",
      " |-- pt: long (nullable = true)\n",
      "\n"
     ]
    }
   ],
   "source": [
    "df.printSchema()"
   ]
  },
  {
   "cell_type": "code",
   "execution_count": 7,
   "metadata": {},
   "outputs": [
    {
     "name": "stderr",
     "output_type": "stream",
     "text": [
      "[Stage 1:>                                                          (0 + 1) / 1]\r"
     ]
    },
    {
     "name": "stdout",
     "output_type": "stream",
     "text": [
      "+--------------------+----------+--------------------+---+-------------+\n",
      "|                 _id|       clk|                  mc| op|           pt|\n",
      "+--------------------+----------+--------------------+---+-------------+\n",
      "|[619e9dd8677066b2...|2480088678|[[1.124699287, [0...|mcm|1462537993283|\n",
      "|[619e9dd8677066b2...|2480249142|[[1.124699287, [0...|mcm|1462540135101|\n",
      "|[619e9dd8677066b2...|2481803835|[[1.124699287, [0...|mcm|1462555384075|\n",
      "|[619e9dd8677066b2...|2481994285|[[1.124699287,, [...|mcm|1462557371191|\n",
      "|[619e9dd8677066b2...|2482055516|[[1.124699287,, [...|mcm|1462557910955|\n",
      "|[619e9dd8677066b2...|2482072939|[[1.124699287,, [...|mcm|1462558089056|\n",
      "|[619e9dd8677066b2...|2482078964|[[1.124699287,, [...|mcm|1462558150717|\n",
      "|[619e9dd8677066b2...|2482083965|[[1.124699287, [0...|mcm|1462558199155|\n",
      "|[619e9dd8677066b2...|2482177634|[[1.124699287, [0...|mcm|1462559078531|\n",
      "|[619e9dd8677066b2...|2480088678|[[1.124699285, [0...|mcm|1462537993283|\n",
      "|[619e9dd8677066b2...|2480212422|[[1.124699285, [0...|mcm|1462539800697|\n",
      "|[619e9dd8677066b2...|2480409166|[[1.124699285, [0...|mcm|1462541919372|\n",
      "|[619e9dd8677066b2...|2481526806|[[1.124699285,, [...|mcm|1462552870198|\n",
      "|[619e9dd8677066b2...|2481622628|[[1.124699285, [0...|mcm|1462553643217|\n",
      "|[619e9dd8677066b2...|2481628092|[[1.124699285, [0...|mcm|1462553705002|\n",
      "|[619e9dd8677066b2...|2481633423|[[1.124699285, [0...|mcm|1462553765802|\n",
      "|[619e9dd8677066b2...|2481879973|[[1.124699285, [0...|mcm|1462556181157|\n",
      "|[619e9dd8677066b2...|2481938295|[[1.124699285, [0...|mcm|1462556825096|\n",
      "|[619e9dd8677066b2...|2480088678|[[1.124699278, [0...|mcm|1462537993283|\n",
      "|[619e9dd8677066b2...|2480180647|[[1.124699278, [0...|mcm|1462539270638|\n",
      "+--------------------+----------+--------------------+---+-------------+\n",
      "only showing top 20 rows\n",
      "\n"
     ]
    },
    {
     "name": "stderr",
     "output_type": "stream",
     "text": [
      "                                                                                \r"
     ]
    }
   ],
   "source": [
    "df.show()"
   ]
  },
  {
   "cell_type": "code",
   "execution_count": 8,
   "metadata": {},
   "outputs": [],
   "source": [
    "#spark.sql(\"select * from mongo array_contains(root.mc, array('CLOSED'))\").show()\n",
    "from pyspark.sql.functions import explode   # Explodes lists into rows."
   ]
  },
  {
   "cell_type": "code",
   "execution_count": 9,
   "metadata": {},
   "outputs": [],
   "source": [
    "mc_exploded = df.select('*', explode(df.mc).alias('mc_row'))"
   ]
  },
  {
   "cell_type": "code",
   "execution_count": 10,
   "metadata": {},
   "outputs": [],
   "source": [
    "md_only = mc_exploded.filter(mc_exploded.mc_row.marketDefinition.isNotNull())"
   ]
  },
  {
   "cell_type": "code",
   "execution_count": 11,
   "metadata": {},
   "outputs": [
    {
     "name": "stdout",
     "output_type": "stream",
     "text": [
      "+--------------------+----------+--------------------+---+-------------+--------------------+\n",
      "|                 _id|       clk|                  mc| op|           pt|              mc_row|\n",
      "+--------------------+----------+--------------------+---+-------------+--------------------+\n",
      "|[619e9dd8677066b2...|2480088678|[[1.124699287, [0...|mcm|1462537993283|[1.124699287, [0,...|\n",
      "|[619e9dd8677066b2...|2480249142|[[1.124699287, [0...|mcm|1462540135101|[1.124699287, [0,...|\n",
      "|[619e9dd8677066b2...|2481803835|[[1.124699287, [0...|mcm|1462555384075|[1.124699287, [0,...|\n",
      "|[619e9dd8677066b2...|2482083965|[[1.124699287, [0...|mcm|1462558199155|[1.124699287, [0,...|\n",
      "|[619e9dd8677066b2...|2482177634|[[1.124699287, [0...|mcm|1462559078531|[1.124699287, [0,...|\n",
      "|[619e9dd8677066b2...|2480088678|[[1.124699285, [0...|mcm|1462537993283|[1.124699285, [0,...|\n",
      "|[619e9dd8677066b2...|2480212422|[[1.124699285, [0...|mcm|1462539800697|[1.124699285, [0,...|\n",
      "|[619e9dd8677066b2...|2480409166|[[1.124699285, [0...|mcm|1462541919372|[1.124699285, [0,...|\n",
      "|[619e9dd8677066b2...|2481622628|[[1.124699285, [0...|mcm|1462553643217|[1.124699285, [0,...|\n",
      "|[619e9dd8677066b2...|2481628092|[[1.124699285, [0...|mcm|1462553705002|[1.124699285, [0,...|\n",
      "|[619e9dd8677066b2...|2481633423|[[1.124699285, [0...|mcm|1462553765802|[1.124699285, [0,...|\n",
      "|[619e9dd8677066b2...|2481879973|[[1.124699285, [0...|mcm|1462556181157|[1.124699285, [0,...|\n",
      "|[619e9dd8677066b2...|2481938295|[[1.124699285, [0...|mcm|1462556825096|[1.124699285, [0,...|\n",
      "|[619e9dd8677066b2...|2480088678|[[1.124699278, [0...|mcm|1462537993283|[1.124699278, [0,...|\n",
      "|[619e9dd8677066b2...|2480180647|[[1.124699278, [0...|mcm|1462539270638|[1.124699278, [0,...|\n",
      "|[619e9dd8677066b2...|2481407254|[[1.124699278, [0...|mcm|1462551952407|[1.124699278, [0,...|\n",
      "|[619e9dd8677066b2...|2481698341|[[1.124699278, [0...|mcm|1462554327642|[1.124699278, [0,...|\n",
      "|[619e9dd8677066b2...|2481740307|[[1.124699278, [0...|mcm|1462554768806|[1.124699278, [0,...|\n",
      "|[619e9dd8677066b2...|2480088678|[[1.124699287, [0...|mcm|1462537993283|[1.124699287, [0,...|\n",
      "|[619e9dd8677066b2...|2480088678|[[1.124699287, [0...|mcm|1462537993283|[1.124699278, [0,...|\n",
      "+--------------------+----------+--------------------+---+-------------+--------------------+\n",
      "only showing top 20 rows\n",
      "\n"
     ]
    },
    {
     "name": "stderr",
     "output_type": "stream",
     "text": [
      "                                                                                \r"
     ]
    }
   ],
   "source": [
    "md_only.show()"
   ]
  },
  {
   "cell_type": "code",
   "execution_count": 12,
   "metadata": {},
   "outputs": [],
   "source": [
    "# Explode the marketDefinition array.\n",
    "market_definitions = md_only.selectExpr('op AS operation_type',\n",
    "                                        'clk AS sequence_token',\n",
    "                                        'pt AS published_time',\n",
    "                                        'mc_row.id AS market_id',\n",
    "                                        'mc_row.rc AS rc',\n",
    "                                        'mc_row.marketDefinition.betDelay AS bet_delay',\n",
    "                                        'mc_row.marketDefinition.bettingType AS betting_type',\n",
    "                                        'mc_row.marketDefinition.bspMarket AS bsp_market',\n",
    "                                        'mc_row.marketDefinition.bspReconciled AS bsp_reconciled',\n",
    "                                        'mc_row.marketDefinition.complete AS complete',\n",
    "                                        'mc_row.marketDefinition.countryCode AS country_code',\n",
    "                                        'mc_row.marketDefinition.crossMatching AS cross_matching',\n",
    "                                        'mc_row.marketDefinition.discountAllowed AS discount_allowed',\n",
    "                                        'mc_row.marketDefinition.eventId AS event_id',\n",
    "                                        'mc_row.marketDefinition.eventName AS event_name',\n",
    "                                        'mc_row.marketDefinition.eventTypeId AS event_type_id',\n",
    "                                        'mc_row.marketDefinition.inPlay AS in_play',\n",
    "                                        'mc_row.marketDefinition.marketBaseRate AS market_base_rate',\n",
    "                                        'mc_row.marketDefinition.marketTime AS market_time',\n",
    "                                        'mc_row.marketDefinition.marketType AS market_type',\n",
    "                                        'mc_row.marketDefinition.numberOfActiveRunners AS number_of_active_runners',\n",
    "                                        'mc_row.marketDefinition.numberOfWinners AS number_of_winners',\n",
    "                                        'mc_row.marketDefinition.openDate AS open_date',\n",
    "                                        'mc_row.marketDefinition.persistenceEnabled AS persistence_enabled',\n",
    "                                        'mc_row.marketDefinition.runnersVoidable AS runners_voidable',\n",
    "                                        'mc_row.marketDefinition.settledTime AS settled_time',\n",
    "                                        'mc_row.marketDefinition.status AS status',\n",
    "                                        'mc_row.marketDefinition.suspendTime AS suspend_time',\n",
    "                                        'mc_row.marketDefinition.timezone AS timezone',\n",
    "                                        'mc_row.marketDefinition.turnInPlayEnabled AS turn_in_play_enabled',\n",
    "                                        'mc_row.marketDefinition.version AS version',\n",
    "                                        'mc_row.marketDefinition.name AS market_name',\n",
    "                                        'mc_row.marketDefinition.regulators AS regulators',\n",
    "                                        'mc_row.marketDefinition.runners AS runners')"
   ]
  },
  {
   "cell_type": "code",
   "execution_count": 13,
   "metadata": {},
   "outputs": [],
   "source": [
    "market_definitions = market_definitions.filter(market_definitions[\"status\"]==\"CLOSED\")"
   ]
  },
  {
   "cell_type": "code",
   "execution_count": 14,
   "metadata": {},
   "outputs": [],
   "source": [
    "market_definitions = market_definitions.filter(market_definitions[\"market_type\"]==\"WIN\")"
   ]
  },
  {
   "cell_type": "code",
   "execution_count": 15,
   "metadata": {},
   "outputs": [],
   "source": [
    "runners_only = market_definitions.filter(market_definitions.runners.isNotNull())"
   ]
  },
  {
   "cell_type": "code",
   "execution_count": 16,
   "metadata": {},
   "outputs": [],
   "source": [
    "# Explode the Runners array.\n",
    "runners_exploded = runners_only.select(market_definitions.operation_type,\n",
    "                                       market_definitions.published_time,\n",
    "                                       market_definitions.market_id,\n",
    "                                       market_definitions.market_name,\n",
    "                                       market_definitions.event_id,\n",
    "                                       market_definitions.event_name,\n",
    "                                       explode(market_definitions.runners).alias('runner_row'))"
   ]
  },
  {
   "cell_type": "code",
   "execution_count": 17,
   "metadata": {},
   "outputs": [],
   "source": [
    "#############################\n",
    "##### new dataset (just added BSP to the runners dataframe created above)\n",
    "runners_exploded_wbsp = runners_only.select(market_definitions.operation_type,\n",
    "                                       market_definitions.published_time,\n",
    "                                       market_definitions.market_id,\n",
    "                                       market_definitions.market_name,\n",
    "                                       market_definitions.event_id,\n",
    "                                       market_definitions.event_name,\n",
    "                                       explode(market_definitions.runners).alias('runner_row'))"
   ]
  },
  {
   "cell_type": "code",
   "execution_count": 18,
   "metadata": {},
   "outputs": [],
   "source": [
    "##### new dataset (just added BSP to the runners dataframe created above)\n",
    "runners_wbsp = runners_exploded_wbsp.selectExpr('operation_type',\n",
    "                                      'published_time',\n",
    "                                      'market_id',\n",
    "                                      'market_name',\n",
    "                                      'event_id',\n",
    "                                      'event_name',\n",
    "                                      'runner_row.id AS runner_id',\n",
    "                                      'runner_row.name AS runner_name',\n",
    "                                      'runner_row.status AS runner_status',\n",
    "                                      'runner_row.bsp AS bsp',\n",
    "                                      'runner_row.sortPriority AS runner_sort_priority')"
   ]
  },
  {
   "cell_type": "code",
   "execution_count": 19,
   "metadata": {},
   "outputs": [],
   "source": [
    "##### new dataset (just added BSP to the runners dataframe created above)\n",
    "runners_wbsp = runners_wbsp.filter(runners_wbsp.runner_status!='REMOVED')"
   ]
  },
  {
   "cell_type": "code",
   "execution_count": 20,
   "metadata": {},
   "outputs": [],
   "source": [
    "runners_wbsp = runners_wbsp.filter(runners_wbsp.runner_status!='REMOVED_VACANT')"
   ]
  },
  {
   "cell_type": "code",
   "execution_count": 21,
   "metadata": {},
   "outputs": [],
   "source": [
    "from pyspark.sql.functions import *\n",
    "from pyspark.sql.window import Window\n",
    "from pyspark.sql.types import IntegerType"
   ]
  },
  {
   "cell_type": "code",
   "execution_count": 22,
   "metadata": {},
   "outputs": [],
   "source": [
    "runners_wbsp = runners_wbsp.withColumn(\"bsp\", runners_wbsp[\"bsp\"].cast(IntegerType()))"
   ]
  },
  {
   "cell_type": "code",
   "execution_count": 23,
   "metadata": {},
   "outputs": [],
   "source": [
    "runners_wbsp_rank=runners_wbsp.withColumn(\n",
    "  \"rank\", dense_rank().over(Window.partitionBy(\"market_id\").orderBy(asc(\"bsp\"))))"
   ]
  },
  {
   "cell_type": "code",
   "execution_count": 24,
   "metadata": {},
   "outputs": [
    {
     "name": "stderr",
     "output_type": "stream",
     "text": [
      "                                                                                \r"
     ]
    },
    {
     "data": {
      "text/plain": [
       "[Row(operation_type='mcm', published_time=1451923013009, market_id='1.122459934', market_name='1m6f NHF', event_id='27643426', event_name='Ludl 4th Jan', runner_id=10685362, runner_name='Kahaleesi', runner_status='LOSER', bsp=2, runner_sort_priority=2, rank=1),\n",
       " Row(operation_type='mcm', published_time=1451923013009, market_id='1.122459934', market_name='1m6f NHF', event_id='27643426', event_name='Ludl 4th Jan', runner_id=10685362, runner_name='Kahaleesi', runner_status='LOSER', bsp=2, runner_sort_priority=2, rank=1),\n",
       " Row(operation_type='mcm', published_time=1451923013009, market_id='1.122459934', market_name='1m6f NHF', event_id='27643426', event_name='Ludl 4th Jan', runner_id=10685359, runner_name='Miss Spent', runner_status='LOSER', bsp=4, runner_sort_priority=4, rank=2),\n",
       " Row(operation_type='mcm', published_time=1451923013009, market_id='1.122459934', market_name='1m6f NHF', event_id='27643426', event_name='Ludl 4th Jan', runner_id=10685359, runner_name='Miss Spent', runner_status='LOSER', bsp=4, runner_sort_priority=4, rank=2),\n",
       " Row(operation_type='mcm', published_time=1451923013009, market_id='1.122459934', market_name='1m6f NHF', event_id='27643426', event_name='Ludl 4th Jan', runner_id=1304852, runner_name='Mo Chailin', runner_status='LOSER', bsp=5, runner_sort_priority=3, rank=3),\n",
       " Row(operation_type='mcm', published_time=1451923013009, market_id='1.122459934', market_name='1m6f NHF', event_id='27643426', event_name='Ludl 4th Jan', runner_id=1304852, runner_name='Mo Chailin', runner_status='LOSER', bsp=5, runner_sort_priority=3, rank=3),\n",
       " Row(operation_type='mcm', published_time=1451923013009, market_id='1.122459934', market_name='1m6f NHF', event_id='27643426', event_name='Ludl 4th Jan', runner_id=10619594, runner_name='Deauville Dame', runner_status='LOSER', bsp=18, runner_sort_priority=5, rank=4),\n",
       " Row(operation_type='mcm', published_time=1451923013009, market_id='1.122459934', market_name='1m6f NHF', event_id='27643426', event_name='Ludl 4th Jan', runner_id=10619594, runner_name='Deauville Dame', runner_status='LOSER', bsp=18, runner_sort_priority=5, rank=4),\n",
       " Row(operation_type='mcm', published_time=1451923013009, market_id='1.122459934', market_name='1m6f NHF', event_id='27643426', event_name='Ludl 4th Jan', runner_id=10685361, runner_name='Royal Debutante', runner_status='WINNER', bsp=34, runner_sort_priority=6, rank=5),\n",
       " Row(operation_type='mcm', published_time=1451923013009, market_id='1.122459934', market_name='1m6f NHF', event_id='27643426', event_name='Ludl 4th Jan', runner_id=10685361, runner_name='Royal Debutante', runner_status='WINNER', bsp=34, runner_sort_priority=6, rank=5)]"
      ]
     },
     "execution_count": 24,
     "metadata": {},
     "output_type": "execute_result"
    }
   ],
   "source": [
    "runners_wbsp_rank.head(10)"
   ]
  },
  {
   "cell_type": "code",
   "execution_count": 26,
   "metadata": {},
   "outputs": [
    {
     "name": "stderr",
     "output_type": "stream",
     "text": [
      "                                                                                \r"
     ]
    },
    {
     "name": "stdout",
     "output_type": "stream",
     "text": [
      "+-------------+----+------+\n",
      "|runner_status|rank| count|\n",
      "+-------------+----+------+\n",
      "|       WINNER|   8|  1334|\n",
      "|        LOSER|  20|   174|\n",
      "|        LOSER|  31|     2|\n",
      "|       WINNER|  12|   136|\n",
      "|       WINNER|   2| 21828|\n",
      "|        LOSER|  25|    28|\n",
      "|        LOSER|   2| 96694|\n",
      "|        LOSER|  27|     8|\n",
      "|        LOSER|   4|100108|\n",
      "|        LOSER|  28|     8|\n",
      "|       WINNER|  16|    18|\n",
      "|        LOSER|  34|     2|\n",
      "|        LOSER|   8| 54596|\n",
      "|        LOSER|   6| 85860|\n",
      "|       WINNER|  17|     2|\n",
      "|        LOSER|  11| 16394|\n",
      "|        LOSER|  33|     2|\n",
      "|        LOSER|  19|   302|\n",
      "|        LOSER|  26|    12|\n",
      "|       WINNER|  11|   226|\n",
      "|        LOSER|   1|222958|\n",
      "|        LOSER|   3| 99892|\n",
      "|        LOSER|  21|   138|\n",
      "|        LOSER|   9| 39276|\n",
      "|       WINNER|  14|    26|\n",
      "|        LOSER|  30|     8|\n",
      "|        LOSER|  24|    42|\n",
      "|       WINNER|  10|   392|\n",
      "|        LOSER|  14|  3458|\n",
      "|        LOSER|   7| 70974|\n",
      "|       WINNER|   9|   662|\n",
      "|        LOSER|  12| 10192|\n",
      "|       WINNER|  13|    48|\n",
      "|        LOSER|  16|  1084|\n",
      "|       WINNER|   6|  3668|\n",
      "|        LOSER|  35|     2|\n",
      "|        LOSER|  15|  2044|\n",
      "|       WINNER|   1| 56582|\n",
      "|        LOSER|   5| 95454|\n",
      "|       WINNER|   5|  5644|\n",
      "|       WINNER|   3| 13560|\n",
      "|        LOSER|  10| 26014|\n",
      "|       WINNER|  15|    14|\n",
      "|        LOSER|  36|     2|\n",
      "|        LOSER|  13|  6104|\n",
      "|       WINNER|   4|  8774|\n",
      "|        LOSER|  32|     2|\n",
      "|       WINNER|  20|     2|\n",
      "|        LOSER|  22|   100|\n",
      "|        LOSER|  18|   384|\n",
      "|       WINNER|   7|  2184|\n",
      "|        LOSER|  17|   648|\n",
      "|        LOSER|  37|     2|\n",
      "|        LOSER|  29|     8|\n",
      "|        LOSER|  23|    56|\n",
      "+-------------+----+------+\n",
      "\n"
     ]
    }
   ],
   "source": [
    "runners_wbsp_rank.groupby(\"runner_status\", \"rank\").count().show(100)"
   ]
  },
  {
   "cell_type": "code",
   "execution_count": 32,
   "metadata": {},
   "outputs": [],
   "source": [
    "runners_wbsp_rank1 = runners_wbsp_rank.groupby(\"runner_status\", \"rank\").count()"
   ]
  },
  {
   "cell_type": "code",
   "execution_count": 34,
   "metadata": {},
   "outputs": [
    {
     "name": "stderr",
     "output_type": "stream",
     "text": [
      "Exception in thread \"serve-DataFrame\" java.net.SocketTimeoutException: Accept timed out\n",
      "\tat java.base/java.net.PlainSocketImpl.socketAccept(Native Method)\n",
      "\tat java.base/java.net.AbstractPlainSocketImpl.accept(AbstractPlainSocketImpl.java:458)\n",
      "\tat java.base/java.net.ServerSocket.implAccept(ServerSocket.java:565)\n",
      "\tat java.base/java.net.ServerSocket.accept(ServerSocket.java:533)\n",
      "\tat org.apache.spark.security.SocketAuthServer$$anon$1.run(SocketAuthServer.scala:58)\n",
      "                                                                                \r"
     ]
    },
    {
     "data": {
      "text/plain": [
       "[Row(runner_status='WINNER', rank=8, count=1334),\n",
       " Row(runner_status='LOSER', rank=20, count=174),\n",
       " Row(runner_status='LOSER', rank=31, count=2),\n",
       " Row(runner_status='WINNER', rank=12, count=136),\n",
       " Row(runner_status='WINNER', rank=2, count=21828),\n",
       " Row(runner_status='LOSER', rank=25, count=28),\n",
       " Row(runner_status='LOSER', rank=2, count=96694),\n",
       " Row(runner_status='LOSER', rank=27, count=8),\n",
       " Row(runner_status='LOSER', rank=4, count=100108),\n",
       " Row(runner_status='LOSER', rank=28, count=8),\n",
       " Row(runner_status='WINNER', rank=16, count=18),\n",
       " Row(runner_status='LOSER', rank=34, count=2),\n",
       " Row(runner_status='LOSER', rank=8, count=54596),\n",
       " Row(runner_status='LOSER', rank=6, count=85860),\n",
       " Row(runner_status='WINNER', rank=17, count=2),\n",
       " Row(runner_status='LOSER', rank=11, count=16394),\n",
       " Row(runner_status='LOSER', rank=33, count=2),\n",
       " Row(runner_status='LOSER', rank=19, count=302),\n",
       " Row(runner_status='LOSER', rank=26, count=12),\n",
       " Row(runner_status='WINNER', rank=11, count=226),\n",
       " Row(runner_status='LOSER', rank=1, count=222958),\n",
       " Row(runner_status='LOSER', rank=3, count=99892),\n",
       " Row(runner_status='LOSER', rank=21, count=138),\n",
       " Row(runner_status='LOSER', rank=9, count=39276),\n",
       " Row(runner_status='WINNER', rank=14, count=26),\n",
       " Row(runner_status='LOSER', rank=30, count=8),\n",
       " Row(runner_status='LOSER', rank=24, count=42),\n",
       " Row(runner_status='WINNER', rank=10, count=392),\n",
       " Row(runner_status='LOSER', rank=14, count=3458),\n",
       " Row(runner_status='LOSER', rank=7, count=70974),\n",
       " Row(runner_status='WINNER', rank=9, count=662),\n",
       " Row(runner_status='LOSER', rank=12, count=10192),\n",
       " Row(runner_status='WINNER', rank=13, count=48),\n",
       " Row(runner_status='LOSER', rank=16, count=1084),\n",
       " Row(runner_status='WINNER', rank=6, count=3668),\n",
       " Row(runner_status='LOSER', rank=35, count=2),\n",
       " Row(runner_status='LOSER', rank=15, count=2044),\n",
       " Row(runner_status='WINNER', rank=1, count=56582),\n",
       " Row(runner_status='LOSER', rank=5, count=95454),\n",
       " Row(runner_status='WINNER', rank=5, count=5644),\n",
       " Row(runner_status='WINNER', rank=3, count=13560),\n",
       " Row(runner_status='LOSER', rank=10, count=26014),\n",
       " Row(runner_status='WINNER', rank=15, count=14),\n",
       " Row(runner_status='LOSER', rank=36, count=2),\n",
       " Row(runner_status='LOSER', rank=13, count=6104),\n",
       " Row(runner_status='WINNER', rank=4, count=8774),\n",
       " Row(runner_status='LOSER', rank=32, count=2),\n",
       " Row(runner_status='WINNER', rank=20, count=2),\n",
       " Row(runner_status='LOSER', rank=22, count=100),\n",
       " Row(runner_status='LOSER', rank=18, count=384)]"
      ]
     },
     "execution_count": 34,
     "metadata": {},
     "output_type": "execute_result"
    }
   ],
   "source": [
    "runners_wbsp_rank1.head(50)"
   ]
  },
  {
   "cell_type": "code",
   "execution_count": 67,
   "metadata": {},
   "outputs": [],
   "source": [
    "import pandas as pd\n",
    "from matplotlib import pyplot as plt\n",
    "plt.rcParams[\"figure.figsize\"] = [10, 6]"
   ]
  },
  {
   "cell_type": "code",
   "execution_count": 45,
   "metadata": {},
   "outputs": [
    {
     "name": "stderr",
     "output_type": "stream",
     "text": [
      "                                                                                \r"
     ]
    }
   ],
   "source": [
    "pdf_1 = runners_wbsp_rank1.toPandas()"
   ]
  },
  {
   "cell_type": "code",
   "execution_count": 68,
   "metadata": {},
   "outputs": [
    {
     "data": {
      "text/plain": [
       "<AxesSubplot:xlabel='rank', ylabel='horses'>"
      ]
     },
     "execution_count": 68,
     "metadata": {},
     "output_type": "execute_result"
    },
    {
     "data": {
      "image/png": "[encoded data removed]",
      "text/plain": [
       "<Figure size 720x432 with 1 Axes>"
      ]
     },
     "metadata": {
      "needs_background": "light"
     },
     "output_type": "display_data"
    }
   ],
   "source": [
    "pdf_1.pivot('rank', 'runner_status', 'count').plot(kind = 'bar', stacked=True, ylabel = 'horses')"
   ]
  },
  {
   "cell_type": "code",
   "execution_count": 71,
   "metadata": {},
   "outputs": [
    {
     "data": {
      "text/plain": [
       "<AxesSubplot:xlabel='rank', ylabel='horses'>"
      ]
     },
     "execution_count": 71,
     "metadata": {},
     "output_type": "execute_result"
    },
    {
     "data": {
      "image/png": "[encoded data removed]",
      "text/plain": [
       "<Figure size 720x432 with 1 Axes>"
      ]
     },
     "metadata": {
      "needs_background": "light"
     },
     "output_type": "display_data"
    }
   ],
   "source": [
    "pdf_1.pivot('rank', 'runner_status', 'count').plot(kind = 'bar', stacked=False, ylabel = 'horses')"
   ]
  },
  {
   "cell_type": "code",
   "execution_count": 151,
   "metadata": {},
   "outputs": [
    {
     "data": {
      "text/plain": [
       "<AxesSubplot:xlabel='runner_status', ylabel='horses'>"
      ]
     },
     "execution_count": 151,
     "metadata": {},
     "output_type": "execute_result"
    },
    {
     "data": {
      "image/png": "[encoded data removed]",
      "text/plain": [
       "<Figure size 720x432 with 1 Axes>"
      ]
     },
     "metadata": {
      "needs_background": "light"
     },
     "output_type": "display_data"
    }
   ],
   "source": [
    "pdf_1.pivot('runner_status', 'rank', 'count').plot(kind = 'bar', stacked=True, ylabel = 'horses')"
   ]
  },
  {
   "cell_type": "code",
   "execution_count": 95,
   "metadata": {},
   "outputs": [
    {
     "data": {
      "text/html": [
       "<div>\n",
       "<style scoped>\n",
       "    .dataframe tbody tr th:only-of-type {\n",
       "        vertical-align: middle;\n",
       "    }\n",
       "\n",
       "    .dataframe tbody tr th {\n",
       "        vertical-align: top;\n",
       "    }\n",
       "\n",
       "    .dataframe thead th {\n",
       "        text-align: right;\n",
       "    }\n",
       "</style>\n",
       "<table border=\"1\" class=\"dataframe\">\n",
       "  <thead>\n",
       "    <tr style=\"text-align: right;\">\n",
       "      <th>rank</th>\n",
       "      <th>1</th>\n",
       "      <th>2</th>\n",
       "      <th>3</th>\n",
       "      <th>4</th>\n",
       "      <th>5</th>\n",
       "      <th>6</th>\n",
       "      <th>7</th>\n",
       "      <th>8</th>\n",
       "      <th>9</th>\n",
       "      <th>10</th>\n",
       "      <th>...</th>\n",
       "      <th>28</th>\n",
       "      <th>29</th>\n",
       "      <th>30</th>\n",
       "      <th>31</th>\n",
       "      <th>32</th>\n",
       "      <th>33</th>\n",
       "      <th>34</th>\n",
       "      <th>35</th>\n",
       "      <th>36</th>\n",
       "      <th>37</th>\n",
       "    </tr>\n",
       "    <tr>\n",
       "      <th>runner_status</th>\n",
       "      <th></th>\n",
       "      <th></th>\n",
       "      <th></th>\n",
       "      <th></th>\n",
       "      <th></th>\n",
       "      <th></th>\n",
       "      <th></th>\n",
       "      <th></th>\n",
       "      <th></th>\n",
       "      <th></th>\n",
       "      <th></th>\n",
       "      <th></th>\n",
       "      <th></th>\n",
       "      <th></th>\n",
       "      <th></th>\n",
       "      <th></th>\n",
       "      <th></th>\n",
       "      <th></th>\n",
       "      <th></th>\n",
       "      <th></th>\n",
       "      <th></th>\n",
       "    </tr>\n",
       "  </thead>\n",
       "  <tbody>\n",
       "    <tr>\n",
       "      <th>LOSER</th>\n",
       "      <td>222958.0</td>\n",
       "      <td>96694.0</td>\n",
       "      <td>99892.0</td>\n",
       "      <td>100108.0</td>\n",
       "      <td>95454.0</td>\n",
       "      <td>85860.0</td>\n",
       "      <td>70974.0</td>\n",
       "      <td>54596.0</td>\n",
       "      <td>39276.0</td>\n",
       "      <td>26014.0</td>\n",
       "      <td>...</td>\n",
       "      <td>8.0</td>\n",
       "      <td>8.0</td>\n",
       "      <td>8.0</td>\n",
       "      <td>2.0</td>\n",
       "      <td>2.0</td>\n",
       "      <td>2.0</td>\n",
       "      <td>2.0</td>\n",
       "      <td>2.0</td>\n",
       "      <td>2.0</td>\n",
       "      <td>2.0</td>\n",
       "    </tr>\n",
       "    <tr>\n",
       "      <th>WINNER</th>\n",
       "      <td>56582.0</td>\n",
       "      <td>21828.0</td>\n",
       "      <td>13560.0</td>\n",
       "      <td>8774.0</td>\n",
       "      <td>5644.0</td>\n",
       "      <td>3668.0</td>\n",
       "      <td>2184.0</td>\n",
       "      <td>1334.0</td>\n",
       "      <td>662.0</td>\n",
       "      <td>392.0</td>\n",
       "      <td>...</td>\n",
       "      <td>NaN</td>\n",
       "      <td>NaN</td>\n",
       "      <td>NaN</td>\n",
       "      <td>NaN</td>\n",
       "      <td>NaN</td>\n",
       "      <td>NaN</td>\n",
       "      <td>NaN</td>\n",
       "      <td>NaN</td>\n",
       "      <td>NaN</td>\n",
       "      <td>NaN</td>\n",
       "    </tr>\n",
       "  </tbody>\n",
       "</table>\n",
       "<p>2 rows × 37 columns</p>\n",
       "</div>"
      ],
      "text/plain": [
       "rank                 1        2        3         4        5        6   \\\n",
       "runner_status                                                           \n",
       "LOSER          222958.0  96694.0  99892.0  100108.0  95454.0  85860.0   \n",
       "WINNER          56582.0  21828.0  13560.0    8774.0   5644.0   3668.0   \n",
       "\n",
       "rank                7        8        9        10  ...   28   29   30   31  \\\n",
       "runner_status                                      ...                       \n",
       "LOSER          70974.0  54596.0  39276.0  26014.0  ...  8.0  8.0  8.0  2.0   \n",
       "WINNER          2184.0   1334.0    662.0    392.0  ...  NaN  NaN  NaN  NaN   \n",
       "\n",
       "rank            32   33   34   35   36   37  \n",
       "runner_status                                \n",
       "LOSER          2.0  2.0  2.0  2.0  2.0  2.0  \n",
       "WINNER         NaN  NaN  NaN  NaN  NaN  NaN  \n",
       "\n",
       "[2 rows x 37 columns]"
      ]
     },
     "execution_count": 95,
     "metadata": {},
     "output_type": "execute_result"
    }
   ],
   "source": [
    "pdf_1.pivot('runner_status', 'rank', 'count')"
   ]
  },
  {
   "cell_type": "code",
   "execution_count": 109,
   "metadata": {},
   "outputs": [
    {
     "data": {
      "text/html": [
       "<div>\n",
       "<style scoped>\n",
       "    .dataframe tbody tr th:only-of-type {\n",
       "        vertical-align: middle;\n",
       "    }\n",
       "\n",
       "    .dataframe tbody tr th {\n",
       "        vertical-align: top;\n",
       "    }\n",
       "\n",
       "    .dataframe thead th {\n",
       "        text-align: right;\n",
       "    }\n",
       "</style>\n",
       "<table border=\"1\" class=\"dataframe\">\n",
       "  <thead>\n",
       "    <tr style=\"text-align: right;\">\n",
       "      <th></th>\n",
       "      <th>count</th>\n",
       "    </tr>\n",
       "    <tr>\n",
       "      <th>runner_status</th>\n",
       "      <th></th>\n",
       "    </tr>\n",
       "  </thead>\n",
       "  <tbody>\n",
       "    <tr>\n",
       "      <th>LOSER</th>\n",
       "      <td>933032</td>\n",
       "    </tr>\n",
       "    <tr>\n",
       "      <th>WINNER</th>\n",
       "      <td>115100</td>\n",
       "    </tr>\n",
       "  </tbody>\n",
       "</table>\n",
       "</div>"
      ],
      "text/plain": [
       "                count\n",
       "runner_status        \n",
       "LOSER          933032\n",
       "WINNER         115100"
      ]
     },
     "execution_count": 109,
     "metadata": {},
     "output_type": "execute_result"
    }
   ],
   "source": [
    "#pdf_1.pivot('rank', 'runner_status', 'count')\n",
    "#pdf_1['percent'] = (pdf_1.groupby(\"runner_status\").['count'] / pdf_1.groupby(\"runner_status\")['count'].sum()) * 100\n",
    "\n",
    "pdf_1.groupby([\"runner_status\"]).agg({\"count\" : \"sum\"})"
   ]
  },
  {
   "cell_type": "code",
   "execution_count": 113,
   "metadata": {},
   "outputs": [
    {
     "data": {
      "text/html": [
       "<div>\n",
       "<style scoped>\n",
       "    .dataframe tbody tr th:only-of-type {\n",
       "        vertical-align: middle;\n",
       "    }\n",
       "\n",
       "    .dataframe tbody tr th {\n",
       "        vertical-align: top;\n",
       "    }\n",
       "\n",
       "    .dataframe thead th {\n",
       "        text-align: right;\n",
       "    }\n",
       "</style>\n",
       "<table border=\"1\" class=\"dataframe\">\n",
       "  <thead>\n",
       "    <tr style=\"text-align: right;\">\n",
       "      <th></th>\n",
       "      <th>count</th>\n",
       "    </tr>\n",
       "    <tr>\n",
       "      <th>runner_status</th>\n",
       "      <th></th>\n",
       "    </tr>\n",
       "  </thead>\n",
       "  <tbody>\n",
       "    <tr>\n",
       "      <th>LOSER</th>\n",
       "      <td>89.018559</td>\n",
       "    </tr>\n",
       "    <tr>\n",
       "      <th>WINNER</th>\n",
       "      <td>10.981441</td>\n",
       "    </tr>\n",
       "  </tbody>\n",
       "</table>\n",
       "</div>"
      ],
      "text/plain": [
       "                   count\n",
       "runner_status           \n",
       "LOSER          89.018559\n",
       "WINNER         10.981441"
      ]
     },
     "execution_count": 113,
     "metadata": {},
     "output_type": "execute_result"
    }
   ],
   "source": [
    "pdf_1.groupby([\"runner_status\"])\\\n",
    ".agg({\"count\" : \"sum\"})[[\"count\"]]\\\n",
    ".apply(lambda x: 100*x/x.sum())\\\n",
    ".sort_values(by=\"count\", ascending=False)"
   ]
  },
  {
   "cell_type": "code",
   "execution_count": 116,
   "metadata": {},
   "outputs": [],
   "source": [
    "pdf_winners = pdf_1.loc[pdf_1['runner_status'] == \"WINNER\"]"
   ]
  },
  {
   "cell_type": "code",
   "execution_count": 123,
   "metadata": {},
   "outputs": [],
   "source": [
    "winner_percentages = pdf_winners.groupby([\"rank\"])\\\n",
    ".agg({\"count\" : \"sum\"})[[\"count\"]]\\\n",
    ".apply(lambda x: 100*x/x.sum())\\\n",
    ".sort_values(by=\"count\", ascending=False)"
   ]
  },
  {
   "cell_type": "code",
   "execution_count": 133,
   "metadata": {},
   "outputs": [
    {
     "data": {
      "text/plain": [
       "<AxesSubplot:title={'center':'Winner Distribution by Rank'}, xlabel='rank', ylabel='Percentage of Winners'>"
      ]
     },
     "execution_count": 133,
     "metadata": {},
     "output_type": "execute_result"
    },
    {
     "data": {
      "image/png": "[encoded data removed]",
      "text/plain": [
       "<Figure size 720x432 with 1 Axes>"
      ]
     },
     "metadata": {
      "needs_background": "light"
     },
     "output_type": "display_data"
    }
   ],
   "source": [
    "winner_percentages.plot(kind = 'bar', stacked=False, ylabel = 'Percentage of Winners', legend=False, title = 'Winner Distribution by Rank')"
   ]
  },
  {
   "cell_type": "code",
   "execution_count": 134,
   "metadata": {},
   "outputs": [],
   "source": [
    "pdf_losers = pdf_1.loc[pdf_1['runner_status'] == \"LOSER\"]"
   ]
  },
  {
   "cell_type": "code",
   "execution_count": 141,
   "metadata": {},
   "outputs": [],
   "source": [
    "loser_percentages = pdf_losers.groupby([\"rank\"])\\\n",
    ".agg({\"count\" : \"sum\"})[[\"count\"]]\\\n",
    ".apply(lambda x: 100*x/x.sum())\\\n",
    ".sort_values(by=\"count\", ascending=False)"
   ]
  },
  {
   "cell_type": "code",
   "execution_count": 139,
   "metadata": {},
   "outputs": [
    {
     "data": {
      "text/plain": [
       "<AxesSubplot:title={'center':'Loser Distribution by Rank'}, xlabel='rank', ylabel='Percentage of Losers'>"
      ]
     },
     "execution_count": 139,
     "metadata": {},
     "output_type": "execute_result"
    },
    {
     "data": {
      "image/png": "[encoded data removed]",
      "text/plain": [
       "<Figure size 720x432 with 1 Axes>"
      ]
     },
     "metadata": {
      "needs_background": "light"
     },
     "output_type": "display_data"
    }
   ],
   "source": [
    "loser_percentages.plot(kind = 'bar', stacked=False, ylabel = 'Percentage of Losers', legend=False, title = 'Loser Distribution by Rank', ylim=(0,50), color='r')"
   ]
  },
  {
   "cell_type": "code",
   "execution_count": null,
   "metadata": {},
   "outputs": [],
   "source": [
    "runners_wbsp_GoldCup = runners_wbsp.filter(runners_wbsp.event_id=='27653664')"
   ]
  },
  {
   "cell_type": "code",
   "execution_count": 22,
   "metadata": {},
   "outputs": [],
   "source": [
    "runners_wbsp_GoldCup = runners_wbsp.filter(runners_wbsp.market_name=='2m6f Hcap Chs')"
   ]
  },
  {
   "cell_type": "code",
   "execution_count": 23,
   "metadata": {},
   "outputs": [
    {
     "name": "stderr",
     "output_type": "stream",
     "text": [
      "[Stage 5:======================================================>  (19 + 1) / 20]\r"
     ]
    },
    {
     "name": "stdout",
     "output_type": "stream",
     "text": [
      "+--------------+--------------+-----------+-------------+--------+--------------+---------+--------------+-------------+-----+--------------------+\n",
      "|operation_type|published_time|  market_id|  market_name|event_id|    event_name|runner_id|   runner_name|runner_status|  bsp|runner_sort_priority|\n",
      "+--------------+--------------+-----------+-------------+--------+--------------+---------+--------------+-------------+-----+--------------------+\n",
      "|           mcm| 1463249411903|1.124822324|2m6f Hcap Chs|27794338|Uttox 14th May|  8016385|   Pandy Wells|        LOSER|  6.8|                   1|\n",
      "|           mcm| 1463249411903|1.124822324|2m6f Hcap Chs|27794338|Uttox 14th May|  8665937|   Dawnieriver|        LOSER|  4.6|                   2|\n",
      "|           mcm| 1463249411903|1.124822324|2m6f Hcap Chs|27794338|Uttox 14th May|  8170549|    Castletown|        LOSER| 4.68|                   3|\n",
      "|           mcm| 1463249411903|1.124822324|2m6f Hcap Chs|27794338|Uttox 14th May|  8599385|     Red Penny|        LOSER| 7.41|                   4|\n",
      "|           mcm| 1463249411903|1.124822324|2m6f Hcap Chs|27794338|Uttox 14th May|  4764482|   Roc De Guye|        LOSER|16.13|                   5|\n",
      "|           mcm| 1463249411903|1.124822324|2m6f Hcap Chs|27794338|Uttox 14th May|  4663505|  Cruising Bye|        LOSER|  8.6|                   6|\n",
      "|           mcm| 1463249411903|1.124822324|2m6f Hcap Chs|27794338|Uttox 14th May|  1532476|  La Madonnina|       WINNER| 16.0|                   7|\n",
      "|           mcm| 1463249411903|1.124822324|2m6f Hcap Chs|27794338|Uttox 14th May|  5972740|The Jugopolist|        LOSER|60.28|                   8|\n",
      "|           mcm| 1463249411903|1.124822324|2m6f Hcap Chs|27794338|Uttox 14th May|  8027180|  Sisterbrooke|        LOSER|64.07|                   9|\n",
      "|           mcm| 1463249411903|1.124822324|2m6f Hcap Chs|27794338|Uttox 14th May|  8016385|   Pandy Wells|        LOSER|  6.8|                   1|\n",
      "|           mcm| 1463249411903|1.124822324|2m6f Hcap Chs|27794338|Uttox 14th May|  8665937|   Dawnieriver|        LOSER|  4.6|                   2|\n",
      "|           mcm| 1463249411903|1.124822324|2m6f Hcap Chs|27794338|Uttox 14th May|  8170549|    Castletown|        LOSER| 4.68|                   3|\n",
      "|           mcm| 1463249411903|1.124822324|2m6f Hcap Chs|27794338|Uttox 14th May|  8599385|     Red Penny|        LOSER| 7.41|                   4|\n",
      "|           mcm| 1463249411903|1.124822324|2m6f Hcap Chs|27794338|Uttox 14th May|  4764482|   Roc De Guye|        LOSER|16.13|                   5|\n",
      "|           mcm| 1463249411903|1.124822324|2m6f Hcap Chs|27794338|Uttox 14th May|  4663505|  Cruising Bye|        LOSER|  8.6|                   6|\n",
      "|           mcm| 1463249411903|1.124822324|2m6f Hcap Chs|27794338|Uttox 14th May|  1532476|  La Madonnina|       WINNER| 16.0|                   7|\n",
      "|           mcm| 1463249411903|1.124822324|2m6f Hcap Chs|27794338|Uttox 14th May|  5972740|The Jugopolist|        LOSER|60.28|                   8|\n",
      "|           mcm| 1463249411903|1.124822324|2m6f Hcap Chs|27794338|Uttox 14th May|  8027180|  Sisterbrooke|        LOSER|64.07|                   9|\n",
      "|           mcm| 1462375957203|1.124626421|2m6f Hcap Chs|27782298|  Tram 4th May|  8996652|   Shadow Play|        LOSER| 2.99|                   2|\n",
      "|           mcm| 1462375957203|1.124626421|2m6f Hcap Chs|27782298|  Tram 4th May|  6365501|   Ballyfinboy|        LOSER| 7.09|                   3|\n",
      "+--------------+--------------+-----------+-------------+--------+--------------+---------+--------------+-------------+-----+--------------------+\n",
      "only showing top 20 rows\n",
      "\n"
     ]
    },
    {
     "name": "stderr",
     "output_type": "stream",
     "text": [
      "                                                                                \r"
     ]
    }
   ],
   "source": [
    "runners_wbsp_GoldCup.show()"
   ]
  },
  {
   "cell_type": "code",
   "execution_count": 35,
   "metadata": {},
   "outputs": [],
   "source": [
    "# Filter down to only the records that have Runners.\n",
    "runners_only = market_definitions.filter(market_definitions.runners.isNotNull())\n",
    "\n",
    "# Explode the Runners array.\n",
    "runners_exploded = runners_only.select(market_definitions.operation_type,\n",
    "                                       market_definitions.published_time,\n",
    "                                       market_definitions.market_id,\n",
    "                                       market_definitions.market_name,\n",
    "                                       market_definitions.event_id,\n",
    "                                       market_definitions.event_name,\n",
    "                                       explode(market_definitions.runners).alias('runner_row'))\n",
    "\n",
    "# Select the useful fields, and give them user friendly names.\n",
    "runners = runners_exploded.selectExpr('operation_type',\n",
    "                                      'published_time',\n",
    "                                      'market_id',\n",
    "                                      'market_name',\n",
    "                                      'event_id',\n",
    "                                      'event_name',\n",
    "                                      'runner_row.id AS runner_id',\n",
    "                                      'runner_row.name AS runner_name',\n",
    "                                      'runner_row.status AS runner_status',\n",
    "                                      'runner_row.sortPriority AS runner_sort_priority')\n",
    "\n",
    "# Filter down to only the records that have rc (runner changes).\n",
    "rc_only = mc_exploded.filter(mc_exploded.mc_row.rc.isNotNull())\n",
    "\n",
    "# Explode the rc (runner changes) array.\n",
    "rc_exploded = rc_only.select(rc_only.op.alias('operation_type'),\n",
    "                             rc_only.pt.alias('published_time'),\n",
    "                             rc_only.mc_row.id.alias('market_id'),\n",
    "                             explode(rc_only.mc_row.rc).alias('runner_change_row'))\n",
    "\n",
    "rc_exploded = rc_exploded.filter(rc_exploded.market_id=='1.122576498')\n",
    "\n",
    "# Select the useful fields, and give them user friendly names.\n",
    "runner_changes = rc_exploded.selectExpr('operation_type',\n",
    "                                        'published_time',\n",
    "                                        'market_id',\n",
    "                                        'runner_change_row.id AS runner_id',\n",
    "                                        'runner_change_row.ltp AS last_traded_price')\n",
    "\n"
   ]
  },
  {
   "cell_type": "code",
   "execution_count": 36,
   "metadata": {},
   "outputs": [
    {
     "name": "stderr",
     "output_type": "stream",
     "text": [
      "21/12/21 14:43:39 WARN TaskSetManager: Lost task 0.0 in stage 23.0 (TID 1083, 172.25.0.10, executor 0): org.apache.spark.sql.catalyst.errors.package$TreeNodeException: Binding attribute, tree: _gen_alias_530#530\n",
      "\tat org.apache.spark.sql.catalyst.errors.package$.attachTree(package.scala:56)\n",
      "\tat org.apache.spark.sql.catalyst.expressions.BindReferences$$anonfun$bindReference$1.applyOrElse(BoundAttribute.scala:75)\n",
      "\tat org.apache.spark.sql.catalyst.expressions.BindReferences$$anonfun$bindReference$1.applyOrElse(BoundAttribute.scala:74)\n",
      "\tat org.apache.spark.sql.catalyst.trees.TreeNode.$anonfun$transformDown$1(TreeNode.scala:309)\n",
      "\tat org.apache.spark.sql.catalyst.trees.CurrentOrigin$.withOrigin(TreeNode.scala:72)\n",
      "\tat org.apache.spark.sql.catalyst.trees.TreeNode.transformDown(TreeNode.scala:309)\n",
      "\tat org.apache.spark.sql.catalyst.trees.TreeNode.$anonfun$transformDown$3(TreeNode.scala:314)\n",
      "\tat org.apache.spark.sql.catalyst.trees.TreeNode.$anonfun$mapChildren$1(TreeNode.scala:399)\n",
      "\tat org.apache.spark.sql.catalyst.trees.TreeNode.mapProductIterator(TreeNode.scala:237)\n",
      "\tat org.apache.spark.sql.catalyst.trees.TreeNode.mapChildren(TreeNode.scala:397)\n",
      "\tat org.apache.spark.sql.catalyst.trees.TreeNode.mapChildren(TreeNode.scala:350)\n",
      "\tat org.apache.spark.sql.catalyst.trees.TreeNode.transformDown(TreeNode.scala:314)\n",
      "\tat org.apache.spark.sql.catalyst.trees.TreeNode.transform(TreeNode.scala:298)\n",
      "\tat org.apache.spark.sql.catalyst.expressions.BindReferences$.bindReference(BoundAttribute.scala:74)\n",
      "\tat org.apache.spark.sql.execution.GenerateExec.boundGenerator$lzycompute(GenerateExec.scala:75)\n",
      "\tat org.apache.spark.sql.execution.GenerateExec.boundGenerator(GenerateExec.scala:75)\n",
      "\tat org.apache.spark.sql.execution.GenerateExec.$anonfun$doExecute$6(GenerateExec.scala:101)\n",
      "\tat org.apache.spark.sql.execution.LazyIterator.results$lzycompute(GenerateExec.scala:36)\n",
      "\tat org.apache.spark.sql.execution.LazyIterator.results(GenerateExec.scala:36)\n",
      "\tat org.apache.spark.sql.execution.LazyIterator.hasNext(GenerateExec.scala:37)\n",
      "\tat scala.collection.Iterator$$anon$10.hasNext(Iterator.scala:458)\n",
      "\tat scala.collection.Iterator$ConcatIterator.advance(Iterator.scala:198)\n",
      "\tat scala.collection.Iterator$ConcatIterator.hasNext(Iterator.scala:225)\n",
      "\tat scala.collection.Iterator$$anon$10.hasNext(Iterator.scala:458)\n",
      "\tat org.apache.spark.sql.catalyst.expressions.GeneratedClass$GeneratedIteratorForCodegenStage3.processNext(Unknown Source)\n",
      "\tat org.apache.spark.sql.execution.BufferedRowIterator.hasNext(BufferedRowIterator.java:43)\n",
      "\tat org.apache.spark.sql.execution.WholeStageCodegenExec$$anon$1.hasNext(WholeStageCodegenExec.scala:729)\n",
      "\tat org.apache.spark.sql.execution.SparkPlan.$anonfun$getByteArrayRdd$1(SparkPlan.scala:340)\n",
      "\tat org.apache.spark.rdd.RDD.$anonfun$mapPartitionsInternal$2(RDD.scala:872)\n",
      "\tat org.apache.spark.rdd.RDD.$anonfun$mapPartitionsInternal$2$adapted(RDD.scala:872)\n",
      "\tat org.apache.spark.rdd.MapPartitionsRDD.compute(MapPartitionsRDD.scala:52)\n",
      "\tat org.apache.spark.rdd.RDD.computeOrReadCheckpoint(RDD.scala:349)\n",
      "\tat org.apache.spark.rdd.RDD.iterator(RDD.scala:313)\n",
      "\tat org.apache.spark.scheduler.ResultTask.runTask(ResultTask.scala:90)\n",
      "\tat org.apache.spark.scheduler.Task.run(Task.scala:127)\n",
      "\tat org.apache.spark.executor.Executor$TaskRunner.$anonfun$run$3(Executor.scala:444)\n",
      "\tat org.apache.spark.util.Utils$.tryWithSafeFinally(Utils.scala:1377)\n",
      "\tat org.apache.spark.executor.Executor$TaskRunner.run(Executor.scala:447)\n",
      "\tat java.util.concurrent.ThreadPoolExecutor.runWorker(ThreadPoolExecutor.java:1149)\n",
      "\tat java.util.concurrent.ThreadPoolExecutor$Worker.run(ThreadPoolExecutor.java:624)\n",
      "\tat java.lang.Thread.run(Thread.java:748)\n",
      "Caused by: java.lang.RuntimeException: Couldn't find _gen_alias_530#530 in [op#3,pt#4L,_gen_alias_529#529]\n",
      "\tat scala.sys.package$.error(package.scala:30)\n",
      "\tat org.apache.spark.sql.catalyst.expressions.BindReferences$$anonfun$bindReference$1.$anonfun$applyOrElse$1(BoundAttribute.scala:81)\n",
      "\tat org.apache.spark.sql.catalyst.errors.package$.attachTree(package.scala:52)\n",
      "\t... 40 more\n",
      "\n",
      "21/12/21 14:43:40 ERROR TaskSetManager: Task 0 in stage 23.0 failed 4 times; aborting job\n"
     ]
    },
    {
     "ename": "Py4JJavaError",
     "evalue": "An error occurred while calling o328.collectToPython.\n: org.apache.spark.SparkException: Job aborted due to stage failure: Task 0 in stage 23.0 failed 4 times, most recent failure: Lost task 0.3 in stage 23.0 (TID 1086, 172.25.0.10, executor 0): org.apache.spark.sql.catalyst.errors.package$TreeNodeException: Binding attribute, tree: _gen_alias_530#530\n\tat org.apache.spark.sql.catalyst.errors.package$.attachTree(package.scala:56)\n\tat org.apache.spark.sql.catalyst.expressions.BindReferences$$anonfun$bindReference$1.applyOrElse(BoundAttribute.scala:75)\n\tat org.apache.spark.sql.catalyst.expressions.BindReferences$$anonfun$bindReference$1.applyOrElse(BoundAttribute.scala:74)\n\tat org.apache.spark.sql.catalyst.trees.TreeNode.$anonfun$transformDown$1(TreeNode.scala:309)\n\tat org.apache.spark.sql.catalyst.trees.CurrentOrigin$.withOrigin(TreeNode.scala:72)\n\tat org.apache.spark.sql.catalyst.trees.TreeNode.transformDown(TreeNode.scala:309)\n\tat org.apache.spark.sql.catalyst.trees.TreeNode.$anonfun$transformDown$3(TreeNode.scala:314)\n\tat org.apache.spark.sql.catalyst.trees.TreeNode.$anonfun$mapChildren$1(TreeNode.scala:399)\n\tat org.apache.spark.sql.catalyst.trees.TreeNode.mapProductIterator(TreeNode.scala:237)\n\tat org.apache.spark.sql.catalyst.trees.TreeNode.mapChildren(TreeNode.scala:397)\n\tat org.apache.spark.sql.catalyst.trees.TreeNode.mapChildren(TreeNode.scala:350)\n\tat org.apache.spark.sql.catalyst.trees.TreeNode.transformDown(TreeNode.scala:314)\n\tat org.apache.spark.sql.catalyst.trees.TreeNode.transform(TreeNode.scala:298)\n\tat org.apache.spark.sql.catalyst.expressions.BindReferences$.bindReference(BoundAttribute.scala:74)\n\tat org.apache.spark.sql.execution.GenerateExec.boundGenerator$lzycompute(GenerateExec.scala:75)\n\tat org.apache.spark.sql.execution.GenerateExec.boundGenerator(GenerateExec.scala:75)\n\tat org.apache.spark.sql.execution.GenerateExec.$anonfun$doExecute$6(GenerateExec.scala:101)\n\tat org.apache.spark.sql.execution.LazyIterator.results$lzycompute(GenerateExec.scala:36)\n\tat org.apache.spark.sql.execution.LazyIterator.results(GenerateExec.scala:36)\n\tat org.apache.spark.sql.execution.LazyIterator.hasNext(GenerateExec.scala:37)\n\tat scala.collection.Iterator$$anon$10.hasNext(Iterator.scala:458)\n\tat scala.collection.Iterator$ConcatIterator.advance(Iterator.scala:198)\n\tat scala.collection.Iterator$ConcatIterator.hasNext(Iterator.scala:225)\n\tat scala.collection.Iterator$$anon$10.hasNext(Iterator.scala:458)\n\tat org.apache.spark.sql.catalyst.expressions.GeneratedClass$GeneratedIteratorForCodegenStage3.processNext(Unknown Source)\n\tat org.apache.spark.sql.execution.BufferedRowIterator.hasNext(BufferedRowIterator.java:43)\n\tat org.apache.spark.sql.execution.WholeStageCodegenExec$$anon$1.hasNext(WholeStageCodegenExec.scala:729)\n\tat org.apache.spark.sql.execution.SparkPlan.$anonfun$getByteArrayRdd$1(SparkPlan.scala:340)\n\tat org.apache.spark.rdd.RDD.$anonfun$mapPartitionsInternal$2(RDD.scala:872)\n\tat org.apache.spark.rdd.RDD.$anonfun$mapPartitionsInternal$2$adapted(RDD.scala:872)\n\tat org.apache.spark.rdd.MapPartitionsRDD.compute(MapPartitionsRDD.scala:52)\n\tat org.apache.spark.rdd.RDD.computeOrReadCheckpoint(RDD.scala:349)\n\tat org.apache.spark.rdd.RDD.iterator(RDD.scala:313)\n\tat org.apache.spark.scheduler.ResultTask.runTask(ResultTask.scala:90)\n\tat org.apache.spark.scheduler.Task.run(Task.scala:127)\n\tat org.apache.spark.executor.Executor$TaskRunner.$anonfun$run$3(Executor.scala:444)\n\tat org.apache.spark.util.Utils$.tryWithSafeFinally(Utils.scala:1377)\n\tat org.apache.spark.executor.Executor$TaskRunner.run(Executor.scala:447)\n\tat java.util.concurrent.ThreadPoolExecutor.runWorker(ThreadPoolExecutor.java:1149)\n\tat java.util.concurrent.ThreadPoolExecutor$Worker.run(ThreadPoolExecutor.java:624)\n\tat java.lang.Thread.run(Thread.java:748)\nCaused by: java.lang.RuntimeException: Couldn't find _gen_alias_530#530 in [op#3,pt#4L,_gen_alias_529#529]\n\tat scala.sys.package$.error(package.scala:30)\n\tat org.apache.spark.sql.catalyst.expressions.BindReferences$$anonfun$bindReference$1.$anonfun$applyOrElse$1(BoundAttribute.scala:81)\n\tat org.apache.spark.sql.catalyst.errors.package$.attachTree(package.scala:52)\n\t... 40 more\n\nDriver stacktrace:\n\tat org.apache.spark.scheduler.DAGScheduler.failJobAndIndependentStages(DAGScheduler.scala:2023)\n\tat org.apache.spark.scheduler.DAGScheduler.$anonfun$abortStage$2(DAGScheduler.scala:1972)\n\tat org.apache.spark.scheduler.DAGScheduler.$anonfun$abortStage$2$adapted(DAGScheduler.scala:1971)\n\tat scala.collection.mutable.ResizableArray.foreach(ResizableArray.scala:62)\n\tat scala.collection.mutable.ResizableArray.foreach$(ResizableArray.scala:55)\n\tat scala.collection.mutable.ArrayBuffer.foreach(ArrayBuffer.scala:49)\n\tat org.apache.spark.scheduler.DAGScheduler.abortStage(DAGScheduler.scala:1971)\n\tat org.apache.spark.scheduler.DAGScheduler.$anonfun$handleTaskSetFailed$1(DAGScheduler.scala:950)\n\tat org.apache.spark.scheduler.DAGScheduler.$anonfun$handleTaskSetFailed$1$adapted(DAGScheduler.scala:950)\n\tat scala.Option.foreach(Option.scala:407)\n\tat org.apache.spark.scheduler.DAGScheduler.handleTaskSetFailed(DAGScheduler.scala:950)\n\tat org.apache.spark.scheduler.DAGSchedulerEventProcessLoop.doOnReceive(DAGScheduler.scala:2203)\n\tat org.apache.spark.scheduler.DAGSchedulerEventProcessLoop.onReceive(DAGScheduler.scala:2152)\n\tat org.apache.spark.scheduler.DAGSchedulerEventProcessLoop.onReceive(DAGScheduler.scala:2141)\n\tat org.apache.spark.util.EventLoop$$anon$1.run(EventLoop.scala:49)\n\tat org.apache.spark.scheduler.DAGScheduler.runJob(DAGScheduler.scala:752)\n\tat org.apache.spark.SparkContext.runJob(SparkContext.scala:2093)\n\tat org.apache.spark.SparkContext.runJob(SparkContext.scala:2114)\n\tat org.apache.spark.SparkContext.runJob(SparkContext.scala:2133)\n\tat org.apache.spark.sql.execution.SparkPlan.executeTake(SparkPlan.scala:467)\n\tat org.apache.spark.sql.execution.SparkPlan.executeTake(SparkPlan.scala:420)\n\tat org.apache.spark.sql.execution.CollectLimitExec.executeCollect(limit.scala:47)\n\tat org.apache.spark.sql.Dataset.$anonfun$collectToPython$1(Dataset.scala:3448)\n\tat org.apache.spark.sql.Dataset.$anonfun$withAction$1(Dataset.scala:3616)\n\tat org.apache.spark.sql.execution.SQLExecution$.$anonfun$withNewExecutionId$5(SQLExecution.scala:100)\n\tat org.apache.spark.sql.execution.SQLExecution$.withSQLConfPropagated(SQLExecution.scala:160)\n\tat org.apache.spark.sql.execution.SQLExecution$.$anonfun$withNewExecutionId$1(SQLExecution.scala:87)\n\tat org.apache.spark.sql.SparkSession.withActive(SparkSession.scala:763)\n\tat org.apache.spark.sql.execution.SQLExecution$.withNewExecutionId(SQLExecution.scala:64)\n\tat org.apache.spark.sql.Dataset.withAction(Dataset.scala:3614)\n\tat org.apache.spark.sql.Dataset.collectToPython(Dataset.scala:3445)\n\tat java.base/jdk.internal.reflect.NativeMethodAccessorImpl.invoke0(Native Method)\n\tat java.base/jdk.internal.reflect.NativeMethodAccessorImpl.invoke(NativeMethodAccessorImpl.java:62)\n\tat java.base/jdk.internal.reflect.DelegatingMethodAccessorImpl.invoke(DelegatingMethodAccessorImpl.java:43)\n\tat java.base/java.lang.reflect.Method.invoke(Method.java:566)\n\tat py4j.reflection.MethodInvoker.invoke(MethodInvoker.java:244)\n\tat py4j.reflection.ReflectionEngine.invoke(ReflectionEngine.java:357)\n\tat py4j.Gateway.invoke(Gateway.java:282)\n\tat py4j.commands.AbstractCommand.invokeMethod(AbstractCommand.java:132)\n\tat py4j.commands.CallCommand.execute(CallCommand.java:79)\n\tat py4j.GatewayConnection.run(GatewayConnection.java:238)\n\tat java.base/java.lang.Thread.run(Thread.java:834)\nCaused by: org.apache.spark.sql.catalyst.errors.package$TreeNodeException: Binding attribute, tree: null\n\tat org.apache.spark.sql.catalyst.errors.package$.attachTree(package.scala:56)\n\tat org.apache.spark.sql.catalyst.expressions.BindReferences$$anonfun$bindReference$1.applyOrElse(BoundAttribute.scala:75)\n\tat org.apache.spark.sql.catalyst.expressions.BindReferences$$anonfun$bindReference$1.applyOrElse(BoundAttribute.scala:74)\n\tat org.apache.spark.sql.catalyst.trees.TreeNode.$anonfun$transformDown$1(TreeNode.scala:309)\n\tat org.apache.spark.sql.catalyst.trees.CurrentOrigin$.withOrigin(TreeNode.scala:72)\n\tat org.apache.spark.sql.catalyst.trees.TreeNode.transformDown(TreeNode.scala:309)\n\tat org.apache.spark.sql.catalyst.trees.TreeNode.$anonfun$transformDown$3(TreeNode.scala:314)\n\tat org.apache.spark.sql.catalyst.trees.TreeNode.$anonfun$mapChildren$1(TreeNode.scala:399)\n\tat org.apache.spark.sql.catalyst.trees.TreeNode.mapProductIterator(TreeNode.scala:237)\n\tat org.apache.spark.sql.catalyst.trees.TreeNode.mapChildren(TreeNode.scala:397)\n\tat org.apache.spark.sql.catalyst.trees.TreeNode.mapChildren(TreeNode.scala:350)\n\tat org.apache.spark.sql.catalyst.trees.TreeNode.transformDown(TreeNode.scala:314)\n\tat org.apache.spark.sql.catalyst.trees.TreeNode.transform(TreeNode.scala:298)\n\tat org.apache.spark.sql.catalyst.expressions.BindReferences$.bindReference(BoundAttribute.scala:74)\n\tat org.apache.spark.sql.execution.GenerateExec.boundGenerator$lzycompute(GenerateExec.scala:75)\n\tat org.apache.spark.sql.execution.GenerateExec.boundGenerator(GenerateExec.scala:75)\n\tat org.apache.spark.sql.execution.GenerateExec.$anonfun$doExecute$6(GenerateExec.scala:101)\n\tat org.apache.spark.sql.execution.LazyIterator.results$lzycompute(GenerateExec.scala:36)\n\tat org.apache.spark.sql.execution.LazyIterator.results(GenerateExec.scala:36)\n\tat org.apache.spark.sql.execution.LazyIterator.hasNext(GenerateExec.scala:37)\n\tat scala.collection.Iterator$$anon$10.hasNext(Iterator.scala:458)\n\tat scala.collection.Iterator$ConcatIterator.advance(Iterator.scala:198)\n\tat scala.collection.Iterator$ConcatIterator.hasNext(Iterator.scala:225)\n\tat scala.collection.Iterator$$anon$10.hasNext(Iterator.scala:458)\n\tat org.apache.spark.sql.catalyst.expressions.GeneratedClass$GeneratedIteratorForCodegenStage3.processNext(Unknown Source)\n\tat org.apache.spark.sql.execution.BufferedRowIterator.hasNext(BufferedRowIterator.java:43)\n\tat org.apache.spark.sql.execution.WholeStageCodegenExec$$anon$1.hasNext(WholeStageCodegenExec.scala:729)\n\tat org.apache.spark.sql.execution.SparkPlan.$anonfun$getByteArrayRdd$1(SparkPlan.scala:340)\n\tat org.apache.spark.rdd.RDD.$anonfun$mapPartitionsInternal$2(RDD.scala:872)\n\tat org.apache.spark.rdd.RDD.$anonfun$mapPartitionsInternal$2$adapted(RDD.scala:872)\n\tat org.apache.spark.rdd.MapPartitionsRDD.compute(MapPartitionsRDD.scala:52)\n\tat org.apache.spark.rdd.RDD.computeOrReadCheckpoint(RDD.scala:349)\n\tat org.apache.spark.rdd.RDD.iterator(RDD.scala:313)\n\tat org.apache.spark.scheduler.ResultTask.runTask(ResultTask.scala:90)\n\tat org.apache.spark.scheduler.Task.run(Task.scala:127)\n\tat org.apache.spark.executor.Executor$TaskRunner.$anonfun$run$3(Executor.scala:444)\n\tat org.apache.spark.util.Utils$.tryWithSafeFinally(Utils.scala:1377)\n\tat org.apache.spark.executor.Executor$TaskRunner.run(Executor.scala:447)\n\tat java.util.concurrent.ThreadPoolExecutor.runWorker(ThreadPoolExecutor.java:1149)\n\tat java.util.concurrent.ThreadPoolExecutor$Worker.run(ThreadPoolExecutor.java:624)\n\tat java.lang.Thread.run(Thread.java:748)\nCaused by: java.lang.RuntimeException: Couldn't find _gen_alias_530#530 in [op#3,pt#4L,_gen_alias_529#529]\n\tat scala.sys.package$.error(package.scala:30)\n\tat org.apache.spark.sql.catalyst.expressions.BindReferences$$anonfun$bindReference$1.$anonfun$applyOrElse$1(BoundAttribute.scala:81)\n\tat org.apache.spark.sql.catalyst.errors.package$.attachTree(package.scala:52)\n\t... 40 more\n",
     "output_type": "error",
     "traceback": [
      "\u001b[0;31m---------------------------------------------------------------------------\u001b[0m",
      "\u001b[0;31mPy4JJavaError\u001b[0m                             Traceback (most recent call last)",
      "\u001b[0;32m/tmp/ipykernel_3474/3499794527.py\u001b[0m in \u001b[0;36m<module>\u001b[0;34m\u001b[0m\n\u001b[0;32m----> 1\u001b[0;31m \u001b[0mrunner_changes\u001b[0m\u001b[0;34m.\u001b[0m\u001b[0mhead\u001b[0m\u001b[0;34m(\u001b[0m\u001b[0;36m10\u001b[0m\u001b[0;34m)\u001b[0m\u001b[0;34m\u001b[0m\u001b[0;34m\u001b[0m\u001b[0m\n\u001b[0m",
      "\u001b[0;32m/usr/local/spark/python/pyspark/sql/dataframe.py\u001b[0m in \u001b[0;36mhead\u001b[0;34m(self, n)\u001b[0m\n\u001b[1;32m   1351\u001b[0m             \u001b[0mrs\u001b[0m \u001b[0;34m=\u001b[0m \u001b[0mself\u001b[0m\u001b[0;34m.\u001b[0m\u001b[0mhead\u001b[0m\u001b[0;34m(\u001b[0m\u001b[0;36m1\u001b[0m\u001b[0;34m)\u001b[0m\u001b[0;34m\u001b[0m\u001b[0;34m\u001b[0m\u001b[0m\n\u001b[1;32m   1352\u001b[0m             \u001b[0;32mreturn\u001b[0m \u001b[0mrs\u001b[0m\u001b[0;34m[\u001b[0m\u001b[0;36m0\u001b[0m\u001b[0;34m]\u001b[0m \u001b[0;32mif\u001b[0m \u001b[0mrs\u001b[0m \u001b[0;32melse\u001b[0m \u001b[0;32mNone\u001b[0m\u001b[0;34m\u001b[0m\u001b[0;34m\u001b[0m\u001b[0m\n\u001b[0;32m-> 1353\u001b[0;31m         \u001b[0;32mreturn\u001b[0m \u001b[0mself\u001b[0m\u001b[0;34m.\u001b[0m\u001b[0mtake\u001b[0m\u001b[0;34m(\u001b[0m\u001b[0mn\u001b[0m\u001b[0;34m)\u001b[0m\u001b[0;34m\u001b[0m\u001b[0;34m\u001b[0m\u001b[0m\n\u001b[0m\u001b[1;32m   1354\u001b[0m \u001b[0;34m\u001b[0m\u001b[0m\n\u001b[1;32m   1355\u001b[0m     \u001b[0;34m@\u001b[0m\u001b[0mignore_unicode_prefix\u001b[0m\u001b[0;34m\u001b[0m\u001b[0;34m\u001b[0m\u001b[0m\n",
      "\u001b[0;32m/usr/local/spark/python/pyspark/sql/dataframe.py\u001b[0m in \u001b[0;36mtake\u001b[0;34m(self, num)\u001b[0m\n\u001b[1;32m    637\u001b[0m         \u001b[0;34m[\u001b[0m\u001b[0mRow\u001b[0m\u001b[0;34m(\u001b[0m\u001b[0mage\u001b[0m\u001b[0;34m=\u001b[0m\u001b[0;36m2\u001b[0m\u001b[0;34m,\u001b[0m \u001b[0mname\u001b[0m\u001b[0;34m=\u001b[0m\u001b[0;34mu'Alice'\u001b[0m\u001b[0;34m)\u001b[0m\u001b[0;34m,\u001b[0m \u001b[0mRow\u001b[0m\u001b[0;34m(\u001b[0m\u001b[0mage\u001b[0m\u001b[0;34m=\u001b[0m\u001b[0;36m5\u001b[0m\u001b[0;34m,\u001b[0m \u001b[0mname\u001b[0m\u001b[0;34m=\u001b[0m\u001b[0;34mu'Bob'\u001b[0m\u001b[0;34m)\u001b[0m\u001b[0;34m]\u001b[0m\u001b[0;34m\u001b[0m\u001b[0;34m\u001b[0m\u001b[0m\n\u001b[1;32m    638\u001b[0m         \"\"\"\n\u001b[0;32m--> 639\u001b[0;31m         \u001b[0;32mreturn\u001b[0m \u001b[0mself\u001b[0m\u001b[0;34m.\u001b[0m\u001b[0mlimit\u001b[0m\u001b[0;34m(\u001b[0m\u001b[0mnum\u001b[0m\u001b[0;34m)\u001b[0m\u001b[0;34m.\u001b[0m\u001b[0mcollect\u001b[0m\u001b[0;34m(\u001b[0m\u001b[0;34m)\u001b[0m\u001b[0;34m\u001b[0m\u001b[0;34m\u001b[0m\u001b[0m\n\u001b[0m\u001b[1;32m    640\u001b[0m \u001b[0;34m\u001b[0m\u001b[0m\n\u001b[1;32m    641\u001b[0m     \u001b[0;34m@\u001b[0m\u001b[0mignore_unicode_prefix\u001b[0m\u001b[0;34m\u001b[0m\u001b[0;34m\u001b[0m\u001b[0m\n",
      "\u001b[0;32m/usr/local/spark/python/pyspark/sql/dataframe.py\u001b[0m in \u001b[0;36mcollect\u001b[0;34m(self)\u001b[0m\n\u001b[1;32m    594\u001b[0m         \"\"\"\n\u001b[1;32m    595\u001b[0m         \u001b[0;32mwith\u001b[0m \u001b[0mSCCallSiteSync\u001b[0m\u001b[0;34m(\u001b[0m\u001b[0mself\u001b[0m\u001b[0;34m.\u001b[0m\u001b[0m_sc\u001b[0m\u001b[0;34m)\u001b[0m \u001b[0;32mas\u001b[0m \u001b[0mcss\u001b[0m\u001b[0;34m:\u001b[0m\u001b[0;34m\u001b[0m\u001b[0;34m\u001b[0m\u001b[0m\n\u001b[0;32m--> 596\u001b[0;31m             \u001b[0msock_info\u001b[0m \u001b[0;34m=\u001b[0m \u001b[0mself\u001b[0m\u001b[0;34m.\u001b[0m\u001b[0m_jdf\u001b[0m\u001b[0;34m.\u001b[0m\u001b[0mcollectToPython\u001b[0m\u001b[0;34m(\u001b[0m\u001b[0;34m)\u001b[0m\u001b[0;34m\u001b[0m\u001b[0;34m\u001b[0m\u001b[0m\n\u001b[0m\u001b[1;32m    597\u001b[0m         \u001b[0;32mreturn\u001b[0m \u001b[0mlist\u001b[0m\u001b[0;34m(\u001b[0m\u001b[0m_load_from_socket\u001b[0m\u001b[0;34m(\u001b[0m\u001b[0msock_info\u001b[0m\u001b[0;34m,\u001b[0m \u001b[0mBatchedSerializer\u001b[0m\u001b[0;34m(\u001b[0m\u001b[0mPickleSerializer\u001b[0m\u001b[0;34m(\u001b[0m\u001b[0;34m)\u001b[0m\u001b[0;34m)\u001b[0m\u001b[0;34m)\u001b[0m\u001b[0;34m)\u001b[0m\u001b[0;34m\u001b[0m\u001b[0;34m\u001b[0m\u001b[0m\n\u001b[1;32m    598\u001b[0m \u001b[0;34m\u001b[0m\u001b[0m\n",
      "\u001b[0;32m/usr/local/spark/python/lib/py4j-0.10.9-src.zip/py4j/java_gateway.py\u001b[0m in \u001b[0;36m__call__\u001b[0;34m(self, *args)\u001b[0m\n\u001b[1;32m   1303\u001b[0m         \u001b[0manswer\u001b[0m \u001b[0;34m=\u001b[0m \u001b[0mself\u001b[0m\u001b[0;34m.\u001b[0m\u001b[0mgateway_client\u001b[0m\u001b[0;34m.\u001b[0m\u001b[0msend_command\u001b[0m\u001b[0;34m(\u001b[0m\u001b[0mcommand\u001b[0m\u001b[0;34m)\u001b[0m\u001b[0;34m\u001b[0m\u001b[0;34m\u001b[0m\u001b[0m\n\u001b[1;32m   1304\u001b[0m         return_value = get_return_value(\n\u001b[0;32m-> 1305\u001b[0;31m             answer, self.gateway_client, self.target_id, self.name)\n\u001b[0m\u001b[1;32m   1306\u001b[0m \u001b[0;34m\u001b[0m\u001b[0m\n\u001b[1;32m   1307\u001b[0m         \u001b[0;32mfor\u001b[0m \u001b[0mtemp_arg\u001b[0m \u001b[0;32min\u001b[0m \u001b[0mtemp_args\u001b[0m\u001b[0;34m:\u001b[0m\u001b[0;34m\u001b[0m\u001b[0;34m\u001b[0m\u001b[0m\n",
      "\u001b[0;32m/usr/local/spark/python/pyspark/sql/utils.py\u001b[0m in \u001b[0;36mdeco\u001b[0;34m(*a, **kw)\u001b[0m\n\u001b[1;32m    129\u001b[0m     \u001b[0;32mdef\u001b[0m \u001b[0mdeco\u001b[0m\u001b[0;34m(\u001b[0m\u001b[0;34m*\u001b[0m\u001b[0ma\u001b[0m\u001b[0;34m,\u001b[0m \u001b[0;34m**\u001b[0m\u001b[0mkw\u001b[0m\u001b[0;34m)\u001b[0m\u001b[0;34m:\u001b[0m\u001b[0;34m\u001b[0m\u001b[0;34m\u001b[0m\u001b[0m\n\u001b[1;32m    130\u001b[0m         \u001b[0;32mtry\u001b[0m\u001b[0;34m:\u001b[0m\u001b[0;34m\u001b[0m\u001b[0;34m\u001b[0m\u001b[0m\n\u001b[0;32m--> 131\u001b[0;31m             \u001b[0;32mreturn\u001b[0m \u001b[0mf\u001b[0m\u001b[0;34m(\u001b[0m\u001b[0;34m*\u001b[0m\u001b[0ma\u001b[0m\u001b[0;34m,\u001b[0m \u001b[0;34m**\u001b[0m\u001b[0mkw\u001b[0m\u001b[0;34m)\u001b[0m\u001b[0;34m\u001b[0m\u001b[0;34m\u001b[0m\u001b[0m\n\u001b[0m\u001b[1;32m    132\u001b[0m         \u001b[0;32mexcept\u001b[0m \u001b[0mpy4j\u001b[0m\u001b[0;34m.\u001b[0m\u001b[0mprotocol\u001b[0m\u001b[0;34m.\u001b[0m\u001b[0mPy4JJavaError\u001b[0m \u001b[0;32mas\u001b[0m \u001b[0me\u001b[0m\u001b[0;34m:\u001b[0m\u001b[0;34m\u001b[0m\u001b[0;34m\u001b[0m\u001b[0m\n\u001b[1;32m    133\u001b[0m             \u001b[0mconverted\u001b[0m \u001b[0;34m=\u001b[0m \u001b[0mconvert_exception\u001b[0m\u001b[0;34m(\u001b[0m\u001b[0me\u001b[0m\u001b[0;34m.\u001b[0m\u001b[0mjava_exception\u001b[0m\u001b[0;34m)\u001b[0m\u001b[0;34m\u001b[0m\u001b[0;34m\u001b[0m\u001b[0m\n",
      "\u001b[0;32m/usr/local/spark/python/lib/py4j-0.10.9-src.zip/py4j/protocol.py\u001b[0m in \u001b[0;36mget_return_value\u001b[0;34m(answer, gateway_client, target_id, name)\u001b[0m\n\u001b[1;32m    326\u001b[0m                 raise Py4JJavaError(\n\u001b[1;32m    327\u001b[0m                     \u001b[0;34m\"An error occurred while calling {0}{1}{2}.\\n\"\u001b[0m\u001b[0;34m.\u001b[0m\u001b[0;34m\u001b[0m\u001b[0;34m\u001b[0m\u001b[0m\n\u001b[0;32m--> 328\u001b[0;31m                     format(target_id, \".\", name), value)\n\u001b[0m\u001b[1;32m    329\u001b[0m             \u001b[0;32melse\u001b[0m\u001b[0;34m:\u001b[0m\u001b[0;34m\u001b[0m\u001b[0;34m\u001b[0m\u001b[0m\n\u001b[1;32m    330\u001b[0m                 raise Py4JError(\n",
      "\u001b[0;31mPy4JJavaError\u001b[0m: An error occurred while calling o328.collectToPython.\n: org.apache.spark.SparkException: Job aborted due to stage failure: Task 0 in stage 23.0 failed 4 times, most recent failure: Lost task 0.3 in stage 23.0 (TID 1086, 172.25.0.10, executor 0): org.apache.spark.sql.catalyst.errors.package$TreeNodeException: Binding attribute, tree: _gen_alias_530#530\n\tat org.apache.spark.sql.catalyst.errors.package$.attachTree(package.scala:56)\n\tat org.apache.spark.sql.catalyst.expressions.BindReferences$$anonfun$bindReference$1.applyOrElse(BoundAttribute.scala:75)\n\tat org.apache.spark.sql.catalyst.expressions.BindReferences$$anonfun$bindReference$1.applyOrElse(BoundAttribute.scala:74)\n\tat org.apache.spark.sql.catalyst.trees.TreeNode.$anonfun$transformDown$1(TreeNode.scala:309)\n\tat org.apache.spark.sql.catalyst.trees.CurrentOrigin$.withOrigin(TreeNode.scala:72)\n\tat org.apache.spark.sql.catalyst.trees.TreeNode.transformDown(TreeNode.scala:309)\n\tat org.apache.spark.sql.catalyst.trees.TreeNode.$anonfun$transformDown$3(TreeNode.scala:314)\n\tat org.apache.spark.sql.catalyst.trees.TreeNode.$anonfun$mapChildren$1(TreeNode.scala:399)\n\tat org.apache.spark.sql.catalyst.trees.TreeNode.mapProductIterator(TreeNode.scala:237)\n\tat org.apache.spark.sql.catalyst.trees.TreeNode.mapChildren(TreeNode.scala:397)\n\tat org.apache.spark.sql.catalyst.trees.TreeNode.mapChildren(TreeNode.scala:350)\n\tat org.apache.spark.sql.catalyst.trees.TreeNode.transformDown(TreeNode.scala:314)\n\tat org.apache.spark.sql.catalyst.trees.TreeNode.transform(TreeNode.scala:298)\n\tat org.apache.spark.sql.catalyst.expressions.BindReferences$.bindReference(BoundAttribute.scala:74)\n\tat org.apache.spark.sql.execution.GenerateExec.boundGenerator$lzycompute(GenerateExec.scala:75)\n\tat org.apache.spark.sql.execution.GenerateExec.boundGenerator(GenerateExec.scala:75)\n\tat org.apache.spark.sql.execution.GenerateExec.$anonfun$doExecute$6(GenerateExec.scala:101)\n\tat org.apache.spark.sql.execution.LazyIterator.results$lzycompute(GenerateExec.scala:36)\n\tat org.apache.spark.sql.execution.LazyIterator.results(GenerateExec.scala:36)\n\tat org.apache.spark.sql.execution.LazyIterator.hasNext(GenerateExec.scala:37)\n\tat scala.collection.Iterator$$anon$10.hasNext(Iterator.scala:458)\n\tat scala.collection.Iterator$ConcatIterator.advance(Iterator.scala:198)\n\tat scala.collection.Iterator$ConcatIterator.hasNext(Iterator.scala:225)\n\tat scala.collection.Iterator$$anon$10.hasNext(Iterator.scala:458)\n\tat org.apache.spark.sql.catalyst.expressions.GeneratedClass$GeneratedIteratorForCodegenStage3.processNext(Unknown Source)\n\tat org.apache.spark.sql.execution.BufferedRowIterator.hasNext(BufferedRowIterator.java:43)\n\tat org.apache.spark.sql.execution.WholeStageCodegenExec$$anon$1.hasNext(WholeStageCodegenExec.scala:729)\n\tat org.apache.spark.sql.execution.SparkPlan.$anonfun$getByteArrayRdd$1(SparkPlan.scala:340)\n\tat org.apache.spark.rdd.RDD.$anonfun$mapPartitionsInternal$2(RDD.scala:872)\n\tat org.apache.spark.rdd.RDD.$anonfun$mapPartitionsInternal$2$adapted(RDD.scala:872)\n\tat org.apache.spark.rdd.MapPartitionsRDD.compute(MapPartitionsRDD.scala:52)\n\tat org.apache.spark.rdd.RDD.computeOrReadCheckpoint(RDD.scala:349)\n\tat org.apache.spark.rdd.RDD.iterator(RDD.scala:313)\n\tat org.apache.spark.scheduler.ResultTask.runTask(ResultTask.scala:90)\n\tat org.apache.spark.scheduler.Task.run(Task.scala:127)\n\tat org.apache.spark.executor.Executor$TaskRunner.$anonfun$run$3(Executor.scala:444)\n\tat org.apache.spark.util.Utils$.tryWithSafeFinally(Utils.scala:1377)\n\tat org.apache.spark.executor.Executor$TaskRunner.run(Executor.scala:447)\n\tat java.util.concurrent.ThreadPoolExecutor.runWorker(ThreadPoolExecutor.java:1149)\n\tat java.util.concurrent.ThreadPoolExecutor$Worker.run(ThreadPoolExecutor.java:624)\n\tat java.lang.Thread.run(Thread.java:748)\nCaused by: java.lang.RuntimeException: Couldn't find _gen_alias_530#530 in [op#3,pt#4L,_gen_alias_529#529]\n\tat scala.sys.package$.error(package.scala:30)\n\tat org.apache.spark.sql.catalyst.expressions.BindReferences$$anonfun$bindReference$1.$anonfun$applyOrElse$1(BoundAttribute.scala:81)\n\tat org.apache.spark.sql.catalyst.errors.package$.attachTree(package.scala:52)\n\t... 40 more\n\nDriver stacktrace:\n\tat org.apache.spark.scheduler.DAGScheduler.failJobAndIndependentStages(DAGScheduler.scala:2023)\n\tat org.apache.spark.scheduler.DAGScheduler.$anonfun$abortStage$2(DAGScheduler.scala:1972)\n\tat org.apache.spark.scheduler.DAGScheduler.$anonfun$abortStage$2$adapted(DAGScheduler.scala:1971)\n\tat scala.collection.mutable.ResizableArray.foreach(ResizableArray.scala:62)\n\tat scala.collection.mutable.ResizableArray.foreach$(ResizableArray.scala:55)\n\tat scala.collection.mutable.ArrayBuffer.foreach(ArrayBuffer.scala:49)\n\tat org.apache.spark.scheduler.DAGScheduler.abortStage(DAGScheduler.scala:1971)\n\tat org.apache.spark.scheduler.DAGScheduler.$anonfun$handleTaskSetFailed$1(DAGScheduler.scala:950)\n\tat org.apache.spark.scheduler.DAGScheduler.$anonfun$handleTaskSetFailed$1$adapted(DAGScheduler.scala:950)\n\tat scala.Option.foreach(Option.scala:407)\n\tat org.apache.spark.scheduler.DAGScheduler.handleTaskSetFailed(DAGScheduler.scala:950)\n\tat org.apache.spark.scheduler.DAGSchedulerEventProcessLoop.doOnReceive(DAGScheduler.scala:2203)\n\tat org.apache.spark.scheduler.DAGSchedulerEventProcessLoop.onReceive(DAGScheduler.scala:2152)\n\tat org.apache.spark.scheduler.DAGSchedulerEventProcessLoop.onReceive(DAGScheduler.scala:2141)\n\tat org.apache.spark.util.EventLoop$$anon$1.run(EventLoop.scala:49)\n\tat org.apache.spark.scheduler.DAGScheduler.runJob(DAGScheduler.scala:752)\n\tat org.apache.spark.SparkContext.runJob(SparkContext.scala:2093)\n\tat org.apache.spark.SparkContext.runJob(SparkContext.scala:2114)\n\tat org.apache.spark.SparkContext.runJob(SparkContext.scala:2133)\n\tat org.apache.spark.sql.execution.SparkPlan.executeTake(SparkPlan.scala:467)\n\tat org.apache.spark.sql.execution.SparkPlan.executeTake(SparkPlan.scala:420)\n\tat org.apache.spark.sql.execution.CollectLimitExec.executeCollect(limit.scala:47)\n\tat org.apache.spark.sql.Dataset.$anonfun$collectToPython$1(Dataset.scala:3448)\n\tat org.apache.spark.sql.Dataset.$anonfun$withAction$1(Dataset.scala:3616)\n\tat org.apache.spark.sql.execution.SQLExecution$.$anonfun$withNewExecutionId$5(SQLExecution.scala:100)\n\tat org.apache.spark.sql.execution.SQLExecution$.withSQLConfPropagated(SQLExecution.scala:160)\n\tat org.apache.spark.sql.execution.SQLExecution$.$anonfun$withNewExecutionId$1(SQLExecution.scala:87)\n\tat org.apache.spark.sql.SparkSession.withActive(SparkSession.scala:763)\n\tat org.apache.spark.sql.execution.SQLExecution$.withNewExecutionId(SQLExecution.scala:64)\n\tat org.apache.spark.sql.Dataset.withAction(Dataset.scala:3614)\n\tat org.apache.spark.sql.Dataset.collectToPython(Dataset.scala:3445)\n\tat java.base/jdk.internal.reflect.NativeMethodAccessorImpl.invoke0(Native Method)\n\tat java.base/jdk.internal.reflect.NativeMethodAccessorImpl.invoke(NativeMethodAccessorImpl.java:62)\n\tat java.base/jdk.internal.reflect.DelegatingMethodAccessorImpl.invoke(DelegatingMethodAccessorImpl.java:43)\n\tat java.base/java.lang.reflect.Method.invoke(Method.java:566)\n\tat py4j.reflection.MethodInvoker.invoke(MethodInvoker.java:244)\n\tat py4j.reflection.ReflectionEngine.invoke(ReflectionEngine.java:357)\n\tat py4j.Gateway.invoke(Gateway.java:282)\n\tat py4j.commands.AbstractCommand.invokeMethod(AbstractCommand.java:132)\n\tat py4j.commands.CallCommand.execute(CallCommand.java:79)\n\tat py4j.GatewayConnection.run(GatewayConnection.java:238)\n\tat java.base/java.lang.Thread.run(Thread.java:834)\nCaused by: org.apache.spark.sql.catalyst.errors.package$TreeNodeException: Binding attribute, tree: null\n\tat org.apache.spark.sql.catalyst.errors.package$.attachTree(package.scala:56)\n\tat org.apache.spark.sql.catalyst.expressions.BindReferences$$anonfun$bindReference$1.applyOrElse(BoundAttribute.scala:75)\n\tat org.apache.spark.sql.catalyst.expressions.BindReferences$$anonfun$bindReference$1.applyOrElse(BoundAttribute.scala:74)\n\tat org.apache.spark.sql.catalyst.trees.TreeNode.$anonfun$transformDown$1(TreeNode.scala:309)\n\tat org.apache.spark.sql.catalyst.trees.CurrentOrigin$.withOrigin(TreeNode.scala:72)\n\tat org.apache.spark.sql.catalyst.trees.TreeNode.transformDown(TreeNode.scala:309)\n\tat org.apache.spark.sql.catalyst.trees.TreeNode.$anonfun$transformDown$3(TreeNode.scala:314)\n\tat org.apache.spark.sql.catalyst.trees.TreeNode.$anonfun$mapChildren$1(TreeNode.scala:399)\n\tat org.apache.spark.sql.catalyst.trees.TreeNode.mapProductIterator(TreeNode.scala:237)\n\tat org.apache.spark.sql.catalyst.trees.TreeNode.mapChildren(TreeNode.scala:397)\n\tat org.apache.spark.sql.catalyst.trees.TreeNode.mapChildren(TreeNode.scala:350)\n\tat org.apache.spark.sql.catalyst.trees.TreeNode.transformDown(TreeNode.scala:314)\n\tat org.apache.spark.sql.catalyst.trees.TreeNode.transform(TreeNode.scala:298)\n\tat org.apache.spark.sql.catalyst.expressions.BindReferences$.bindReference(BoundAttribute.scala:74)\n\tat org.apache.spark.sql.execution.GenerateExec.boundGenerator$lzycompute(GenerateExec.scala:75)\n\tat org.apache.spark.sql.execution.GenerateExec.boundGenerator(GenerateExec.scala:75)\n\tat org.apache.spark.sql.execution.GenerateExec.$anonfun$doExecute$6(GenerateExec.scala:101)\n\tat org.apache.spark.sql.execution.LazyIterator.results$lzycompute(GenerateExec.scala:36)\n\tat org.apache.spark.sql.execution.LazyIterator.results(GenerateExec.scala:36)\n\tat org.apache.spark.sql.execution.LazyIterator.hasNext(GenerateExec.scala:37)\n\tat scala.collection.Iterator$$anon$10.hasNext(Iterator.scala:458)\n\tat scala.collection.Iterator$ConcatIterator.advance(Iterator.scala:198)\n\tat scala.collection.Iterator$ConcatIterator.hasNext(Iterator.scala:225)\n\tat scala.collection.Iterator$$anon$10.hasNext(Iterator.scala:458)\n\tat org.apache.spark.sql.catalyst.expressions.GeneratedClass$GeneratedIteratorForCodegenStage3.processNext(Unknown Source)\n\tat org.apache.spark.sql.execution.BufferedRowIterator.hasNext(BufferedRowIterator.java:43)\n\tat org.apache.spark.sql.execution.WholeStageCodegenExec$$anon$1.hasNext(WholeStageCodegenExec.scala:729)\n\tat org.apache.spark.sql.execution.SparkPlan.$anonfun$getByteArrayRdd$1(SparkPlan.scala:340)\n\tat org.apache.spark.rdd.RDD.$anonfun$mapPartitionsInternal$2(RDD.scala:872)\n\tat org.apache.spark.rdd.RDD.$anonfun$mapPartitionsInternal$2$adapted(RDD.scala:872)\n\tat org.apache.spark.rdd.MapPartitionsRDD.compute(MapPartitionsRDD.scala:52)\n\tat org.apache.spark.rdd.RDD.computeOrReadCheckpoint(RDD.scala:349)\n\tat org.apache.spark.rdd.RDD.iterator(RDD.scala:313)\n\tat org.apache.spark.scheduler.ResultTask.runTask(ResultTask.scala:90)\n\tat org.apache.spark.scheduler.Task.run(Task.scala:127)\n\tat org.apache.spark.executor.Executor$TaskRunner.$anonfun$run$3(Executor.scala:444)\n\tat org.apache.spark.util.Utils$.tryWithSafeFinally(Utils.scala:1377)\n\tat org.apache.spark.executor.Executor$TaskRunner.run(Executor.scala:447)\n\tat java.util.concurrent.ThreadPoolExecutor.runWorker(ThreadPoolExecutor.java:1149)\n\tat java.util.concurrent.ThreadPoolExecutor$Worker.run(ThreadPoolExecutor.java:624)\n\tat java.lang.Thread.run(Thread.java:748)\nCaused by: java.lang.RuntimeException: Couldn't find _gen_alias_530#530 in [op#3,pt#4L,_gen_alias_529#529]\n\tat scala.sys.package$.error(package.scala:30)\n\tat org.apache.spark.sql.catalyst.expressions.BindReferences$$anonfun$bindReference$1.$anonfun$applyOrElse$1(BoundAttribute.scala:81)\n\tat org.apache.spark.sql.catalyst.errors.package$.attachTree(package.scala:52)\n\t... 40 more\n"
     ]
    }
   ],
   "source": [
    "runner_changes.head(10)"
   ]
  },
  {
   "cell_type": "code",
   "execution_count": 37,
   "metadata": {},
   "outputs": [
    {
     "name": "stderr",
     "output_type": "stream",
     "text": [
      "                                                                                \r"
     ]
    }
   ],
   "source": [
    "# This market_id is for the a Thurles race in Jan 2016\n",
    "selection_condition = \"market_id = '1.122576498'\"\n",
    "\n",
    "chosen_runners = runners.filter(selection_condition).selectExpr('market_id', \n",
    "                                                                'event_name', \n",
    "                                                                'market_name', \n",
    "                                                                'runner_id', \n",
    "                                                                'runner_name').distinct()\n",
    "\n",
    "# Runners have a 1:many relationship to Runner Changes, so do an inner join from Runners to Runner Changes.\n",
    "chosen_runner_changes = chosen_runners.join(runner_changes, chosen_runners.runner_id == runner_changes.runner_id).select(\n",
    "                        chosen_runners.market_id, \n",
    "                        chosen_runners.event_name, \n",
    "                        chosen_runners.market_name, \n",
    "                        chosen_runners.runner_id, \n",
    "                        chosen_runners.runner_name,\n",
    "                        runner_changes.published_time,\n",
    "                        runner_changes.last_traded_price\n",
    "                        ).orderBy('published_time').collect()"
   ]
  },
  {
   "cell_type": "code",
   "execution_count": 38,
   "metadata": {},
   "outputs": [
    {
     "name": "stderr",
     "output_type": "stream",
     "text": [
      "                                                                                \r"
     ]
    },
    {
     "name": "stdout",
     "output_type": "stream",
     "text": [
      "+-----------+--------------+-------------+---------+-----------------+\n",
      "|  market_id|    event_name|  market_name|runner_id|      runner_name|\n",
      "+-----------+--------------+-------------+---------+-----------------+\n",
      "|1.122576498|Thurl 14th Jan|2m6f Hcap Chs|  5415401|         Miradane|\n",
      "|1.122576498|Thurl 14th Jan|2m6f Hcap Chs|  7011147|         He Rocks|\n",
      "|1.122576498|Thurl 14th Jan|2m6f Hcap Chs|  7281856|          Tooreen|\n",
      "|1.122576498|Thurl 14th Jan|2m6f Hcap Chs|  5568158|     Mister First|\n",
      "|1.122576498|Thurl 14th Jan|2m6f Hcap Chs|  9153264|         Flynsini|\n",
      "|1.122576498|Thurl 14th Jan|2m6f Hcap Chs|  6939953|Coolnagorna Giggs|\n",
      "|1.122576498|Thurl 14th Jan|2m6f Hcap Chs|  8996652|      Shadow Play|\n",
      "|1.122576498|Thurl 14th Jan|2m6f Hcap Chs|  7253717|             Gary|\n",
      "|1.122576498|Thurl 14th Jan|2m6f Hcap Chs|  8742358|  Topper Thornton|\n",
      "|1.122576498|Thurl 14th Jan|2m6f Hcap Chs|   444842|     Winter Magic|\n",
      "|1.122576498|Thurl 14th Jan|2m6f Hcap Chs|  9483270|  Mountain Philip|\n",
      "+-----------+--------------+-------------+---------+-----------------+\n",
      "\n"
     ]
    }
   ],
   "source": [
    "chosen_runners.show()"
   ]
  },
  {
   "cell_type": "code",
   "execution_count": 42,
   "metadata": {},
   "outputs": [],
   "source": [
    "from pyspark.sql import Row"
   ]
  },
  {
   "cell_type": "code",
   "execution_count": 46,
   "metadata": {},
   "outputs": [],
   "source": [
    "crc = spark.createDataFrame(chosen_runner_changes)"
   ]
  },
  {
   "cell_type": "code",
   "execution_count": 58,
   "metadata": {},
   "outputs": [
    {
     "data": {
      "text/plain": [
       "[Row(market_id='1.122576498', event_name='Thurl 14th Jan', market_name='2m6f Hcap Chs', runner_id=7281856, runner_name='Tooreen', published_time=1452767238628, last_traded_price=6.6),\n",
       " Row(market_id='1.122576498', event_name='Thurl 14th Jan', market_name='2m6f Hcap Chs', runner_id=9483270, runner_name='Mountain Philip', published_time=1452780920197, last_traded_price=28.0),\n",
       " Row(market_id='1.122576498', event_name='Thurl 14th Jan', market_name='2m6f Hcap Chs', runner_id=5415401, runner_name='Miradane', published_time=1452782540168, last_traded_price=12.0),\n",
       " Row(market_id='1.122576498', event_name='Thurl 14th Jan', market_name='2m6f Hcap Chs', runner_id=7281856, runner_name='Tooreen', published_time=1452782720244, last_traded_price=9.6),\n",
       " Row(market_id='1.122576498', event_name='Thurl 14th Jan', market_name='2m6f Hcap Chs', runner_id=5415401, runner_name='Miradane', published_time=1452784220185, last_traded_price=10.5),\n",
       " Row(market_id='1.122576498', event_name='Thurl 14th Jan', market_name='2m6f Hcap Chs', runner_id=7011147, runner_name='He Rocks', published_time=1452778160171, last_traded_price=7.2),\n",
       " Row(market_id='1.122576498', event_name='Thurl 14th Jan', market_name='2m6f Hcap Chs', runner_id=7281856, runner_name='Tooreen', published_time=1452781820149, last_traded_price=8.6),\n",
       " Row(market_id='1.122576498', event_name='Thurl 14th Jan', market_name='2m6f Hcap Chs', runner_id=9153264, runner_name='Flynsini', published_time=1452784940171, last_traded_price=1000.0),\n",
       " Row(market_id='1.122576498', event_name='Thurl 14th Jan', market_name='2m6f Hcap Chs', runner_id=444842, runner_name='Winter Magic', published_time=1452717243924, last_traded_price=4.9),\n",
       " Row(market_id='1.122576498', event_name='Thurl 14th Jan', market_name='2m6f Hcap Chs', runner_id=6939953, runner_name='Coolnagorna Giggs', published_time=1452774380145, last_traded_price=7.0)]"
      ]
     },
     "execution_count": 58,
     "metadata": {},
     "output_type": "execute_result"
    }
   ],
   "source": [
    "crc.head(10)"
   ]
  },
  {
   "cell_type": "code",
   "execution_count": 48,
   "metadata": {},
   "outputs": [
    {
     "data": {
      "text/plain": [
       "1646"
      ]
     },
     "execution_count": 48,
     "metadata": {},
     "output_type": "execute_result"
    }
   ],
   "source": [
    "crc.count()"
   ]
  },
  {
   "cell_type": "code",
   "execution_count": 49,
   "metadata": {},
   "outputs": [],
   "source": [
    "crc = crc.dropDuplicates()"
   ]
  },
  {
   "cell_type": "code",
   "execution_count": 59,
   "metadata": {},
   "outputs": [
    {
     "name": "stderr",
     "output_type": "stream",
     "text": [
      "                                                                                \r"
     ]
    },
    {
     "data": {
      "text/plain": [
       "823"
      ]
     },
     "execution_count": 59,
     "metadata": {},
     "output_type": "execute_result"
    }
   ],
   "source": [
    "crc.count()"
   ]
  },
  {
   "cell_type": "code",
   "execution_count": 56,
   "metadata": {},
   "outputs": [
    {
     "name": "stdout",
     "output_type": "stream",
     "text": [
      "+-----------+--------------+-------------+---------+-----------------+--------------+-----------------+\n",
      "|market_id  |event_name    |market_name  |runner_id|runner_name      |published_time|last_traded_price|\n",
      "+-----------+--------------+-------------+---------+-----------------+--------------+-----------------+\n",
      "|1.122576498|Thurl 14th Jan|2m6f Hcap Chs|6939953  |Coolnagorna Giggs|1452712450381 |7.8              |\n",
      "|1.122576498|Thurl 14th Jan|2m6f Hcap Chs|5568158  |Mister First     |1452713642583 |10.5             |\n",
      "|1.122576498|Thurl 14th Jan|2m6f Hcap Chs|8742358  |Topper Thornton  |1452714439156 |9.0              |\n",
      "|1.122576498|Thurl 14th Jan|2m6f Hcap Chs|7281856  |Tooreen          |1452715024612 |6.8              |\n",
      "|1.122576498|Thurl 14th Jan|2m6f Hcap Chs|7281856  |Tooreen          |1452715099578 |6.0              |\n",
      "|1.122576498|Thurl 14th Jan|2m6f Hcap Chs|444842   |Winter Magic     |1452715511351 |4.9              |\n",
      "|1.122576498|Thurl 14th Jan|2m6f Hcap Chs|7281856  |Tooreen          |1452716059579 |5.8              |\n",
      "|1.122576498|Thurl 14th Jan|2m6f Hcap Chs|7281856  |Tooreen          |1452716239386 |5.1              |\n",
      "|1.122576498|Thurl 14th Jan|2m6f Hcap Chs|444842   |Winter Magic     |1452716239386 |4.6              |\n",
      "|1.122576498|Thurl 14th Jan|2m6f Hcap Chs|7281856  |Tooreen          |1452716420079 |5.3              |\n",
      "|1.122576498|Thurl 14th Jan|2m6f Hcap Chs|444842   |Winter Magic     |1452716476791 |4.5              |\n",
      "|1.122576498|Thurl 14th Jan|2m6f Hcap Chs|7281856  |Tooreen          |1452716594350 |5.1              |\n",
      "|1.122576498|Thurl 14th Jan|2m6f Hcap Chs|444842   |Winter Magic     |1452717243924 |4.9              |\n",
      "|1.122576498|Thurl 14th Jan|2m6f Hcap Chs|444842   |Winter Magic     |1452717314956 |4.8              |\n",
      "|1.122576498|Thurl 14th Jan|2m6f Hcap Chs|444842   |Winter Magic     |1452717498975 |5.0              |\n",
      "|1.122576498|Thurl 14th Jan|2m6f Hcap Chs|5568158  |Mister First     |1452720440121 |9.6              |\n",
      "|1.122576498|Thurl 14th Jan|2m6f Hcap Chs|444842   |Winter Magic     |1452720671699 |4.8              |\n",
      "|1.122576498|Thurl 14th Jan|2m6f Hcap Chs|444842   |Winter Magic     |1452721100025 |5.0              |\n",
      "|1.122576498|Thurl 14th Jan|2m6f Hcap Chs|6939953  |Coolnagorna Giggs|1452721638750 |8.6              |\n",
      "|1.122576498|Thurl 14th Jan|2m6f Hcap Chs|444842   |Winter Magic     |1452722420164 |5.2              |\n",
      "+-----------+--------------+-------------+---------+-----------------+--------------+-----------------+\n",
      "only showing top 20 rows\n",
      "\n"
     ]
    },
    {
     "name": "stderr",
     "output_type": "stream",
     "text": [
      "                                                                                \r"
     ]
    }
   ],
   "source": [
    "crc.sort(\"published_time\").show(truncate=False)"
   ]
  },
  {
   "cell_type": "code",
   "execution_count": 69,
   "metadata": {},
   "outputs": [
    {
     "name": "stdout",
     "output_type": "stream",
     "text": [
      "+-----------+--------------+-------------+---------+-----------------+--------------+-----------------+\n",
      "|  market_id|    event_name|  market_name|runner_id|      runner_name|published_time|last_traded_price|\n",
      "+-----------+--------------+-------------+---------+-----------------+--------------+-----------------+\n",
      "|1.122576498|Thurl 14th Jan|2m6f Hcap Chs|  7281856|          Tooreen| 1452767238628|              6.6|\n",
      "|1.122576498|Thurl 14th Jan|2m6f Hcap Chs|  9483270|  Mountain Philip| 1452780920197|             28.0|\n",
      "|1.122576498|Thurl 14th Jan|2m6f Hcap Chs|  5415401|         Miradane| 1452782540168|             12.0|\n",
      "|1.122576498|Thurl 14th Jan|2m6f Hcap Chs|  7281856|          Tooreen| 1452782720244|              9.6|\n",
      "|1.122576498|Thurl 14th Jan|2m6f Hcap Chs|  5415401|         Miradane| 1452784220185|             10.5|\n",
      "|1.122576498|Thurl 14th Jan|2m6f Hcap Chs|  7011147|         He Rocks| 1452778160171|              7.2|\n",
      "|1.122576498|Thurl 14th Jan|2m6f Hcap Chs|  7281856|          Tooreen| 1452781820149|              8.6|\n",
      "|1.122576498|Thurl 14th Jan|2m6f Hcap Chs|  9153264|         Flynsini| 1452784940171|           1000.0|\n",
      "|1.122576498|Thurl 14th Jan|2m6f Hcap Chs|   444842|     Winter Magic| 1452717243924|              4.9|\n",
      "|1.122576498|Thurl 14th Jan|2m6f Hcap Chs|  6939953|Coolnagorna Giggs| 1452774380145|              7.0|\n",
      "|1.122576498|Thurl 14th Jan|2m6f Hcap Chs|  9483270|  Mountain Philip| 1452781700242|             30.0|\n",
      "|1.122576498|Thurl 14th Jan|2m6f Hcap Chs|  9483270|  Mountain Philip| 1452783380201|             32.0|\n",
      "|1.122576498|Thurl 14th Jan|2m6f Hcap Chs|  7253717|             Gary| 1452784700250|             34.0|\n",
      "|1.122576498|Thurl 14th Jan|2m6f Hcap Chs|  8742358|  Topper Thornton| 1452769759882|              8.0|\n",
      "|1.122576498|Thurl 14th Jan|2m6f Hcap Chs|  6939953|Coolnagorna Giggs| 1452777320244|              7.0|\n",
      "|1.122576498|Thurl 14th Jan|2m6f Hcap Chs|  8996652|      Shadow Play| 1452782060227|             11.0|\n",
      "|1.122576498|Thurl 14th Jan|2m6f Hcap Chs|  5568158|     Mister First| 1452782600183|             12.5|\n",
      "|1.122576498|Thurl 14th Jan|2m6f Hcap Chs|  8996652|      Shadow Play| 1452773420215|             16.0|\n",
      "|1.122576498|Thurl 14th Jan|2m6f Hcap Chs|  7011147|         He Rocks| 1452777560178|              7.0|\n",
      "|1.122576498|Thurl 14th Jan|2m6f Hcap Chs|  7281856|          Tooreen| 1452782420173|              9.0|\n",
      "|1.122576498|Thurl 14th Jan|2m6f Hcap Chs|  7281856|          Tooreen| 1452783980201|             10.0|\n",
      "|1.122576498|Thurl 14th Jan|2m6f Hcap Chs|  5415401|         Miradane| 1452780440235|             12.5|\n",
      "|1.122576498|Thurl 14th Jan|2m6f Hcap Chs|  6939953|Coolnagorna Giggs| 1452780740165|              9.0|\n",
      "|1.122576498|Thurl 14th Jan|2m6f Hcap Chs|  8996652|      Shadow Play| 1452784520247|             13.5|\n",
      "|1.122576498|Thurl 14th Jan|2m6f Hcap Chs|   444842|     Winter Magic| 1452761719786|              4.6|\n",
      "|1.122576498|Thurl 14th Jan|2m6f Hcap Chs|  8742358|  Topper Thornton| 1452782720244|              9.8|\n",
      "|1.122576498|Thurl 14th Jan|2m6f Hcap Chs|  9153264|         Flynsini| 1452783200221|             46.0|\n",
      "|1.122576498|Thurl 14th Jan|2m6f Hcap Chs|  5568158|     Mister First| 1452765919891|             12.0|\n",
      "|1.122576498|Thurl 14th Jan|2m6f Hcap Chs|  9153264|         Flynsini| 1452769759882|             48.0|\n",
      "|1.122576498|Thurl 14th Jan|2m6f Hcap Chs|   444842|     Winter Magic| 1452776900196|              4.8|\n",
      "|1.122576498|Thurl 14th Jan|2m6f Hcap Chs|   444842|     Winter Magic| 1452781460188|              4.8|\n",
      "|1.122576498|Thurl 14th Jan|2m6f Hcap Chs|  7253717|             Gary| 1452783200221|            180.0|\n",
      "|1.122576498|Thurl 14th Jan|2m6f Hcap Chs|  7011147|         He Rocks| 1452783439814|              7.0|\n",
      "|1.122576498|Thurl 14th Jan|2m6f Hcap Chs|  7011147|         He Rocks| 1452775579684|              9.0|\n",
      "|1.122576498|Thurl 14th Jan|2m6f Hcap Chs|   444842|     Winter Magic| 1452778580167|              4.8|\n",
      "|1.122576498|Thurl 14th Jan|2m6f Hcap Chs|  5415401|         Miradane| 1452778700151|             14.0|\n",
      "|1.122576498|Thurl 14th Jan|2m6f Hcap Chs|   444842|     Winter Magic| 1452780500171|              4.8|\n",
      "|1.122576498|Thurl 14th Jan|2m6f Hcap Chs|  5568158|     Mister First| 1452784040156|             12.5|\n",
      "|1.122576498|Thurl 14th Jan|2m6f Hcap Chs|  7011147|         He Rocks| 1452784160206|              6.6|\n",
      "|1.122576498|Thurl 14th Jan|2m6f Hcap Chs|  8996652|      Shadow Play| 1452782360181|             11.5|\n",
      "|1.122576498|Thurl 14th Jan|2m6f Hcap Chs|   444842|     Winter Magic| 1452784520247|              4.3|\n",
      "|1.122576498|Thurl 14th Jan|2m6f Hcap Chs|   444842|     Winter Magic| 1452759019673|              4.4|\n",
      "|1.122576498|Thurl 14th Jan|2m6f Hcap Chs|  5568158|     Mister First| 1452774800155|             13.0|\n",
      "|1.122576498|Thurl 14th Jan|2m6f Hcap Chs|  7281856|          Tooreen| 1452782959982|              9.6|\n",
      "|1.122576498|Thurl 14th Jan|2m6f Hcap Chs|  8742358|  Topper Thornton| 1452782959982|              9.2|\n",
      "|1.122576498|Thurl 14th Jan|2m6f Hcap Chs|  5415401|         Miradane| 1452784580202|             12.5|\n",
      "|1.122576498|Thurl 14th Jan|2m6f Hcap Chs|  8742358|  Topper Thornton| 1452758240056|             11.0|\n",
      "|1.122576498|Thurl 14th Jan|2m6f Hcap Chs|  5568158|     Mister First| 1452766039826|             11.0|\n",
      "|1.122576498|Thurl 14th Jan|2m6f Hcap Chs|  9153264|         Flynsini| 1452780860248|             42.0|\n",
      "|1.122576498|Thurl 14th Jan|2m6f Hcap Chs|  5415401|         Miradane| 1452782300212|             11.5|\n",
      "|1.122576498|Thurl 14th Jan|2m6f Hcap Chs|   444842|     Winter Magic| 1452783439814|              4.6|\n",
      "|1.122576498|Thurl 14th Jan|2m6f Hcap Chs|  8742358|  Topper Thornton| 1452783680240|              9.6|\n",
      "|1.122576498|Thurl 14th Jan|2m6f Hcap Chs|  7281856|          Tooreen| 1452784760229|             20.0|\n",
      "|1.122576498|Thurl 14th Jan|2m6f Hcap Chs|  5415401|         Miradane| 1452773360162|             16.0|\n",
      "|1.122576498|Thurl 14th Jan|2m6f Hcap Chs|  7011147|         He Rocks| 1452775280216|              7.6|\n",
      "|1.122576498|Thurl 14th Jan|2m6f Hcap Chs|  7011147|         He Rocks| 1452778340186|              7.2|\n",
      "|1.122576498|Thurl 14th Jan|2m6f Hcap Chs|  5415401|         Miradane| 1452779480001|             13.0|\n",
      "|1.122576498|Thurl 14th Jan|2m6f Hcap Chs|  7011147|         He Rocks| 1452767059289|              8.2|\n",
      "|1.122576498|Thurl 14th Jan|2m6f Hcap Chs|  7253717|             Gary| 1452769759882|            210.0|\n",
      "|1.122576498|Thurl 14th Jan|2m6f Hcap Chs|  8742358|  Topper Thornton| 1452771980212|              7.6|\n",
      "|1.122576498|Thurl 14th Jan|2m6f Hcap Chs|  6939953|Coolnagorna Giggs| 1452778520208|              8.2|\n",
      "|1.122576498|Thurl 14th Jan|2m6f Hcap Chs|   444842|     Winter Magic| 1452779360216|              4.6|\n",
      "|1.122576498|Thurl 14th Jan|2m6f Hcap Chs|  7281856|          Tooreen| 1452783380201|             10.5|\n",
      "|1.122576498|Thurl 14th Jan|2m6f Hcap Chs|  9483270|  Mountain Philip| 1452784280160|             28.0|\n",
      "|1.122576498|Thurl 14th Jan|2m6f Hcap Chs|   444842|     Winter Magic| 1452784580202|              4.9|\n",
      "|1.122576498|Thurl 14th Jan|2m6f Hcap Chs|  6939953|Coolnagorna Giggs| 1452784700250|              4.9|\n",
      "|1.122576498|Thurl 14th Jan|2m6f Hcap Chs|  6939953|Coolnagorna Giggs| 1452772700195|              7.2|\n",
      "|1.122576498|Thurl 14th Jan|2m6f Hcap Chs|  5415401|         Miradane| 1452782780175|             11.5|\n",
      "|1.122576498|Thurl 14th Jan|2m6f Hcap Chs|  5415401|         Miradane| 1452783020175|             12.0|\n",
      "|1.122576498|Thurl 14th Jan|2m6f Hcap Chs|  7011147|         He Rocks| 1452771319688|              8.4|\n",
      "|1.122576498|Thurl 14th Jan|2m6f Hcap Chs|  9153264|         Flynsini| 1452778640153|             36.0|\n",
      "|1.122576498|Thurl 14th Jan|2m6f Hcap Chs|  7011147|         He Rocks| 1452780140194|              7.0|\n",
      "|1.122576498|Thurl 14th Jan|2m6f Hcap Chs|  6939953|Coolnagorna Giggs| 1452769940049|              7.0|\n",
      "|1.122576498|Thurl 14th Jan|2m6f Hcap Chs|  9153264|         Flynsini| 1452777860208|             34.0|\n",
      "|1.122576498|Thurl 14th Jan|2m6f Hcap Chs|  7253717|             Gary| 1452783260061|             75.0|\n",
      "|1.122576498|Thurl 14th Jan|2m6f Hcap Chs|  9153264|         Flynsini| 1452770660127|             46.0|\n",
      "|1.122576498|Thurl 14th Jan|2m6f Hcap Chs|  7011147|         He Rocks| 1452776720214|              7.0|\n",
      "|1.122576498|Thurl 14th Jan|2m6f Hcap Chs|  6939953|Coolnagorna Giggs| 1452783740242|              7.4|\n",
      "|1.122576498|Thurl 14th Jan|2m6f Hcap Chs|  6939953|Coolnagorna Giggs| 1452778340186|              8.2|\n",
      "|1.122576498|Thurl 14th Jan|2m6f Hcap Chs|  5415401|         Miradane| 1452778520208|             14.0|\n",
      "|1.122576498|Thurl 14th Jan|2m6f Hcap Chs|  9483270|  Mountain Philip| 1452781760163|             29.0|\n",
      "|1.122576498|Thurl 14th Jan|2m6f Hcap Chs|  5568158|     Mister First| 1452767419900|             13.0|\n",
      "|1.122576498|Thurl 14th Jan|2m6f Hcap Chs|  6939953|Coolnagorna Giggs| 1452774680156|              7.2|\n",
      "|1.122576498|Thurl 14th Jan|2m6f Hcap Chs|  5415401|         Miradane| 1452777560178|             17.0|\n",
      "|1.122576498|Thurl 14th Jan|2m6f Hcap Chs|  7011147|         He Rocks| 1452777800233|              7.2|\n",
      "|1.122576498|Thurl 14th Jan|2m6f Hcap Chs|   444842|     Winter Magic| 1452784700250|              4.2|\n",
      "|1.122576498|Thurl 14th Jan|2m6f Hcap Chs|   444842|     Winter Magic| 1452774320255|              4.9|\n",
      "|1.122576498|Thurl 14th Jan|2m6f Hcap Chs|   444842|     Winter Magic| 1452776660173|              4.9|\n",
      "|1.122576498|Thurl 14th Jan|2m6f Hcap Chs|   444842|     Winter Magic| 1452782180249|              4.5|\n",
      "|1.122576498|Thurl 14th Jan|2m6f Hcap Chs|  7253717|             Gary| 1452783920189|             55.0|\n",
      "|1.122576498|Thurl 14th Jan|2m6f Hcap Chs|  8996652|      Shadow Play| 1452784400206|             15.0|\n",
      "|1.122576498|Thurl 14th Jan|2m6f Hcap Chs|  6939953|Coolnagorna Giggs| 1452777920192|              7.6|\n",
      "|1.122576498|Thurl 14th Jan|2m6f Hcap Chs|  7281856|          Tooreen| 1452780560251|              6.6|\n",
      "|1.122576498|Thurl 14th Jan|2m6f Hcap Chs|  8996652|      Shadow Play| 1452784700250|              9.0|\n",
      "|1.122576498|Thurl 14th Jan|2m6f Hcap Chs|  6939953|Coolnagorna Giggs| 1452774980198|              7.0|\n",
      "|1.122576498|Thurl 14th Jan|2m6f Hcap Chs|  7011147|         He Rocks| 1452779840164|              6.6|\n",
      "|1.122576498|Thurl 14th Jan|2m6f Hcap Chs|  5568158|     Mister First| 1452780740165|             11.0|\n",
      "|1.122576498|Thurl 14th Jan|2m6f Hcap Chs|  8742358|  Topper Thornton| 1452783980201|             10.0|\n",
      "|1.122576498|Thurl 14th Jan|2m6f Hcap Chs|  8996652|      Shadow Play| 1452784460206|             14.0|\n",
      "|1.122576498|Thurl 14th Jan|2m6f Hcap Chs|  9483270|  Mountain Philip| 1452763459748|             29.0|\n",
      "|1.122576498|Thurl 14th Jan|2m6f Hcap Chs|   444842|     Winter Magic| 1452767419900|              5.0|\n",
      "|1.122576498|Thurl 14th Jan|2m6f Hcap Chs|   444842|     Winter Magic| 1452780080228|              4.8|\n",
      "|1.122576498|Thurl 14th Jan|2m6f Hcap Chs|  8742358|  Topper Thornton| 1452780560251|             10.5|\n",
      "|1.122576498|Thurl 14th Jan|2m6f Hcap Chs|  6939953|Coolnagorna Giggs| 1452780800245|              8.6|\n",
      "|1.122576498|Thurl 14th Jan|2m6f Hcap Chs|   444842|     Winter Magic| 1452783080228|              4.4|\n",
      "|1.122576498|Thurl 14th Jan|2m6f Hcap Chs|  7011147|         He Rocks| 1452780200198|              7.2|\n",
      "|1.122576498|Thurl 14th Jan|2m6f Hcap Chs|  6939953|Coolnagorna Giggs| 1452781760163|              8.6|\n",
      "|1.122576498|Thurl 14th Jan|2m6f Hcap Chs|  6939953|Coolnagorna Giggs| 1452782060227|              8.4|\n",
      "|1.122576498|Thurl 14th Jan|2m6f Hcap Chs|  7253717|             Gary| 1452784160206|             50.0|\n",
      "|1.122576498|Thurl 14th Jan|2m6f Hcap Chs|  7281856|          Tooreen| 1452716594350|              5.1|\n",
      "|1.122576498|Thurl 14th Jan|2m6f Hcap Chs|  5568158|     Mister First| 1452768020090|             12.5|\n",
      "|1.122576498|Thurl 14th Jan|2m6f Hcap Chs|  9153264|         Flynsini| 1452769220175|             50.0|\n",
      "|1.122576498|Thurl 14th Jan|2m6f Hcap Chs|  8742358|  Topper Thornton| 1452784040156|             10.5|\n",
      "|1.122576498|Thurl 14th Jan|2m6f Hcap Chs|  7011147|         He Rocks| 1452769220175|              8.6|\n",
      "|1.122576498|Thurl 14th Jan|2m6f Hcap Chs|  7011147|         He Rocks| 1452783680240|              6.6|\n",
      "|1.122576498|Thurl 14th Jan|2m6f Hcap Chs|  7011147|         He Rocks| 1452765139627|              9.6|\n",
      "|1.122576498|Thurl 14th Jan|2m6f Hcap Chs|  5568158|     Mister First| 1452771980212|             12.5|\n",
      "|1.122576498|Thurl 14th Jan|2m6f Hcap Chs|  7281856|          Tooreen| 1452779840164|              6.8|\n",
      "|1.122576498|Thurl 14th Jan|2m6f Hcap Chs|  7281856|          Tooreen| 1452781880185|              9.0|\n",
      "|1.122576498|Thurl 14th Jan|2m6f Hcap Chs|  5415401|         Miradane| 1452782600183|             11.5|\n",
      "|1.122576498|Thurl 14th Jan|2m6f Hcap Chs|  9483270|  Mountain Philip| 1452784340206|             29.0|\n",
      "|1.122576498|Thurl 14th Jan|2m6f Hcap Chs|  8996652|      Shadow Play| 1452782900011|             14.0|\n",
      "|1.122576498|Thurl 14th Jan|2m6f Hcap Chs|  7011147|         He Rocks| 1452765620198|              8.4|\n",
      "|1.122576498|Thurl 14th Jan|2m6f Hcap Chs|  5415401|         Miradane| 1452784160206|             11.5|\n",
      "|1.122576498|Thurl 14th Jan|2m6f Hcap Chs|  7281856|          Tooreen| 1452764175163|              7.4|\n",
      "|1.122576498|Thurl 14th Jan|2m6f Hcap Chs|  7011147|         He Rocks| 1452766339797|              8.4|\n",
      "|1.122576498|Thurl 14th Jan|2m6f Hcap Chs|  7011147|         He Rocks| 1452774080166|              7.4|\n",
      "|1.122576498|Thurl 14th Jan|2m6f Hcap Chs|   444842|     Winter Magic| 1452778760231|              4.7|\n",
      "|1.122576498|Thurl 14th Jan|2m6f Hcap Chs|   444842|     Winter Magic| 1452779420229|              4.9|\n",
      "|1.122576498|Thurl 14th Jan|2m6f Hcap Chs|  8996652|      Shadow Play| 1452780440235|             14.5|\n",
      "|1.122576498|Thurl 14th Jan|2m6f Hcap Chs|  5568158|     Mister First| 1452733400131|              9.4|\n",
      "|1.122576498|Thurl 14th Jan|2m6f Hcap Chs|  7011147|         He Rocks| 1452765680169|              8.2|\n",
      "|1.122576498|Thurl 14th Jan|2m6f Hcap Chs|  7281856|          Tooreen| 1452777800233|              6.6|\n",
      "|1.122576498|Thurl 14th Jan|2m6f Hcap Chs|   444842|     Winter Magic| 1452779540037|              4.8|\n",
      "|1.122576498|Thurl 14th Jan|2m6f Hcap Chs|  5415401|         Miradane| 1452779840164|             13.0|\n",
      "|1.122576498|Thurl 14th Jan|2m6f Hcap Chs|  5568158|     Mister First| 1452780500171|             11.5|\n",
      "|1.122576498|Thurl 14th Jan|2m6f Hcap Chs|  6939953|Coolnagorna Giggs| 1452784340206|              7.0|\n",
      "|1.122576498|Thurl 14th Jan|2m6f Hcap Chs|  5568158|     Mister First| 1452784640215|             13.5|\n",
      "|1.122576498|Thurl 14th Jan|2m6f Hcap Chs|  5568158|     Mister First| 1452758180030|              9.2|\n",
      "|1.122576498|Thurl 14th Jan|2m6f Hcap Chs|  7011147|         He Rocks| 1452773600145|              8.2|\n",
      "|1.122576498|Thurl 14th Jan|2m6f Hcap Chs|  7281856|          Tooreen| 1452775160197|              6.4|\n",
      "|1.122576498|Thurl 14th Jan|2m6f Hcap Chs|  9153264|         Flynsini| 1452777800233|             36.0|\n",
      "|1.122576498|Thurl 14th Jan|2m6f Hcap Chs|  6939953|Coolnagorna Giggs| 1452723378727|              8.2|\n",
      "|1.122576498|Thurl 14th Jan|2m6f Hcap Chs|  8996652|      Shadow Play| 1452778460229|             16.0|\n",
      "|1.122576498|Thurl 14th Jan|2m6f Hcap Chs|  5568158|     Mister First| 1452780860248|             10.5|\n",
      "|1.122576498|Thurl 14th Jan|2m6f Hcap Chs|  5415401|         Miradane| 1452735256981|             14.0|\n",
      "|1.122576498|Thurl 14th Jan|2m6f Hcap Chs|  9153264|         Flynsini| 1452767899947|             28.0|\n",
      "|1.122576498|Thurl 14th Jan|2m6f Hcap Chs|  5568158|     Mister First| 1452775579684|             13.5|\n",
      "|1.122576498|Thurl 14th Jan|2m6f Hcap Chs|  5568158|     Mister First| 1452778580167|             12.5|\n",
      "|1.122576498|Thurl 14th Jan|2m6f Hcap Chs|  8996652|      Shadow Play| 1452779120244|             15.5|\n",
      "|1.122576498|Thurl 14th Jan|2m6f Hcap Chs|  6939953|Coolnagorna Giggs| 1452784220185|              7.6|\n",
      "|1.122576498|Thurl 14th Jan|2m6f Hcap Chs|  8996652|      Shadow Play| 1452735256981|             10.5|\n",
      "|1.122576498|Thurl 14th Jan|2m6f Hcap Chs|   444842|     Winter Magic| 1452770120128|              4.9|\n",
      "|1.122576498|Thurl 14th Jan|2m6f Hcap Chs|   444842|     Winter Magic| 1452783260061|              4.4|\n",
      "|1.122576498|Thurl 14th Jan|2m6f Hcap Chs|  9483270|  Mountain Philip| 1452769759882|             40.0|\n",
      "|1.122576498|Thurl 14th Jan|2m6f Hcap Chs|  5415401|         Miradane| 1452777380177|             17.5|\n",
      "|1.122576498|Thurl 14th Jan|2m6f Hcap Chs|  6939953|Coolnagorna Giggs| 1452777560178|              7.2|\n",
      "|1.122576498|Thurl 14th Jan|2m6f Hcap Chs|  5568158|     Mister First| 1452782240219|             12.5|\n",
      "|1.122576498|Thurl 14th Jan|2m6f Hcap Chs|   444842|     Winter Magic| 1452783320215|              4.5|\n",
      "|1.122576498|Thurl 14th Jan|2m6f Hcap Chs|   444842|     Winter Magic| 1452784400206|              4.1|\n",
      "|1.122576498|Thurl 14th Jan|2m6f Hcap Chs|  6939953|Coolnagorna Giggs| 1452784760229|              7.6|\n",
      "|1.122576498|Thurl 14th Jan|2m6f Hcap Chs|  7011147|         He Rocks| 1452765499670|              8.6|\n",
      "|1.122576498|Thurl 14th Jan|2m6f Hcap Chs|  7011147|         He Rocks| 1452766939801|              8.4|\n",
      "|1.122576498|Thurl 14th Jan|2m6f Hcap Chs|  7281856|          Tooreen| 1452774380145|              6.0|\n",
      "|1.122576498|Thurl 14th Jan|2m6f Hcap Chs|   444842|     Winter Magic| 1452781760163|              4.7|\n",
      "|1.122576498|Thurl 14th Jan|2m6f Hcap Chs|   444842|     Winter Magic| 1452783560192|              4.7|\n",
      "|1.122576498|Thurl 14th Jan|2m6f Hcap Chs|   444842|     Winter Magic| 1452783620181|              4.4|\n",
      "|1.122576498|Thurl 14th Jan|2m6f Hcap Chs|  9153264|         Flynsini| 1452784580202|             38.0|\n",
      "|1.122576498|Thurl 14th Jan|2m6f Hcap Chs|  9153264|         Flynsini| 1452774140203|             44.0|\n",
      "|1.122576498|Thurl 14th Jan|2m6f Hcap Chs|  7011147|         He Rocks| 1452777920192|              6.8|\n",
      "|1.122576498|Thurl 14th Jan|2m6f Hcap Chs|   444842|     Winter Magic| 1452778220248|              4.6|\n",
      "|1.122576498|Thurl 14th Jan|2m6f Hcap Chs|  7281856|          Tooreen| 1452757758581|              6.4|\n",
      "|1.122576498|Thurl 14th Jan|2m6f Hcap Chs|  7011147|         He Rocks| 1452783740242|              6.8|\n",
      "|1.122576498|Thurl 14th Jan|2m6f Hcap Chs|  9153264|         Flynsini| 1452784340206|             34.0|\n",
      "|1.122576498|Thurl 14th Jan|2m6f Hcap Chs|  7011147|         He Rocks| 1452774320255|              7.0|\n",
      "|1.122576498|Thurl 14th Jan|2m6f Hcap Chs|   444842|     Winter Magic| 1452778700151|              4.8|\n",
      "|1.122576498|Thurl 14th Jan|2m6f Hcap Chs|  5568158|     Mister First| 1452781220220|             11.5|\n",
      "|1.122576498|Thurl 14th Jan|2m6f Hcap Chs|  7281856|          Tooreen| 1452781760163|              8.2|\n",
      "|1.122576498|Thurl 14th Jan|2m6f Hcap Chs|  7281856|          Tooreen| 1452765680169|              7.4|\n",
      "|1.122576498|Thurl 14th Jan|2m6f Hcap Chs|  5415401|         Miradane| 1452769759882|             15.5|\n",
      "|1.122576498|Thurl 14th Jan|2m6f Hcap Chs|  8996652|      Shadow Play| 1452782420173|             12.0|\n",
      "|1.122576498|Thurl 14th Jan|2m6f Hcap Chs|  9153264|         Flynsini| 1452783740242|             46.0|\n",
      "|1.122576498|Thurl 14th Jan|2m6f Hcap Chs|  9483270|  Mountain Philip| 1452784040156|             34.0|\n",
      "|1.122576498|Thurl 14th Jan|2m6f Hcap Chs|   444842|     Winter Magic| 1452775220201|              4.9|\n",
      "|1.122576498|Thurl 14th Jan|2m6f Hcap Chs|  5568158|     Mister First| 1452777680177|             13.0|\n",
      "|1.122576498|Thurl 14th Jan|2m6f Hcap Chs|  5568158|     Mister First| 1452779060184|             12.5|\n",
      "|1.122576498|Thurl 14th Jan|2m6f Hcap Chs|  7281856|          Tooreen| 1452779660203|              6.4|\n",
      "|1.122576498|Thurl 14th Jan|2m6f Hcap Chs|  8996652|      Shadow Play| 1452783560192|             15.5|\n",
      "|1.122576498|Thurl 14th Jan|2m6f Hcap Chs|  7253717|             Gary| 1452784340206|             65.0|\n",
      "|1.122576498|Thurl 14th Jan|2m6f Hcap Chs|   444842|     Winter Magic| 1452722420164|              5.2|\n",
      "|1.122576498|Thurl 14th Jan|2m6f Hcap Chs|  7011147|         He Rocks| 1452779960245|              6.8|\n",
      "|1.122576498|Thurl 14th Jan|2m6f Hcap Chs|  5415401|         Miradane| 1452780500171|             12.0|\n",
      "|1.122576498|Thurl 14th Jan|2m6f Hcap Chs|  8996652|      Shadow Play| 1452784880176|           1000.0|\n",
      "|1.122576498|Thurl 14th Jan|2m6f Hcap Chs|  6939953|Coolnagorna Giggs| 1452761359482|              7.0|\n",
      "|1.122576498|Thurl 14th Jan|2m6f Hcap Chs|   444842|     Winter Magic| 1452773360162|              4.8|\n",
      "|1.122576498|Thurl 14th Jan|2m6f Hcap Chs|  9483270|  Mountain Philip| 1452783200221|             34.0|\n",
      "|1.122576498|Thurl 14th Jan|2m6f Hcap Chs|  7253717|             Gary| 1452723799011|             55.0|\n",
      "|1.122576498|Thurl 14th Jan|2m6f Hcap Chs|  7011147|         He Rocks| 1452768080140|              8.4|\n",
      "|1.122576498|Thurl 14th Jan|2m6f Hcap Chs|  6939953|Coolnagorna Giggs| 1452779840164|              9.6|\n",
      "|1.122576498|Thurl 14th Jan|2m6f Hcap Chs|   444842|     Winter Magic| 1452783680240|              4.5|\n",
      "|1.122576498|Thurl 14th Jan|2m6f Hcap Chs|  7011147|         He Rocks| 1452769640124|              8.4|\n",
      "|1.122576498|Thurl 14th Jan|2m6f Hcap Chs|  8742358|  Topper Thornton| 1452770359735|              8.0|\n",
      "|1.122576498|Thurl 14th Jan|2m6f Hcap Chs|  8742358|  Topper Thornton| 1452784820213|             21.0|\n",
      "|1.122576498|Thurl 14th Jan|2m6f Hcap Chs|  7011147|         He Rocks| 1452766520013|              8.6|\n",
      "|1.122576498|Thurl 14th Jan|2m6f Hcap Chs|  7011147|         He Rocks| 1452781700242|              7.2|\n",
      "|1.122576498|Thurl 14th Jan|2m6f Hcap Chs|  7011147|         He Rocks| 1452771140250|              8.8|\n",
      "|1.122576498|Thurl 14th Jan|2m6f Hcap Chs|  8742358|  Topper Thornton| 1452772160218|              8.0|\n",
      "|1.122576498|Thurl 14th Jan|2m6f Hcap Chs|  7011147|         He Rocks| 1452776840149|              7.2|\n",
      "|1.122576498|Thurl 14th Jan|2m6f Hcap Chs|  5415401|         Miradane| 1452779360216|             12.5|\n",
      "|1.122576498|Thurl 14th Jan|2m6f Hcap Chs|  7281856|          Tooreen| 1452781100172|              7.4|\n",
      "|1.122576498|Thurl 14th Jan|2m6f Hcap Chs|  7011147|         He Rocks| 1452783980201|              6.8|\n",
      "|1.122576498|Thurl 14th Jan|2m6f Hcap Chs|   444842|     Winter Magic| 1452784640215|             3.95|\n",
      "|1.122576498|Thurl 14th Jan|2m6f Hcap Chs|  7011147|         He Rocks| 1452784820213|             29.0|\n",
      "|1.122576498|Thurl 14th Jan|2m6f Hcap Chs|  7281856|          Tooreen| 1452784940171|           1000.0|\n",
      "|1.122576498|Thurl 14th Jan|2m6f Hcap Chs|  5568158|     Mister First| 1452773240193|             11.5|\n",
      "|1.122576498|Thurl 14th Jan|2m6f Hcap Chs|   444842|     Winter Magic| 1452778640153|              4.7|\n",
      "|1.122576498|Thurl 14th Jan|2m6f Hcap Chs|  5415401|         Miradane| 1452779300198|             12.0|\n",
      "|1.122576498|Thurl 14th Jan|2m6f Hcap Chs|   444842|     Winter Magic| 1452779840164|              4.9|\n",
      "|1.122576498|Thurl 14th Jan|2m6f Hcap Chs|  5568158|     Mister First| 1452783860208|             12.0|\n",
      "|1.122576498|Thurl 14th Jan|2m6f Hcap Chs|   444842|     Winter Magic| 1452784280160|              4.4|\n",
      "|1.122576498|Thurl 14th Jan|2m6f Hcap Chs|  6939953|Coolnagorna Giggs| 1452769640124|              6.8|\n",
      "|1.122576498|Thurl 14th Jan|2m6f Hcap Chs|  5568158|     Mister First| 1452772160218|             12.0|\n",
      "|1.122576498|Thurl 14th Jan|2m6f Hcap Chs|  9153264|         Flynsini| 1452781520184|             40.0|\n",
      "|1.122576498|Thurl 14th Jan|2m6f Hcap Chs|  7253717|             Gary| 1452784460206|             75.0|\n",
      "|1.122576498|Thurl 14th Jan|2m6f Hcap Chs|  6939953|Coolnagorna Giggs| 1452784820213|              3.7|\n",
      "|1.122576498|Thurl 14th Jan|2m6f Hcap Chs|  7281856|          Tooreen| 1452771800186|              6.0|\n",
      "|1.122576498|Thurl 14th Jan|2m6f Hcap Chs|  6939953|Coolnagorna Giggs| 1452774320255|              7.2|\n",
      "|1.122576498|Thurl 14th Jan|2m6f Hcap Chs|  5415401|         Miradane| 1452778460229|             15.0|\n",
      "|1.122576498|Thurl 14th Jan|2m6f Hcap Chs|  7011147|         He Rocks| 1452779120244|              6.8|\n",
      "|1.122576498|Thurl 14th Jan|2m6f Hcap Chs|  5415401|         Miradane| 1452780860248|             13.5|\n",
      "|1.122576498|Thurl 14th Jan|2m6f Hcap Chs|  8996652|      Shadow Play| 1452784760229|              7.8|\n",
      "|1.122576498|Thurl 14th Jan|2m6f Hcap Chs|  8742358|  Topper Thornton| 1452759079107|              9.2|\n",
      "|1.122576498|Thurl 14th Jan|2m6f Hcap Chs|  8742358|  Topper Thornton| 1452770540193|              7.8|\n",
      "|1.122576498|Thurl 14th Jan|2m6f Hcap Chs|  5568158|     Mister First| 1452768139860|             12.0|\n",
      "|1.122576498|Thurl 14th Jan|2m6f Hcap Chs|   444842|     Winter Magic| 1452778520208|              4.7|\n",
      "|1.122576498|Thurl 14th Jan|2m6f Hcap Chs|  7281856|          Tooreen| 1452778940180|              7.4|\n",
      "|1.122576498|Thurl 14th Jan|2m6f Hcap Chs|  9153264|         Flynsini| 1452782000249|             34.0|\n",
      "|1.122576498|Thurl 14th Jan|2m6f Hcap Chs|  5415401|         Miradane| 1452783920189|             11.5|\n",
      "|1.122576498|Thurl 14th Jan|2m6f Hcap Chs|  7281856|          Tooreen| 1452765919891|              7.6|\n",
      "|1.122576498|Thurl 14th Jan|2m6f Hcap Chs|  7011147|         He Rocks| 1452766818683|              8.6|\n",
      "|1.122576498|Thurl 14th Jan|2m6f Hcap Chs|  8996652|      Shadow Play| 1452776240185|             16.5|\n",
      "|1.122576498|Thurl 14th Jan|2m6f Hcap Chs|  7281856|          Tooreen| 1452782840187|              9.8|\n",
      "|1.122576498|Thurl 14th Jan|2m6f Hcap Chs|  5415401|         Miradane| 1452732492652|             14.5|\n",
      "|1.122576498|Thurl 14th Jan|2m6f Hcap Chs|  6939953|Coolnagorna Giggs| 1452784040156|              7.4|\n",
      "|1.122576498|Thurl 14th Jan|2m6f Hcap Chs|  7281856|          Tooreen| 1452715099578|              6.0|\n",
      "|1.122576498|Thurl 14th Jan|2m6f Hcap Chs|   444842|     Winter Magic| 1452758240056|              4.5|\n",
      "|1.122576498|Thurl 14th Jan|2m6f Hcap Chs|  6939953|Coolnagorna Giggs| 1452765800171|              7.0|\n",
      "|1.122576498|Thurl 14th Jan|2m6f Hcap Chs|  7011147|         He Rocks| 1452765919891|              9.0|\n",
      "|1.122576498|Thurl 14th Jan|2m6f Hcap Chs|  7011147|         He Rocks| 1452767480154|              8.6|\n",
      "|1.122576498|Thurl 14th Jan|2m6f Hcap Chs|   444842|     Winter Magic| 1452766460243|              4.8|\n",
      "|1.122576498|Thurl 14th Jan|2m6f Hcap Chs|  7011147|         He Rocks| 1452779720214|              6.8|\n",
      "|1.122576498|Thurl 14th Jan|2m6f Hcap Chs|  5568158|     Mister First| 1452713642583|             10.5|\n",
      "|1.122576498|Thurl 14th Jan|2m6f Hcap Chs|   444842|     Winter Magic| 1452756064596|              4.6|\n",
      "|1.122576498|Thurl 14th Jan|2m6f Hcap Chs|  7011147|         He Rocks| 1452778220248|              7.0|\n",
      "|1.122576498|Thurl 14th Jan|2m6f Hcap Chs|  6939953|Coolnagorna Giggs| 1452783920189|              7.4|\n",
      "|1.122576498|Thurl 14th Jan|2m6f Hcap Chs|  7011147|         He Rocks| 1452770000050|              8.2|\n",
      "|1.122576498|Thurl 14th Jan|2m6f Hcap Chs|  7011147|         He Rocks| 1452774140203|              7.2|\n",
      "|1.122576498|Thurl 14th Jan|2m6f Hcap Chs|   444842|     Winter Magic| 1452781700242|              4.6|\n",
      "|1.122576498|Thurl 14th Jan|2m6f Hcap Chs|  7281856|          Tooreen| 1452782600183|              8.8|\n",
      "|1.122576498|Thurl 14th Jan|2m6f Hcap Chs|  8742358|  Topper Thornton| 1452759798049|              8.4|\n",
      "|1.122576498|Thurl 14th Jan|2m6f Hcap Chs|  7281856|          Tooreen| 1452769220175|              6.2|\n",
      "|1.122576498|Thurl 14th Jan|2m6f Hcap Chs|  8742358|  Topper Thornton| 1452778640153|              9.4|\n",
      "|1.122576498|Thurl 14th Jan|2m6f Hcap Chs|  8742358|  Topper Thornton| 1452779420229|             10.0|\n",
      "|1.122576498|Thurl 14th Jan|2m6f Hcap Chs|  5415401|         Miradane| 1452784340206|             11.0|\n",
      "|1.122576498|Thurl 14th Jan|2m6f Hcap Chs|  7011147|         He Rocks| 1452784580202|              8.4|\n",
      "|1.122576498|Thurl 14th Jan|2m6f Hcap Chs|   444842|     Winter Magic| 1452765680169|              4.7|\n",
      "|1.122576498|Thurl 14th Jan|2m6f Hcap Chs|   444842|     Winter Magic| 1452774560157|              4.8|\n",
      "|1.122576498|Thurl 14th Jan|2m6f Hcap Chs|  5568158|     Mister First| 1452783080228|             12.5|\n",
      "|1.122576498|Thurl 14th Jan|2m6f Hcap Chs|  7253717|             Gary| 1452784580202|             75.0|\n",
      "|1.122576498|Thurl 14th Jan|2m6f Hcap Chs|  6939953|Coolnagorna Giggs| 1452784880176|             1.56|\n",
      "|1.122576498|Thurl 14th Jan|2m6f Hcap Chs|  7011147|         He Rocks| 1452766400127|              8.8|\n",
      "|1.122576498|Thurl 14th Jan|2m6f Hcap Chs|  8996652|      Shadow Play| 1452768558336|             14.0|\n",
      "|1.122576498|Thurl 14th Jan|2m6f Hcap Chs|  7011147|         He Rocks| 1452765559646|              8.0|\n",
      "|1.122576498|Thurl 14th Jan|2m6f Hcap Chs|   444842|     Winter Magic| 1452779300198|              4.7|\n",
      "|1.122576498|Thurl 14th Jan|2m6f Hcap Chs|  7281856|          Tooreen| 1452779420229|              6.0|\n",
      "|1.122576498|Thurl 14th Jan|2m6f Hcap Chs|  7281856|          Tooreen| 1452782060227|              8.8|\n",
      "|1.122576498|Thurl 14th Jan|2m6f Hcap Chs|  5415401|         Miradane| 1452767779664|             15.0|\n",
      "|1.122576498|Thurl 14th Jan|2m6f Hcap Chs|   444842|     Winter Magic| 1452774920200|              5.0|\n",
      "|1.122576498|Thurl 14th Jan|2m6f Hcap Chs|  5415401|         Miradane| 1452777800233|             14.0|\n",
      "|1.122576498|Thurl 14th Jan|2m6f Hcap Chs|  7253717|             Gary| 1452765919891|             46.0|\n",
      "|1.122576498|Thurl 14th Jan|2m6f Hcap Chs|  8742358|  Topper Thornton| 1452767117538|              7.6|\n",
      "|1.122576498|Thurl 14th Jan|2m6f Hcap Chs|  6939953|Coolnagorna Giggs| 1452769400167|              7.0|\n",
      "|1.122576498|Thurl 14th Jan|2m6f Hcap Chs|  7011147|         He Rocks| 1452777260227|              7.0|\n",
      "|1.122576498|Thurl 14th Jan|2m6f Hcap Chs|   444842|     Winter Magic| 1452779180210|              4.3|\n",
      "|1.122576498|Thurl 14th Jan|2m6f Hcap Chs|  6939953|Coolnagorna Giggs| 1452781400036|              8.2|\n",
      "|1.122576498|Thurl 14th Jan|2m6f Hcap Chs|  5415401|         Miradane| 1452784460206|             12.0|\n",
      "|1.122576498|Thurl 14th Jan|2m6f Hcap Chs|  9153264|         Flynsini| 1452784460206|             32.0|\n",
      "|1.122576498|Thurl 14th Jan|2m6f Hcap Chs|  9153264|         Flynsini| 1452784880176|              7.0|\n",
      "|1.122576498|Thurl 14th Jan|2m6f Hcap Chs|  9483270|  Mountain Philip| 1452781040153|             29.0|\n",
      "|1.122576498|Thurl 14th Jan|2m6f Hcap Chs|  5415401|         Miradane| 1452783740242|             11.0|\n",
      "|1.122576498|Thurl 14th Jan|2m6f Hcap Chs|  7281856|          Tooreen| 1452766460243|              7.2|\n",
      "|1.122576498|Thurl 14th Jan|2m6f Hcap Chs|  6939953|Coolnagorna Giggs| 1452780620203|              9.2|\n",
      "|1.122576498|Thurl 14th Jan|2m6f Hcap Chs|  6939953|Coolnagorna Giggs| 1452770179849|              7.0|\n",
      "|1.122576498|Thurl 14th Jan|2m6f Hcap Chs|   444842|     Winter Magic| 1452775939870|              4.8|\n",
      "|1.122576498|Thurl 14th Jan|2m6f Hcap Chs|  7011147|         He Rocks| 1452778640153|              7.0|\n",
      "|1.122576498|Thurl 14th Jan|2m6f Hcap Chs|  9483270|  Mountain Philip| 1452782180249|             32.0|\n",
      "|1.122576498|Thurl 14th Jan|2m6f Hcap Chs|  5415401|         Miradane| 1452782900011|             12.0|\n",
      "|1.122576498|Thurl 14th Jan|2m6f Hcap Chs|  9483270|  Mountain Philip| 1452784760229|            250.0|\n",
      "|1.122576498|Thurl 14th Jan|2m6f Hcap Chs|  8996652|      Shadow Play| 1452765919891|             13.5|\n",
      "|1.122576498|Thurl 14th Jan|2m6f Hcap Chs|  7253717|             Gary| 1452769220175|            120.0|\n",
      "|1.122576498|Thurl 14th Jan|2m6f Hcap Chs|   444842|     Winter Magic| 1452783980201|              4.5|\n",
      "|1.122576498|Thurl 14th Jan|2m6f Hcap Chs|   444842|     Winter Magic| 1452784460206|              4.2|\n",
      "|1.122576498|Thurl 14th Jan|2m6f Hcap Chs|  7281856|          Tooreen| 1452784820213|             22.0|\n",
      "|1.122576498|Thurl 14th Jan|2m6f Hcap Chs|  8996652|      Shadow Play| 1452737410094|             11.0|\n",
      "|1.122576498|Thurl 14th Jan|2m6f Hcap Chs|  7281856|          Tooreen| 1452757037560|              6.2|\n",
      "|1.122576498|Thurl 14th Jan|2m6f Hcap Chs|  6939953|Coolnagorna Giggs| 1452765860208|              7.2|\n",
      "|1.122576498|Thurl 14th Jan|2m6f Hcap Chs|  5568158|     Mister First| 1452776120151|             12.5|\n",
      "|1.122576498|Thurl 14th Jan|2m6f Hcap Chs|   444842|     Winter Magic| 1452780320140|              4.7|\n",
      "|1.122576498|Thurl 14th Jan|2m6f Hcap Chs|  7011147|         He Rocks| 1452784040156|              6.6|\n",
      "|1.122576498|Thurl 14th Jan|2m6f Hcap Chs|  5568158|     Mister First| 1452784280160|             12.5|\n",
      "|1.122576498|Thurl 14th Jan|2m6f Hcap Chs|  5415401|         Miradane| 1452737410094|             11.0|\n",
      "|1.122576498|Thurl 14th Jan|2m6f Hcap Chs|  5415401|         Miradane| 1452774320255|             17.0|\n",
      "|1.122576498|Thurl 14th Jan|2m6f Hcap Chs|  7011147|         He Rocks| 1452775040173|              7.2|\n",
      "|1.122576498|Thurl 14th Jan|2m6f Hcap Chs|  7011147|         He Rocks| 1452775520067|              8.8|\n",
      "|1.122576498|Thurl 14th Jan|2m6f Hcap Chs|  7011147|         He Rocks| 1452782300212|              7.6|\n",
      "|1.122576498|Thurl 14th Jan|2m6f Hcap Chs|  7011147|         He Rocks| 1452784700250|              8.2|\n",
      "|1.122576498|Thurl 14th Jan|2m6f Hcap Chs|  6939953|Coolnagorna Giggs| 1452712450381|              7.8|\n",
      "|1.122576498|Thurl 14th Jan|2m6f Hcap Chs|  7011147|         He Rocks| 1452766580219|              8.4|\n",
      "|1.122576498|Thurl 14th Jan|2m6f Hcap Chs|  5415401|         Miradane| 1452779660203|             12.0|\n",
      "|1.122576498|Thurl 14th Jan|2m6f Hcap Chs|   444842|     Winter Magic| 1452780380250|              4.9|\n",
      "|1.122576498|Thurl 14th Jan|2m6f Hcap Chs|  8996652|      Shadow Play| 1452782780175|             14.0|\n",
      "|1.122576498|Thurl 14th Jan|2m6f Hcap Chs|  8996652|      Shadow Play| 1452783499957|             15.0|\n",
      "|1.122576498|Thurl 14th Jan|2m6f Hcap Chs|   444842|     Winter Magic| 1452769759882|              5.0|\n",
      "|1.122576498|Thurl 14th Jan|2m6f Hcap Chs|  7253717|             Gary| 1452773060151|            170.0|\n",
      "|1.122576498|Thurl 14th Jan|2m6f Hcap Chs|  7011147|         He Rocks| 1452777380177|              7.2|\n",
      "|1.122576498|Thurl 14th Jan|2m6f Hcap Chs|  9153264|         Flynsini| 1452778940180|             38.0|\n",
      "|1.122576498|Thurl 14th Jan|2m6f Hcap Chs|  8742358|  Topper Thornton| 1452781340212|              9.2|\n",
      "|1.122576498|Thurl 14th Jan|2m6f Hcap Chs|  5415401|         Miradane| 1452781760163|             13.0|\n",
      "|1.122576498|Thurl 14th Jan|2m6f Hcap Chs|   444842|     Winter Magic| 1452768199977|              4.9|\n",
      "|1.122576498|Thurl 14th Jan|2m6f Hcap Chs|  8996652|      Shadow Play| 1452777860208|             17.0|\n",
      "|1.122576498|Thurl 14th Jan|2m6f Hcap Chs|  6939953|Coolnagorna Giggs| 1452779360216|              9.0|\n",
      "|1.122576498|Thurl 14th Jan|2m6f Hcap Chs|  5415401|         Miradane| 1452780740165|             13.0|\n",
      "|1.122576498|Thurl 14th Jan|2m6f Hcap Chs|  9483270|  Mountain Philip| 1452783680240|             32.0|\n",
      "|1.122576498|Thurl 14th Jan|2m6f Hcap Chs|  5568158|     Mister First| 1452784940171|           1000.0|\n",
      "|1.122576498|Thurl 14th Jan|2m6f Hcap Chs|  8742358|  Topper Thornton| 1452759739998|              9.0|\n",
      "|1.122576498|Thurl 14th Jan|2m6f Hcap Chs|  7281856|          Tooreen| 1452779120244|              7.4|\n",
      "|1.122576498|Thurl 14th Jan|2m6f Hcap Chs|  9483270|  Mountain Philip| 1452780800245|             29.0|\n",
      "|1.122576498|Thurl 14th Jan|2m6f Hcap Chs|  7011147|         He Rocks| 1452784100169|              6.8|\n",
      "|1.122576498|Thurl 14th Jan|2m6f Hcap Chs|  6939953|Coolnagorna Giggs| 1452721638750|              8.6|\n",
      "|1.122576498|Thurl 14th Jan|2m6f Hcap Chs|  5415401|         Miradane| 1452784280160|             10.0|\n",
      "|1.122576498|Thurl 14th Jan|2m6f Hcap Chs|  5415401|         Miradane| 1452779599591|             12.5|\n",
      "|1.122576498|Thurl 14th Jan|2m6f Hcap Chs|  5568158|     Mister First| 1452782300212|             13.0|\n",
      "|1.122576498|Thurl 14th Jan|2m6f Hcap Chs|  7281856|          Tooreen| 1452716059579|              5.8|\n",
      "|1.122576498|Thurl 14th Jan|2m6f Hcap Chs|   444842|     Winter Magic| 1452720671699|              4.8|\n",
      "|1.122576498|Thurl 14th Jan|2m6f Hcap Chs|  8742358|  Topper Thornton| 1452770840085|              8.0|\n",
      "|1.122576498|Thurl 14th Jan|2m6f Hcap Chs|  5415401|         Miradane| 1452777740212|             15.5|\n",
      "|1.122576498|Thurl 14th Jan|2m6f Hcap Chs|  8996652|      Shadow Play| 1452778100169|             16.5|\n",
      "|1.122576498|Thurl 14th Jan|2m6f Hcap Chs|  7011147|         He Rocks| 1452784940171|           1000.0|\n",
      "|1.122576498|Thurl 14th Jan|2m6f Hcap Chs|  6939953|Coolnagorna Giggs| 1452783980201|              7.2|\n",
      "|1.122576498|Thurl 14th Jan|2m6f Hcap Chs|  7011147|         He Rocks| 1452770120128|              8.0|\n",
      "|1.122576498|Thurl 14th Jan|2m6f Hcap Chs|  8996652|      Shadow Play| 1452772520241|             14.0|\n",
      "|1.122576498|Thurl 14th Jan|2m6f Hcap Chs|  7011147|         He Rocks| 1452773240193|              8.4|\n",
      "|1.122576498|Thurl 14th Jan|2m6f Hcap Chs|  7281856|          Tooreen| 1452774740206|              6.2|\n",
      "|1.122576498|Thurl 14th Jan|2m6f Hcap Chs|   444842|     Winter Magic| 1452777980236|              4.9|\n",
      "|1.122576498|Thurl 14th Jan|2m6f Hcap Chs|  6939953|Coolnagorna Giggs| 1452781640247|              8.2|\n",
      "|1.122576498|Thurl 14th Jan|2m6f Hcap Chs|  7281856|          Tooreen| 1452784040156|             11.0|\n",
      "|1.122576498|Thurl 14th Jan|2m6f Hcap Chs|  7011147|         He Rocks| 1452784880176|             85.0|\n",
      "|1.122576498|Thurl 14th Jan|2m6f Hcap Chs|  9483270|  Mountain Philip| 1452766099397|             30.0|\n",
      "|1.122576498|Thurl 14th Jan|2m6f Hcap Chs|   444842|     Winter Magic| 1452783140229|              4.3|\n",
      "|1.122576498|Thurl 14th Jan|2m6f Hcap Chs|   444842|     Winter Magic| 1452768680246|              4.8|\n",
      "|1.122576498|Thurl 14th Jan|2m6f Hcap Chs|  8742358|  Topper Thornton| 1452784700250|             17.5|\n",
      "|1.122576498|Thurl 14th Jan|2m6f Hcap Chs|  9153264|         Flynsini| 1452767238628|             32.0|\n",
      "|1.122576498|Thurl 14th Jan|2m6f Hcap Chs|  7281856|          Tooreen| 1452768020090|              6.8|\n",
      "|1.122576498|Thurl 14th Jan|2m6f Hcap Chs|  6939953|Coolnagorna Giggs| 1452770359735|              6.8|\n",
      "|1.122576498|Thurl 14th Jan|2m6f Hcap Chs|  6939953|Coolnagorna Giggs| 1452781520184|              8.0|\n",
      "|1.122576498|Thurl 14th Jan|2m6f Hcap Chs|  9153264|         Flynsini| 1452783260061|             44.0|\n",
      "|1.122576498|Thurl 14th Jan|2m6f Hcap Chs|  9153264|         Flynsini| 1452783800147|             48.0|\n",
      "|1.122576498|Thurl 14th Jan|2m6f Hcap Chs|  5415401|         Miradane| 1452784520247|             11.5|\n",
      "|1.122576498|Thurl 14th Jan|2m6f Hcap Chs|  6939953|Coolnagorna Giggs| 1452784580202|              5.2|\n",
      "|1.122576498|Thurl 14th Jan|2m6f Hcap Chs|  7281856|          Tooreen| 1452784640215|             20.0|\n",
      "|1.122576498|Thurl 14th Jan|2m6f Hcap Chs|  7281856|          Tooreen| 1452784880176|             55.0|\n",
      "|1.122576498|Thurl 14th Jan|2m6f Hcap Chs|  9153264|         Flynsini| 1452767359609|             30.0|\n",
      "|1.122576498|Thurl 14th Jan|2m6f Hcap Chs|   444842|     Winter Magic| 1452778880238|              4.6|\n",
      "|1.122576498|Thurl 14th Jan|2m6f Hcap Chs|  9483270|  Mountain Philip| 1452780680234|             30.0|\n",
      "|1.122576498|Thurl 14th Jan|2m6f Hcap Chs|  7011147|         He Rocks| 1452780860248|              7.8|\n",
      "|1.122576498|Thurl 14th Jan|2m6f Hcap Chs|  5568158|     Mister First| 1452781940204|             12.5|\n",
      "|1.122576498|Thurl 14th Jan|2m6f Hcap Chs|  7253717|             Gary| 1452784640215|             48.0|\n",
      "|1.122576498|Thurl 14th Jan|2m6f Hcap Chs|  8996652|      Shadow Play| 1452732438499|             11.0|\n",
      "|1.122576498|Thurl 14th Jan|2m6f Hcap Chs|  7011147|         He Rocks| 1452775400154|              8.2|\n",
      "|1.122576498|Thurl 14th Jan|2m6f Hcap Chs|  7281856|          Tooreen| 1452782660221|              9.0|\n",
      "|1.122576498|Thurl 14th Jan|2m6f Hcap Chs|  7011147|         He Rocks| 1452783620181|              6.8|\n",
      "|1.122576498|Thurl 14th Jan|2m6f Hcap Chs|  9153264|         Flynsini| 1452784220185|             34.0|\n",
      "|1.122576498|Thurl 14th Jan|2m6f Hcap Chs|  8742358|  Topper Thornton| 1452784640215|             13.5|\n",
      "|1.122576498|Thurl 14th Jan|2m6f Hcap Chs|  8996652|      Shadow Play| 1452774140203|             19.0|\n",
      "|1.122576498|Thurl 14th Jan|2m6f Hcap Chs|  7011147|         He Rocks| 1452780260230|              7.0|\n",
      "|1.122576498|Thurl 14th Jan|2m6f Hcap Chs|  6939953|Coolnagorna Giggs| 1452783320215|              7.4|\n",
      "|1.122576498|Thurl 14th Jan|2m6f Hcap Chs|  6939953|Coolnagorna Giggs| 1452758000254|              7.6|\n",
      "|1.122576498|Thurl 14th Jan|2m6f Hcap Chs|  7281856|          Tooreen| 1452780860248|              7.0|\n",
      "|1.122576498|Thurl 14th Jan|2m6f Hcap Chs|  8742358|  Topper Thornton| 1452782060227|              9.4|\n",
      "|1.122576498|Thurl 14th Jan|2m6f Hcap Chs|  9483270|  Mountain Philip| 1452783620181|             34.0|\n",
      "|1.122576498|Thurl 14th Jan|2m6f Hcap Chs|  7253717|             Gary| 1452784400206|             50.0|\n",
      "|1.122576498|Thurl 14th Jan|2m6f Hcap Chs|  7011147|         He Rocks| 1452778460229|              7.0|\n",
      "|1.122576498|Thurl 14th Jan|2m6f Hcap Chs|  6939953|Coolnagorna Giggs| 1452781160232|              8.4|\n",
      "|1.122576498|Thurl 14th Jan|2m6f Hcap Chs|  7281856|          Tooreen| 1452783200221|             10.0|\n",
      "|1.122576498|Thurl 14th Jan|2m6f Hcap Chs|  7011147|         He Rocks| 1452783800147|              6.6|\n",
      "|1.122576498|Thurl 14th Jan|2m6f Hcap Chs|  7281856|          Tooreen| 1452784580202|              9.4|\n",
      "|1.122576498|Thurl 14th Jan|2m6f Hcap Chs|  5415401|         Miradane| 1452784940171|           1000.0|\n",
      "|1.122576498|Thurl 14th Jan|2m6f Hcap Chs|  8996652|      Shadow Play| 1452774320255|             19.5|\n",
      "|1.122576498|Thurl 14th Jan|2m6f Hcap Chs|  7011147|         He Rocks| 1452775160197|              7.4|\n",
      "|1.122576498|Thurl 14th Jan|2m6f Hcap Chs|  5415401|         Miradane| 1452778580167|             14.5|\n",
      "|1.122576498|Thurl 14th Jan|2m6f Hcap Chs|  5415401|         Miradane| 1452778880238|             14.0|\n",
      "|1.122576498|Thurl 14th Jan|2m6f Hcap Chs|  6939953|Coolnagorna Giggs| 1452779420229|              9.2|\n",
      "|1.122576498|Thurl 14th Jan|2m6f Hcap Chs|  8996652|      Shadow Play| 1452782120203|             10.5|\n",
      "|1.122576498|Thurl 14th Jan|2m6f Hcap Chs|  9483270|  Mountain Philip| 1452784520247|             30.0|\n",
      "|1.122576498|Thurl 14th Jan|2m6f Hcap Chs|  8742358|  Topper Thornton| 1452778700151|              9.6|\n",
      "|1.122576498|Thurl 14th Jan|2m6f Hcap Chs|  9483270|  Mountain Philip| 1452783980201|             32.0|\n",
      "|1.122576498|Thurl 14th Jan|2m6f Hcap Chs|  7281856|          Tooreen| 1452765139627|              7.6|\n",
      "|1.122576498|Thurl 14th Jan|2m6f Hcap Chs|  5568158|     Mister First| 1452771319688|             12.0|\n",
      "|1.122576498|Thurl 14th Jan|2m6f Hcap Chs|  5415401|         Miradane| 1452781579965|             14.0|\n",
      "|1.122576498|Thurl 14th Jan|2m6f Hcap Chs|  8996652|      Shadow Play| 1452784640215|              8.6|\n",
      "|1.122576498|Thurl 14th Jan|2m6f Hcap Chs|  6939953|Coolnagorna Giggs| 1452784940171|             1.01|\n",
      "|1.122576498|Thurl 14th Jan|2m6f Hcap Chs|  5415401|         Miradane| 1452728477049|             15.0|\n",
      "|1.122576498|Thurl 14th Jan|2m6f Hcap Chs|  8742358|  Topper Thornton| 1452766339797|              7.8|\n",
      "|1.122576498|Thurl 14th Jan|2m6f Hcap Chs|  7011147|         He Rocks| 1452774560157|              6.8|\n",
      "|1.122576498|Thurl 14th Jan|2m6f Hcap Chs|  6939953|Coolnagorna Giggs| 1452782360181|              8.2|\n",
      "|1.122576498|Thurl 14th Jan|2m6f Hcap Chs|  5415401|         Miradane| 1452782660221|             12.0|\n",
      "|1.122576498|Thurl 14th Jan|2m6f Hcap Chs|  7011147|         He Rocks| 1452767179374|              8.4|\n",
      "|1.122576498|Thurl 14th Jan|2m6f Hcap Chs|  9483270|  Mountain Philip| 1452780620203|             32.0|\n",
      "|1.122576498|Thurl 14th Jan|2m6f Hcap Chs|  8742358|  Topper Thornton| 1452777740212|              9.8|\n",
      "|1.122576498|Thurl 14th Jan|2m6f Hcap Chs|  5415401|         Miradane| 1452783620181|             11.5|\n",
      "|1.122576498|Thurl 14th Jan|2m6f Hcap Chs|   444842|     Winter Magic| 1452752777490|              5.0|\n",
      "|1.122576498|Thurl 14th Jan|2m6f Hcap Chs|  8742358|  Topper Thornton| 1452764780120|              8.0|\n",
      "|1.122576498|Thurl 14th Jan|2m6f Hcap Chs|  7281856|          Tooreen| 1452759614344|              7.4|\n",
      "|1.122576498|Thurl 14th Jan|2m6f Hcap Chs|  7281856|          Tooreen| 1452781160232|              7.2|\n",
      "|1.122576498|Thurl 14th Jan|2m6f Hcap Chs|   444842|     Winter Magic| 1452781640247|              4.8|\n",
      "|1.122576498|Thurl 14th Jan|2m6f Hcap Chs|  6939953|Coolnagorna Giggs| 1452782600183|              8.0|\n",
      "|1.122576498|Thurl 14th Jan|2m6f Hcap Chs|  9483270|  Mountain Philip| 1452784400206|             27.0|\n",
      "|1.122576498|Thurl 14th Jan|2m6f Hcap Chs|  9483270|  Mountain Philip| 1452768199977|             30.0|\n",
      "|1.122576498|Thurl 14th Jan|2m6f Hcap Chs|  5568158|     Mister First| 1452770779639|             12.5|\n",
      "|1.122576498|Thurl 14th Jan|2m6f Hcap Chs|  7011147|         He Rocks| 1452776600245|              7.6|\n",
      "|1.122576498|Thurl 14th Jan|2m6f Hcap Chs|   444842|     Winter Magic| 1452780260230|              4.9|\n",
      "|1.122576498|Thurl 14th Jan|2m6f Hcap Chs|  7281856|          Tooreen| 1452781220220|              7.6|\n",
      "|1.122576498|Thurl 14th Jan|2m6f Hcap Chs|  5568158|     Mister First| 1452783260061|             12.5|\n",
      "|1.122576498|Thurl 14th Jan|2m6f Hcap Chs|  9153264|         Flynsini| 1452783980201|             48.0|\n",
      "|1.122576498|Thurl 14th Jan|2m6f Hcap Chs|  5568158|     Mister First| 1452784820213|             11.0|\n",
      "|1.122576498|Thurl 14th Jan|2m6f Hcap Chs|  8996652|      Shadow Play| 1452780260230|             16.0|\n",
      "|1.122576498|Thurl 14th Jan|2m6f Hcap Chs|  9483270|  Mountain Philip| 1452784640215|            100.0|\n",
      "|1.122576498|Thurl 14th Jan|2m6f Hcap Chs|  7281856|          Tooreen| 1452724760094|              5.1|\n",
      "|1.122576498|Thurl 14th Jan|2m6f Hcap Chs|  7281856|          Tooreen| 1452764479762|              7.2|\n",
      "|1.122576498|Thurl 14th Jan|2m6f Hcap Chs|  6939953|Coolnagorna Giggs| 1452768919507|              7.6|\n",
      "|1.122576498|Thurl 14th Jan|2m6f Hcap Chs|  7281856|          Tooreen| 1452770120128|              6.2|\n",
      "|1.122576498|Thurl 14th Jan|2m6f Hcap Chs|  5415401|         Miradane| 1452784400206|             11.5|\n",
      "|1.122576498|Thurl 14th Jan|2m6f Hcap Chs|  6939953|Coolnagorna Giggs| 1452758720206|              7.4|\n",
      "|1.122576498|Thurl 14th Jan|2m6f Hcap Chs|   444842|     Winter Magic| 1452758959947|              4.6|\n",
      "|1.122576498|Thurl 14th Jan|2m6f Hcap Chs|  9483270|  Mountain Philip| 1452773360162|             44.0|\n",
      "|1.122576498|Thurl 14th Jan|2m6f Hcap Chs|  8742358|  Topper Thornton| 1452781220220|              9.8|\n",
      "|1.122576498|Thurl 14th Jan|2m6f Hcap Chs|  9153264|         Flynsini| 1452782840187|             42.0|\n",
      "|1.122576498|Thurl 14th Jan|2m6f Hcap Chs|  6939953|Coolnagorna Giggs| 1452783380201|              7.2|\n",
      "|1.122576498|Thurl 14th Jan|2m6f Hcap Chs|  7253717|             Gary| 1452784820213|           1000.0|\n",
      "|1.122576498|Thurl 14th Jan|2m6f Hcap Chs|   444842|     Winter Magic| 1452761059713|              5.0|\n",
      "|1.122576498|Thurl 14th Jan|2m6f Hcap Chs|  9153264|         Flynsini| 1452765919891|             38.0|\n",
      "|1.122576498|Thurl 14th Jan|2m6f Hcap Chs|  7253717|             Gary| 1452775100201|            110.0|\n",
      "|1.122576498|Thurl 14th Jan|2m6f Hcap Chs|  8996652|      Shadow Play| 1452781400036|             14.0|\n",
      "|1.122576498|Thurl 14th Jan|2m6f Hcap Chs|  5568158|     Mister First| 1452781460188|             12.0|\n",
      "|1.122576498|Thurl 14th Jan|2m6f Hcap Chs|  8996652|      Shadow Play| 1452781880185|             10.5|\n",
      "|1.122576498|Thurl 14th Jan|2m6f Hcap Chs|  8996652|      Shadow Play| 1452784160206|             14.0|\n",
      "|1.122576498|Thurl 14th Jan|2m6f Hcap Chs|  7281856|          Tooreen| 1452774260242|              6.2|\n",
      "|1.122576498|Thurl 14th Jan|2m6f Hcap Chs|  8742358|  Topper Thornton| 1452781280232|              9.6|\n",
      "|1.122576498|Thurl 14th Jan|2m6f Hcap Chs|  7011147|         He Rocks| 1452784520247|              7.8|\n",
      "|1.122576498|Thurl 14th Jan|2m6f Hcap Chs|  8742358|  Topper Thornton| 1452774080166|              7.8|\n",
      "|1.122576498|Thurl 14th Jan|2m6f Hcap Chs|   444842|     Winter Magic| 1452777320244|              4.9|\n",
      "|1.122576498|Thurl 14th Jan|2m6f Hcap Chs|  5415401|         Miradane| 1452782480221|             11.5|\n",
      "|1.122576498|Thurl 14th Jan|2m6f Hcap Chs|  8996652|      Shadow Play| 1452783740242|             14.0|\n",
      "|1.122576498|Thurl 14th Jan|2m6f Hcap Chs|  5568158|     Mister First| 1452784460206|             12.5|\n",
      "|1.122576498|Thurl 14th Jan|2m6f Hcap Chs|  5415401|         Miradane| 1452772160218|             15.5|\n",
      "|1.122576498|Thurl 14th Jan|2m6f Hcap Chs|  7011147|         He Rocks| 1452774440241|              6.0|\n",
      "|1.122576498|Thurl 14th Jan|2m6f Hcap Chs|  7253717|             Gary| 1452783740242|             60.0|\n",
      "|1.122576498|Thurl 14th Jan|2m6f Hcap Chs|   444842|     Winter Magic| 1452765379246|              4.9|\n",
      "|1.122576498|Thurl 14th Jan|2m6f Hcap Chs|  7011147|         He Rocks| 1452780980177|              7.6|\n",
      "|1.122576498|Thurl 14th Jan|2m6f Hcap Chs|   444842|     Winter Magic| 1452783740242|              4.6|\n",
      "|1.122576498|Thurl 14th Jan|2m6f Hcap Chs|  8742358|  Topper Thornton| 1452783800147|             10.0|\n",
      "|1.122576498|Thurl 14th Jan|2m6f Hcap Chs|  8996652|      Shadow Play| 1452784340206|             12.5|\n",
      "|1.122576498|Thurl 14th Jan|2m6f Hcap Chs|  6939953|Coolnagorna Giggs| 1452784400206|              7.2|\n",
      "|1.122576498|Thurl 14th Jan|2m6f Hcap Chs|  5415401|         Miradane| 1452784700250|             12.0|\n",
      "|1.122576498|Thurl 14th Jan|2m6f Hcap Chs|  5415401|         Miradane| 1452778940180|             13.5|\n",
      "|1.122576498|Thurl 14th Jan|2m6f Hcap Chs|  8996652|      Shadow Play| 1452783980201|             14.5|\n",
      "|1.122576498|Thurl 14th Jan|2m6f Hcap Chs|  6939953|Coolnagorna Giggs| 1452784160206|              7.0|\n",
      "|1.122576498|Thurl 14th Jan|2m6f Hcap Chs|  8996652|      Shadow Play| 1452773660182|             17.0|\n",
      "|1.122576498|Thurl 14th Jan|2m6f Hcap Chs|  7011147|         He Rocks| 1452775640185|              9.2|\n",
      "|1.122576498|Thurl 14th Jan|2m6f Hcap Chs|  7281856|          Tooreen| 1452777440201|              6.6|\n",
      "|1.122576498|Thurl 14th Jan|2m6f Hcap Chs|   444842|     Winter Magic| 1452782840187|              4.3|\n",
      "|1.122576498|Thurl 14th Jan|2m6f Hcap Chs|  7011147|         He Rocks| 1452784400206|              8.0|\n",
      "|1.122576498|Thurl 14th Jan|2m6f Hcap Chs|  9153264|         Flynsini| 1452784760229|             38.0|\n",
      "|1.122576498|Thurl 14th Jan|2m6f Hcap Chs|   444842|     Winter Magic| 1452765440075|              4.8|\n",
      "|1.122576498|Thurl 14th Jan|2m6f Hcap Chs|  7281856|          Tooreen| 1452769759882|              6.4|\n",
      "|1.122576498|Thurl 14th Jan|2m6f Hcap Chs|  7011147|         He Rocks| 1452776240185|              7.8|\n",
      "|1.122576498|Thurl 14th Jan|2m6f Hcap Chs|  9483270|  Mountain Philip| 1452781280232|             28.0|\n",
      "|1.122576498|Thurl 14th Jan|2m6f Hcap Chs|  7011147|         He Rocks| 1452784220185|              6.8|\n",
      "|1.122576498|Thurl 14th Jan|2m6f Hcap Chs|  9153264|         Flynsini| 1452784280160|             36.0|\n",
      "|1.122576498|Thurl 14th Jan|2m6f Hcap Chs|   444842|     Winter Magic| 1452757277099|              4.9|\n",
      "|1.122576498|Thurl 14th Jan|2m6f Hcap Chs|  5415401|         Miradane| 1452782959982|             12.5|\n",
      "|1.122576498|Thurl 14th Jan|2m6f Hcap Chs|  6939953|Coolnagorna Giggs| 1452783680240|              7.6|\n",
      "|1.122576498|Thurl 14th Jan|2m6f Hcap Chs|  8742358|  Topper Thornton| 1452768860249|              8.2|\n",
      "|1.122576498|Thurl 14th Jan|2m6f Hcap Chs|   444842|     Winter Magic| 1452774380145|              5.0|\n",
      "|1.122576498|Thurl 14th Jan|2m6f Hcap Chs|  6939953|Coolnagorna Giggs| 1452776840149|              7.2|\n",
      "|1.122576498|Thurl 14th Jan|2m6f Hcap Chs|  9483270|  Mountain Philip| 1452779900166|             34.0|\n",
      "|1.122576498|Thurl 14th Jan|2m6f Hcap Chs|  9483270|  Mountain Philip| 1452767059289|             32.0|\n",
      "|1.122576498|Thurl 14th Jan|2m6f Hcap Chs|  9483270|  Mountain Philip| 1452768680246|             32.0|\n",
      "|1.122576498|Thurl 14th Jan|2m6f Hcap Chs|  7281856|          Tooreen| 1452779720214|              6.6|\n",
      "|1.122576498|Thurl 14th Jan|2m6f Hcap Chs|  7253717|             Gary| 1452783860208|             75.0|\n",
      "|1.122576498|Thurl 14th Jan|2m6f Hcap Chs|  6939953|Coolnagorna Giggs| 1452765260130|              7.0|\n",
      "|1.122576498|Thurl 14th Jan|2m6f Hcap Chs|  8742358|  Topper Thornton| 1452778280183|              9.6|\n",
      "|1.122576498|Thurl 14th Jan|2m6f Hcap Chs|  8996652|      Shadow Play| 1452781820149|             12.5|\n",
      "|1.122576498|Thurl 14th Jan|2m6f Hcap Chs|  8742358|  Topper Thornton| 1452783260061|              9.6|\n",
      "|1.122576498|Thurl 14th Jan|2m6f Hcap Chs|   444842|     Winter Magic| 1452784040156|              4.4|\n",
      "|1.122576498|Thurl 14th Jan|2m6f Hcap Chs|  6939953|Coolnagorna Giggs| 1452747672382|              7.8|\n",
      "|1.122576498|Thurl 14th Jan|2m6f Hcap Chs|  7011147|         He Rocks| 1452765740224|              8.6|\n",
      "|1.122576498|Thurl 14th Jan|2m6f Hcap Chs|  5415401|         Miradane| 1452766039826|             15.5|\n",
      "|1.122576498|Thurl 14th Jan|2m6f Hcap Chs|  8996652|      Shadow Play| 1452782840187|             13.5|\n",
      "|1.122576498|Thurl 14th Jan|2m6f Hcap Chs|  5568158|     Mister First| 1452784580202|             21.0|\n",
      "|1.122576498|Thurl 14th Jan|2m6f Hcap Chs|  6939953|Coolnagorna Giggs| 1452784640215|              5.1|\n",
      "|1.122576498|Thurl 14th Jan|2m6f Hcap Chs|   444842|     Winter Magic| 1452721100025|              5.0|\n",
      "|1.122576498|Thurl 14th Jan|2m6f Hcap Chs|  7011147|         He Rocks| 1452724760094|             10.0|\n",
      "|1.122576498|Thurl 14th Jan|2m6f Hcap Chs|  5415401|         Miradane| 1452766219887|             15.0|\n",
      "|1.122576498|Thurl 14th Jan|2m6f Hcap Chs|  7011147|         He Rocks| 1452779480001|              7.2|\n",
      "|1.122576498|Thurl 14th Jan|2m6f Hcap Chs|   444842|     Winter Magic| 1452784340206|              4.3|\n",
      "|1.122576498|Thurl 14th Jan|2m6f Hcap Chs|  9483270|  Mountain Philip| 1452784700250|            120.0|\n",
      "|1.122576498|Thurl 14th Jan|2m6f Hcap Chs|  5415401|         Miradane| 1452784820213|              5.2|\n",
      "|1.122576498|Thurl 14th Jan|2m6f Hcap Chs|  7011147|         He Rocks| 1452775820187|              8.4|\n",
      "|1.122576498|Thurl 14th Jan|2m6f Hcap Chs|  6939953|Coolnagorna Giggs| 1452770060067|              6.8|\n",
      "|1.122576498|Thurl 14th Jan|2m6f Hcap Chs|  9483270|  Mountain Philip| 1452774860209|             42.0|\n",
      "|1.122576498|Thurl 14th Jan|2m6f Hcap Chs|   444842|     Winter Magic| 1452777140189|              5.0|\n",
      "|1.122576498|Thurl 14th Jan|2m6f Hcap Chs|  5568158|     Mister First| 1452777980236|             11.5|\n",
      "|1.122576498|Thurl 14th Jan|2m6f Hcap Chs|  7011147|         He Rocks| 1452780920197|              7.4|\n",
      "|1.122576498|Thurl 14th Jan|2m6f Hcap Chs|  6939953|Coolnagorna Giggs| 1452778700151|              8.4|\n",
      "|1.122576498|Thurl 14th Jan|2m6f Hcap Chs|  5415401|         Miradane| 1452782120203|             12.5|\n",
      "|1.122576498|Thurl 14th Jan|2m6f Hcap Chs|  9153264|         Flynsini| 1452782180249|             40.0|\n",
      "|1.122576498|Thurl 14th Jan|2m6f Hcap Chs|  8996652|      Shadow Play| 1452782540168|             13.5|\n",
      "|1.122576498|Thurl 14th Jan|2m6f Hcap Chs|  8996652|      Shadow Play| 1452784040156|             13.5|\n",
      "|1.122576498|Thurl 14th Jan|2m6f Hcap Chs|  8996652|      Shadow Play| 1452784280160|             15.0|\n",
      "|1.122576498|Thurl 14th Jan|2m6f Hcap Chs|  7011147|         He Rocks| 1452769759882|              9.2|\n",
      "|1.122576498|Thurl 14th Jan|2m6f Hcap Chs|  7011147|         He Rocks| 1452774740206|              6.6|\n",
      "|1.122576498|Thurl 14th Jan|2m6f Hcap Chs|  7011147|         He Rocks| 1452779540037|              7.0|\n",
      "|1.122576498|Thurl 14th Jan|2m6f Hcap Chs|  9483270|  Mountain Philip| 1452784580202|             38.0|\n",
      "|1.122576498|Thurl 14th Jan|2m6f Hcap Chs|  6939953|Coolnagorna Giggs| 1452771980212|              6.8|\n",
      "|1.122576498|Thurl 14th Jan|2m6f Hcap Chs|  8996652|      Shadow Play| 1452776180186|             17.5|\n",
      "|1.122576498|Thurl 14th Jan|2m6f Hcap Chs|  8996652|      Shadow Play| 1452780140194|             15.0|\n",
      "|1.122576498|Thurl 14th Jan|2m6f Hcap Chs|  7281856|          Tooreen| 1452782180249|              9.2|\n",
      "|1.122576498|Thurl 14th Jan|2m6f Hcap Chs|  5415401|         Miradane| 1452783980201|             11.0|\n",
      "|1.122576498|Thurl 14th Jan|2m6f Hcap Chs|  5568158|     Mister First| 1452784400206|             13.0|\n",
      "|1.122576498|Thurl 14th Jan|2m6f Hcap Chs|  7281856|          Tooreen| 1452784520247|             11.5|\n",
      "|1.122576498|Thurl 14th Jan|2m6f Hcap Chs|  9153264|         Flynsini| 1452782300212|             40.0|\n",
      "|1.122576498|Thurl 14th Jan|2m6f Hcap Chs|  7281856|          Tooreen| 1452782900011|             10.5|\n",
      "|1.122576498|Thurl 14th Jan|2m6f Hcap Chs|  6939953|Coolnagorna Giggs| 1452765919891|              8.0|\n",
      "|1.122576498|Thurl 14th Jan|2m6f Hcap Chs|  8742358|  Topper Thornton| 1452776720214|              8.6|\n",
      "|1.122576498|Thurl 14th Jan|2m6f Hcap Chs|  5568158|     Mister First| 1452782959982|             12.0|\n",
      "|1.122576498|Thurl 14th Jan|2m6f Hcap Chs|  6939953|Coolnagorna Giggs| 1452783620181|              7.4|\n",
      "|1.122576498|Thurl 14th Jan|2m6f Hcap Chs|  6939953|Coolnagorna Giggs| 1452763759521|              6.8|\n",
      "|1.122576498|Thurl 14th Jan|2m6f Hcap Chs|  7011147|         He Rocks| 1452769580166|              8.8|\n",
      "|1.122576498|Thurl 14th Jan|2m6f Hcap Chs|  7281856|          Tooreen| 1452784460206|             10.5|\n",
      "|1.122576498|Thurl 14th Jan|2m6f Hcap Chs|  5415401|         Miradane| 1452778040233|             15.0|\n",
      "|1.122576498|Thurl 14th Jan|2m6f Hcap Chs|  7011147|         He Rocks| 1452779300198|              7.2|\n",
      "|1.122576498|Thurl 14th Jan|2m6f Hcap Chs|  5568158|     Mister First| 1452782180249|             13.0|\n",
      "|1.122576498|Thurl 14th Jan|2m6f Hcap Chs|  5415401|         Miradane| 1452780140194|             12.0|\n",
      "|1.122576498|Thurl 14th Jan|2m6f Hcap Chs|  5415401|         Miradane| 1452783560192|             10.5|\n",
      "|1.122576498|Thurl 14th Jan|2m6f Hcap Chs|  7011147|         He Rocks| 1452774020223|              8.0|\n",
      "|1.122576498|Thurl 14th Jan|2m6f Hcap Chs|  9483270|  Mountain Philip| 1452774320255|             70.0|\n",
      "|1.122576498|Thurl 14th Jan|2m6f Hcap Chs|  7011147|         He Rocks| 1452782000249|              7.6|\n",
      "|1.122576498|Thurl 14th Jan|2m6f Hcap Chs|  6939953|Coolnagorna Giggs| 1452783080228|              7.6|\n",
      "|1.122576498|Thurl 14th Jan|2m6f Hcap Chs|  7253717|             Gary| 1452783680240|             55.0|\n",
      "|1.122576498|Thurl 14th Jan|2m6f Hcap Chs|   444842|     Winter Magic| 1452715511351|              4.9|\n",
      "|1.122576498|Thurl 14th Jan|2m6f Hcap Chs|   444842|     Winter Magic| 1452717314956|              4.8|\n",
      "|1.122576498|Thurl 14th Jan|2m6f Hcap Chs|   444842|     Winter Magic| 1452769640124|              4.8|\n",
      "|1.122576498|Thurl 14th Jan|2m6f Hcap Chs|  5415401|         Miradane| 1452783320215|             11.5|\n",
      "|1.122576498|Thurl 14th Jan|2m6f Hcap Chs|  6939953|Coolnagorna Giggs| 1452774140203|              7.2|\n",
      "|1.122576498|Thurl 14th Jan|2m6f Hcap Chs|  9483270|  Mountain Philip| 1452774800155|             48.0|\n",
      "|1.122576498|Thurl 14th Jan|2m6f Hcap Chs|  6939953|Coolnagorna Giggs| 1452784100169|              7.2|\n",
      "|1.122576498|Thurl 14th Jan|2m6f Hcap Chs|  7011147|         He Rocks| 1452778580167|              7.2|\n",
      "|1.122576498|Thurl 14th Jan|2m6f Hcap Chs|   444842|     Winter Magic| 1452784220185|              4.7|\n",
      "|1.122576498|Thurl 14th Jan|2m6f Hcap Chs|  5568158|     Mister First| 1452720440121|              9.6|\n",
      "|1.122576498|Thurl 14th Jan|2m6f Hcap Chs|  5568158|     Mister First| 1452759798049|             10.5|\n",
      "|1.122576498|Thurl 14th Jan|2m6f Hcap Chs|  7281856|          Tooreen| 1452774320255|              6.4|\n",
      "|1.122576498|Thurl 14th Jan|2m6f Hcap Chs|  9153264|         Flynsini| 1452784700250|             32.0|\n",
      "|1.122576498|Thurl 14th Jan|2m6f Hcap Chs|  7011147|         He Rocks| 1452772340241|              9.0|\n",
      "|1.122576498|Thurl 14th Jan|2m6f Hcap Chs|   444842|     Winter Magic| 1452783920189|              4.6|\n",
      "|1.122576498|Thurl 14th Jan|2m6f Hcap Chs|  8742358|  Topper Thornton| 1452732559880|              8.6|\n",
      "|1.122576498|Thurl 14th Jan|2m6f Hcap Chs|  7253717|             Gary| 1452766039826|             48.0|\n",
      "|1.122576498|Thurl 14th Jan|2m6f Hcap Chs|  8742358|  Topper Thornton| 1452778940180|              9.8|\n",
      "|1.122576498|Thurl 14th Jan|2m6f Hcap Chs|  8996652|      Shadow Play| 1452781460188|             13.0|\n",
      "|1.122576498|Thurl 14th Jan|2m6f Hcap Chs|  8742358|  Topper Thornton| 1452783860208|             10.5|\n",
      "|1.122576498|Thurl 14th Jan|2m6f Hcap Chs|   444842|     Winter Magic| 1452784880176|           1000.0|\n",
      "|1.122576498|Thurl 14th Jan|2m6f Hcap Chs|  7011147|         He Rocks| 1452775340170|              7.8|\n",
      "|1.122576498|Thurl 14th Jan|2m6f Hcap Chs|  7281856|          Tooreen| 1452779180210|              7.2|\n",
      "|1.122576498|Thurl 14th Jan|2m6f Hcap Chs|  9483270|  Mountain Philip| 1452781880185|             32.0|\n",
      "|1.122576498|Thurl 14th Jan|2m6f Hcap Chs|  7011147|         He Rocks| 1452774500210|              6.6|\n",
      "|1.122576498|Thurl 14th Jan|2m6f Hcap Chs|  7011147|         He Rocks| 1452775880187|              8.0|\n",
      "|1.122576498|Thurl 14th Jan|2m6f Hcap Chs|  7011147|         He Rocks| 1452776660173|              7.4|\n",
      "|1.122576498|Thurl 14th Jan|2m6f Hcap Chs|  5415401|         Miradane| 1452779120244|             12.5|\n",
      "|1.122576498|Thurl 14th Jan|2m6f Hcap Chs|   444842|     Winter Magic| 1452781820149|              4.4|\n",
      "|1.122576498|Thurl 14th Jan|2m6f Hcap Chs|  5415401|         Miradane| 1452782420173|             11.0|\n",
      "|1.122576498|Thurl 14th Jan|2m6f Hcap Chs|  5415401|         Miradane| 1452767359609|             14.0|\n",
      "|1.122576498|Thurl 14th Jan|2m6f Hcap Chs|  6939953|Coolnagorna Giggs| 1452769759882|              7.0|\n",
      "|1.122576498|Thurl 14th Jan|2m6f Hcap Chs|  5568158|     Mister First| 1452774320255|             12.5|\n",
      "|1.122576498|Thurl 14th Jan|2m6f Hcap Chs|  7281856|          Tooreen| 1452779300198|              6.8|\n",
      "|1.122576498|Thurl 14th Jan|2m6f Hcap Chs|  8996652|      Shadow Play| 1452783260061|             14.0|\n",
      "|1.122576498|Thurl 14th Jan|2m6f Hcap Chs|   444842|     Winter Magic| 1452784760229|              3.4|\n",
      "|1.122576498|Thurl 14th Jan|2m6f Hcap Chs|  7281856|          Tooreen| 1452768199977|              6.4|\n",
      "|1.122576498|Thurl 14th Jan|2m6f Hcap Chs|  9483270|  Mountain Philip| 1452784220185|             32.0|\n",
      "|1.122576498|Thurl 14th Jan|2m6f Hcap Chs|  7011147|         He Rocks| 1452766160185|              8.6|\n",
      "|1.122576498|Thurl 14th Jan|2m6f Hcap Chs|  9153264|         Flynsini| 1452774320255|             42.0|\n",
      "|1.122576498|Thurl 14th Jan|2m6f Hcap Chs|  5568158|     Mister First| 1452778940180|             12.0|\n",
      "|1.122576498|Thurl 14th Jan|2m6f Hcap Chs|  7253717|             Gary| 1452782840187|            100.0|\n",
      "|1.122576498|Thurl 14th Jan|2m6f Hcap Chs|   444842|     Winter Magic| 1452784820213|              4.6|\n",
      "|1.122576498|Thurl 14th Jan|2m6f Hcap Chs|  7253717|             Gary| 1452774320255|            160.0|\n",
      "|1.122576498|Thurl 14th Jan|2m6f Hcap Chs|  8996652|      Shadow Play| 1452780320140|             14.5|\n",
      "|1.122576498|Thurl 14th Jan|2m6f Hcap Chs|  5568158|     Mister First| 1452782000249|             12.0|\n",
      "|1.122576498|Thurl 14th Jan|2m6f Hcap Chs|  9483270|  Mountain Philip| 1452783860208|             34.0|\n",
      "|1.122576498|Thurl 14th Jan|2m6f Hcap Chs|   444842|     Winter Magic| 1452770480052|              4.7|\n",
      "|1.122576498|Thurl 14th Jan|2m6f Hcap Chs|  6939953|Coolnagorna Giggs| 1452780380250|              9.2|\n",
      "|1.122576498|Thurl 14th Jan|2m6f Hcap Chs|  5415401|         Miradane| 1452781880185|             13.5|\n",
      "|1.122576498|Thurl 14th Jan|2m6f Hcap Chs|  8742358|  Topper Thornton| 1452784460206|             10.0|\n",
      "|1.122576498|Thurl 14th Jan|2m6f Hcap Chs|  5415401|         Miradane| 1452784880176|            150.0|\n",
      "|1.122576498|Thurl 14th Jan|2m6f Hcap Chs|   444842|     Winter Magic| 1452768860249|              5.0|\n",
      "|1.122576498|Thurl 14th Jan|2m6f Hcap Chs|  7281856|          Tooreen| 1452784280160|             12.5|\n",
      "|1.122576498|Thurl 14th Jan|2m6f Hcap Chs|  5415401|         Miradane| 1452777920192|             14.5|\n",
      "|1.122576498|Thurl 14th Jan|2m6f Hcap Chs|  7281856|          Tooreen| 1452780380250|              6.4|\n",
      "|1.122576498|Thurl 14th Jan|2m6f Hcap Chs|  8996652|      Shadow Play| 1452784820213|             13.5|\n",
      "|1.122576498|Thurl 14th Jan|2m6f Hcap Chs|  7281856|          Tooreen| 1452766219887|              7.4|\n",
      "|1.122576498|Thurl 14th Jan|2m6f Hcap Chs|  7281856|          Tooreen| 1452783140229|              9.6|\n",
      "|1.122576498|Thurl 14th Jan|2m6f Hcap Chs|  8742358|  Topper Thornton| 1452783439814|             10.5|\n",
      "|1.122576498|Thurl 14th Jan|2m6f Hcap Chs|  6939953|Coolnagorna Giggs| 1452783800147|              7.6|\n",
      "|1.122576498|Thurl 14th Jan|2m6f Hcap Chs|  7253717|             Gary| 1452781880185|            130.0|\n",
      "|1.122576498|Thurl 14th Jan|2m6f Hcap Chs|  9153264|         Flynsini| 1452783020175|             44.0|\n",
      "|1.122576498|Thurl 14th Jan|2m6f Hcap Chs|  8742358|  Topper Thornton| 1452784520247|             10.5|\n",
      "|1.122576498|Thurl 14th Jan|2m6f Hcap Chs|  7011147|         He Rocks| 1452770300161|              8.2|\n",
      "|1.122576498|Thurl 14th Jan|2m6f Hcap Chs|  6939953|Coolnagorna Giggs| 1452771500245|              7.2|\n",
      "|1.122576498|Thurl 14th Jan|2m6f Hcap Chs|   444842|     Winter Magic| 1452778160171|              4.7|\n",
      "|1.122576498|Thurl 14th Jan|2m6f Hcap Chs|  5415401|         Miradane| 1452779720214|             12.5|\n",
      "|1.122576498|Thurl 14th Jan|2m6f Hcap Chs|   444842|     Winter Magic| 1452782420173|              4.5|\n",
      "|1.122576498|Thurl 14th Jan|2m6f Hcap Chs|  9483270|  Mountain Philip| 1452783800147|             32.0|\n",
      "|1.122576498|Thurl 14th Jan|2m6f Hcap Chs|   444842|     Winter Magic| 1452775880187|              4.7|\n",
      "|1.122576498|Thurl 14th Jan|2m6f Hcap Chs|  7011147|         He Rocks| 1452765440075|              8.2|\n",
      "|1.122576498|Thurl 14th Jan|2m6f Hcap Chs|  8742358|  Topper Thornton| 1452784760229|             15.0|\n",
      "|1.122576498|Thurl 14th Jan|2m6f Hcap Chs|  8742358|  Topper Thornton| 1452784880176|           1000.0|\n",
      "|1.122576498|Thurl 14th Jan|2m6f Hcap Chs|  7011147|         He Rocks| 1452782240219|              7.2|\n",
      "|1.122576498|Thurl 14th Jan|2m6f Hcap Chs|  8996652|      Shadow Play| 1452782480221|             12.5|\n",
      "|1.122576498|Thurl 14th Jan|2m6f Hcap Chs|  6939953|Coolnagorna Giggs| 1452783499957|              7.0|\n",
      "|1.122576498|Thurl 14th Jan|2m6f Hcap Chs|  6939953|Coolnagorna Giggs| 1452784280160|              7.4|\n",
      "|1.122576498|Thurl 14th Jan|2m6f Hcap Chs|  8742358|  Topper Thornton| 1452769940049|              7.8|\n",
      "|1.122576498|Thurl 14th Jan|2m6f Hcap Chs|   444842|     Winter Magic| 1452782120203|              4.3|\n",
      "|1.122576498|Thurl 14th Jan|2m6f Hcap Chs|  6939953|Coolnagorna Giggs| 1452782240219|              8.6|\n",
      "|1.122576498|Thurl 14th Jan|2m6f Hcap Chs|  7281856|          Tooreen| 1452715024612|              6.8|\n",
      "|1.122576498|Thurl 14th Jan|2m6f Hcap Chs|  7281856|          Tooreen| 1452768979755|              6.4|\n",
      "|1.122576498|Thurl 14th Jan|2m6f Hcap Chs|  6939953|Coolnagorna Giggs| 1452781040153|              8.6|\n",
      "|1.122576498|Thurl 14th Jan|2m6f Hcap Chs|  7011147|         He Rocks| 1452781520184|              7.4|\n",
      "|1.122576498|Thurl 14th Jan|2m6f Hcap Chs|  7011147|         He Rocks| 1452763039494|             12.0|\n",
      "|1.122576498|Thurl 14th Jan|2m6f Hcap Chs|  7011147|         He Rocks| 1452774260242|              6.6|\n",
      "|1.122576498|Thurl 14th Jan|2m6f Hcap Chs|  6939953|Coolnagorna Giggs| 1452772940253|              7.0|\n",
      "|1.122576498|Thurl 14th Jan|2m6f Hcap Chs|  7011147|         He Rocks| 1452777860208|              7.0|\n",
      "|1.122576498|Thurl 14th Jan|2m6f Hcap Chs|  6939953|Coolnagorna Giggs| 1452778460229|              8.4|\n",
      "|1.122576498|Thurl 14th Jan|2m6f Hcap Chs|  8996652|      Shadow Play| 1452783020175|             13.5|\n",
      "|1.122576498|Thurl 14th Jan|2m6f Hcap Chs|  9483270|  Mountain Philip| 1452774980198|             38.0|\n",
      "|1.122576498|Thurl 14th Jan|2m6f Hcap Chs|  7011147|         He Rocks| 1452778940180|              7.2|\n",
      "|1.122576498|Thurl 14th Jan|2m6f Hcap Chs|  6939953|Coolnagorna Giggs| 1452780860248|              8.8|\n",
      "|1.122576498|Thurl 14th Jan|2m6f Hcap Chs|  9483270|  Mountain Philip| 1452784820213|           1000.0|\n",
      "|1.122576498|Thurl 14th Jan|2m6f Hcap Chs|  7281856|          Tooreen| 1452758420254|              7.2|\n",
      "|1.122576498|Thurl 14th Jan|2m6f Hcap Chs|  7011147|         He Rocks| 1452784280160|              7.0|\n",
      "|1.122576498|Thurl 14th Jan|2m6f Hcap Chs|  5415401|         Miradane| 1452775579684|             19.0|\n",
      "|1.122576498|Thurl 14th Jan|2m6f Hcap Chs|  7281856|          Tooreen| 1452781520184|              8.0|\n",
      "|1.122576498|Thurl 14th Jan|2m6f Hcap Chs|  8996652|      Shadow Play| 1452781940204|             10.0|\n",
      "|1.122576498|Thurl 14th Jan|2m6f Hcap Chs|  7011147|         He Rocks| 1452767300202|              8.2|\n",
      "|1.122576498|Thurl 14th Jan|2m6f Hcap Chs|   444842|     Winter Magic| 1452724760094|              5.3|\n",
      "|1.122576498|Thurl 14th Jan|2m6f Hcap Chs|  8742358|  Topper Thornton| 1452766999735|              8.0|\n",
      "|1.122576498|Thurl 14th Jan|2m6f Hcap Chs|  6939953|Coolnagorna Giggs| 1452769099771|              7.4|\n",
      "|1.122576498|Thurl 14th Jan|2m6f Hcap Chs|  8996652|      Shadow Play| 1452780200198|             14.0|\n",
      "|1.122576498|Thurl 14th Jan|2m6f Hcap Chs|  5415401|         Miradane| 1452782720244|             11.0|\n",
      "|1.122576498|Thurl 14th Jan|2m6f Hcap Chs|   444842|     Winter Magic| 1452777680177|              5.1|\n",
      "|1.122576498|Thurl 14th Jan|2m6f Hcap Chs|  6939953|Coolnagorna Giggs| 1452780440235|              9.4|\n",
      "|1.122576498|Thurl 14th Jan|2m6f Hcap Chs|  7011147|         He Rocks| 1452781820149|              7.4|\n",
      "|1.122576498|Thurl 14th Jan|2m6f Hcap Chs|  7011147|         He Rocks| 1452783140229|              7.0|\n",
      "|1.122576498|Thurl 14th Jan|2m6f Hcap Chs|  8996652|      Shadow Play| 1452783320215|             14.5|\n",
      "|1.122576498|Thurl 14th Jan|2m6f Hcap Chs|  5568158|     Mister First| 1452777800233|             12.5|\n",
      "|1.122576498|Thurl 14th Jan|2m6f Hcap Chs|  9483270|  Mountain Philip| 1452778100169|             34.0|\n",
      "|1.122576498|Thurl 14th Jan|2m6f Hcap Chs|  5415401|         Miradane| 1452778280183|             14.0|\n",
      "|1.122576498|Thurl 14th Jan|2m6f Hcap Chs|  8996652|      Shadow Play| 1452779660203|             15.0|\n",
      "|1.122576498|Thurl 14th Jan|2m6f Hcap Chs|  7011147|         He Rocks| 1452782420173|              7.2|\n",
      "|1.122576498|Thurl 14th Jan|2m6f Hcap Chs|  7011147|         He Rocks| 1452783080228|              7.2|\n",
      "|1.122576498|Thurl 14th Jan|2m6f Hcap Chs|  7253717|             Gary| 1452784760229|             80.0|\n",
      "|1.122576498|Thurl 14th Jan|2m6f Hcap Chs|   444842|     Winter Magic| 1452758720206|              4.9|\n",
      "|1.122576498|Thurl 14th Jan|2m6f Hcap Chs|  8996652|      Shadow Play| 1452779840164|             13.0|\n",
      "|1.122576498|Thurl 14th Jan|2m6f Hcap Chs|  7281856|          Tooreen| 1452782120203|              8.6|\n",
      "|1.122576498|Thurl 14th Jan|2m6f Hcap Chs|  5568158|     Mister First| 1452784100169|             12.0|\n",
      "|1.122576498|Thurl 14th Jan|2m6f Hcap Chs|  9483270|  Mountain Philip| 1452782120203|             30.0|\n",
      "|1.122576498|Thurl 14th Jan|2m6f Hcap Chs|  5415401|         Miradane| 1452735319181|             11.5|\n",
      "|1.122576498|Thurl 14th Jan|2m6f Hcap Chs|  7281856|          Tooreen| 1452756017652|              5.9|\n",
      "|1.122576498|Thurl 14th Jan|2m6f Hcap Chs|  6939953|Coolnagorna Giggs| 1452778940180|              8.8|\n",
      "|1.122576498|Thurl 14th Jan|2m6f Hcap Chs|  8742358|  Topper Thornton| 1452780860248|             10.0|\n",
      "|1.122576498|Thurl 14th Jan|2m6f Hcap Chs|  7281856|          Tooreen| 1452782240219|              9.0|\n",
      "|1.122576498|Thurl 14th Jan|2m6f Hcap Chs|  8742358|  Topper Thornton| 1452783560192|              9.8|\n",
      "|1.122576498|Thurl 14th Jan|2m6f Hcap Chs|  7281856|          Tooreen| 1452783800147|             10.5|\n",
      "|1.122576498|Thurl 14th Jan|2m6f Hcap Chs|  9483270|  Mountain Philip| 1452781579965|             29.0|\n",
      "|1.122576498|Thurl 14th Jan|2m6f Hcap Chs|  9153264|         Flynsini| 1452782240219|             38.0|\n",
      "|1.122576498|Thurl 14th Jan|2m6f Hcap Chs|  9153264|         Flynsini| 1452784520247|             36.0|\n",
      "|1.122576498|Thurl 14th Jan|2m6f Hcap Chs|  7281856|          Tooreen| 1452742336714|              4.7|\n",
      "|1.122576498|Thurl 14th Jan|2m6f Hcap Chs|  8742358|  Topper Thornton| 1452757207828|             10.0|\n",
      "|1.122576498|Thurl 14th Jan|2m6f Hcap Chs|  5568158|     Mister First| 1452759199749|             10.0|\n",
      "|1.122576498|Thurl 14th Jan|2m6f Hcap Chs|  7281856|          Tooreen| 1452762320167|              6.6|\n",
      "|1.122576498|Thurl 14th Jan|2m6f Hcap Chs|  8996652|      Shadow Play| 1452768139860|             14.5|\n",
      "|1.122576498|Thurl 14th Jan|2m6f Hcap Chs|  6939953|Coolnagorna Giggs| 1452769879928|              6.8|\n",
      "|1.122576498|Thurl 14th Jan|2m6f Hcap Chs|  9153264|         Flynsini| 1452783860208|             46.0|\n",
      "|1.122576498|Thurl 14th Jan|2m6f Hcap Chs|   444842|     Winter Magic| 1452758000254|              4.7|\n",
      "|1.122576498|Thurl 14th Jan|2m6f Hcap Chs|  7281856|          Tooreen| 1452768619970|              6.0|\n",
      "|1.122576498|Thurl 14th Jan|2m6f Hcap Chs|  6939953|Coolnagorna Giggs| 1452777980236|              7.8|\n",
      "|1.122576498|Thurl 14th Jan|2m6f Hcap Chs|   444842|     Winter Magic| 1452781220220|              4.7|\n",
      "|1.122576498|Thurl 14th Jan|2m6f Hcap Chs|  8996652|      Shadow Play| 1452782000249|             10.5|\n",
      "|1.122576498|Thurl 14th Jan|2m6f Hcap Chs|  5568158|     Mister First| 1452783140229|             12.0|\n",
      "|1.122576498|Thurl 14th Jan|2m6f Hcap Chs|  8742358|  Topper Thornton| 1452783380201|             10.0|\n",
      "|1.122576498|Thurl 14th Jan|2m6f Hcap Chs|  7281856|          Tooreen| 1452716239386|              5.1|\n",
      "|1.122576498|Thurl 14th Jan|2m6f Hcap Chs|   444842|     Winter Magic| 1452769220175|              4.9|\n",
      "|1.122576498|Thurl 14th Jan|2m6f Hcap Chs|   444842|     Winter Magic| 1452780680234|              4.9|\n",
      "|1.122576498|Thurl 14th Jan|2m6f Hcap Chs|  7011147|         He Rocks| 1452777980236|              7.0|\n",
      "|1.122576498|Thurl 14th Jan|2m6f Hcap Chs|  7281856|          Tooreen| 1452782300212|              9.2|\n",
      "|1.122576498|Thurl 14th Jan|2m6f Hcap Chs|   444842|     Winter Magic| 1452782480221|              4.4|\n",
      "|1.122576498|Thurl 14th Jan|2m6f Hcap Chs|  8742358|  Topper Thornton| 1452784340206|             11.5|\n",
      "|1.122576498|Thurl 14th Jan|2m6f Hcap Chs|  8742358|  Topper Thornton| 1452714439156|              9.0|\n",
      "|1.122576498|Thurl 14th Jan|2m6f Hcap Chs|  6939953|Coolnagorna Giggs| 1452722658867|              8.0|\n",
      "|1.122576498|Thurl 14th Jan|2m6f Hcap Chs|  7011147|         He Rocks| 1452765260130|              9.0|\n",
      "|1.122576498|Thurl 14th Jan|2m6f Hcap Chs|  8996652|      Shadow Play| 1452769759882|             14.5|\n",
      "|1.122576498|Thurl 14th Jan|2m6f Hcap Chs|  5415401|         Miradane| 1452771200231|             15.0|\n",
      "|1.122576498|Thurl 14th Jan|2m6f Hcap Chs|  7011147|         He Rocks| 1452775460210|              8.6|\n",
      "|1.122576498|Thurl 14th Jan|2m6f Hcap Chs|   444842|     Winter Magic| 1452781400036|              4.6|\n",
      "|1.122576498|Thurl 14th Jan|2m6f Hcap Chs|   444842|     Winter Magic| 1452781579965|              4.6|\n",
      "|1.122576498|Thurl 14th Jan|2m6f Hcap Chs|  9153264|         Flynsini| 1452784820213|             42.0|\n",
      "|1.122576498|Thurl 14th Jan|2m6f Hcap Chs|   444842|     Winter Magic| 1452778280183|              4.8|\n",
      "|1.122576498|Thurl 14th Jan|2m6f Hcap Chs|  5568158|     Mister First| 1452779420229|             13.0|\n",
      "|1.122576498|Thurl 14th Jan|2m6f Hcap Chs|  8742358|  Topper Thornton| 1452781760163|              9.0|\n",
      "|1.122576498|Thurl 14th Jan|2m6f Hcap Chs|  7281856|          Tooreen| 1452784400206|             12.0|\n",
      "|1.122576498|Thurl 14th Jan|2m6f Hcap Chs|   444842|     Winter Magic| 1452716476791|              4.5|\n",
      "|1.122576498|Thurl 14th Jan|2m6f Hcap Chs|  7281856|          Tooreen| 1452769520202|              5.9|\n",
      "|1.122576498|Thurl 14th Jan|2m6f Hcap Chs|  9153264|         Flynsini| 1452773540249|             36.0|\n",
      "|1.122576498|Thurl 14th Jan|2m6f Hcap Chs|  5415401|         Miradane| 1452778100169|             14.5|\n",
      "|1.122576498|Thurl 14th Jan|2m6f Hcap Chs|  7281856|          Tooreen| 1452779060184|              7.2|\n",
      "|1.122576498|Thurl 14th Jan|2m6f Hcap Chs|  6939953|Coolnagorna Giggs| 1452779239957|              9.2|\n",
      "|1.122576498|Thurl 14th Jan|2m6f Hcap Chs|  7253717|             Gary| 1452782180249|            120.0|\n",
      "|1.122576498|Thurl 14th Jan|2m6f Hcap Chs|  7281856|          Tooreen| 1452783439814|             10.0|\n",
      "|1.122576498|Thurl 14th Jan|2m6f Hcap Chs|  7011147|         He Rocks| 1452784640215|              8.0|\n",
      "|1.122576498|Thurl 14th Jan|2m6f Hcap Chs|  6939953|Coolnagorna Giggs| 1452724760094|              7.6|\n",
      "|1.122576498|Thurl 14th Jan|2m6f Hcap Chs|  8742358|  Topper Thornton| 1452780680234|             10.0|\n",
      "|1.122576498|Thurl 14th Jan|2m6f Hcap Chs|  8996652|      Shadow Play| 1452782240219|             11.0|\n",
      "|1.122576498|Thurl 14th Jan|2m6f Hcap Chs|  8742358|  Topper Thornton| 1452784400206|             10.5|\n",
      "|1.122576498|Thurl 14th Jan|2m6f Hcap Chs|  7281856|          Tooreen| 1452773360162|              6.2|\n",
      "|1.122576498|Thurl 14th Jan|2m6f Hcap Chs|  7011147|         He Rocks| 1452776120151|              8.4|\n",
      "|1.122576498|Thurl 14th Jan|2m6f Hcap Chs|  6939953|Coolnagorna Giggs| 1452778100169|              8.0|\n",
      "|1.122576498|Thurl 14th Jan|2m6f Hcap Chs|  5415401|         Miradane| 1452779060184|             13.0|\n",
      "|1.122576498|Thurl 14th Jan|2m6f Hcap Chs|  7253717|             Gary| 1452784280160|             55.0|\n",
      "|1.122576498|Thurl 14th Jan|2m6f Hcap Chs|   444842|     Winter Magic| 1452762139940|              5.0|\n",
      "|1.122576498|Thurl 14th Jan|2m6f Hcap Chs|   444842|     Winter Magic| 1452781520184|              4.7|\n",
      "|1.122576498|Thurl 14th Jan|2m6f Hcap Chs|  7281856|          Tooreen| 1452783740242|              9.8|\n",
      "|1.122576498|Thurl 14th Jan|2m6f Hcap Chs|  9153264|         Flynsini| 1452784100169|             42.0|\n",
      "|1.122576498|Thurl 14th Jan|2m6f Hcap Chs|  6939953|Coolnagorna Giggs| 1452723438567|              7.0|\n",
      "|1.122576498|Thurl 14th Jan|2m6f Hcap Chs|  7281856|          Tooreen| 1452774140203|              6.4|\n",
      "|1.122576498|Thurl 14th Jan|2m6f Hcap Chs|  8742358|  Topper Thornton| 1452774320255|              8.0|\n",
      "|1.122576498|Thurl 14th Jan|2m6f Hcap Chs|  7011147|         He Rocks| 1452774920200|              6.8|\n",
      "|1.122576498|Thurl 14th Jan|2m6f Hcap Chs|  7011147|         He Rocks| 1452777440201|              7.4|\n",
      "|1.122576498|Thurl 14th Jan|2m6f Hcap Chs|  7011147|         He Rocks| 1452779420229|              7.0|\n",
      "|1.122576498|Thurl 14th Jan|2m6f Hcap Chs|   444842|     Winter Magic| 1452781160232|              4.8|\n",
      "|1.122576498|Thurl 14th Jan|2m6f Hcap Chs|  6939953|Coolnagorna Giggs| 1452783560192|              7.2|\n",
      "|1.122576498|Thurl 14th Jan|2m6f Hcap Chs|  7281856|          Tooreen| 1452778520208|              6.8|\n",
      "|1.122576498|Thurl 14th Jan|2m6f Hcap Chs|  8742358|  Topper Thornton| 1452782180249|              9.2|\n",
      "|1.122576498|Thurl 14th Jan|2m6f Hcap Chs|  9483270|  Mountain Philip| 1452765919891|             36.0|\n",
      "|1.122576498|Thurl 14th Jan|2m6f Hcap Chs|  7281856|          Tooreen| 1452783080228|              9.8|\n",
      "|1.122576498|Thurl 14th Jan|2m6f Hcap Chs|  7281856|          Tooreen| 1452716420079|              5.3|\n",
      "|1.122576498|Thurl 14th Jan|2m6f Hcap Chs|  7011147|         He Rocks| 1452765320202|              8.8|\n",
      "|1.122576498|Thurl 14th Jan|2m6f Hcap Chs|  7011147|         He Rocks| 1452771440180|              8.6|\n",
      "|1.122576498|Thurl 14th Jan|2m6f Hcap Chs|  5415401|         Miradane| 1452781700242|             13.5|\n",
      "|1.122576498|Thurl 14th Jan|2m6f Hcap Chs|  6939953|Coolnagorna Giggs| 1452784520247|              6.8|\n",
      "|1.122576498|Thurl 14th Jan|2m6f Hcap Chs|  7281856|          Tooreen| 1452784700250|             17.0|\n",
      "|1.122576498|Thurl 14th Jan|2m6f Hcap Chs|   444842|     Winter Magic| 1452717498975|              5.0|\n",
      "|1.122576498|Thurl 14th Jan|2m6f Hcap Chs|  7253717|             Gary| 1452783499957|             50.0|\n",
      "|1.122576498|Thurl 14th Jan|2m6f Hcap Chs|   444842|     Winter Magic| 1452783860208|              4.4|\n",
      "|1.122576498|Thurl 14th Jan|2m6f Hcap Chs|  7281856|          Tooreen| 1452768680246|              5.9|\n",
      "|1.122576498|Thurl 14th Jan|2m6f Hcap Chs|   444842|     Winter Magic| 1452778940180|              4.7|\n",
      "|1.122576498|Thurl 14th Jan|2m6f Hcap Chs|  7011147|         He Rocks| 1452780500171|              7.4|\n",
      "|1.122576498|Thurl 14th Jan|2m6f Hcap Chs|  5568158|     Mister First| 1452783439814|             11.5|\n",
      "|1.122576498|Thurl 14th Jan|2m6f Hcap Chs|  8742358|  Topper Thornton| 1452782300212|              9.4|\n",
      "|1.122576498|Thurl 14th Jan|2m6f Hcap Chs|  7253717|             Gary| 1452783380201|             60.0|\n",
      "|1.122576498|Thurl 14th Jan|2m6f Hcap Chs|  6939953|Coolnagorna Giggs| 1452765499670|              6.8|\n",
      "|1.122576498|Thurl 14th Jan|2m6f Hcap Chs|  8996652|      Shadow Play| 1452780020216|             13.5|\n",
      "|1.122576498|Thurl 14th Jan|2m6f Hcap Chs|   444842|     Winter Magic| 1452781880185|              4.5|\n",
      "|1.122576498|Thurl 14th Jan|2m6f Hcap Chs|  7011147|         He Rocks| 1452782720244|              7.4|\n",
      "|1.122576498|Thurl 14th Jan|2m6f Hcap Chs|  8742358|  Topper Thornton| 1452784280160|              9.8|\n",
      "|1.122576498|Thurl 14th Jan|2m6f Hcap Chs|  7281856|          Tooreen| 1452723677549|              5.2|\n",
      "|1.122576498|Thurl 14th Jan|2m6f Hcap Chs|  7011147|         He Rocks| 1452768860249|              8.8|\n",
      "|1.122576498|Thurl 14th Jan|2m6f Hcap Chs|  8996652|      Shadow Play| 1452784580202|             11.5|\n",
      "|1.122576498|Thurl 14th Jan|2m6f Hcap Chs|   444842|     Winter Magic| 1452716239386|              4.6|\n",
      "|1.122576498|Thurl 14th Jan|2m6f Hcap Chs|  8996652|      Shadow Play| 1452763219910|             13.0|\n",
      "|1.122576498|Thurl 14th Jan|2m6f Hcap Chs|  7281856|          Tooreen| 1452777560178|              6.4|\n",
      "|1.122576498|Thurl 14th Jan|2m6f Hcap Chs|  7253717|             Gary| 1452784520247|             55.0|\n",
      "|1.122576498|Thurl 14th Jan|2m6f Hcap Chs|  5568158|     Mister First| 1452784700250|             13.0|\n",
      "|1.122576498|Thurl 14th Jan|2m6f Hcap Chs|  5415401|         Miradane| 1452784760229|             10.5|\n",
      "|1.122576498|Thurl 14th Jan|2m6f Hcap Chs|  7281856|          Tooreen| 1452766818683|              6.8|\n",
      "|1.122576498|Thurl 14th Jan|2m6f Hcap Chs|   444842|     Winter Magic| 1452770420248|              4.8|\n",
      "|1.122576498|Thurl 14th Jan|2m6f Hcap Chs|  7253717|             Gary| 1452772400179|            150.0|\n",
      "|1.122576498|Thurl 14th Jan|2m6f Hcap Chs|  9483270|  Mountain Philip| 1452779420229|             36.0|\n",
      "|1.122576498|Thurl 14th Jan|2m6f Hcap Chs|  7011147|         He Rocks| 1452783320215|              7.2|\n",
      "|1.122576498|Thurl 14th Jan|2m6f Hcap Chs|  9483270|  Mountain Philip| 1452783740242|             34.0|\n",
      "|1.122576498|Thurl 14th Jan|2m6f Hcap Chs|  7011147|         He Rocks| 1452784760229|              8.6|\n",
      "|1.122576498|Thurl 14th Jan|2m6f Hcap Chs|  5568158|     Mister First| 1452779480001|             12.5|\n",
      "|1.122576498|Thurl 14th Jan|2m6f Hcap Chs|  8996652|      Shadow Play| 1452780380250|             14.0|\n",
      "|1.122576498|Thurl 14th Jan|2m6f Hcap Chs|  9153264|         Flynsini| 1452783680240|             48.0|\n",
      "|1.122576498|Thurl 14th Jan|2m6f Hcap Chs|  7281856|          Tooreen| 1452779480001|              6.2|\n",
      "|1.122576498|Thurl 14th Jan|2m6f Hcap Chs|  5415401|         Miradane| 1452779960245|             12.5|\n",
      "|1.122576498|Thurl 14th Jan|2m6f Hcap Chs|  5568158|     Mister First| 1452782120203|             12.5|\n",
      "|1.122576498|Thurl 14th Jan|2m6f Hcap Chs|  6939953|Coolnagorna Giggs| 1452774200055|              6.8|\n",
      "|1.122576498|Thurl 14th Jan|2m6f Hcap Chs|  5415401|         Miradane| 1452780560251|             12.5|\n",
      "|1.122576498|Thurl 14th Jan|2m6f Hcap Chs|   444842|     Winter Magic| 1452782300212|              4.4|\n",
      "|1.122576498|Thurl 14th Jan|2m6f Hcap Chs|  7011147|         He Rocks| 1452784340206|              7.8|\n",
      "|1.122576498|Thurl 14th Jan|2m6f Hcap Chs|  5568158|     Mister First| 1452784520247|             13.0|\n",
      "|1.122576498|Thurl 14th Jan|2m6f Hcap Chs|  5568158|     Mister First| 1452784880176|              5.6|\n",
      "|1.122576498|Thurl 14th Jan|2m6f Hcap Chs|   444842|     Winter Magic| 1452759798049|              4.2|\n",
      "|1.122576498|Thurl 14th Jan|2m6f Hcap Chs|   444842|     Winter Magic| 1452779239957|              4.6|\n",
      "|1.122576498|Thurl 14th Jan|2m6f Hcap Chs|  5568158|     Mister First| 1452780980177|             11.0|\n",
      "|1.122576498|Thurl 14th Jan|2m6f Hcap Chs|  9153264|         Flynsini| 1452781579965|             32.0|\n",
      "|1.122576498|Thurl 14th Jan|2m6f Hcap Chs|  5415401|         Miradane| 1452783380201|             10.5|\n",
      "|1.122576498|Thurl 14th Jan|2m6f Hcap Chs|  5568158|     Mister First| 1452773420215|             12.0|\n",
      "|1.122576498|Thurl 14th Jan|2m6f Hcap Chs|  7281856|          Tooreen| 1452778820221|              7.2|\n",
      "|1.122576498|Thurl 14th Jan|2m6f Hcap Chs|   444842|     Winter Magic| 1452779060184|              4.4|\n",
      "|1.122576498|Thurl 14th Jan|2m6f Hcap Chs|  8742358|  Topper Thornton| 1452780800245|             10.5|\n",
      "|1.122576498|Thurl 14th Jan|2m6f Hcap Chs|  5415401|         Miradane| 1452783499957|             10.0|\n",
      "|1.122576498|Thurl 14th Jan|2m6f Hcap Chs|  7281856|          Tooreen| 1452752658841|              5.3|\n",
      "|1.122576498|Thurl 14th Jan|2m6f Hcap Chs|   444842|     Winter Magic| 1452766698262|              4.9|\n",
      "|1.122576498|Thurl 14th Jan|2m6f Hcap Chs|   444842|     Winter Magic| 1452778100169|              4.8|\n",
      "|1.122576498|Thurl 14th Jan|2m6f Hcap Chs|  5415401|         Miradane| 1452778820221|             13.5|\n",
      "+-----------+--------------+-------------+---------+-----------------+--------------+-----------------+\n",
      "\n"
     ]
    }
   ],
   "source": [
    "#1452712450381\n",
    "#1452778820221\n",
    "crc.show(823)"
   ]
  },
  {
   "cell_type": "code",
   "execution_count": 70,
   "metadata": {},
   "outputs": [],
   "source": [
    "crc1 = crc[\"runner_name\", \"published_time\", \"last_traded_price\"]"
   ]
  },
  {
   "cell_type": "code",
   "execution_count": 71,
   "metadata": {},
   "outputs": [
    {
     "data": {
      "text/plain": [
       "Row(runner_name='Tooreen', published_time=1452767238628, last_traded_price=6.6)"
      ]
     },
     "execution_count": 71,
     "metadata": {},
     "output_type": "execute_result"
    }
   ],
   "source": [
    "crc1.head()"
   ]
  },
  {
   "cell_type": "code",
   "execution_count": 75,
   "metadata": {},
   "outputs": [],
   "source": [
    "crc1 = crc1.filter(crc1.runner_name==\"Tooreen\")"
   ]
  },
  {
   "cell_type": "code",
   "execution_count": 77,
   "metadata": {},
   "outputs": [
    {
     "name": "stdout",
     "output_type": "stream",
     "text": [
      "+-----------+--------------+-----------------+\n",
      "|runner_name|published_time|last_traded_price|\n",
      "+-----------+--------------+-----------------+\n",
      "|    Tooreen| 1452767238628|              6.6|\n",
      "|    Tooreen| 1452782720244|              9.6|\n",
      "|    Tooreen| 1452781820149|              8.6|\n",
      "|    Tooreen| 1452782420173|              9.0|\n",
      "|    Tooreen| 1452783980201|             10.0|\n",
      "|    Tooreen| 1452782959982|              9.6|\n",
      "|    Tooreen| 1452784760229|             20.0|\n",
      "|    Tooreen| 1452783380201|             10.5|\n",
      "|    Tooreen| 1452780560251|              6.6|\n",
      "|    Tooreen| 1452716594350|              5.1|\n",
      "|    Tooreen| 1452779840164|              6.8|\n",
      "|    Tooreen| 1452781880185|              9.0|\n",
      "|    Tooreen| 1452764175163|              7.4|\n",
      "|    Tooreen| 1452777800233|              6.6|\n",
      "|    Tooreen| 1452775160197|              6.4|\n",
      "|    Tooreen| 1452774380145|              6.0|\n",
      "|    Tooreen| 1452757758581|              6.4|\n",
      "|    Tooreen| 1452781760163|              8.2|\n",
      "|    Tooreen| 1452765680169|              7.4|\n",
      "|    Tooreen| 1452779660203|              6.4|\n",
      "+-----------+--------------+-----------------+\n",
      "only showing top 20 rows\n",
      "\n"
     ]
    }
   ],
   "source": [
    "crc1.show()"
   ]
  },
  {
   "cell_type": "code",
   "execution_count": 81,
   "metadata": {},
   "outputs": [
    {
     "ename": "AttributeError",
     "evalue": "'DataFrame' object has no attribute 'plot'",
     "output_type": "error",
     "traceback": [
      "\u001b[0;31m---------------------------------------------------------------------------\u001b[0m",
      "\u001b[0;31mAttributeError\u001b[0m                            Traceback (most recent call last)",
      "\u001b[0;32m/tmp/ipykernel_3474/1308892051.py\u001b[0m in \u001b[0;36m<module>\u001b[0;34m\u001b[0m\n\u001b[1;32m      3\u001b[0m \u001b[0;34m\u001b[0m\u001b[0m\n\u001b[1;32m      4\u001b[0m \u001b[0;31m# pass the axes object to plot function\u001b[0m\u001b[0;34m\u001b[0m\u001b[0;34m\u001b[0m\u001b[0;34m\u001b[0m\u001b[0m\n\u001b[0;32m----> 5\u001b[0;31m \u001b[0mcrc1\u001b[0m\u001b[0;34m.\u001b[0m\u001b[0mplot\u001b[0m\u001b[0;34m.\u001b[0m\u001b[0mline\u001b[0m\u001b[0;34m(\u001b[0m\u001b[0mkind\u001b[0m\u001b[0;34m=\u001b[0m\u001b[0;34m'line'\u001b[0m\u001b[0;34m,\u001b[0m \u001b[0mx\u001b[0m\u001b[0;34m=\u001b[0m\u001b[0;34m'published_time'\u001b[0m\u001b[0;34m,\u001b[0m \u001b[0my\u001b[0m\u001b[0;34m=\u001b[0m\u001b[0;34m'last+traded_price'\u001b[0m\u001b[0;34m,\u001b[0m \u001b[0max\u001b[0m\u001b[0;34m=\u001b[0m\u001b[0maxes\u001b[0m\u001b[0;34m)\u001b[0m\u001b[0;34m;\u001b[0m\u001b[0;34m\u001b[0m\u001b[0;34m\u001b[0m\u001b[0m\n\u001b[0m",
      "\u001b[0;32m/usr/local/spark/python/pyspark/sql/dataframe.py\u001b[0m in \u001b[0;36m__getattr__\u001b[0;34m(self, name)\u001b[0m\n\u001b[1;32m   1399\u001b[0m         \u001b[0;32mif\u001b[0m \u001b[0mname\u001b[0m \u001b[0;32mnot\u001b[0m \u001b[0;32min\u001b[0m \u001b[0mself\u001b[0m\u001b[0;34m.\u001b[0m\u001b[0mcolumns\u001b[0m\u001b[0;34m:\u001b[0m\u001b[0;34m\u001b[0m\u001b[0;34m\u001b[0m\u001b[0m\n\u001b[1;32m   1400\u001b[0m             raise AttributeError(\n\u001b[0;32m-> 1401\u001b[0;31m                 \"'%s' object has no attribute '%s'\" % (self.__class__.__name__, name))\n\u001b[0m\u001b[1;32m   1402\u001b[0m         \u001b[0mjc\u001b[0m \u001b[0;34m=\u001b[0m \u001b[0mself\u001b[0m\u001b[0;34m.\u001b[0m\u001b[0m_jdf\u001b[0m\u001b[0;34m.\u001b[0m\u001b[0mapply\u001b[0m\u001b[0;34m(\u001b[0m\u001b[0mname\u001b[0m\u001b[0;34m)\u001b[0m\u001b[0;34m\u001b[0m\u001b[0;34m\u001b[0m\u001b[0m\n\u001b[1;32m   1403\u001b[0m         \u001b[0;32mreturn\u001b[0m \u001b[0mColumn\u001b[0m\u001b[0;34m(\u001b[0m\u001b[0mjc\u001b[0m\u001b[0;34m)\u001b[0m\u001b[0;34m\u001b[0m\u001b[0;34m\u001b[0m\u001b[0m\n",
      "\u001b[0;31mAttributeError\u001b[0m: 'DataFrame' object has no attribute 'plot'"
     ]
    },
    {
     "data": {
      "image/png": "[encoded data removed]",
      "text/plain": [
       "<Figure size 432x288 with 1 Axes>"
      ]
     },
     "metadata": {
      "needs_background": "light"
     },
     "output_type": "display_data"
    }
   ],
   "source": [
    "# Create an axes object \n",
    "axes = plt.gca()\n",
    "\n",
    "# pass the axes object to plot function\n",
    "crc1.plot.line(kind='line', x='published_time', y='last+traded_price', ax=axes);"
   ]
  },
  {
   "cell_type": "code",
   "execution_count": 80,
   "metadata": {},
   "outputs": [],
   "source": [
    "import pandas as pd\n",
    "import matplotlib.pyplot as plt"
   ]
  },
  {
   "cell_type": "code",
   "execution_count": null,
   "metadata": {},
   "outputs": [],
   "source": []
  },
  {
   "cell_type": "code",
   "execution_count": 40,
   "metadata": {},
   "outputs": [],
   "source": [
    "import time"
   ]
  },
  {
   "cell_type": "code",
   "execution_count": 63,
   "metadata": {},
   "outputs": [],
   "source": [
    "import matplotlib.pyplot as pyplot     "
   ]
  },
  {
   "cell_type": "code",
   "execution_count": 42,
   "metadata": {},
   "outputs": [],
   "source": [
    "# Betfair time seems to be in milliseconds, so this converts it to normal Unix epoch time in seconds.\n",
    "def betfair_to_epoch(betfair_time):\n",
    "    return betfair_time / 1000\n",
    "\n",
    "# Convert a string like '30.08.2018 17:30:00' to a time number.\n",
    "def string_to_epoch(time_str):\n",
    "    pattern = '%d.%m.%Y %H:%M:%S'\n",
    "    return time.mktime(time.strptime(time_str, pattern))"
   ]
  },
  {
   "cell_type": "code",
   "execution_count": 80,
   "metadata": {},
   "outputs": [
    {
     "data": {
      "text/plain": [
       "1457982000.0"
      ]
     },
     "execution_count": 80,
     "metadata": {},
     "output_type": "execute_result"
    }
   ],
   "source": [
    "string_to_epoch('14.03.2016 19:00:00')"
   ]
  },
  {
   "cell_type": "code",
   "execution_count": 79,
   "metadata": {},
   "outputs": [
    {
     "ename": "TypeError",
     "evalue": "unsupported operand type(s) for /: 'str' and 'int'",
     "output_type": "error",
     "traceback": [
      "\u001b[0;31m---------------------------------------------------------------------------\u001b[0m",
      "\u001b[0;31mTypeError\u001b[0m                                 Traceback (most recent call last)",
      "\u001b[0;32m/tmp/ipykernel_11294/3811065284.py\u001b[0m in \u001b[0;36m<module>\u001b[0;34m\u001b[0m\n\u001b[0;32m----> 1\u001b[0;31m \u001b[0mbetfair_to_epoch\u001b[0m\u001b[0;34m(\u001b[0m\u001b[0;34m'1452774920200'\u001b[0m\u001b[0;34m)\u001b[0m\u001b[0;34m\u001b[0m\u001b[0;34m\u001b[0m\u001b[0m\n\u001b[0m",
      "\u001b[0;32m/tmp/ipykernel_11294/204656419.py\u001b[0m in \u001b[0;36mbetfair_to_epoch\u001b[0;34m(betfair_time)\u001b[0m\n\u001b[1;32m      1\u001b[0m \u001b[0;31m# Betfair time seems to be in milliseconds, so this converts it to normal Unix epoch time in seconds.\u001b[0m\u001b[0;34m\u001b[0m\u001b[0;34m\u001b[0m\u001b[0;34m\u001b[0m\u001b[0m\n\u001b[1;32m      2\u001b[0m \u001b[0;32mdef\u001b[0m \u001b[0mbetfair_to_epoch\u001b[0m\u001b[0;34m(\u001b[0m\u001b[0mbetfair_time\u001b[0m\u001b[0;34m)\u001b[0m\u001b[0;34m:\u001b[0m\u001b[0;34m\u001b[0m\u001b[0;34m\u001b[0m\u001b[0m\n\u001b[0;32m----> 3\u001b[0;31m     \u001b[0;32mreturn\u001b[0m \u001b[0mbetfair_time\u001b[0m \u001b[0;34m/\u001b[0m \u001b[0;36m1000\u001b[0m\u001b[0;34m\u001b[0m\u001b[0;34m\u001b[0m\u001b[0m\n\u001b[0m\u001b[1;32m      4\u001b[0m \u001b[0;34m\u001b[0m\u001b[0m\n\u001b[1;32m      5\u001b[0m \u001b[0;31m# Convert a string like '30.08.2018 17:30:00' to a time number.\u001b[0m\u001b[0;34m\u001b[0m\u001b[0;34m\u001b[0m\u001b[0;34m\u001b[0m\u001b[0m\n",
      "\u001b[0;31mTypeError\u001b[0m: unsupported operand type(s) for /: 'str' and 'int'"
     ]
    }
   ],
   "source": [
    "betfair_to_epoch('1452774920.200')"
   ]
  },
  {
   "cell_type": "code",
   "execution_count": 61,
   "metadata": {},
   "outputs": [],
   "source": [
    "# Plot data inside this date range.\n",
    "from_time = '1452712450381' #string_to_epoch('14.03.2016 01:00:00')\n",
    "to_time = '1452778820221' #string_to_epoch('14.03.2016 19:00:00')\n",
    "\n",
    "#from_time = from_time.astype(float)\n",
    "#to_time = to_time.astype(float)\n",
    "\n",
    "from_time = int(from_time)\n",
    "to_time = int(to_time)\n",
    "\n",
    "\n",
    "# Make a dictionary of the lowest prices that each runner achieved.\n",
    "runner_lowest_price = {}       # Key=runner_id, Value=Lowest price they traded at.\n",
    "runner_volume = {}             # Key=runner_id, Value=Number of market change events they had.\n",
    "total_volume = 0               # Total number of market change events (total for all runners).\n",
    "\n",
    "# Analyse all of the runner changes for the selected market.\n",
    "#for rc in chosen_runner_changes:\n",
    "   # if (    betfair_to_epoch(rc.published_time) >= from_time \n",
    "    #    and betfair_to_epoch(rc.published_time) <= to_time):\n",
    "\n",
    "for rc in chosen_runner_changes:\n",
    "    if (    rc.published_time >= from_time \n",
    "        and rc.published_time <= to_time):\n",
    "    \n",
    "        if not rc.runner_id in runner_lowest_price:\n",
    "            runner_lowest_price[rc.runner_id] = rc.last_traded_price\n",
    "        elif rc.last_traded_price < runner_lowest_price[rc.runner_id]:\n",
    "            runner_lowest_price[rc.runner_id] = rc.last_traded_price\n",
    "\n",
    "        if not rc.runner_id in runner_volume:\n",
    "            runner_volume[rc.runner_id] = 1\n",
    "        else:\n",
    "            runner_volume[rc.runner_id] = runner_volume[rc.runner_id] + 1\n",
    "\n",
    "        total_volume += 1\n",
    "\n",
    "# List of colours that will be used later on for plotting lines.\n",
    "colours = ['blue', 'green', 'red', 'cyan', 'magenta','yellow', 'black']\n",
    "            \n",
    "# Pick runners with lowest prices and high enough volumes, and put their keys into the best_runners list.\n",
    "# These are the runners that will have their data plotted.\n",
    "best_runners = []\n",
    "\n",
    "for i in range(len(runner_lowest_price)):         # All of the runners will be considered as possible to be plotted.\n",
    "    # Next runner to be considered is the one who traded at the lowest price.\n",
    "    best_left = min(runner_lowest_price, key=runner_lowest_price.get)\n",
    "    \n",
    "    if (i < len(colours)                                         # Can't pick more runners than there are colours to plot.\n",
    "        and (runner_volume[best_left] / total_volume) > 0.01):   # Runner must be subject of at least 1% of the data points.\n",
    "            best_runners.append(best_left)\n",
    "    \n",
    "    del runner_lowest_price[best_left]                           # Remove runner that has just been considered from the list."
   ]
  },
  {
   "cell_type": "code",
   "execution_count": 64,
   "metadata": {},
   "outputs": [
    {
     "data": {
      "image/png": "[encoded data removed]",
      "text/plain": [
       "<Figure size 1152x576 with 1 Axes>"
      ]
     },
     "metadata": {
      "needs_background": "light"
     },
     "output_type": "display_data"
    }
   ],
   "source": [
    "fig, ax = pyplot.subplots(nrows=1, ncols=1, figsize=(16, 8))\n",
    "curr_colour = 0\n",
    "\n",
    "sample_size = 10        # Can be adjusted to smooth out data if there are outlier prices sometimes.\n",
    "\n",
    "# Plot graphs for the list of best runners (lowest priced runners) found in previous cell.\n",
    "for br in best_runners:\n",
    "    one_runner_x = []\n",
    "    one_runner_y = []\n",
    "\n",
    "    samples = []                          # Buffer of recent last_traded_price for this runner.\n",
    "    for rc in chosen_runner_changes:\n",
    "        if (rc.published_time >= from_time \n",
    "            and rc.published_time <= to_time):\n",
    "\n",
    "                \n",
    "            samples.append(rc.last_traded_price)\n",
    "\n",
    "            # Only plot this data point if the samples buffer is full sized.\n",
    "            if len(samples) >= sample_size:\n",
    "                one_runner_x.append(rc.published_time)\n",
    "                one_runner_y.append(1 / max(samples))  # Use median price paid in samples buffer.\n",
    "                one_runner_name = rc.runner_name\n",
    "\n",
    "    if len(samples) >= sample_size:\n",
    "        ax.plot(one_runner_x, one_runner_y, color = colours[curr_colour], label = one_runner_name)\n",
    "        curr_colour += 1\n",
    "\n",
    "pyplot.legend(loc='upper left')\n",
    "\n",
    "ax.set(ylabel='Implied Probability',\n",
    "       title=chosen_runner_changes[0].event_name + ' : ' + chosen_runner_changes[0].market_name)\n",
    "\n",
    "# Reformat the x axis tick labels.\n",
    "x_locs, x_labels = pyplot.xticks()\n",
    "new_x_labels = []\n",
    "new_x_locs = []\n",
    "for l in x_locs[1:-1]:                   # Omit the first and last ticks.\n",
    "    new_x_locs.append(l)\n",
    "    \n",
    "\n",
    "\n",
    "# Reformat the y axis tick labels.\n",
    "y_locs, y_labels = pyplot.yticks()\n",
    "new_y_labels = []\n",
    "new_y_locs = []\n",
    "for l in y_locs[1:-1]:                   # Omit the first and last ticks.\n",
    "    new_y_locs.append(l)\n",
    "    \n",
    "\n",
    "\n",
    "pyplot.show()"
   ]
  },
  {
   "cell_type": "code",
   "execution_count": 73,
   "metadata": {},
   "outputs": [
    {
     "data": {
      "text/plain": [
       "{444842: 464,\n",
       " 6939953: 86,\n",
       " 5568158: 50,\n",
       " 8742358: 46,\n",
       " 7281856: 100,\n",
       " 7253717: 20,\n",
       " 7011147: 126,\n",
       " 5415401: 30,\n",
       " 8996652: 28,\n",
       " 9483270: 30,\n",
       " 9153264: 20}"
      ]
     },
     "execution_count": 73,
     "metadata": {},
     "output_type": "execute_result"
    }
   ],
   "source": [
    "runner_volume           # Key=runner_id, Value=Number of market change events they had."
   ]
  },
  {
   "cell_type": "code",
   "execution_count": 85,
   "metadata": {},
   "outputs": [
    {
     "data": {
      "text/plain": [
       "{}"
      ]
     },
     "execution_count": 85,
     "metadata": {},
     "output_type": "execute_result"
    }
   ],
   "source": [
    "runner_lowest_price"
   ]
  },
  {
   "cell_type": "code",
   "execution_count": 75,
   "metadata": {},
   "outputs": [
    {
     "data": {
      "text/plain": [
       "1000"
      ]
     },
     "execution_count": 75,
     "metadata": {},
     "output_type": "execute_result"
    }
   ],
   "source": [
    "total_volume"
   ]
  },
  {
   "cell_type": "code",
   "execution_count": 83,
   "metadata": {},
   "outputs": [
    {
     "name": "stderr",
     "output_type": "stream",
     "text": [
      "No artists with labels found to put in legend.  Note that artists whose label start with an underscore are ignored when legend() is called with no argument.\n"
     ]
    },
    {
     "data": {
      "image/png": "[encoded data removed]",
      "text/plain": [
       "<Figure size 1152x576 with 1 Axes>"
      ]
     },
     "metadata": {
      "needs_background": "light"
     },
     "output_type": "display_data"
    }
   ],
   "source": [
    "fig, ax = pyplot.subplots(nrows=1, ncols=1, figsize=(16, 8))\n",
    "curr_colour = 0\n",
    "\n",
    "sample_size = 1        # Can be adjusted to smooth out data if there are outlier prices sometimes.\n",
    "\n",
    "# Plot graphs for the list of best runners (lowest priced runners) found in previous cell.\n",
    "for br in best_runners:\n",
    "    one_runner_x = []\n",
    "    one_runner_y = []\n",
    "\n",
    "    samples = []                          # Buffer of recent last_traded_price for this runner.\n",
    "    for rc in chosen_runner_changes:\n",
    "        if (rc.runner_id == br \n",
    "            and betfair_to_epoch(rc.published_time) >= from_time \n",
    "            and betfair_to_epoch(rc.published_time) <= to_time):\n",
    "\n",
    "            if len(samples) >= sample_size:        # If the samples buffer is full...\n",
    "                del samples[0]                     # ... remove the oldest item from it.\n",
    "                \n",
    "            samples.append(rc.last_traded_price)\n",
    "\n",
    "            # Only plot this data point if the samples buffer is full sized.\n",
    "            if len(samples) >= sample_size:\n",
    "                one_runner_x.append(betfair_to_epoch(rc.published_time))\n",
    "                one_runner_y.append(1 / max(samples))  # Use median price paid in samples buffer.\n",
    "                one_runner_name = rc.runner_name\n",
    "\n",
    "    if len(samples) >= sample_size:\n",
    "        ax.plot(one_runner_x, one_runner_y, color = colours[curr_colour], label = one_runner_name)\n",
    "        curr_colour += 1\n",
    "\n",
    "pyplot.legend(loc='upper left')\n",
    "\n",
    "ax.set(ylabel='Implied Probability',\n",
    "       title=chosen_runner_changes[0].event_name + ' : ' + chosen_runner_changes[0].market_name)\n",
    "\n",
    "# Reformat the x axis tick labels.\n",
    "x_locs, x_labels = pyplot.xticks()\n",
    "new_x_labels = []\n",
    "new_x_locs = []\n",
    "for l in x_locs[1:-1]:                   # Omit the first and last ticks.\n",
    "    new_x_locs.append(l)\n",
    "    \n",
    "    # Reformat the x axis tick labels from numbers into nice date/time text format.\n",
    "    new_x_labels.append(time.strftime('%d-%b-%y %H:%M', time.localtime(l)))\n",
    "pyplot.xticks(new_x_locs, new_x_labels)\n",
    "\n",
    "# Reformat the y axis tick labels.\n",
    "y_locs, y_labels = pyplot.yticks()\n",
    "new_y_labels = []\n",
    "new_y_locs = []\n",
    "for l in y_locs[1:-1]:                   # Omit the first and last ticks.\n",
    "    new_y_locs.append(l)\n",
    "    \n",
    "    # Reformat the y axis tick labels from decimals into nice percentage text format.\n",
    "    new_y_labels.append(str(int(l * 100)) + '%')\n",
    "pyplot.yticks(new_y_locs, new_y_labels)\n",
    "\n",
    "pyplot.show()"
   ]
  },
  {
   "cell_type": "code",
   "execution_count": 20,
   "metadata": {},
   "outputs": [
    {
     "name": "stderr",
     "output_type": "stream",
     "text": [
      "[Stage 3:>                                                          (0 + 1) / 1]\r"
     ]
    },
    {
     "name": "stdout",
     "output_type": "stream",
     "text": [
      "+--------------+--------------+-----------+---------------+--------+-------------------+---------+------------------+-------------+------+--------------------+\n",
      "|operation_type|published_time|  market_id|    market_name|event_id|         event_name|runner_id|       runner_name|runner_status|   bsp|runner_sort_priority|\n",
      "+--------------+--------------+-----------+---------------+--------+-------------------+---------+------------------+-------------+------+--------------------+\n",
      "|           mcm| 1462501034557|1.124659130|     R8 1m Allw|27784588|EvangD (US) 5th May| 10575249|       Bitsys Half|        LOSER|  13.5|                   5|\n",
      "|           mcm| 1462501034557|1.124659130|     R8 1m Allw|27784588|EvangD (US) 5th May| 10288198|         Blue Code|        LOSER|  32.0|                   6|\n",
      "|           mcm| 1462501034557|1.124659130|     R8 1m Allw|27784588|EvangD (US) 5th May| 10116126|            Zartan|        LOSER| 57.95|                   7|\n",
      "|           mcm| 1462501034557|1.124659130|     R8 1m Allw|27784588|EvangD (US) 5th May| 10221428|         Old Conch|        LOSER|223.91|                   8|\n",
      "|           mcm| 1462501034557|1.124659130|     R8 1m Allw|27784588|EvangD (US) 5th May| 10150151|Rose Needs A Check|        LOSER| 15.34|                   9|\n",
      "|           mcm| 1462501034557|1.124659130|     R8 1m Allw|27784588|EvangD (US) 5th May| 10237987|           Make Do|        LOSER|  10.5|                  10|\n",
      "|           mcm| 1462501034557|1.124659130|     R8 1m Allw|27784588|EvangD (US) 5th May| 10674850|      Cajun Kitten|        LOSER|   4.0|                  11|\n",
      "|           mcm| 1462501034557|1.124659130|     R8 1m Allw|27784588|EvangD (US) 5th May| 10550376|       Dr. Zipcity|       WINNER| 26.28|                  12|\n",
      "|           mcm| 1462501034557|1.124659130|     R8 1m Allw|27784588|EvangD (US) 5th May| 10849769|     Goforthegreen|        LOSER|  21.0|                  13|\n",
      "|           mcm| 1462501034557|1.124659130|     R8 1m Allw|27784588|EvangD (US) 5th May| 10762541|       Specialeyes|        LOSER|  2.31|                  14|\n",
      "|           mcm| 1462502535129|1.124659133|R9 7f Mdn Claim|27784588|EvangD (US) 5th May| 10175250|           Cabildo|        LOSER| 83.46|                   1|\n",
      "|           mcm| 1462502535129|1.124659133|R9 7f Mdn Claim|27784588|EvangD (US) 5th May| 10592064|      Point Secret|        LOSER|   5.6|                   2|\n",
      "|           mcm| 1462502535129|1.124659133|R9 7f Mdn Claim|27784588|EvangD (US) 5th May|  9111702|       Lip Service|       WINNER|   4.0|                   3|\n",
      "|           mcm| 1462502535129|1.124659133|R9 7f Mdn Claim|27784588|EvangD (US) 5th May| 10154653|         Warlander|        LOSER|   7.0|                   4|\n",
      "|           mcm| 1462502535129|1.124659133|R9 7f Mdn Claim|27784588|EvangD (US) 5th May| 10059993|    Cowboy Classic|        LOSER| 12.07|                   5|\n",
      "|           mcm| 1462502535129|1.124659133|R9 7f Mdn Claim|27784588|EvangD (US) 5th May| 10681528|    Dry Wood Creek|        LOSER|   4.4|                   6|\n",
      "|           mcm| 1462502535129|1.124659133|R9 7f Mdn Claim|27784588|EvangD (US) 5th May| 10804072|              Eppy|        LOSER| 18.52|                   7|\n",
      "|           mcm| 1462502535129|1.124659133|R9 7f Mdn Claim|27784588|EvangD (US) 5th May| 10882521|     Ball And Pins|        LOSER| 14.54|                   8|\n",
      "|           mcm| 1462495994956|1.124659121|    R5 6f Claim|27784588|EvangD (US) 5th May| 10102626|       Philli Four|        LOSER| 14.99|                   1|\n",
      "|           mcm| 1462495994956|1.124659121|    R5 6f Claim|27784588|EvangD (US) 5th May| 10134313|    Lydgate Affair|        LOSER| 38.42|                   2|\n",
      "+--------------+--------------+-----------+---------------+--------+-------------------+---------+------------------+-------------+------+--------------------+\n",
      "only showing top 20 rows\n",
      "\n"
     ]
    },
    {
     "name": "stderr",
     "output_type": "stream",
     "text": [
      "                                                                                \r"
     ]
    }
   ],
   "source": [
    "##### new dataset (just added BSP to the runners dataframe created above)\n",
    "runners_wbsp.show()"
   ]
  },
  {
   "cell_type": "code",
   "execution_count": 21,
   "metadata": {},
   "outputs": [],
   "source": [
    "#############################"
   ]
  },
  {
   "cell_type": "code",
   "execution_count": null,
   "metadata": {},
   "outputs": [],
   "source": []
  },
  {
   "cell_type": "code",
   "execution_count": 22,
   "metadata": {},
   "outputs": [],
   "source": [
    "# Select the useful fields, and give them user friendly names.\n",
    "runners = runners_exploded.selectExpr('operation_type',\n",
    "                                      'published_time',\n",
    "                                      'market_id',\n",
    "                                      'market_name',\n",
    "                                      'event_id',\n",
    "                                      'event_name',\n",
    "                                      'runner_row.id AS runner_id',\n",
    "                                      'runner_row.name AS runner_name',\n",
    "                                      'runner_row.status AS runner_status',\n",
    "                                      'runner_row.sortPriority AS runner_sort_priority')"
   ]
  },
  {
   "cell_type": "code",
   "execution_count": 23,
   "metadata": {},
   "outputs": [],
   "source": [
    "# Filter down to only the records that have rc (runner changes).\n",
    "rc_only = mc_exploded.filter(mc_exploded.mc_row.rc.isNotNull())"
   ]
  },
  {
   "cell_type": "code",
   "execution_count": 24,
   "metadata": {},
   "outputs": [],
   "source": [
    "# Explode the rc (runner changes) array.\n",
    "rc_exploded = rc_only.select(rc_only.op.alias('operation_type'),\n",
    "                             rc_only.pt.alias('published_time'),\n",
    "                             rc_only.mc_row.id.alias('market_id'),\n",
    "                             explode(rc_only.mc_row.rc).alias('runner_change_row'))"
   ]
  },
  {
   "cell_type": "code",
   "execution_count": 25,
   "metadata": {},
   "outputs": [],
   "source": [
    "# Select the useful fields, and give them user friendly names.\n",
    "runner_changes = rc_exploded.selectExpr('operation_type',\n",
    "                                        'published_time',\n",
    "                                        'market_id',\n",
    "                                        'runner_change_row.id AS runner_id',\n",
    "                                        'runner_change_row.ltp AS last_traded_price')"
   ]
  },
  {
   "cell_type": "code",
   "execution_count": 26,
   "metadata": {},
   "outputs": [
    {
     "name": "stdout",
     "output_type": "stream",
     "text": [
      "+--------------+--------------+-----------+---------------+--------+-------------------+---------+------------------+-------------+--------------------+\n",
      "|operation_type|published_time|  market_id|    market_name|event_id|         event_name|runner_id|       runner_name|runner_status|runner_sort_priority|\n",
      "+--------------+--------------+-----------+---------------+--------+-------------------+---------+------------------+-------------+--------------------+\n",
      "|           mcm| 1462501034557|1.124659130|     R8 1m Allw|27784588|EvangD (US) 5th May| 10861746|          B Brazin|      REMOVED|                   1|\n",
      "|           mcm| 1462501034557|1.124659130|     R8 1m Allw|27784588|EvangD (US) 5th May|  4517788|       Great Value|      REMOVED|                   2|\n",
      "|           mcm| 1462501034557|1.124659130|     R8 1m Allw|27784588|EvangD (US) 5th May|   187960|        Kid Creole|      REMOVED|                   3|\n",
      "|           mcm| 1462501034557|1.124659130|     R8 1m Allw|27784588|EvangD (US) 5th May| 10743810|        Slideruler|      REMOVED|                   4|\n",
      "|           mcm| 1462501034557|1.124659130|     R8 1m Allw|27784588|EvangD (US) 5th May| 10575249|       Bitsys Half|        LOSER|                   5|\n",
      "|           mcm| 1462501034557|1.124659130|     R8 1m Allw|27784588|EvangD (US) 5th May| 10288198|         Blue Code|        LOSER|                   6|\n",
      "|           mcm| 1462501034557|1.124659130|     R8 1m Allw|27784588|EvangD (US) 5th May| 10116126|            Zartan|        LOSER|                   7|\n",
      "|           mcm| 1462501034557|1.124659130|     R8 1m Allw|27784588|EvangD (US) 5th May| 10221428|         Old Conch|        LOSER|                   8|\n",
      "|           mcm| 1462501034557|1.124659130|     R8 1m Allw|27784588|EvangD (US) 5th May| 10150151|Rose Needs A Check|        LOSER|                   9|\n",
      "|           mcm| 1462501034557|1.124659130|     R8 1m Allw|27784588|EvangD (US) 5th May| 10237987|           Make Do|        LOSER|                  10|\n",
      "|           mcm| 1462501034557|1.124659130|     R8 1m Allw|27784588|EvangD (US) 5th May| 10674850|      Cajun Kitten|        LOSER|                  11|\n",
      "|           mcm| 1462501034557|1.124659130|     R8 1m Allw|27784588|EvangD (US) 5th May| 10550376|       Dr. Zipcity|       WINNER|                  12|\n",
      "|           mcm| 1462501034557|1.124659130|     R8 1m Allw|27784588|EvangD (US) 5th May| 10849769|     Goforthegreen|        LOSER|                  13|\n",
      "|           mcm| 1462501034557|1.124659130|     R8 1m Allw|27784588|EvangD (US) 5th May| 10762541|       Specialeyes|        LOSER|                  14|\n",
      "|           mcm| 1462502535129|1.124659133|R9 7f Mdn Claim|27784588|EvangD (US) 5th May| 10175250|           Cabildo|        LOSER|                   1|\n",
      "|           mcm| 1462502535129|1.124659133|R9 7f Mdn Claim|27784588|EvangD (US) 5th May| 10592064|      Point Secret|        LOSER|                   2|\n",
      "|           mcm| 1462502535129|1.124659133|R9 7f Mdn Claim|27784588|EvangD (US) 5th May|  9111702|       Lip Service|       WINNER|                   3|\n",
      "|           mcm| 1462502535129|1.124659133|R9 7f Mdn Claim|27784588|EvangD (US) 5th May| 10154653|         Warlander|        LOSER|                   4|\n",
      "|           mcm| 1462502535129|1.124659133|R9 7f Mdn Claim|27784588|EvangD (US) 5th May| 10059993|    Cowboy Classic|        LOSER|                   5|\n",
      "|           mcm| 1462502535129|1.124659133|R9 7f Mdn Claim|27784588|EvangD (US) 5th May| 10681528|    Dry Wood Creek|        LOSER|                   6|\n",
      "+--------------+--------------+-----------+---------------+--------+-------------------+---------+------------------+-------------+--------------------+\n",
      "only showing top 20 rows\n",
      "\n"
     ]
    }
   ],
   "source": [
    "runners.show()"
   ]
  },
  {
   "cell_type": "code",
   "execution_count": 27,
   "metadata": {},
   "outputs": [],
   "source": [
    "# https://www.researchgate.net/publication/351844751_Sonic_Thunder_vs_Brian_the_Snail_Are_people_affected_by_uninformative_racehorse_names\n",
    "fast_names = [\n",
    "    'a mile a minute', 'helter-skelter', 'quick-fire',\n",
    "    'apace', 'high-speed quickly',\n",
    "    'as fast as your legs would carry you',\n",
    "    'hot', 'quickness',\n",
    "    'as if it is going out of style', 'hotfoot', 'rapid',\n",
    "    'at a rate of knots', 'hustle', 'rapid-fire',\n",
    "    'at full pelt', 'in the twinkling of an eye',\n",
    "    'rate',\n",
    "    'at full speed', 'Jack Robinson', 'say',\n",
    "    'at full tilt', 'lick', 'shot',\n",
    "    'at full tilt', 'lickety-split', 'smartly',\n",
    "    'before you can say Jack Robinson', 'lightning', 'souped-up',\n",
    "    'blistering', 'like a shot', 'spanking',\n",
    "    'breakneck' 'like a streak of lightning', 'speed',\n",
    "    'brisk' 'like lightning spread', 'like wildfire',\n",
    "    'chop-chop', 'meteoric', 'streak',\n",
    "    'crash', 'mile', 'style',\n",
    "    'express', 'nimble', 'superfast',\n",
    "    'fast', 'nimbleness', 'supersonic',\n",
    "\n",
    "    'fleet', 'nimbly', 'swift',\n",
    "    'full', 'nippy', 'swiftly',\n",
    "    'full steam ahead', 'pdq', 'thick',\n",
    "    'gallop', 'pell-mell', 'thick and fast',\n",
    "    'galloping', 'poky', 'tilt',\n",
    "    'go like hot cakes', 'posthaste', 'top',\n",
    "    'have a heavy foot', 'precipitous', 'twinkling',\n",
    "    'headlong', 'precipitously', 'whoosh',\n",
    "    'heavy', 'prompt', 'wildfire',\n",
    "    'hell', 'promptly', 'zippy',\n",
    "    'hell for leather', 'quick',\n",
    "\n",
    "\n",
    "    'accelerated', 'high-speed', 'pell-mell',\n",
    "    'at full speed', 'hurried', 'post-haste',\n",
    "    'at full tilt', 'hurriedly', 'quick',\n",
    "    'at speed', 'in a flash', 'quickly',\n",
    "    'at the speed of light', 'in a hurry', 'rapid',\n",
    "    'blistering', 'in a trice', 'rapidly',\n",
    "    'breakneck', 'in a wink', 'smart',\n",
    "    'brisk', 'in haste', 'speedily',\n",
    "    'briskly', 'in time', 'speedy',\n",
    "    'energetically', 'in no time at all', 'sporty',\n",
    "    'expeditious', 'in the blink of an eye', 'sprightly',\n",
    "    'expeditiously', 'like a flash', 'swift',\n",
    "    'express', 'like a shot', 'swiftly',\n",
    "    'fast', 'like an arrow from a bow', 'turbo',\n",
    "    'fast-moving', 'lively', 'unhesitating',\n",
    "    'fleet-footed', 'meteoric', 'whirlwind',\n",
    "    'flying', 'nimble', 'with all haste',\n",
    "    'hastily', 'on the double', 'with dispatch',\n",
    "    'hasty', 'pell-mell', 'without delay',\n",
    "\n",
    "    'acceleration', 'haste', 'scutter',\n",
    "    'alacrity', 'hasten', 'sharpness',\n",
    "    'blast', 'hurriedness', 'shoot',\n",
    "    'bolt', 'hurry', 'spank along',\n",
    "    'bowl along', 'hurry', 'speed',\n",
    "    'briskness', 'hurtle', 'speediness',\n",
    "    'career', 'immediacy', 'sprint',\n",
    "    'celerity', 'momentum', 'stampede',\n",
    "    'charge', 'pace', 'streak',\n",
    "    'dart', 'precipitateness', 'sweep',\n",
    "    'dash', 'promptness', 'swiftness',\n",
    "    'dispatch', 'quickness', 'swoop',\n",
    "    'expedition', 'race', 'tempo',\n",
    "    'expeditiousness', 'rapidity', 'uzz',\n",
    "    'fastness', 'rate', 'velocity',\n",
    "    'flash', 'rattle along', 'whirl',\n",
    "    'fly', 'run', 'whizz',\n",
    "    'gallop', 'rush', 'whoosh',\n",
    "    'go hell for leather', 'scramble', 'wing',\n",
    "    'go like lightning', 'scud', 'zoom',\n",
    "    'hare', 'scurry',\n",
    "\n",
    "    'abrupt', 'impetuous', 'rushed',\n",
    "    'agility', 'outrun', 'scramble',\n",
    "    'dash', 'overhasty', 'speed',\n",
    "    'disconcerted', 'overrun', 'speedily',\n",
    "    'dodge', 'promptly', 'speedy',\n",
    "    'haste', 'quick', 'sudden',\n",
    "    'hastily', 'quickly', 'suddenly',\n",
    "    'hurried', 'rapid', 'swift',\n",
    "    'hurriedly', 'rapidly', 'swiftly',\n",
    "    'hurry', 'rush', 'zoom',\n",
    "\n",
    "    'accelerate', 'haste', 'race',\n",
    "    'acceleration', 'hasten', 'rapidity',\n",
    "    'agility', 'hie', 'rush',\n",
    "    'airspeed', 'hurriedly', 'speedy',\n",
    "    'celerity', 'hurry', 'stronghold',\n",
    "    'dash', 'pace', 'swift',\n",
    "    'decelerate', 'quick', 'swiftness',\n",
    "    'expedite', 'quicken', 'tempo',\n",
    "    'fast', 'quickly', 'urgently',\n",
    "    'fastness', 'quickness', 'velocity',\n",
    "\n",
    "    'Apache', 'Bentley', 'Blustery',\n",
    "    'Bullet', 'Buzz', 'Comet',\n",
    "    ',Cougar', ',Falcon', 'Faster',\n",
    "    'Flash', 'Ghost', 'rider', 'Harley',\n",
    "    'Jet', 'Jump', 'Jumping',\n",
    "    'Miles', 'Mustang', 'Pony express',\n",
    "    'Quick', 'Quicky', 'Racer',\n",
    "    'Rapid', 'Rapide', 'Rocket',\n",
    "    'Sonic', 'Speedy', 'Taz',\n",
    "    'Tornado', 'Traveler', 'Wildfire',\n",
    "    'Voyager', 'Wild', 'Velocity', \n",
    "\n",
    "    'Sonic Power', 'Speed Dragon', 'Zippy Lad', 'Lightening Vault',\n",
    "    'Powerful Jet', 'Orbit Express', 'Swift Chap', 'Blazing Tempo',\n",
    "    'Brave Falcon', 'Rush Now', 'Top Magic', 'Dixie Flyer',\n",
    "    'Esprit De Bullet', 'Strike Fast', 'Hustle Hard', 'Diamond Rush',\n",
    "    'Crown Me Fast', 'Hot Seat', 'Top Gear', 'Bright Bullet',\n",
    "    'Quick Art', 'Rush Of Blood', 'Top Boy', 'Meteoric',\n",
    "    'Moments',\n",
    "    'One Wild Guy', 'Sonic Thunder', 'Grand Gallop', 'Zippy Speed',\n",
    "    'Run for Roses', 'Saratoga',\n",
    "    'Wildcat',\n",
    "    'Quick Beers', 'Sudden Rush',\n",
    "    'Flyingwithoutwings', 'Fast On', 'Dazzlem Quick', 'You Drive I Fly',\n",
    "    'Irish Rocket', 'Hot Sauce', 'Mighty Flying', 'frost'\n",
    "]"
   ]
  },
  {
   "cell_type": "code",
   "execution_count": 28,
   "metadata": {},
   "outputs": [],
   "source": [
    "for i in range(len(fast_names)):\n",
    "    fast_names[i] = fast_names[i].lower()"
   ]
  },
  {
   "cell_type": "code",
   "execution_count": 29,
   "metadata": {},
   "outputs": [],
   "source": [
    "runners = runners.filter(runners.runner_status!='REMOVED')"
   ]
  },
  {
   "cell_type": "code",
   "execution_count": 30,
   "metadata": {},
   "outputs": [
    {
     "name": "stderr",
     "output_type": "stream",
     "text": [
      "[Stage 5:>                                                          (0 + 1) / 1]\r"
     ]
    },
    {
     "name": "stdout",
     "output_type": "stream",
     "text": [
      "+--------------+--------------+-----------+---------------+--------+-------------------+---------+------------------+-------------+--------------------+\n",
      "|operation_type|published_time|  market_id|    market_name|event_id|         event_name|runner_id|       runner_name|runner_status|runner_sort_priority|\n",
      "+--------------+--------------+-----------+---------------+--------+-------------------+---------+------------------+-------------+--------------------+\n",
      "|           mcm| 1462501034557|1.124659130|     R8 1m Allw|27784588|EvangD (US) 5th May| 10575249|       Bitsys Half|        LOSER|                   5|\n",
      "|           mcm| 1462501034557|1.124659130|     R8 1m Allw|27784588|EvangD (US) 5th May| 10288198|         Blue Code|        LOSER|                   6|\n",
      "|           mcm| 1462501034557|1.124659130|     R8 1m Allw|27784588|EvangD (US) 5th May| 10116126|            Zartan|        LOSER|                   7|\n",
      "|           mcm| 1462501034557|1.124659130|     R8 1m Allw|27784588|EvangD (US) 5th May| 10221428|         Old Conch|        LOSER|                   8|\n",
      "|           mcm| 1462501034557|1.124659130|     R8 1m Allw|27784588|EvangD (US) 5th May| 10150151|Rose Needs A Check|        LOSER|                   9|\n",
      "|           mcm| 1462501034557|1.124659130|     R8 1m Allw|27784588|EvangD (US) 5th May| 10237987|           Make Do|        LOSER|                  10|\n",
      "|           mcm| 1462501034557|1.124659130|     R8 1m Allw|27784588|EvangD (US) 5th May| 10674850|      Cajun Kitten|        LOSER|                  11|\n",
      "|           mcm| 1462501034557|1.124659130|     R8 1m Allw|27784588|EvangD (US) 5th May| 10550376|       Dr. Zipcity|       WINNER|                  12|\n",
      "|           mcm| 1462501034557|1.124659130|     R8 1m Allw|27784588|EvangD (US) 5th May| 10849769|     Goforthegreen|        LOSER|                  13|\n",
      "|           mcm| 1462501034557|1.124659130|     R8 1m Allw|27784588|EvangD (US) 5th May| 10762541|       Specialeyes|        LOSER|                  14|\n",
      "|           mcm| 1462502535129|1.124659133|R9 7f Mdn Claim|27784588|EvangD (US) 5th May| 10175250|           Cabildo|        LOSER|                   1|\n",
      "|           mcm| 1462502535129|1.124659133|R9 7f Mdn Claim|27784588|EvangD (US) 5th May| 10592064|      Point Secret|        LOSER|                   2|\n",
      "|           mcm| 1462502535129|1.124659133|R9 7f Mdn Claim|27784588|EvangD (US) 5th May|  9111702|       Lip Service|       WINNER|                   3|\n",
      "|           mcm| 1462502535129|1.124659133|R9 7f Mdn Claim|27784588|EvangD (US) 5th May| 10154653|         Warlander|        LOSER|                   4|\n",
      "|           mcm| 1462502535129|1.124659133|R9 7f Mdn Claim|27784588|EvangD (US) 5th May| 10059993|    Cowboy Classic|        LOSER|                   5|\n",
      "|           mcm| 1462502535129|1.124659133|R9 7f Mdn Claim|27784588|EvangD (US) 5th May| 10681528|    Dry Wood Creek|        LOSER|                   6|\n",
      "|           mcm| 1462502535129|1.124659133|R9 7f Mdn Claim|27784588|EvangD (US) 5th May| 10804072|              Eppy|        LOSER|                   7|\n",
      "|           mcm| 1462502535129|1.124659133|R9 7f Mdn Claim|27784588|EvangD (US) 5th May| 10882521|     Ball And Pins|        LOSER|                   8|\n",
      "|           mcm| 1462495994956|1.124659121|    R5 6f Claim|27784588|EvangD (US) 5th May| 10102626|       Philli Four|        LOSER|                   1|\n",
      "|           mcm| 1462495994956|1.124659121|    R5 6f Claim|27784588|EvangD (US) 5th May| 10134313|    Lydgate Affair|        LOSER|                   2|\n",
      "+--------------+--------------+-----------+---------------+--------+-------------------+---------+------------------+-------------+--------------------+\n",
      "only showing top 20 rows\n",
      "\n"
     ]
    },
    {
     "name": "stderr",
     "output_type": "stream",
     "text": [
      "                                                                                \r"
     ]
    }
   ],
   "source": [
    "runners.show()"
   ]
  },
  {
   "cell_type": "code",
   "execution_count": 31,
   "metadata": {},
   "outputs": [],
   "source": [
    "from pyspark.sql.functions import udf\n",
    "from pyspark.sql.types import BooleanType, StringType, DoubleType"
   ]
  },
  {
   "cell_type": "code",
   "execution_count": 32,
   "metadata": {},
   "outputs": [],
   "source": [
    "@udf(BooleanType())\n",
    "def is_fast(name):\n",
    "    if name is None:\n",
    "        return False\n",
    "    name = name.lower()\n",
    "    for s in fast_names:\n",
    "        if s in name:\n",
    "            return True\n",
    "    return False"
   ]
  },
  {
   "cell_type": "code",
   "execution_count": 33,
   "metadata": {},
   "outputs": [],
   "source": [
    "from pyspark.sql.functions import lit, col"
   ]
  },
  {
   "cell_type": "code",
   "execution_count": 34,
   "metadata": {},
   "outputs": [],
   "source": [
    "runners_fast = runners.withColumn('is_fast_horse',  is_fast(runners.runner_name))"
   ]
  },
  {
   "cell_type": "code",
   "execution_count": null,
   "metadata": {},
   "outputs": [],
   "source": []
  },
  {
   "cell_type": "code",
   "execution_count": 35,
   "metadata": {},
   "outputs": [],
   "source": [
    "#############################\n",
    "### aisling with bsp data\n",
    "runners_fast_wbsp = runners_wbsp.withColumn('is_fast_horse',  is_fast(runners_wbsp.runner_name)) "
   ]
  },
  {
   "cell_type": "code",
   "execution_count": 36,
   "metadata": {},
   "outputs": [],
   "source": [
    "### aisling with bsp data\n",
    "runners_fast_wbsp = runners_fast_wbsp.filter(runners_fast_wbsp.bsp.isNotNull())"
   ]
  },
  {
   "cell_type": "code",
   "execution_count": 37,
   "metadata": {},
   "outputs": [],
   "source": [
    "runners_fast_wbsp = runners_fast_wbsp.filter(runners_fast_wbsp.bsp!='None')"
   ]
  },
  {
   "cell_type": "code",
   "execution_count": 38,
   "metadata": {},
   "outputs": [],
   "source": [
    "runners_fast_wbsp = runners_fast_wbsp.filter(runners_fast_wbsp.bsp!='NaN')"
   ]
  },
  {
   "cell_type": "code",
   "execution_count": 39,
   "metadata": {},
   "outputs": [
    {
     "data": {
      "text/plain": [
       "[('operation_type', 'string'),\n",
       " ('published_time', 'bigint'),\n",
       " ('market_id', 'string'),\n",
       " ('market_name', 'string'),\n",
       " ('event_id', 'string'),\n",
       " ('event_name', 'string'),\n",
       " ('runner_id', 'int'),\n",
       " ('runner_name', 'string'),\n",
       " ('runner_status', 'string'),\n",
       " ('bsp', 'string'),\n",
       " ('runner_sort_priority', 'int'),\n",
       " ('is_fast_horse', 'boolean')]"
      ]
     },
     "execution_count": 39,
     "metadata": {},
     "output_type": "execute_result"
    }
   ],
   "source": [
    "runners_fast_wbsp.dtypes"
   ]
  },
  {
   "cell_type": "code",
   "execution_count": 40,
   "metadata": {},
   "outputs": [
    {
     "name": "stderr",
     "output_type": "stream",
     "text": [
      "[Stage 6:>                                                          (0 + 1) / 1]\r"
     ]
    },
    {
     "name": "stdout",
     "output_type": "stream",
     "text": [
      "+--------------+--------------+-----------+---------------+--------+-------------------+---------+------------------+-------------+------+--------------------+-------------+\n",
      "|operation_type|published_time|  market_id|    market_name|event_id|         event_name|runner_id|       runner_name|runner_status|   bsp|runner_sort_priority|is_fast_horse|\n",
      "+--------------+--------------+-----------+---------------+--------+-------------------+---------+------------------+-------------+------+--------------------+-------------+\n",
      "|           mcm| 1462501034557|1.124659130|     R8 1m Allw|27784588|EvangD (US) 5th May| 10575249|       Bitsys Half|        LOSER|  13.5|                   5|        false|\n",
      "|           mcm| 1462501034557|1.124659130|     R8 1m Allw|27784588|EvangD (US) 5th May| 10288198|         Blue Code|        LOSER|  32.0|                   6|        false|\n",
      "|           mcm| 1462501034557|1.124659130|     R8 1m Allw|27784588|EvangD (US) 5th May| 10116126|            Zartan|        LOSER| 57.95|                   7|        false|\n",
      "|           mcm| 1462501034557|1.124659130|     R8 1m Allw|27784588|EvangD (US) 5th May| 10221428|         Old Conch|        LOSER|223.91|                   8|        false|\n",
      "|           mcm| 1462501034557|1.124659130|     R8 1m Allw|27784588|EvangD (US) 5th May| 10150151|Rose Needs A Check|        LOSER| 15.34|                   9|        false|\n",
      "|           mcm| 1462501034557|1.124659130|     R8 1m Allw|27784588|EvangD (US) 5th May| 10237987|           Make Do|        LOSER|  10.5|                  10|        false|\n",
      "|           mcm| 1462501034557|1.124659130|     R8 1m Allw|27784588|EvangD (US) 5th May| 10674850|      Cajun Kitten|        LOSER|   4.0|                  11|        false|\n",
      "|           mcm| 1462501034557|1.124659130|     R8 1m Allw|27784588|EvangD (US) 5th May| 10550376|       Dr. Zipcity|       WINNER| 26.28|                  12|        false|\n",
      "|           mcm| 1462501034557|1.124659130|     R8 1m Allw|27784588|EvangD (US) 5th May| 10849769|     Goforthegreen|        LOSER|  21.0|                  13|        false|\n",
      "|           mcm| 1462501034557|1.124659130|     R8 1m Allw|27784588|EvangD (US) 5th May| 10762541|       Specialeyes|        LOSER|  2.31|                  14|        false|\n",
      "|           mcm| 1462502535129|1.124659133|R9 7f Mdn Claim|27784588|EvangD (US) 5th May| 10175250|           Cabildo|        LOSER| 83.46|                   1|        false|\n",
      "|           mcm| 1462502535129|1.124659133|R9 7f Mdn Claim|27784588|EvangD (US) 5th May| 10592064|      Point Secret|        LOSER|   5.6|                   2|        false|\n",
      "|           mcm| 1462502535129|1.124659133|R9 7f Mdn Claim|27784588|EvangD (US) 5th May|  9111702|       Lip Service|       WINNER|   4.0|                   3|        false|\n",
      "|           mcm| 1462502535129|1.124659133|R9 7f Mdn Claim|27784588|EvangD (US) 5th May| 10154653|         Warlander|        LOSER|   7.0|                   4|        false|\n",
      "|           mcm| 1462502535129|1.124659133|R9 7f Mdn Claim|27784588|EvangD (US) 5th May| 10059993|    Cowboy Classic|        LOSER| 12.07|                   5|        false|\n",
      "|           mcm| 1462502535129|1.124659133|R9 7f Mdn Claim|27784588|EvangD (US) 5th May| 10681528|    Dry Wood Creek|        LOSER|   4.4|                   6|        false|\n",
      "|           mcm| 1462502535129|1.124659133|R9 7f Mdn Claim|27784588|EvangD (US) 5th May| 10804072|              Eppy|        LOSER| 18.52|                   7|        false|\n",
      "|           mcm| 1462502535129|1.124659133|R9 7f Mdn Claim|27784588|EvangD (US) 5th May| 10882521|     Ball And Pins|        LOSER| 14.54|                   8|        false|\n",
      "|           mcm| 1462495994956|1.124659121|    R5 6f Claim|27784588|EvangD (US) 5th May| 10102626|       Philli Four|        LOSER| 14.99|                   1|        false|\n",
      "|           mcm| 1462495994956|1.124659121|    R5 6f Claim|27784588|EvangD (US) 5th May| 10134313|    Lydgate Affair|        LOSER| 38.42|                   2|        false|\n",
      "+--------------+--------------+-----------+---------------+--------+-------------------+---------+------------------+-------------+------+--------------------+-------------+\n",
      "only showing top 20 rows\n",
      "\n"
     ]
    },
    {
     "name": "stderr",
     "output_type": "stream",
     "text": [
      "                                                                                \r"
     ]
    }
   ],
   "source": [
    "runners_fast_wbsp.show()"
   ]
  },
  {
   "cell_type": "code",
   "execution_count": 41,
   "metadata": {},
   "outputs": [],
   "source": [
    "## turning bsp to integer type\n",
    "from pyspark.sql.types import IntegerType"
   ]
  },
  {
   "cell_type": "code",
   "execution_count": 42,
   "metadata": {},
   "outputs": [],
   "source": [
    "runners_fast_wbsp = runners_fast_wbsp.withColumn(\"bsp\", runners_fast_wbsp[\"bsp\"].cast(IntegerType()))"
   ]
  },
  {
   "cell_type": "code",
   "execution_count": 43,
   "metadata": {},
   "outputs": [
    {
     "data": {
      "text/plain": [
       "[('operation_type', 'string'),\n",
       " ('published_time', 'bigint'),\n",
       " ('market_id', 'string'),\n",
       " ('market_name', 'string'),\n",
       " ('event_id', 'string'),\n",
       " ('event_name', 'string'),\n",
       " ('runner_id', 'int'),\n",
       " ('runner_name', 'string'),\n",
       " ('runner_status', 'string'),\n",
       " ('bsp', 'int'),\n",
       " ('runner_sort_priority', 'int'),\n",
       " ('is_fast_horse', 'boolean')]"
      ]
     },
     "execution_count": 43,
     "metadata": {},
     "output_type": "execute_result"
    }
   ],
   "source": [
    "runners_fast_wbsp.dtypes"
   ]
  },
  {
   "cell_type": "code",
   "execution_count": 44,
   "metadata": {},
   "outputs": [],
   "source": [
    "#runners_fast_wbsp.count()"
   ]
  },
  {
   "cell_type": "code",
   "execution_count": 45,
   "metadata": {},
   "outputs": [],
   "source": [
    "#############################"
   ]
  },
  {
   "cell_type": "code",
   "execution_count": null,
   "metadata": {},
   "outputs": [],
   "source": []
  },
  {
   "cell_type": "code",
   "execution_count": 46,
   "metadata": {},
   "outputs": [
    {
     "data": {
      "text/plain": [
       "[('operation_type', 'string'),\n",
       " ('published_time', 'bigint'),\n",
       " ('market_id', 'string'),\n",
       " ('market_name', 'string'),\n",
       " ('event_id', 'string'),\n",
       " ('event_name', 'string'),\n",
       " ('runner_id', 'int'),\n",
       " ('runner_name', 'string'),\n",
       " ('runner_status', 'string'),\n",
       " ('runner_sort_priority', 'int'),\n",
       " ('is_fast_horse', 'boolean')]"
      ]
     },
     "execution_count": 46,
     "metadata": {},
     "output_type": "execute_result"
    }
   ],
   "source": [
    "runners_fast.dtypes"
   ]
  },
  {
   "cell_type": "code",
   "execution_count": 47,
   "metadata": {},
   "outputs": [
    {
     "name": "stderr",
     "output_type": "stream",
     "text": [
      "                                                                                \r"
     ]
    },
    {
     "name": "stdout",
     "output_type": "stream",
     "text": [
      "+--------------+--------------+-----------+---------------+--------+-------------------+---------+------------------+-------------+--------------------+-------------+\n",
      "|operation_type|published_time|  market_id|    market_name|event_id|         event_name|runner_id|       runner_name|runner_status|runner_sort_priority|is_fast_horse|\n",
      "+--------------+--------------+-----------+---------------+--------+-------------------+---------+------------------+-------------+--------------------+-------------+\n",
      "|           mcm| 1462501034557|1.124659130|     R8 1m Allw|27784588|EvangD (US) 5th May| 10575249|       Bitsys Half|        LOSER|                   5|        false|\n",
      "|           mcm| 1462501034557|1.124659130|     R8 1m Allw|27784588|EvangD (US) 5th May| 10288198|         Blue Code|        LOSER|                   6|        false|\n",
      "|           mcm| 1462501034557|1.124659130|     R8 1m Allw|27784588|EvangD (US) 5th May| 10116126|            Zartan|        LOSER|                   7|        false|\n",
      "|           mcm| 1462501034557|1.124659130|     R8 1m Allw|27784588|EvangD (US) 5th May| 10221428|         Old Conch|        LOSER|                   8|        false|\n",
      "|           mcm| 1462501034557|1.124659130|     R8 1m Allw|27784588|EvangD (US) 5th May| 10150151|Rose Needs A Check|        LOSER|                   9|        false|\n",
      "|           mcm| 1462501034557|1.124659130|     R8 1m Allw|27784588|EvangD (US) 5th May| 10237987|           Make Do|        LOSER|                  10|        false|\n",
      "|           mcm| 1462501034557|1.124659130|     R8 1m Allw|27784588|EvangD (US) 5th May| 10674850|      Cajun Kitten|        LOSER|                  11|        false|\n",
      "|           mcm| 1462501034557|1.124659130|     R8 1m Allw|27784588|EvangD (US) 5th May| 10550376|       Dr. Zipcity|       WINNER|                  12|        false|\n",
      "|           mcm| 1462501034557|1.124659130|     R8 1m Allw|27784588|EvangD (US) 5th May| 10849769|     Goforthegreen|        LOSER|                  13|        false|\n",
      "|           mcm| 1462501034557|1.124659130|     R8 1m Allw|27784588|EvangD (US) 5th May| 10762541|       Specialeyes|        LOSER|                  14|        false|\n",
      "|           mcm| 1462502535129|1.124659133|R9 7f Mdn Claim|27784588|EvangD (US) 5th May| 10175250|           Cabildo|        LOSER|                   1|        false|\n",
      "|           mcm| 1462502535129|1.124659133|R9 7f Mdn Claim|27784588|EvangD (US) 5th May| 10592064|      Point Secret|        LOSER|                   2|        false|\n",
      "|           mcm| 1462502535129|1.124659133|R9 7f Mdn Claim|27784588|EvangD (US) 5th May|  9111702|       Lip Service|       WINNER|                   3|        false|\n",
      "|           mcm| 1462502535129|1.124659133|R9 7f Mdn Claim|27784588|EvangD (US) 5th May| 10154653|         Warlander|        LOSER|                   4|        false|\n",
      "|           mcm| 1462502535129|1.124659133|R9 7f Mdn Claim|27784588|EvangD (US) 5th May| 10059993|    Cowboy Classic|        LOSER|                   5|        false|\n",
      "|           mcm| 1462502535129|1.124659133|R9 7f Mdn Claim|27784588|EvangD (US) 5th May| 10681528|    Dry Wood Creek|        LOSER|                   6|        false|\n",
      "|           mcm| 1462502535129|1.124659133|R9 7f Mdn Claim|27784588|EvangD (US) 5th May| 10804072|              Eppy|        LOSER|                   7|        false|\n",
      "|           mcm| 1462502535129|1.124659133|R9 7f Mdn Claim|27784588|EvangD (US) 5th May| 10882521|     Ball And Pins|        LOSER|                   8|        false|\n",
      "|           mcm| 1462495994956|1.124659121|    R5 6f Claim|27784588|EvangD (US) 5th May| 10102626|       Philli Four|        LOSER|                   1|        false|\n",
      "|           mcm| 1462495994956|1.124659121|    R5 6f Claim|27784588|EvangD (US) 5th May| 10134313|    Lydgate Affair|        LOSER|                   2|        false|\n",
      "+--------------+--------------+-----------+---------------+--------+-------------------+---------+------------------+-------------+--------------------+-------------+\n",
      "only showing top 20 rows\n",
      "\n"
     ]
    }
   ],
   "source": [
    "runners_fast.show()"
   ]
  },
  {
   "cell_type": "code",
   "execution_count": 48,
   "metadata": {},
   "outputs": [],
   "source": [
    "runners_fast_only = runners_fast"
   ]
  },
  {
   "cell_type": "code",
   "execution_count": 49,
   "metadata": {},
   "outputs": [],
   "source": [
    "runners_fast_only = runners_fast.filter(runners_fast.is_fast_horse=='true')"
   ]
  },
  {
   "cell_type": "code",
   "execution_count": 50,
   "metadata": {},
   "outputs": [
    {
     "name": "stderr",
     "output_type": "stream",
     "text": [
      "[Stage 8:>                                                          (0 + 1) / 1]\r"
     ]
    },
    {
     "name": "stdout",
     "output_type": "stream",
     "text": [
      "+--------------+--------------+-----------+---------------+--------+-------------------+---------+------------------+-------------+--------------------+-------------+\n",
      "|operation_type|published_time|  market_id|    market_name|event_id|         event_name|runner_id|       runner_name|runner_status|runner_sort_priority|is_fast_horse|\n",
      "+--------------+--------------+-----------+---------------+--------+-------------------+---------+------------------+-------------+--------------------+-------------+\n",
      "|           mcm| 1462495994956|1.124659121|    R5 6f Claim|27784588|EvangD (US) 5th May| 10116132|      Als Wild Cat|        LOSER|                   3|         true|\n",
      "|           mcm| 1462492394718|1.124659115|R3 5f Mdn Claim|27784588|EvangD (US) 5th May| 11133644|       Smart Heath|        LOSER|                   4|         true|\n",
      "|           mcm| 1462494555563|1.124659118|    R4 7f Claim|27784588|EvangD (US) 5th May| 10059691|Run Mardi Gras Run|        LOSER|                   2|         true|\n",
      "|           mcm| 1462494555563|1.124659118|    R4 7f Claim|27784588|EvangD (US) 5th May| 10846299|      Wild Mimosas|        LOSER|                   3|         true|\n",
      "|           mcm| 1462494555563|1.124659118|    R4 7f Claim|27784588|EvangD (US) 5th May| 10150152|     Wildlee Funny|        LOSER|                  11|         true|\n",
      "|           mcm| 1462495994956|1.124659121|    R5 6f Claim|27784588|EvangD (US) 5th May| 10116132|      Als Wild Cat|        LOSER|                   3|         true|\n",
      "|           mcm| 1462497869255|1.124659124|    R6 1m Claim|27784588|EvangD (US) 5th May| 10679436| Silver Rocket Man|        LOSER|                   6|         true|\n",
      "|           mcm| 1462497869255|1.124659124|    R6 1m Claim|27784588|EvangD (US) 5th May|  9991336| Boogiehill Hustle|        LOSER|                   7|         true|\n",
      "|           mcm| 1462499295163|1.124659127|    R7 6f Claim|27784588|EvangD (US) 5th May|  6236917|    Fleeting Image|        LOSER|                   4|         true|\n",
      "|           mcm| 1462492394718|1.124659115|R3 5f Mdn Claim|27784588|EvangD (US) 5th May| 11133644|       Smart Heath|        LOSER|                   4|         true|\n",
      "|           mcm| 1462494555563|1.124659118|    R4 7f Claim|27784588|EvangD (US) 5th May| 10059691|Run Mardi Gras Run|        LOSER|                   2|         true|\n",
      "|           mcm| 1462494555563|1.124659118|    R4 7f Claim|27784588|EvangD (US) 5th May| 10846299|      Wild Mimosas|        LOSER|                   3|         true|\n",
      "|           mcm| 1462494555563|1.124659118|    R4 7f Claim|27784588|EvangD (US) 5th May| 10150152|     Wildlee Funny|        LOSER|                  11|         true|\n",
      "|           mcm| 1462499295163|1.124659127|    R7 6f Claim|27784588|EvangD (US) 5th May|  6236917|    Fleeting Image|        LOSER|                   4|         true|\n",
      "|           mcm| 1462497869255|1.124659124|    R6 1m Claim|27784588|EvangD (US) 5th May| 10679436| Silver Rocket Man|        LOSER|                   6|         true|\n",
      "|           mcm| 1462497869255|1.124659124|    R6 1m Claim|27784588|EvangD (US) 5th May|  9991336| Boogiehill Hustle|        LOSER|                   7|         true|\n",
      "|           mcm| 1462539733136|1.124664265|   2m4f Nov Hrd|27785230|      MrktR 6th May|  8977684| Lettheriverrundry|        LOSER|                   2|         true|\n",
      "|           mcm| 1462539733136|1.124664265|   2m4f Nov Hrd|27785230|      MrktR 6th May|  8079324|          Rushvale|        LOSER|                   6|         true|\n",
      "|           mcm| 1462551124888|1.124664295|         2m NHF|27785230|      MrktR 6th May| 11137663|     Saint Cajetan|        LOSER|                   4|         true|\n",
      "|           mcm| 1462539733136|1.124664265|   2m4f Nov Hrd|27785230|      MrktR 6th May|  8977684| Lettheriverrundry|        LOSER|                   2|         true|\n",
      "+--------------+--------------+-----------+---------------+--------+-------------------+---------+------------------+-------------+--------------------+-------------+\n",
      "only showing top 20 rows\n",
      "\n"
     ]
    },
    {
     "name": "stderr",
     "output_type": "stream",
     "text": [
      "                                                                                \r"
     ]
    }
   ],
   "source": [
    "runners_fast_only.show()"
   ]
  },
  {
   "cell_type": "code",
   "execution_count": 51,
   "metadata": {},
   "outputs": [],
   "source": [
    "runners_fast_only_win = runners_fast_only.filter(runners_fast_only.runner_status=='WINNER')"
   ]
  },
  {
   "cell_type": "code",
   "execution_count": 52,
   "metadata": {},
   "outputs": [
    {
     "name": "stderr",
     "output_type": "stream",
     "text": [
      "[Stage 10:===========================================>              (3 + 1) / 4]\r"
     ]
    },
    {
     "name": "stdout",
     "output_type": "stream",
     "text": [
      "+--------------+--------------+-----------+------------------+--------+--------------------+---------+----------------+-------------+--------------------+-------------+\n",
      "|operation_type|published_time|  market_id|       market_name|event_id|          event_name|runner_id|     runner_name|runner_status|runner_sort_priority|is_fast_horse|\n",
      "+--------------+--------------+-----------+------------------+--------+--------------------+---------+----------------+-------------+--------------------+-------------+\n",
      "|           mcm| 1462549406066|1.124660844|           7f Hcap|27785040|        Ling 6th May|  4776418|       Space War|       WINNER|                   5|         true|\n",
      "|           mcm| 1462549406066|1.124660844|           7f Hcap|27785040|        Ling 6th May|  4776418|       Space War|       WINNER|                   5|         true|\n",
      "|           mcm| 1462487628442|1.124659140|       R2 1m Claim|27784591|   Penn (US) 5th May|  9979505|Wild Imagination|       WINNER|                   2|         true|\n",
      "|           mcm| 1462492820738|1.124659149|  R5 6f Allw Claim|27784591|   Penn (US) 5th May| 10367036|      Chief Lion|       WINNER|                   6|         true|\n",
      "|           mcm| 1462492820738|1.124659149|  R5 6f Allw Claim|27784591|   Penn (US) 5th May| 10367036|      Chief Lion|       WINNER|                   6|         true|\n",
      "|           mcm| 1462487628442|1.124659140|       R2 1m Claim|27784591|   Penn (US) 5th May|  9979505|Wild Imagination|       WINNER|                   2|         true|\n",
      "|           mcm| 1462566534735|1.124689833|         R7 7f Mdn|27786142|  Woodb (US) 6th May| 10398259|     Rocket Plan|       WINNER|                   2|         true|\n",
      "|           mcm| 1462568461762|1.124689836|R8 1m1f Allw Claim|27786142|  Woodb (US) 6th May|  9993030|        Hot Kiss|       WINNER|                   7|         true|\n",
      "|           mcm| 1462566534735|1.124689833|         R7 7f Mdn|27786142|  Woodb (US) 6th May| 10398259|     Rocket Plan|       WINNER|                   2|         true|\n",
      "|           mcm| 1462568461762|1.124689836|R8 1m1f Allw Claim|27786142|  Woodb (US) 6th May|  9993030|        Hot Kiss|       WINNER|                   7|         true|\n",
      "|           mcm| 1462541867200|1.124654246| 1600m 4yo+ Listed|27784315| Chant (FRA) 6th May|  9382369|       2. Sayana|       WINNER|                   7|         true|\n",
      "|           mcm| 1462541867200|1.124654246| 1600m 4yo+ Listed|27784315| Chant (FRA) 6th May|  9382369|       2. Sayana|       WINNER|                   7|         true|\n",
      "|           mcm| 1462544323081|1.124649425|         1m5f Grp3|27783894|       Chest 6th May|  8787781|       Dartmouth|       WINNER|                   3|         true|\n",
      "|           mcm| 1462544323081|1.124649425|         1m5f Grp3|27783894|       Chest 6th May|  8787781|       Dartmouth|       WINNER|                   3|         true|\n",
      "|           mcm| 1462653595524|1.124714894|       R2 6f Claim|27787686|Emerald (US) 7th May| 10097089|    Sophie Dopey|       WINNER|                   3|         true|\n",
      "|           mcm| 1462653595524|1.124714894|       R2 6f Claim|27787686|Emerald (US) 7th May| 10097089|    Sophie Dopey|       WINNER|                   3|         true|\n",
      "|           mcm| 1462672355616|1.124715150|       R7 1m Claim|27787689| EvangD (US) 7th May| 10116145| Moment Of Grace|       WINNER|                   8|         true|\n",
      "|           mcm| 1462672355616|1.124715150|       R7 1m Claim|27787689| EvangD (US) 7th May| 10116145| Moment Of Grace|       WINNER|                   8|         true|\n",
      "|           mcm| 1462715272795|1.124735343| 1600m 4yo+ Listed|27788515|   Col (GER) 8th May| 11149698|     8. Wildpark|       WINNER|                   3|         true|\n",
      "|           mcm| 1462715272795|1.124735343| 1600m 4yo+ Listed|27788515|   Col (GER) 8th May| 11149698|     8. Wildpark|       WINNER|                   3|         true|\n",
      "+--------------+--------------+-----------+------------------+--------+--------------------+---------+----------------+-------------+--------------------+-------------+\n",
      "only showing top 20 rows\n",
      "\n"
     ]
    },
    {
     "name": "stderr",
     "output_type": "stream",
     "text": [
      "                                                                                \r"
     ]
    }
   ],
   "source": [
    "runners_fast_only_win.show()"
   ]
  },
  {
   "cell_type": "code",
   "execution_count": null,
   "metadata": {},
   "outputs": [],
   "source": []
  },
  {
   "cell_type": "code",
   "execution_count": null,
   "metadata": {},
   "outputs": [],
   "source": []
  },
  {
   "cell_type": "code",
   "execution_count": null,
   "metadata": {},
   "outputs": [],
   "source": []
  },
  {
   "cell_type": "code",
   "execution_count": 53,
   "metadata": {},
   "outputs": [],
   "source": [
    "###########################"
   ]
  },
  {
   "cell_type": "code",
   "execution_count": 54,
   "metadata": {},
   "outputs": [],
   "source": [
    "runners_fast_wbsp_sample = runners_fast_wbsp.limit(1000)"
   ]
  },
  {
   "cell_type": "code",
   "execution_count": null,
   "metadata": {},
   "outputs": [
    {
     "name": "stderr",
     "output_type": "stream",
     "text": [
      "[Stage 11:========>                                              (18 + 3) / 114]\r"
     ]
    }
   ],
   "source": [
    "runners_fast_wbsp_sample.show(100)"
   ]
  },
  {
   "cell_type": "markdown",
   "metadata": {},
   "source": [
    "from pyspark.ml.feature import OneHotEncoderEstimator, StringIndexer, VectorAssembler\n",
    "categoricalColumns = ['job', 'marital', 'education', 'default', 'housing', 'loan', 'contact', 'poutcome']\n",
    "stages = []\n",
    "for categoricalCol in categoricalColumns:\n",
    "    stringIndexer = StringIndexer(inputCol = categoricalCol, outputCol = categoricalCol + 'Index')\n",
    "    encoder = OneHotEncoderEstimator(inputCols=[stringIndexer.getOutputCol()], outputCols=[categoricalCol + \"classVec\"])\n",
    "    stages += [stringIndexer, encoder]\n",
    "label_stringIdx = StringIndexer(inputCol = 'deposit', outputCol = 'label')\n",
    "stages += [label_stringIdx]\n",
    "numericCols = ['age', 'balance', 'duration', 'campaign', 'pdays', 'previous']\n",
    "assemblerInputs = [c + \"classVec\" for c in categoricalColumns] + numericCols\n",
    "assembler = VectorAssembler(inputCols=assemblerInputs, outputCol=\"features\")\n",
    "stages += [assembler]"
   ]
  },
  {
   "cell_type": "markdown",
   "metadata": {},
   "source": [
    "[('operation_type', 'string'),\n",
    " ('published_time', 'bigint'),\n",
    " ('market_id', 'string'),\n",
    " ('market_name', 'string'),\n",
    " ('event_id', 'string'),\n",
    " ('event_name', 'string'),\n",
    " ('runner_id', 'int'),\n",
    " ('runner_name', 'string'),\n",
    " ('runner_status', 'string'),\n",
    " ('runner_sort_priority', 'int'),\n",
    " ('is_fast_horse', 'boolean')]"
   ]
  },
  {
   "cell_type": "code",
   "execution_count": null,
   "metadata": {},
   "outputs": [],
   "source": [
    "columns_to_drop = ['operation_type', 'published_time', 'market_id', 'market_name', 'event_id', 'event_name', 'runner_id', 'runner_name', 'runner_sort_priority' ]\n"
   ]
  },
  {
   "cell_type": "code",
   "execution_count": null,
   "metadata": {},
   "outputs": [],
   "source": [
    "runners_fast_wbsp_sample1 = runners_fast_wbsp_sample.drop(*columns_to_drop)"
   ]
  },
  {
   "cell_type": "code",
   "execution_count": null,
   "metadata": {},
   "outputs": [],
   "source": [
    "runners_fast_wbsp_sample1.show()"
   ]
  },
  {
   "cell_type": "code",
   "execution_count": null,
   "metadata": {},
   "outputs": [],
   "source": [
    "### Sum of two or more columns in pyspark\n",
    "\n",
    "from pyspark.sql.functions import col"
   ]
  },
  {
   "cell_type": "code",
   "execution_count": null,
   "metadata": {},
   "outputs": [],
   "source": [
    "runners_fast_wbsp_sample2=runners_fast_wbsp_sample1.withColumn(\"implied_prob\", 1/col(\"bsp\"))"
   ]
  },
  {
   "cell_type": "code",
   "execution_count": null,
   "metadata": {},
   "outputs": [],
   "source": [
    "runners_fast_wbsp_sample2.show(10)"
   ]
  },
  {
   "cell_type": "code",
   "execution_count": null,
   "metadata": {},
   "outputs": [],
   "source": [
    "columns_to_drop = [\"bsp\"]\n",
    "runners_fast_wbsp_sample2 = runners_fast_wbsp_sample2.drop(*columns_to_drop)"
   ]
  },
  {
   "cell_type": "code",
   "execution_count": null,
   "metadata": {},
   "outputs": [],
   "source": [
    "runners_fast_wbsp_sample2.groupby(\"runner_status\").count().show()"
   ]
  },
  {
   "cell_type": "code",
   "execution_count": null,
   "metadata": {},
   "outputs": [],
   "source": [
    "runners_fast_wbsp_sample2.groupby(\"is_fast_horse\").count().show()"
   ]
  },
  {
   "cell_type": "code",
   "execution_count": null,
   "metadata": {},
   "outputs": [],
   "source": []
  },
  {
   "cell_type": "code",
   "execution_count": null,
   "metadata": {},
   "outputs": [],
   "source": [
    "runners_fast_wbsp_sample2.show()"
   ]
  },
  {
   "cell_type": "code",
   "execution_count": null,
   "metadata": {},
   "outputs": [],
   "source": [
    "!pip install numpy"
   ]
  },
  {
   "cell_type": "code",
   "execution_count": null,
   "metadata": {},
   "outputs": [],
   "source": [
    "from pyspark.ml.classification import LogisticRegression"
   ]
  },
  {
   "cell_type": "code",
   "execution_count": null,
   "metadata": {},
   "outputs": [],
   "source": [
    "runners_fast_wbsp_sample2 = runners_fast_wbsp_sample2.withColumn(\"is_fast_horse_num\", runners_fast_wbsp_sample2[\"is_fast_horse\"].cast(IntegerType()))"
   ]
  },
  {
   "cell_type": "code",
   "execution_count": null,
   "metadata": {},
   "outputs": [],
   "source": [
    "runners_fast_wbsp_sample2 = runners_fast_wbsp_sample2.drop(\"is_fast_horse\")"
   ]
  },
  {
   "cell_type": "code",
   "execution_count": null,
   "metadata": {},
   "outputs": [],
   "source": [
    "runners_fast_wbsp_sample2.dtypes"
   ]
  },
  {
   "cell_type": "code",
   "execution_count": null,
   "metadata": {},
   "outputs": [],
   "source": [
    "runners_fast_wbsp_sample2.show(1)"
   ]
  },
  {
   "cell_type": "code",
   "execution_count": null,
   "metadata": {},
   "outputs": [],
   "source": [
    "cols = runners_fast_wbsp_sample2.columns"
   ]
  },
  {
   "cell_type": "code",
   "execution_count": null,
   "metadata": {},
   "outputs": [],
   "source": [
    "from pyspark.ml.feature import OneHotEncoder, StringIndexer, VectorAssembler\n",
    "categoricalColumns = ['is_fast_horse_num']\n",
    "#  is_fast_horse, runner_status, implied_prob\n",
    "stages = []\n",
    "\n",
    "for categoricalCol in categoricalColumns:\n",
    "    stringIndexer = StringIndexer(inputCol = categoricalCol, outputCol = categoricalCol + 'Index')\n",
    "    encoder = OneHotEncoder(inputCols=[stringIndexer.getOutputCol()], outputCols=[categoricalCol + \"classVec\"])\n",
    "    stages += [stringIndexer, encoder]\n",
    "\n",
    "label_stringIdx = StringIndexer(inputCol = 'runner_status', outputCol = 'label')\n",
    "\n",
    "stages += [label_stringIdx]\n",
    "\n",
    "numericCols = ['implied_prob']\n",
    "\n",
    "assemblerInputs = [c + \"classVec\" for c in categoricalColumns] + numericCols\n",
    "\n",
    "assembler = VectorAssembler(inputCols=assemblerInputs, outputCol=\"features\")\n",
    "\n",
    "stages += [assembler]"
   ]
  },
  {
   "cell_type": "code",
   "execution_count": null,
   "metadata": {},
   "outputs": [],
   "source": [
    "# pipline\n",
    "from pyspark.ml import Pipeline\n",
    "pipeline = Pipeline(stages = stages)\n",
    "pipelineModel = pipeline.fit(runners_fast_wbsp_sample2)\n",
    "runners_fast_wbsp_sample2 = pipelineModel.transform(runners_fast_wbsp_sample2)\n"
   ]
  },
  {
   "cell_type": "code",
   "execution_count": null,
   "metadata": {},
   "outputs": [],
   "source": [
    "selectedCols = ['label', 'features'] + cols\n",
    "runners_fast_wbsp_sample2 = runners_fast_wbsp_sample2.select(selectedCols)\n",
    "runners_fast_wbsp_sample2.printSchema()"
   ]
  },
  {
   "cell_type": "code",
   "execution_count": null,
   "metadata": {},
   "outputs": [],
   "source": [
    "runners_fast_wbsp_sample2.head()"
   ]
  },
  {
   "cell_type": "code",
   "execution_count": null,
   "metadata": {},
   "outputs": [],
   "source": [
    "!pip install pandas"
   ]
  },
  {
   "cell_type": "code",
   "execution_count": null,
   "metadata": {},
   "outputs": [],
   "source": [
    "import pandas as pd"
   ]
  },
  {
   "cell_type": "code",
   "execution_count": null,
   "metadata": {},
   "outputs": [],
   "source": [
    "runners_fast_wbsp_sample2.dtypes"
   ]
  },
  {
   "cell_type": "code",
   "execution_count": null,
   "metadata": {},
   "outputs": [],
   "source": [
    "pd.DataFrame(runners_fast_wbsp_sample2.take(5), columns=runners_fast_wbsp_sample2.columns).transpose()"
   ]
  },
  {
   "cell_type": "code",
   "execution_count": null,
   "metadata": {},
   "outputs": [],
   "source": [
    "train, test = runners_fast_wbsp_sample2.randomSplit([0.7, 0.3], seed = 2018)\n",
    "print(\"Training Dataset Count: \" + str(train.count()))\n",
    "print(\"Test Dataset Count: \" + str(test.count()))"
   ]
  },
  {
   "cell_type": "code",
   "execution_count": null,
   "metadata": {},
   "outputs": [],
   "source": [
    "from pyspark.ml.classification import LogisticRegression\n",
    "lr = LogisticRegression(featuresCol = 'features', labelCol = 'label', maxIter=10)\n",
    "lrModel = lr.fit(train)"
   ]
  },
  {
   "cell_type": "code",
   "execution_count": null,
   "metadata": {},
   "outputs": [],
   "source": [
    "!pip install matplotlib"
   ]
  },
  {
   "cell_type": "code",
   "execution_count": null,
   "metadata": {},
   "outputs": [],
   "source": [
    "import matplotlib.pyplot as plt\n",
    "import numpy as np\n",
    "beta = np.sort(lrModel.coefficients)\n",
    "plt.plot(beta)\n",
    "plt.ylabel('Beta Coefficients')\n",
    "plt.show()"
   ]
  },
  {
   "cell_type": "code",
   "execution_count": null,
   "metadata": {},
   "outputs": [],
   "source": [
    "trainingSummary = lrModel.summary\n",
    "roc = trainingSummary.roc.toPandas()\n",
    "plt.plot(roc['FPR'],roc['TPR'])\n",
    "plt.ylabel('False Positive Rate')\n",
    "plt.xlabel('True Positive Rate')\n",
    "plt.title('ROC Curve')\n",
    "plt.show()\n",
    "print('Training set areaUnderROC: ' + str(trainingSummary.areaUnderROC))"
   ]
  },
  {
   "cell_type": "code",
   "execution_count": null,
   "metadata": {},
   "outputs": [],
   "source": [
    "pr = trainingSummary.pr.toPandas()\n",
    "plt.plot(pr['recall'],pr['precision'])\n",
    "plt.ylabel('Precision')\n",
    "plt.xlabel('Recall')\n",
    "plt.show()"
   ]
  },
  {
   "cell_type": "code",
   "execution_count": null,
   "metadata": {},
   "outputs": [],
   "source": [
    "predictions = lrModel.transform(test)\n",
    "predictions.select('is_fast_horse_num', 'implied_prob').show(10)"
   ]
  },
  {
   "cell_type": "code",
   "execution_count": null,
   "metadata": {},
   "outputs": [],
   "source": [
    "from pyspark.ml.evaluation import BinaryClassificationEvaluator\n",
    "evaluator = BinaryClassificationEvaluator()\n",
    "print('Test Area Under ROC', evaluator.evaluate(predictions))"
   ]
  },
  {
   "cell_type": "code",
   "execution_count": null,
   "metadata": {},
   "outputs": [],
   "source": [
    "lrModel.coefficients"
   ]
  },
  {
   "cell_type": "markdown",
   "metadata": {},
   "source": [
    "the bigger the coefficient the more predictive power it has\n",
    "\n",
    "Winner = 1, Loser = 0\n",
    "Winner = X*is_fast + Y*implied_prob\n",
    "\n",
    "\n",
    "the bigger the coefficient the more predictive power it has\n",
    "\n",
    "is_fast=0, is_not_fast=1\n",
    "Winner = 1, Loser = 0\n",
    "Winner = -0.2172*is_fast + 5.2113*implied_prob"
   ]
  },
  {
   "cell_type": "code",
   "execution_count": null,
   "metadata": {},
   "outputs": [],
   "source": [
    "print(\"Multinomial coefficients: \" + str(lrModel.coefficientMatrix))\n"
   ]
  },
  {
   "cell_type": "code",
   "execution_count": null,
   "metadata": {},
   "outputs": [],
   "source": [
    "print(\"Multinomial intercepts: \" + str(lrModel.interceptVector))"
   ]
  },
  {
   "cell_type": "code",
   "execution_count": null,
   "metadata": {},
   "outputs": [],
   "source": [
    "lrModel.summary()"
   ]
  },
  {
   "cell_type": "code",
   "execution_count": null,
   "metadata": {},
   "outputs": [],
   "source": []
  },
  {
   "cell_type": "code",
   "execution_count": null,
   "metadata": {},
   "outputs": [],
   "source": []
  },
  {
   "cell_type": "code",
   "execution_count": null,
   "metadata": {},
   "outputs": [],
   "source": [
    "### gold cup 2016"
   ]
  },
  {
   "cell_type": "code",
   "execution_count": 24,
   "metadata": {},
   "outputs": [],
   "source": [
    "gold_cup = market_definitions.filter(market_definitions[\"event_name\"]==\"Chel 18th Mar\")"
   ]
  },
  {
   "cell_type": "code",
   "execution_count": 25,
   "metadata": {},
   "outputs": [
    {
     "name": "stderr",
     "output_type": "stream",
     "text": [
      "[Stage 13:=======================================================>(88 + 1) / 89]\r"
     ]
    },
    {
     "name": "stdout",
     "output_type": "stream",
     "text": [
      "+--------------+--------------+--------------+---------+---+---------+------------+----------+--------------+--------+------------+--------------+----------------+--------+----------+-------------+-------+----------------+-----------+-----------+------------------------+-----------------+---------+-------------------+----------------+------------+------+------------+--------+--------------------+-------+-----------+----------+-------+\n",
      "|operation_type|sequence_token|published_time|market_id| rc|bet_delay|betting_type|bsp_market|bsp_reconciled|complete|country_code|cross_matching|discount_allowed|event_id|event_name|event_type_id|in_play|market_base_rate|market_time|market_type|number_of_active_runners|number_of_winners|open_date|persistence_enabled|runners_voidable|settled_time|status|suspend_time|timezone|turn_in_play_enabled|version|market_name|regulators|runners|\n",
      "+--------------+--------------+--------------+---------+---+---------+------------+----------+--------------+--------+------------+--------------+----------------+--------+----------+-------------+-------+----------------+-----------+-----------+------------------------+-----------------+---------+-------------------+----------------+------------+------+------------+--------+--------------------+-------+-----------+----------+-------+\n",
      "+--------------+--------------+--------------+---------+---+---------+------------+----------+--------------+--------+------------+--------------+----------------+--------+----------+-------------+-------+----------------+-----------+-----------+------------------------+-----------------+---------+-------------------+----------------+------------+------+------------+--------+--------------------+-------+-----------+----------+-------+\n",
      "\n"
     ]
    },
    {
     "name": "stderr",
     "output_type": "stream",
     "text": [
      "                                                                                \r"
     ]
    }
   ],
   "source": [
    "gold_cup.show()"
   ]
  },
  {
   "cell_type": "code",
   "execution_count": null,
   "metadata": {},
   "outputs": [],
   "source": [
    "# connector is called 'mysql-connector-python'\n",
    "# Google it and what you want to do\n",
    "import mysql.connector\n",
    "\n",
    "mydb = mysql.connector.connect(\n",
    "  host=\"mysql\",\n",
    "  user=\"ssbd\",\n",
    "  password=\"pass\",\n",
    "  database='analysis_db'\n",
    ")\n",
    "\n",
    "print(mydb)"
   ]
  },
  {
   "cell_type": "code",
   "execution_count": null,
   "metadata": {},
   "outputs": [],
   "source": [
    "# https://stackoverflow.com/questions/44893565/get-list-of-mysql-databases-with-python\n",
    "cursor = mydb.cursor()\n",
    "databases = (\"show databases\")\n",
    "cursor.execute(databases)\n",
    "for (databases) in cursor:\n",
    "     print (databases[0])"
   ]
  },
  {
   "cell_type": "code",
   "execution_count": null,
   "metadata": {},
   "outputs": [],
   "source": [
    "#https://www.geeksforgeeks.org/how-to-show-all-tables-in-mysql-using-python/\n",
    "mycursor = mydb.cursor()\n",
    "mycursor.execute(\"Show tables;\")\n",
    "myresult = mycursor.fetchall()\n",
    " \n",
    "for x in myresult:\n",
    "    print(x)"
   ]
  }
 ],
 "metadata": {
  "kernelspec": {
   "display_name": "python37",
   "language": "python",
   "name": "python37"
  },
  "language_info": {
   "codemirror_mode": {
    "name": "ipython",
    "version": 3
   },
   "file_extension": ".py",
   "mimetype": "text/x-python",
   "name": "python",
   "nbconvert_exporter": "python",
   "pygments_lexer": "ipython3",
   "version": "3.7.7"
  }
 },
 "nbformat": 4,
 "nbformat_minor": 4
}
