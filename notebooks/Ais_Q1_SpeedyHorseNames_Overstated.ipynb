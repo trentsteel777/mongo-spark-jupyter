{
 "cells": [
  {
   "cell_type": "code",
   "execution_count": 1,
   "metadata": {},
   "outputs": [
    {
     "name": "stdout",
     "output_type": "stream",
     "text": [
      "Python 3.7.7\n"
     ]
    }
   ],
   "source": [
    "!python --version"
   ]
  },
  {
   "cell_type": "code",
   "execution_count": 2,
   "metadata": {},
   "outputs": [],
   "source": [
    "#https://stackoverflow.com/questions/53457975/pyspark-udf-function-error-in-lambda-function\n",
    "import os\n",
    "os.environ['OBJC_DISABLE_INITIALIZE_FORK_SAFETY'] = 'YES'"
   ]
  },
  {
   "cell_type": "code",
   "execution_count": 3,
   "metadata": {},
   "outputs": [
    {
     "name": "stderr",
     "output_type": "stream",
     "text": [
      "WARNING: An illegal reflective access operation has occurred\n",
      "WARNING: Illegal reflective access by org.apache.spark.unsafe.Platform (file:/usr/local/spark-3.0.0-bin-hadoop3.2/jars/spark-unsafe_2.12-3.0.0.jar) to constructor java.nio.DirectByteBuffer(long,int)\n",
      "WARNING: Please consider reporting this to the maintainers of org.apache.spark.unsafe.Platform\n",
      "WARNING: Use --illegal-access=warn to enable warnings of further illegal reflective access operations\n",
      "WARNING: All illegal access operations will be denied in a future release\n",
      "Ivy Default Cache set to: /home/jovyan/.ivy2/cache\n",
      "The jars for the packages stored in: /home/jovyan/.ivy2/jars\n",
      ":: loading settings :: url = jar:file:/usr/local/spark-3.0.0-bin-hadoop3.2/jars/ivy-2.4.0.jar!/org/apache/ivy/core/settings/ivysettings.xml\n",
      "org.mongodb.spark#mongo-spark-connector_2.12 added as a dependency\n",
      ":: resolving dependencies :: org.apache.spark#spark-submit-parent-1bff42d5-8a47-4c02-8b0e-91cfdb3cb734;1.0\n",
      "\tconfs: [default]\n",
      "\tfound org.mongodb.spark#mongo-spark-connector_2.12;3.0.0 in central\n",
      "\tfound org.mongodb#mongodb-driver-sync;4.0.5 in central\n",
      "\tfound org.mongodb#bson;4.0.5 in central\n",
      "\tfound org.mongodb#mongodb-driver-core;4.0.5 in central\n",
      ":: resolution report :: resolve 285ms :: artifacts dl 9ms\n",
      "\t:: modules in use:\n",
      "\torg.mongodb#bson;4.0.5 from central in [default]\n",
      "\torg.mongodb#mongodb-driver-core;4.0.5 from central in [default]\n",
      "\torg.mongodb#mongodb-driver-sync;4.0.5 from central in [default]\n",
      "\torg.mongodb.spark#mongo-spark-connector_2.12;3.0.0 from central in [default]\n",
      "\t---------------------------------------------------------------------\n",
      "\t|                  |            modules            ||   artifacts   |\n",
      "\t|       conf       | number| search|dwnlded|evicted|| number|dwnlded|\n",
      "\t---------------------------------------------------------------------\n",
      "\t|      default     |   4   |   0   |   0   |   0   ||   4   |   0   |\n",
      "\t---------------------------------------------------------------------\n",
      ":: retrieving :: org.apache.spark#spark-submit-parent-1bff42d5-8a47-4c02-8b0e-91cfdb3cb734\n",
      "\tconfs: [default]\n",
      "\t0 artifacts copied, 4 already retrieved (0kB/9ms)\n",
      "21/12/12 00:17:58 WARN NativeCodeLoader: Unable to load native-hadoop library for your platform... using builtin-java classes where applicable\n",
      "Using Spark's default log4j profile: org/apache/spark/log4j-defaults.properties\n",
      "Setting default log level to \"WARN\".\n",
      "To adjust logging level use sc.setLogLevel(newLevel). For SparkR, use setLogLevel(newLevel).\n"
     ]
    }
   ],
   "source": [
    "from pyspark.sql import SparkSession\n",
    "# https://spark.apache.org/docs/latest/job-scheduling.html\n",
    "spark = SparkSession.\\\n",
    "        builder.\\\n",
    "        appName(\"pyspark-notebook2-ais\").\\\n",
    "        master(\"spark://spark-master:7077\").\\\n",
    "        config(\"spark.executor.memory\", \"7g\").\\\n",
    "        config(\"spark.cores.max\", \"3\").\\\n",
    "        config(\"spark.executor.instances\", \"1\").\\\n",
    "        config(\"spark.executor.cores\", \"3\").\\\n",
    "        config(\"spark.mongodb.input.uri\",\"mongodb://mongo1:27017,mongo2:27018,mongo3:27019/database.horses_collection?replicaSet=rs0\").\\\n",
    "        config(\"spark.mongodb.output.uri\",\"mongodb://mongo1:27017,mongo2:27018,mongo3:27019/database.horses_collection?replicaSet=rs0\").\\\n",
    "        config(\"spark.jars.packages\", \"org.mongodb.spark:mongo-spark-connector_2.12:3.0.0\").\\\n",
    "        getOrCreate()\n"
   ]
  },
  {
   "cell_type": "code",
   "execution_count": 4,
   "metadata": {},
   "outputs": [
    {
     "data": {
      "text/plain": [
       "'default'"
      ]
     },
     "execution_count": 4,
     "metadata": {},
     "output_type": "execute_result"
    }
   ],
   "source": [
    "spark.catalog.currentDatabase()"
   ]
  },
  {
   "cell_type": "code",
   "execution_count": 5,
   "metadata": {},
   "outputs": [
    {
     "name": "stderr",
     "output_type": "stream",
     "text": [
      "21/12/12 00:18:22 WARN MongoInferSchema: Field 'bsp' contains conflicting types converting to StringType\n",
      "21/12/12 00:18:24 WARN package: Truncated the string representation of a plan since it was too large. This behavior can be adjusted by setting 'spark.sql.debug.maxToStringFields'.\n"
     ]
    }
   ],
   "source": [
    "#reading dataframes from MongoDB\n",
    "\n",
    "# sampleSize - https://stackoverflow.com/a/56255303\n",
    "df = spark.read.format(\"mongo\").option('sampleSize', 50000).load()\n",
    "df.createOrReplaceTempView(\"mongo\")\n"
   ]
  },
  {
   "cell_type": "code",
   "execution_count": 6,
   "metadata": {},
   "outputs": [
    {
     "name": "stdout",
     "output_type": "stream",
     "text": [
      "root\n",
      " |-- _id: struct (nullable = true)\n",
      " |    |-- oid: string (nullable = true)\n",
      " |-- clk: string (nullable = true)\n",
      " |-- mc: array (nullable = true)\n",
      " |    |-- element: struct (containsNull = true)\n",
      " |    |    |-- id: string (nullable = true)\n",
      " |    |    |-- marketDefinition: struct (nullable = true)\n",
      " |    |    |    |-- betDelay: integer (nullable = true)\n",
      " |    |    |    |-- bettingType: string (nullable = true)\n",
      " |    |    |    |-- bspMarket: boolean (nullable = true)\n",
      " |    |    |    |-- bspReconciled: boolean (nullable = true)\n",
      " |    |    |    |-- complete: boolean (nullable = true)\n",
      " |    |    |    |-- countryCode: string (nullable = true)\n",
      " |    |    |    |-- crossMatching: boolean (nullable = true)\n",
      " |    |    |    |-- discountAllowed: boolean (nullable = true)\n",
      " |    |    |    |-- eachWayDivisor: double (nullable = true)\n",
      " |    |    |    |-- eventId: string (nullable = true)\n",
      " |    |    |    |-- eventName: string (nullable = true)\n",
      " |    |    |    |-- eventTypeId: string (nullable = true)\n",
      " |    |    |    |-- inPlay: boolean (nullable = true)\n",
      " |    |    |    |-- marketBaseRate: double (nullable = true)\n",
      " |    |    |    |-- marketTime: string (nullable = true)\n",
      " |    |    |    |-- marketType: string (nullable = true)\n",
      " |    |    |    |-- name: string (nullable = true)\n",
      " |    |    |    |-- numberOfActiveRunners: integer (nullable = true)\n",
      " |    |    |    |-- numberOfWinners: integer (nullable = true)\n",
      " |    |    |    |-- openDate: string (nullable = true)\n",
      " |    |    |    |-- persistenceEnabled: boolean (nullable = true)\n",
      " |    |    |    |-- regulators: array (nullable = true)\n",
      " |    |    |    |    |-- element: string (containsNull = true)\n",
      " |    |    |    |-- runners: array (nullable = true)\n",
      " |    |    |    |    |-- element: struct (containsNull = true)\n",
      " |    |    |    |    |    |-- adjustmentFactor: double (nullable = true)\n",
      " |    |    |    |    |    |-- bsp: string (nullable = true)\n",
      " |    |    |    |    |    |-- id: integer (nullable = true)\n",
      " |    |    |    |    |    |-- name: string (nullable = true)\n",
      " |    |    |    |    |    |-- removalDate: string (nullable = true)\n",
      " |    |    |    |    |    |-- sortPriority: integer (nullable = true)\n",
      " |    |    |    |    |    |-- status: string (nullable = true)\n",
      " |    |    |    |-- runnersVoidable: boolean (nullable = true)\n",
      " |    |    |    |-- settledTime: string (nullable = true)\n",
      " |    |    |    |-- status: string (nullable = true)\n",
      " |    |    |    |-- suspendTime: string (nullable = true)\n",
      " |    |    |    |-- timezone: string (nullable = true)\n",
      " |    |    |    |-- turnInPlayEnabled: boolean (nullable = true)\n",
      " |    |    |    |-- venue: string (nullable = true)\n",
      " |    |    |    |-- version: integer (nullable = true)\n",
      " |    |    |-- rc: array (nullable = true)\n",
      " |    |    |    |-- element: struct (containsNull = true)\n",
      " |    |    |    |    |-- ltp: double (nullable = true)\n",
      " |    |    |    |    |-- id: integer (nullable = true)\n",
      " |-- op: string (nullable = true)\n",
      " |-- pt: long (nullable = true)\n",
      "\n"
     ]
    }
   ],
   "source": [
    "df.printSchema()"
   ]
  },
  {
   "cell_type": "code",
   "execution_count": 7,
   "metadata": {},
   "outputs": [
    {
     "name": "stderr",
     "output_type": "stream",
     "text": [
      "[Stage 1:>                                                          (0 + 1) / 1]\r"
     ]
    },
    {
     "name": "stdout",
     "output_type": "stream",
     "text": [
      "+--------------------+----------+--------------------+---+-------------+\n",
      "|                 _id|       clk|                  mc| op|           pt|\n",
      "+--------------------+----------+--------------------+---+-------------+\n",
      "|[619e9dd8677066b2...|2480088678|[[1.124699287, [0...|mcm|1462537993283|\n",
      "|[619e9dd8677066b2...|2480249142|[[1.124699287, [0...|mcm|1462540135101|\n",
      "|[619e9dd8677066b2...|2481803835|[[1.124699287, [0...|mcm|1462555384075|\n",
      "|[619e9dd8677066b2...|2481994285|[[1.124699287,, [...|mcm|1462557371191|\n",
      "|[619e9dd8677066b2...|2482055516|[[1.124699287,, [...|mcm|1462557910955|\n",
      "|[619e9dd8677066b2...|2482072939|[[1.124699287,, [...|mcm|1462558089056|\n",
      "|[619e9dd8677066b2...|2482078964|[[1.124699287,, [...|mcm|1462558150717|\n",
      "|[619e9dd8677066b2...|2482083965|[[1.124699287, [0...|mcm|1462558199155|\n",
      "|[619e9dd8677066b2...|2482177634|[[1.124699287, [0...|mcm|1462559078531|\n",
      "|[619e9dd8677066b2...|2480088678|[[1.124699285, [0...|mcm|1462537993283|\n",
      "|[619e9dd8677066b2...|2480212422|[[1.124699285, [0...|mcm|1462539800697|\n",
      "|[619e9dd8677066b2...|2480409166|[[1.124699285, [0...|mcm|1462541919372|\n",
      "|[619e9dd8677066b2...|2481526806|[[1.124699285,, [...|mcm|1462552870198|\n",
      "|[619e9dd8677066b2...|2481622628|[[1.124699285, [0...|mcm|1462553643217|\n",
      "|[619e9dd8677066b2...|2481628092|[[1.124699285, [0...|mcm|1462553705002|\n",
      "|[619e9dd8677066b2...|2481633423|[[1.124699285, [0...|mcm|1462553765802|\n",
      "|[619e9dd8677066b2...|2481879973|[[1.124699285, [0...|mcm|1462556181157|\n",
      "|[619e9dd8677066b2...|2481938295|[[1.124699285, [0...|mcm|1462556825096|\n",
      "|[619e9dd8677066b2...|2480088678|[[1.124699278, [0...|mcm|1462537993283|\n",
      "|[619e9dd8677066b2...|2480180647|[[1.124699278, [0...|mcm|1462539270638|\n",
      "+--------------------+----------+--------------------+---+-------------+\n",
      "only showing top 20 rows\n",
      "\n"
     ]
    },
    {
     "name": "stderr",
     "output_type": "stream",
     "text": [
      "                                                                                \r"
     ]
    }
   ],
   "source": [
    "df.show()"
   ]
  },
  {
   "cell_type": "code",
   "execution_count": 8,
   "metadata": {},
   "outputs": [],
   "source": [
    "#spark.sql(\"select * from mongo array_contains(root.mc, array('CLOSED'))\").show()\n",
    "from pyspark.sql.functions import explode   # Explodes lists into rows."
   ]
  },
  {
   "cell_type": "code",
   "execution_count": 9,
   "metadata": {},
   "outputs": [],
   "source": [
    "mc_exploded = df.select('*', explode(df.mc).alias('mc_row'))"
   ]
  },
  {
   "cell_type": "code",
   "execution_count": 10,
   "metadata": {},
   "outputs": [],
   "source": [
    "md_only = mc_exploded.filter(mc_exploded.mc_row.marketDefinition.isNotNull())"
   ]
  },
  {
   "cell_type": "code",
   "execution_count": 11,
   "metadata": {},
   "outputs": [
    {
     "name": "stderr",
     "output_type": "stream",
     "text": [
      "[Stage 2:>                                                          (0 + 1) / 1]\r"
     ]
    },
    {
     "name": "stdout",
     "output_type": "stream",
     "text": [
      "+--------------------+----------+--------------------+---+-------------+--------------------+\n",
      "|                 _id|       clk|                  mc| op|           pt|              mc_row|\n",
      "+--------------------+----------+--------------------+---+-------------+--------------------+\n",
      "|[619e9dd8677066b2...|2480088678|[[1.124699287, [0...|mcm|1462537993283|[1.124699287, [0,...|\n",
      "|[619e9dd8677066b2...|2480249142|[[1.124699287, [0...|mcm|1462540135101|[1.124699287, [0,...|\n",
      "|[619e9dd8677066b2...|2481803835|[[1.124699287, [0...|mcm|1462555384075|[1.124699287, [0,...|\n",
      "|[619e9dd8677066b2...|2482083965|[[1.124699287, [0...|mcm|1462558199155|[1.124699287, [0,...|\n",
      "|[619e9dd8677066b2...|2482177634|[[1.124699287, [0...|mcm|1462559078531|[1.124699287, [0,...|\n",
      "|[619e9dd8677066b2...|2480088678|[[1.124699285, [0...|mcm|1462537993283|[1.124699285, [0,...|\n",
      "|[619e9dd8677066b2...|2480212422|[[1.124699285, [0...|mcm|1462539800697|[1.124699285, [0,...|\n",
      "|[619e9dd8677066b2...|2480409166|[[1.124699285, [0...|mcm|1462541919372|[1.124699285, [0,...|\n",
      "|[619e9dd8677066b2...|2481622628|[[1.124699285, [0...|mcm|1462553643217|[1.124699285, [0,...|\n",
      "|[619e9dd8677066b2...|2481628092|[[1.124699285, [0...|mcm|1462553705002|[1.124699285, [0,...|\n",
      "|[619e9dd8677066b2...|2481633423|[[1.124699285, [0...|mcm|1462553765802|[1.124699285, [0,...|\n",
      "|[619e9dd8677066b2...|2481879973|[[1.124699285, [0...|mcm|1462556181157|[1.124699285, [0,...|\n",
      "|[619e9dd8677066b2...|2481938295|[[1.124699285, [0...|mcm|1462556825096|[1.124699285, [0,...|\n",
      "|[619e9dd8677066b2...|2480088678|[[1.124699278, [0...|mcm|1462537993283|[1.124699278, [0,...|\n",
      "|[619e9dd8677066b2...|2480180647|[[1.124699278, [0...|mcm|1462539270638|[1.124699278, [0,...|\n",
      "|[619e9dd8677066b2...|2481407254|[[1.124699278, [0...|mcm|1462551952407|[1.124699278, [0,...|\n",
      "|[619e9dd8677066b2...|2481698341|[[1.124699278, [0...|mcm|1462554327642|[1.124699278, [0,...|\n",
      "|[619e9dd8677066b2...|2481740307|[[1.124699278, [0...|mcm|1462554768806|[1.124699278, [0,...|\n",
      "|[619e9dd8677066b2...|2480088678|[[1.124699287, [0...|mcm|1462537993283|[1.124699287, [0,...|\n",
      "|[619e9dd8677066b2...|2480088678|[[1.124699287, [0...|mcm|1462537993283|[1.124699278, [0,...|\n",
      "+--------------------+----------+--------------------+---+-------------+--------------------+\n",
      "only showing top 20 rows\n",
      "\n"
     ]
    },
    {
     "name": "stderr",
     "output_type": "stream",
     "text": [
      "                                                                                \r"
     ]
    }
   ],
   "source": [
    "md_only.show()"
   ]
  },
  {
   "cell_type": "code",
   "execution_count": 11,
   "metadata": {},
   "outputs": [],
   "source": [
    "# Explode the marketDefinition array.\n",
    "market_definitions = md_only.selectExpr('op AS operation_type',\n",
    "                                        'clk AS sequence_token',\n",
    "                                        'pt AS published_time',\n",
    "                                        'mc_row.id AS market_id',\n",
    "                                        'mc_row.rc AS rc',\n",
    "                                        'mc_row.marketDefinition.betDelay AS bet_delay',\n",
    "                                        'mc_row.marketDefinition.bettingType AS betting_type',\n",
    "                                        'mc_row.marketDefinition.bspMarket AS bsp_market',\n",
    "                                        'mc_row.marketDefinition.bspReconciled AS bsp_reconciled',\n",
    "                                        'mc_row.marketDefinition.complete AS complete',\n",
    "                                        'mc_row.marketDefinition.countryCode AS country_code',\n",
    "                                        'mc_row.marketDefinition.crossMatching AS cross_matching',\n",
    "                                        'mc_row.marketDefinition.discountAllowed AS discount_allowed',\n",
    "                                        'mc_row.marketDefinition.eventId AS event_id',\n",
    "                                        'mc_row.marketDefinition.eventName AS event_name',\n",
    "                                        'mc_row.marketDefinition.eventTypeId AS event_type_id',\n",
    "                                        'mc_row.marketDefinition.inPlay AS in_play',\n",
    "                                        'mc_row.marketDefinition.marketBaseRate AS market_base_rate',\n",
    "                                        'mc_row.marketDefinition.marketTime AS market_time',\n",
    "                                        'mc_row.marketDefinition.marketType AS market_type',\n",
    "                                        'mc_row.marketDefinition.numberOfActiveRunners AS number_of_active_runners',\n",
    "                                        'mc_row.marketDefinition.numberOfWinners AS number_of_winners',\n",
    "                                        'mc_row.marketDefinition.openDate AS open_date',\n",
    "                                        'mc_row.marketDefinition.persistenceEnabled AS persistence_enabled',\n",
    "                                        'mc_row.marketDefinition.runnersVoidable AS runners_voidable',\n",
    "                                        'mc_row.marketDefinition.settledTime AS settled_time',\n",
    "                                        'mc_row.marketDefinition.status AS status',\n",
    "                                        'mc_row.marketDefinition.suspendTime AS suspend_time',\n",
    "                                        'mc_row.marketDefinition.timezone AS timezone',\n",
    "                                        'mc_row.marketDefinition.turnInPlayEnabled AS turn_in_play_enabled',\n",
    "                                        'mc_row.marketDefinition.version AS version',\n",
    "                                        'mc_row.marketDefinition.name AS market_name',\n",
    "                                        'mc_row.marketDefinition.regulators AS regulators',\n",
    "                                        'mc_row.marketDefinition.runners AS runners')"
   ]
  },
  {
   "cell_type": "code",
   "execution_count": 12,
   "metadata": {},
   "outputs": [],
   "source": [
    "market_definitions = market_definitions.filter(market_definitions[\"status\"]==\"CLOSED\")"
   ]
  },
  {
   "cell_type": "code",
   "execution_count": 13,
   "metadata": {},
   "outputs": [],
   "source": [
    "market_definitions = market_definitions.filter(market_definitions[\"market_type\"]==\"WIN\")"
   ]
  },
  {
   "cell_type": "code",
   "execution_count": 17,
   "metadata": {},
   "outputs": [],
   "source": [
    "runners_only = market_definitions.filter(market_definitions.runners.isNotNull())"
   ]
  },
  {
   "cell_type": "code",
   "execution_count": 18,
   "metadata": {},
   "outputs": [],
   "source": [
    "# Explode the Runners array.\n",
    "runners_exploded = runners_only.select(market_definitions.operation_type,\n",
    "                                       market_definitions.published_time,\n",
    "                                       market_definitions.market_id,\n",
    "                                       market_definitions.market_name,\n",
    "                                       market_definitions.event_id,\n",
    "                                       market_definitions.event_name,\n",
    "                                       explode(market_definitions.runners).alias('runner_row'))"
   ]
  },
  {
   "cell_type": "code",
   "execution_count": null,
   "metadata": {},
   "outputs": [],
   "source": []
  },
  {
   "cell_type": "code",
   "execution_count": 19,
   "metadata": {},
   "outputs": [],
   "source": [
    "#############################\n",
    "##### new dataset (just added BSP to the runners dataframe created above)\n",
    "runners_exploded_wbsp = runners_only.select(market_definitions.operation_type,\n",
    "                                       market_definitions.published_time,\n",
    "                                       market_definitions.market_id,\n",
    "                                       market_definitions.market_name,\n",
    "                                       market_definitions.event_id,\n",
    "                                       market_definitions.event_name,\n",
    "                                       explode(market_definitions.runners).alias('runner_row'))"
   ]
  },
  {
   "cell_type": "code",
   "execution_count": 20,
   "metadata": {},
   "outputs": [],
   "source": [
    "##### new dataset (just added BSP to the runners dataframe created above)\n",
    "runners_wbsp = runners_exploded_wbsp.selectExpr('operation_type',\n",
    "                                      'published_time',\n",
    "                                      'market_id',\n",
    "                                      'market_name',\n",
    "                                      'event_id',\n",
    "                                      'event_name',\n",
    "                                      'runner_row.id AS runner_id',\n",
    "                                      'runner_row.name AS runner_name',\n",
    "                                      'runner_row.status AS runner_status',\n",
    "                                      'runner_row.bsp AS bsp',\n",
    "                                      'runner_row.sortPriority AS runner_sort_priority')"
   ]
  },
  {
   "cell_type": "code",
   "execution_count": 21,
   "metadata": {},
   "outputs": [],
   "source": [
    "##### new dataset (just added BSP to the runners dataframe created above)\n",
    "runners_wbsp = runners_wbsp.filter(runners_wbsp.runner_status!='REMOVED')"
   ]
  },
  {
   "cell_type": "code",
   "execution_count": 26,
   "metadata": {},
   "outputs": [],
   "source": [
    "runners_wbsp_GoldCup = runners_wbsp.filter(runners_wbsp.event_id=='27653664')"
   ]
  },
  {
   "cell_type": "code",
   "execution_count": 28,
   "metadata": {},
   "outputs": [],
   "source": [
    "runners_wbsp_GoldCup = runners_wbsp.filter(runners_wbsp.market_name=='2m6f Hcap Chs')"
   ]
  },
  {
   "cell_type": "code",
   "execution_count": 27,
   "metadata": {},
   "outputs": [
    {
     "name": "stderr",
     "output_type": "stream",
     "text": [
      "[Stage 17:=======================================================>(88 + 1) / 89]\r"
     ]
    },
    {
     "name": "stdout",
     "output_type": "stream",
     "text": [
      "+--------------+--------------+-----------+-----------------+--------+--------------+---------+-----------------+-------------+------+--------------------+\n",
      "|operation_type|published_time|  market_id|      market_name|event_id|    event_name|runner_id|      runner_name|runner_status|   bsp|runner_sort_priority|\n",
      "+--------------+--------------+-----------+-----------------+--------+--------------+---------+-----------------+-------------+------+--------------------+\n",
      "|           mcm| 1452783080228|1.122576493|2m4f Grd2 Nov Chs|27653664|Thurl 14th Jan|  8079313|     Bitofapuzzle|        LOSER|  1.29|                   1|\n",
      "|           mcm| 1452783080228|1.122576493|2m4f Grd2 Nov Chs|27653664|Thurl 14th Jan|  8541453|  Im All You Need|        LOSER|  21.0|                   2|\n",
      "|           mcm| 1452783080228|1.122576493|2m4f Grd2 Nov Chs|27653664|Thurl 14th Jan|  7131008|   Melbourne Lady|        LOSER| 46.86|                   3|\n",
      "|           mcm| 1452783080228|1.122576493|2m4f Grd2 Nov Chs|27653664|Thurl 14th Jan|  8957661|      Queens Wild|        LOSER|  17.0|                   4|\n",
      "|           mcm| 1452783080228|1.122576493|2m4f Grd2 Nov Chs|27653664|Thurl 14th Jan|  9048839|    Perfect Woman|        LOSER|  17.0|                   5|\n",
      "|           mcm| 1452783080228|1.122576493|2m4f Grd2 Nov Chs|27653664|Thurl 14th Jan|  8301947|            Emcon|        LOSER|  23.0|                   6|\n",
      "|           mcm| 1452783080228|1.122576493|2m4f Grd2 Nov Chs|27653664|Thurl 14th Jan|  8957688|        Aunt Nora|       WINNER|152.33|                   7|\n",
      "|           mcm| 1452783080228|1.122576493|2m4f Grd2 Nov Chs|27653664|Thurl 14th Jan|  8478397|    Annamatopoeia|        LOSER|134.35|                   8|\n",
      "|           mcm| 1452785180209|1.122576498|    2m6f Hcap Chs|27653664|Thurl 14th Jan|   444842|     Winter Magic|        LOSER|  4.37|                   1|\n",
      "|           mcm| 1452785180209|1.122576498|    2m6f Hcap Chs|27653664|Thurl 14th Jan|  6939953|Coolnagorna Giggs|       WINNER|  6.27|                   2|\n",
      "|           mcm| 1452785180209|1.122576498|    2m6f Hcap Chs|27653664|Thurl 14th Jan|  7281856|          Tooreen|        LOSER|  10.0|                   3|\n",
      "|           mcm| 1452785180209|1.122576498|    2m6f Hcap Chs|27653664|Thurl 14th Jan|  7011147|         He Rocks|        LOSER|   8.0|                   4|\n",
      "|           mcm| 1452785180209|1.122576498|    2m6f Hcap Chs|27653664|Thurl 14th Jan|  8742358|  Topper Thornton|        LOSER| 11.93|                   5|\n",
      "|           mcm| 1452785180209|1.122576498|    2m6f Hcap Chs|27653664|Thurl 14th Jan|  8996652|      Shadow Play|        LOSER| 14.98|                   6|\n",
      "|           mcm| 1452785180209|1.122576498|    2m6f Hcap Chs|27653664|Thurl 14th Jan|  5415401|         Miradane|        LOSER| 12.56|                   7|\n",
      "|           mcm| 1452785180209|1.122576498|    2m6f Hcap Chs|27653664|Thurl 14th Jan|  5568158|     Mister First|        LOSER|  13.5|                   8|\n",
      "|           mcm| 1452785180209|1.122576498|    2m6f Hcap Chs|27653664|Thurl 14th Jan|  9483270|  Mountain Philip|        LOSER|  32.0|                   9|\n",
      "|           mcm| 1452785180209|1.122576498|    2m6f Hcap Chs|27653664|Thurl 14th Jan|  9153264|         Flynsini|        LOSER|  38.0|                  10|\n",
      "|           mcm| 1452785180209|1.122576498|    2m6f Hcap Chs|27653664|Thurl 14th Jan|  7253717|             Gary|        LOSER|  68.4|                  11|\n",
      "|           mcm| 1452781100172|1.122576488|    2m4f Grd2 Chs|27653664|Thurl 14th Jan|  5517026|      Don Cossack|       WINNER|  1.15|                   1|\n",
      "+--------------+--------------+-----------+-----------------+--------+--------------+---------+-----------------+-------------+------+--------------------+\n",
      "only showing top 20 rows\n",
      "\n"
     ]
    },
    {
     "name": "stderr",
     "output_type": "stream",
     "text": [
      "                                                                                \r"
     ]
    }
   ],
   "source": [
    "runners_wbsp_GoldCup.show()"
   ]
  },
  {
   "cell_type": "code",
   "execution_count": 45,
   "metadata": {},
   "outputs": [],
   "source": [
    "# Filter down to only the records that have Runners.\n",
    "runners_only = market_definitions.filter(market_definitions.runners.isNotNull())\n",
    "\n",
    "# Explode the Runners array.\n",
    "runners_exploded = runners_only.select(market_definitions.operation_type,\n",
    "                                       market_definitions.published_time,\n",
    "                                       market_definitions.market_id,\n",
    "                                       market_definitions.market_name,\n",
    "                                       market_definitions.event_id,\n",
    "                                       market_definitions.event_name,\n",
    "                                       explode(market_definitions.runners).alias('runner_row'))\n",
    "\n",
    "# Select the useful fields, and give them user friendly names.\n",
    "runners = runners_exploded.selectExpr('operation_type',\n",
    "                                      'published_time',\n",
    "                                      'market_id',\n",
    "                                      'market_name',\n",
    "                                      'event_id',\n",
    "                                      'event_name',\n",
    "                                      'runner_row.id AS runner_id',\n",
    "                                      'runner_row.name AS runner_name',\n",
    "                                      'runner_row.status AS runner_status',\n",
    "                                      'runner_row.sortPriority AS runner_sort_priority')\n",
    "\n",
    "# Filter down to only the records that have rc (runner changes).\n",
    "rc_only = mc_exploded.filter(mc_exploded.mc_row.rc.isNotNull())\n",
    "\n",
    "# Explode the rc (runner changes) array.\n",
    "rc_exploded = rc_only.select(rc_only.op.alias('operation_type'),\n",
    "                             rc_only.pt.alias('published_time'),\n",
    "                             rc_only.mc_row.id.alias('market_id'),\n",
    "                             explode(rc_only.mc_row.rc).alias('runner_change_row'))\n",
    "\n",
    "# Select the useful fields, and give them user friendly names.\n",
    "runner_changes = rc_exploded.selectExpr('operation_type',\n",
    "                                        'published_time',\n",
    "                                        'market_id',\n",
    "                                        'runner_change_row.id AS runner_id',\n",
    "                                        'runner_change_row.ltp AS last_traded_price')"
   ]
  },
  {
   "cell_type": "code",
   "execution_count": 46,
   "metadata": {},
   "outputs": [
    {
     "name": "stderr",
     "output_type": "stream",
     "text": [
      "                                                                                \r"
     ]
    }
   ],
   "source": [
    "# This market_id is for the a Thurles race in Jan 2016\n",
    "selection_condition = \"market_id = '1.122576498'\"\n",
    "\n",
    "chosen_runners = runners.filter(selection_condition).selectExpr('market_id', \n",
    "                                                                'event_name', \n",
    "                                                                'market_name', \n",
    "                                                                'runner_id', \n",
    "                                                                'runner_name').distinct()\n",
    "\n",
    "# Runners have a 1:many relationship to Runner Changes, so do an inner join from Runners to Runner Changes.\n",
    "chosen_runner_changes = chosen_runners.join(runner_changes, chosen_runners.runner_id == runner_changes.runner_id).select(\n",
    "                        chosen_runners.market_id, \n",
    "                        chosen_runners.event_name, \n",
    "                        chosen_runners.market_name, \n",
    "                        chosen_runners.runner_id, \n",
    "                        chosen_runners.runner_name,\n",
    "                        runner_changes.published_time,\n",
    "                        runner_changes.last_traded_price\n",
    "                        ).orderBy('published_time').collect()"
   ]
  },
  {
   "cell_type": "code",
   "execution_count": 50,
   "metadata": {},
   "outputs": [
    {
     "name": "stderr",
     "output_type": "stream",
     "text": [
      "                                                                                \r"
     ]
    },
    {
     "name": "stdout",
     "output_type": "stream",
     "text": [
      "+-----------+--------------+-------------+---------+-----------------+\n",
      "|  market_id|    event_name|  market_name|runner_id|      runner_name|\n",
      "+-----------+--------------+-------------+---------+-----------------+\n",
      "|1.122576498|Thurl 14th Jan|2m6f Hcap Chs|  5415401|         Miradane|\n",
      "|1.122576498|Thurl 14th Jan|2m6f Hcap Chs|  7011147|         He Rocks|\n",
      "|1.122576498|Thurl 14th Jan|2m6f Hcap Chs|  7281856|          Tooreen|\n",
      "|1.122576498|Thurl 14th Jan|2m6f Hcap Chs|  5568158|     Mister First|\n",
      "|1.122576498|Thurl 14th Jan|2m6f Hcap Chs|  9153264|         Flynsini|\n",
      "|1.122576498|Thurl 14th Jan|2m6f Hcap Chs|  6939953|Coolnagorna Giggs|\n",
      "|1.122576498|Thurl 14th Jan|2m6f Hcap Chs|  8996652|      Shadow Play|\n",
      "|1.122576498|Thurl 14th Jan|2m6f Hcap Chs|  7253717|             Gary|\n",
      "|1.122576498|Thurl 14th Jan|2m6f Hcap Chs|  8742358|  Topper Thornton|\n",
      "|1.122576498|Thurl 14th Jan|2m6f Hcap Chs|   444842|     Winter Magic|\n",
      "|1.122576498|Thurl 14th Jan|2m6f Hcap Chs|  9483270|  Mountain Philip|\n",
      "+-----------+--------------+-------------+---------+-----------------+\n",
      "\n"
     ]
    }
   ],
   "source": [
    "chosen_runners.show()"
   ]
  },
  {
   "cell_type": "code",
   "execution_count": 53,
   "metadata": {},
   "outputs": [
    {
     "data": {
      "text/plain": [
       "[Row(market_id='1.122576498', event_name='Thurl 14th Jan', market_name='2m6f Hcap Chs', runner_id=444842, runner_name='Winter Magic', published_time=1451590890047, last_traded_price=6.8),\n",
       " Row(market_id='1.122576498', event_name='Thurl 14th Jan', market_name='2m6f Hcap Chs', runner_id=444842, runner_name='Winter Magic', published_time=1451590890047, last_traded_price=6.8),\n",
       " Row(market_id='1.122576498', event_name='Thurl 14th Jan', market_name='2m6f Hcap Chs', runner_id=444842, runner_name='Winter Magic', published_time=1451610010983, last_traded_price=7.0),\n",
       " Row(market_id='1.122576498', event_name='Thurl 14th Jan', market_name='2m6f Hcap Chs', runner_id=444842, runner_name='Winter Magic', published_time=1451610010983, last_traded_price=7.0),\n",
       " Row(market_id='1.122576498', event_name='Thurl 14th Jan', market_name='2m6f Hcap Chs', runner_id=444842, runner_name='Winter Magic', published_time=1451610086223, last_traded_price=6.8),\n",
       " Row(market_id='1.122576498', event_name='Thurl 14th Jan', market_name='2m6f Hcap Chs', runner_id=444842, runner_name='Winter Magic', published_time=1451610086223, last_traded_price=6.8),\n",
       " Row(market_id='1.122576498', event_name='Thurl 14th Jan', market_name='2m6f Hcap Chs', runner_id=444842, runner_name='Winter Magic', published_time=1451627910224, last_traded_price=7.2),\n",
       " Row(market_id='1.122576498', event_name='Thurl 14th Jan', market_name='2m6f Hcap Chs', runner_id=444842, runner_name='Winter Magic', published_time=1451627910224, last_traded_price=7.2),\n",
       " Row(market_id='1.122576498', event_name='Thurl 14th Jan', market_name='2m6f Hcap Chs', runner_id=444842, runner_name='Winter Magic', published_time=1451631332611, last_traded_price=6.8),\n",
       " Row(market_id='1.122576498', event_name='Thurl 14th Jan', market_name='2m6f Hcap Chs', runner_id=444842, runner_name='Winter Magic', published_time=1451631332611, last_traded_price=6.8),\n",
       " Row(market_id='1.122576498', event_name='Thurl 14th Jan', market_name='2m6f Hcap Chs', runner_id=444842, runner_name='Winter Magic', published_time=1451631919283, last_traded_price=6.6),\n",
       " Row(market_id='1.122576498', event_name='Thurl 14th Jan', market_name='2m6f Hcap Chs', runner_id=444842, runner_name='Winter Magic', published_time=1451631919283, last_traded_price=6.6),\n",
       " Row(market_id='1.122576498', event_name='Thurl 14th Jan', market_name='2m6f Hcap Chs', runner_id=444842, runner_name='Winter Magic', published_time=1451632232221, last_traded_price=6.4),\n",
       " Row(market_id='1.122576498', event_name='Thurl 14th Jan', market_name='2m6f Hcap Chs', runner_id=444842, runner_name='Winter Magic', published_time=1451632232221, last_traded_price=6.4),\n",
       " Row(market_id='1.122576498', event_name='Thurl 14th Jan', market_name='2m6f Hcap Chs', runner_id=444842, runner_name='Winter Magic', published_time=1451632585010, last_traded_price=6.2),\n",
       " Row(market_id='1.122576498', event_name='Thurl 14th Jan', market_name='2m6f Hcap Chs', runner_id=444842, runner_name='Winter Magic', published_time=1451632585010, last_traded_price=6.2),\n",
       " Row(market_id='1.122576498', event_name='Thurl 14th Jan', market_name='2m6f Hcap Chs', runner_id=444842, runner_name='Winter Magic', published_time=1451632832309, last_traded_price=6.4),\n",
       " Row(market_id='1.122576498', event_name='Thurl 14th Jan', market_name='2m6f Hcap Chs', runner_id=444842, runner_name='Winter Magic', published_time=1451632832309, last_traded_price=6.4),\n",
       " Row(market_id='1.122576498', event_name='Thurl 14th Jan', market_name='2m6f Hcap Chs', runner_id=444842, runner_name='Winter Magic', published_time=1451633070243, last_traded_price=6.6),\n",
       " Row(market_id='1.122576498', event_name='Thurl 14th Jan', market_name='2m6f Hcap Chs', runner_id=444842, runner_name='Winter Magic', published_time=1451633070243, last_traded_price=6.6),\n",
       " Row(market_id='1.122576498', event_name='Thurl 14th Jan', market_name='2m6f Hcap Chs', runner_id=444842, runner_name='Winter Magic', published_time=1451633971870, last_traded_price=6.8),\n",
       " Row(market_id='1.122576498', event_name='Thurl 14th Jan', market_name='2m6f Hcap Chs', runner_id=444842, runner_name='Winter Magic', published_time=1451633971870, last_traded_price=6.8),\n",
       " Row(market_id='1.122576498', event_name='Thurl 14th Jan', market_name='2m6f Hcap Chs', runner_id=444842, runner_name='Winter Magic', published_time=1451634021860, last_traded_price=7.0),\n",
       " Row(market_id='1.122576498', event_name='Thurl 14th Jan', market_name='2m6f Hcap Chs', runner_id=444842, runner_name='Winter Magic', published_time=1451634021860, last_traded_price=7.0),\n",
       " Row(market_id='1.122576498', event_name='Thurl 14th Jan', market_name='2m6f Hcap Chs', runner_id=444842, runner_name='Winter Magic', published_time=1451636722412, last_traded_price=7.2),\n",
       " Row(market_id='1.122576498', event_name='Thurl 14th Jan', market_name='2m6f Hcap Chs', runner_id=444842, runner_name='Winter Magic', published_time=1451636722412, last_traded_price=7.2),\n",
       " Row(market_id='1.122576498', event_name='Thurl 14th Jan', market_name='2m6f Hcap Chs', runner_id=444842, runner_name='Winter Magic', published_time=1451639852537, last_traded_price=7.0),\n",
       " Row(market_id='1.122576498', event_name='Thurl 14th Jan', market_name='2m6f Hcap Chs', runner_id=444842, runner_name='Winter Magic', published_time=1451639852537, last_traded_price=7.0),\n",
       " Row(market_id='1.122576498', event_name='Thurl 14th Jan', market_name='2m6f Hcap Chs', runner_id=444842, runner_name='Winter Magic', published_time=1451640506124, last_traded_price=6.8),\n",
       " Row(market_id='1.122576498', event_name='Thurl 14th Jan', market_name='2m6f Hcap Chs', runner_id=444842, runner_name='Winter Magic', published_time=1451640506124, last_traded_price=6.8),\n",
       " Row(market_id='1.122576498', event_name='Thurl 14th Jan', market_name='2m6f Hcap Chs', runner_id=444842, runner_name='Winter Magic', published_time=1451640572786, last_traded_price=7.2),\n",
       " Row(market_id='1.122576498', event_name='Thurl 14th Jan', market_name='2m6f Hcap Chs', runner_id=444842, runner_name='Winter Magic', published_time=1451640572786, last_traded_price=7.2),\n",
       " Row(market_id='1.122576498', event_name='Thurl 14th Jan', market_name='2m6f Hcap Chs', runner_id=444842, runner_name='Winter Magic', published_time=1451640632964, last_traded_price=7.0),\n",
       " Row(market_id='1.122576498', event_name='Thurl 14th Jan', market_name='2m6f Hcap Chs', runner_id=444842, runner_name='Winter Magic', published_time=1451640632964, last_traded_price=7.0),\n",
       " Row(market_id='1.122576498', event_name='Thurl 14th Jan', market_name='2m6f Hcap Chs', runner_id=444842, runner_name='Winter Magic', published_time=1451640749570, last_traded_price=7.2),\n",
       " Row(market_id='1.122576498', event_name='Thurl 14th Jan', market_name='2m6f Hcap Chs', runner_id=444842, runner_name='Winter Magic', published_time=1451640749570, last_traded_price=7.2),\n",
       " Row(market_id='1.122576498', event_name='Thurl 14th Jan', market_name='2m6f Hcap Chs', runner_id=444842, runner_name='Winter Magic', published_time=1451640812742, last_traded_price=7.0),\n",
       " Row(market_id='1.122576498', event_name='Thurl 14th Jan', market_name='2m6f Hcap Chs', runner_id=444842, runner_name='Winter Magic', published_time=1451640812742, last_traded_price=7.0),\n",
       " Row(market_id='1.122576498', event_name='Thurl 14th Jan', market_name='2m6f Hcap Chs', runner_id=444842, runner_name='Winter Magic', published_time=1451641532889, last_traded_price=6.36),\n",
       " Row(market_id='1.122576498', event_name='Thurl 14th Jan', market_name='2m6f Hcap Chs', runner_id=444842, runner_name='Winter Magic', published_time=1451641532889, last_traded_price=6.36),\n",
       " Row(market_id='1.122576498', event_name='Thurl 14th Jan', market_name='2m6f Hcap Chs', runner_id=444842, runner_name='Winter Magic', published_time=1451641711630, last_traded_price=6.6),\n",
       " Row(market_id='1.122576498', event_name='Thurl 14th Jan', market_name='2m6f Hcap Chs', runner_id=444842, runner_name='Winter Magic', published_time=1451641711630, last_traded_price=6.6),\n",
       " Row(market_id='1.122576498', event_name='Thurl 14th Jan', market_name='2m6f Hcap Chs', runner_id=444842, runner_name='Winter Magic', published_time=1451641893046, last_traded_price=6.4),\n",
       " Row(market_id='1.122576498', event_name='Thurl 14th Jan', market_name='2m6f Hcap Chs', runner_id=444842, runner_name='Winter Magic', published_time=1451641893046, last_traded_price=6.4),\n",
       " Row(market_id='1.122576498', event_name='Thurl 14th Jan', market_name='2m6f Hcap Chs', runner_id=444842, runner_name='Winter Magic', published_time=1451643812958, last_traded_price=6.6),\n",
       " Row(market_id='1.122576498', event_name='Thurl 14th Jan', market_name='2m6f Hcap Chs', runner_id=444842, runner_name='Winter Magic', published_time=1451643812958, last_traded_price=6.6),\n",
       " Row(market_id='1.122576498', event_name='Thurl 14th Jan', market_name='2m6f Hcap Chs', runner_id=444842, runner_name='Winter Magic', published_time=1451643871680, last_traded_price=6.56),\n",
       " Row(market_id='1.122576498', event_name='Thurl 14th Jan', market_name='2m6f Hcap Chs', runner_id=444842, runner_name='Winter Magic', published_time=1451643871680, last_traded_price=6.56),\n",
       " Row(market_id='1.122576498', event_name='Thurl 14th Jan', market_name='2m6f Hcap Chs', runner_id=444842, runner_name='Winter Magic', published_time=1451643932170, last_traded_price=6.6),\n",
       " Row(market_id='1.122576498', event_name='Thurl 14th Jan', market_name='2m6f Hcap Chs', runner_id=444842, runner_name='Winter Magic', published_time=1451643932170, last_traded_price=6.6),\n",
       " Row(market_id='1.122576498', event_name='Thurl 14th Jan', market_name='2m6f Hcap Chs', runner_id=444842, runner_name='Winter Magic', published_time=1451643992217, last_traded_price=6.4),\n",
       " Row(market_id='1.122576498', event_name='Thurl 14th Jan', market_name='2m6f Hcap Chs', runner_id=444842, runner_name='Winter Magic', published_time=1451643992217, last_traded_price=6.4),\n",
       " Row(market_id='1.122576498', event_name='Thurl 14th Jan', market_name='2m6f Hcap Chs', runner_id=444842, runner_name='Winter Magic', published_time=1451644832854, last_traded_price=6.2),\n",
       " Row(market_id='1.122576498', event_name='Thurl 14th Jan', market_name='2m6f Hcap Chs', runner_id=444842, runner_name='Winter Magic', published_time=1451644832854, last_traded_price=6.2),\n",
       " Row(market_id='1.122576498', event_name='Thurl 14th Jan', market_name='2m6f Hcap Chs', runner_id=444842, runner_name='Winter Magic', published_time=1451645133020, last_traded_price=6.6),\n",
       " Row(market_id='1.122576498', event_name='Thurl 14th Jan', market_name='2m6f Hcap Chs', runner_id=444842, runner_name='Winter Magic', published_time=1451645133020, last_traded_price=6.6),\n",
       " Row(market_id='1.122576498', event_name='Thurl 14th Jan', market_name='2m6f Hcap Chs', runner_id=444842, runner_name='Winter Magic', published_time=1451645432840, last_traded_price=6.2),\n",
       " Row(market_id='1.122576498', event_name='Thurl 14th Jan', market_name='2m6f Hcap Chs', runner_id=444842, runner_name='Winter Magic', published_time=1451645432840, last_traded_price=6.2),\n",
       " Row(market_id='1.122576498', event_name='Thurl 14th Jan', market_name='2m6f Hcap Chs', runner_id=444842, runner_name='Winter Magic', published_time=1451645672852, last_traded_price=6.4),\n",
       " Row(market_id='1.122576498', event_name='Thurl 14th Jan', market_name='2m6f Hcap Chs', runner_id=444842, runner_name='Winter Magic', published_time=1451645672852, last_traded_price=6.4),\n",
       " Row(market_id='1.122576498', event_name='Thurl 14th Jan', market_name='2m6f Hcap Chs', runner_id=444842, runner_name='Winter Magic', published_time=1451645912235, last_traded_price=6.2),\n",
       " Row(market_id='1.122576498', event_name='Thurl 14th Jan', market_name='2m6f Hcap Chs', runner_id=444842, runner_name='Winter Magic', published_time=1451645912235, last_traded_price=6.2),\n",
       " Row(market_id='1.122576498', event_name='Thurl 14th Jan', market_name='2m6f Hcap Chs', runner_id=444842, runner_name='Winter Magic', published_time=1451646152883, last_traded_price=6.4),\n",
       " Row(market_id='1.122576498', event_name='Thurl 14th Jan', market_name='2m6f Hcap Chs', runner_id=444842, runner_name='Winter Magic', published_time=1451646152883, last_traded_price=6.4),\n",
       " Row(market_id='1.122576498', event_name='Thurl 14th Jan', market_name='2m6f Hcap Chs', runner_id=444842, runner_name='Winter Magic', published_time=1451646273038, last_traded_price=6.2),\n",
       " Row(market_id='1.122576498', event_name='Thurl 14th Jan', market_name='2m6f Hcap Chs', runner_id=444842, runner_name='Winter Magic', published_time=1451646273038, last_traded_price=6.2),\n",
       " Row(market_id='1.122576498', event_name='Thurl 14th Jan', market_name='2m6f Hcap Chs', runner_id=444842, runner_name='Winter Magic', published_time=1451646332889, last_traded_price=6.4),\n",
       " Row(market_id='1.122576498', event_name='Thurl 14th Jan', market_name='2m6f Hcap Chs', runner_id=444842, runner_name='Winter Magic', published_time=1451646332889, last_traded_price=6.4),\n",
       " Row(market_id='1.122576498', event_name='Thurl 14th Jan', market_name='2m6f Hcap Chs', runner_id=444842, runner_name='Winter Magic', published_time=1451646572815, last_traded_price=6.2),\n",
       " Row(market_id='1.122576498', event_name='Thurl 14th Jan', market_name='2m6f Hcap Chs', runner_id=444842, runner_name='Winter Magic', published_time=1451646572815, last_traded_price=6.2),\n",
       " Row(market_id='1.122576498', event_name='Thurl 14th Jan', market_name='2m6f Hcap Chs', runner_id=444842, runner_name='Winter Magic', published_time=1451646632786, last_traded_price=6.0),\n",
       " Row(market_id='1.122576498', event_name='Thurl 14th Jan', market_name='2m6f Hcap Chs', runner_id=444842, runner_name='Winter Magic', published_time=1451646632786, last_traded_price=6.0),\n",
       " Row(market_id='1.122576498', event_name='Thurl 14th Jan', market_name='2m6f Hcap Chs', runner_id=444842, runner_name='Winter Magic', published_time=1451646753039, last_traded_price=6.2),\n",
       " Row(market_id='1.122576498', event_name='Thurl 14th Jan', market_name='2m6f Hcap Chs', runner_id=444842, runner_name='Winter Magic', published_time=1451646753039, last_traded_price=6.2),\n",
       " Row(market_id='1.122576498', event_name='Thurl 14th Jan', market_name='2m6f Hcap Chs', runner_id=444842, runner_name='Winter Magic', published_time=1451647052895, last_traded_price=6.4),\n",
       " Row(market_id='1.122576498', event_name='Thurl 14th Jan', market_name='2m6f Hcap Chs', runner_id=444842, runner_name='Winter Magic', published_time=1451647052895, last_traded_price=6.4),\n",
       " Row(market_id='1.122576498', event_name='Thurl 14th Jan', market_name='2m6f Hcap Chs', runner_id=444842, runner_name='Winter Magic', published_time=1451647232093, last_traded_price=6.6),\n",
       " Row(market_id='1.122576498', event_name='Thurl 14th Jan', market_name='2m6f Hcap Chs', runner_id=444842, runner_name='Winter Magic', published_time=1451647232093, last_traded_price=6.6),\n",
       " Row(market_id='1.122576498', event_name='Thurl 14th Jan', market_name='2m6f Hcap Chs', runner_id=444842, runner_name='Winter Magic', published_time=1451647893008, last_traded_price=6.8),\n",
       " Row(market_id='1.122576498', event_name='Thurl 14th Jan', market_name='2m6f Hcap Chs', runner_id=444842, runner_name='Winter Magic', published_time=1451647893008, last_traded_price=6.8),\n",
       " Row(market_id='1.122576498', event_name='Thurl 14th Jan', market_name='2m6f Hcap Chs', runner_id=444842, runner_name='Winter Magic', published_time=1451649152954, last_traded_price=7.0),\n",
       " Row(market_id='1.122576498', event_name='Thurl 14th Jan', market_name='2m6f Hcap Chs', runner_id=444842, runner_name='Winter Magic', published_time=1451649152954, last_traded_price=2.52),\n",
       " Row(market_id='1.122576498', event_name='Thurl 14th Jan', market_name='2m6f Hcap Chs', runner_id=444842, runner_name='Winter Magic', published_time=1451649152954, last_traded_price=7.0),\n",
       " Row(market_id='1.122576498', event_name='Thurl 14th Jan', market_name='2m6f Hcap Chs', runner_id=444842, runner_name='Winter Magic', published_time=1451649152954, last_traded_price=2.52),\n",
       " Row(market_id='1.122576498', event_name='Thurl 14th Jan', market_name='2m6f Hcap Chs', runner_id=444842, runner_name='Winter Magic', published_time=1451649212958, last_traded_price=7.6),\n",
       " Row(market_id='1.122576498', event_name='Thurl 14th Jan', market_name='2m6f Hcap Chs', runner_id=444842, runner_name='Winter Magic', published_time=1451649212958, last_traded_price=2.9),\n",
       " Row(market_id='1.122576498', event_name='Thurl 14th Jan', market_name='2m6f Hcap Chs', runner_id=444842, runner_name='Winter Magic', published_time=1451649212958, last_traded_price=7.6),\n",
       " Row(market_id='1.122576498', event_name='Thurl 14th Jan', market_name='2m6f Hcap Chs', runner_id=444842, runner_name='Winter Magic', published_time=1451649212958, last_traded_price=2.9),\n",
       " Row(market_id='1.122576498', event_name='Thurl 14th Jan', market_name='2m6f Hcap Chs', runner_id=444842, runner_name='Winter Magic', published_time=1451649393000, last_traded_price=8.0),\n",
       " Row(market_id='1.122576498', event_name='Thurl 14th Jan', market_name='2m6f Hcap Chs', runner_id=444842, runner_name='Winter Magic', published_time=1451649393000, last_traded_price=8.0),\n",
       " Row(market_id='1.122576498', event_name='Thurl 14th Jan', market_name='2m6f Hcap Chs', runner_id=444842, runner_name='Winter Magic', published_time=1451649513039, last_traded_price=2.82),\n",
       " Row(market_id='1.122576498', event_name='Thurl 14th Jan', market_name='2m6f Hcap Chs', runner_id=444842, runner_name='Winter Magic', published_time=1451649513039, last_traded_price=2.82),\n",
       " Row(market_id='1.122576498', event_name='Thurl 14th Jan', market_name='2m6f Hcap Chs', runner_id=444842, runner_name='Winter Magic', published_time=1451649872965, last_traded_price=8.8),\n",
       " Row(market_id='1.122576498', event_name='Thurl 14th Jan', market_name='2m6f Hcap Chs', runner_id=444842, runner_name='Winter Magic', published_time=1451649872965, last_traded_price=8.8),\n",
       " Row(market_id='1.122576498', event_name='Thurl 14th Jan', market_name='2m6f Hcap Chs', runner_id=444842, runner_name='Winter Magic', published_time=1451650113053, last_traded_price=8.6),\n",
       " Row(market_id='1.122576498', event_name='Thurl 14th Jan', market_name='2m6f Hcap Chs', runner_id=444842, runner_name='Winter Magic', published_time=1451650113053, last_traded_price=8.6),\n",
       " Row(market_id='1.122576498', event_name='Thurl 14th Jan', market_name='2m6f Hcap Chs', runner_id=444842, runner_name='Winter Magic', published_time=1451650113053, last_traded_price=2.14),\n",
       " Row(market_id='1.122576498', event_name='Thurl 14th Jan', market_name='2m6f Hcap Chs', runner_id=444842, runner_name='Winter Magic', published_time=1451650113053, last_traded_price=2.14),\n",
       " Row(market_id='1.122576498', event_name='Thurl 14th Jan', market_name='2m6f Hcap Chs', runner_id=444842, runner_name='Winter Magic', published_time=1451650353021, last_traded_price=8.4),\n",
       " Row(market_id='1.122576498', event_name='Thurl 14th Jan', market_name='2m6f Hcap Chs', runner_id=444842, runner_name='Winter Magic', published_time=1451650353021, last_traded_price=8.4),\n",
       " Row(market_id='1.122576498', event_name='Thurl 14th Jan', market_name='2m6f Hcap Chs', runner_id=444842, runner_name='Winter Magic', published_time=1451650713000, last_traded_price=8.2),\n",
       " Row(market_id='1.122576498', event_name='Thurl 14th Jan', market_name='2m6f Hcap Chs', runner_id=444842, runner_name='Winter Magic', published_time=1451650713000, last_traded_price=8.2),\n",
       " Row(market_id='1.122576498', event_name='Thurl 14th Jan', market_name='2m6f Hcap Chs', runner_id=444842, runner_name='Winter Magic', published_time=1451650832925, last_traded_price=8.0),\n",
       " Row(market_id='1.122576498', event_name='Thurl 14th Jan', market_name='2m6f Hcap Chs', runner_id=444842, runner_name='Winter Magic', published_time=1451650832925, last_traded_price=8.0),\n",
       " Row(market_id='1.122576498', event_name='Thurl 14th Jan', market_name='2m6f Hcap Chs', runner_id=444842, runner_name='Winter Magic', published_time=1451652152918, last_traded_price=7.8),\n",
       " Row(market_id='1.122576498', event_name='Thurl 14th Jan', market_name='2m6f Hcap Chs', runner_id=444842, runner_name='Winter Magic', published_time=1451652152918, last_traded_price=7.8),\n",
       " Row(market_id='1.122576498', event_name='Thurl 14th Jan', market_name='2m6f Hcap Chs', runner_id=444842, runner_name='Winter Magic', published_time=1451652633007, last_traded_price=8.0),\n",
       " Row(market_id='1.122576498', event_name='Thurl 14th Jan', market_name='2m6f Hcap Chs', runner_id=444842, runner_name='Winter Magic', published_time=1451652633007, last_traded_price=8.0),\n",
       " Row(market_id='1.122576498', event_name='Thurl 14th Jan', market_name='2m6f Hcap Chs', runner_id=444842, runner_name='Winter Magic', published_time=1451653112859, last_traded_price=7.8),\n",
       " Row(market_id='1.122576498', event_name='Thurl 14th Jan', market_name='2m6f Hcap Chs', runner_id=444842, runner_name='Winter Magic', published_time=1451653112859, last_traded_price=7.8),\n",
       " Row(market_id='1.122576498', event_name='Thurl 14th Jan', market_name='2m6f Hcap Chs', runner_id=444842, runner_name='Winter Magic', published_time=1451653532817, last_traded_price=8.0),\n",
       " Row(market_id='1.122576498', event_name='Thurl 14th Jan', market_name='2m6f Hcap Chs', runner_id=444842, runner_name='Winter Magic', published_time=1451653532817, last_traded_price=8.0),\n",
       " Row(market_id='1.122576498', event_name='Thurl 14th Jan', market_name='2m6f Hcap Chs', runner_id=444842, runner_name='Winter Magic', published_time=1451654012953, last_traded_price=7.8),\n",
       " Row(market_id='1.122576498', event_name='Thurl 14th Jan', market_name='2m6f Hcap Chs', runner_id=444842, runner_name='Winter Magic', published_time=1451654012953, last_traded_price=7.8),\n",
       " Row(market_id='1.122576498', event_name='Thurl 14th Jan', market_name='2m6f Hcap Chs', runner_id=444842, runner_name='Winter Magic', published_time=1451654252755, last_traded_price=2.08),\n",
       " Row(market_id='1.122576498', event_name='Thurl 14th Jan', market_name='2m6f Hcap Chs', runner_id=444842, runner_name='Winter Magic', published_time=1451654252755, last_traded_price=2.08),\n",
       " Row(market_id='1.122576498', event_name='Thurl 14th Jan', market_name='2m6f Hcap Chs', runner_id=444842, runner_name='Winter Magic', published_time=1451654313048, last_traded_price=2.8),\n",
       " Row(market_id='1.122576498', event_name='Thurl 14th Jan', market_name='2m6f Hcap Chs', runner_id=444842, runner_name='Winter Magic', published_time=1451654313048, last_traded_price=2.8),\n",
       " Row(market_id='1.122576498', event_name='Thurl 14th Jan', market_name='2m6f Hcap Chs', runner_id=444842, runner_name='Winter Magic', published_time=1451654372982, last_traded_price=7.6),\n",
       " Row(market_id='1.122576498', event_name='Thurl 14th Jan', market_name='2m6f Hcap Chs', runner_id=444842, runner_name='Winter Magic', published_time=1451654372982, last_traded_price=7.6),\n",
       " Row(market_id='1.122576498', event_name='Thurl 14th Jan', market_name='2m6f Hcap Chs', runner_id=444842, runner_name='Winter Magic', published_time=1451654612987, last_traded_price=8.0),\n",
       " Row(market_id='1.122576498', event_name='Thurl 14th Jan', market_name='2m6f Hcap Chs', runner_id=444842, runner_name='Winter Magic', published_time=1451654612987, last_traded_price=8.0),\n",
       " Row(market_id='1.122576498', event_name='Thurl 14th Jan', market_name='2m6f Hcap Chs', runner_id=444842, runner_name='Winter Magic', published_time=1451655213040, last_traded_price=7.8),\n",
       " Row(market_id='1.122576498', event_name='Thurl 14th Jan', market_name='2m6f Hcap Chs', runner_id=444842, runner_name='Winter Magic', published_time=1451655213040, last_traded_price=7.8),\n",
       " Row(market_id='1.122576498', event_name='Thurl 14th Jan', market_name='2m6f Hcap Chs', runner_id=444842, runner_name='Winter Magic', published_time=1451655573009, last_traded_price=7.8),\n",
       " Row(market_id='1.122576498', event_name='Thurl 14th Jan', market_name='2m6f Hcap Chs', runner_id=444842, runner_name='Winter Magic', published_time=1451655573009, last_traded_price=7.8),\n",
       " Row(market_id='1.122576498', event_name='Thurl 14th Jan', market_name='2m6f Hcap Chs', runner_id=444842, runner_name='Winter Magic', published_time=1451655632846, last_traded_price=8.0),\n",
       " Row(market_id='1.122576498', event_name='Thurl 14th Jan', market_name='2m6f Hcap Chs', runner_id=444842, runner_name='Winter Magic', published_time=1451655632846, last_traded_price=8.0),\n",
       " Row(market_id='1.122576498', event_name='Thurl 14th Jan', market_name='2m6f Hcap Chs', runner_id=444842, runner_name='Winter Magic', published_time=1451655753027, last_traded_price=7.8),\n",
       " Row(market_id='1.122576498', event_name='Thurl 14th Jan', market_name='2m6f Hcap Chs', runner_id=444842, runner_name='Winter Magic', published_time=1451655753027, last_traded_price=7.8),\n",
       " Row(market_id='1.122576498', event_name='Thurl 14th Jan', market_name='2m6f Hcap Chs', runner_id=444842, runner_name='Winter Magic', published_time=1451656653010, last_traded_price=2.84),\n",
       " Row(market_id='1.122576498', event_name='Thurl 14th Jan', market_name='2m6f Hcap Chs', runner_id=444842, runner_name='Winter Magic', published_time=1451656653010, last_traded_price=2.84),\n",
       " Row(market_id='1.122576498', event_name='Thurl 14th Jan', market_name='2m6f Hcap Chs', runner_id=444842, runner_name='Winter Magic', published_time=1451656713018, last_traded_price=2.82),\n",
       " Row(market_id='1.122576498', event_name='Thurl 14th Jan', market_name='2m6f Hcap Chs', runner_id=444842, runner_name='Winter Magic', published_time=1451656713018, last_traded_price=2.82),\n",
       " Row(market_id='1.122576498', event_name='Thurl 14th Jan', market_name='2m6f Hcap Chs', runner_id=444842, runner_name='Winter Magic', published_time=1451656892950, last_traded_price=2.9),\n",
       " Row(market_id='1.122576498', event_name='Thurl 14th Jan', market_name='2m6f Hcap Chs', runner_id=444842, runner_name='Winter Magic', published_time=1451656892950, last_traded_price=2.9),\n",
       " Row(market_id='1.122576498', event_name='Thurl 14th Jan', market_name='2m6f Hcap Chs', runner_id=444842, runner_name='Winter Magic', published_time=1451657073022, last_traded_price=7.6),\n",
       " Row(market_id='1.122576498', event_name='Thurl 14th Jan', market_name='2m6f Hcap Chs', runner_id=444842, runner_name='Winter Magic', published_time=1451657073022, last_traded_price=7.6),\n",
       " Row(market_id='1.122576498', event_name='Thurl 14th Jan', market_name='2m6f Hcap Chs', runner_id=444842, runner_name='Winter Magic', published_time=1451657433000, last_traded_price=7.4),\n",
       " Row(market_id='1.122576498', event_name='Thurl 14th Jan', market_name='2m6f Hcap Chs', runner_id=444842, runner_name='Winter Magic', published_time=1451657433000, last_traded_price=2.74),\n",
       " Row(market_id='1.122576498', event_name='Thurl 14th Jan', market_name='2m6f Hcap Chs', runner_id=444842, runner_name='Winter Magic', published_time=1451657433000, last_traded_price=7.4),\n",
       " Row(market_id='1.122576498', event_name='Thurl 14th Jan', market_name='2m6f Hcap Chs', runner_id=444842, runner_name='Winter Magic', published_time=1451657433000, last_traded_price=2.74),\n",
       " Row(market_id='1.122576498', event_name='Thurl 14th Jan', market_name='2m6f Hcap Chs', runner_id=444842, runner_name='Winter Magic', published_time=1451657552981, last_traded_price=7.2),\n",
       " Row(market_id='1.122576498', event_name='Thurl 14th Jan', market_name='2m6f Hcap Chs', runner_id=444842, runner_name='Winter Magic', published_time=1451657552981, last_traded_price=7.2),\n",
       " Row(market_id='1.122576498', event_name='Thurl 14th Jan', market_name='2m6f Hcap Chs', runner_id=444842, runner_name='Winter Magic', published_time=1451657672969, last_traded_price=7.0),\n",
       " Row(market_id='1.122576498', event_name='Thurl 14th Jan', market_name='2m6f Hcap Chs', runner_id=444842, runner_name='Winter Magic', published_time=1451657672969, last_traded_price=2.54),\n",
       " Row(market_id='1.122576498', event_name='Thurl 14th Jan', market_name='2m6f Hcap Chs', runner_id=444842, runner_name='Winter Magic', published_time=1451657672969, last_traded_price=7.0),\n",
       " Row(market_id='1.122576498', event_name='Thurl 14th Jan', market_name='2m6f Hcap Chs', runner_id=444842, runner_name='Winter Magic', published_time=1451657672969, last_traded_price=2.54),\n",
       " Row(market_id='1.122576498', event_name='Thurl 14th Jan', market_name='2m6f Hcap Chs', runner_id=444842, runner_name='Winter Magic', published_time=1451657733049, last_traded_price=6.8),\n",
       " Row(market_id='1.122576498', event_name='Thurl 14th Jan', market_name='2m6f Hcap Chs', runner_id=444842, runner_name='Winter Magic', published_time=1451657733049, last_traded_price=6.8),\n",
       " Row(market_id='1.122576498', event_name='Thurl 14th Jan', market_name='2m6f Hcap Chs', runner_id=444842, runner_name='Winter Magic', published_time=1451657852984, last_traded_price=6.6),\n",
       " Row(market_id='1.122576498', event_name='Thurl 14th Jan', market_name='2m6f Hcap Chs', runner_id=444842, runner_name='Winter Magic', published_time=1451657852984, last_traded_price=6.6),\n",
       " Row(market_id='1.122576498', event_name='Thurl 14th Jan', market_name='2m6f Hcap Chs', runner_id=444842, runner_name='Winter Magic', published_time=1451657913053, last_traded_price=6.8),\n",
       " Row(market_id='1.122576498', event_name='Thurl 14th Jan', market_name='2m6f Hcap Chs', runner_id=444842, runner_name='Winter Magic', published_time=1451657913053, last_traded_price=6.8),\n",
       " Row(market_id='1.122576498', event_name='Thurl 14th Jan', market_name='2m6f Hcap Chs', runner_id=444842, runner_name='Winter Magic', published_time=1451657972958, last_traded_price=6.4),\n",
       " Row(market_id='1.122576498', event_name='Thurl 14th Jan', market_name='2m6f Hcap Chs', runner_id=444842, runner_name='Winter Magic', published_time=1451657972958, last_traded_price=6.4),\n",
       " Row(market_id='1.122576498', event_name='Thurl 14th Jan', market_name='2m6f Hcap Chs', runner_id=444842, runner_name='Winter Magic', published_time=1451658033001, last_traded_price=2.52),\n",
       " Row(market_id='1.122576498', event_name='Thurl 14th Jan', market_name='2m6f Hcap Chs', runner_id=444842, runner_name='Winter Magic', published_time=1451658033001, last_traded_price=2.52),\n",
       " Row(market_id='1.122576498', event_name='Thurl 14th Jan', market_name='2m6f Hcap Chs', runner_id=444842, runner_name='Winter Magic', published_time=1451658092954, last_traded_price=6.2),\n",
       " Row(market_id='1.122576498', event_name='Thurl 14th Jan', market_name='2m6f Hcap Chs', runner_id=444842, runner_name='Winter Magic', published_time=1451658092954, last_traded_price=6.2),\n",
       " Row(market_id='1.122576498', event_name='Thurl 14th Jan', market_name='2m6f Hcap Chs', runner_id=444842, runner_name='Winter Magic', published_time=1451658152978, last_traded_price=6.2),\n",
       " Row(market_id='1.122576498', event_name='Thurl 14th Jan', market_name='2m6f Hcap Chs', runner_id=444842, runner_name='Winter Magic', published_time=1451658152978, last_traded_price=6.2),\n",
       " Row(market_id='1.122576498', event_name='Thurl 14th Jan', market_name='2m6f Hcap Chs', runner_id=444842, runner_name='Winter Magic', published_time=1451658212993, last_traded_price=6.4),\n",
       " Row(market_id='1.122576498', event_name='Thurl 14th Jan', market_name='2m6f Hcap Chs', runner_id=444842, runner_name='Winter Magic', published_time=1451658212993, last_traded_price=6.4),\n",
       " Row(market_id='1.122576498', event_name='Thurl 14th Jan', market_name='2m6f Hcap Chs', runner_id=444842, runner_name='Winter Magic', published_time=1451658393010, last_traded_price=6.6),\n",
       " Row(market_id='1.122576498', event_name='Thurl 14th Jan', market_name='2m6f Hcap Chs', runner_id=444842, runner_name='Winter Magic', published_time=1451658393010, last_traded_price=6.6),\n",
       " Row(market_id='1.122576498', event_name='Thurl 14th Jan', market_name='2m6f Hcap Chs', runner_id=444842, runner_name='Winter Magic', published_time=1451658452972, last_traded_price=6.4),\n",
       " Row(market_id='1.122576498', event_name='Thurl 14th Jan', market_name='2m6f Hcap Chs', runner_id=444842, runner_name='Winter Magic', published_time=1451658452972, last_traded_price=6.4),\n",
       " Row(market_id='1.122576498', event_name='Thurl 14th Jan', market_name='2m6f Hcap Chs', runner_id=444842, runner_name='Winter Magic', published_time=1451658452972, last_traded_price=1.85),\n",
       " Row(market_id='1.122576498', event_name='Thurl 14th Jan', market_name='2m6f Hcap Chs', runner_id=444842, runner_name='Winter Magic', published_time=1451658452972, last_traded_price=1.85),\n",
       " Row(market_id='1.122576498', event_name='Thurl 14th Jan', market_name='2m6f Hcap Chs', runner_id=444842, runner_name='Winter Magic', published_time=1451658513041, last_traded_price=6.6),\n",
       " Row(market_id='1.122576498', event_name='Thurl 14th Jan', market_name='2m6f Hcap Chs', runner_id=444842, runner_name='Winter Magic', published_time=1451658513041, last_traded_price=2.38),\n",
       " Row(market_id='1.122576498', event_name='Thurl 14th Jan', market_name='2m6f Hcap Chs', runner_id=444842, runner_name='Winter Magic', published_time=1451658513041, last_traded_price=6.6),\n",
       " Row(market_id='1.122576498', event_name='Thurl 14th Jan', market_name='2m6f Hcap Chs', runner_id=444842, runner_name='Winter Magic', published_time=1451658513041, last_traded_price=2.38),\n",
       " Row(market_id='1.122576498', event_name='Thurl 14th Jan', market_name='2m6f Hcap Chs', runner_id=444842, runner_name='Winter Magic', published_time=1451658573007, last_traded_price=6.4),\n",
       " Row(market_id='1.122576498', event_name='Thurl 14th Jan', market_name='2m6f Hcap Chs', runner_id=444842, runner_name='Winter Magic', published_time=1451658573007, last_traded_price=2.32),\n",
       " Row(market_id='1.122576498', event_name='Thurl 14th Jan', market_name='2m6f Hcap Chs', runner_id=444842, runner_name='Winter Magic', published_time=1451658573007, last_traded_price=6.4),\n",
       " Row(market_id='1.122576498', event_name='Thurl 14th Jan', market_name='2m6f Hcap Chs', runner_id=444842, runner_name='Winter Magic', published_time=1451658573007, last_traded_price=2.32),\n",
       " Row(market_id='1.122576498', event_name='Thurl 14th Jan', market_name='2m6f Hcap Chs', runner_id=444842, runner_name='Winter Magic', published_time=1451658632913, last_traded_price=2.38),\n",
       " Row(market_id='1.122576498', event_name='Thurl 14th Jan', market_name='2m6f Hcap Chs', runner_id=444842, runner_name='Winter Magic', published_time=1451658632913, last_traded_price=2.38),\n",
       " Row(market_id='1.122576498', event_name='Thurl 14th Jan', market_name='2m6f Hcap Chs', runner_id=444842, runner_name='Winter Magic', published_time=1451658692951, last_traded_price=6.8),\n",
       " Row(market_id='1.122576498', event_name='Thurl 14th Jan', market_name='2m6f Hcap Chs', runner_id=444842, runner_name='Winter Magic', published_time=1451658692951, last_traded_price=2.44),\n",
       " Row(market_id='1.122576498', event_name='Thurl 14th Jan', market_name='2m6f Hcap Chs', runner_id=444842, runner_name='Winter Magic', published_time=1451658692951, last_traded_price=6.8),\n",
       " Row(market_id='1.122576498', event_name='Thurl 14th Jan', market_name='2m6f Hcap Chs', runner_id=444842, runner_name='Winter Magic', published_time=1451658692951, last_traded_price=2.44),\n",
       " Row(market_id='1.122576498', event_name='Thurl 14th Jan', market_name='2m6f Hcap Chs', runner_id=444842, runner_name='Winter Magic', published_time=1451658753037, last_traded_price=6.6),\n",
       " Row(market_id='1.122576498', event_name='Thurl 14th Jan', market_name='2m6f Hcap Chs', runner_id=444842, runner_name='Winter Magic', published_time=1451658753037, last_traded_price=6.6),\n",
       " Row(market_id='1.122576498', event_name='Thurl 14th Jan', market_name='2m6f Hcap Chs', runner_id=444842, runner_name='Winter Magic', published_time=1451658813003, last_traded_price=6.8),\n",
       " Row(market_id='1.122576498', event_name='Thurl 14th Jan', market_name='2m6f Hcap Chs', runner_id=444842, runner_name='Winter Magic', published_time=1451658813003, last_traded_price=6.8),\n",
       " Row(market_id='1.122576498', event_name='Thurl 14th Jan', market_name='2m6f Hcap Chs', runner_id=444842, runner_name='Winter Magic', published_time=1451659052942, last_traded_price=7.0),\n",
       " Row(market_id='1.122576498', event_name='Thurl 14th Jan', market_name='2m6f Hcap Chs', runner_id=444842, runner_name='Winter Magic', published_time=1451659052942, last_traded_price=7.0),\n",
       " Row(market_id='1.122576498', event_name='Thurl 14th Jan', market_name='2m6f Hcap Chs', runner_id=444842, runner_name='Winter Magic', published_time=1451659113024, last_traded_price=6.8),\n",
       " Row(market_id='1.122576498', event_name='Thurl 14th Jan', market_name='2m6f Hcap Chs', runner_id=444842, runner_name='Winter Magic', published_time=1451659113024, last_traded_price=6.8),\n",
       " Row(market_id='1.122576498', event_name='Thurl 14th Jan', market_name='2m6f Hcap Chs', runner_id=444842, runner_name='Winter Magic', published_time=1451659173045, last_traded_price=2.42),\n",
       " Row(market_id='1.122576498', event_name='Thurl 14th Jan', market_name='2m6f Hcap Chs', runner_id=444842, runner_name='Winter Magic', published_time=1451659173045, last_traded_price=2.42),\n",
       " Row(market_id='1.122576498', event_name='Thurl 14th Jan', market_name='2m6f Hcap Chs', runner_id=444842, runner_name='Winter Magic', published_time=1451659413020, last_traded_price=6.6),\n",
       " Row(market_id='1.122576498', event_name='Thurl 14th Jan', market_name='2m6f Hcap Chs', runner_id=444842, runner_name='Winter Magic', published_time=1451659413020, last_traded_price=6.6),\n",
       " Row(market_id='1.122576498', event_name='Thurl 14th Jan', market_name='2m6f Hcap Chs', runner_id=444842, runner_name='Winter Magic', published_time=1451659413020, last_traded_price=1.89),\n",
       " Row(market_id='1.122576498', event_name='Thurl 14th Jan', market_name='2m6f Hcap Chs', runner_id=444842, runner_name='Winter Magic', published_time=1451659413020, last_traded_price=1.89),\n",
       " Row(market_id='1.122576498', event_name='Thurl 14th Jan', market_name='2m6f Hcap Chs', runner_id=444842, runner_name='Winter Magic', published_time=1451659473016, last_traded_price=6.8),\n",
       " Row(market_id='1.122576498', event_name='Thurl 14th Jan', market_name='2m6f Hcap Chs', runner_id=444842, runner_name='Winter Magic', published_time=1451659473016, last_traded_price=6.8),\n",
       " Row(market_id='1.122576498', event_name='Thurl 14th Jan', market_name='2m6f Hcap Chs', runner_id=444842, runner_name='Winter Magic', published_time=1451659532884, last_traded_price=6.6),\n",
       " Row(market_id='1.122576498', event_name='Thurl 14th Jan', market_name='2m6f Hcap Chs', runner_id=444842, runner_name='Winter Magic', published_time=1451659532884, last_traded_price=6.6),\n",
       " Row(market_id='1.122576498', event_name='Thurl 14th Jan', market_name='2m6f Hcap Chs', runner_id=444842, runner_name='Winter Magic', published_time=1451659712978, last_traded_price=6.4),\n",
       " Row(market_id='1.122576498', event_name='Thurl 14th Jan', market_name='2m6f Hcap Chs', runner_id=444842, runner_name='Winter Magic', published_time=1451659712978, last_traded_price=2.4),\n",
       " Row(market_id='1.122576498', event_name='Thurl 14th Jan', market_name='2m6f Hcap Chs', runner_id=444842, runner_name='Winter Magic', published_time=1451659712978, last_traded_price=6.4),\n",
       " Row(market_id='1.122576498', event_name='Thurl 14th Jan', market_name='2m6f Hcap Chs', runner_id=444842, runner_name='Winter Magic', published_time=1451659712978, last_traded_price=2.4),\n",
       " Row(market_id='1.122576498', event_name='Thurl 14th Jan', market_name='2m6f Hcap Chs', runner_id=444842, runner_name='Winter Magic', published_time=1451659832989, last_traded_price=6.6),\n",
       " Row(market_id='1.122576498', event_name='Thurl 14th Jan', market_name='2m6f Hcap Chs', runner_id=444842, runner_name='Winter Magic', published_time=1451659832989, last_traded_price=6.6),\n",
       " Row(market_id='1.122576498', event_name='Thurl 14th Jan', market_name='2m6f Hcap Chs', runner_id=444842, runner_name='Winter Magic', published_time=1451659939286, last_traded_price=1.73),\n",
       " Row(market_id='1.122576498', event_name='Thurl 14th Jan', market_name='2m6f Hcap Chs', runner_id=444842, runner_name='Winter Magic', published_time=1451659939286, last_traded_price=1.73),\n",
       " Row(market_id='1.122576498', event_name='Thurl 14th Jan', market_name='2m6f Hcap Chs', runner_id=444842, runner_name='Winter Magic', published_time=1451659952989, last_traded_price=6.4),\n",
       " Row(market_id='1.122576498', event_name='Thurl 14th Jan', market_name='2m6f Hcap Chs', runner_id=444842, runner_name='Winter Magic', published_time=1451659952989, last_traded_price=6.4),\n",
       " Row(market_id='1.122576498', event_name='Thurl 14th Jan', market_name='2m6f Hcap Chs', runner_id=444842, runner_name='Winter Magic', published_time=1451660072693, last_traded_price=2.32),\n",
       " Row(market_id='1.122576498', event_name='Thurl 14th Jan', market_name='2m6f Hcap Chs', runner_id=444842, runner_name='Winter Magic', published_time=1451660072693, last_traded_price=1.87),\n",
       " Row(market_id='1.122576498', event_name='Thurl 14th Jan', market_name='2m6f Hcap Chs', runner_id=444842, runner_name='Winter Magic', published_time=1451660072693, last_traded_price=2.32),\n",
       " Row(market_id='1.122576498', event_name='Thurl 14th Jan', market_name='2m6f Hcap Chs', runner_id=444842, runner_name='Winter Magic', published_time=1451660072693, last_traded_price=1.87),\n",
       " Row(market_id='1.122576498', event_name='Thurl 14th Jan', market_name='2m6f Hcap Chs', runner_id=444842, runner_name='Winter Magic', published_time=1451660132970, last_traded_price=5.7),\n",
       " Row(market_id='1.122576498', event_name='Thurl 14th Jan', market_name='2m6f Hcap Chs', runner_id=444842, runner_name='Winter Magic', published_time=1451660132970, last_traded_price=5.7),\n",
       " Row(market_id='1.122576498', event_name='Thurl 14th Jan', market_name='2m6f Hcap Chs', runner_id=444842, runner_name='Winter Magic', published_time=1451660176771, last_traded_price=1.75),\n",
       " Row(market_id='1.122576498', event_name='Thurl 14th Jan', market_name='2m6f Hcap Chs', runner_id=444842, runner_name='Winter Magic', published_time=1451660176771, last_traded_price=1.75),\n",
       " Row(market_id='1.122576498', event_name='Thurl 14th Jan', market_name='2m6f Hcap Chs', runner_id=444842, runner_name='Winter Magic', published_time=1451660193041, last_traded_price=5.8),\n",
       " Row(market_id='1.122576498', event_name='Thurl 14th Jan', market_name='2m6f Hcap Chs', runner_id=444842, runner_name='Winter Magic', published_time=1451660193041, last_traded_price=5.8),\n",
       " Row(market_id='1.122576498', event_name='Thurl 14th Jan', market_name='2m6f Hcap Chs', runner_id=444842, runner_name='Winter Magic', published_time=1451660240004, last_traded_price=1.77),\n",
       " Row(market_id='1.122576498', event_name='Thurl 14th Jan', market_name='2m6f Hcap Chs', runner_id=444842, runner_name='Winter Magic', published_time=1451660240004, last_traded_price=1.77),\n",
       " Row(market_id='1.122576498', event_name='Thurl 14th Jan', market_name='2m6f Hcap Chs', runner_id=444842, runner_name='Winter Magic', published_time=1451660253008, last_traded_price=6.2),\n",
       " Row(market_id='1.122576498', event_name='Thurl 14th Jan', market_name='2m6f Hcap Chs', runner_id=444842, runner_name='Winter Magic', published_time=1451660253008, last_traded_price=6.2),\n",
       " Row(market_id='1.122576498', event_name='Thurl 14th Jan', market_name='2m6f Hcap Chs', runner_id=444842, runner_name='Winter Magic', published_time=1451660312967, last_traded_price=6.0),\n",
       " Row(market_id='1.122576498', event_name='Thurl 14th Jan', market_name='2m6f Hcap Chs', runner_id=444842, runner_name='Winter Magic', published_time=1451660312967, last_traded_price=6.0),\n",
       " Row(market_id='1.122576498', event_name='Thurl 14th Jan', market_name='2m6f Hcap Chs', runner_id=444842, runner_name='Winter Magic', published_time=1451660357161, last_traded_price=1.79),\n",
       " Row(market_id='1.122576498', event_name='Thurl 14th Jan', market_name='2m6f Hcap Chs', runner_id=444842, runner_name='Winter Magic', published_time=1451660357161, last_traded_price=1.79),\n",
       " Row(market_id='1.122576498', event_name='Thurl 14th Jan', market_name='2m6f Hcap Chs', runner_id=444842, runner_name='Winter Magic', published_time=1451660372960, last_traded_price=2.26),\n",
       " Row(market_id='1.122576498', event_name='Thurl 14th Jan', market_name='2m6f Hcap Chs', runner_id=444842, runner_name='Winter Magic', published_time=1451660372960, last_traded_price=2.26),\n",
       " Row(market_id='1.122576498', event_name='Thurl 14th Jan', market_name='2m6f Hcap Chs', runner_id=444842, runner_name='Winter Magic', published_time=1451660433005, last_traded_price=5.8),\n",
       " Row(market_id='1.122576498', event_name='Thurl 14th Jan', market_name='2m6f Hcap Chs', runner_id=444842, runner_name='Winter Magic', published_time=1451660433005, last_traded_price=2.18),\n",
       " Row(market_id='1.122576498', event_name='Thurl 14th Jan', market_name='2m6f Hcap Chs', runner_id=444842, runner_name='Winter Magic', published_time=1451660433005, last_traded_price=5.8),\n",
       " Row(market_id='1.122576498', event_name='Thurl 14th Jan', market_name='2m6f Hcap Chs', runner_id=444842, runner_name='Winter Magic', published_time=1451660433005, last_traded_price=1.8),\n",
       " Row(market_id='1.122576498', event_name='Thurl 14th Jan', market_name='2m6f Hcap Chs', runner_id=444842, runner_name='Winter Magic', published_time=1451660433005, last_traded_price=2.18),\n",
       " Row(market_id='1.122576498', event_name='Thurl 14th Jan', market_name='2m6f Hcap Chs', runner_id=444842, runner_name='Winter Magic', published_time=1451660433005, last_traded_price=1.8),\n",
       " Row(market_id='1.122576498', event_name='Thurl 14th Jan', market_name='2m6f Hcap Chs', runner_id=444842, runner_name='Winter Magic', published_time=1451660480095, last_traded_price=1.74),\n",
       " Row(market_id='1.122576498', event_name='Thurl 14th Jan', market_name='2m6f Hcap Chs', runner_id=444842, runner_name='Winter Magic', published_time=1451660480095, last_traded_price=1.74),\n",
       " Row(market_id='1.122576498', event_name='Thurl 14th Jan', market_name='2m6f Hcap Chs', runner_id=444842, runner_name='Winter Magic', published_time=1451660493006, last_traded_price=5.9),\n",
       " Row(market_id='1.122576498', event_name='Thurl 14th Jan', market_name='2m6f Hcap Chs', runner_id=444842, runner_name='Winter Magic', published_time=1451660493006, last_traded_price=2.16),\n",
       " Row(market_id='1.122576498', event_name='Thurl 14th Jan', market_name='2m6f Hcap Chs', runner_id=444842, runner_name='Winter Magic', published_time=1451660493006, last_traded_price=5.9),\n",
       " Row(market_id='1.122576498', event_name='Thurl 14th Jan', market_name='2m6f Hcap Chs', runner_id=444842, runner_name='Winter Magic', published_time=1451660493006, last_traded_price=2.16),\n",
       " Row(market_id='1.122576498', event_name='Thurl 14th Jan', market_name='2m6f Hcap Chs', runner_id=444842, runner_name='Winter Magic', published_time=1451660553035, last_traded_price=6.0),\n",
       " Row(market_id='1.122576498', event_name='Thurl 14th Jan', market_name='2m6f Hcap Chs', runner_id=444842, runner_name='Winter Magic', published_time=1451660553035, last_traded_price=2.14),\n",
       " Row(market_id='1.122576498', event_name='Thurl 14th Jan', market_name='2m6f Hcap Chs', runner_id=444842, runner_name='Winter Magic', published_time=1451660553035, last_traded_price=6.0),\n",
       " Row(market_id='1.122576498', event_name='Thurl 14th Jan', market_name='2m6f Hcap Chs', runner_id=444842, runner_name='Winter Magic', published_time=1451660553035, last_traded_price=2.14),\n",
       " Row(market_id='1.122576498', event_name='Thurl 14th Jan', market_name='2m6f Hcap Chs', runner_id=444842, runner_name='Winter Magic', published_time=1451660612890, last_traded_price=5.9),\n",
       " Row(market_id='1.122576498', event_name='Thurl 14th Jan', market_name='2m6f Hcap Chs', runner_id=444842, runner_name='Winter Magic', published_time=1451660612890, last_traded_price=2.1),\n",
       " Row(market_id='1.122576498', event_name='Thurl 14th Jan', market_name='2m6f Hcap Chs', runner_id=444842, runner_name='Winter Magic', published_time=1451660612890, last_traded_price=5.9),\n",
       " Row(market_id='1.122576498', event_name='Thurl 14th Jan', market_name='2m6f Hcap Chs', runner_id=444842, runner_name='Winter Magic', published_time=1451660612890, last_traded_price=2.1),\n",
       " Row(market_id='1.122576498', event_name='Thurl 14th Jan', market_name='2m6f Hcap Chs', runner_id=444842, runner_name='Winter Magic', published_time=1451660672978, last_traded_price=5.8),\n",
       " Row(market_id='1.122576498', event_name='Thurl 14th Jan', market_name='2m6f Hcap Chs', runner_id=444842, runner_name='Winter Magic', published_time=1451660672978, last_traded_price=2.08),\n",
       " Row(market_id='1.122576498', event_name='Thurl 14th Jan', market_name='2m6f Hcap Chs', runner_id=444842, runner_name='Winter Magic', published_time=1451660672978, last_traded_price=5.8),\n",
       " Row(market_id='1.122576498', event_name='Thurl 14th Jan', market_name='2m6f Hcap Chs', runner_id=444842, runner_name='Winter Magic', published_time=1451660672978, last_traded_price=1.77),\n",
       " Row(market_id='1.122576498', event_name='Thurl 14th Jan', market_name='2m6f Hcap Chs', runner_id=444842, runner_name='Winter Magic', published_time=1451660672978, last_traded_price=2.08),\n",
       " Row(market_id='1.122576498', event_name='Thurl 14th Jan', market_name='2m6f Hcap Chs', runner_id=444842, runner_name='Winter Magic', published_time=1451660672978, last_traded_price=1.77),\n",
       " Row(market_id='1.122576498', event_name='Thurl 14th Jan', market_name='2m6f Hcap Chs', runner_id=444842, runner_name='Winter Magic', published_time=1451660732957, last_traded_price=2.1),\n",
       " Row(market_id='1.122576498', event_name='Thurl 14th Jan', market_name='2m6f Hcap Chs', runner_id=444842, runner_name='Winter Magic', published_time=1451660732957, last_traded_price=5.6),\n",
       " Row(market_id='1.122576498', event_name='Thurl 14th Jan', market_name='2m6f Hcap Chs', runner_id=444842, runner_name='Winter Magic', published_time=1451660732957, last_traded_price=1.81),\n",
       " Row(market_id='1.122576498', event_name='Thurl 14th Jan', market_name='2m6f Hcap Chs', runner_id=444842, runner_name='Winter Magic', published_time=1451660732957, last_traded_price=5.6),\n",
       " Row(market_id='1.122576498', event_name='Thurl 14th Jan', market_name='2m6f Hcap Chs', runner_id=444842, runner_name='Winter Magic', published_time=1451660732957, last_traded_price=2.1),\n",
       " Row(market_id='1.122576498', event_name='Thurl 14th Jan', market_name='2m6f Hcap Chs', runner_id=444842, runner_name='Winter Magic', published_time=1451660732957, last_traded_price=1.81),\n",
       " Row(market_id='1.122576498', event_name='Thurl 14th Jan', market_name='2m6f Hcap Chs', runner_id=444842, runner_name='Winter Magic', published_time=1451660779943, last_traded_price=1.65),\n",
       " Row(market_id='1.122576498', event_name='Thurl 14th Jan', market_name='2m6f Hcap Chs', runner_id=444842, runner_name='Winter Magic', published_time=1451660779943, last_traded_price=1.65),\n",
       " Row(market_id='1.122576498', event_name='Thurl 14th Jan', market_name='2m6f Hcap Chs', runner_id=444842, runner_name='Winter Magic', published_time=1451660792964, last_traded_price=6.0),\n",
       " Row(market_id='1.122576498', event_name='Thurl 14th Jan', market_name='2m6f Hcap Chs', runner_id=444842, runner_name='Winter Magic', published_time=1451660792964, last_traded_price=2.18),\n",
       " Row(market_id='1.122576498', event_name='Thurl 14th Jan', market_name='2m6f Hcap Chs', runner_id=444842, runner_name='Winter Magic', published_time=1451660792964, last_traded_price=6.0),\n",
       " Row(market_id='1.122576498', event_name='Thurl 14th Jan', market_name='2m6f Hcap Chs', runner_id=444842, runner_name='Winter Magic', published_time=1451660792964, last_traded_price=2.18),\n",
       " Row(market_id='1.122576498', event_name='Thurl 14th Jan', market_name='2m6f Hcap Chs', runner_id=444842, runner_name='Winter Magic', published_time=1451660852970, last_traded_price=5.8),\n",
       " Row(market_id='1.122576498', event_name='Thurl 14th Jan', market_name='2m6f Hcap Chs', runner_id=444842, runner_name='Winter Magic', published_time=1451660852970, last_traded_price=2.1),\n",
       " Row(market_id='1.122576498', event_name='Thurl 14th Jan', market_name='2m6f Hcap Chs', runner_id=444842, runner_name='Winter Magic', published_time=1451660852970, last_traded_price=5.8),\n",
       " Row(market_id='1.122576498', event_name='Thurl 14th Jan', market_name='2m6f Hcap Chs', runner_id=444842, runner_name='Winter Magic', published_time=1451660852970, last_traded_price=1.7),\n",
       " Row(market_id='1.122576498', event_name='Thurl 14th Jan', market_name='2m6f Hcap Chs', runner_id=444842, runner_name='Winter Magic', published_time=1451660852970, last_traded_price=2.1),\n",
       " Row(market_id='1.122576498', event_name='Thurl 14th Jan', market_name='2m6f Hcap Chs', runner_id=444842, runner_name='Winter Magic', published_time=1451660852970, last_traded_price=1.7),\n",
       " Row(market_id='1.122576498', event_name='Thurl 14th Jan', market_name='2m6f Hcap Chs', runner_id=444842, runner_name='Winter Magic', published_time=1451660899754, last_traded_price=1.6),\n",
       " Row(market_id='1.122576498', event_name='Thurl 14th Jan', market_name='2m6f Hcap Chs', runner_id=444842, runner_name='Winter Magic', published_time=1451660899754, last_traded_price=1.6),\n",
       " Row(market_id='1.122576498', event_name='Thurl 14th Jan', market_name='2m6f Hcap Chs', runner_id=444842, runner_name='Winter Magic', published_time=1451660913041, last_traded_price=5.6),\n",
       " Row(market_id='1.122576498', event_name='Thurl 14th Jan', market_name='2m6f Hcap Chs', runner_id=444842, runner_name='Winter Magic', published_time=1451660913041, last_traded_price=2.12),\n",
       " Row(market_id='1.122576498', event_name='Thurl 14th Jan', market_name='2m6f Hcap Chs', runner_id=444842, runner_name='Winter Magic', published_time=1451660913041, last_traded_price=5.6),\n",
       " Row(market_id='1.122576498', event_name='Thurl 14th Jan', market_name='2m6f Hcap Chs', runner_id=444842, runner_name='Winter Magic', published_time=1451660913041, last_traded_price=1.86),\n",
       " Row(market_id='1.122576498', event_name='Thurl 14th Jan', market_name='2m6f Hcap Chs', runner_id=444842, runner_name='Winter Magic', published_time=1451660913041, last_traded_price=2.12),\n",
       " Row(market_id='1.122576498', event_name='Thurl 14th Jan', market_name='2m6f Hcap Chs', runner_id=444842, runner_name='Winter Magic', published_time=1451660913041, last_traded_price=1.86),\n",
       " Row(market_id='1.122576498', event_name='Thurl 14th Jan', market_name='2m6f Hcap Chs', runner_id=444842, runner_name='Winter Magic', published_time=1451660973040, last_traded_price=5.1),\n",
       " Row(market_id='1.122576498', event_name='Thurl 14th Jan', market_name='2m6f Hcap Chs', runner_id=444842, runner_name='Winter Magic', published_time=1451660973040, last_traded_price=2.06),\n",
       " Row(market_id='1.122576498', event_name='Thurl 14th Jan', market_name='2m6f Hcap Chs', runner_id=444842, runner_name='Winter Magic', published_time=1451660973040, last_traded_price=5.1),\n",
       " Row(market_id='1.122576498', event_name='Thurl 14th Jan', market_name='2m6f Hcap Chs', runner_id=444842, runner_name='Winter Magic', published_time=1451660973040, last_traded_price=5.5),\n",
       " Row(market_id='1.122576498', event_name='Thurl 14th Jan', market_name='2m6f Hcap Chs', runner_id=444842, runner_name='Winter Magic', published_time=1451660973040, last_traded_price=1.7),\n",
       " Row(market_id='1.122576498', event_name='Thurl 14th Jan', market_name='2m6f Hcap Chs', runner_id=444842, runner_name='Winter Magic', published_time=1451660973040, last_traded_price=5.5),\n",
       " Row(market_id='1.122576498', event_name='Thurl 14th Jan', market_name='2m6f Hcap Chs', runner_id=444842, runner_name='Winter Magic', published_time=1451660973040, last_traded_price=2.06),\n",
       " Row(market_id='1.122576498', event_name='Thurl 14th Jan', market_name='2m6f Hcap Chs', runner_id=444842, runner_name='Winter Magic', published_time=1451660973040, last_traded_price=1.7),\n",
       " Row(market_id='1.122576498', event_name='Thurl 14th Jan', market_name='2m6f Hcap Chs', runner_id=444842, runner_name='Winter Magic', published_time=1451661032956, last_traded_price=5.3),\n",
       " Row(market_id='1.122576498', event_name='Thurl 14th Jan', market_name='2m6f Hcap Chs', runner_id=444842, runner_name='Winter Magic', published_time=1451661032956, last_traded_price=2.08),\n",
       " Row(market_id='1.122576498', event_name='Thurl 14th Jan', market_name='2m6f Hcap Chs', runner_id=444842, runner_name='Winter Magic', published_time=1451661032956, last_traded_price=5.3),\n",
       " Row(market_id='1.122576498', event_name='Thurl 14th Jan', market_name='2m6f Hcap Chs', runner_id=444842, runner_name='Winter Magic', published_time=1451661032956, last_traded_price=5.2),\n",
       " Row(market_id='1.122576498', event_name='Thurl 14th Jan', market_name='2m6f Hcap Chs', runner_id=444842, runner_name='Winter Magic', published_time=1451661032956, last_traded_price=1.69),\n",
       " Row(market_id='1.122576498', event_name='Thurl 14th Jan', market_name='2m6f Hcap Chs', runner_id=444842, runner_name='Winter Magic', published_time=1451661032956, last_traded_price=5.2),\n",
       " Row(market_id='1.122576498', event_name='Thurl 14th Jan', market_name='2m6f Hcap Chs', runner_id=444842, runner_name='Winter Magic', published_time=1451661032956, last_traded_price=2.08),\n",
       " Row(market_id='1.122576498', event_name='Thurl 14th Jan', market_name='2m6f Hcap Chs', runner_id=444842, runner_name='Winter Magic', published_time=1451661032956, last_traded_price=1.69),\n",
       " Row(market_id='1.122576498', event_name='Thurl 14th Jan', market_name='2m6f Hcap Chs', runner_id=444842, runner_name='Winter Magic', published_time=1451661080088, last_traded_price=1.5),\n",
       " Row(market_id='1.122576498', event_name='Thurl 14th Jan', market_name='2m6f Hcap Chs', runner_id=444842, runner_name='Winter Magic', published_time=1451661080088, last_traded_price=1.5),\n",
       " Row(market_id='1.122576498', event_name='Thurl 14th Jan', market_name='2m6f Hcap Chs', runner_id=444842, runner_name='Winter Magic', published_time=1451661093040, last_traded_price=5.1),\n",
       " Row(market_id='1.122576498', event_name='Thurl 14th Jan', market_name='2m6f Hcap Chs', runner_id=444842, runner_name='Winter Magic', published_time=1451661093040, last_traded_price=2.02),\n",
       " Row(market_id='1.122576498', event_name='Thurl 14th Jan', market_name='2m6f Hcap Chs', runner_id=444842, runner_name='Winter Magic', published_time=1451661093040, last_traded_price=5.1),\n",
       " Row(market_id='1.122576498', event_name='Thurl 14th Jan', market_name='2m6f Hcap Chs', runner_id=444842, runner_name='Winter Magic', published_time=1451661093040, last_traded_price=1.68),\n",
       " Row(market_id='1.122576498', event_name='Thurl 14th Jan', market_name='2m6f Hcap Chs', runner_id=444842, runner_name='Winter Magic', published_time=1451661093040, last_traded_price=2.02),\n",
       " Row(market_id='1.122576498', event_name='Thurl 14th Jan', market_name='2m6f Hcap Chs', runner_id=444842, runner_name='Winter Magic', published_time=1451661093040, last_traded_price=1.68),\n",
       " Row(market_id='1.122576498', event_name='Thurl 14th Jan', market_name='2m6f Hcap Chs', runner_id=444842, runner_name='Winter Magic', published_time=1451661111019, last_traded_price=1.6),\n",
       " Row(market_id='1.122576498', event_name='Thurl 14th Jan', market_name='2m6f Hcap Chs', runner_id=444842, runner_name='Winter Magic', published_time=1451661111019, last_traded_price=1.6),\n",
       " Row(market_id='1.122576498', event_name='Thurl 14th Jan', market_name='2m6f Hcap Chs', runner_id=444842, runner_name='Winter Magic', published_time=1451661152990, last_traded_price=3.5),\n",
       " Row(market_id='1.122576498', event_name='Thurl 14th Jan', market_name='2m6f Hcap Chs', runner_id=444842, runner_name='Winter Magic', published_time=1451661152990, last_traded_price=1.69),\n",
       " Row(market_id='1.122576498', event_name='Thurl 14th Jan', market_name='2m6f Hcap Chs', runner_id=444842, runner_name='Winter Magic', published_time=1451661152990, last_traded_price=3.5),\n",
       " Row(market_id='1.122576498', event_name='Thurl 14th Jan', market_name='2m6f Hcap Chs', runner_id=444842, runner_name='Winter Magic', published_time=1451661152990, last_traded_price=1.44),\n",
       " Row(market_id='1.122576498', event_name='Thurl 14th Jan', market_name='2m6f Hcap Chs', runner_id=444842, runner_name='Winter Magic', published_time=1451661152990, last_traded_price=1.69),\n",
       " Row(market_id='1.122576498', event_name='Thurl 14th Jan', market_name='2m6f Hcap Chs', runner_id=444842, runner_name='Winter Magic', published_time=1451661152990, last_traded_price=1.44),\n",
       " Row(market_id='1.122576498', event_name='Thurl 14th Jan', market_name='2m6f Hcap Chs', runner_id=444842, runner_name='Winter Magic', published_time=1451661213039, last_traded_price=2.6),\n",
       " Row(market_id='1.122576498', event_name='Thurl 14th Jan', market_name='2m6f Hcap Chs', runner_id=444842, runner_name='Winter Magic', published_time=1451661213039, last_traded_price=1.41),\n",
       " Row(market_id='1.122576498', event_name='Thurl 14th Jan', market_name='2m6f Hcap Chs', runner_id=444842, runner_name='Winter Magic', published_time=1451661213039, last_traded_price=2.6),\n",
       " Row(market_id='1.122576498', event_name='Thurl 14th Jan', market_name='2m6f Hcap Chs', runner_id=444842, runner_name='Winter Magic', published_time=1451661213039, last_traded_price=1.39),\n",
       " Row(market_id='1.122576498', event_name='Thurl 14th Jan', market_name='2m6f Hcap Chs', runner_id=444842, runner_name='Winter Magic', published_time=1451661213039, last_traded_price=1.41),\n",
       " Row(market_id='1.122576498', event_name='Thurl 14th Jan', market_name='2m6f Hcap Chs', runner_id=444842, runner_name='Winter Magic', published_time=1451661213039, last_traded_price=1.39),\n",
       " Row(market_id='1.122576498', event_name='Thurl 14th Jan', market_name='2m6f Hcap Chs', runner_id=444842, runner_name='Winter Magic', published_time=1451661273009, last_traded_price=2.44),\n",
       " Row(market_id='1.122576498', event_name='Thurl 14th Jan', market_name='2m6f Hcap Chs', runner_id=444842, runner_name='Winter Magic', published_time=1451661273009, last_traded_price=1.31),\n",
       " Row(market_id='1.122576498', event_name='Thurl 14th Jan', market_name='2m6f Hcap Chs', runner_id=444842, runner_name='Winter Magic', published_time=1451661273009, last_traded_price=2.44),\n",
       " Row(market_id='1.122576498', event_name='Thurl 14th Jan', market_name='2m6f Hcap Chs', runner_id=444842, runner_name='Winter Magic', published_time=1451661273009, last_traded_price=1.31),\n",
       " Row(market_id='1.122576498', event_name='Thurl 14th Jan', market_name='2m6f Hcap Chs', runner_id=444842, runner_name='Winter Magic', published_time=1451661332993, last_traded_price=2.84),\n",
       " Row(market_id='1.122576498', event_name='Thurl 14th Jan', market_name='2m6f Hcap Chs', runner_id=444842, runner_name='Winter Magic', published_time=1451661332993, last_traded_price=1.37),\n",
       " Row(market_id='1.122576498', event_name='Thurl 14th Jan', market_name='2m6f Hcap Chs', runner_id=444842, runner_name='Winter Magic', published_time=1451661332993, last_traded_price=2.84),\n",
       " Row(market_id='1.122576498', event_name='Thurl 14th Jan', market_name='2m6f Hcap Chs', runner_id=444842, runner_name='Winter Magic', published_time=1451661332993, last_traded_price=1.44),\n",
       " Row(market_id='1.122576498', event_name='Thurl 14th Jan', market_name='2m6f Hcap Chs', runner_id=444842, runner_name='Winter Magic', published_time=1451661332993, last_traded_price=1.37),\n",
       " Row(market_id='1.122576498', event_name='Thurl 14th Jan', market_name='2m6f Hcap Chs', runner_id=444842, runner_name='Winter Magic', published_time=1451661332993, last_traded_price=1.44),\n",
       " Row(market_id='1.122576498', event_name='Thurl 14th Jan', market_name='2m6f Hcap Chs', runner_id=444842, runner_name='Winter Magic', published_time=1451661392973, last_traded_price=2.96),\n",
       " Row(market_id='1.122576498', event_name='Thurl 14th Jan', market_name='2m6f Hcap Chs', runner_id=444842, runner_name='Winter Magic', published_time=1451661392973, last_traded_price=1.36),\n",
       " Row(market_id='1.122576498', event_name='Thurl 14th Jan', market_name='2m6f Hcap Chs', runner_id=444842, runner_name='Winter Magic', published_time=1451661392973, last_traded_price=2.96),\n",
       " Row(market_id='1.122576498', event_name='Thurl 14th Jan', market_name='2m6f Hcap Chs', runner_id=444842, runner_name='Winter Magic', published_time=1451661392973, last_traded_price=1.26),\n",
       " Row(market_id='1.122576498', event_name='Thurl 14th Jan', market_name='2m6f Hcap Chs', runner_id=444842, runner_name='Winter Magic', published_time=1451661392973, last_traded_price=1.36),\n",
       " Row(market_id='1.122576498', event_name='Thurl 14th Jan', market_name='2m6f Hcap Chs', runner_id=444842, runner_name='Winter Magic', published_time=1451661392973, last_traded_price=1.26),\n",
       " Row(market_id='1.122576498', event_name='Thurl 14th Jan', market_name='2m6f Hcap Chs', runner_id=444842, runner_name='Winter Magic', published_time=1451661453052, last_traded_price=3.2),\n",
       " Row(market_id='1.122576498', event_name='Thurl 14th Jan', market_name='2m6f Hcap Chs', runner_id=444842, runner_name='Winter Magic', published_time=1451661453052, last_traded_price=1.42),\n",
       " Row(market_id='1.122576498', event_name='Thurl 14th Jan', market_name='2m6f Hcap Chs', runner_id=444842, runner_name='Winter Magic', published_time=1451661453052, last_traded_price=3.2),\n",
       " Row(market_id='1.122576498', event_name='Thurl 14th Jan', market_name='2m6f Hcap Chs', runner_id=444842, runner_name='Winter Magic', published_time=1451661453052, last_traded_price=1.42),\n",
       " Row(market_id='1.122576498', event_name='Thurl 14th Jan', market_name='2m6f Hcap Chs', runner_id=444842, runner_name='Winter Magic', published_time=1451661512998, last_traded_price=2.94),\n",
       " Row(market_id='1.122576498', event_name='Thurl 14th Jan', market_name='2m6f Hcap Chs', runner_id=444842, runner_name='Winter Magic', published_time=1451661512998, last_traded_price=1.22),\n",
       " Row(market_id='1.122576498', event_name='Thurl 14th Jan', market_name='2m6f Hcap Chs', runner_id=444842, runner_name='Winter Magic', published_time=1451661512998, last_traded_price=2.94),\n",
       " Row(market_id='1.122576498', event_name='Thurl 14th Jan', market_name='2m6f Hcap Chs', runner_id=444842, runner_name='Winter Magic', published_time=1451661512998, last_traded_price=1.22),\n",
       " Row(market_id='1.122576498', event_name='Thurl 14th Jan', market_name='2m6f Hcap Chs', runner_id=444842, runner_name='Winter Magic', published_time=1451661572792, last_traded_price=1000.0),\n",
       " Row(market_id='1.122576498', event_name='Thurl 14th Jan', market_name='2m6f Hcap Chs', runner_id=444842, runner_name='Winter Magic', published_time=1451661572792, last_traded_price=4.0),\n",
       " Row(market_id='1.122576498', event_name='Thurl 14th Jan', market_name='2m6f Hcap Chs', runner_id=444842, runner_name='Winter Magic', published_time=1451661572792, last_traded_price=1000.0),\n",
       " Row(market_id='1.122576498', event_name='Thurl 14th Jan', market_name='2m6f Hcap Chs', runner_id=444842, runner_name='Winter Magic', published_time=1451661572792, last_traded_price=1.1),\n",
       " Row(market_id='1.122576498', event_name='Thurl 14th Jan', market_name='2m6f Hcap Chs', runner_id=444842, runner_name='Winter Magic', published_time=1451661572792, last_traded_price=4.0),\n",
       " Row(market_id='1.122576498', event_name='Thurl 14th Jan', market_name='2m6f Hcap Chs', runner_id=444842, runner_name='Winter Magic', published_time=1451661572792, last_traded_price=1.1),\n",
       " Row(market_id='1.122576498', event_name='Thurl 14th Jan', market_name='2m6f Hcap Chs', runner_id=6939953, runner_name='Coolnagorna Giggs', published_time=1452712450381, last_traded_price=7.8),\n",
       " Row(market_id='1.122576498', event_name='Thurl 14th Jan', market_name='2m6f Hcap Chs', runner_id=6939953, runner_name='Coolnagorna Giggs', published_time=1452712450381, last_traded_price=7.8),\n",
       " Row(market_id='1.122576498', event_name='Thurl 14th Jan', market_name='2m6f Hcap Chs', runner_id=5568158, runner_name='Mister First', published_time=1452713642583, last_traded_price=10.5),\n",
       " Row(market_id='1.122576498', event_name='Thurl 14th Jan', market_name='2m6f Hcap Chs', runner_id=5568158, runner_name='Mister First', published_time=1452713642583, last_traded_price=10.5),\n",
       " Row(market_id='1.122576498', event_name='Thurl 14th Jan', market_name='2m6f Hcap Chs', runner_id=8742358, runner_name='Topper Thornton', published_time=1452714439156, last_traded_price=9.0),\n",
       " Row(market_id='1.122576498', event_name='Thurl 14th Jan', market_name='2m6f Hcap Chs', runner_id=8742358, runner_name='Topper Thornton', published_time=1452714439156, last_traded_price=9.0),\n",
       " Row(market_id='1.122576498', event_name='Thurl 14th Jan', market_name='2m6f Hcap Chs', runner_id=7281856, runner_name='Tooreen', published_time=1452715024612, last_traded_price=6.8),\n",
       " Row(market_id='1.122576498', event_name='Thurl 14th Jan', market_name='2m6f Hcap Chs', runner_id=7281856, runner_name='Tooreen', published_time=1452715024612, last_traded_price=6.8),\n",
       " Row(market_id='1.122576498', event_name='Thurl 14th Jan', market_name='2m6f Hcap Chs', runner_id=7281856, runner_name='Tooreen', published_time=1452715099578, last_traded_price=6.0),\n",
       " Row(market_id='1.122576498', event_name='Thurl 14th Jan', market_name='2m6f Hcap Chs', runner_id=7281856, runner_name='Tooreen', published_time=1452715099578, last_traded_price=6.0),\n",
       " Row(market_id='1.122576498', event_name='Thurl 14th Jan', market_name='2m6f Hcap Chs', runner_id=444842, runner_name='Winter Magic', published_time=1452715511351, last_traded_price=4.9),\n",
       " Row(market_id='1.122576498', event_name='Thurl 14th Jan', market_name='2m6f Hcap Chs', runner_id=444842, runner_name='Winter Magic', published_time=1452715511351, last_traded_price=4.9),\n",
       " Row(market_id='1.122576498', event_name='Thurl 14th Jan', market_name='2m6f Hcap Chs', runner_id=7281856, runner_name='Tooreen', published_time=1452716059579, last_traded_price=5.8),\n",
       " Row(market_id='1.122576498', event_name='Thurl 14th Jan', market_name='2m6f Hcap Chs', runner_id=7281856, runner_name='Tooreen', published_time=1452716059579, last_traded_price=5.8),\n",
       " Row(market_id='1.122576498', event_name='Thurl 14th Jan', market_name='2m6f Hcap Chs', runner_id=444842, runner_name='Winter Magic', published_time=1452716239386, last_traded_price=4.6),\n",
       " Row(market_id='1.122576498', event_name='Thurl 14th Jan', market_name='2m6f Hcap Chs', runner_id=444842, runner_name='Winter Magic', published_time=1452716239386, last_traded_price=4.6),\n",
       " Row(market_id='1.122576498', event_name='Thurl 14th Jan', market_name='2m6f Hcap Chs', runner_id=7281856, runner_name='Tooreen', published_time=1452716239386, last_traded_price=5.1),\n",
       " Row(market_id='1.122576498', event_name='Thurl 14th Jan', market_name='2m6f Hcap Chs', runner_id=7281856, runner_name='Tooreen', published_time=1452716239386, last_traded_price=5.1),\n",
       " Row(market_id='1.122576498', event_name='Thurl 14th Jan', market_name='2m6f Hcap Chs', runner_id=7281856, runner_name='Tooreen', published_time=1452716420079, last_traded_price=5.3),\n",
       " Row(market_id='1.122576498', event_name='Thurl 14th Jan', market_name='2m6f Hcap Chs', runner_id=7281856, runner_name='Tooreen', published_time=1452716420079, last_traded_price=5.3),\n",
       " Row(market_id='1.122576498', event_name='Thurl 14th Jan', market_name='2m6f Hcap Chs', runner_id=444842, runner_name='Winter Magic', published_time=1452716476791, last_traded_price=4.5),\n",
       " Row(market_id='1.122576498', event_name='Thurl 14th Jan', market_name='2m6f Hcap Chs', runner_id=444842, runner_name='Winter Magic', published_time=1452716476791, last_traded_price=4.5),\n",
       " Row(market_id='1.122576498', event_name='Thurl 14th Jan', market_name='2m6f Hcap Chs', runner_id=7281856, runner_name='Tooreen', published_time=1452716594350, last_traded_price=5.1),\n",
       " Row(market_id='1.122576498', event_name='Thurl 14th Jan', market_name='2m6f Hcap Chs', runner_id=7281856, runner_name='Tooreen', published_time=1452716594350, last_traded_price=5.1),\n",
       " Row(market_id='1.122576498', event_name='Thurl 14th Jan', market_name='2m6f Hcap Chs', runner_id=444842, runner_name='Winter Magic', published_time=1452717243924, last_traded_price=4.9),\n",
       " Row(market_id='1.122576498', event_name='Thurl 14th Jan', market_name='2m6f Hcap Chs', runner_id=444842, runner_name='Winter Magic', published_time=1452717243924, last_traded_price=4.9),\n",
       " Row(market_id='1.122576498', event_name='Thurl 14th Jan', market_name='2m6f Hcap Chs', runner_id=444842, runner_name='Winter Magic', published_time=1452717314956, last_traded_price=4.8),\n",
       " Row(market_id='1.122576498', event_name='Thurl 14th Jan', market_name='2m6f Hcap Chs', runner_id=444842, runner_name='Winter Magic', published_time=1452717314956, last_traded_price=4.8),\n",
       " Row(market_id='1.122576498', event_name='Thurl 14th Jan', market_name='2m6f Hcap Chs', runner_id=444842, runner_name='Winter Magic', published_time=1452717498975, last_traded_price=5.0),\n",
       " Row(market_id='1.122576498', event_name='Thurl 14th Jan', market_name='2m6f Hcap Chs', runner_id=444842, runner_name='Winter Magic', published_time=1452717498975, last_traded_price=5.0),\n",
       " Row(market_id='1.122576498', event_name='Thurl 14th Jan', market_name='2m6f Hcap Chs', runner_id=5568158, runner_name='Mister First', published_time=1452720440121, last_traded_price=9.6),\n",
       " Row(market_id='1.122576498', event_name='Thurl 14th Jan', market_name='2m6f Hcap Chs', runner_id=5568158, runner_name='Mister First', published_time=1452720440121, last_traded_price=9.6),\n",
       " Row(market_id='1.122576498', event_name='Thurl 14th Jan', market_name='2m6f Hcap Chs', runner_id=444842, runner_name='Winter Magic', published_time=1452720671699, last_traded_price=4.8),\n",
       " Row(market_id='1.122576498', event_name='Thurl 14th Jan', market_name='2m6f Hcap Chs', runner_id=444842, runner_name='Winter Magic', published_time=1452720671699, last_traded_price=4.8),\n",
       " Row(market_id='1.122576498', event_name='Thurl 14th Jan', market_name='2m6f Hcap Chs', runner_id=7281856, runner_name='Tooreen', published_time=1452720671699, last_traded_price=2.14),\n",
       " Row(market_id='1.122576498', event_name='Thurl 14th Jan', market_name='2m6f Hcap Chs', runner_id=7281856, runner_name='Tooreen', published_time=1452720671699, last_traded_price=2.14),\n",
       " Row(market_id='1.122576498', event_name='Thurl 14th Jan', market_name='2m6f Hcap Chs', runner_id=444842, runner_name='Winter Magic', published_time=1452721100025, last_traded_price=5.0),\n",
       " Row(market_id='1.122576498', event_name='Thurl 14th Jan', market_name='2m6f Hcap Chs', runner_id=444842, runner_name='Winter Magic', published_time=1452721100025, last_traded_price=5.0),\n",
       " Row(market_id='1.122576498', event_name='Thurl 14th Jan', market_name='2m6f Hcap Chs', runner_id=6939953, runner_name='Coolnagorna Giggs', published_time=1452721638750, last_traded_price=8.6),\n",
       " Row(market_id='1.122576498', event_name='Thurl 14th Jan', market_name='2m6f Hcap Chs', runner_id=6939953, runner_name='Coolnagorna Giggs', published_time=1452721638750, last_traded_price=8.6),\n",
       " Row(market_id='1.122576498', event_name='Thurl 14th Jan', market_name='2m6f Hcap Chs', runner_id=444842, runner_name='Winter Magic', published_time=1452722420164, last_traded_price=5.2),\n",
       " Row(market_id='1.122576498', event_name='Thurl 14th Jan', market_name='2m6f Hcap Chs', runner_id=444842, runner_name='Winter Magic', published_time=1452722420164, last_traded_price=5.2),\n",
       " Row(market_id='1.122576498', event_name='Thurl 14th Jan', market_name='2m6f Hcap Chs', runner_id=6939953, runner_name='Coolnagorna Giggs', published_time=1452722658867, last_traded_price=8.0),\n",
       " Row(market_id='1.122576498', event_name='Thurl 14th Jan', market_name='2m6f Hcap Chs', runner_id=6939953, runner_name='Coolnagorna Giggs', published_time=1452722658867, last_traded_price=8.0),\n",
       " Row(market_id='1.122576498', event_name='Thurl 14th Jan', market_name='2m6f Hcap Chs', runner_id=6939953, runner_name='Coolnagorna Giggs', published_time=1452723378727, last_traded_price=8.2),\n",
       " Row(market_id='1.122576498', event_name='Thurl 14th Jan', market_name='2m6f Hcap Chs', runner_id=6939953, runner_name='Coolnagorna Giggs', published_time=1452723378727, last_traded_price=8.2),\n",
       " Row(market_id='1.122576498', event_name='Thurl 14th Jan', market_name='2m6f Hcap Chs', runner_id=444842, runner_name='Winter Magic', published_time=1452723438567, last_traded_price=1.71),\n",
       " Row(market_id='1.122576498', event_name='Thurl 14th Jan', market_name='2m6f Hcap Chs', runner_id=444842, runner_name='Winter Magic', published_time=1452723438567, last_traded_price=1.71),\n",
       " Row(market_id='1.122576498', event_name='Thurl 14th Jan', market_name='2m6f Hcap Chs', runner_id=6939953, runner_name='Coolnagorna Giggs', published_time=1452723438567, last_traded_price=7.0),\n",
       " Row(market_id='1.122576498', event_name='Thurl 14th Jan', market_name='2m6f Hcap Chs', runner_id=6939953, runner_name='Coolnagorna Giggs', published_time=1452723438567, last_traded_price=2.12),\n",
       " Row(market_id='1.122576498', event_name='Thurl 14th Jan', market_name='2m6f Hcap Chs', runner_id=6939953, runner_name='Coolnagorna Giggs', published_time=1452723438567, last_traded_price=2.12),\n",
       " Row(market_id='1.122576498', event_name='Thurl 14th Jan', market_name='2m6f Hcap Chs', runner_id=6939953, runner_name='Coolnagorna Giggs', published_time=1452723438567, last_traded_price=7.0),\n",
       " Row(market_id='1.122576498', event_name='Thurl 14th Jan', market_name='2m6f Hcap Chs', runner_id=7281856, runner_name='Tooreen', published_time=1452723677549, last_traded_price=5.2),\n",
       " Row(market_id='1.122576498', event_name='Thurl 14th Jan', market_name='2m6f Hcap Chs', runner_id=7281856, runner_name='Tooreen', published_time=1452723677549, last_traded_price=5.2),\n",
       " Row(market_id='1.122576498', event_name='Thurl 14th Jan', market_name='2m6f Hcap Chs', runner_id=7253717, runner_name='Gary', published_time=1452723799011, last_traded_price=55.0),\n",
       " Row(market_id='1.122576498', event_name='Thurl 14th Jan', market_name='2m6f Hcap Chs', runner_id=7253717, runner_name='Gary', published_time=1452723799011, last_traded_price=55.0),\n",
       " Row(market_id='1.122576498', event_name='Thurl 14th Jan', market_name='2m6f Hcap Chs', runner_id=444842, runner_name='Winter Magic', published_time=1452724760094, last_traded_price=5.3),\n",
       " Row(market_id='1.122576498', event_name='Thurl 14th Jan', market_name='2m6f Hcap Chs', runner_id=444842, runner_name='Winter Magic', published_time=1452724760094, last_traded_price=5.3),\n",
       " Row(market_id='1.122576498', event_name='Thurl 14th Jan', market_name='2m6f Hcap Chs', runner_id=7011147, runner_name='He Rocks', published_time=1452724760094, last_traded_price=10.0),\n",
       " Row(market_id='1.122576498', event_name='Thurl 14th Jan', market_name='2m6f Hcap Chs', runner_id=7011147, runner_name='He Rocks', published_time=1452724760094, last_traded_price=10.0),\n",
       " Row(market_id='1.122576498', event_name='Thurl 14th Jan', market_name='2m6f Hcap Chs', runner_id=6939953, runner_name='Coolnagorna Giggs', published_time=1452724760094, last_traded_price=7.6),\n",
       " Row(market_id='1.122576498', event_name='Thurl 14th Jan', market_name='2m6f Hcap Chs', runner_id=6939953, runner_name='Coolnagorna Giggs', published_time=1452724760094, last_traded_price=7.6),\n",
       " Row(market_id='1.122576498', event_name='Thurl 14th Jan', market_name='2m6f Hcap Chs', runner_id=7281856, runner_name='Tooreen', published_time=1452724760094, last_traded_price=5.1),\n",
       " Row(market_id='1.122576498', event_name='Thurl 14th Jan', market_name='2m6f Hcap Chs', runner_id=7281856, runner_name='Tooreen', published_time=1452724760094, last_traded_price=5.1),\n",
       " Row(market_id='1.122576498', event_name='Thurl 14th Jan', market_name='2m6f Hcap Chs', runner_id=7011147, runner_name='He Rocks', published_time=1452726079314, last_traded_price=3.0),\n",
       " Row(market_id='1.122576498', event_name='Thurl 14th Jan', market_name='2m6f Hcap Chs', runner_id=7011147, runner_name='He Rocks', published_time=1452726079314, last_traded_price=3.0),\n",
       " Row(market_id='1.122576498', event_name='Thurl 14th Jan', market_name='2m6f Hcap Chs', runner_id=5415401, runner_name='Miradane', published_time=1452728477049, last_traded_price=15.0),\n",
       " Row(market_id='1.122576498', event_name='Thurl 14th Jan', market_name='2m6f Hcap Chs', runner_id=5415401, runner_name='Miradane', published_time=1452728477049, last_traded_price=15.0),\n",
       " Row(market_id='1.122576498', event_name='Thurl 14th Jan', market_name='2m6f Hcap Chs', runner_id=8996652, runner_name='Shadow Play', published_time=1452732438499, last_traded_price=11.0),\n",
       " Row(market_id='1.122576498', event_name='Thurl 14th Jan', market_name='2m6f Hcap Chs', runner_id=8996652, runner_name='Shadow Play', published_time=1452732438499, last_traded_price=11.0),\n",
       " Row(market_id='1.122576498', event_name='Thurl 14th Jan', market_name='2m6f Hcap Chs', runner_id=5415401, runner_name='Miradane', published_time=1452732492652, last_traded_price=14.5),\n",
       " Row(market_id='1.122576498', event_name='Thurl 14th Jan', market_name='2m6f Hcap Chs', runner_id=5415401, runner_name='Miradane', published_time=1452732492652, last_traded_price=14.5),\n",
       " Row(market_id='1.122576498', event_name='Thurl 14th Jan', market_name='2m6f Hcap Chs', runner_id=8742358, runner_name='Topper Thornton', published_time=1452732559880, last_traded_price=8.6),\n",
       " Row(market_id='1.122576498', event_name='Thurl 14th Jan', market_name='2m6f Hcap Chs', runner_id=8742358, runner_name='Topper Thornton', published_time=1452732559880, last_traded_price=8.6),\n",
       " Row(market_id='1.122576498', event_name='Thurl 14th Jan', market_name='2m6f Hcap Chs', runner_id=5568158, runner_name='Mister First', published_time=1452733400131, last_traded_price=9.4),\n",
       " Row(market_id='1.122576498', event_name='Thurl 14th Jan', market_name='2m6f Hcap Chs', runner_id=5568158, runner_name='Mister First', published_time=1452733400131, last_traded_price=9.4),\n",
       " Row(market_id='1.122576498', event_name='Thurl 14th Jan', market_name='2m6f Hcap Chs', runner_id=5415401, runner_name='Miradane', published_time=1452735256981, last_traded_price=14.0),\n",
       " Row(market_id='1.122576498', event_name='Thurl 14th Jan', market_name='2m6f Hcap Chs', runner_id=5415401, runner_name='Miradane', published_time=1452735256981, last_traded_price=14.0),\n",
       " Row(market_id='1.122576498', event_name='Thurl 14th Jan', market_name='2m6f Hcap Chs', runner_id=8996652, runner_name='Shadow Play', published_time=1452735256981, last_traded_price=10.5),\n",
       " Row(market_id='1.122576498', event_name='Thurl 14th Jan', market_name='2m6f Hcap Chs', runner_id=8996652, runner_name='Shadow Play', published_time=1452735256981, last_traded_price=10.5),\n",
       " Row(market_id='1.122576498', event_name='Thurl 14th Jan', market_name='2m6f Hcap Chs', runner_id=5415401, runner_name='Miradane', published_time=1452735319181, last_traded_price=11.5),\n",
       " Row(market_id='1.122576498', event_name='Thurl 14th Jan', market_name='2m6f Hcap Chs', runner_id=5415401, runner_name='Miradane', published_time=1452735319181, last_traded_price=11.5),\n",
       " Row(market_id='1.122576498', event_name='Thurl 14th Jan', market_name='2m6f Hcap Chs', runner_id=5415401, runner_name='Miradane', published_time=1452737410094, last_traded_price=11.0),\n",
       " Row(market_id='1.122576498', event_name='Thurl 14th Jan', market_name='2m6f Hcap Chs', runner_id=5415401, runner_name='Miradane', published_time=1452737410094, last_traded_price=11.0),\n",
       " Row(market_id='1.122576498', event_name='Thurl 14th Jan', market_name='2m6f Hcap Chs', runner_id=8996652, runner_name='Shadow Play', published_time=1452737410094, last_traded_price=11.0),\n",
       " Row(market_id='1.122576498', event_name='Thurl 14th Jan', market_name='2m6f Hcap Chs', runner_id=8996652, runner_name='Shadow Play', published_time=1452737410094, last_traded_price=11.0),\n",
       " Row(market_id='1.122576498', event_name='Thurl 14th Jan', market_name='2m6f Hcap Chs', runner_id=444842, runner_name='Winter Magic', published_time=1452738199760, last_traded_price=2.06),\n",
       " Row(market_id='1.122576498', event_name='Thurl 14th Jan', market_name='2m6f Hcap Chs', runner_id=444842, runner_name='Winter Magic', published_time=1452738199760, last_traded_price=2.06),\n",
       " Row(market_id='1.122576498', event_name='Thurl 14th Jan', market_name='2m6f Hcap Chs', runner_id=7281856, runner_name='Tooreen', published_time=1452742336714, last_traded_price=4.7),\n",
       " Row(market_id='1.122576498', event_name='Thurl 14th Jan', market_name='2m6f Hcap Chs', runner_id=7281856, runner_name='Tooreen', published_time=1452742336714, last_traded_price=2.02),\n",
       " Row(market_id='1.122576498', event_name='Thurl 14th Jan', market_name='2m6f Hcap Chs', runner_id=7281856, runner_name='Tooreen', published_time=1452742336714, last_traded_price=2.02),\n",
       " Row(market_id='1.122576498', event_name='Thurl 14th Jan', market_name='2m6f Hcap Chs', runner_id=7281856, runner_name='Tooreen', published_time=1452742336714, last_traded_price=4.7),\n",
       " Row(market_id='1.122576498', event_name='Thurl 14th Jan', market_name='2m6f Hcap Chs', runner_id=6939953, runner_name='Coolnagorna Giggs', published_time=1452747672382, last_traded_price=7.8),\n",
       " Row(market_id='1.122576498', event_name='Thurl 14th Jan', market_name='2m6f Hcap Chs', runner_id=6939953, runner_name='Coolnagorna Giggs', published_time=1452747672382, last_traded_price=7.8),\n",
       " Row(market_id='1.122576498', event_name='Thurl 14th Jan', market_name='2m6f Hcap Chs', runner_id=7281856, runner_name='Tooreen', published_time=1452752658841, last_traded_price=5.3),\n",
       " Row(market_id='1.122576498', event_name='Thurl 14th Jan', market_name='2m6f Hcap Chs', runner_id=7281856, runner_name='Tooreen', published_time=1452752658841, last_traded_price=5.3),\n",
       " Row(market_id='1.122576498', event_name='Thurl 14th Jan', market_name='2m6f Hcap Chs', runner_id=444842, runner_name='Winter Magic', published_time=1452752777490, last_traded_price=5.0),\n",
       " Row(market_id='1.122576498', event_name='Thurl 14th Jan', market_name='2m6f Hcap Chs', runner_id=444842, runner_name='Winter Magic', published_time=1452752777490, last_traded_price=5.0),\n",
       " Row(market_id='1.122576498', event_name='Thurl 14th Jan', market_name='2m6f Hcap Chs', runner_id=7281856, runner_name='Tooreen', published_time=1452752900003, last_traded_price=2.14),\n",
       " Row(market_id='1.122576498', event_name='Thurl 14th Jan', market_name='2m6f Hcap Chs', runner_id=7281856, runner_name='Tooreen', published_time=1452752900003, last_traded_price=2.14),\n",
       " Row(market_id='1.122576498', event_name='Thurl 14th Jan', market_name='2m6f Hcap Chs', runner_id=7281856, runner_name='Tooreen', published_time=1452756017652, last_traded_price=5.9),\n",
       " Row(market_id='1.122576498', event_name='Thurl 14th Jan', market_name='2m6f Hcap Chs', runner_id=7281856, runner_name='Tooreen', published_time=1452756017652, last_traded_price=5.9),\n",
       " Row(market_id='1.122576498', event_name='Thurl 14th Jan', market_name='2m6f Hcap Chs', runner_id=444842, runner_name='Winter Magic', published_time=1452756064596, last_traded_price=4.6),\n",
       " Row(market_id='1.122576498', event_name='Thurl 14th Jan', market_name='2m6f Hcap Chs', runner_id=444842, runner_name='Winter Magic', published_time=1452756064596, last_traded_price=4.6),\n",
       " Row(market_id='1.122576498', event_name='Thurl 14th Jan', market_name='2m6f Hcap Chs', runner_id=7281856, runner_name='Tooreen', published_time=1452757037560, last_traded_price=6.2),\n",
       " Row(market_id='1.122576498', event_name='Thurl 14th Jan', market_name='2m6f Hcap Chs', runner_id=7281856, runner_name='Tooreen', published_time=1452757037560, last_traded_price=6.2),\n",
       " Row(market_id='1.122576498', event_name='Thurl 14th Jan', market_name='2m6f Hcap Chs', runner_id=8742358, runner_name='Topper Thornton', published_time=1452757207828, last_traded_price=10.0),\n",
       " Row(market_id='1.122576498', event_name='Thurl 14th Jan', market_name='2m6f Hcap Chs', runner_id=8742358, runner_name='Topper Thornton', published_time=1452757207828, last_traded_price=10.0),\n",
       " Row(market_id='1.122576498', event_name='Thurl 14th Jan', market_name='2m6f Hcap Chs', runner_id=444842, runner_name='Winter Magic', published_time=1452757277099, last_traded_price=4.9),\n",
       " Row(market_id='1.122576498', event_name='Thurl 14th Jan', market_name='2m6f Hcap Chs', runner_id=444842, runner_name='Winter Magic', published_time=1452757277099, last_traded_price=4.9),\n",
       " Row(market_id='1.122576498', event_name='Thurl 14th Jan', market_name='2m6f Hcap Chs', runner_id=7281856, runner_name='Tooreen', published_time=1452757758581, last_traded_price=6.4),\n",
       " Row(market_id='1.122576498', event_name='Thurl 14th Jan', market_name='2m6f Hcap Chs', runner_id=7281856, runner_name='Tooreen', published_time=1452757758581, last_traded_price=6.4),\n",
       " Row(market_id='1.122576498', event_name='Thurl 14th Jan', market_name='2m6f Hcap Chs', runner_id=7011147, runner_name='He Rocks', published_time=1452757819332, last_traded_price=2.98),\n",
       " Row(market_id='1.122576498', event_name='Thurl 14th Jan', market_name='2m6f Hcap Chs', runner_id=7011147, runner_name='He Rocks', published_time=1452757819332, last_traded_price=2.98),\n",
       " Row(market_id='1.122576498', event_name='Thurl 14th Jan', market_name='2m6f Hcap Chs', runner_id=444842, runner_name='Winter Magic', published_time=1452758000254, last_traded_price=4.7),\n",
       " Row(market_id='1.122576498', event_name='Thurl 14th Jan', market_name='2m6f Hcap Chs', runner_id=444842, runner_name='Winter Magic', published_time=1452758000254, last_traded_price=1.97),\n",
       " Row(market_id='1.122576498', event_name='Thurl 14th Jan', market_name='2m6f Hcap Chs', runner_id=444842, runner_name='Winter Magic', published_time=1452758000254, last_traded_price=1.97),\n",
       " Row(market_id='1.122576498', event_name='Thurl 14th Jan', market_name='2m6f Hcap Chs', runner_id=444842, runner_name='Winter Magic', published_time=1452758000254, last_traded_price=4.7),\n",
       " Row(market_id='1.122576498', event_name='Thurl 14th Jan', market_name='2m6f Hcap Chs', runner_id=6939953, runner_name='Coolnagorna Giggs', published_time=1452758000254, last_traded_price=7.6),\n",
       " Row(market_id='1.122576498', event_name='Thurl 14th Jan', market_name='2m6f Hcap Chs', runner_id=6939953, runner_name='Coolnagorna Giggs', published_time=1452758000254, last_traded_price=7.6),\n",
       " Row(market_id='1.122576498', event_name='Thurl 14th Jan', market_name='2m6f Hcap Chs', runner_id=6939953, runner_name='Coolnagorna Giggs', published_time=1452758059589, last_traded_price=2.52),\n",
       " Row(market_id='1.122576498', event_name='Thurl 14th Jan', market_name='2m6f Hcap Chs', runner_id=6939953, runner_name='Coolnagorna Giggs', published_time=1452758059589, last_traded_price=2.52),\n",
       " Row(market_id='1.122576498', event_name='Thurl 14th Jan', market_name='2m6f Hcap Chs', runner_id=5568158, runner_name='Mister First', published_time=1452758180030, last_traded_price=9.2),\n",
       " Row(market_id='1.122576498', event_name='Thurl 14th Jan', market_name='2m6f Hcap Chs', runner_id=5568158, runner_name='Mister First', published_time=1452758180030, last_traded_price=9.2),\n",
       " Row(market_id='1.122576498', event_name='Thurl 14th Jan', market_name='2m6f Hcap Chs', runner_id=444842, runner_name='Winter Magic', published_time=1452758240056, last_traded_price=4.5),\n",
       " Row(market_id='1.122576498', event_name='Thurl 14th Jan', market_name='2m6f Hcap Chs', runner_id=444842, runner_name='Winter Magic', published_time=1452758240056, last_traded_price=4.5),\n",
       " Row(market_id='1.122576498', event_name='Thurl 14th Jan', market_name='2m6f Hcap Chs', runner_id=8742358, runner_name='Topper Thornton', published_time=1452758240056, last_traded_price=11.0),\n",
       " Row(market_id='1.122576498', event_name='Thurl 14th Jan', market_name='2m6f Hcap Chs', runner_id=8742358, runner_name='Topper Thornton', published_time=1452758240056, last_traded_price=11.0),\n",
       " Row(market_id='1.122576498', event_name='Thurl 14th Jan', market_name='2m6f Hcap Chs', runner_id=7281856, runner_name='Tooreen', published_time=1452758420254, last_traded_price=7.2),\n",
       " Row(market_id='1.122576498', event_name='Thurl 14th Jan', market_name='2m6f Hcap Chs', runner_id=7281856, runner_name='Tooreen', published_time=1452758420254, last_traded_price=7.2),\n",
       " Row(market_id='1.122576498', event_name='Thurl 14th Jan', market_name='2m6f Hcap Chs', runner_id=444842, runner_name='Winter Magic', published_time=1452758720206, last_traded_price=4.9),\n",
       " Row(market_id='1.122576498', event_name='Thurl 14th Jan', market_name='2m6f Hcap Chs', runner_id=444842, runner_name='Winter Magic', published_time=1452758720206, last_traded_price=4.9),\n",
       " Row(market_id='1.122576498', event_name='Thurl 14th Jan', market_name='2m6f Hcap Chs', runner_id=6939953, runner_name='Coolnagorna Giggs', published_time=1452758720206, last_traded_price=7.4),\n",
       " Row(market_id='1.122576498', event_name='Thurl 14th Jan', market_name='2m6f Hcap Chs', runner_id=6939953, runner_name='Coolnagorna Giggs', published_time=1452758720206, last_traded_price=7.4),\n",
       " Row(market_id='1.122576498', event_name='Thurl 14th Jan', market_name='2m6f Hcap Chs', runner_id=5415401, runner_name='Miradane', published_time=1452758895149, last_traded_price=4.0),\n",
       " Row(market_id='1.122576498', event_name='Thurl 14th Jan', market_name='2m6f Hcap Chs', runner_id=5415401, runner_name='Miradane', published_time=1452758895149, last_traded_price=4.0),\n",
       " Row(market_id='1.122576498', event_name='Thurl 14th Jan', market_name='2m6f Hcap Chs', runner_id=444842, runner_name='Winter Magic', published_time=1452758959947, last_traded_price=4.6),\n",
       " Row(market_id='1.122576498', event_name='Thurl 14th Jan', market_name='2m6f Hcap Chs', runner_id=444842, runner_name='Winter Magic', published_time=1452758959947, last_traded_price=1.85),\n",
       " Row(market_id='1.122576498', event_name='Thurl 14th Jan', market_name='2m6f Hcap Chs', runner_id=444842, runner_name='Winter Magic', published_time=1452758959947, last_traded_price=1.85),\n",
       " Row(market_id='1.122576498', event_name='Thurl 14th Jan', market_name='2m6f Hcap Chs', runner_id=444842, runner_name='Winter Magic', published_time=1452758959947, last_traded_price=4.6),\n",
       " Row(market_id='1.122576498', event_name='Thurl 14th Jan', market_name='2m6f Hcap Chs', runner_id=7281856, runner_name='Tooreen', published_time=1452758959947, last_traded_price=2.34),\n",
       " Row(market_id='1.122576498', event_name='Thurl 14th Jan', market_name='2m6f Hcap Chs', runner_id=7281856, runner_name='Tooreen', published_time=1452758959947, last_traded_price=2.34),\n",
       " Row(market_id='1.122576498', event_name='Thurl 14th Jan', market_name='2m6f Hcap Chs', runner_id=444842, runner_name='Winter Magic', published_time=1452759019673, last_traded_price=4.4),\n",
       " Row(market_id='1.122576498', event_name='Thurl 14th Jan', market_name='2m6f Hcap Chs', runner_id=444842, runner_name='Winter Magic', published_time=1452759019673, last_traded_price=4.4),\n",
       " Row(market_id='1.122576498', event_name='Thurl 14th Jan', market_name='2m6f Hcap Chs', runner_id=8742358, runner_name='Topper Thornton', published_time=1452759079107, last_traded_price=9.2),\n",
       " Row(market_id='1.122576498', event_name='Thurl 14th Jan', market_name='2m6f Hcap Chs', runner_id=8742358, runner_name='Topper Thornton', published_time=1452759079107, last_traded_price=9.2),\n",
       " Row(market_id='1.122576498', event_name='Thurl 14th Jan', market_name='2m6f Hcap Chs', runner_id=5568158, runner_name='Mister First', published_time=1452759199749, last_traded_price=10.0),\n",
       " Row(market_id='1.122576498', event_name='Thurl 14th Jan', market_name='2m6f Hcap Chs', runner_id=5568158, runner_name='Mister First', published_time=1452759199749, last_traded_price=10.0),\n",
       " Row(market_id='1.122576498', event_name='Thurl 14th Jan', market_name='2m6f Hcap Chs', runner_id=8742358, runner_name='Topper Thornton', published_time=1452759438892, last_traded_price=3.1),\n",
       " Row(market_id='1.122576498', event_name='Thurl 14th Jan', market_name='2m6f Hcap Chs', runner_id=8742358, runner_name='Topper Thornton', published_time=1452759438892, last_traded_price=3.1),\n",
       " Row(market_id='1.122576498', event_name='Thurl 14th Jan', market_name='2m6f Hcap Chs', runner_id=7281856, runner_name='Tooreen', published_time=1452759614344, last_traded_price=7.4),\n",
       " Row(market_id='1.122576498', event_name='Thurl 14th Jan', market_name='2m6f Hcap Chs', runner_id=7281856, runner_name='Tooreen', published_time=1452759614344, last_traded_price=7.4),\n",
       " Row(market_id='1.122576498', event_name='Thurl 14th Jan', market_name='2m6f Hcap Chs', runner_id=8742358, runner_name='Topper Thornton', published_time=1452759739998, last_traded_price=9.0),\n",
       " Row(market_id='1.122576498', event_name='Thurl 14th Jan', market_name='2m6f Hcap Chs', runner_id=8742358, runner_name='Topper Thornton', published_time=1452759739998, last_traded_price=9.0),\n",
       " Row(market_id='1.122576498', event_name='Thurl 14th Jan', market_name='2m6f Hcap Chs', runner_id=444842, runner_name='Winter Magic', published_time=1452759798049, last_traded_price=4.2),\n",
       " Row(market_id='1.122576498', event_name='Thurl 14th Jan', market_name='2m6f Hcap Chs', runner_id=444842, runner_name='Winter Magic', published_time=1452759798049, last_traded_price=4.2),\n",
       " Row(market_id='1.122576498', event_name='Thurl 14th Jan', market_name='2m6f Hcap Chs', runner_id=5568158, runner_name='Mister First', published_time=1452759798049, last_traded_price=10.5),\n",
       " Row(market_id='1.122576498', event_name='Thurl 14th Jan', market_name='2m6f Hcap Chs', runner_id=5568158, runner_name='Mister First', published_time=1452759798049, last_traded_price=10.5),\n",
       " Row(market_id='1.122576498', event_name='Thurl 14th Jan', market_name='2m6f Hcap Chs', runner_id=8742358, runner_name='Topper Thornton', published_time=1452759798049, last_traded_price=8.4),\n",
       " Row(market_id='1.122576498', event_name='Thurl 14th Jan', market_name='2m6f Hcap Chs', runner_id=8742358, runner_name='Topper Thornton', published_time=1452759798049, last_traded_price=8.4),\n",
       " Row(market_id='1.122576498', event_name='Thurl 14th Jan', market_name='2m6f Hcap Chs', runner_id=444842, runner_name='Winter Magic', published_time=1452761059713, last_traded_price=5.0),\n",
       " Row(market_id='1.122576498', event_name='Thurl 14th Jan', market_name='2m6f Hcap Chs', runner_id=444842, runner_name='Winter Magic', published_time=1452761059713, last_traded_price=5.0),\n",
       " Row(market_id='1.122576498', event_name='Thurl 14th Jan', market_name='2m6f Hcap Chs', runner_id=6939953, runner_name='Coolnagorna Giggs', published_time=1452761359482, last_traded_price=7.0),\n",
       " Row(market_id='1.122576498', event_name='Thurl 14th Jan', market_name='2m6f Hcap Chs', runner_id=6939953, runner_name='Coolnagorna Giggs', published_time=1452761359482, last_traded_price=7.0),\n",
       " Row(market_id='1.122576498', event_name='Thurl 14th Jan', market_name='2m6f Hcap Chs', runner_id=444842, runner_name='Winter Magic', published_time=1452761719786, last_traded_price=4.6),\n",
       " Row(market_id='1.122576498', event_name='Thurl 14th Jan', market_name='2m6f Hcap Chs', runner_id=444842, runner_name='Winter Magic', published_time=1452761719786, last_traded_price=4.6),\n",
       " Row(market_id='1.122576498', event_name='Thurl 14th Jan', market_name='2m6f Hcap Chs', runner_id=444842, runner_name='Winter Magic', published_time=1452762139940, last_traded_price=5.0),\n",
       " Row(market_id='1.122576498', event_name='Thurl 14th Jan', market_name='2m6f Hcap Chs', runner_id=444842, runner_name='Winter Magic', published_time=1452762139940, last_traded_price=2.0),\n",
       " Row(market_id='1.122576498', event_name='Thurl 14th Jan', market_name='2m6f Hcap Chs', runner_id=444842, runner_name='Winter Magic', published_time=1452762139940, last_traded_price=2.0),\n",
       " Row(market_id='1.122576498', event_name='Thurl 14th Jan', market_name='2m6f Hcap Chs', runner_id=444842, runner_name='Winter Magic', published_time=1452762139940, last_traded_price=5.0),\n",
       " Row(market_id='1.122576498', event_name='Thurl 14th Jan', market_name='2m6f Hcap Chs', runner_id=7281856, runner_name='Tooreen', published_time=1452762320167, last_traded_price=6.6),\n",
       " Row(market_id='1.122576498', event_name='Thurl 14th Jan', market_name='2m6f Hcap Chs', runner_id=7281856, runner_name='Tooreen', published_time=1452762320167, last_traded_price=6.6),\n",
       " Row(market_id='1.122576498', event_name='Thurl 14th Jan', market_name='2m6f Hcap Chs', runner_id=8742358, runner_name='Topper Thornton', published_time=1452762918133, last_traded_price=2.98),\n",
       " Row(market_id='1.122576498', event_name='Thurl 14th Jan', market_name='2m6f Hcap Chs', runner_id=8742358, runner_name='Topper Thornton', published_time=1452762918133, last_traded_price=2.98),\n",
       " Row(market_id='1.122576498', event_name='Thurl 14th Jan', market_name='2m6f Hcap Chs', runner_id=7011147, runner_name='He Rocks', published_time=1452763039494, last_traded_price=12.0),\n",
       " Row(market_id='1.122576498', event_name='Thurl 14th Jan', market_name='2m6f Hcap Chs', runner_id=7011147, runner_name='He Rocks', published_time=1452763039494, last_traded_price=12.0),\n",
       " Row(market_id='1.122576498', event_name='Thurl 14th Jan', market_name='2m6f Hcap Chs', runner_id=8996652, runner_name='Shadow Play', published_time=1452763219910, last_traded_price=13.0),\n",
       " Row(market_id='1.122576498', event_name='Thurl 14th Jan', market_name='2m6f Hcap Chs', runner_id=8996652, runner_name='Shadow Play', published_time=1452763219910, last_traded_price=13.0),\n",
       " Row(market_id='1.122576498', event_name='Thurl 14th Jan', market_name='2m6f Hcap Chs', runner_id=9483270, runner_name='Mountain Philip', published_time=1452763459748, last_traded_price=29.0),\n",
       " Row(market_id='1.122576498', event_name='Thurl 14th Jan', market_name='2m6f Hcap Chs', runner_id=9483270, runner_name='Mountain Philip', published_time=1452763459748, last_traded_price=29.0),\n",
       " Row(market_id='1.122576498', event_name='Thurl 14th Jan', market_name='2m6f Hcap Chs', runner_id=6939953, runner_name='Coolnagorna Giggs', published_time=1452763759521, last_traded_price=6.8),\n",
       " Row(market_id='1.122576498', event_name='Thurl 14th Jan', market_name='2m6f Hcap Chs', runner_id=6939953, runner_name='Coolnagorna Giggs', published_time=1452763759521, last_traded_price=6.8),\n",
       " Row(market_id='1.122576498', event_name='Thurl 14th Jan', market_name='2m6f Hcap Chs', runner_id=7281856, runner_name='Tooreen', published_time=1452764175163, last_traded_price=7.4),\n",
       " Row(market_id='1.122576498', event_name='Thurl 14th Jan', market_name='2m6f Hcap Chs', runner_id=7281856, runner_name='Tooreen', published_time=1452764175163, last_traded_price=7.4),\n",
       " Row(market_id='1.122576498', event_name='Thurl 14th Jan', market_name='2m6f Hcap Chs', runner_id=7281856, runner_name='Tooreen', published_time=1452764479762, last_traded_price=7.2),\n",
       " Row(market_id='1.122576498', event_name='Thurl 14th Jan', market_name='2m6f Hcap Chs', runner_id=7281856, runner_name='Tooreen', published_time=1452764479762, last_traded_price=7.2),\n",
       " Row(market_id='1.122576498', event_name='Thurl 14th Jan', market_name='2m6f Hcap Chs', runner_id=8742358, runner_name='Topper Thornton', published_time=1452764780120, last_traded_price=8.0),\n",
       " Row(market_id='1.122576498', event_name='Thurl 14th Jan', market_name='2m6f Hcap Chs', runner_id=8742358, runner_name='Topper Thornton', published_time=1452764780120, last_traded_price=8.0),\n",
       " Row(market_id='1.122576498', event_name='Thurl 14th Jan', market_name='2m6f Hcap Chs', runner_id=7011147, runner_name='He Rocks', published_time=1452765139627, last_traded_price=9.6),\n",
       " Row(market_id='1.122576498', event_name='Thurl 14th Jan', market_name='2m6f Hcap Chs', runner_id=7011147, runner_name='He Rocks', published_time=1452765139627, last_traded_price=3.3),\n",
       " Row(market_id='1.122576498', event_name='Thurl 14th Jan', market_name='2m6f Hcap Chs', runner_id=7011147, runner_name='He Rocks', published_time=1452765139627, last_traded_price=3.3),\n",
       " Row(market_id='1.122576498', event_name='Thurl 14th Jan', market_name='2m6f Hcap Chs', runner_id=7011147, runner_name='He Rocks', published_time=1452765139627, last_traded_price=9.6),\n",
       " Row(market_id='1.122576498', event_name='Thurl 14th Jan', market_name='2m6f Hcap Chs', runner_id=7281856, runner_name='Tooreen', published_time=1452765139627, last_traded_price=7.6),\n",
       " Row(market_id='1.122576498', event_name='Thurl 14th Jan', market_name='2m6f Hcap Chs', runner_id=7281856, runner_name='Tooreen', published_time=1452765139627, last_traded_price=7.6),\n",
       " Row(market_id='1.122576498', event_name='Thurl 14th Jan', market_name='2m6f Hcap Chs', runner_id=7011147, runner_name='He Rocks', published_time=1452765260130, last_traded_price=9.0),\n",
       " Row(market_id='1.122576498', event_name='Thurl 14th Jan', market_name='2m6f Hcap Chs', runner_id=7011147, runner_name='He Rocks', published_time=1452765260130, last_traded_price=9.0),\n",
       " Row(market_id='1.122576498', event_name='Thurl 14th Jan', market_name='2m6f Hcap Chs', runner_id=6939953, runner_name='Coolnagorna Giggs', published_time=1452765260130, last_traded_price=7.0),\n",
       " Row(market_id='1.122576498', event_name='Thurl 14th Jan', market_name='2m6f Hcap Chs', runner_id=6939953, runner_name='Coolnagorna Giggs', published_time=1452765260130, last_traded_price=7.0),\n",
       " Row(market_id='1.122576498', event_name='Thurl 14th Jan', market_name='2m6f Hcap Chs', runner_id=7011147, runner_name='He Rocks', published_time=1452765320202, last_traded_price=8.8),\n",
       " Row(market_id='1.122576498', event_name='Thurl 14th Jan', market_name='2m6f Hcap Chs', runner_id=7011147, runner_name='He Rocks', published_time=1452765320202, last_traded_price=3.25),\n",
       " Row(market_id='1.122576498', event_name='Thurl 14th Jan', market_name='2m6f Hcap Chs', runner_id=7011147, runner_name='He Rocks', published_time=1452765320202, last_traded_price=3.25),\n",
       " Row(market_id='1.122576498', event_name='Thurl 14th Jan', market_name='2m6f Hcap Chs', runner_id=7011147, runner_name='He Rocks', published_time=1452765320202, last_traded_price=8.8),\n",
       " Row(market_id='1.122576498', event_name='Thurl 14th Jan', market_name='2m6f Hcap Chs', runner_id=444842, runner_name='Winter Magic', published_time=1452765379246, last_traded_price=4.9),\n",
       " Row(market_id='1.122576498', event_name='Thurl 14th Jan', market_name='2m6f Hcap Chs', runner_id=444842, runner_name='Winter Magic', published_time=1452765379246, last_traded_price=4.9),\n",
       " Row(market_id='1.122576498', event_name='Thurl 14th Jan', market_name='2m6f Hcap Chs', runner_id=444842, runner_name='Winter Magic', published_time=1452765440075, last_traded_price=4.7),\n",
       " Row(market_id='1.122576498', event_name='Thurl 14th Jan', market_name='2m6f Hcap Chs', runner_id=444842, runner_name='Winter Magic', published_time=1452765440075, last_traded_price=4.8),\n",
       " Row(market_id='1.122576498', event_name='Thurl 14th Jan', market_name='2m6f Hcap Chs', runner_id=444842, runner_name='Winter Magic', published_time=1452765440075, last_traded_price=1.91),\n",
       " Row(market_id='1.122576498', event_name='Thurl 14th Jan', market_name='2m6f Hcap Chs', runner_id=444842, runner_name='Winter Magic', published_time=1452765440075, last_traded_price=1.91),\n",
       " Row(market_id='1.122576498', event_name='Thurl 14th Jan', market_name='2m6f Hcap Chs', runner_id=444842, runner_name='Winter Magic', published_time=1452765440075, last_traded_price=4.7),\n",
       " Row(market_id='1.122576498', event_name='Thurl 14th Jan', market_name='2m6f Hcap Chs', runner_id=444842, runner_name='Winter Magic', published_time=1452765440075, last_traded_price=4.8),\n",
       " Row(market_id='1.122576498', event_name='Thurl 14th Jan', market_name='2m6f Hcap Chs', runner_id=7011147, runner_name='He Rocks', published_time=1452765440075, last_traded_price=8.2),\n",
       " Row(market_id='1.122576498', event_name='Thurl 14th Jan', market_name='2m6f Hcap Chs', runner_id=7011147, runner_name='He Rocks', published_time=1452765440075, last_traded_price=8.2),\n",
       " Row(market_id='1.122576498', event_name='Thurl 14th Jan', market_name='2m6f Hcap Chs', runner_id=7011147, runner_name='He Rocks', published_time=1452765499670, last_traded_price=8.6),\n",
       " Row(market_id='1.122576498', event_name='Thurl 14th Jan', market_name='2m6f Hcap Chs', runner_id=7011147, runner_name='He Rocks', published_time=1452765499670, last_traded_price=8.6),\n",
       " Row(market_id='1.122576498', event_name='Thurl 14th Jan', market_name='2m6f Hcap Chs', runner_id=6939953, runner_name='Coolnagorna Giggs', published_time=1452765499670, last_traded_price=6.8),\n",
       " Row(market_id='1.122576498', event_name='Thurl 14th Jan', market_name='2m6f Hcap Chs', runner_id=6939953, runner_name='Coolnagorna Giggs', published_time=1452765499670, last_traded_price=6.8),\n",
       " Row(market_id='1.122576498', event_name='Thurl 14th Jan', market_name='2m6f Hcap Chs', runner_id=7011147, runner_name='He Rocks', published_time=1452765559646, last_traded_price=8.0),\n",
       " Row(market_id='1.122576498', event_name='Thurl 14th Jan', market_name='2m6f Hcap Chs', runner_id=7011147, runner_name='He Rocks', published_time=1452765559646, last_traded_price=8.0),\n",
       " Row(market_id='1.122576498', event_name='Thurl 14th Jan', market_name='2m6f Hcap Chs', runner_id=7011147, runner_name='He Rocks', published_time=1452765620198, last_traded_price=8.4),\n",
       " Row(market_id='1.122576498', event_name='Thurl 14th Jan', market_name='2m6f Hcap Chs', runner_id=7011147, runner_name='He Rocks', published_time=1452765620198, last_traded_price=8.4),\n",
       " Row(market_id='1.122576498', event_name='Thurl 14th Jan', market_name='2m6f Hcap Chs', runner_id=444842, runner_name='Winter Magic', published_time=1452765680169, last_traded_price=4.7),\n",
       " Row(market_id='1.122576498', event_name='Thurl 14th Jan', market_name='2m6f Hcap Chs', runner_id=444842, runner_name='Winter Magic', published_time=1452765680169, last_traded_price=4.7),\n",
       " Row(market_id='1.122576498', event_name='Thurl 14th Jan', market_name='2m6f Hcap Chs', runner_id=5568158, runner_name='Mister First', published_time=1452765680169, last_traded_price=3.3),\n",
       " Row(market_id='1.122576498', event_name='Thurl 14th Jan', market_name='2m6f Hcap Chs', runner_id=5568158, runner_name='Mister First', published_time=1452765680169, last_traded_price=3.3),\n",
       " Row(market_id='1.122576498', event_name='Thurl 14th Jan', market_name='2m6f Hcap Chs', runner_id=7011147, runner_name='He Rocks', published_time=1452765680169, last_traded_price=8.2),\n",
       " Row(market_id='1.122576498', event_name='Thurl 14th Jan', market_name='2m6f Hcap Chs', runner_id=7011147, runner_name='He Rocks', published_time=1452765680169, last_traded_price=8.2),\n",
       " Row(market_id='1.122576498', event_name='Thurl 14th Jan', market_name='2m6f Hcap Chs', runner_id=7281856, runner_name='Tooreen', published_time=1452765680169, last_traded_price=7.4),\n",
       " Row(market_id='1.122576498', event_name='Thurl 14th Jan', market_name='2m6f Hcap Chs', runner_id=7281856, runner_name='Tooreen', published_time=1452765680169, last_traded_price=7.4),\n",
       " Row(market_id='1.122576498', event_name='Thurl 14th Jan', market_name='2m6f Hcap Chs', runner_id=7011147, runner_name='He Rocks', published_time=1452765740224, last_traded_price=8.6),\n",
       " Row(market_id='1.122576498', event_name='Thurl 14th Jan', market_name='2m6f Hcap Chs', runner_id=7011147, runner_name='He Rocks', published_time=1452765740224, last_traded_price=8.6),\n",
       " Row(market_id='1.122576498', event_name='Thurl 14th Jan', market_name='2m6f Hcap Chs', runner_id=6939953, runner_name='Coolnagorna Giggs', published_time=1452765800171, last_traded_price=7.0),\n",
       " Row(market_id='1.122576498', event_name='Thurl 14th Jan', market_name='2m6f Hcap Chs', runner_id=6939953, runner_name='Coolnagorna Giggs', published_time=1452765800171, last_traded_price=7.0),\n",
       " Row(market_id='1.122576498', event_name='Thurl 14th Jan', market_name='2m6f Hcap Chs', runner_id=6939953, runner_name='Coolnagorna Giggs', published_time=1452765860208, last_traded_price=7.2),\n",
       " Row(market_id='1.122576498', event_name='Thurl 14th Jan', market_name='2m6f Hcap Chs', runner_id=6939953, runner_name='Coolnagorna Giggs', published_time=1452765860208, last_traded_price=7.2),\n",
       " Row(market_id='1.122576498', event_name='Thurl 14th Jan', market_name='2m6f Hcap Chs', runner_id=5568158, runner_name='Mister First', published_time=1452765919891, last_traded_price=12.0),\n",
       " Row(market_id='1.122576498', event_name='Thurl 14th Jan', market_name='2m6f Hcap Chs', runner_id=5568158, runner_name='Mister First', published_time=1452765919891, last_traded_price=12.0),\n",
       " Row(market_id='1.122576498', event_name='Thurl 14th Jan', market_name='2m6f Hcap Chs', runner_id=7011147, runner_name='He Rocks', published_time=1452765919891, last_traded_price=9.0),\n",
       " Row(market_id='1.122576498', event_name='Thurl 14th Jan', market_name='2m6f Hcap Chs', runner_id=7011147, runner_name='He Rocks', published_time=1452765919891, last_traded_price=9.0),\n",
       " Row(market_id='1.122576498', event_name='Thurl 14th Jan', market_name='2m6f Hcap Chs', runner_id=7253717, runner_name='Gary', published_time=1452765919891, last_traded_price=46.0),\n",
       " Row(market_id='1.122576498', event_name='Thurl 14th Jan', market_name='2m6f Hcap Chs', runner_id=7253717, runner_name='Gary', published_time=1452765919891, last_traded_price=46.0),\n",
       " Row(market_id='1.122576498', event_name='Thurl 14th Jan', market_name='2m6f Hcap Chs', runner_id=9153264, runner_name='Flynsini', published_time=1452765919891, last_traded_price=38.0),\n",
       " Row(market_id='1.122576498', event_name='Thurl 14th Jan', market_name='2m6f Hcap Chs', runner_id=9153264, runner_name='Flynsini', published_time=1452765919891, last_traded_price=38.0),\n",
       " Row(market_id='1.122576498', event_name='Thurl 14th Jan', market_name='2m6f Hcap Chs', runner_id=8996652, runner_name='Shadow Play', published_time=1452765919891, last_traded_price=13.5),\n",
       " Row(market_id='1.122576498', event_name='Thurl 14th Jan', market_name='2m6f Hcap Chs', runner_id=8996652, runner_name='Shadow Play', published_time=1452765919891, last_traded_price=13.5),\n",
       " Row(market_id='1.122576498', event_name='Thurl 14th Jan', market_name='2m6f Hcap Chs', runner_id=6939953, runner_name='Coolnagorna Giggs', published_time=1452765919891, last_traded_price=8.0),\n",
       " Row(market_id='1.122576498', event_name='Thurl 14th Jan', market_name='2m6f Hcap Chs', runner_id=6939953, runner_name='Coolnagorna Giggs', published_time=1452765919891, last_traded_price=8.0),\n",
       " Row(market_id='1.122576498', event_name='Thurl 14th Jan', market_name='2m6f Hcap Chs', runner_id=9483270, runner_name='Mountain Philip', published_time=1452765919891, last_traded_price=36.0),\n",
       " Row(market_id='1.122576498', event_name='Thurl 14th Jan', market_name='2m6f Hcap Chs', runner_id=9483270, runner_name='Mountain Philip', published_time=1452765919891, last_traded_price=36.0),\n",
       " Row(market_id='1.122576498', event_name='Thurl 14th Jan', market_name='2m6f Hcap Chs', runner_id=7281856, runner_name='Tooreen', published_time=1452765919891, last_traded_price=7.6),\n",
       " Row(market_id='1.122576498', event_name='Thurl 14th Jan', market_name='2m6f Hcap Chs', runner_id=7281856, runner_name='Tooreen', published_time=1452765919891, last_traded_price=7.6),\n",
       " Row(market_id='1.122576498', event_name='Thurl 14th Jan', market_name='2m6f Hcap Chs', runner_id=5568158, runner_name='Mister First', published_time=1452766039826, last_traded_price=11.0),\n",
       " Row(market_id='1.122576498', event_name='Thurl 14th Jan', market_name='2m6f Hcap Chs', runner_id=5568158, runner_name='Mister First', published_time=1452766039826, last_traded_price=11.0),\n",
       " Row(market_id='1.122576498', event_name='Thurl 14th Jan', market_name='2m6f Hcap Chs', runner_id=5415401, runner_name='Miradane', published_time=1452766039826, last_traded_price=15.5),\n",
       " Row(market_id='1.122576498', event_name='Thurl 14th Jan', market_name='2m6f Hcap Chs', runner_id=5415401, runner_name='Miradane', published_time=1452766039826, last_traded_price=15.5),\n",
       " Row(market_id='1.122576498', event_name='Thurl 14th Jan', market_name='2m6f Hcap Chs', runner_id=7253717, runner_name='Gary', published_time=1452766039826, last_traded_price=48.0),\n",
       " Row(market_id='1.122576498', event_name='Thurl 14th Jan', market_name='2m6f Hcap Chs', runner_id=7253717, runner_name='Gary', published_time=1452766039826, last_traded_price=11.0),\n",
       " Row(market_id='1.122576498', event_name='Thurl 14th Jan', market_name='2m6f Hcap Chs', runner_id=7253717, runner_name='Gary', published_time=1452766039826, last_traded_price=11.0),\n",
       " Row(market_id='1.122576498', event_name='Thurl 14th Jan', market_name='2m6f Hcap Chs', runner_id=7253717, runner_name='Gary', published_time=1452766039826, last_traded_price=48.0),\n",
       " Row(market_id='1.122576498', event_name='Thurl 14th Jan', market_name='2m6f Hcap Chs', runner_id=9483270, runner_name='Mountain Philip', published_time=1452766099397, last_traded_price=30.0),\n",
       " Row(market_id='1.122576498', event_name='Thurl 14th Jan', market_name='2m6f Hcap Chs', runner_id=9483270, runner_name='Mountain Philip', published_time=1452766099397, last_traded_price=30.0),\n",
       " Row(market_id='1.122576498', event_name='Thurl 14th Jan', market_name='2m6f Hcap Chs', runner_id=7011147, runner_name='He Rocks', published_time=1452766160185, last_traded_price=8.6),\n",
       " Row(market_id='1.122576498', event_name='Thurl 14th Jan', market_name='2m6f Hcap Chs', runner_id=7011147, runner_name='He Rocks', published_time=1452766160185, last_traded_price=8.6),\n",
       " Row(market_id='1.122576498', event_name='Thurl 14th Jan', market_name='2m6f Hcap Chs', runner_id=5415401, runner_name='Miradane', published_time=1452766219887, last_traded_price=15.0),\n",
       " Row(market_id='1.122576498', event_name='Thurl 14th Jan', market_name='2m6f Hcap Chs', runner_id=5415401, runner_name='Miradane', published_time=1452766219887, last_traded_price=15.0),\n",
       " Row(market_id='1.122576498', event_name='Thurl 14th Jan', market_name='2m6f Hcap Chs', runner_id=7281856, runner_name='Tooreen', published_time=1452766219887, last_traded_price=7.4),\n",
       " Row(market_id='1.122576498', event_name='Thurl 14th Jan', market_name='2m6f Hcap Chs', runner_id=7281856, runner_name='Tooreen', published_time=1452766219887, last_traded_price=7.4),\n",
       " Row(market_id='1.122576498', event_name='Thurl 14th Jan', market_name='2m6f Hcap Chs', runner_id=7011147, runner_name='He Rocks', published_time=1452766339797, last_traded_price=8.4),\n",
       " Row(market_id='1.122576498', event_name='Thurl 14th Jan', market_name='2m6f Hcap Chs', runner_id=7011147, runner_name='He Rocks', published_time=1452766339797, last_traded_price=8.4),\n",
       " Row(market_id='1.122576498', event_name='Thurl 14th Jan', market_name='2m6f Hcap Chs', runner_id=8742358, runner_name='Topper Thornton', published_time=1452766339797, last_traded_price=7.8),\n",
       " Row(market_id='1.122576498', event_name='Thurl 14th Jan', market_name='2m6f Hcap Chs', runner_id=8742358, runner_name='Topper Thornton', published_time=1452766339797, last_traded_price=7.8),\n",
       " Row(market_id='1.122576498', event_name='Thurl 14th Jan', market_name='2m6f Hcap Chs', runner_id=7011147, runner_name='He Rocks', published_time=1452766400127, last_traded_price=8.8),\n",
       " Row(market_id='1.122576498', event_name='Thurl 14th Jan', market_name='2m6f Hcap Chs', runner_id=7011147, runner_name='He Rocks', published_time=1452766400127, last_traded_price=8.8),\n",
       " Row(market_id='1.122576498', event_name='Thurl 14th Jan', market_name='2m6f Hcap Chs', runner_id=444842, runner_name='Winter Magic', published_time=1452766460243, last_traded_price=4.8),\n",
       " Row(market_id='1.122576498', event_name='Thurl 14th Jan', market_name='2m6f Hcap Chs', runner_id=444842, runner_name='Winter Magic', published_time=1452766460243, last_traded_price=1.57),\n",
       " Row(market_id='1.122576498', event_name='Thurl 14th Jan', market_name='2m6f Hcap Chs', runner_id=444842, runner_name='Winter Magic', published_time=1452766460243, last_traded_price=1.57),\n",
       " Row(market_id='1.122576498', event_name='Thurl 14th Jan', market_name='2m6f Hcap Chs', runner_id=444842, runner_name='Winter Magic', published_time=1452766460243, last_traded_price=4.8),\n",
       " Row(market_id='1.122576498', event_name='Thurl 14th Jan', market_name='2m6f Hcap Chs', runner_id=7281856, runner_name='Tooreen', published_time=1452766460243, last_traded_price=7.2),\n",
       " Row(market_id='1.122576498', event_name='Thurl 14th Jan', market_name='2m6f Hcap Chs', runner_id=7281856, runner_name='Tooreen', published_time=1452766460243, last_traded_price=7.2),\n",
       " Row(market_id='1.122576498', event_name='Thurl 14th Jan', market_name='2m6f Hcap Chs', runner_id=444842, runner_name='Winter Magic', published_time=1452766520013, last_traded_price=1.56),\n",
       " Row(market_id='1.122576498', event_name='Thurl 14th Jan', market_name='2m6f Hcap Chs', runner_id=444842, runner_name='Winter Magic', published_time=1452766520013, last_traded_price=1.56),\n",
       " Row(market_id='1.122576498', event_name='Thurl 14th Jan', market_name='2m6f Hcap Chs', runner_id=7011147, runner_name='He Rocks', published_time=1452766520013, last_traded_price=8.6),\n",
       " Row(market_id='1.122576498', event_name='Thurl 14th Jan', market_name='2m6f Hcap Chs', runner_id=7011147, runner_name='He Rocks', published_time=1452766520013, last_traded_price=2.74),\n",
       " Row(market_id='1.122576498', event_name='Thurl 14th Jan', market_name='2m6f Hcap Chs', runner_id=7011147, runner_name='He Rocks', published_time=1452766520013, last_traded_price=2.74),\n",
       " Row(market_id='1.122576498', event_name='Thurl 14th Jan', market_name='2m6f Hcap Chs', runner_id=7011147, runner_name='He Rocks', published_time=1452766520013, last_traded_price=8.6),\n",
       " Row(market_id='1.122576498', event_name='Thurl 14th Jan', market_name='2m6f Hcap Chs', runner_id=7011147, runner_name='He Rocks', published_time=1452766580219, last_traded_price=8.4),\n",
       " Row(market_id='1.122576498', event_name='Thurl 14th Jan', market_name='2m6f Hcap Chs', runner_id=7011147, runner_name='He Rocks', published_time=1452766580219, last_traded_price=8.4),\n",
       " Row(market_id='1.122576498', event_name='Thurl 14th Jan', market_name='2m6f Hcap Chs', runner_id=7011147, runner_name='He Rocks', published_time=1452766638838, last_traded_price=2.76),\n",
       " Row(market_id='1.122576498', event_name='Thurl 14th Jan', market_name='2m6f Hcap Chs', runner_id=7011147, runner_name='He Rocks', published_time=1452766638838, last_traded_price=2.76),\n",
       " Row(market_id='1.122576498', event_name='Thurl 14th Jan', market_name='2m6f Hcap Chs', runner_id=444842, runner_name='Winter Magic', published_time=1452766698262, last_traded_price=4.9),\n",
       " Row(market_id='1.122576498', event_name='Thurl 14th Jan', market_name='2m6f Hcap Chs', runner_id=444842, runner_name='Winter Magic', published_time=1452766698262, last_traded_price=4.9),\n",
       " Row(market_id='1.122576498', event_name='Thurl 14th Jan', market_name='2m6f Hcap Chs', runner_id=7011147, runner_name='He Rocks', published_time=1452766818683, last_traded_price=8.6),\n",
       " Row(market_id='1.122576498', event_name='Thurl 14th Jan', market_name='2m6f Hcap Chs', runner_id=7011147, runner_name='He Rocks', published_time=1452766818683, last_traded_price=8.6),\n",
       " Row(market_id='1.122576498', event_name='Thurl 14th Jan', market_name='2m6f Hcap Chs', runner_id=7281856, runner_name='Tooreen', published_time=1452766818683, last_traded_price=6.8),\n",
       " Row(market_id='1.122576498', event_name='Thurl 14th Jan', market_name='2m6f Hcap Chs', runner_id=7281856, runner_name='Tooreen', published_time=1452766818683, last_traded_price=6.8),\n",
       " Row(market_id='1.122576498', event_name='Thurl 14th Jan', market_name='2m6f Hcap Chs', runner_id=7011147, runner_name='He Rocks', published_time=1452766939801, last_traded_price=8.4),\n",
       " Row(market_id='1.122576498', event_name='Thurl 14th Jan', market_name='2m6f Hcap Chs', runner_id=7011147, runner_name='He Rocks', published_time=1452766939801, last_traded_price=8.4),\n",
       " Row(market_id='1.122576498', event_name='Thurl 14th Jan', market_name='2m6f Hcap Chs', runner_id=8742358, runner_name='Topper Thornton', published_time=1452766999735, last_traded_price=8.0),\n",
       " Row(market_id='1.122576498', event_name='Thurl 14th Jan', market_name='2m6f Hcap Chs', runner_id=8742358, runner_name='Topper Thornton', published_time=1452766999735, last_traded_price=8.0),\n",
       " Row(market_id='1.122576498', event_name='Thurl 14th Jan', market_name='2m6f Hcap Chs', runner_id=7281856, runner_name='Tooreen', published_time=1452766999735, last_traded_price=2.58),\n",
       " Row(market_id='1.122576498', event_name='Thurl 14th Jan', market_name='2m6f Hcap Chs', runner_id=7281856, runner_name='Tooreen', published_time=1452766999735, last_traded_price=2.58),\n",
       " Row(market_id='1.122576498', event_name='Thurl 14th Jan', market_name='2m6f Hcap Chs', runner_id=7011147, runner_name='He Rocks', published_time=1452767059289, last_traded_price=8.2),\n",
       " Row(market_id='1.122576498', event_name='Thurl 14th Jan', market_name='2m6f Hcap Chs', runner_id=7011147, runner_name='He Rocks', published_time=1452767059289, last_traded_price=2.84),\n",
       " Row(market_id='1.122576498', event_name='Thurl 14th Jan', market_name='2m6f Hcap Chs', runner_id=7011147, runner_name='He Rocks', published_time=1452767059289, last_traded_price=2.84),\n",
       " Row(market_id='1.122576498', event_name='Thurl 14th Jan', market_name='2m6f Hcap Chs', runner_id=7011147, runner_name='He Rocks', published_time=1452767059289, last_traded_price=8.2),\n",
       " Row(market_id='1.122576498', event_name='Thurl 14th Jan', market_name='2m6f Hcap Chs', runner_id=9483270, runner_name='Mountain Philip', published_time=1452767059289, last_traded_price=32.0),\n",
       " Row(market_id='1.122576498', event_name='Thurl 14th Jan', market_name='2m6f Hcap Chs', runner_id=9483270, runner_name='Mountain Philip', published_time=1452767059289, last_traded_price=32.0),\n",
       " Row(market_id='1.122576498', event_name='Thurl 14th Jan', market_name='2m6f Hcap Chs', runner_id=8742358, runner_name='Topper Thornton', published_time=1452767117538, last_traded_price=7.6),\n",
       " Row(market_id='1.122576498', event_name='Thurl 14th Jan', market_name='2m6f Hcap Chs', runner_id=8742358, runner_name='Topper Thornton', published_time=1452767117538, last_traded_price=7.6),\n",
       " Row(market_id='1.122576498', event_name='Thurl 14th Jan', market_name='2m6f Hcap Chs', runner_id=7011147, runner_name='He Rocks', published_time=1452767179374, last_traded_price=8.4),\n",
       " Row(market_id='1.122576498', event_name='Thurl 14th Jan', market_name='2m6f Hcap Chs', runner_id=7011147, runner_name='He Rocks', published_time=1452767179374, last_traded_price=8.4),\n",
       " Row(market_id='1.122576498', event_name='Thurl 14th Jan', market_name='2m6f Hcap Chs', runner_id=9153264, runner_name='Flynsini', published_time=1452767238628, last_traded_price=32.0),\n",
       " Row(market_id='1.122576498', event_name='Thurl 14th Jan', market_name='2m6f Hcap Chs', runner_id=9153264, runner_name='Flynsini', published_time=1452767238628, last_traded_price=32.0),\n",
       " Row(market_id='1.122576498', event_name='Thurl 14th Jan', market_name='2m6f Hcap Chs', runner_id=7281856, runner_name='Tooreen', published_time=1452767238628, last_traded_price=6.6),\n",
       " Row(market_id='1.122576498', event_name='Thurl 14th Jan', market_name='2m6f Hcap Chs', runner_id=7281856, runner_name='Tooreen', published_time=1452767238628, last_traded_price=6.6),\n",
       " Row(market_id='1.122576498', event_name='Thurl 14th Jan', market_name='2m6f Hcap Chs', runner_id=7011147, runner_name='He Rocks', published_time=1452767300202, last_traded_price=8.2),\n",
       " Row(market_id='1.122576498', event_name='Thurl 14th Jan', market_name='2m6f Hcap Chs', runner_id=7011147, runner_name='He Rocks', published_time=1452767300202, last_traded_price=8.2),\n",
       " Row(market_id='1.122576498', event_name='Thurl 14th Jan', market_name='2m6f Hcap Chs', runner_id=5415401, runner_name='Miradane', published_time=1452767359609, last_traded_price=14.0),\n",
       " Row(market_id='1.122576498', event_name='Thurl 14th Jan', market_name='2m6f Hcap Chs', runner_id=5415401, runner_name='Miradane', published_time=1452767359609, last_traded_price=14.0),\n",
       " Row(market_id='1.122576498', event_name='Thurl 14th Jan', market_name='2m6f Hcap Chs', runner_id=9153264, runner_name='Flynsini', published_time=1452767359609, last_traded_price=30.0),\n",
       " Row(market_id='1.122576498', event_name='Thurl 14th Jan', market_name='2m6f Hcap Chs', runner_id=9153264, runner_name='Flynsini', published_time=1452767359609, last_traded_price=30.0),\n",
       " Row(market_id='1.122576498', event_name='Thurl 14th Jan', market_name='2m6f Hcap Chs', runner_id=444842, runner_name='Winter Magic', published_time=1452767419900, last_traded_price=5.0),\n",
       " Row(market_id='1.122576498', event_name='Thurl 14th Jan', market_name='2m6f Hcap Chs', runner_id=444842, runner_name='Winter Magic', published_time=1452767419900, last_traded_price=5.0),\n",
       " Row(market_id='1.122576498', event_name='Thurl 14th Jan', market_name='2m6f Hcap Chs', runner_id=5568158, runner_name='Mister First', published_time=1452767419900, last_traded_price=13.0),\n",
       " Row(market_id='1.122576498', event_name='Thurl 14th Jan', market_name='2m6f Hcap Chs', runner_id=5568158, runner_name='Mister First', published_time=1452767419900, last_traded_price=13.0),\n",
       " Row(market_id='1.122576498', event_name='Thurl 14th Jan', market_name='2m6f Hcap Chs', runner_id=7011147, runner_name='He Rocks', published_time=1452767480154, last_traded_price=8.6),\n",
       " Row(market_id='1.122576498', event_name='Thurl 14th Jan', market_name='2m6f Hcap Chs', runner_id=7011147, runner_name='He Rocks', published_time=1452767480154, last_traded_price=8.6),\n",
       " Row(market_id='1.122576498', event_name='Thurl 14th Jan', market_name='2m6f Hcap Chs', runner_id=5415401, runner_name='Miradane', published_time=1452767779664, last_traded_price=15.0),\n",
       " Row(market_id='1.122576498', event_name='Thurl 14th Jan', market_name='2m6f Hcap Chs', runner_id=5415401, runner_name='Miradane', published_time=1452767779664, last_traded_price=15.0),\n",
       " Row(market_id='1.122576498', event_name='Thurl 14th Jan', market_name='2m6f Hcap Chs', runner_id=9153264, runner_name='Flynsini', published_time=1452767899947, last_traded_price=28.0),\n",
       " Row(market_id='1.122576498', event_name='Thurl 14th Jan', market_name='2m6f Hcap Chs', runner_id=9153264, runner_name='Flynsini', published_time=1452767899947, last_traded_price=28.0),\n",
       " Row(market_id='1.122576498', event_name='Thurl 14th Jan', market_name='2m6f Hcap Chs', runner_id=5568158, runner_name='Mister First', published_time=1452768020090, last_traded_price=12.5),\n",
       " Row(market_id='1.122576498', event_name='Thurl 14th Jan', market_name='2m6f Hcap Chs', runner_id=5568158, runner_name='Mister First', published_time=1452768020090, last_traded_price=12.5),\n",
       " Row(market_id='1.122576498', event_name='Thurl 14th Jan', market_name='2m6f Hcap Chs', runner_id=7281856, runner_name='Tooreen', published_time=1452768020090, last_traded_price=6.8),\n",
       " Row(market_id='1.122576498', event_name='Thurl 14th Jan', market_name='2m6f Hcap Chs', runner_id=7281856, runner_name='Tooreen', published_time=1452768020090, last_traded_price=6.8),\n",
       " Row(market_id='1.122576498', event_name='Thurl 14th Jan', market_name='2m6f Hcap Chs', runner_id=7011147, runner_name='He Rocks', published_time=1452768080140, last_traded_price=8.4),\n",
       " Row(market_id='1.122576498', event_name='Thurl 14th Jan', market_name='2m6f Hcap Chs', runner_id=7011147, runner_name='He Rocks', published_time=1452768080140, last_traded_price=8.4),\n",
       " Row(market_id='1.122576498', event_name='Thurl 14th Jan', market_name='2m6f Hcap Chs', runner_id=5568158, runner_name='Mister First', published_time=1452768139860, last_traded_price=12.0),\n",
       " Row(market_id='1.122576498', event_name='Thurl 14th Jan', market_name='2m6f Hcap Chs', runner_id=5568158, runner_name='Mister First', published_time=1452768139860, last_traded_price=12.0),\n",
       " Row(market_id='1.122576498', event_name='Thurl 14th Jan', market_name='2m6f Hcap Chs', runner_id=8996652, runner_name='Shadow Play', published_time=1452768139860, last_traded_price=14.5),\n",
       " Row(market_id='1.122576498', event_name='Thurl 14th Jan', market_name='2m6f Hcap Chs', runner_id=8996652, runner_name='Shadow Play', published_time=1452768139860, last_traded_price=14.5),\n",
       " Row(market_id='1.122576498', event_name='Thurl 14th Jan', market_name='2m6f Hcap Chs', runner_id=444842, runner_name='Winter Magic', published_time=1452768199977, last_traded_price=4.9),\n",
       " Row(market_id='1.122576498', event_name='Thurl 14th Jan', market_name='2m6f Hcap Chs', runner_id=444842, runner_name='Winter Magic', published_time=1452768199977, last_traded_price=4.9),\n",
       " Row(market_id='1.122576498', event_name='Thurl 14th Jan', market_name='2m6f Hcap Chs', runner_id=9483270, runner_name='Mountain Philip', published_time=1452768199977, last_traded_price=30.0),\n",
       " Row(market_id='1.122576498', event_name='Thurl 14th Jan', market_name='2m6f Hcap Chs', runner_id=9483270, runner_name='Mountain Philip', published_time=1452768199977, last_traded_price=30.0),\n",
       " Row(market_id='1.122576498', event_name='Thurl 14th Jan', market_name='2m6f Hcap Chs', runner_id=7281856, runner_name='Tooreen', published_time=1452768199977, last_traded_price=6.4),\n",
       " Row(market_id='1.122576498', event_name='Thurl 14th Jan', market_name='2m6f Hcap Chs', runner_id=7281856, runner_name='Tooreen', published_time=1452768199977, last_traded_price=6.4),\n",
       " Row(market_id='1.122576498', event_name='Thurl 14th Jan', market_name='2m6f Hcap Chs', runner_id=5568158, runner_name='Mister First', published_time=1452768319681, last_traded_price=3.5),\n",
       " Row(market_id='1.122576498', event_name='Thurl 14th Jan', market_name='2m6f Hcap Chs', runner_id=5568158, runner_name='Mister First', published_time=1452768319681, last_traded_price=3.5),\n",
       " Row(market_id='1.122576498', event_name='Thurl 14th Jan', market_name='2m6f Hcap Chs', runner_id=8996652, runner_name='Shadow Play', published_time=1452768558336, last_traded_price=14.0),\n",
       " Row(market_id='1.122576498', event_name='Thurl 14th Jan', market_name='2m6f Hcap Chs', runner_id=8996652, runner_name='Shadow Play', published_time=1452768558336, last_traded_price=14.0),\n",
       " Row(market_id='1.122576498', event_name='Thurl 14th Jan', market_name='2m6f Hcap Chs', runner_id=7281856, runner_name='Tooreen', published_time=1452768619970, last_traded_price=6.0),\n",
       " Row(market_id='1.122576498', event_name='Thurl 14th Jan', market_name='2m6f Hcap Chs', runner_id=7281856, runner_name='Tooreen', published_time=1452768619970, last_traded_price=6.0),\n",
       " Row(market_id='1.122576498', event_name='Thurl 14th Jan', market_name='2m6f Hcap Chs', runner_id=444842, runner_name='Winter Magic', published_time=1452768680246, last_traded_price=4.8),\n",
       " Row(market_id='1.122576498', event_name='Thurl 14th Jan', market_name='2m6f Hcap Chs', runner_id=444842, runner_name='Winter Magic', published_time=1452768680246, last_traded_price=4.8),\n",
       " Row(market_id='1.122576498', event_name='Thurl 14th Jan', market_name='2m6f Hcap Chs', runner_id=9483270, runner_name='Mountain Philip', published_time=1452768680246, last_traded_price=32.0),\n",
       " Row(market_id='1.122576498', event_name='Thurl 14th Jan', market_name='2m6f Hcap Chs', runner_id=9483270, runner_name='Mountain Philip', published_time=1452768680246, last_traded_price=4.1),\n",
       " Row(market_id='1.122576498', event_name='Thurl 14th Jan', market_name='2m6f Hcap Chs', runner_id=9483270, runner_name='Mountain Philip', published_time=1452768680246, last_traded_price=4.1),\n",
       " Row(market_id='1.122576498', event_name='Thurl 14th Jan', market_name='2m6f Hcap Chs', runner_id=9483270, runner_name='Mountain Philip', published_time=1452768680246, last_traded_price=32.0),\n",
       " Row(market_id='1.122576498', event_name='Thurl 14th Jan', market_name='2m6f Hcap Chs', runner_id=7281856, runner_name='Tooreen', published_time=1452768680246, last_traded_price=6.2),\n",
       " Row(market_id='1.122576498', event_name='Thurl 14th Jan', market_name='2m6f Hcap Chs', runner_id=7281856, runner_name='Tooreen', published_time=1452768680246, last_traded_price=5.9),\n",
       " Row(market_id='1.122576498', event_name='Thurl 14th Jan', market_name='2m6f Hcap Chs', runner_id=7281856, runner_name='Tooreen', published_time=1452768680246, last_traded_price=6.2),\n",
       " Row(market_id='1.122576498', event_name='Thurl 14th Jan', market_name='2m6f Hcap Chs', runner_id=7281856, runner_name='Tooreen', published_time=1452768680246, last_traded_price=5.9),\n",
       " Row(market_id='1.122576498', event_name='Thurl 14th Jan', market_name='2m6f Hcap Chs', runner_id=444842, runner_name='Winter Magic', published_time=1452768860249, last_traded_price=5.0),\n",
       " Row(market_id='1.122576498', event_name='Thurl 14th Jan', market_name='2m6f Hcap Chs', runner_id=444842, runner_name='Winter Magic', published_time=1452768860249, last_traded_price=5.0),\n",
       " Row(market_id='1.122576498', event_name='Thurl 14th Jan', market_name='2m6f Hcap Chs', runner_id=7011147, runner_name='He Rocks', published_time=1452768860249, last_traded_price=8.8),\n",
       " Row(market_id='1.122576498', event_name='Thurl 14th Jan', market_name='2m6f Hcap Chs', runner_id=7011147, runner_name='He Rocks', published_time=1452768860249, last_traded_price=8.8),\n",
       " Row(market_id='1.122576498', event_name='Thurl 14th Jan', market_name='2m6f Hcap Chs', runner_id=8742358, runner_name='Topper Thornton', published_time=1452768860249, last_traded_price=8.2),\n",
       " Row(market_id='1.122576498', event_name='Thurl 14th Jan', market_name='2m6f Hcap Chs', runner_id=8742358, runner_name='Topper Thornton', published_time=1452768860249, last_traded_price=8.2),\n",
       " Row(market_id='1.122576498', event_name='Thurl 14th Jan', market_name='2m6f Hcap Chs', runner_id=7253717, runner_name='Gary', published_time=1452768919507, last_traded_price=8.6),\n",
       " Row(market_id='1.122576498', event_name='Thurl 14th Jan', market_name='2m6f Hcap Chs', runner_id=7253717, runner_name='Gary', published_time=1452768919507, last_traded_price=8.6),\n",
       " Row(market_id='1.122576498', event_name='Thurl 14th Jan', market_name='2m6f Hcap Chs', runner_id=6939953, runner_name='Coolnagorna Giggs', published_time=1452768919507, last_traded_price=7.6),\n",
       " Row(market_id='1.122576498', event_name='Thurl 14th Jan', market_name='2m6f Hcap Chs', runner_id=6939953, runner_name='Coolnagorna Giggs', published_time=1452768919507, last_traded_price=7.6),\n",
       " Row(market_id='1.122576498', event_name='Thurl 14th Jan', market_name='2m6f Hcap Chs', runner_id=7281856, runner_name='Tooreen', published_time=1452768979755, last_traded_price=6.4),\n",
       " Row(market_id='1.122576498', event_name='Thurl 14th Jan', market_name='2m6f Hcap Chs', runner_id=7281856, runner_name='Tooreen', published_time=1452768979755, last_traded_price=6.4),\n",
       " Row(market_id='1.122576498', event_name='Thurl 14th Jan', market_name='2m6f Hcap Chs', runner_id=6939953, runner_name='Coolnagorna Giggs', published_time=1452769099771, last_traded_price=7.4),\n",
       " Row(market_id='1.122576498', event_name='Thurl 14th Jan', market_name='2m6f Hcap Chs', runner_id=6939953, runner_name='Coolnagorna Giggs', published_time=1452769099771, last_traded_price=7.4),\n",
       " Row(market_id='1.122576498', event_name='Thurl 14th Jan', market_name='2m6f Hcap Chs', runner_id=444842, runner_name='Winter Magic', published_time=1452769220175, last_traded_price=4.9),\n",
       " Row(market_id='1.122576498', event_name='Thurl 14th Jan', market_name='2m6f Hcap Chs', runner_id=444842, runner_name='Winter Magic', published_time=1452769220175, last_traded_price=4.9),\n",
       " Row(market_id='1.122576498', event_name='Thurl 14th Jan', market_name='2m6f Hcap Chs', runner_id=7011147, runner_name='He Rocks', published_time=1452769220175, last_traded_price=8.6),\n",
       " Row(market_id='1.122576498', event_name='Thurl 14th Jan', market_name='2m6f Hcap Chs', runner_id=7011147, runner_name='He Rocks', published_time=1452769220175, last_traded_price=8.6),\n",
       " Row(market_id='1.122576498', event_name='Thurl 14th Jan', market_name='2m6f Hcap Chs', runner_id=7253717, runner_name='Gary', published_time=1452769220175, last_traded_price=120.0),\n",
       " Row(market_id='1.122576498', event_name='Thurl 14th Jan', market_name='2m6f Hcap Chs', runner_id=7253717, runner_name='Gary', published_time=1452769220175, last_traded_price=120.0),\n",
       " Row(market_id='1.122576498', event_name='Thurl 14th Jan', market_name='2m6f Hcap Chs', runner_id=9153264, runner_name='Flynsini', published_time=1452769220175, last_traded_price=50.0),\n",
       " Row(market_id='1.122576498', event_name='Thurl 14th Jan', market_name='2m6f Hcap Chs', runner_id=9153264, runner_name='Flynsini', published_time=1452769220175, last_traded_price=50.0),\n",
       " Row(market_id='1.122576498', event_name='Thurl 14th Jan', market_name='2m6f Hcap Chs', runner_id=7281856, runner_name='Tooreen', published_time=1452769220175, last_traded_price=6.2),\n",
       " Row(market_id='1.122576498', event_name='Thurl 14th Jan', market_name='2m6f Hcap Chs', runner_id=7281856, runner_name='Tooreen', published_time=1452769220175, last_traded_price=6.2),\n",
       " Row(market_id='1.122576498', event_name='Thurl 14th Jan', market_name='2m6f Hcap Chs', runner_id=6939953, runner_name='Coolnagorna Giggs', published_time=1452769400167, last_traded_price=7.0),\n",
       " Row(market_id='1.122576498', event_name='Thurl 14th Jan', market_name='2m6f Hcap Chs', runner_id=6939953, runner_name='Coolnagorna Giggs', published_time=1452769400167, last_traded_price=7.0),\n",
       " Row(market_id='1.122576498', event_name='Thurl 14th Jan', market_name='2m6f Hcap Chs', runner_id=7281856, runner_name='Tooreen', published_time=1452769520202, last_traded_price=5.9),\n",
       " Row(market_id='1.122576498', event_name='Thurl 14th Jan', market_name='2m6f Hcap Chs', runner_id=7281856, runner_name='Tooreen', published_time=1452769520202, last_traded_price=5.9),\n",
       " Row(market_id='1.122576498', event_name='Thurl 14th Jan', market_name='2m6f Hcap Chs', runner_id=7011147, runner_name='He Rocks', published_time=1452769580166, last_traded_price=8.8),\n",
       " Row(market_id='1.122576498', event_name='Thurl 14th Jan', market_name='2m6f Hcap Chs', runner_id=7011147, runner_name='He Rocks', published_time=1452769580166, last_traded_price=8.8),\n",
       " Row(market_id='1.122576498', event_name='Thurl 14th Jan', market_name='2m6f Hcap Chs', runner_id=444842, runner_name='Winter Magic', published_time=1452769640124, last_traded_price=4.8),\n",
       " Row(market_id='1.122576498', event_name='Thurl 14th Jan', market_name='2m6f Hcap Chs', runner_id=444842, runner_name='Winter Magic', published_time=1452769640124, last_traded_price=4.8),\n",
       " Row(market_id='1.122576498', event_name='Thurl 14th Jan', market_name='2m6f Hcap Chs', runner_id=7011147, runner_name='He Rocks', published_time=1452769640124, last_traded_price=8.4),\n",
       " Row(market_id='1.122576498', event_name='Thurl 14th Jan', market_name='2m6f Hcap Chs', runner_id=7011147, runner_name='He Rocks', published_time=1452769640124, last_traded_price=2.88),\n",
       " Row(market_id='1.122576498', event_name='Thurl 14th Jan', market_name='2m6f Hcap Chs', runner_id=7011147, runner_name='He Rocks', published_time=1452769640124, last_traded_price=2.88),\n",
       " Row(market_id='1.122576498', event_name='Thurl 14th Jan', market_name='2m6f Hcap Chs', runner_id=7011147, runner_name='He Rocks', published_time=1452769640124, last_traded_price=8.4),\n",
       " Row(market_id='1.122576498', event_name='Thurl 14th Jan', market_name='2m6f Hcap Chs', runner_id=6939953, runner_name='Coolnagorna Giggs', published_time=1452769640124, last_traded_price=6.8),\n",
       " Row(market_id='1.122576498', event_name='Thurl 14th Jan', market_name='2m6f Hcap Chs', runner_id=6939953, runner_name='Coolnagorna Giggs', published_time=1452769640124, last_traded_price=6.8),\n",
       " Row(market_id='1.122576498', event_name='Thurl 14th Jan', market_name='2m6f Hcap Chs', runner_id=444842, runner_name='Winter Magic', published_time=1452769759882, last_traded_price=5.0),\n",
       " Row(market_id='1.122576498', event_name='Thurl 14th Jan', market_name='2m6f Hcap Chs', runner_id=444842, runner_name='Winter Magic', published_time=1452769759882, last_traded_price=5.0),\n",
       " Row(market_id='1.122576498', event_name='Thurl 14th Jan', market_name='2m6f Hcap Chs', runner_id=7011147, runner_name='He Rocks', published_time=1452769759882, last_traded_price=9.2),\n",
       " Row(market_id='1.122576498', event_name='Thurl 14th Jan', market_name='2m6f Hcap Chs', runner_id=7011147, runner_name='He Rocks', published_time=1452769759882, last_traded_price=9.2),\n",
       " Row(market_id='1.122576498', event_name='Thurl 14th Jan', market_name='2m6f Hcap Chs', runner_id=5415401, runner_name='Miradane', published_time=1452769759882, last_traded_price=15.5),\n",
       " Row(market_id='1.122576498', event_name='Thurl 14th Jan', market_name='2m6f Hcap Chs', runner_id=5415401, runner_name='Miradane', published_time=1452769759882, last_traded_price=15.5),\n",
       " Row(market_id='1.122576498', event_name='Thurl 14th Jan', market_name='2m6f Hcap Chs', runner_id=7253717, runner_name='Gary', published_time=1452769759882, last_traded_price=210.0),\n",
       " Row(market_id='1.122576498', event_name='Thurl 14th Jan', market_name='2m6f Hcap Chs', runner_id=7253717, runner_name='Gary', published_time=1452769759882, last_traded_price=210.0),\n",
       " Row(market_id='1.122576498', event_name='Thurl 14th Jan', market_name='2m6f Hcap Chs', runner_id=9153264, runner_name='Flynsini', published_time=1452769759882, last_traded_price=48.0),\n",
       " Row(market_id='1.122576498', event_name='Thurl 14th Jan', market_name='2m6f Hcap Chs', runner_id=9153264, runner_name='Flynsini', published_time=1452769759882, last_traded_price=48.0),\n",
       " Row(market_id='1.122576498', event_name='Thurl 14th Jan', market_name='2m6f Hcap Chs', runner_id=8996652, runner_name='Shadow Play', published_time=1452769759882, last_traded_price=14.5),\n",
       " Row(market_id='1.122576498', event_name='Thurl 14th Jan', market_name='2m6f Hcap Chs', runner_id=8996652, runner_name='Shadow Play', published_time=1452769759882, last_traded_price=14.5),\n",
       " Row(market_id='1.122576498', event_name='Thurl 14th Jan', market_name='2m6f Hcap Chs', runner_id=6939953, runner_name='Coolnagorna Giggs', published_time=1452769759882, last_traded_price=7.0),\n",
       " Row(market_id='1.122576498', event_name='Thurl 14th Jan', market_name='2m6f Hcap Chs', runner_id=6939953, runner_name='Coolnagorna Giggs', published_time=1452769759882, last_traded_price=7.0),\n",
       " Row(market_id='1.122576498', event_name='Thurl 14th Jan', market_name='2m6f Hcap Chs', runner_id=8742358, runner_name='Topper Thornton', published_time=1452769759882, last_traded_price=8.0),\n",
       " Row(market_id='1.122576498', event_name='Thurl 14th Jan', market_name='2m6f Hcap Chs', runner_id=8742358, runner_name='Topper Thornton', published_time=1452769759882, last_traded_price=8.0),\n",
       " Row(market_id='1.122576498', event_name='Thurl 14th Jan', market_name='2m6f Hcap Chs', runner_id=9483270, runner_name='Mountain Philip', published_time=1452769759882, last_traded_price=40.0),\n",
       " Row(market_id='1.122576498', event_name='Thurl 14th Jan', market_name='2m6f Hcap Chs', runner_id=9483270, runner_name='Mountain Philip', published_time=1452769759882, last_traded_price=40.0),\n",
       " Row(market_id='1.122576498', event_name='Thurl 14th Jan', market_name='2m6f Hcap Chs', runner_id=7281856, runner_name='Tooreen', published_time=1452769759882, last_traded_price=6.4),\n",
       " Row(market_id='1.122576498', event_name='Thurl 14th Jan', market_name='2m6f Hcap Chs', runner_id=7281856, runner_name='Tooreen', published_time=1452769759882, last_traded_price=6.4),\n",
       " Row(market_id='1.122576498', event_name='Thurl 14th Jan', market_name='2m6f Hcap Chs', runner_id=7011147, runner_name='He Rocks', published_time=1452769820016, last_traded_price=2.82),\n",
       " Row(market_id='1.122576498', event_name='Thurl 14th Jan', market_name='2m6f Hcap Chs', runner_id=7011147, runner_name='He Rocks', published_time=1452769820016, last_traded_price=2.82),\n",
       " Row(market_id='1.122576498', event_name='Thurl 14th Jan', market_name='2m6f Hcap Chs', runner_id=6939953, runner_name='Coolnagorna Giggs', published_time=1452769879928, last_traded_price=6.8),\n",
       " Row(market_id='1.122576498', event_name='Thurl 14th Jan', market_name='2m6f Hcap Chs', runner_id=6939953, runner_name='Coolnagorna Giggs', published_time=1452769879928, last_traded_price=2.44),\n",
       " Row(market_id='1.122576498', event_name='Thurl 14th Jan', market_name='2m6f Hcap Chs', runner_id=6939953, runner_name='Coolnagorna Giggs', published_time=1452769879928, last_traded_price=2.44),\n",
       " Row(market_id='1.122576498', event_name='Thurl 14th Jan', market_name='2m6f Hcap Chs', runner_id=6939953, runner_name='Coolnagorna Giggs', published_time=1452769879928, last_traded_price=6.8),\n",
       " Row(market_id='1.122576498', event_name='Thurl 14th Jan', market_name='2m6f Hcap Chs', runner_id=6939953, runner_name='Coolnagorna Giggs', published_time=1452769940049, last_traded_price=7.0),\n",
       " Row(market_id='1.122576498', event_name='Thurl 14th Jan', market_name='2m6f Hcap Chs', runner_id=6939953, runner_name='Coolnagorna Giggs', published_time=1452769940049, last_traded_price=7.0),\n",
       " Row(market_id='1.122576498', event_name='Thurl 14th Jan', market_name='2m6f Hcap Chs', runner_id=8742358, runner_name='Topper Thornton', published_time=1452769940049, last_traded_price=7.8),\n",
       " Row(market_id='1.122576498', event_name='Thurl 14th Jan', market_name='2m6f Hcap Chs', runner_id=8742358, runner_name='Topper Thornton', published_time=1452769940049, last_traded_price=7.8),\n",
       " Row(market_id='1.122576498', event_name='Thurl 14th Jan', market_name='2m6f Hcap Chs', runner_id=7011147, runner_name='He Rocks', published_time=1452770000050, last_traded_price=8.2),\n",
       " Row(market_id='1.122576498', event_name='Thurl 14th Jan', market_name='2m6f Hcap Chs', runner_id=7011147, runner_name='He Rocks', published_time=1452770000050, last_traded_price=8.2),\n",
       " Row(market_id='1.122576498', event_name='Thurl 14th Jan', market_name='2m6f Hcap Chs', runner_id=6939953, runner_name='Coolnagorna Giggs', published_time=1452770060067, last_traded_price=6.8),\n",
       " Row(market_id='1.122576498', event_name='Thurl 14th Jan', market_name='2m6f Hcap Chs', runner_id=6939953, runner_name='Coolnagorna Giggs', published_time=1452770060067, last_traded_price=6.8),\n",
       " Row(market_id='1.122576498', event_name='Thurl 14th Jan', market_name='2m6f Hcap Chs', runner_id=444842, runner_name='Winter Magic', published_time=1452770120128, last_traded_price=4.9),\n",
       " Row(market_id='1.122576498', event_name='Thurl 14th Jan', market_name='2m6f Hcap Chs', runner_id=444842, runner_name='Winter Magic', published_time=1452770120128, last_traded_price=1.58),\n",
       " Row(market_id='1.122576498', event_name='Thurl 14th Jan', market_name='2m6f Hcap Chs', runner_id=444842, runner_name='Winter Magic', published_time=1452770120128, last_traded_price=1.58),\n",
       " Row(market_id='1.122576498', event_name='Thurl 14th Jan', market_name='2m6f Hcap Chs', runner_id=444842, runner_name='Winter Magic', published_time=1452770120128, last_traded_price=4.9),\n",
       " Row(market_id='1.122576498', event_name='Thurl 14th Jan', market_name='2m6f Hcap Chs', runner_id=7011147, runner_name='He Rocks', published_time=1452770120128, last_traded_price=8.0),\n",
       " Row(market_id='1.122576498', event_name='Thurl 14th Jan', market_name='2m6f Hcap Chs', runner_id=7011147, runner_name='He Rocks', published_time=1452770120128, last_traded_price=8.0),\n",
       " Row(market_id='1.122576498', event_name='Thurl 14th Jan', market_name='2m6f Hcap Chs', runner_id=7281856, runner_name='Tooreen', published_time=1452770120128, last_traded_price=6.2),\n",
       " Row(market_id='1.122576498', event_name='Thurl 14th Jan', market_name='2m6f Hcap Chs', runner_id=7281856, runner_name='Tooreen', published_time=1452770120128, last_traded_price=6.2),\n",
       " Row(market_id='1.122576498', event_name='Thurl 14th Jan', market_name='2m6f Hcap Chs', runner_id=6939953, runner_name='Coolnagorna Giggs', published_time=1452770179849, last_traded_price=7.0),\n",
       " Row(market_id='1.122576498', event_name='Thurl 14th Jan', market_name='2m6f Hcap Chs', runner_id=6939953, runner_name='Coolnagorna Giggs', published_time=1452770179849, last_traded_price=7.0),\n",
       " Row(market_id='1.122576498', event_name='Thurl 14th Jan', market_name='2m6f Hcap Chs', runner_id=5568158, runner_name='Mister First', published_time=1452770300161, last_traded_price=3.4),\n",
       " Row(market_id='1.122576498', event_name='Thurl 14th Jan', market_name='2m6f Hcap Chs', runner_id=5568158, runner_name='Mister First', published_time=1452770300161, last_traded_price=3.4),\n",
       " Row(market_id='1.122576498', event_name='Thurl 14th Jan', market_name='2m6f Hcap Chs', runner_id=7011147, runner_name='He Rocks', published_time=1452770300161, last_traded_price=8.2),\n",
       " Row(market_id='1.122576498', event_name='Thurl 14th Jan', market_name='2m6f Hcap Chs', runner_id=7011147, runner_name='He Rocks', published_time=1452770300161, last_traded_price=8.2),\n",
       " Row(market_id='1.122576498', event_name='Thurl 14th Jan', market_name='2m6f Hcap Chs', runner_id=6939953, runner_name='Coolnagorna Giggs', published_time=1452770359735, last_traded_price=6.8),\n",
       " Row(market_id='1.122576498', event_name='Thurl 14th Jan', market_name='2m6f Hcap Chs', runner_id=6939953, runner_name='Coolnagorna Giggs', published_time=1452770359735, last_traded_price=6.8),\n",
       " Row(market_id='1.122576498', event_name='Thurl 14th Jan', market_name='2m6f Hcap Chs', runner_id=8742358, runner_name='Topper Thornton', published_time=1452770359735, last_traded_price=8.0),\n",
       " Row(market_id='1.122576498', event_name='Thurl 14th Jan', market_name='2m6f Hcap Chs', runner_id=8742358, runner_name='Topper Thornton', published_time=1452770359735, last_traded_price=8.0),\n",
       " Row(market_id='1.122576498', event_name='Thurl 14th Jan', market_name='2m6f Hcap Chs', runner_id=444842, runner_name='Winter Magic', published_time=1452770420248, last_traded_price=4.8),\n",
       " Row(market_id='1.122576498', event_name='Thurl 14th Jan', market_name='2m6f Hcap Chs', runner_id=444842, runner_name='Winter Magic', published_time=1452770420248, last_traded_price=4.8),\n",
       " Row(market_id='1.122576498', event_name='Thurl 14th Jan', market_name='2m6f Hcap Chs', runner_id=444842, runner_name='Winter Magic', published_time=1452770480052, last_traded_price=4.7),\n",
       " Row(market_id='1.122576498', event_name='Thurl 14th Jan', market_name='2m6f Hcap Chs', runner_id=444842, runner_name='Winter Magic', published_time=1452770480052, last_traded_price=4.7),\n",
       " Row(market_id='1.122576498', event_name='Thurl 14th Jan', market_name='2m6f Hcap Chs', runner_id=8742358, runner_name='Topper Thornton', published_time=1452770540193, last_traded_price=7.8),\n",
       " Row(market_id='1.122576498', event_name='Thurl 14th Jan', market_name='2m6f Hcap Chs', runner_id=8742358, runner_name='Topper Thornton', published_time=1452770540193, last_traded_price=7.8),\n",
       " Row(market_id='1.122576498', event_name='Thurl 14th Jan', market_name='2m6f Hcap Chs', runner_id=9153264, runner_name='Flynsini', published_time=1452770660127, last_traded_price=46.0),\n",
       " Row(market_id='1.122576498', event_name='Thurl 14th Jan', market_name='2m6f Hcap Chs', runner_id=9153264, runner_name='Flynsini', published_time=1452770660127, last_traded_price=46.0),\n",
       " Row(market_id='1.122576498', event_name='Thurl 14th Jan', market_name='2m6f Hcap Chs', runner_id=5568158, runner_name='Mister First', published_time=1452770779639, last_traded_price=12.5),\n",
       " Row(market_id='1.122576498', event_name='Thurl 14th Jan', market_name='2m6f Hcap Chs', runner_id=5568158, runner_name='Mister First', published_time=1452770779639, last_traded_price=12.5),\n",
       " Row(market_id='1.122576498', event_name='Thurl 14th Jan', market_name='2m6f Hcap Chs', runner_id=8742358, runner_name='Topper Thornton', published_time=1452770840085, last_traded_price=8.0),\n",
       " Row(market_id='1.122576498', event_name='Thurl 14th Jan', market_name='2m6f Hcap Chs', runner_id=8742358, runner_name='Topper Thornton', published_time=1452770840085, last_traded_price=8.0),\n",
       " Row(market_id='1.122576498', event_name='Thurl 14th Jan', market_name='2m6f Hcap Chs', runner_id=444842, runner_name='Winter Magic', published_time=1452771080218, last_traded_price=1.96),\n",
       " Row(market_id='1.122576498', event_name='Thurl 14th Jan', market_name='2m6f Hcap Chs', runner_id=444842, runner_name='Winter Magic', published_time=1452771080218, last_traded_price=1.96),\n",
       " Row(market_id='1.122576498', event_name='Thurl 14th Jan', market_name='2m6f Hcap Chs', runner_id=7011147, runner_name='He Rocks', published_time=1452771140250, last_traded_price=8.8),\n",
       " Row(market_id='1.122576498', event_name='Thurl 14th Jan', market_name='2m6f Hcap Chs', runner_id=7011147, runner_name='He Rocks', published_time=1452771140250, last_traded_price=8.8),\n",
       " Row(market_id='1.122576498', event_name='Thurl 14th Jan', market_name='2m6f Hcap Chs', runner_id=5415401, runner_name='Miradane', published_time=1452771200231, last_traded_price=15.0),\n",
       " Row(market_id='1.122576498', event_name='Thurl 14th Jan', market_name='2m6f Hcap Chs', runner_id=5415401, runner_name='Miradane', published_time=1452771200231, last_traded_price=15.0),\n",
       " Row(market_id='1.122576498', event_name='Thurl 14th Jan', market_name='2m6f Hcap Chs', runner_id=5568158, runner_name='Mister First', published_time=1452771319688, last_traded_price=12.0),\n",
       " Row(market_id='1.122576498', event_name='Thurl 14th Jan', market_name='2m6f Hcap Chs', runner_id=5568158, runner_name='Mister First', published_time=1452771319688, last_traded_price=12.0),\n",
       " Row(market_id='1.122576498', event_name='Thurl 14th Jan', market_name='2m6f Hcap Chs', runner_id=7011147, runner_name='He Rocks', published_time=1452771319688, last_traded_price=8.4),\n",
       " Row(market_id='1.122576498', event_name='Thurl 14th Jan', market_name='2m6f Hcap Chs', runner_id=7011147, runner_name='He Rocks', published_time=1452771319688, last_traded_price=8.4),\n",
       " Row(market_id='1.122576498', event_name='Thurl 14th Jan', market_name='2m6f Hcap Chs', runner_id=7011147, runner_name='He Rocks', published_time=1452771440180, last_traded_price=8.6),\n",
       " Row(market_id='1.122576498', event_name='Thurl 14th Jan', market_name='2m6f Hcap Chs', runner_id=7011147, runner_name='He Rocks', published_time=1452771440180, last_traded_price=2.72),\n",
       " Row(market_id='1.122576498', event_name='Thurl 14th Jan', market_name='2m6f Hcap Chs', runner_id=7011147, runner_name='He Rocks', published_time=1452771440180, last_traded_price=2.72),\n",
       " Row(market_id='1.122576498', event_name='Thurl 14th Jan', market_name='2m6f Hcap Chs', runner_id=7011147, runner_name='He Rocks', published_time=1452771440180, last_traded_price=8.6),\n",
       " Row(market_id='1.122576498', event_name='Thurl 14th Jan', market_name='2m6f Hcap Chs', runner_id=6939953, runner_name='Coolnagorna Giggs', published_time=1452771500245, last_traded_price=7.2),\n",
       " Row(market_id='1.122576498', event_name='Thurl 14th Jan', market_name='2m6f Hcap Chs', runner_id=6939953, runner_name='Coolnagorna Giggs', published_time=1452771500245, last_traded_price=7.2),\n",
       " Row(market_id='1.122576498', event_name='Thurl 14th Jan', market_name='2m6f Hcap Chs', runner_id=7281856, runner_name='Tooreen', published_time=1452771800186, last_traded_price=6.0),\n",
       " Row(market_id='1.122576498', event_name='Thurl 14th Jan', market_name='2m6f Hcap Chs', runner_id=7281856, runner_name='Tooreen', published_time=1452771800186, last_traded_price=2.24),\n",
       " Row(market_id='1.122576498', event_name='Thurl 14th Jan', market_name='2m6f Hcap Chs', runner_id=7281856, runner_name='Tooreen', published_time=1452771800186, last_traded_price=2.24),\n",
       " Row(market_id='1.122576498', event_name='Thurl 14th Jan', market_name='2m6f Hcap Chs', runner_id=7281856, runner_name='Tooreen', published_time=1452771800186, last_traded_price=6.0),\n",
       " Row(market_id='1.122576498', event_name='Thurl 14th Jan', market_name='2m6f Hcap Chs', runner_id=6939953, runner_name='Coolnagorna Giggs', published_time=1452771919913, last_traded_price=7.2),\n",
       " Row(market_id='1.122576498', event_name='Thurl 14th Jan', market_name='2m6f Hcap Chs', runner_id=6939953, runner_name='Coolnagorna Giggs', published_time=1452771919913, last_traded_price=7.2),\n",
       " Row(market_id='1.122576498', event_name='Thurl 14th Jan', market_name='2m6f Hcap Chs', runner_id=5568158, runner_name='Mister First', published_time=1452771980212, last_traded_price=12.5),\n",
       " Row(market_id='1.122576498', event_name='Thurl 14th Jan', market_name='2m6f Hcap Chs', runner_id=5568158, runner_name='Mister First', published_time=1452771980212, last_traded_price=12.5),\n",
       " Row(market_id='1.122576498', event_name='Thurl 14th Jan', market_name='2m6f Hcap Chs', runner_id=6939953, runner_name='Coolnagorna Giggs', published_time=1452771980212, last_traded_price=6.8),\n",
       " Row(market_id='1.122576498', event_name='Thurl 14th Jan', market_name='2m6f Hcap Chs', runner_id=6939953, runner_name='Coolnagorna Giggs', published_time=1452771980212, last_traded_price=6.8),\n",
       " Row(market_id='1.122576498', event_name='Thurl 14th Jan', market_name='2m6f Hcap Chs', runner_id=8742358, runner_name='Topper Thornton', published_time=1452771980212, last_traded_price=7.6),\n",
       " Row(market_id='1.122576498', event_name='Thurl 14th Jan', market_name='2m6f Hcap Chs', runner_id=8742358, runner_name='Topper Thornton', published_time=1452771980212, last_traded_price=7.6),\n",
       " Row(market_id='1.122576498', event_name='Thurl 14th Jan', market_name='2m6f Hcap Chs', runner_id=5568158, runner_name='Mister First', published_time=1452772160218, last_traded_price=12.0),\n",
       " Row(market_id='1.122576498', event_name='Thurl 14th Jan', market_name='2m6f Hcap Chs', runner_id=5568158, runner_name='Mister First', published_time=1452772160218, last_traded_price=3.35),\n",
       " Row(market_id='1.122576498', event_name='Thurl 14th Jan', market_name='2m6f Hcap Chs', runner_id=5568158, runner_name='Mister First', published_time=1452772160218, last_traded_price=3.35),\n",
       " Row(market_id='1.122576498', event_name='Thurl 14th Jan', market_name='2m6f Hcap Chs', runner_id=5568158, runner_name='Mister First', published_time=1452772160218, last_traded_price=12.0),\n",
       " Row(market_id='1.122576498', event_name='Thurl 14th Jan', market_name='2m6f Hcap Chs', runner_id=5415401, runner_name='Miradane', published_time=1452772160218, last_traded_price=15.5),\n",
       " Row(market_id='1.122576498', event_name='Thurl 14th Jan', market_name='2m6f Hcap Chs', runner_id=5415401, runner_name='Miradane', published_time=1452772160218, last_traded_price=15.5),\n",
       " Row(market_id='1.122576498', event_name='Thurl 14th Jan', market_name='2m6f Hcap Chs', runner_id=8742358, runner_name='Topper Thornton', published_time=1452772160218, last_traded_price=8.0),\n",
       " Row(market_id='1.122576498', event_name='Thurl 14th Jan', market_name='2m6f Hcap Chs', runner_id=8742358, runner_name='Topper Thornton', published_time=1452772160218, last_traded_price=8.0),\n",
       " Row(market_id='1.122576498', event_name='Thurl 14th Jan', market_name='2m6f Hcap Chs', runner_id=7281856, runner_name='Tooreen', published_time=1452772220228, last_traded_price=2.2),\n",
       " Row(market_id='1.122576498', event_name='Thurl 14th Jan', market_name='2m6f Hcap Chs', runner_id=7281856, runner_name='Tooreen', published_time=1452772220228, last_traded_price=2.2),\n",
       " Row(market_id='1.122576498', event_name='Thurl 14th Jan', market_name='2m6f Hcap Chs', runner_id=7011147, runner_name='He Rocks', published_time=1452772340241, last_traded_price=9.0),\n",
       " Row(market_id='1.122576498', event_name='Thurl 14th Jan', market_name='2m6f Hcap Chs', runner_id=7011147, runner_name='He Rocks', published_time=1452772340241, last_traded_price=9.0),\n",
       " Row(market_id='1.122576498', event_name='Thurl 14th Jan', market_name='2m6f Hcap Chs', runner_id=7253717, runner_name='Gary', published_time=1452772400179, last_traded_price=150.0),\n",
       " Row(market_id='1.122576498', event_name='Thurl 14th Jan', market_name='2m6f Hcap Chs', runner_id=7253717, runner_name='Gary', published_time=1452772400179, last_traded_price=150.0),\n",
       " Row(market_id='1.122576498', event_name='Thurl 14th Jan', market_name='2m6f Hcap Chs', runner_id=8996652, runner_name='Shadow Play', published_time=1452772520241, last_traded_price=14.0),\n",
       " Row(market_id='1.122576498', event_name='Thurl 14th Jan', market_name='2m6f Hcap Chs', runner_id=8996652, runner_name='Shadow Play', published_time=1452772520241, last_traded_price=3.9),\n",
       " Row(market_id='1.122576498', event_name='Thurl 14th Jan', market_name='2m6f Hcap Chs', runner_id=8996652, runner_name='Shadow Play', published_time=1452772520241, last_traded_price=3.9),\n",
       " Row(market_id='1.122576498', event_name='Thurl 14th Jan', market_name='2m6f Hcap Chs', runner_id=8996652, runner_name='Shadow Play', published_time=1452772520241, last_traded_price=14.0),\n",
       " Row(market_id='1.122576498', event_name='Thurl 14th Jan', market_name='2m6f Hcap Chs', runner_id=6939953, runner_name='Coolnagorna Giggs', published_time=1452772700195, last_traded_price=7.2),\n",
       " Row(market_id='1.122576498', event_name='Thurl 14th Jan', market_name='2m6f Hcap Chs', runner_id=6939953, runner_name='Coolnagorna Giggs', published_time=1452772700195, last_traded_price=7.2),\n",
       " Row(market_id='1.122576498', event_name='Thurl 14th Jan', market_name='2m6f Hcap Chs', runner_id=6939953, runner_name='Coolnagorna Giggs', published_time=1452772940253, last_traded_price=7.0),\n",
       " Row(market_id='1.122576498', event_name='Thurl 14th Jan', market_name='2m6f Hcap Chs', runner_id=6939953, runner_name='Coolnagorna Giggs', published_time=1452772940253, last_traded_price=7.0),\n",
       " Row(market_id='1.122576498', event_name='Thurl 14th Jan', market_name='2m6f Hcap Chs', runner_id=6939953, runner_name='Coolnagorna Giggs', published_time=1452773000229, last_traded_price=1.82),\n",
       " Row(market_id='1.122576498', event_name='Thurl 14th Jan', market_name='2m6f Hcap Chs', runner_id=6939953, runner_name='Coolnagorna Giggs', published_time=1452773000229, last_traded_price=1.82),\n",
       " Row(market_id='1.122576498', event_name='Thurl 14th Jan', market_name='2m6f Hcap Chs', runner_id=5568158, runner_name='Mister First', published_time=1452773060151, last_traded_price=3.3),\n",
       " Row(market_id='1.122576498', event_name='Thurl 14th Jan', market_name='2m6f Hcap Chs', runner_id=5568158, runner_name='Mister First', published_time=1452773060151, last_traded_price=3.3),\n",
       " Row(market_id='1.122576498', event_name='Thurl 14th Jan', market_name='2m6f Hcap Chs', runner_id=7253717, runner_name='Gary', published_time=1452773060151, last_traded_price=170.0),\n",
       " Row(market_id='1.122576498', event_name='Thurl 14th Jan', market_name='2m6f Hcap Chs', runner_id=7253717, runner_name='Gary', published_time=1452773060151, last_traded_price=170.0),\n",
       " Row(market_id='1.122576498', event_name='Thurl 14th Jan', market_name='2m6f Hcap Chs', runner_id=9483270, runner_name='Mountain Philip', published_time=1452773180230, last_traded_price=8.4),\n",
       " Row(market_id='1.122576498', event_name='Thurl 14th Jan', market_name='2m6f Hcap Chs', runner_id=9483270, runner_name='Mountain Philip', published_time=1452773180230, last_traded_price=8.4),\n",
       " Row(market_id='1.122576498', event_name='Thurl 14th Jan', market_name='2m6f Hcap Chs', runner_id=5568158, runner_name='Mister First', published_time=1452773240193, last_traded_price=11.5),\n",
       " Row(market_id='1.122576498', event_name='Thurl 14th Jan', market_name='2m6f Hcap Chs', runner_id=5568158, runner_name='Mister First', published_time=1452773240193, last_traded_price=11.5),\n",
       " Row(market_id='1.122576498', event_name='Thurl 14th Jan', market_name='2m6f Hcap Chs', runner_id=7011147, runner_name='He Rocks', published_time=1452773240193, last_traded_price=8.4),\n",
       " Row(market_id='1.122576498', event_name='Thurl 14th Jan', market_name='2m6f Hcap Chs', runner_id=7011147, runner_name='He Rocks', published_time=1452773240193, last_traded_price=8.4),\n",
       " Row(market_id='1.122576498', event_name='Thurl 14th Jan', market_name='2m6f Hcap Chs', runner_id=444842, runner_name='Winter Magic', published_time=1452773360162, last_traded_price=4.8),\n",
       " Row(market_id='1.122576498', event_name='Thurl 14th Jan', market_name='2m6f Hcap Chs', runner_id=444842, runner_name='Winter Magic', published_time=1452773360162, last_traded_price=4.8),\n",
       " Row(market_id='1.122576498', event_name='Thurl 14th Jan', market_name='2m6f Hcap Chs', runner_id=5415401, runner_name='Miradane', published_time=1452773360162, last_traded_price=16.0),\n",
       " Row(market_id='1.122576498', event_name='Thurl 14th Jan', market_name='2m6f Hcap Chs', runner_id=5415401, runner_name='Miradane', published_time=1452773360162, last_traded_price=16.0),\n",
       " Row(market_id='1.122576498', event_name='Thurl 14th Jan', market_name='2m6f Hcap Chs', runner_id=9483270, runner_name='Mountain Philip', published_time=1452773360162, last_traded_price=44.0),\n",
       " Row(market_id='1.122576498', event_name='Thurl 14th Jan', market_name='2m6f Hcap Chs', runner_id=9483270, runner_name='Mountain Philip', published_time=1452773360162, last_traded_price=44.0),\n",
       " Row(market_id='1.122576498', event_name='Thurl 14th Jan', market_name='2m6f Hcap Chs', runner_id=7281856, runner_name='Tooreen', published_time=1452773360162, last_traded_price=6.2),\n",
       " Row(market_id='1.122576498', event_name='Thurl 14th Jan', market_name='2m6f Hcap Chs', runner_id=7281856, runner_name='Tooreen', published_time=1452773360162, last_traded_price=6.2),\n",
       " Row(market_id='1.122576498', event_name='Thurl 14th Jan', market_name='2m6f Hcap Chs', runner_id=5568158, runner_name='Mister First', published_time=1452773420215, last_traded_price=12.0),\n",
       " Row(market_id='1.122576498', event_name='Thurl 14th Jan', market_name='2m6f Hcap Chs', runner_id=5568158, runner_name='Mister First', published_time=1452773420215, last_traded_price=12.0),\n",
       " Row(market_id='1.122576498', event_name='Thurl 14th Jan', market_name='2m6f Hcap Chs', runner_id=8996652, runner_name='Shadow Play', published_time=1452773420215, last_traded_price=16.0),\n",
       " Row(market_id='1.122576498', event_name='Thurl 14th Jan', market_name='2m6f Hcap Chs', runner_id=8996652, runner_name='Shadow Play', published_time=1452773420215, last_traded_price=16.0),\n",
       " Row(market_id='1.122576498', event_name='Thurl 14th Jan', market_name='2m6f Hcap Chs', runner_id=6939953, runner_name='Coolnagorna Giggs', published_time=1452773480182, last_traded_price=2.42),\n",
       " Row(market_id='1.122576498', event_name='Thurl 14th Jan', market_name='2m6f Hcap Chs', runner_id=6939953, runner_name='Coolnagorna Giggs', published_time=1452773480182, last_traded_price=2.42),\n",
       " Row(market_id='1.122576498', event_name='Thurl 14th Jan', market_name='2m6f Hcap Chs', runner_id=9153264, runner_name='Flynsini', published_time=1452773540249, last_traded_price=36.0),\n",
       " Row(market_id='1.122576498', event_name='Thurl 14th Jan', market_name='2m6f Hcap Chs', runner_id=9153264, runner_name='Flynsini', published_time=1452773540249, last_traded_price=36.0),\n",
       " Row(market_id='1.122576498', event_name='Thurl 14th Jan', market_name='2m6f Hcap Chs', runner_id=6939953, runner_name='Coolnagorna Giggs', published_time=1452773540249, last_traded_price=7.0),\n",
       " Row(market_id='1.122576498', event_name='Thurl 14th Jan', market_name='2m6f Hcap Chs', runner_id=6939953, runner_name='Coolnagorna Giggs', published_time=1452773540249, last_traded_price=7.0),\n",
       " Row(market_id='1.122576498', event_name='Thurl 14th Jan', market_name='2m6f Hcap Chs', runner_id=7011147, runner_name='He Rocks', published_time=1452773600145, last_traded_price=8.2),\n",
       " Row(market_id='1.122576498', event_name='Thurl 14th Jan', market_name='2m6f Hcap Chs', runner_id=7011147, runner_name='He Rocks', published_time=1452773600145, last_traded_price=8.2),\n",
       " Row(market_id='1.122576498', event_name='Thurl 14th Jan', market_name='2m6f Hcap Chs', runner_id=7011147, runner_name='He Rocks', published_time=1452773660182, last_traded_price=2.04),\n",
       " Row(market_id='1.122576498', event_name='Thurl 14th Jan', market_name='2m6f Hcap Chs', runner_id=7011147, runner_name='He Rocks', published_time=1452773660182, last_traded_price=2.04),\n",
       " Row(market_id='1.122576498', event_name='Thurl 14th Jan', market_name='2m6f Hcap Chs', runner_id=8996652, runner_name='Shadow Play', published_time=1452773660182, last_traded_price=17.0),\n",
       " Row(market_id='1.122576498', event_name='Thurl 14th Jan', market_name='2m6f Hcap Chs', runner_id=8996652, runner_name='Shadow Play', published_time=1452773660182, last_traded_price=17.0),\n",
       " Row(market_id='1.122576498', event_name='Thurl 14th Jan', market_name='2m6f Hcap Chs', runner_id=7011147, runner_name='He Rocks', published_time=1452774020223, last_traded_price=8.0),\n",
       " Row(market_id='1.122576498', event_name='Thurl 14th Jan', market_name='2m6f Hcap Chs', runner_id=7011147, runner_name='He Rocks', published_time=1452774020223, last_traded_price=8.0),\n",
       " Row(market_id='1.122576498', event_name='Thurl 14th Jan', market_name='2m6f Hcap Chs', runner_id=7011147, runner_name='He Rocks', published_time=1452774080166, last_traded_price=7.4),\n",
       " Row(market_id='1.122576498', event_name='Thurl 14th Jan', market_name='2m6f Hcap Chs', runner_id=7011147, runner_name='He Rocks', published_time=1452774080166, last_traded_price=2.7),\n",
       " Row(market_id='1.122576498', event_name='Thurl 14th Jan', market_name='2m6f Hcap Chs', runner_id=7011147, runner_name='He Rocks', published_time=1452774080166, last_traded_price=2.7),\n",
       " Row(market_id='1.122576498', event_name='Thurl 14th Jan', market_name='2m6f Hcap Chs', runner_id=7011147, runner_name='He Rocks', published_time=1452774080166, last_traded_price=7.4),\n",
       " Row(market_id='1.122576498', event_name='Thurl 14th Jan', market_name='2m6f Hcap Chs', runner_id=8742358, runner_name='Topper Thornton', published_time=1452774080166, last_traded_price=7.8),\n",
       " Row(market_id='1.122576498', event_name='Thurl 14th Jan', market_name='2m6f Hcap Chs', runner_id=8742358, runner_name='Topper Thornton', published_time=1452774080166, last_traded_price=7.8),\n",
       " Row(market_id='1.122576498', event_name='Thurl 14th Jan', market_name='2m6f Hcap Chs', runner_id=7281856, runner_name='Tooreen', published_time=1452774080166, last_traded_price=2.24),\n",
       " Row(market_id='1.122576498', event_name='Thurl 14th Jan', market_name='2m6f Hcap Chs', runner_id=7281856, runner_name='Tooreen', published_time=1452774080166, last_traded_price=2.24),\n",
       " Row(market_id='1.122576498', event_name='Thurl 14th Jan', market_name='2m6f Hcap Chs', runner_id=7011147, runner_name='He Rocks', published_time=1452774140203, last_traded_price=7.2),\n",
       " Row(market_id='1.122576498', event_name='Thurl 14th Jan', market_name='2m6f Hcap Chs', runner_id=7011147, runner_name='He Rocks', published_time=1452774140203, last_traded_price=7.2),\n",
       " Row(market_id='1.122576498', event_name='Thurl 14th Jan', market_name='2m6f Hcap Chs', runner_id=9153264, runner_name='Flynsini', published_time=1452774140203, last_traded_price=44.0),\n",
       " Row(market_id='1.122576498', event_name='Thurl 14th Jan', market_name='2m6f Hcap Chs', runner_id=9153264, runner_name='Flynsini', published_time=1452774140203, last_traded_price=44.0),\n",
       " Row(market_id='1.122576498', event_name='Thurl 14th Jan', market_name='2m6f Hcap Chs', runner_id=8996652, runner_name='Shadow Play', published_time=1452774140203, last_traded_price=19.0),\n",
       " Row(market_id='1.122576498', event_name='Thurl 14th Jan', market_name='2m6f Hcap Chs', runner_id=8996652, runner_name='Shadow Play', published_time=1452774140203, last_traded_price=19.0),\n",
       " Row(market_id='1.122576498', event_name='Thurl 14th Jan', market_name='2m6f Hcap Chs', runner_id=6939953, runner_name='Coolnagorna Giggs', published_time=1452774140203, last_traded_price=7.2),\n",
       " Row(market_id='1.122576498', event_name='Thurl 14th Jan', market_name='2m6f Hcap Chs', runner_id=6939953, runner_name='Coolnagorna Giggs', published_time=1452774140203, last_traded_price=7.2),\n",
       " Row(market_id='1.122576498', event_name='Thurl 14th Jan', market_name='2m6f Hcap Chs', runner_id=7281856, runner_name='Tooreen', published_time=1452774140203, last_traded_price=6.4),\n",
       " Row(market_id='1.122576498', event_name='Thurl 14th Jan', market_name='2m6f Hcap Chs', runner_id=7281856, runner_name='Tooreen', published_time=1452774140203, last_traded_price=6.4),\n",
       " Row(market_id='1.122576498', event_name='Thurl 14th Jan', market_name='2m6f Hcap Chs', runner_id=6939953, runner_name='Coolnagorna Giggs', published_time=1452774200055, last_traded_price=6.8),\n",
       " Row(market_id='1.122576498', event_name='Thurl 14th Jan', market_name='2m6f Hcap Chs', runner_id=6939953, runner_name='Coolnagorna Giggs', published_time=1452774200055, last_traded_price=6.8),\n",
       " Row(market_id='1.122576498', event_name='Thurl 14th Jan', market_name='2m6f Hcap Chs', runner_id=7011147, runner_name='He Rocks', published_time=1452774260242, last_traded_price=6.6),\n",
       " Row(market_id='1.122576498', event_name='Thurl 14th Jan', market_name='2m6f Hcap Chs', runner_id=7011147, runner_name='He Rocks', published_time=1452774260242, last_traded_price=6.6),\n",
       " Row(market_id='1.122576498', event_name='Thurl 14th Jan', market_name='2m6f Hcap Chs', runner_id=7281856, runner_name='Tooreen', published_time=1452774260242, last_traded_price=6.2),\n",
       " Row(market_id='1.122576498', event_name='Thurl 14th Jan', market_name='2m6f Hcap Chs', runner_id=7281856, runner_name='Tooreen', published_time=1452774260242, last_traded_price=6.2),\n",
       " Row(market_id='1.122576498', event_name='Thurl 14th Jan', market_name='2m6f Hcap Chs', runner_id=444842, runner_name='Winter Magic', published_time=1452774320255, last_traded_price=4.9),\n",
       " Row(market_id='1.122576498', event_name='Thurl 14th Jan', market_name='2m6f Hcap Chs', runner_id=444842, runner_name='Winter Magic', published_time=1452774320255, last_traded_price=4.9),\n",
       " Row(market_id='1.122576498', event_name='Thurl 14th Jan', market_name='2m6f Hcap Chs', runner_id=5568158, runner_name='Mister First', published_time=1452774320255, last_traded_price=12.5),\n",
       " Row(market_id='1.122576498', event_name='Thurl 14th Jan', market_name='2m6f Hcap Chs', runner_id=5568158, runner_name='Mister First', published_time=1452774320255, last_traded_price=12.5),\n",
       " Row(market_id='1.122576498', event_name='Thurl 14th Jan', market_name='2m6f Hcap Chs', runner_id=7011147, runner_name='He Rocks', published_time=1452774320255, last_traded_price=7.0),\n",
       " Row(market_id='1.122576498', event_name='Thurl 14th Jan', market_name='2m6f Hcap Chs', runner_id=7011147, runner_name='He Rocks', published_time=1452774320255, last_traded_price=2.44),\n",
       " Row(market_id='1.122576498', event_name='Thurl 14th Jan', market_name='2m6f Hcap Chs', runner_id=7011147, runner_name='He Rocks', published_time=1452774320255, last_traded_price=1.91),\n",
       " Row(market_id='1.122576498', event_name='Thurl 14th Jan', market_name='2m6f Hcap Chs', runner_id=7011147, runner_name='He Rocks', published_time=1452774320255, last_traded_price=1.91),\n",
       " Row(market_id='1.122576498', event_name='Thurl 14th Jan', market_name='2m6f Hcap Chs', runner_id=7011147, runner_name='He Rocks', published_time=1452774320255, last_traded_price=2.44),\n",
       " Row(market_id='1.122576498', event_name='Thurl 14th Jan', market_name='2m6f Hcap Chs', runner_id=7011147, runner_name='He Rocks', published_time=1452774320255, last_traded_price=7.0),\n",
       " Row(market_id='1.122576498', event_name='Thurl 14th Jan', market_name='2m6f Hcap Chs', runner_id=5415401, runner_name='Miradane', published_time=1452774320255, last_traded_price=17.0),\n",
       " Row(market_id='1.122576498', event_name='Thurl 14th Jan', market_name='2m6f Hcap Chs', runner_id=5415401, runner_name='Miradane', published_time=1452774320255, last_traded_price=17.0),\n",
       " Row(market_id='1.122576498', event_name='Thurl 14th Jan', market_name='2m6f Hcap Chs', runner_id=7253717, runner_name='Gary', published_time=1452774320255, last_traded_price=160.0),\n",
       " Row(market_id='1.122576498', event_name='Thurl 14th Jan', market_name='2m6f Hcap Chs', runner_id=7253717, runner_name='Gary', published_time=1452774320255, last_traded_price=160.0),\n",
       " Row(market_id='1.122576498', event_name='Thurl 14th Jan', market_name='2m6f Hcap Chs', runner_id=9153264, runner_name='Flynsini', published_time=1452774320255, last_traded_price=42.0),\n",
       " Row(market_id='1.122576498', event_name='Thurl 14th Jan', market_name='2m6f Hcap Chs', runner_id=9153264, runner_name='Flynsini', published_time=1452774320255, last_traded_price=42.0),\n",
       " Row(market_id='1.122576498', event_name='Thurl 14th Jan', market_name='2m6f Hcap Chs', runner_id=8996652, runner_name='Shadow Play', published_time=1452774320255, last_traded_price=19.5),\n",
       " Row(market_id='1.122576498', event_name='Thurl 14th Jan', market_name='2m6f Hcap Chs', runner_id=8996652, runner_name='Shadow Play', published_time=1452774320255, last_traded_price=19.5),\n",
       " Row(market_id='1.122576498', event_name='Thurl 14th Jan', market_name='2m6f Hcap Chs', runner_id=6939953, runner_name='Coolnagorna Giggs', published_time=1452774320255, last_traded_price=7.2),\n",
       " Row(market_id='1.122576498', event_name='Thurl 14th Jan', market_name='2m6f Hcap Chs', runner_id=6939953, runner_name='Coolnagorna Giggs', published_time=1452774320255, last_traded_price=7.2),\n",
       " Row(market_id='1.122576498', event_name='Thurl 14th Jan', market_name='2m6f Hcap Chs', runner_id=8742358, runner_name='Topper Thornton', published_time=1452774320255, last_traded_price=8.0),\n",
       " Row(market_id='1.122576498', event_name='Thurl 14th Jan', market_name='2m6f Hcap Chs', runner_id=8742358, runner_name='Topper Thornton', published_time=1452774320255, last_traded_price=8.0),\n",
       " Row(market_id='1.122576498', event_name='Thurl 14th Jan', market_name='2m6f Hcap Chs', runner_id=9483270, runner_name='Mountain Philip', published_time=1452774320255, last_traded_price=70.0),\n",
       " Row(market_id='1.122576498', event_name='Thurl 14th Jan', market_name='2m6f Hcap Chs', runner_id=9483270, runner_name='Mountain Philip', published_time=1452774320255, last_traded_price=70.0),\n",
       " Row(market_id='1.122576498', event_name='Thurl 14th Jan', market_name='2m6f Hcap Chs', runner_id=7281856, runner_name='Tooreen', published_time=1452774320255, last_traded_price=6.4),\n",
       " Row(market_id='1.122576498', event_name='Thurl 14th Jan', market_name='2m6f Hcap Chs', runner_id=7281856, runner_name='Tooreen', published_time=1452774320255, last_traded_price=6.4),\n",
       " Row(market_id='1.122576498', event_name='Thurl 14th Jan', market_name='2m6f Hcap Chs', runner_id=444842, runner_name='Winter Magic', published_time=1452774380145, last_traded_price=5.0),\n",
       " Row(market_id='1.122576498', event_name='Thurl 14th Jan', market_name='2m6f Hcap Chs', runner_id=444842, runner_name='Winter Magic', published_time=1452774380145, last_traded_price=5.0),\n",
       " Row(market_id='1.122576498', event_name='Thurl 14th Jan', market_name='2m6f Hcap Chs', runner_id=5568158, runner_name='Mister First', published_time=1452774380145, last_traded_price=3.95),\n",
       " Row(market_id='1.122576498', event_name='Thurl 14th Jan', market_name='2m6f Hcap Chs', runner_id=5568158, runner_name='Mister First', published_time=1452774380145, last_traded_price=3.95),\n",
       " Row(market_id='1.122576498', event_name='Thurl 14th Jan', market_name='2m6f Hcap Chs', runner_id=6939953, runner_name='Coolnagorna Giggs', published_time=1452774380145, last_traded_price=7.0),\n",
       " Row(market_id='1.122576498', event_name='Thurl 14th Jan', market_name='2m6f Hcap Chs', runner_id=6939953, runner_name='Coolnagorna Giggs', published_time=1452774380145, last_traded_price=7.0),\n",
       " Row(market_id='1.122576498', event_name='Thurl 14th Jan', market_name='2m6f Hcap Chs', runner_id=7281856, runner_name='Tooreen', published_time=1452774380145, last_traded_price=6.0),\n",
       " Row(market_id='1.122576498', event_name='Thurl 14th Jan', market_name='2m6f Hcap Chs', runner_id=7281856, runner_name='Tooreen', published_time=1452774380145, last_traded_price=6.0),\n",
       " Row(market_id='1.122576498', event_name='Thurl 14th Jan', market_name='2m6f Hcap Chs', runner_id=7011147, runner_name='He Rocks', published_time=1452774440241, last_traded_price=6.4),\n",
       " Row(market_id='1.122576498', event_name='Thurl 14th Jan', market_name='2m6f Hcap Chs', runner_id=7011147, runner_name='He Rocks', published_time=1452774440241, last_traded_price=6.0),\n",
       " Row(market_id='1.122576498', event_name='Thurl 14th Jan', market_name='2m6f Hcap Chs', runner_id=7011147, runner_name='He Rocks', published_time=1452774440241, last_traded_price=6.4),\n",
       " Row(market_id='1.122576498', event_name='Thurl 14th Jan', market_name='2m6f Hcap Chs', runner_id=7011147, runner_name='He Rocks', published_time=1452774440241, last_traded_price=6.0),\n",
       " Row(market_id='1.122576498', event_name='Thurl 14th Jan', market_name='2m6f Hcap Chs', runner_id=444842, runner_name='Winter Magic', published_time=1452774500210, last_traded_price=5.1),\n",
       " Row(market_id='1.122576498', event_name='Thurl 14th Jan', market_name='2m6f Hcap Chs', runner_id=444842, runner_name='Winter Magic', published_time=1452774500210, last_traded_price=5.1),\n",
       " Row(market_id='1.122576498', event_name='Thurl 14th Jan', market_name='2m6f Hcap Chs', runner_id=7011147, runner_name='He Rocks', published_time=1452774500210, last_traded_price=6.6),\n",
       " Row(market_id='1.122576498', event_name='Thurl 14th Jan', market_name='2m6f Hcap Chs', runner_id=7011147, runner_name='He Rocks', published_time=1452774500210, last_traded_price=6.6),\n",
       " Row(market_id='1.122576498', event_name='Thurl 14th Jan', market_name='2m6f Hcap Chs', runner_id=444842, runner_name='Winter Magic', published_time=1452774560157, last_traded_price=4.8),\n",
       " Row(market_id='1.122576498', event_name='Thurl 14th Jan', market_name='2m6f Hcap Chs', runner_id=444842, runner_name='Winter Magic', published_time=1452774560157, last_traded_price=1.99),\n",
       " Row(market_id='1.122576498', event_name='Thurl 14th Jan', market_name='2m6f Hcap Chs', runner_id=444842, runner_name='Winter Magic', published_time=1452774560157, last_traded_price=1.99),\n",
       " Row(market_id='1.122576498', event_name='Thurl 14th Jan', market_name='2m6f Hcap Chs', runner_id=444842, runner_name='Winter Magic', published_time=1452774560157, last_traded_price=4.8),\n",
       " Row(market_id='1.122576498', event_name='Thurl 14th Jan', market_name='2m6f Hcap Chs', runner_id=7011147, runner_name='He Rocks', published_time=1452774560157, last_traded_price=6.8),\n",
       " Row(market_id='1.122576498', event_name='Thurl 14th Jan', market_name='2m6f Hcap Chs', runner_id=7011147, runner_name='He Rocks', published_time=1452774560157, last_traded_price=6.8),\n",
       " Row(market_id='1.122576498', event_name='Thurl 14th Jan', market_name='2m6f Hcap Chs', runner_id=444842, runner_name='Winter Magic', published_time=1452774680156, last_traded_price=1.98),\n",
       " Row(market_id='1.122576498', event_name='Thurl 14th Jan', market_name='2m6f Hcap Chs', runner_id=444842, runner_name='Winter Magic', published_time=1452774680156, last_traded_price=1.98),\n",
       " Row(market_id='1.122576498', event_name='Thurl 14th Jan', market_name='2m6f Hcap Chs', runner_id=6939953, runner_name='Coolnagorna Giggs', published_time=1452774680156, last_traded_price=7.2),\n",
       " Row(market_id='1.122576498', event_name='Thurl 14th Jan', market_name='2m6f Hcap Chs', runner_id=6939953, runner_name='Coolnagorna Giggs', published_time=1452774680156, last_traded_price=7.2),\n",
       " Row(market_id='1.122576498', event_name='Thurl 14th Jan', market_name='2m6f Hcap Chs', runner_id=7011147, runner_name='He Rocks', published_time=1452774740206, last_traded_price=6.6),\n",
       " Row(market_id='1.122576498', event_name='Thurl 14th Jan', market_name='2m6f Hcap Chs', runner_id=7011147, runner_name='He Rocks', published_time=1452774740206, last_traded_price=6.6),\n",
       " Row(market_id='1.122576498', event_name='Thurl 14th Jan', market_name='2m6f Hcap Chs', runner_id=6939953, runner_name='Coolnagorna Giggs', published_time=1452774740206, last_traded_price=7.2),\n",
       " Row(market_id='1.122576498', event_name='Thurl 14th Jan', market_name='2m6f Hcap Chs', runner_id=6939953, runner_name='Coolnagorna Giggs', published_time=1452774740206, last_traded_price=7.2),\n",
       " Row(market_id='1.122576498', event_name='Thurl 14th Jan', market_name='2m6f Hcap Chs', runner_id=7281856, runner_name='Tooreen', published_time=1452774740206, last_traded_price=6.2),\n",
       " Row(market_id='1.122576498', event_name='Thurl 14th Jan', market_name='2m6f Hcap Chs', runner_id=7281856, runner_name='Tooreen', published_time=1452774740206, last_traded_price=6.2),\n",
       " Row(market_id='1.122576498', event_name='Thurl 14th Jan', market_name='2m6f Hcap Chs', runner_id=5568158, runner_name='Mister First', published_time=1452774800155, last_traded_price=13.0),\n",
       " Row(market_id='1.122576498', event_name='Thurl 14th Jan', market_name='2m6f Hcap Chs', runner_id=5568158, runner_name='Mister First', published_time=1452774800155, last_traded_price=13.0),\n",
       " Row(market_id='1.122576498', event_name='Thurl 14th Jan', market_name='2m6f Hcap Chs', runner_id=9483270, runner_name='Mountain Philip', published_time=1452774800155, last_traded_price=48.0),\n",
       " Row(market_id='1.122576498', event_name='Thurl 14th Jan', market_name='2m6f Hcap Chs', runner_id=9483270, runner_name='Mountain Philip', published_time=1452774800155, last_traded_price=11.5),\n",
       " Row(market_id='1.122576498', event_name='Thurl 14th Jan', market_name='2m6f Hcap Chs', runner_id=9483270, runner_name='Mountain Philip', published_time=1452774800155, last_traded_price=7.8),\n",
       " Row(market_id='1.122576498', event_name='Thurl 14th Jan', market_name='2m6f Hcap Chs', runner_id=9483270, runner_name='Mountain Philip', published_time=1452774800155, last_traded_price=7.8),\n",
       " Row(market_id='1.122576498', event_name='Thurl 14th Jan', market_name='2m6f Hcap Chs', runner_id=9483270, runner_name='Mountain Philip', published_time=1452774800155, last_traded_price=11.5),\n",
       " Row(market_id='1.122576498', event_name='Thurl 14th Jan', market_name='2m6f Hcap Chs', runner_id=9483270, runner_name='Mountain Philip', published_time=1452774800155, last_traded_price=48.0),\n",
       " Row(market_id='1.122576498', event_name='Thurl 14th Jan', market_name='2m6f Hcap Chs', runner_id=9483270, runner_name='Mountain Philip', published_time=1452774860209, last_traded_price=42.0),\n",
       " Row(market_id='1.122576498', event_name='Thurl 14th Jan', market_name='2m6f Hcap Chs', runner_id=9483270, runner_name='Mountain Philip', published_time=1452774860209, last_traded_price=42.0),\n",
       " Row(market_id='1.122576498', event_name='Thurl 14th Jan', market_name='2m6f Hcap Chs', runner_id=444842, runner_name='Winter Magic', published_time=1452774920200, last_traded_price=5.0),\n",
       " Row(market_id='1.122576498', event_name='Thurl 14th Jan', market_name='2m6f Hcap Chs', runner_id=444842, runner_name='Winter Magic', published_time=1452774920200, last_traded_price=5.0),\n",
       " Row(market_id='1.122576498', event_name='Thurl 14th Jan', market_name='2m6f Hcap Chs', runner_id=7011147, runner_name='He Rocks', published_time=1452774920200, last_traded_price=6.8),\n",
       " Row(market_id='1.122576498', event_name='Thurl 14th Jan', market_name='2m6f Hcap Chs', runner_id=7011147, runner_name='He Rocks', published_time=1452774920200, last_traded_price=6.8),\n",
       " ...]"
      ]
     },
     "execution_count": 53,
     "metadata": {},
     "output_type": "execute_result"
    }
   ],
   "source": [
    "chosen_runner_changes"
   ]
  },
  {
   "cell_type": "code",
   "execution_count": 40,
   "metadata": {},
   "outputs": [],
   "source": [
    "import time"
   ]
  },
  {
   "cell_type": "code",
   "execution_count": 41,
   "metadata": {},
   "outputs": [],
   "source": [
    "import matplotlib.pyplot as pyplot     "
   ]
  },
  {
   "cell_type": "code",
   "execution_count": 42,
   "metadata": {},
   "outputs": [],
   "source": [
    "# Betfair time seems to be in milliseconds, so this converts it to normal Unix epoch time in seconds.\n",
    "def betfair_to_epoch(betfair_time):\n",
    "    return betfair_time / 1000\n",
    "\n",
    "# Convert a string like '30.08.2018 17:30:00' to a time number.\n",
    "def string_to_epoch(time_str):\n",
    "    pattern = '%d.%m.%Y %H:%M:%S'\n",
    "    return time.mktime(time.strptime(time_str, pattern))"
   ]
  },
  {
   "cell_type": "code",
   "execution_count": 80,
   "metadata": {},
   "outputs": [
    {
     "data": {
      "text/plain": [
       "1457982000.0"
      ]
     },
     "execution_count": 80,
     "metadata": {},
     "output_type": "execute_result"
    }
   ],
   "source": [
    "string_to_epoch('14.03.2016 19:00:00')"
   ]
  },
  {
   "cell_type": "code",
   "execution_count": 79,
   "metadata": {},
   "outputs": [
    {
     "ename": "TypeError",
     "evalue": "unsupported operand type(s) for /: 'str' and 'int'",
     "output_type": "error",
     "traceback": [
      "\u001b[0;31m---------------------------------------------------------------------------\u001b[0m",
      "\u001b[0;31mTypeError\u001b[0m                                 Traceback (most recent call last)",
      "\u001b[0;32m/tmp/ipykernel_11294/3811065284.py\u001b[0m in \u001b[0;36m<module>\u001b[0;34m\u001b[0m\n\u001b[0;32m----> 1\u001b[0;31m \u001b[0mbetfair_to_epoch\u001b[0m\u001b[0;34m(\u001b[0m\u001b[0;34m'1452774920200'\u001b[0m\u001b[0;34m)\u001b[0m\u001b[0;34m\u001b[0m\u001b[0;34m\u001b[0m\u001b[0m\n\u001b[0m",
      "\u001b[0;32m/tmp/ipykernel_11294/204656419.py\u001b[0m in \u001b[0;36mbetfair_to_epoch\u001b[0;34m(betfair_time)\u001b[0m\n\u001b[1;32m      1\u001b[0m \u001b[0;31m# Betfair time seems to be in milliseconds, so this converts it to normal Unix epoch time in seconds.\u001b[0m\u001b[0;34m\u001b[0m\u001b[0;34m\u001b[0m\u001b[0;34m\u001b[0m\u001b[0m\n\u001b[1;32m      2\u001b[0m \u001b[0;32mdef\u001b[0m \u001b[0mbetfair_to_epoch\u001b[0m\u001b[0;34m(\u001b[0m\u001b[0mbetfair_time\u001b[0m\u001b[0;34m)\u001b[0m\u001b[0;34m:\u001b[0m\u001b[0;34m\u001b[0m\u001b[0;34m\u001b[0m\u001b[0m\n\u001b[0;32m----> 3\u001b[0;31m     \u001b[0;32mreturn\u001b[0m \u001b[0mbetfair_time\u001b[0m \u001b[0;34m/\u001b[0m \u001b[0;36m1000\u001b[0m\u001b[0;34m\u001b[0m\u001b[0;34m\u001b[0m\u001b[0m\n\u001b[0m\u001b[1;32m      4\u001b[0m \u001b[0;34m\u001b[0m\u001b[0m\n\u001b[1;32m      5\u001b[0m \u001b[0;31m# Convert a string like '30.08.2018 17:30:00' to a time number.\u001b[0m\u001b[0;34m\u001b[0m\u001b[0;34m\u001b[0m\u001b[0;34m\u001b[0m\u001b[0m\n",
      "\u001b[0;31mTypeError\u001b[0m: unsupported operand type(s) for /: 'str' and 'int'"
     ]
    }
   ],
   "source": [
    "betfair_to_epoch('1452774920.200')"
   ]
  },
  {
   "cell_type": "code",
   "execution_count": 81,
   "metadata": {},
   "outputs": [],
   "source": [
    "# Plot data inside this date range.\n",
    "#from_time = '1457917200000' #string_to_epoch('14.03.2016 01:00:00')\n",
    "#to_time = '1457982000000' #string_to_epoch('14.03.2016 19:00:00')\n",
    "\n",
    "#from_time = from_time.astype(float)\n",
    "#to_time = to_time.astype(float)\n",
    "\n",
    "#from_time = int(from_time)\n",
    "#to_time = int(to_time)\n",
    "\n",
    "\n",
    "# Make a dictionary of the lowest prices that each runner achieved.\n",
    "runner_lowest_price = {}       # Key=runner_id, Value=Lowest price they traded at.\n",
    "runner_volume = {}             # Key=runner_id, Value=Number of market change events they had.\n",
    "total_volume = 0               # Total number of market change events (total for all runners).\n",
    "\n",
    "# Analyse all of the runner changes for the selected market.\n",
    "#for rc in chosen_runner_changes:\n",
    " #   if (    betfair_to_epoch(rc.published_time) >= from_time \n",
    " #       and betfair_to_epoch(rc.published_time) <= to_time):\n",
    "\n",
    "for rc in chosen_runner_changes:\n",
    "    if (    rc.published_time >= from_time \n",
    "        and rc.published_time <= to_time):\n",
    "    \n",
    "        if not rc.runner_id in runner_lowest_price:\n",
    "            runner_lowest_price[rc.runner_id] = rc.last_traded_price\n",
    "        elif rc.last_traded_price < runner_lowest_price[rc.runner_id]:\n",
    "            runner_lowest_price[rc.runner_id] = rc.last_traded_price\n",
    "\n",
    "        if not rc.runner_id in runner_volume:\n",
    "            runner_volume[rc.runner_id] = 1\n",
    "        else:\n",
    "            runner_volume[rc.runner_id] = runner_volume[rc.runner_id] + 1\n",
    "\n",
    "        total_volume += 1\n",
    "\n",
    "# List of colours that will be used later on for plotting lines.\n",
    "colours = ['blue', 'green', 'red', 'cyan', 'magenta','yellow', 'black']\n",
    "            \n",
    "# Pick runners with lowest prices and high enough volumes, and put their keys into the best_runners list.\n",
    "# These are the runners that will have their data plotted.\n",
    "best_runners = []\n",
    "\n",
    "for i in range(len(runner_lowest_price)):         # All of the runners will be considered as possible to be plotted.\n",
    "    # Next runner to be considered is the one who traded at the lowest price.\n",
    "    best_left = min(runner_lowest_price, key=runner_lowest_price.get)\n",
    "    \n",
    "    if (i < len(colours)                                         # Can't pick more runners than there are colours to plot.\n",
    "        and (runner_volume[best_left] / total_volume) > 0.01):   # Runner must be subject of at least 1% of the data points.\n",
    "            best_runners.append(best_left)\n",
    "    \n",
    "    del runner_lowest_price[best_left]                           # Remove runner that has just been considered from the list."
   ]
  },
  {
   "cell_type": "code",
   "execution_count": 84,
   "metadata": {},
   "outputs": [
    {
     "name": "stderr",
     "output_type": "stream",
     "text": [
      "No artists with labels found to put in legend.  Note that artists whose label start with an underscore are ignored when legend() is called with no argument.\n"
     ]
    },
    {
     "data": {
      "image/png": "[encoded data removed]",
      "text/plain": [
       "<Figure size 1152x576 with 1 Axes>"
      ]
     },
     "metadata": {
      "needs_background": "light"
     },
     "output_type": "display_data"
    }
   ],
   "source": [
    "fig, ax = pyplot.subplots(nrows=1, ncols=1, figsize=(16, 8))\n",
    "curr_colour = 0\n",
    "\n",
    "sample_size = 10        # Can be adjusted to smooth out data if there are outlier prices sometimes.\n",
    "\n",
    "# Plot graphs for the list of best runners (lowest priced runners) found in previous cell.\n",
    "for br in best_runners:\n",
    "    one_runner_x = []\n",
    "    one_runner_y = []\n",
    "\n",
    "    samples = []                          # Buffer of recent last_traded_price for this runner.\n",
    "    for rc in chosen_runner_changes:\n",
    "        if (rc.published_time >= from_time \n",
    "            and rc.published_time <= to_time):\n",
    "\n",
    "                \n",
    "            samples.append(rc.last_traded_price)\n",
    "\n",
    "            # Only plot this data point if the samples buffer is full sized.\n",
    "            if len(samples) >= sample_size:\n",
    "                one_runner_x.append(rc.published_time)\n",
    "                one_runner_y.append(1 / max(samples))  # Use median price paid in samples buffer.\n",
    "                one_runner_name = rc.runner_name\n",
    "\n",
    "    if len(samples) >= sample_size:\n",
    "        ax.plot(one_runner_x, one_runner_y, color = colours[curr_colour], label = one_runner_name)\n",
    "        curr_colour += 1\n",
    "\n",
    "pyplot.legend(loc='upper left')\n",
    "\n",
    "ax.set(ylabel='Implied Probability',\n",
    "       title=chosen_runner_changes[0].event_name + ' : ' + chosen_runner_changes[0].market_name)\n",
    "\n",
    "# Reformat the x axis tick labels.\n",
    "x_locs, x_labels = pyplot.xticks()\n",
    "new_x_labels = []\n",
    "new_x_locs = []\n",
    "for l in x_locs[1:-1]:                   # Omit the first and last ticks.\n",
    "    new_x_locs.append(l)\n",
    "    \n",
    "\n",
    "\n",
    "# Reformat the y axis tick labels.\n",
    "y_locs, y_labels = pyplot.yticks()\n",
    "new_y_labels = []\n",
    "new_y_locs = []\n",
    "for l in y_locs[1:-1]:                   # Omit the first and last ticks.\n",
    "    new_y_locs.append(l)\n",
    "    \n",
    "\n",
    "\n",
    "pyplot.show()"
   ]
  },
  {
   "cell_type": "code",
   "execution_count": 73,
   "metadata": {},
   "outputs": [
    {
     "data": {
      "text/plain": [
       "{444842: 464,\n",
       " 6939953: 86,\n",
       " 5568158: 50,\n",
       " 8742358: 46,\n",
       " 7281856: 100,\n",
       " 7253717: 20,\n",
       " 7011147: 126,\n",
       " 5415401: 30,\n",
       " 8996652: 28,\n",
       " 9483270: 30,\n",
       " 9153264: 20}"
      ]
     },
     "execution_count": 73,
     "metadata": {},
     "output_type": "execute_result"
    }
   ],
   "source": [
    "runner_volume           # Key=runner_id, Value=Number of market change events they had."
   ]
  },
  {
   "cell_type": "code",
   "execution_count": 85,
   "metadata": {},
   "outputs": [
    {
     "data": {
      "text/plain": [
       "{}"
      ]
     },
     "execution_count": 85,
     "metadata": {},
     "output_type": "execute_result"
    }
   ],
   "source": [
    "runner_lowest_price"
   ]
  },
  {
   "cell_type": "code",
   "execution_count": 75,
   "metadata": {},
   "outputs": [
    {
     "data": {
      "text/plain": [
       "1000"
      ]
     },
     "execution_count": 75,
     "metadata": {},
     "output_type": "execute_result"
    }
   ],
   "source": [
    "total_volume"
   ]
  },
  {
   "cell_type": "code",
   "execution_count": 83,
   "metadata": {},
   "outputs": [
    {
     "name": "stderr",
     "output_type": "stream",
     "text": [
      "No artists with labels found to put in legend.  Note that artists whose label start with an underscore are ignored when legend() is called with no argument.\n"
     ]
    },
    {
     "data": {
      "image/png": "[encoded data removed]",
      "text/plain": [
       "<Figure size 1152x576 with 1 Axes>"
      ]
     },
     "metadata": {
      "needs_background": "light"
     },
     "output_type": "display_data"
    }
   ],
   "source": [
    "fig, ax = pyplot.subplots(nrows=1, ncols=1, figsize=(16, 8))\n",
    "curr_colour = 0\n",
    "\n",
    "sample_size = 1        # Can be adjusted to smooth out data if there are outlier prices sometimes.\n",
    "\n",
    "# Plot graphs for the list of best runners (lowest priced runners) found in previous cell.\n",
    "for br in best_runners:\n",
    "    one_runner_x = []\n",
    "    one_runner_y = []\n",
    "\n",
    "    samples = []                          # Buffer of recent last_traded_price for this runner.\n",
    "    for rc in chosen_runner_changes:\n",
    "        if (rc.runner_id == br \n",
    "            and betfair_to_epoch(rc.published_time) >= from_time \n",
    "            and betfair_to_epoch(rc.published_time) <= to_time):\n",
    "\n",
    "            if len(samples) >= sample_size:        # If the samples buffer is full...\n",
    "                del samples[0]                     # ... remove the oldest item from it.\n",
    "                \n",
    "            samples.append(rc.last_traded_price)\n",
    "\n",
    "            # Only plot this data point if the samples buffer is full sized.\n",
    "            if len(samples) >= sample_size:\n",
    "                one_runner_x.append(betfair_to_epoch(rc.published_time))\n",
    "                one_runner_y.append(1 / max(samples))  # Use median price paid in samples buffer.\n",
    "                one_runner_name = rc.runner_name\n",
    "\n",
    "    if len(samples) >= sample_size:\n",
    "        ax.plot(one_runner_x, one_runner_y, color = colours[curr_colour], label = one_runner_name)\n",
    "        curr_colour += 1\n",
    "\n",
    "pyplot.legend(loc='upper left')\n",
    "\n",
    "ax.set(ylabel='Implied Probability',\n",
    "       title=chosen_runner_changes[0].event_name + ' : ' + chosen_runner_changes[0].market_name)\n",
    "\n",
    "# Reformat the x axis tick labels.\n",
    "x_locs, x_labels = pyplot.xticks()\n",
    "new_x_labels = []\n",
    "new_x_locs = []\n",
    "for l in x_locs[1:-1]:                   # Omit the first and last ticks.\n",
    "    new_x_locs.append(l)\n",
    "    \n",
    "    # Reformat the x axis tick labels from numbers into nice date/time text format.\n",
    "    new_x_labels.append(time.strftime('%d-%b-%y %H:%M', time.localtime(l)))\n",
    "pyplot.xticks(new_x_locs, new_x_labels)\n",
    "\n",
    "# Reformat the y axis tick labels.\n",
    "y_locs, y_labels = pyplot.yticks()\n",
    "new_y_labels = []\n",
    "new_y_locs = []\n",
    "for l in y_locs[1:-1]:                   # Omit the first and last ticks.\n",
    "    new_y_locs.append(l)\n",
    "    \n",
    "    # Reformat the y axis tick labels from decimals into nice percentage text format.\n",
    "    new_y_labels.append(str(int(l * 100)) + '%')\n",
    "pyplot.yticks(new_y_locs, new_y_labels)\n",
    "\n",
    "pyplot.show()"
   ]
  },
  {
   "cell_type": "code",
   "execution_count": 20,
   "metadata": {},
   "outputs": [
    {
     "name": "stderr",
     "output_type": "stream",
     "text": [
      "[Stage 3:>                                                          (0 + 1) / 1]\r"
     ]
    },
    {
     "name": "stdout",
     "output_type": "stream",
     "text": [
      "+--------------+--------------+-----------+---------------+--------+-------------------+---------+------------------+-------------+------+--------------------+\n",
      "|operation_type|published_time|  market_id|    market_name|event_id|         event_name|runner_id|       runner_name|runner_status|   bsp|runner_sort_priority|\n",
      "+--------------+--------------+-----------+---------------+--------+-------------------+---------+------------------+-------------+------+--------------------+\n",
      "|           mcm| 1462501034557|1.124659130|     R8 1m Allw|27784588|EvangD (US) 5th May| 10575249|       Bitsys Half|        LOSER|  13.5|                   5|\n",
      "|           mcm| 1462501034557|1.124659130|     R8 1m Allw|27784588|EvangD (US) 5th May| 10288198|         Blue Code|        LOSER|  32.0|                   6|\n",
      "|           mcm| 1462501034557|1.124659130|     R8 1m Allw|27784588|EvangD (US) 5th May| 10116126|            Zartan|        LOSER| 57.95|                   7|\n",
      "|           mcm| 1462501034557|1.124659130|     R8 1m Allw|27784588|EvangD (US) 5th May| 10221428|         Old Conch|        LOSER|223.91|                   8|\n",
      "|           mcm| 1462501034557|1.124659130|     R8 1m Allw|27784588|EvangD (US) 5th May| 10150151|Rose Needs A Check|        LOSER| 15.34|                   9|\n",
      "|           mcm| 1462501034557|1.124659130|     R8 1m Allw|27784588|EvangD (US) 5th May| 10237987|           Make Do|        LOSER|  10.5|                  10|\n",
      "|           mcm| 1462501034557|1.124659130|     R8 1m Allw|27784588|EvangD (US) 5th May| 10674850|      Cajun Kitten|        LOSER|   4.0|                  11|\n",
      "|           mcm| 1462501034557|1.124659130|     R8 1m Allw|27784588|EvangD (US) 5th May| 10550376|       Dr. Zipcity|       WINNER| 26.28|                  12|\n",
      "|           mcm| 1462501034557|1.124659130|     R8 1m Allw|27784588|EvangD (US) 5th May| 10849769|     Goforthegreen|        LOSER|  21.0|                  13|\n",
      "|           mcm| 1462501034557|1.124659130|     R8 1m Allw|27784588|EvangD (US) 5th May| 10762541|       Specialeyes|        LOSER|  2.31|                  14|\n",
      "|           mcm| 1462502535129|1.124659133|R9 7f Mdn Claim|27784588|EvangD (US) 5th May| 10175250|           Cabildo|        LOSER| 83.46|                   1|\n",
      "|           mcm| 1462502535129|1.124659133|R9 7f Mdn Claim|27784588|EvangD (US) 5th May| 10592064|      Point Secret|        LOSER|   5.6|                   2|\n",
      "|           mcm| 1462502535129|1.124659133|R9 7f Mdn Claim|27784588|EvangD (US) 5th May|  9111702|       Lip Service|       WINNER|   4.0|                   3|\n",
      "|           mcm| 1462502535129|1.124659133|R9 7f Mdn Claim|27784588|EvangD (US) 5th May| 10154653|         Warlander|        LOSER|   7.0|                   4|\n",
      "|           mcm| 1462502535129|1.124659133|R9 7f Mdn Claim|27784588|EvangD (US) 5th May| 10059993|    Cowboy Classic|        LOSER| 12.07|                   5|\n",
      "|           mcm| 1462502535129|1.124659133|R9 7f Mdn Claim|27784588|EvangD (US) 5th May| 10681528|    Dry Wood Creek|        LOSER|   4.4|                   6|\n",
      "|           mcm| 1462502535129|1.124659133|R9 7f Mdn Claim|27784588|EvangD (US) 5th May| 10804072|              Eppy|        LOSER| 18.52|                   7|\n",
      "|           mcm| 1462502535129|1.124659133|R9 7f Mdn Claim|27784588|EvangD (US) 5th May| 10882521|     Ball And Pins|        LOSER| 14.54|                   8|\n",
      "|           mcm| 1462495994956|1.124659121|    R5 6f Claim|27784588|EvangD (US) 5th May| 10102626|       Philli Four|        LOSER| 14.99|                   1|\n",
      "|           mcm| 1462495994956|1.124659121|    R5 6f Claim|27784588|EvangD (US) 5th May| 10134313|    Lydgate Affair|        LOSER| 38.42|                   2|\n",
      "+--------------+--------------+-----------+---------------+--------+-------------------+---------+------------------+-------------+------+--------------------+\n",
      "only showing top 20 rows\n",
      "\n"
     ]
    },
    {
     "name": "stderr",
     "output_type": "stream",
     "text": [
      "                                                                                \r"
     ]
    }
   ],
   "source": [
    "##### new dataset (just added BSP to the runners dataframe created above)\n",
    "runners_wbsp.show()"
   ]
  },
  {
   "cell_type": "code",
   "execution_count": 21,
   "metadata": {},
   "outputs": [],
   "source": [
    "#############################"
   ]
  },
  {
   "cell_type": "code",
   "execution_count": null,
   "metadata": {},
   "outputs": [],
   "source": []
  },
  {
   "cell_type": "code",
   "execution_count": 22,
   "metadata": {},
   "outputs": [],
   "source": [
    "# Select the useful fields, and give them user friendly names.\n",
    "runners = runners_exploded.selectExpr('operation_type',\n",
    "                                      'published_time',\n",
    "                                      'market_id',\n",
    "                                      'market_name',\n",
    "                                      'event_id',\n",
    "                                      'event_name',\n",
    "                                      'runner_row.id AS runner_id',\n",
    "                                      'runner_row.name AS runner_name',\n",
    "                                      'runner_row.status AS runner_status',\n",
    "                                      'runner_row.sortPriority AS runner_sort_priority')"
   ]
  },
  {
   "cell_type": "code",
   "execution_count": 23,
   "metadata": {},
   "outputs": [],
   "source": [
    "# Filter down to only the records that have rc (runner changes).\n",
    "rc_only = mc_exploded.filter(mc_exploded.mc_row.rc.isNotNull())"
   ]
  },
  {
   "cell_type": "code",
   "execution_count": 24,
   "metadata": {},
   "outputs": [],
   "source": [
    "# Explode the rc (runner changes) array.\n",
    "rc_exploded = rc_only.select(rc_only.op.alias('operation_type'),\n",
    "                             rc_only.pt.alias('published_time'),\n",
    "                             rc_only.mc_row.id.alias('market_id'),\n",
    "                             explode(rc_only.mc_row.rc).alias('runner_change_row'))"
   ]
  },
  {
   "cell_type": "code",
   "execution_count": 25,
   "metadata": {},
   "outputs": [],
   "source": [
    "# Select the useful fields, and give them user friendly names.\n",
    "runner_changes = rc_exploded.selectExpr('operation_type',\n",
    "                                        'published_time',\n",
    "                                        'market_id',\n",
    "                                        'runner_change_row.id AS runner_id',\n",
    "                                        'runner_change_row.ltp AS last_traded_price')"
   ]
  },
  {
   "cell_type": "code",
   "execution_count": 26,
   "metadata": {},
   "outputs": [
    {
     "name": "stdout",
     "output_type": "stream",
     "text": [
      "+--------------+--------------+-----------+---------------+--------+-------------------+---------+------------------+-------------+--------------------+\n",
      "|operation_type|published_time|  market_id|    market_name|event_id|         event_name|runner_id|       runner_name|runner_status|runner_sort_priority|\n",
      "+--------------+--------------+-----------+---------------+--------+-------------------+---------+------------------+-------------+--------------------+\n",
      "|           mcm| 1462501034557|1.124659130|     R8 1m Allw|27784588|EvangD (US) 5th May| 10861746|          B Brazin|      REMOVED|                   1|\n",
      "|           mcm| 1462501034557|1.124659130|     R8 1m Allw|27784588|EvangD (US) 5th May|  4517788|       Great Value|      REMOVED|                   2|\n",
      "|           mcm| 1462501034557|1.124659130|     R8 1m Allw|27784588|EvangD (US) 5th May|   187960|        Kid Creole|      REMOVED|                   3|\n",
      "|           mcm| 1462501034557|1.124659130|     R8 1m Allw|27784588|EvangD (US) 5th May| 10743810|        Slideruler|      REMOVED|                   4|\n",
      "|           mcm| 1462501034557|1.124659130|     R8 1m Allw|27784588|EvangD (US) 5th May| 10575249|       Bitsys Half|        LOSER|                   5|\n",
      "|           mcm| 1462501034557|1.124659130|     R8 1m Allw|27784588|EvangD (US) 5th May| 10288198|         Blue Code|        LOSER|                   6|\n",
      "|           mcm| 1462501034557|1.124659130|     R8 1m Allw|27784588|EvangD (US) 5th May| 10116126|            Zartan|        LOSER|                   7|\n",
      "|           mcm| 1462501034557|1.124659130|     R8 1m Allw|27784588|EvangD (US) 5th May| 10221428|         Old Conch|        LOSER|                   8|\n",
      "|           mcm| 1462501034557|1.124659130|     R8 1m Allw|27784588|EvangD (US) 5th May| 10150151|Rose Needs A Check|        LOSER|                   9|\n",
      "|           mcm| 1462501034557|1.124659130|     R8 1m Allw|27784588|EvangD (US) 5th May| 10237987|           Make Do|        LOSER|                  10|\n",
      "|           mcm| 1462501034557|1.124659130|     R8 1m Allw|27784588|EvangD (US) 5th May| 10674850|      Cajun Kitten|        LOSER|                  11|\n",
      "|           mcm| 1462501034557|1.124659130|     R8 1m Allw|27784588|EvangD (US) 5th May| 10550376|       Dr. Zipcity|       WINNER|                  12|\n",
      "|           mcm| 1462501034557|1.124659130|     R8 1m Allw|27784588|EvangD (US) 5th May| 10849769|     Goforthegreen|        LOSER|                  13|\n",
      "|           mcm| 1462501034557|1.124659130|     R8 1m Allw|27784588|EvangD (US) 5th May| 10762541|       Specialeyes|        LOSER|                  14|\n",
      "|           mcm| 1462502535129|1.124659133|R9 7f Mdn Claim|27784588|EvangD (US) 5th May| 10175250|           Cabildo|        LOSER|                   1|\n",
      "|           mcm| 1462502535129|1.124659133|R9 7f Mdn Claim|27784588|EvangD (US) 5th May| 10592064|      Point Secret|        LOSER|                   2|\n",
      "|           mcm| 1462502535129|1.124659133|R9 7f Mdn Claim|27784588|EvangD (US) 5th May|  9111702|       Lip Service|       WINNER|                   3|\n",
      "|           mcm| 1462502535129|1.124659133|R9 7f Mdn Claim|27784588|EvangD (US) 5th May| 10154653|         Warlander|        LOSER|                   4|\n",
      "|           mcm| 1462502535129|1.124659133|R9 7f Mdn Claim|27784588|EvangD (US) 5th May| 10059993|    Cowboy Classic|        LOSER|                   5|\n",
      "|           mcm| 1462502535129|1.124659133|R9 7f Mdn Claim|27784588|EvangD (US) 5th May| 10681528|    Dry Wood Creek|        LOSER|                   6|\n",
      "+--------------+--------------+-----------+---------------+--------+-------------------+---------+------------------+-------------+--------------------+\n",
      "only showing top 20 rows\n",
      "\n"
     ]
    }
   ],
   "source": [
    "runners.show()"
   ]
  },
  {
   "cell_type": "code",
   "execution_count": 27,
   "metadata": {},
   "outputs": [],
   "source": [
    "# https://www.researchgate.net/publication/351844751_Sonic_Thunder_vs_Brian_the_Snail_Are_people_affected_by_uninformative_racehorse_names\n",
    "fast_names = [\n",
    "    'a mile a minute', 'helter-skelter', 'quick-fire',\n",
    "    'apace', 'high-speed quickly',\n",
    "    'as fast as your legs would carry you',\n",
    "    'hot', 'quickness',\n",
    "    'as if it is going out of style', 'hotfoot', 'rapid',\n",
    "    'at a rate of knots', 'hustle', 'rapid-fire',\n",
    "    'at full pelt', 'in the twinkling of an eye',\n",
    "    'rate',\n",
    "    'at full speed', 'Jack Robinson', 'say',\n",
    "    'at full tilt', 'lick', 'shot',\n",
    "    'at full tilt', 'lickety-split', 'smartly',\n",
    "    'before you can say Jack Robinson', 'lightning', 'souped-up',\n",
    "    'blistering', 'like a shot', 'spanking',\n",
    "    'breakneck' 'like a streak of lightning', 'speed',\n",
    "    'brisk' 'like lightning spread', 'like wildfire',\n",
    "    'chop-chop', 'meteoric', 'streak',\n",
    "    'crash', 'mile', 'style',\n",
    "    'express', 'nimble', 'superfast',\n",
    "    'fast', 'nimbleness', 'supersonic',\n",
    "\n",
    "    'fleet', 'nimbly', 'swift',\n",
    "    'full', 'nippy', 'swiftly',\n",
    "    'full steam ahead', 'pdq', 'thick',\n",
    "    'gallop', 'pell-mell', 'thick and fast',\n",
    "    'galloping', 'poky', 'tilt',\n",
    "    'go like hot cakes', 'posthaste', 'top',\n",
    "    'have a heavy foot', 'precipitous', 'twinkling',\n",
    "    'headlong', 'precipitously', 'whoosh',\n",
    "    'heavy', 'prompt', 'wildfire',\n",
    "    'hell', 'promptly', 'zippy',\n",
    "    'hell for leather', 'quick',\n",
    "\n",
    "\n",
    "    'accelerated', 'high-speed', 'pell-mell',\n",
    "    'at full speed', 'hurried', 'post-haste',\n",
    "    'at full tilt', 'hurriedly', 'quick',\n",
    "    'at speed', 'in a flash', 'quickly',\n",
    "    'at the speed of light', 'in a hurry', 'rapid',\n",
    "    'blistering', 'in a trice', 'rapidly',\n",
    "    'breakneck', 'in a wink', 'smart',\n",
    "    'brisk', 'in haste', 'speedily',\n",
    "    'briskly', 'in time', 'speedy',\n",
    "    'energetically', 'in no time at all', 'sporty',\n",
    "    'expeditious', 'in the blink of an eye', 'sprightly',\n",
    "    'expeditiously', 'like a flash', 'swift',\n",
    "    'express', 'like a shot', 'swiftly',\n",
    "    'fast', 'like an arrow from a bow', 'turbo',\n",
    "    'fast-moving', 'lively', 'unhesitating',\n",
    "    'fleet-footed', 'meteoric', 'whirlwind',\n",
    "    'flying', 'nimble', 'with all haste',\n",
    "    'hastily', 'on the double', 'with dispatch',\n",
    "    'hasty', 'pell-mell', 'without delay',\n",
    "\n",
    "    'acceleration', 'haste', 'scutter',\n",
    "    'alacrity', 'hasten', 'sharpness',\n",
    "    'blast', 'hurriedness', 'shoot',\n",
    "    'bolt', 'hurry', 'spank along',\n",
    "    'bowl along', 'hurry', 'speed',\n",
    "    'briskness', 'hurtle', 'speediness',\n",
    "    'career', 'immediacy', 'sprint',\n",
    "    'celerity', 'momentum', 'stampede',\n",
    "    'charge', 'pace', 'streak',\n",
    "    'dart', 'precipitateness', 'sweep',\n",
    "    'dash', 'promptness', 'swiftness',\n",
    "    'dispatch', 'quickness', 'swoop',\n",
    "    'expedition', 'race', 'tempo',\n",
    "    'expeditiousness', 'rapidity', 'uzz',\n",
    "    'fastness', 'rate', 'velocity',\n",
    "    'flash', 'rattle along', 'whirl',\n",
    "    'fly', 'run', 'whizz',\n",
    "    'gallop', 'rush', 'whoosh',\n",
    "    'go hell for leather', 'scramble', 'wing',\n",
    "    'go like lightning', 'scud', 'zoom',\n",
    "    'hare', 'scurry',\n",
    "\n",
    "    'abrupt', 'impetuous', 'rushed',\n",
    "    'agility', 'outrun', 'scramble',\n",
    "    'dash', 'overhasty', 'speed',\n",
    "    'disconcerted', 'overrun', 'speedily',\n",
    "    'dodge', 'promptly', 'speedy',\n",
    "    'haste', 'quick', 'sudden',\n",
    "    'hastily', 'quickly', 'suddenly',\n",
    "    'hurried', 'rapid', 'swift',\n",
    "    'hurriedly', 'rapidly', 'swiftly',\n",
    "    'hurry', 'rush', 'zoom',\n",
    "\n",
    "    'accelerate', 'haste', 'race',\n",
    "    'acceleration', 'hasten', 'rapidity',\n",
    "    'agility', 'hie', 'rush',\n",
    "    'airspeed', 'hurriedly', 'speedy',\n",
    "    'celerity', 'hurry', 'stronghold',\n",
    "    'dash', 'pace', 'swift',\n",
    "    'decelerate', 'quick', 'swiftness',\n",
    "    'expedite', 'quicken', 'tempo',\n",
    "    'fast', 'quickly', 'urgently',\n",
    "    'fastness', 'quickness', 'velocity',\n",
    "\n",
    "    'Apache', 'Bentley', 'Blustery',\n",
    "    'Bullet', 'Buzz', 'Comet',\n",
    "    ',Cougar', ',Falcon', 'Faster',\n",
    "    'Flash', 'Ghost', 'rider', 'Harley',\n",
    "    'Jet', 'Jump', 'Jumping',\n",
    "    'Miles', 'Mustang', 'Pony express',\n",
    "    'Quick', 'Quicky', 'Racer',\n",
    "    'Rapid', 'Rapide', 'Rocket',\n",
    "    'Sonic', 'Speedy', 'Taz',\n",
    "    'Tornado', 'Traveler', 'Wildfire',\n",
    "    'Voyager', 'Wild', 'Velocity', \n",
    "\n",
    "    'Sonic Power', 'Speed Dragon', 'Zippy Lad', 'Lightening Vault',\n",
    "    'Powerful Jet', 'Orbit Express', 'Swift Chap', 'Blazing Tempo',\n",
    "    'Brave Falcon', 'Rush Now', 'Top Magic', 'Dixie Flyer',\n",
    "    'Esprit De Bullet', 'Strike Fast', 'Hustle Hard', 'Diamond Rush',\n",
    "    'Crown Me Fast', 'Hot Seat', 'Top Gear', 'Bright Bullet',\n",
    "    'Quick Art', 'Rush Of Blood', 'Top Boy', 'Meteoric',\n",
    "    'Moments',\n",
    "    'One Wild Guy', 'Sonic Thunder', 'Grand Gallop', 'Zippy Speed',\n",
    "    'Run for Roses', 'Saratoga',\n",
    "    'Wildcat',\n",
    "    'Quick Beers', 'Sudden Rush',\n",
    "    'Flyingwithoutwings', 'Fast On', 'Dazzlem Quick', 'You Drive I Fly',\n",
    "    'Irish Rocket', 'Hot Sauce', 'Mighty Flying', 'frost'\n",
    "]"
   ]
  },
  {
   "cell_type": "code",
   "execution_count": 28,
   "metadata": {},
   "outputs": [],
   "source": [
    "for i in range(len(fast_names)):\n",
    "    fast_names[i] = fast_names[i].lower()"
   ]
  },
  {
   "cell_type": "code",
   "execution_count": 29,
   "metadata": {},
   "outputs": [],
   "source": [
    "runners = runners.filter(runners.runner_status!='REMOVED')"
   ]
  },
  {
   "cell_type": "code",
   "execution_count": 30,
   "metadata": {},
   "outputs": [
    {
     "name": "stderr",
     "output_type": "stream",
     "text": [
      "[Stage 5:>                                                          (0 + 1) / 1]\r"
     ]
    },
    {
     "name": "stdout",
     "output_type": "stream",
     "text": [
      "+--------------+--------------+-----------+---------------+--------+-------------------+---------+------------------+-------------+--------------------+\n",
      "|operation_type|published_time|  market_id|    market_name|event_id|         event_name|runner_id|       runner_name|runner_status|runner_sort_priority|\n",
      "+--------------+--------------+-----------+---------------+--------+-------------------+---------+------------------+-------------+--------------------+\n",
      "|           mcm| 1462501034557|1.124659130|     R8 1m Allw|27784588|EvangD (US) 5th May| 10575249|       Bitsys Half|        LOSER|                   5|\n",
      "|           mcm| 1462501034557|1.124659130|     R8 1m Allw|27784588|EvangD (US) 5th May| 10288198|         Blue Code|        LOSER|                   6|\n",
      "|           mcm| 1462501034557|1.124659130|     R8 1m Allw|27784588|EvangD (US) 5th May| 10116126|            Zartan|        LOSER|                   7|\n",
      "|           mcm| 1462501034557|1.124659130|     R8 1m Allw|27784588|EvangD (US) 5th May| 10221428|         Old Conch|        LOSER|                   8|\n",
      "|           mcm| 1462501034557|1.124659130|     R8 1m Allw|27784588|EvangD (US) 5th May| 10150151|Rose Needs A Check|        LOSER|                   9|\n",
      "|           mcm| 1462501034557|1.124659130|     R8 1m Allw|27784588|EvangD (US) 5th May| 10237987|           Make Do|        LOSER|                  10|\n",
      "|           mcm| 1462501034557|1.124659130|     R8 1m Allw|27784588|EvangD (US) 5th May| 10674850|      Cajun Kitten|        LOSER|                  11|\n",
      "|           mcm| 1462501034557|1.124659130|     R8 1m Allw|27784588|EvangD (US) 5th May| 10550376|       Dr. Zipcity|       WINNER|                  12|\n",
      "|           mcm| 1462501034557|1.124659130|     R8 1m Allw|27784588|EvangD (US) 5th May| 10849769|     Goforthegreen|        LOSER|                  13|\n",
      "|           mcm| 1462501034557|1.124659130|     R8 1m Allw|27784588|EvangD (US) 5th May| 10762541|       Specialeyes|        LOSER|                  14|\n",
      "|           mcm| 1462502535129|1.124659133|R9 7f Mdn Claim|27784588|EvangD (US) 5th May| 10175250|           Cabildo|        LOSER|                   1|\n",
      "|           mcm| 1462502535129|1.124659133|R9 7f Mdn Claim|27784588|EvangD (US) 5th May| 10592064|      Point Secret|        LOSER|                   2|\n",
      "|           mcm| 1462502535129|1.124659133|R9 7f Mdn Claim|27784588|EvangD (US) 5th May|  9111702|       Lip Service|       WINNER|                   3|\n",
      "|           mcm| 1462502535129|1.124659133|R9 7f Mdn Claim|27784588|EvangD (US) 5th May| 10154653|         Warlander|        LOSER|                   4|\n",
      "|           mcm| 1462502535129|1.124659133|R9 7f Mdn Claim|27784588|EvangD (US) 5th May| 10059993|    Cowboy Classic|        LOSER|                   5|\n",
      "|           mcm| 1462502535129|1.124659133|R9 7f Mdn Claim|27784588|EvangD (US) 5th May| 10681528|    Dry Wood Creek|        LOSER|                   6|\n",
      "|           mcm| 1462502535129|1.124659133|R9 7f Mdn Claim|27784588|EvangD (US) 5th May| 10804072|              Eppy|        LOSER|                   7|\n",
      "|           mcm| 1462502535129|1.124659133|R9 7f Mdn Claim|27784588|EvangD (US) 5th May| 10882521|     Ball And Pins|        LOSER|                   8|\n",
      "|           mcm| 1462495994956|1.124659121|    R5 6f Claim|27784588|EvangD (US) 5th May| 10102626|       Philli Four|        LOSER|                   1|\n",
      "|           mcm| 1462495994956|1.124659121|    R5 6f Claim|27784588|EvangD (US) 5th May| 10134313|    Lydgate Affair|        LOSER|                   2|\n",
      "+--------------+--------------+-----------+---------------+--------+-------------------+---------+------------------+-------------+--------------------+\n",
      "only showing top 20 rows\n",
      "\n"
     ]
    },
    {
     "name": "stderr",
     "output_type": "stream",
     "text": [
      "                                                                                \r"
     ]
    }
   ],
   "source": [
    "runners.show()"
   ]
  },
  {
   "cell_type": "code",
   "execution_count": 31,
   "metadata": {},
   "outputs": [],
   "source": [
    "from pyspark.sql.functions import udf\n",
    "from pyspark.sql.types import BooleanType, StringType, DoubleType"
   ]
  },
  {
   "cell_type": "code",
   "execution_count": 32,
   "metadata": {},
   "outputs": [],
   "source": [
    "@udf(BooleanType())\n",
    "def is_fast(name):\n",
    "    if name is None:\n",
    "        return False\n",
    "    name = name.lower()\n",
    "    for s in fast_names:\n",
    "        if s in name:\n",
    "            return True\n",
    "    return False"
   ]
  },
  {
   "cell_type": "code",
   "execution_count": 33,
   "metadata": {},
   "outputs": [],
   "source": [
    "from pyspark.sql.functions import lit, col"
   ]
  },
  {
   "cell_type": "code",
   "execution_count": 34,
   "metadata": {},
   "outputs": [],
   "source": [
    "runners_fast = runners.withColumn('is_fast_horse',  is_fast(runners.runner_name))"
   ]
  },
  {
   "cell_type": "code",
   "execution_count": null,
   "metadata": {},
   "outputs": [],
   "source": []
  },
  {
   "cell_type": "code",
   "execution_count": 35,
   "metadata": {},
   "outputs": [],
   "source": [
    "#############################\n",
    "### aisling with bsp data\n",
    "runners_fast_wbsp = runners_wbsp.withColumn('is_fast_horse',  is_fast(runners_wbsp.runner_name)) "
   ]
  },
  {
   "cell_type": "code",
   "execution_count": 36,
   "metadata": {},
   "outputs": [],
   "source": [
    "### aisling with bsp data\n",
    "runners_fast_wbsp = runners_fast_wbsp.filter(runners_fast_wbsp.bsp.isNotNull())"
   ]
  },
  {
   "cell_type": "code",
   "execution_count": 37,
   "metadata": {},
   "outputs": [],
   "source": [
    "runners_fast_wbsp = runners_fast_wbsp.filter(runners_fast_wbsp.bsp!='None')"
   ]
  },
  {
   "cell_type": "code",
   "execution_count": 38,
   "metadata": {},
   "outputs": [],
   "source": [
    "runners_fast_wbsp = runners_fast_wbsp.filter(runners_fast_wbsp.bsp!='NaN')"
   ]
  },
  {
   "cell_type": "code",
   "execution_count": 39,
   "metadata": {},
   "outputs": [
    {
     "data": {
      "text/plain": [
       "[('operation_type', 'string'),\n",
       " ('published_time', 'bigint'),\n",
       " ('market_id', 'string'),\n",
       " ('market_name', 'string'),\n",
       " ('event_id', 'string'),\n",
       " ('event_name', 'string'),\n",
       " ('runner_id', 'int'),\n",
       " ('runner_name', 'string'),\n",
       " ('runner_status', 'string'),\n",
       " ('bsp', 'string'),\n",
       " ('runner_sort_priority', 'int'),\n",
       " ('is_fast_horse', 'boolean')]"
      ]
     },
     "execution_count": 39,
     "metadata": {},
     "output_type": "execute_result"
    }
   ],
   "source": [
    "runners_fast_wbsp.dtypes"
   ]
  },
  {
   "cell_type": "code",
   "execution_count": 40,
   "metadata": {},
   "outputs": [
    {
     "name": "stderr",
     "output_type": "stream",
     "text": [
      "[Stage 6:>                                                          (0 + 1) / 1]\r"
     ]
    },
    {
     "name": "stdout",
     "output_type": "stream",
     "text": [
      "+--------------+--------------+-----------+---------------+--------+-------------------+---------+------------------+-------------+------+--------------------+-------------+\n",
      "|operation_type|published_time|  market_id|    market_name|event_id|         event_name|runner_id|       runner_name|runner_status|   bsp|runner_sort_priority|is_fast_horse|\n",
      "+--------------+--------------+-----------+---------------+--------+-------------------+---------+------------------+-------------+------+--------------------+-------------+\n",
      "|           mcm| 1462501034557|1.124659130|     R8 1m Allw|27784588|EvangD (US) 5th May| 10575249|       Bitsys Half|        LOSER|  13.5|                   5|        false|\n",
      "|           mcm| 1462501034557|1.124659130|     R8 1m Allw|27784588|EvangD (US) 5th May| 10288198|         Blue Code|        LOSER|  32.0|                   6|        false|\n",
      "|           mcm| 1462501034557|1.124659130|     R8 1m Allw|27784588|EvangD (US) 5th May| 10116126|            Zartan|        LOSER| 57.95|                   7|        false|\n",
      "|           mcm| 1462501034557|1.124659130|     R8 1m Allw|27784588|EvangD (US) 5th May| 10221428|         Old Conch|        LOSER|223.91|                   8|        false|\n",
      "|           mcm| 1462501034557|1.124659130|     R8 1m Allw|27784588|EvangD (US) 5th May| 10150151|Rose Needs A Check|        LOSER| 15.34|                   9|        false|\n",
      "|           mcm| 1462501034557|1.124659130|     R8 1m Allw|27784588|EvangD (US) 5th May| 10237987|           Make Do|        LOSER|  10.5|                  10|        false|\n",
      "|           mcm| 1462501034557|1.124659130|     R8 1m Allw|27784588|EvangD (US) 5th May| 10674850|      Cajun Kitten|        LOSER|   4.0|                  11|        false|\n",
      "|           mcm| 1462501034557|1.124659130|     R8 1m Allw|27784588|EvangD (US) 5th May| 10550376|       Dr. Zipcity|       WINNER| 26.28|                  12|        false|\n",
      "|           mcm| 1462501034557|1.124659130|     R8 1m Allw|27784588|EvangD (US) 5th May| 10849769|     Goforthegreen|        LOSER|  21.0|                  13|        false|\n",
      "|           mcm| 1462501034557|1.124659130|     R8 1m Allw|27784588|EvangD (US) 5th May| 10762541|       Specialeyes|        LOSER|  2.31|                  14|        false|\n",
      "|           mcm| 1462502535129|1.124659133|R9 7f Mdn Claim|27784588|EvangD (US) 5th May| 10175250|           Cabildo|        LOSER| 83.46|                   1|        false|\n",
      "|           mcm| 1462502535129|1.124659133|R9 7f Mdn Claim|27784588|EvangD (US) 5th May| 10592064|      Point Secret|        LOSER|   5.6|                   2|        false|\n",
      "|           mcm| 1462502535129|1.124659133|R9 7f Mdn Claim|27784588|EvangD (US) 5th May|  9111702|       Lip Service|       WINNER|   4.0|                   3|        false|\n",
      "|           mcm| 1462502535129|1.124659133|R9 7f Mdn Claim|27784588|EvangD (US) 5th May| 10154653|         Warlander|        LOSER|   7.0|                   4|        false|\n",
      "|           mcm| 1462502535129|1.124659133|R9 7f Mdn Claim|27784588|EvangD (US) 5th May| 10059993|    Cowboy Classic|        LOSER| 12.07|                   5|        false|\n",
      "|           mcm| 1462502535129|1.124659133|R9 7f Mdn Claim|27784588|EvangD (US) 5th May| 10681528|    Dry Wood Creek|        LOSER|   4.4|                   6|        false|\n",
      "|           mcm| 1462502535129|1.124659133|R9 7f Mdn Claim|27784588|EvangD (US) 5th May| 10804072|              Eppy|        LOSER| 18.52|                   7|        false|\n",
      "|           mcm| 1462502535129|1.124659133|R9 7f Mdn Claim|27784588|EvangD (US) 5th May| 10882521|     Ball And Pins|        LOSER| 14.54|                   8|        false|\n",
      "|           mcm| 1462495994956|1.124659121|    R5 6f Claim|27784588|EvangD (US) 5th May| 10102626|       Philli Four|        LOSER| 14.99|                   1|        false|\n",
      "|           mcm| 1462495994956|1.124659121|    R5 6f Claim|27784588|EvangD (US) 5th May| 10134313|    Lydgate Affair|        LOSER| 38.42|                   2|        false|\n",
      "+--------------+--------------+-----------+---------------+--------+-------------------+---------+------------------+-------------+------+--------------------+-------------+\n",
      "only showing top 20 rows\n",
      "\n"
     ]
    },
    {
     "name": "stderr",
     "output_type": "stream",
     "text": [
      "                                                                                \r"
     ]
    }
   ],
   "source": [
    "runners_fast_wbsp.show()"
   ]
  },
  {
   "cell_type": "code",
   "execution_count": 41,
   "metadata": {},
   "outputs": [],
   "source": [
    "## turning bsp to integer type\n",
    "from pyspark.sql.types import IntegerType\n"
   ]
  },
  {
   "cell_type": "code",
   "execution_count": 42,
   "metadata": {},
   "outputs": [],
   "source": [
    "runners_fast_wbsp = runners_fast_wbsp.withColumn(\"bsp\", runners_fast_wbsp[\"bsp\"].cast(IntegerType()))"
   ]
  },
  {
   "cell_type": "code",
   "execution_count": 43,
   "metadata": {},
   "outputs": [
    {
     "data": {
      "text/plain": [
       "[('operation_type', 'string'),\n",
       " ('published_time', 'bigint'),\n",
       " ('market_id', 'string'),\n",
       " ('market_name', 'string'),\n",
       " ('event_id', 'string'),\n",
       " ('event_name', 'string'),\n",
       " ('runner_id', 'int'),\n",
       " ('runner_name', 'string'),\n",
       " ('runner_status', 'string'),\n",
       " ('bsp', 'int'),\n",
       " ('runner_sort_priority', 'int'),\n",
       " ('is_fast_horse', 'boolean')]"
      ]
     },
     "execution_count": 43,
     "metadata": {},
     "output_type": "execute_result"
    }
   ],
   "source": [
    "runners_fast_wbsp.dtypes"
   ]
  },
  {
   "cell_type": "code",
   "execution_count": 44,
   "metadata": {},
   "outputs": [],
   "source": [
    "#runners_fast_wbsp.count()"
   ]
  },
  {
   "cell_type": "code",
   "execution_count": 45,
   "metadata": {},
   "outputs": [],
   "source": [
    "#############################"
   ]
  },
  {
   "cell_type": "code",
   "execution_count": null,
   "metadata": {},
   "outputs": [],
   "source": []
  },
  {
   "cell_type": "code",
   "execution_count": 46,
   "metadata": {},
   "outputs": [
    {
     "data": {
      "text/plain": [
       "[('operation_type', 'string'),\n",
       " ('published_time', 'bigint'),\n",
       " ('market_id', 'string'),\n",
       " ('market_name', 'string'),\n",
       " ('event_id', 'string'),\n",
       " ('event_name', 'string'),\n",
       " ('runner_id', 'int'),\n",
       " ('runner_name', 'string'),\n",
       " ('runner_status', 'string'),\n",
       " ('runner_sort_priority', 'int'),\n",
       " ('is_fast_horse', 'boolean')]"
      ]
     },
     "execution_count": 46,
     "metadata": {},
     "output_type": "execute_result"
    }
   ],
   "source": [
    "runners_fast.dtypes"
   ]
  },
  {
   "cell_type": "code",
   "execution_count": 47,
   "metadata": {},
   "outputs": [
    {
     "name": "stderr",
     "output_type": "stream",
     "text": [
      "                                                                                \r"
     ]
    },
    {
     "name": "stdout",
     "output_type": "stream",
     "text": [
      "+--------------+--------------+-----------+---------------+--------+-------------------+---------+------------------+-------------+--------------------+-------------+\n",
      "|operation_type|published_time|  market_id|    market_name|event_id|         event_name|runner_id|       runner_name|runner_status|runner_sort_priority|is_fast_horse|\n",
      "+--------------+--------------+-----------+---------------+--------+-------------------+---------+------------------+-------------+--------------------+-------------+\n",
      "|           mcm| 1462501034557|1.124659130|     R8 1m Allw|27784588|EvangD (US) 5th May| 10575249|       Bitsys Half|        LOSER|                   5|        false|\n",
      "|           mcm| 1462501034557|1.124659130|     R8 1m Allw|27784588|EvangD (US) 5th May| 10288198|         Blue Code|        LOSER|                   6|        false|\n",
      "|           mcm| 1462501034557|1.124659130|     R8 1m Allw|27784588|EvangD (US) 5th May| 10116126|            Zartan|        LOSER|                   7|        false|\n",
      "|           mcm| 1462501034557|1.124659130|     R8 1m Allw|27784588|EvangD (US) 5th May| 10221428|         Old Conch|        LOSER|                   8|        false|\n",
      "|           mcm| 1462501034557|1.124659130|     R8 1m Allw|27784588|EvangD (US) 5th May| 10150151|Rose Needs A Check|        LOSER|                   9|        false|\n",
      "|           mcm| 1462501034557|1.124659130|     R8 1m Allw|27784588|EvangD (US) 5th May| 10237987|           Make Do|        LOSER|                  10|        false|\n",
      "|           mcm| 1462501034557|1.124659130|     R8 1m Allw|27784588|EvangD (US) 5th May| 10674850|      Cajun Kitten|        LOSER|                  11|        false|\n",
      "|           mcm| 1462501034557|1.124659130|     R8 1m Allw|27784588|EvangD (US) 5th May| 10550376|       Dr. Zipcity|       WINNER|                  12|        false|\n",
      "|           mcm| 1462501034557|1.124659130|     R8 1m Allw|27784588|EvangD (US) 5th May| 10849769|     Goforthegreen|        LOSER|                  13|        false|\n",
      "|           mcm| 1462501034557|1.124659130|     R8 1m Allw|27784588|EvangD (US) 5th May| 10762541|       Specialeyes|        LOSER|                  14|        false|\n",
      "|           mcm| 1462502535129|1.124659133|R9 7f Mdn Claim|27784588|EvangD (US) 5th May| 10175250|           Cabildo|        LOSER|                   1|        false|\n",
      "|           mcm| 1462502535129|1.124659133|R9 7f Mdn Claim|27784588|EvangD (US) 5th May| 10592064|      Point Secret|        LOSER|                   2|        false|\n",
      "|           mcm| 1462502535129|1.124659133|R9 7f Mdn Claim|27784588|EvangD (US) 5th May|  9111702|       Lip Service|       WINNER|                   3|        false|\n",
      "|           mcm| 1462502535129|1.124659133|R9 7f Mdn Claim|27784588|EvangD (US) 5th May| 10154653|         Warlander|        LOSER|                   4|        false|\n",
      "|           mcm| 1462502535129|1.124659133|R9 7f Mdn Claim|27784588|EvangD (US) 5th May| 10059993|    Cowboy Classic|        LOSER|                   5|        false|\n",
      "|           mcm| 1462502535129|1.124659133|R9 7f Mdn Claim|27784588|EvangD (US) 5th May| 10681528|    Dry Wood Creek|        LOSER|                   6|        false|\n",
      "|           mcm| 1462502535129|1.124659133|R9 7f Mdn Claim|27784588|EvangD (US) 5th May| 10804072|              Eppy|        LOSER|                   7|        false|\n",
      "|           mcm| 1462502535129|1.124659133|R9 7f Mdn Claim|27784588|EvangD (US) 5th May| 10882521|     Ball And Pins|        LOSER|                   8|        false|\n",
      "|           mcm| 1462495994956|1.124659121|    R5 6f Claim|27784588|EvangD (US) 5th May| 10102626|       Philli Four|        LOSER|                   1|        false|\n",
      "|           mcm| 1462495994956|1.124659121|    R5 6f Claim|27784588|EvangD (US) 5th May| 10134313|    Lydgate Affair|        LOSER|                   2|        false|\n",
      "+--------------+--------------+-----------+---------------+--------+-------------------+---------+------------------+-------------+--------------------+-------------+\n",
      "only showing top 20 rows\n",
      "\n"
     ]
    }
   ],
   "source": [
    "runners_fast.show()"
   ]
  },
  {
   "cell_type": "code",
   "execution_count": 48,
   "metadata": {},
   "outputs": [],
   "source": [
    "runners_fast_only = runners_fast"
   ]
  },
  {
   "cell_type": "code",
   "execution_count": 49,
   "metadata": {},
   "outputs": [],
   "source": [
    "runners_fast_only = runners_fast.filter(runners_fast.is_fast_horse=='true')"
   ]
  },
  {
   "cell_type": "code",
   "execution_count": 50,
   "metadata": {},
   "outputs": [
    {
     "name": "stderr",
     "output_type": "stream",
     "text": [
      "[Stage 8:>                                                          (0 + 1) / 1]\r"
     ]
    },
    {
     "name": "stdout",
     "output_type": "stream",
     "text": [
      "+--------------+--------------+-----------+---------------+--------+-------------------+---------+------------------+-------------+--------------------+-------------+\n",
      "|operation_type|published_time|  market_id|    market_name|event_id|         event_name|runner_id|       runner_name|runner_status|runner_sort_priority|is_fast_horse|\n",
      "+--------------+--------------+-----------+---------------+--------+-------------------+---------+------------------+-------------+--------------------+-------------+\n",
      "|           mcm| 1462495994956|1.124659121|    R5 6f Claim|27784588|EvangD (US) 5th May| 10116132|      Als Wild Cat|        LOSER|                   3|         true|\n",
      "|           mcm| 1462492394718|1.124659115|R3 5f Mdn Claim|27784588|EvangD (US) 5th May| 11133644|       Smart Heath|        LOSER|                   4|         true|\n",
      "|           mcm| 1462494555563|1.124659118|    R4 7f Claim|27784588|EvangD (US) 5th May| 10059691|Run Mardi Gras Run|        LOSER|                   2|         true|\n",
      "|           mcm| 1462494555563|1.124659118|    R4 7f Claim|27784588|EvangD (US) 5th May| 10846299|      Wild Mimosas|        LOSER|                   3|         true|\n",
      "|           mcm| 1462494555563|1.124659118|    R4 7f Claim|27784588|EvangD (US) 5th May| 10150152|     Wildlee Funny|        LOSER|                  11|         true|\n",
      "|           mcm| 1462495994956|1.124659121|    R5 6f Claim|27784588|EvangD (US) 5th May| 10116132|      Als Wild Cat|        LOSER|                   3|         true|\n",
      "|           mcm| 1462497869255|1.124659124|    R6 1m Claim|27784588|EvangD (US) 5th May| 10679436| Silver Rocket Man|        LOSER|                   6|         true|\n",
      "|           mcm| 1462497869255|1.124659124|    R6 1m Claim|27784588|EvangD (US) 5th May|  9991336| Boogiehill Hustle|        LOSER|                   7|         true|\n",
      "|           mcm| 1462499295163|1.124659127|    R7 6f Claim|27784588|EvangD (US) 5th May|  6236917|    Fleeting Image|        LOSER|                   4|         true|\n",
      "|           mcm| 1462492394718|1.124659115|R3 5f Mdn Claim|27784588|EvangD (US) 5th May| 11133644|       Smart Heath|        LOSER|                   4|         true|\n",
      "|           mcm| 1462494555563|1.124659118|    R4 7f Claim|27784588|EvangD (US) 5th May| 10059691|Run Mardi Gras Run|        LOSER|                   2|         true|\n",
      "|           mcm| 1462494555563|1.124659118|    R4 7f Claim|27784588|EvangD (US) 5th May| 10846299|      Wild Mimosas|        LOSER|                   3|         true|\n",
      "|           mcm| 1462494555563|1.124659118|    R4 7f Claim|27784588|EvangD (US) 5th May| 10150152|     Wildlee Funny|        LOSER|                  11|         true|\n",
      "|           mcm| 1462499295163|1.124659127|    R7 6f Claim|27784588|EvangD (US) 5th May|  6236917|    Fleeting Image|        LOSER|                   4|         true|\n",
      "|           mcm| 1462497869255|1.124659124|    R6 1m Claim|27784588|EvangD (US) 5th May| 10679436| Silver Rocket Man|        LOSER|                   6|         true|\n",
      "|           mcm| 1462497869255|1.124659124|    R6 1m Claim|27784588|EvangD (US) 5th May|  9991336| Boogiehill Hustle|        LOSER|                   7|         true|\n",
      "|           mcm| 1462539733136|1.124664265|   2m4f Nov Hrd|27785230|      MrktR 6th May|  8977684| Lettheriverrundry|        LOSER|                   2|         true|\n",
      "|           mcm| 1462539733136|1.124664265|   2m4f Nov Hrd|27785230|      MrktR 6th May|  8079324|          Rushvale|        LOSER|                   6|         true|\n",
      "|           mcm| 1462551124888|1.124664295|         2m NHF|27785230|      MrktR 6th May| 11137663|     Saint Cajetan|        LOSER|                   4|         true|\n",
      "|           mcm| 1462539733136|1.124664265|   2m4f Nov Hrd|27785230|      MrktR 6th May|  8977684| Lettheriverrundry|        LOSER|                   2|         true|\n",
      "+--------------+--------------+-----------+---------------+--------+-------------------+---------+------------------+-------------+--------------------+-------------+\n",
      "only showing top 20 rows\n",
      "\n"
     ]
    },
    {
     "name": "stderr",
     "output_type": "stream",
     "text": [
      "                                                                                \r"
     ]
    }
   ],
   "source": [
    "runners_fast_only.show()"
   ]
  },
  {
   "cell_type": "code",
   "execution_count": 51,
   "metadata": {},
   "outputs": [],
   "source": [
    "runners_fast_only_win = runners_fast_only.filter(runners_fast_only.runner_status=='WINNER')"
   ]
  },
  {
   "cell_type": "code",
   "execution_count": 52,
   "metadata": {},
   "outputs": [
    {
     "name": "stderr",
     "output_type": "stream",
     "text": [
      "[Stage 10:===========================================>              (3 + 1) / 4]\r"
     ]
    },
    {
     "name": "stdout",
     "output_type": "stream",
     "text": [
      "+--------------+--------------+-----------+------------------+--------+--------------------+---------+----------------+-------------+--------------------+-------------+\n",
      "|operation_type|published_time|  market_id|       market_name|event_id|          event_name|runner_id|     runner_name|runner_status|runner_sort_priority|is_fast_horse|\n",
      "+--------------+--------------+-----------+------------------+--------+--------------------+---------+----------------+-------------+--------------------+-------------+\n",
      "|           mcm| 1462549406066|1.124660844|           7f Hcap|27785040|        Ling 6th May|  4776418|       Space War|       WINNER|                   5|         true|\n",
      "|           mcm| 1462549406066|1.124660844|           7f Hcap|27785040|        Ling 6th May|  4776418|       Space War|       WINNER|                   5|         true|\n",
      "|           mcm| 1462487628442|1.124659140|       R2 1m Claim|27784591|   Penn (US) 5th May|  9979505|Wild Imagination|       WINNER|                   2|         true|\n",
      "|           mcm| 1462492820738|1.124659149|  R5 6f Allw Claim|27784591|   Penn (US) 5th May| 10367036|      Chief Lion|       WINNER|                   6|         true|\n",
      "|           mcm| 1462492820738|1.124659149|  R5 6f Allw Claim|27784591|   Penn (US) 5th May| 10367036|      Chief Lion|       WINNER|                   6|         true|\n",
      "|           mcm| 1462487628442|1.124659140|       R2 1m Claim|27784591|   Penn (US) 5th May|  9979505|Wild Imagination|       WINNER|                   2|         true|\n",
      "|           mcm| 1462566534735|1.124689833|         R7 7f Mdn|27786142|  Woodb (US) 6th May| 10398259|     Rocket Plan|       WINNER|                   2|         true|\n",
      "|           mcm| 1462568461762|1.124689836|R8 1m1f Allw Claim|27786142|  Woodb (US) 6th May|  9993030|        Hot Kiss|       WINNER|                   7|         true|\n",
      "|           mcm| 1462566534735|1.124689833|         R7 7f Mdn|27786142|  Woodb (US) 6th May| 10398259|     Rocket Plan|       WINNER|                   2|         true|\n",
      "|           mcm| 1462568461762|1.124689836|R8 1m1f Allw Claim|27786142|  Woodb (US) 6th May|  9993030|        Hot Kiss|       WINNER|                   7|         true|\n",
      "|           mcm| 1462541867200|1.124654246| 1600m 4yo+ Listed|27784315| Chant (FRA) 6th May|  9382369|       2. Sayana|       WINNER|                   7|         true|\n",
      "|           mcm| 1462541867200|1.124654246| 1600m 4yo+ Listed|27784315| Chant (FRA) 6th May|  9382369|       2. Sayana|       WINNER|                   7|         true|\n",
      "|           mcm| 1462544323081|1.124649425|         1m5f Grp3|27783894|       Chest 6th May|  8787781|       Dartmouth|       WINNER|                   3|         true|\n",
      "|           mcm| 1462544323081|1.124649425|         1m5f Grp3|27783894|       Chest 6th May|  8787781|       Dartmouth|       WINNER|                   3|         true|\n",
      "|           mcm| 1462653595524|1.124714894|       R2 6f Claim|27787686|Emerald (US) 7th May| 10097089|    Sophie Dopey|       WINNER|                   3|         true|\n",
      "|           mcm| 1462653595524|1.124714894|       R2 6f Claim|27787686|Emerald (US) 7th May| 10097089|    Sophie Dopey|       WINNER|                   3|         true|\n",
      "|           mcm| 1462672355616|1.124715150|       R7 1m Claim|27787689| EvangD (US) 7th May| 10116145| Moment Of Grace|       WINNER|                   8|         true|\n",
      "|           mcm| 1462672355616|1.124715150|       R7 1m Claim|27787689| EvangD (US) 7th May| 10116145| Moment Of Grace|       WINNER|                   8|         true|\n",
      "|           mcm| 1462715272795|1.124735343| 1600m 4yo+ Listed|27788515|   Col (GER) 8th May| 11149698|     8. Wildpark|       WINNER|                   3|         true|\n",
      "|           mcm| 1462715272795|1.124735343| 1600m 4yo+ Listed|27788515|   Col (GER) 8th May| 11149698|     8. Wildpark|       WINNER|                   3|         true|\n",
      "+--------------+--------------+-----------+------------------+--------+--------------------+---------+----------------+-------------+--------------------+-------------+\n",
      "only showing top 20 rows\n",
      "\n"
     ]
    },
    {
     "name": "stderr",
     "output_type": "stream",
     "text": [
      "                                                                                \r"
     ]
    }
   ],
   "source": [
    "runners_fast_only_win.show()"
   ]
  },
  {
   "cell_type": "code",
   "execution_count": null,
   "metadata": {},
   "outputs": [],
   "source": []
  },
  {
   "cell_type": "code",
   "execution_count": null,
   "metadata": {},
   "outputs": [],
   "source": []
  },
  {
   "cell_type": "code",
   "execution_count": null,
   "metadata": {},
   "outputs": [],
   "source": []
  },
  {
   "cell_type": "code",
   "execution_count": 53,
   "metadata": {},
   "outputs": [],
   "source": [
    "###########################"
   ]
  },
  {
   "cell_type": "code",
   "execution_count": 54,
   "metadata": {},
   "outputs": [],
   "source": [
    "runners_fast_wbsp_sample = runners_fast_wbsp.limit(1000)"
   ]
  },
  {
   "cell_type": "code",
   "execution_count": null,
   "metadata": {},
   "outputs": [
    {
     "name": "stderr",
     "output_type": "stream",
     "text": [
      "[Stage 11:========>                                              (18 + 3) / 114]\r"
     ]
    }
   ],
   "source": [
    "runners_fast_wbsp_sample.show(100)"
   ]
  },
  {
   "cell_type": "markdown",
   "metadata": {},
   "source": [
    "from pyspark.ml.feature import OneHotEncoderEstimator, StringIndexer, VectorAssembler\n",
    "categoricalColumns = ['job', 'marital', 'education', 'default', 'housing', 'loan', 'contact', 'poutcome']\n",
    "stages = []\n",
    "for categoricalCol in categoricalColumns:\n",
    "    stringIndexer = StringIndexer(inputCol = categoricalCol, outputCol = categoricalCol + 'Index')\n",
    "    encoder = OneHotEncoderEstimator(inputCols=[stringIndexer.getOutputCol()], outputCols=[categoricalCol + \"classVec\"])\n",
    "    stages += [stringIndexer, encoder]\n",
    "label_stringIdx = StringIndexer(inputCol = 'deposit', outputCol = 'label')\n",
    "stages += [label_stringIdx]\n",
    "numericCols = ['age', 'balance', 'duration', 'campaign', 'pdays', 'previous']\n",
    "assemblerInputs = [c + \"classVec\" for c in categoricalColumns] + numericCols\n",
    "assembler = VectorAssembler(inputCols=assemblerInputs, outputCol=\"features\")\n",
    "stages += [assembler]"
   ]
  },
  {
   "cell_type": "markdown",
   "metadata": {},
   "source": [
    "[('operation_type', 'string'),\n",
    " ('published_time', 'bigint'),\n",
    " ('market_id', 'string'),\n",
    " ('market_name', 'string'),\n",
    " ('event_id', 'string'),\n",
    " ('event_name', 'string'),\n",
    " ('runner_id', 'int'),\n",
    " ('runner_name', 'string'),\n",
    " ('runner_status', 'string'),\n",
    " ('runner_sort_priority', 'int'),\n",
    " ('is_fast_horse', 'boolean')]"
   ]
  },
  {
   "cell_type": "code",
   "execution_count": null,
   "metadata": {},
   "outputs": [],
   "source": [
    "columns_to_drop = ['operation_type', 'published_time', 'market_id', 'market_name', 'event_id', 'event_name', 'runner_id', 'runner_name', 'runner_sort_priority' ]\n"
   ]
  },
  {
   "cell_type": "code",
   "execution_count": null,
   "metadata": {},
   "outputs": [],
   "source": [
    "runners_fast_wbsp_sample1 = runners_fast_wbsp_sample.drop(*columns_to_drop)"
   ]
  },
  {
   "cell_type": "code",
   "execution_count": null,
   "metadata": {},
   "outputs": [],
   "source": [
    "runners_fast_wbsp_sample1.show()"
   ]
  },
  {
   "cell_type": "code",
   "execution_count": null,
   "metadata": {},
   "outputs": [],
   "source": [
    "### Sum of two or more columns in pyspark\n",
    "\n",
    "from pyspark.sql.functions import col"
   ]
  },
  {
   "cell_type": "code",
   "execution_count": null,
   "metadata": {},
   "outputs": [],
   "source": [
    "runners_fast_wbsp_sample2=runners_fast_wbsp_sample1.withColumn(\"implied_prob\", 1/col(\"bsp\"))"
   ]
  },
  {
   "cell_type": "code",
   "execution_count": null,
   "metadata": {},
   "outputs": [],
   "source": [
    "runners_fast_wbsp_sample2.show(10)"
   ]
  },
  {
   "cell_type": "code",
   "execution_count": null,
   "metadata": {},
   "outputs": [],
   "source": [
    "columns_to_drop = [\"bsp\"]\n",
    "runners_fast_wbsp_sample2 = runners_fast_wbsp_sample2.drop(*columns_to_drop)"
   ]
  },
  {
   "cell_type": "code",
   "execution_count": null,
   "metadata": {},
   "outputs": [],
   "source": [
    "runners_fast_wbsp_sample2.groupby(\"runner_status\").count().show()"
   ]
  },
  {
   "cell_type": "code",
   "execution_count": null,
   "metadata": {},
   "outputs": [],
   "source": [
    "runners_fast_wbsp_sample2.groupby(\"is_fast_horse\").count().show()"
   ]
  },
  {
   "cell_type": "code",
   "execution_count": null,
   "metadata": {},
   "outputs": [],
   "source": []
  },
  {
   "cell_type": "code",
   "execution_count": null,
   "metadata": {},
   "outputs": [],
   "source": [
    "runners_fast_wbsp_sample2.show()"
   ]
  },
  {
   "cell_type": "code",
   "execution_count": null,
   "metadata": {},
   "outputs": [],
   "source": [
    "!pip install numpy"
   ]
  },
  {
   "cell_type": "code",
   "execution_count": null,
   "metadata": {},
   "outputs": [],
   "source": [
    "from pyspark.ml.classification import LogisticRegression"
   ]
  },
  {
   "cell_type": "code",
   "execution_count": null,
   "metadata": {},
   "outputs": [],
   "source": [
    "runners_fast_wbsp_sample2 = runners_fast_wbsp_sample2.withColumn(\"is_fast_horse_num\", runners_fast_wbsp_sample2[\"is_fast_horse\"].cast(IntegerType()))"
   ]
  },
  {
   "cell_type": "code",
   "execution_count": null,
   "metadata": {},
   "outputs": [],
   "source": [
    "runners_fast_wbsp_sample2 = runners_fast_wbsp_sample2.drop(\"is_fast_horse\")"
   ]
  },
  {
   "cell_type": "code",
   "execution_count": null,
   "metadata": {},
   "outputs": [],
   "source": [
    "runners_fast_wbsp_sample2.dtypes"
   ]
  },
  {
   "cell_type": "code",
   "execution_count": null,
   "metadata": {},
   "outputs": [],
   "source": [
    "runners_fast_wbsp_sample2.show(1)"
   ]
  },
  {
   "cell_type": "code",
   "execution_count": null,
   "metadata": {},
   "outputs": [],
   "source": [
    "cols = runners_fast_wbsp_sample2.columns"
   ]
  },
  {
   "cell_type": "code",
   "execution_count": null,
   "metadata": {},
   "outputs": [],
   "source": [
    "from pyspark.ml.feature import OneHotEncoder, StringIndexer, VectorAssembler\n",
    "categoricalColumns = ['is_fast_horse_num']\n",
    "#  is_fast_horse, runner_status, implied_prob\n",
    "stages = []\n",
    "\n",
    "for categoricalCol in categoricalColumns:\n",
    "    stringIndexer = StringIndexer(inputCol = categoricalCol, outputCol = categoricalCol + 'Index')\n",
    "    encoder = OneHotEncoder(inputCols=[stringIndexer.getOutputCol()], outputCols=[categoricalCol + \"classVec\"])\n",
    "    stages += [stringIndexer, encoder]\n",
    "\n",
    "label_stringIdx = StringIndexer(inputCol = 'runner_status', outputCol = 'label')\n",
    "\n",
    "stages += [label_stringIdx]\n",
    "\n",
    "numericCols = ['implied_prob']\n",
    "\n",
    "assemblerInputs = [c + \"classVec\" for c in categoricalColumns] + numericCols\n",
    "\n",
    "assembler = VectorAssembler(inputCols=assemblerInputs, outputCol=\"features\")\n",
    "\n",
    "stages += [assembler]"
   ]
  },
  {
   "cell_type": "code",
   "execution_count": null,
   "metadata": {},
   "outputs": [],
   "source": [
    "# pipline\n",
    "from pyspark.ml import Pipeline\n",
    "pipeline = Pipeline(stages = stages)\n",
    "pipelineModel = pipeline.fit(runners_fast_wbsp_sample2)\n",
    "runners_fast_wbsp_sample2 = pipelineModel.transform(runners_fast_wbsp_sample2)\n"
   ]
  },
  {
   "cell_type": "code",
   "execution_count": null,
   "metadata": {},
   "outputs": [],
   "source": [
    "selectedCols = ['label', 'features'] + cols\n",
    "runners_fast_wbsp_sample2 = runners_fast_wbsp_sample2.select(selectedCols)\n",
    "runners_fast_wbsp_sample2.printSchema()"
   ]
  },
  {
   "cell_type": "code",
   "execution_count": null,
   "metadata": {},
   "outputs": [],
   "source": [
    "runners_fast_wbsp_sample2.head()"
   ]
  },
  {
   "cell_type": "code",
   "execution_count": null,
   "metadata": {},
   "outputs": [],
   "source": [
    "!pip install pandas"
   ]
  },
  {
   "cell_type": "code",
   "execution_count": null,
   "metadata": {},
   "outputs": [],
   "source": [
    "import pandas as pd"
   ]
  },
  {
   "cell_type": "code",
   "execution_count": null,
   "metadata": {},
   "outputs": [],
   "source": [
    "runners_fast_wbsp_sample2.dtypes"
   ]
  },
  {
   "cell_type": "code",
   "execution_count": null,
   "metadata": {},
   "outputs": [],
   "source": [
    "pd.DataFrame(runners_fast_wbsp_sample2.take(5), columns=runners_fast_wbsp_sample2.columns).transpose()"
   ]
  },
  {
   "cell_type": "code",
   "execution_count": null,
   "metadata": {},
   "outputs": [],
   "source": [
    "train, test = runners_fast_wbsp_sample2.randomSplit([0.7, 0.3], seed = 2018)\n",
    "print(\"Training Dataset Count: \" + str(train.count()))\n",
    "print(\"Test Dataset Count: \" + str(test.count()))"
   ]
  },
  {
   "cell_type": "code",
   "execution_count": null,
   "metadata": {},
   "outputs": [],
   "source": [
    "from pyspark.ml.classification import LogisticRegression\n",
    "lr = LogisticRegression(featuresCol = 'features', labelCol = 'label', maxIter=10)\n",
    "lrModel = lr.fit(train)"
   ]
  },
  {
   "cell_type": "code",
   "execution_count": null,
   "metadata": {},
   "outputs": [],
   "source": [
    "!pip install matplotlib"
   ]
  },
  {
   "cell_type": "code",
   "execution_count": null,
   "metadata": {},
   "outputs": [],
   "source": [
    "import matplotlib.pyplot as plt\n",
    "import numpy as np\n",
    "beta = np.sort(lrModel.coefficients)\n",
    "plt.plot(beta)\n",
    "plt.ylabel('Beta Coefficients')\n",
    "plt.show()"
   ]
  },
  {
   "cell_type": "code",
   "execution_count": null,
   "metadata": {},
   "outputs": [],
   "source": [
    "trainingSummary = lrModel.summary\n",
    "roc = trainingSummary.roc.toPandas()\n",
    "plt.plot(roc['FPR'],roc['TPR'])\n",
    "plt.ylabel('False Positive Rate')\n",
    "plt.xlabel('True Positive Rate')\n",
    "plt.title('ROC Curve')\n",
    "plt.show()\n",
    "print('Training set areaUnderROC: ' + str(trainingSummary.areaUnderROC))"
   ]
  },
  {
   "cell_type": "code",
   "execution_count": null,
   "metadata": {},
   "outputs": [],
   "source": [
    "pr = trainingSummary.pr.toPandas()\n",
    "plt.plot(pr['recall'],pr['precision'])\n",
    "plt.ylabel('Precision')\n",
    "plt.xlabel('Recall')\n",
    "plt.show()"
   ]
  },
  {
   "cell_type": "code",
   "execution_count": null,
   "metadata": {},
   "outputs": [],
   "source": [
    "predictions = lrModel.transform(test)\n",
    "predictions.select('is_fast_horse_num', 'implied_prob').show(10)"
   ]
  },
  {
   "cell_type": "code",
   "execution_count": null,
   "metadata": {},
   "outputs": [],
   "source": [
    "from pyspark.ml.evaluation import BinaryClassificationEvaluator\n",
    "evaluator = BinaryClassificationEvaluator()\n",
    "print('Test Area Under ROC', evaluator.evaluate(predictions))"
   ]
  },
  {
   "cell_type": "code",
   "execution_count": null,
   "metadata": {},
   "outputs": [],
   "source": [
    "lrModel.coefficients"
   ]
  },
  {
   "cell_type": "markdown",
   "metadata": {},
   "source": [
    "the bigger the coefficient the more predictive power it has\n",
    "\n",
    "Winner = 1, Loser = 0\n",
    "Winner = X*is_fast + Y*implied_prob\n",
    "\n",
    "\n",
    "the bigger the coefficient the more predictive power it has\n",
    "\n",
    "is_fast=0, is_not_fast=1\n",
    "Winner = 1, Loser = 0\n",
    "Winner = -0.2172*is_fast + 5.2113*implied_prob"
   ]
  },
  {
   "cell_type": "code",
   "execution_count": null,
   "metadata": {},
   "outputs": [],
   "source": [
    "print(\"Multinomial coefficients: \" + str(lrModel.coefficientMatrix))\n"
   ]
  },
  {
   "cell_type": "code",
   "execution_count": null,
   "metadata": {},
   "outputs": [],
   "source": [
    "print(\"Multinomial intercepts: \" + str(lrModel.interceptVector))"
   ]
  },
  {
   "cell_type": "code",
   "execution_count": null,
   "metadata": {},
   "outputs": [],
   "source": [
    "lrModel.summary()"
   ]
  },
  {
   "cell_type": "code",
   "execution_count": null,
   "metadata": {},
   "outputs": [],
   "source": []
  },
  {
   "cell_type": "code",
   "execution_count": null,
   "metadata": {},
   "outputs": [],
   "source": []
  },
  {
   "cell_type": "code",
   "execution_count": null,
   "metadata": {},
   "outputs": [],
   "source": [
    "### gold cup 2016"
   ]
  },
  {
   "cell_type": "code",
   "execution_count": 24,
   "metadata": {},
   "outputs": [],
   "source": [
    "gold_cup = market_definitions.filter(market_definitions[\"event_name\"]==\"Chel 18th Mar\")"
   ]
  },
  {
   "cell_type": "code",
   "execution_count": 25,
   "metadata": {},
   "outputs": [
    {
     "name": "stderr",
     "output_type": "stream",
     "text": [
      "[Stage 13:=======================================================>(88 + 1) / 89]\r"
     ]
    },
    {
     "name": "stdout",
     "output_type": "stream",
     "text": [
      "+--------------+--------------+--------------+---------+---+---------+------------+----------+--------------+--------+------------+--------------+----------------+--------+----------+-------------+-------+----------------+-----------+-----------+------------------------+-----------------+---------+-------------------+----------------+------------+------+------------+--------+--------------------+-------+-----------+----------+-------+\n",
      "|operation_type|sequence_token|published_time|market_id| rc|bet_delay|betting_type|bsp_market|bsp_reconciled|complete|country_code|cross_matching|discount_allowed|event_id|event_name|event_type_id|in_play|market_base_rate|market_time|market_type|number_of_active_runners|number_of_winners|open_date|persistence_enabled|runners_voidable|settled_time|status|suspend_time|timezone|turn_in_play_enabled|version|market_name|regulators|runners|\n",
      "+--------------+--------------+--------------+---------+---+---------+------------+----------+--------------+--------+------------+--------------+----------------+--------+----------+-------------+-------+----------------+-----------+-----------+------------------------+-----------------+---------+-------------------+----------------+------------+------+------------+--------+--------------------+-------+-----------+----------+-------+\n",
      "+--------------+--------------+--------------+---------+---+---------+------------+----------+--------------+--------+------------+--------------+----------------+--------+----------+-------------+-------+----------------+-----------+-----------+------------------------+-----------------+---------+-------------------+----------------+------------+------+------------+--------+--------------------+-------+-----------+----------+-------+\n",
      "\n"
     ]
    },
    {
     "name": "stderr",
     "output_type": "stream",
     "text": [
      "                                                                                \r"
     ]
    }
   ],
   "source": [
    "gold_cup.show()"
   ]
  },
  {
   "cell_type": "code",
   "execution_count": null,
   "metadata": {},
   "outputs": [],
   "source": []
  }
 ],
 "metadata": {
  "kernelspec": {
   "display_name": "python37",
   "language": "python",
   "name": "python37"
  },
  "language_info": {
   "codemirror_mode": {
    "name": "ipython",
    "version": 3
   },
   "file_extension": ".py",
   "mimetype": "text/x-python",
   "name": "python",
   "nbconvert_exporter": "python",
   "pygments_lexer": "ipython3",
   "version": "3.7.7"
  }
 },
 "nbformat": 4,
 "nbformat_minor": 4
}
