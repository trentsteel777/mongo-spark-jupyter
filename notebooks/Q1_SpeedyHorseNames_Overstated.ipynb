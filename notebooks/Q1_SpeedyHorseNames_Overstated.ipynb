{
 "cells": [
  {
   "cell_type": "code",
   "execution_count": 1,
   "metadata": {},
   "outputs": [
    {
     "name": "stdout",
     "output_type": "stream",
     "text": [
      "Python 3.7.7\n"
     ]
    }
   ],
   "source": [
    "!python --version"
   ]
  },
  {
   "cell_type": "code",
   "execution_count": 2,
   "metadata": {},
   "outputs": [],
   "source": [
    "#https://stackoverflow.com/questions/53457975/pyspark-udf-function-error-in-lambda-function\n",
    "import os\n",
    "os.environ['OBJC_DISABLE_INITIALIZE_FORK_SAFETY'] = 'YES'"
   ]
  },
  {
   "cell_type": "code",
   "execution_count": 3,
   "metadata": {},
   "outputs": [
    {
     "name": "stderr",
     "output_type": "stream",
     "text": [
      "WARNING: An illegal reflective access operation has occurred\n",
      "WARNING: Illegal reflective access by org.apache.spark.unsafe.Platform (file:/usr/local/spark-3.0.0-bin-hadoop3.2/jars/spark-unsafe_2.12-3.0.0.jar) to constructor java.nio.DirectByteBuffer(long,int)\n",
      "WARNING: Please consider reporting this to the maintainers of org.apache.spark.unsafe.Platform\n",
      "WARNING: Use --illegal-access=warn to enable warnings of further illegal reflective access operations\n",
      "WARNING: All illegal access operations will be denied in a future release\n",
      "Ivy Default Cache set to: /home/jovyan/.ivy2/cache\n",
      "The jars for the packages stored in: /home/jovyan/.ivy2/jars\n",
      ":: loading settings :: url = jar:file:/usr/local/spark-3.0.0-bin-hadoop3.2/jars/ivy-2.4.0.jar!/org/apache/ivy/core/settings/ivysettings.xml\n",
      "org.mongodb.spark#mongo-spark-connector_2.12 added as a dependency\n",
      ":: resolving dependencies :: org.apache.spark#spark-submit-parent-6f59e8d3-ce41-474b-9580-886609128587;1.0\n",
      "\tconfs: [default]\n",
      "\tfound org.mongodb.spark#mongo-spark-connector_2.12;3.0.0 in central\n",
      "\tfound org.mongodb#mongodb-driver-sync;4.0.5 in central\n",
      "\tfound org.mongodb#bson;4.0.5 in central\n",
      "\tfound org.mongodb#mongodb-driver-core;4.0.5 in central\n",
      "downloading https://repo1.maven.org/maven2/org/mongodb/spark/mongo-spark-connector_2.12/3.0.0/mongo-spark-connector_2.12-3.0.0.jar ...\n",
      "\t[SUCCESSFUL ] org.mongodb.spark#mongo-spark-connector_2.12;3.0.0!mongo-spark-connector_2.12.jar (82ms)\n",
      "downloading https://repo1.maven.org/maven2/org/mongodb/mongodb-driver-sync/4.0.5/mongodb-driver-sync-4.0.5.jar ...\n",
      "\t[SUCCESSFUL ] org.mongodb#mongodb-driver-sync;4.0.5!mongodb-driver-sync.jar (21ms)\n",
      "downloading https://repo1.maven.org/maven2/org/mongodb/bson/4.0.5/bson-4.0.5.jar ...\n",
      "\t[SUCCESSFUL ] org.mongodb#bson;4.0.5!bson.jar (35ms)\n",
      "downloading https://repo1.maven.org/maven2/org/mongodb/mongodb-driver-core/4.0.5/mongodb-driver-core-4.0.5.jar ...\n",
      "\t[SUCCESSFUL ] org.mongodb#mongodb-driver-core;4.0.5!mongodb-driver-core.jar (70ms)\n",
      ":: resolution report :: resolve 1694ms :: artifacts dl 217ms\n",
      "\t:: modules in use:\n",
      "\torg.mongodb#bson;4.0.5 from central in [default]\n",
      "\torg.mongodb#mongodb-driver-core;4.0.5 from central in [default]\n",
      "\torg.mongodb#mongodb-driver-sync;4.0.5 from central in [default]\n",
      "\torg.mongodb.spark#mongo-spark-connector_2.12;3.0.0 from central in [default]\n",
      "\t---------------------------------------------------------------------\n",
      "\t|                  |            modules            ||   artifacts   |\n",
      "\t|       conf       | number| search|dwnlded|evicted|| number|dwnlded|\n",
      "\t---------------------------------------------------------------------\n",
      "\t|      default     |   4   |   4   |   4   |   0   ||   4   |   4   |\n",
      "\t---------------------------------------------------------------------\n",
      ":: retrieving :: org.apache.spark#spark-submit-parent-6f59e8d3-ce41-474b-9580-886609128587\n",
      "\tconfs: [default]\n",
      "\t4 artifacts copied, 0 already retrieved (2728kB/19ms)\n",
      "21/12/07 19:56:29 WARN NativeCodeLoader: Unable to load native-hadoop library for your platform... using builtin-java classes where applicable\n",
      "Using Spark's default log4j profile: org/apache/spark/log4j-defaults.properties\n",
      "Setting default log level to \"WARN\".\n",
      "To adjust logging level use sc.setLogLevel(newLevel). For SparkR, use setLogLevel(newLevel).\n"
     ]
    }
   ],
   "source": [
    "from pyspark.sql import SparkSession\n",
    "\n",
    "spark = SparkSession.\\\n",
    "        builder.\\\n",
    "        appName(\"pyspark-notebook2\").\\\n",
    "        master(\"spark://spark-master:7077\").\\\n",
    "        config(\"spark.executor.memory\", \"5g\").\\\n",
    "        config(\"spark.mongodb.input.uri\",\"mongodb://mongo1:27017,mongo2:27018,mongo3:27019/database.horses_collection?replicaSet=rs0\").\\\n",
    "        config(\"spark.mongodb.output.uri\",\"mongodb://mongo1:27017,mongo2:27018,mongo3:27019/database.horses_collection?replicaSet=rs0\").\\\n",
    "        config(\"spark.jars.packages\", \"org.mongodb.spark:mongo-spark-connector_2.12:3.0.0\").\\\n",
    "        getOrCreate()\n"
   ]
  },
  {
   "cell_type": "code",
   "execution_count": 4,
   "metadata": {},
   "outputs": [
    {
     "data": {
      "text/plain": [
       "'default'"
      ]
     },
     "execution_count": 4,
     "metadata": {},
     "output_type": "execute_result"
    }
   ],
   "source": [
    "spark.catalog.currentDatabase()"
   ]
  },
  {
   "cell_type": "code",
   "execution_count": 5,
   "metadata": {},
   "outputs": [
    {
     "name": "stderr",
     "output_type": "stream",
     "text": [
      "21/12/07 19:57:19 WARN MongoInferSchema: Field 'bsp' contains conflicting types converting to StringType\n",
      "21/12/07 19:57:21 WARN package: Truncated the string representation of a plan since it was too large. This behavior can be adjusted by setting 'spark.sql.debug.maxToStringFields'.\n"
     ]
    }
   ],
   "source": [
    "#reading dataframes from MongoDB\n",
    "\n",
    "# sampleSize - https://stackoverflow.com/a/56255303\n",
    "df = spark.read.format(\"mongo\").option('sampleSize', 50000).load()\n",
    "df.createOrReplaceTempView(\"mongo\")\n"
   ]
  },
  {
   "cell_type": "code",
   "execution_count": 6,
   "metadata": {},
   "outputs": [
    {
     "name": "stdout",
     "output_type": "stream",
     "text": [
      "root\n",
      " |-- _id: struct (nullable = true)\n",
      " |    |-- oid: string (nullable = true)\n",
      " |-- clk: string (nullable = true)\n",
      " |-- mc: array (nullable = true)\n",
      " |    |-- element: struct (containsNull = true)\n",
      " |    |    |-- id: string (nullable = true)\n",
      " |    |    |-- marketDefinition: struct (nullable = true)\n",
      " |    |    |    |-- betDelay: integer (nullable = true)\n",
      " |    |    |    |-- bettingType: string (nullable = true)\n",
      " |    |    |    |-- bspMarket: boolean (nullable = true)\n",
      " |    |    |    |-- bspReconciled: boolean (nullable = true)\n",
      " |    |    |    |-- complete: boolean (nullable = true)\n",
      " |    |    |    |-- countryCode: string (nullable = true)\n",
      " |    |    |    |-- crossMatching: boolean (nullable = true)\n",
      " |    |    |    |-- discountAllowed: boolean (nullable = true)\n",
      " |    |    |    |-- eachWayDivisor: double (nullable = true)\n",
      " |    |    |    |-- eventId: string (nullable = true)\n",
      " |    |    |    |-- eventName: string (nullable = true)\n",
      " |    |    |    |-- eventTypeId: string (nullable = true)\n",
      " |    |    |    |-- inPlay: boolean (nullable = true)\n",
      " |    |    |    |-- marketBaseRate: double (nullable = true)\n",
      " |    |    |    |-- marketTime: string (nullable = true)\n",
      " |    |    |    |-- marketType: string (nullable = true)\n",
      " |    |    |    |-- name: string (nullable = true)\n",
      " |    |    |    |-- numberOfActiveRunners: integer (nullable = true)\n",
      " |    |    |    |-- numberOfWinners: integer (nullable = true)\n",
      " |    |    |    |-- openDate: string (nullable = true)\n",
      " |    |    |    |-- persistenceEnabled: boolean (nullable = true)\n",
      " |    |    |    |-- regulators: array (nullable = true)\n",
      " |    |    |    |    |-- element: string (containsNull = true)\n",
      " |    |    |    |-- runners: array (nullable = true)\n",
      " |    |    |    |    |-- element: struct (containsNull = true)\n",
      " |    |    |    |    |    |-- adjustmentFactor: double (nullable = true)\n",
      " |    |    |    |    |    |-- bsp: string (nullable = true)\n",
      " |    |    |    |    |    |-- id: integer (nullable = true)\n",
      " |    |    |    |    |    |-- name: string (nullable = true)\n",
      " |    |    |    |    |    |-- removalDate: string (nullable = true)\n",
      " |    |    |    |    |    |-- sortPriority: integer (nullable = true)\n",
      " |    |    |    |    |    |-- status: string (nullable = true)\n",
      " |    |    |    |-- runnersVoidable: boolean (nullable = true)\n",
      " |    |    |    |-- settledTime: string (nullable = true)\n",
      " |    |    |    |-- status: string (nullable = true)\n",
      " |    |    |    |-- suspendTime: string (nullable = true)\n",
      " |    |    |    |-- timezone: string (nullable = true)\n",
      " |    |    |    |-- turnInPlayEnabled: boolean (nullable = true)\n",
      " |    |    |    |-- venue: string (nullable = true)\n",
      " |    |    |    |-- version: integer (nullable = true)\n",
      " |    |    |-- rc: array (nullable = true)\n",
      " |    |    |    |-- element: struct (containsNull = true)\n",
      " |    |    |    |    |-- ltp: double (nullable = true)\n",
      " |    |    |    |    |-- id: integer (nullable = true)\n",
      " |-- op: string (nullable = true)\n",
      " |-- pt: long (nullable = true)\n",
      "\n"
     ]
    }
   ],
   "source": [
    "df.printSchema()"
   ]
  },
  {
   "cell_type": "code",
   "execution_count": 7,
   "metadata": {},
   "outputs": [
    {
     "name": "stderr",
     "output_type": "stream",
     "text": [
      "[Stage 1:>                                                          (0 + 1) / 1]\r"
     ]
    },
    {
     "name": "stdout",
     "output_type": "stream",
     "text": [
      "+--------------------+----------+--------------------+---+-------------+\n",
      "|                 _id|       clk|                  mc| op|           pt|\n",
      "+--------------------+----------+--------------------+---+-------------+\n",
      "|[619e9dd8677066b2...|2480088678|[[1.124699287, [0...|mcm|1462537993283|\n",
      "|[619e9dd8677066b2...|2480249142|[[1.124699287, [0...|mcm|1462540135101|\n",
      "|[619e9dd8677066b2...|2481803835|[[1.124699287, [0...|mcm|1462555384075|\n",
      "|[619e9dd8677066b2...|2481994285|[[1.124699287,, [...|mcm|1462557371191|\n",
      "|[619e9dd8677066b2...|2482055516|[[1.124699287,, [...|mcm|1462557910955|\n",
      "|[619e9dd8677066b2...|2482072939|[[1.124699287,, [...|mcm|1462558089056|\n",
      "|[619e9dd8677066b2...|2482078964|[[1.124699287,, [...|mcm|1462558150717|\n",
      "|[619e9dd8677066b2...|2482083965|[[1.124699287, [0...|mcm|1462558199155|\n",
      "|[619e9dd8677066b2...|2482177634|[[1.124699287, [0...|mcm|1462559078531|\n",
      "|[619e9dd8677066b2...|2480088678|[[1.124699285, [0...|mcm|1462537993283|\n",
      "|[619e9dd8677066b2...|2480212422|[[1.124699285, [0...|mcm|1462539800697|\n",
      "|[619e9dd8677066b2...|2480409166|[[1.124699285, [0...|mcm|1462541919372|\n",
      "|[619e9dd8677066b2...|2481526806|[[1.124699285,, [...|mcm|1462552870198|\n",
      "|[619e9dd8677066b2...|2481622628|[[1.124699285, [0...|mcm|1462553643217|\n",
      "|[619e9dd8677066b2...|2481628092|[[1.124699285, [0...|mcm|1462553705002|\n",
      "|[619e9dd8677066b2...|2481633423|[[1.124699285, [0...|mcm|1462553765802|\n",
      "|[619e9dd8677066b2...|2481879973|[[1.124699285, [0...|mcm|1462556181157|\n",
      "|[619e9dd8677066b2...|2481938295|[[1.124699285, [0...|mcm|1462556825096|\n",
      "|[619e9dd8677066b2...|2480088678|[[1.124699278, [0...|mcm|1462537993283|\n",
      "|[619e9dd8677066b2...|2480180647|[[1.124699278, [0...|mcm|1462539270638|\n",
      "+--------------------+----------+--------------------+---+-------------+\n",
      "only showing top 20 rows\n",
      "\n"
     ]
    },
    {
     "name": "stderr",
     "output_type": "stream",
     "text": [
      "                                                                                \r"
     ]
    }
   ],
   "source": [
    "df.show()"
   ]
  },
  {
   "cell_type": "code",
   "execution_count": 8,
   "metadata": {},
   "outputs": [],
   "source": [
    "#spark.sql(\"select * from mongo array_contains(root.mc, array('CLOSED'))\").show()\n",
    "from pyspark.sql.functions import explode   # Explodes lists into rows."
   ]
  },
  {
   "cell_type": "code",
   "execution_count": 9,
   "metadata": {},
   "outputs": [],
   "source": [
    "mc_exploded = df.select('*', explode(df.mc).alias('mc_row'))"
   ]
  },
  {
   "cell_type": "code",
   "execution_count": 10,
   "metadata": {},
   "outputs": [],
   "source": [
    "md_only = mc_exploded.filter(mc_exploded.mc_row.marketDefinition.isNotNull())"
   ]
  },
  {
   "cell_type": "code",
   "execution_count": 11,
   "metadata": {},
   "outputs": [
    {
     "name": "stderr",
     "output_type": "stream",
     "text": [
      "[Stage 2:>                                                          (0 + 1) / 1]\r"
     ]
    },
    {
     "name": "stdout",
     "output_type": "stream",
     "text": [
      "+--------------------+----------+--------------------+---+-------------+--------------------+\n",
      "|                 _id|       clk|                  mc| op|           pt|              mc_row|\n",
      "+--------------------+----------+--------------------+---+-------------+--------------------+\n",
      "|[619e9dd8677066b2...|2480088678|[[1.124699287, [0...|mcm|1462537993283|[1.124699287, [0,...|\n",
      "|[619e9dd8677066b2...|2480249142|[[1.124699287, [0...|mcm|1462540135101|[1.124699287, [0,...|\n",
      "|[619e9dd8677066b2...|2481803835|[[1.124699287, [0...|mcm|1462555384075|[1.124699287, [0,...|\n",
      "|[619e9dd8677066b2...|2482083965|[[1.124699287, [0...|mcm|1462558199155|[1.124699287, [0,...|\n",
      "|[619e9dd8677066b2...|2482177634|[[1.124699287, [0...|mcm|1462559078531|[1.124699287, [0,...|\n",
      "|[619e9dd8677066b2...|2480088678|[[1.124699285, [0...|mcm|1462537993283|[1.124699285, [0,...|\n",
      "|[619e9dd8677066b2...|2480212422|[[1.124699285, [0...|mcm|1462539800697|[1.124699285, [0,...|\n",
      "|[619e9dd8677066b2...|2480409166|[[1.124699285, [0...|mcm|1462541919372|[1.124699285, [0,...|\n",
      "|[619e9dd8677066b2...|2481622628|[[1.124699285, [0...|mcm|1462553643217|[1.124699285, [0,...|\n",
      "|[619e9dd8677066b2...|2481628092|[[1.124699285, [0...|mcm|1462553705002|[1.124699285, [0,...|\n",
      "|[619e9dd8677066b2...|2481633423|[[1.124699285, [0...|mcm|1462553765802|[1.124699285, [0,...|\n",
      "|[619e9dd8677066b2...|2481879973|[[1.124699285, [0...|mcm|1462556181157|[1.124699285, [0,...|\n",
      "|[619e9dd8677066b2...|2481938295|[[1.124699285, [0...|mcm|1462556825096|[1.124699285, [0,...|\n",
      "|[619e9dd8677066b2...|2480088678|[[1.124699278, [0...|mcm|1462537993283|[1.124699278, [0,...|\n",
      "|[619e9dd8677066b2...|2480180647|[[1.124699278, [0...|mcm|1462539270638|[1.124699278, [0,...|\n",
      "|[619e9dd8677066b2...|2481407254|[[1.124699278, [0...|mcm|1462551952407|[1.124699278, [0,...|\n",
      "|[619e9dd8677066b2...|2481698341|[[1.124699278, [0...|mcm|1462554327642|[1.124699278, [0,...|\n",
      "|[619e9dd8677066b2...|2481740307|[[1.124699278, [0...|mcm|1462554768806|[1.124699278, [0,...|\n",
      "|[619e9dd8677066b2...|2480088678|[[1.124699287, [0...|mcm|1462537993283|[1.124699287, [0,...|\n",
      "|[619e9dd8677066b2...|2480088678|[[1.124699287, [0...|mcm|1462537993283|[1.124699278, [0,...|\n",
      "+--------------------+----------+--------------------+---+-------------+--------------------+\n",
      "only showing top 20 rows\n",
      "\n"
     ]
    },
    {
     "name": "stderr",
     "output_type": "stream",
     "text": [
      "                                                                                \r"
     ]
    }
   ],
   "source": [
    "md_only.show()"
   ]
  },
  {
   "cell_type": "code",
   "execution_count": 12,
   "metadata": {},
   "outputs": [],
   "source": [
    "# Explode the marketDefinition array.\n",
    "market_definitions = md_only.selectExpr('op AS operation_type',\n",
    "                                        'clk AS sequence_token',\n",
    "                                        'pt AS published_time',\n",
    "                                        'mc_row.id AS market_id',\n",
    "                                        'mc_row.rc AS rc',\n",
    "                                        'mc_row.marketDefinition.betDelay AS bet_delay',\n",
    "                                        'mc_row.marketDefinition.bettingType AS betting_type',\n",
    "                                        'mc_row.marketDefinition.bspMarket AS bsp_market',\n",
    "                                        'mc_row.marketDefinition.bspReconciled AS bsp_reconciled',\n",
    "                                        'mc_row.marketDefinition.complete AS complete',\n",
    "                                        'mc_row.marketDefinition.countryCode AS country_code',\n",
    "                                        'mc_row.marketDefinition.crossMatching AS cross_matching',\n",
    "                                        'mc_row.marketDefinition.discountAllowed AS discount_allowed',\n",
    "                                        'mc_row.marketDefinition.eventId AS event_id',\n",
    "                                        'mc_row.marketDefinition.eventName AS event_name',\n",
    "                                        'mc_row.marketDefinition.eventTypeId AS event_type_id',\n",
    "                                        'mc_row.marketDefinition.inPlay AS in_play',\n",
    "                                        'mc_row.marketDefinition.marketBaseRate AS market_base_rate',\n",
    "                                        'mc_row.marketDefinition.marketTime AS market_time',\n",
    "                                        'mc_row.marketDefinition.marketType AS market_type',\n",
    "                                        'mc_row.marketDefinition.numberOfActiveRunners AS number_of_active_runners',\n",
    "                                        'mc_row.marketDefinition.numberOfWinners AS number_of_winners',\n",
    "                                        'mc_row.marketDefinition.openDate AS open_date',\n",
    "                                        'mc_row.marketDefinition.persistenceEnabled AS persistence_enabled',\n",
    "                                        'mc_row.marketDefinition.runnersVoidable AS runners_voidable',\n",
    "                                        'mc_row.marketDefinition.settledTime AS settled_time',\n",
    "                                        'mc_row.marketDefinition.status AS status',\n",
    "                                        'mc_row.marketDefinition.suspendTime AS suspend_time',\n",
    "                                        'mc_row.marketDefinition.timezone AS timezone',\n",
    "                                        'mc_row.marketDefinition.turnInPlayEnabled AS turn_in_play_enabled',\n",
    "                                        'mc_row.marketDefinition.version AS version',\n",
    "                                        'mc_row.marketDefinition.name AS market_name',\n",
    "                                        'mc_row.marketDefinition.regulators AS regulators',\n",
    "                                        'mc_row.marketDefinition.runners AS runners')"
   ]
  },
  {
   "cell_type": "code",
   "execution_count": 13,
   "metadata": {},
   "outputs": [],
   "source": [
    "market_definitions = market_definitions.filter(market_definitions[\"status\"]==\"CLOSED\")"
   ]
  },
  {
   "cell_type": "code",
   "execution_count": 14,
   "metadata": {},
   "outputs": [],
   "source": [
    "market_definitions = market_definitions.filter(market_definitions[\"market_type\"]==\"WIN\")"
   ]
  },
  {
   "cell_type": "code",
   "execution_count": 15,
   "metadata": {},
   "outputs": [],
   "source": [
    "runners_only = market_definitions.filter(market_definitions.runners.isNotNull())"
   ]
  },
  {
   "cell_type": "code",
   "execution_count": 16,
   "metadata": {},
   "outputs": [],
   "source": [
    "# Explode the Runners array.\n",
    "runners_exploded = runners_only.select(market_definitions.operation_type,\n",
    "                                       market_definitions.published_time,\n",
    "                                       market_definitions.market_id,\n",
    "                                       market_definitions.market_name,\n",
    "                                       market_definitions.event_id,\n",
    "                                       market_definitions.event_name,\n",
    "                                       explode(market_definitions.runners).alias('runner_row'))"
   ]
  },
  {
   "cell_type": "code",
   "execution_count": null,
   "metadata": {},
   "outputs": [],
   "source": []
  },
  {
   "cell_type": "code",
   "execution_count": 17,
   "metadata": {},
   "outputs": [],
   "source": [
    "#############################\n",
    "##### new dataset (just added BSP to the runners dataframe created above)\n",
    "runners_exploded_wbsp = runners_only.select(market_definitions.operation_type,\n",
    "                                       market_definitions.published_time,\n",
    "                                       market_definitions.market_id,\n",
    "                                       market_definitions.market_name,\n",
    "                                       market_definitions.event_id,\n",
    "                                       market_definitions.event_name,\n",
    "                                       explode(market_definitions.runners).alias('runner_row'))"
   ]
  },
  {
   "cell_type": "code",
   "execution_count": 18,
   "metadata": {},
   "outputs": [],
   "source": [
    "##### new dataset (just added BSP to the runners dataframe created above)\n",
    "runners_wbsp = runners_exploded_wbsp.selectExpr('operation_type',\n",
    "                                      'published_time',\n",
    "                                      'market_id',\n",
    "                                      'market_name',\n",
    "                                      'event_id',\n",
    "                                      'event_name',\n",
    "                                      'runner_row.id AS runner_id',\n",
    "                                      'runner_row.name AS runner_name',\n",
    "                                      'runner_row.status AS runner_status',\n",
    "                                      'runner_row.bsp AS bsp',\n",
    "                                      'runner_row.sortPriority AS runner_sort_priority')"
   ]
  },
  {
   "cell_type": "code",
   "execution_count": 19,
   "metadata": {},
   "outputs": [],
   "source": [
    "##### new dataset (just added BSP to the runners dataframe created above)\n",
    "runners_wbsp = runners_wbsp.filter(runners_wbsp.runner_status!='REMOVED')"
   ]
  },
  {
   "cell_type": "code",
   "execution_count": 20,
   "metadata": {},
   "outputs": [
    {
     "name": "stderr",
     "output_type": "stream",
     "text": [
      "[Stage 3:>                                                          (0 + 1) / 1]\r"
     ]
    },
    {
     "name": "stdout",
     "output_type": "stream",
     "text": [
      "+--------------+--------------+-----------+---------------+--------+-------------------+---------+------------------+-------------+------+--------------------+\n",
      "|operation_type|published_time|  market_id|    market_name|event_id|         event_name|runner_id|       runner_name|runner_status|   bsp|runner_sort_priority|\n",
      "+--------------+--------------+-----------+---------------+--------+-------------------+---------+------------------+-------------+------+--------------------+\n",
      "|           mcm| 1462501034557|1.124659130|     R8 1m Allw|27784588|EvangD (US) 5th May| 10575249|       Bitsys Half|        LOSER|  13.5|                   5|\n",
      "|           mcm| 1462501034557|1.124659130|     R8 1m Allw|27784588|EvangD (US) 5th May| 10288198|         Blue Code|        LOSER|  32.0|                   6|\n",
      "|           mcm| 1462501034557|1.124659130|     R8 1m Allw|27784588|EvangD (US) 5th May| 10116126|            Zartan|        LOSER| 57.95|                   7|\n",
      "|           mcm| 1462501034557|1.124659130|     R8 1m Allw|27784588|EvangD (US) 5th May| 10221428|         Old Conch|        LOSER|223.91|                   8|\n",
      "|           mcm| 1462501034557|1.124659130|     R8 1m Allw|27784588|EvangD (US) 5th May| 10150151|Rose Needs A Check|        LOSER| 15.34|                   9|\n",
      "|           mcm| 1462501034557|1.124659130|     R8 1m Allw|27784588|EvangD (US) 5th May| 10237987|           Make Do|        LOSER|  10.5|                  10|\n",
      "|           mcm| 1462501034557|1.124659130|     R8 1m Allw|27784588|EvangD (US) 5th May| 10674850|      Cajun Kitten|        LOSER|   4.0|                  11|\n",
      "|           mcm| 1462501034557|1.124659130|     R8 1m Allw|27784588|EvangD (US) 5th May| 10550376|       Dr. Zipcity|       WINNER| 26.28|                  12|\n",
      "|           mcm| 1462501034557|1.124659130|     R8 1m Allw|27784588|EvangD (US) 5th May| 10849769|     Goforthegreen|        LOSER|  21.0|                  13|\n",
      "|           mcm| 1462501034557|1.124659130|     R8 1m Allw|27784588|EvangD (US) 5th May| 10762541|       Specialeyes|        LOSER|  2.31|                  14|\n",
      "|           mcm| 1462502535129|1.124659133|R9 7f Mdn Claim|27784588|EvangD (US) 5th May| 10175250|           Cabildo|        LOSER| 83.46|                   1|\n",
      "|           mcm| 1462502535129|1.124659133|R9 7f Mdn Claim|27784588|EvangD (US) 5th May| 10592064|      Point Secret|        LOSER|   5.6|                   2|\n",
      "|           mcm| 1462502535129|1.124659133|R9 7f Mdn Claim|27784588|EvangD (US) 5th May|  9111702|       Lip Service|       WINNER|   4.0|                   3|\n",
      "|           mcm| 1462502535129|1.124659133|R9 7f Mdn Claim|27784588|EvangD (US) 5th May| 10154653|         Warlander|        LOSER|   7.0|                   4|\n",
      "|           mcm| 1462502535129|1.124659133|R9 7f Mdn Claim|27784588|EvangD (US) 5th May| 10059993|    Cowboy Classic|        LOSER| 12.07|                   5|\n",
      "|           mcm| 1462502535129|1.124659133|R9 7f Mdn Claim|27784588|EvangD (US) 5th May| 10681528|    Dry Wood Creek|        LOSER|   4.4|                   6|\n",
      "|           mcm| 1462502535129|1.124659133|R9 7f Mdn Claim|27784588|EvangD (US) 5th May| 10804072|              Eppy|        LOSER| 18.52|                   7|\n",
      "|           mcm| 1462502535129|1.124659133|R9 7f Mdn Claim|27784588|EvangD (US) 5th May| 10882521|     Ball And Pins|        LOSER| 14.54|                   8|\n",
      "|           mcm| 1462495994956|1.124659121|    R5 6f Claim|27784588|EvangD (US) 5th May| 10102626|       Philli Four|        LOSER| 14.99|                   1|\n",
      "|           mcm| 1462495994956|1.124659121|    R5 6f Claim|27784588|EvangD (US) 5th May| 10134313|    Lydgate Affair|        LOSER| 38.42|                   2|\n",
      "+--------------+--------------+-----------+---------------+--------+-------------------+---------+------------------+-------------+------+--------------------+\n",
      "only showing top 20 rows\n",
      "\n"
     ]
    },
    {
     "name": "stderr",
     "output_type": "stream",
     "text": [
      "                                                                                \r"
     ]
    }
   ],
   "source": [
    "##### new dataset (just added BSP to the runners dataframe created above)\n",
    "runners_wbsp.show()"
   ]
  },
  {
   "cell_type": "code",
   "execution_count": 21,
   "metadata": {},
   "outputs": [],
   "source": [
    "#############################"
   ]
  },
  {
   "cell_type": "code",
   "execution_count": null,
   "metadata": {},
   "outputs": [],
   "source": []
  },
  {
   "cell_type": "code",
   "execution_count": 22,
   "metadata": {},
   "outputs": [],
   "source": [
    "# Select the useful fields, and give them user friendly names.\n",
    "runners = runners_exploded.selectExpr('operation_type',\n",
    "                                      'published_time',\n",
    "                                      'market_id',\n",
    "                                      'market_name',\n",
    "                                      'event_id',\n",
    "                                      'event_name',\n",
    "                                      'runner_row.id AS runner_id',\n",
    "                                      'runner_row.name AS runner_name',\n",
    "                                      'runner_row.status AS runner_status',\n",
    "                                      'runner_row.sortPriority AS runner_sort_priority')"
   ]
  },
  {
   "cell_type": "code",
   "execution_count": 23,
   "metadata": {},
   "outputs": [],
   "source": [
    "# Filter down to only the records that have rc (runner changes).\n",
    "rc_only = mc_exploded.filter(mc_exploded.mc_row.rc.isNotNull())"
   ]
  },
  {
   "cell_type": "code",
   "execution_count": 24,
   "metadata": {},
   "outputs": [],
   "source": [
    "# Explode the rc (runner changes) array.\n",
    "rc_exploded = rc_only.select(rc_only.op.alias('operation_type'),\n",
    "                             rc_only.pt.alias('published_time'),\n",
    "                             rc_only.mc_row.id.alias('market_id'),\n",
    "                             explode(rc_only.mc_row.rc).alias('runner_change_row'))"
   ]
  },
  {
   "cell_type": "code",
   "execution_count": 25,
   "metadata": {},
   "outputs": [],
   "source": [
    "# Select the useful fields, and give them user friendly names.\n",
    "runner_changes = rc_exploded.selectExpr('operation_type',\n",
    "                                        'published_time',\n",
    "                                        'market_id',\n",
    "                                        'runner_change_row.id AS runner_id',\n",
    "                                        'runner_change_row.ltp AS last_traded_price')"
   ]
  },
  {
   "cell_type": "code",
   "execution_count": 26,
   "metadata": {},
   "outputs": [
    {
     "name": "stderr",
     "output_type": "stream",
     "text": [
      "[Stage 4:>                                                          (0 + 1) / 1]\r"
     ]
    },
    {
     "name": "stdout",
     "output_type": "stream",
     "text": [
      "+--------------+--------------+-----------+---------------+--------+-------------------+---------+------------------+-------------+--------------------+\n",
      "|operation_type|published_time|  market_id|    market_name|event_id|         event_name|runner_id|       runner_name|runner_status|runner_sort_priority|\n",
      "+--------------+--------------+-----------+---------------+--------+-------------------+---------+------------------+-------------+--------------------+\n",
      "|           mcm| 1462501034557|1.124659130|     R8 1m Allw|27784588|EvangD (US) 5th May| 10861746|          B Brazin|      REMOVED|                   1|\n",
      "|           mcm| 1462501034557|1.124659130|     R8 1m Allw|27784588|EvangD (US) 5th May|  4517788|       Great Value|      REMOVED|                   2|\n",
      "|           mcm| 1462501034557|1.124659130|     R8 1m Allw|27784588|EvangD (US) 5th May|   187960|        Kid Creole|      REMOVED|                   3|\n",
      "|           mcm| 1462501034557|1.124659130|     R8 1m Allw|27784588|EvangD (US) 5th May| 10743810|        Slideruler|      REMOVED|                   4|\n",
      "|           mcm| 1462501034557|1.124659130|     R8 1m Allw|27784588|EvangD (US) 5th May| 10575249|       Bitsys Half|        LOSER|                   5|\n",
      "|           mcm| 1462501034557|1.124659130|     R8 1m Allw|27784588|EvangD (US) 5th May| 10288198|         Blue Code|        LOSER|                   6|\n",
      "|           mcm| 1462501034557|1.124659130|     R8 1m Allw|27784588|EvangD (US) 5th May| 10116126|            Zartan|        LOSER|                   7|\n",
      "|           mcm| 1462501034557|1.124659130|     R8 1m Allw|27784588|EvangD (US) 5th May| 10221428|         Old Conch|        LOSER|                   8|\n",
      "|           mcm| 1462501034557|1.124659130|     R8 1m Allw|27784588|EvangD (US) 5th May| 10150151|Rose Needs A Check|        LOSER|                   9|\n",
      "|           mcm| 1462501034557|1.124659130|     R8 1m Allw|27784588|EvangD (US) 5th May| 10237987|           Make Do|        LOSER|                  10|\n",
      "|           mcm| 1462501034557|1.124659130|     R8 1m Allw|27784588|EvangD (US) 5th May| 10674850|      Cajun Kitten|        LOSER|                  11|\n",
      "|           mcm| 1462501034557|1.124659130|     R8 1m Allw|27784588|EvangD (US) 5th May| 10550376|       Dr. Zipcity|       WINNER|                  12|\n",
      "|           mcm| 1462501034557|1.124659130|     R8 1m Allw|27784588|EvangD (US) 5th May| 10849769|     Goforthegreen|        LOSER|                  13|\n",
      "|           mcm| 1462501034557|1.124659130|     R8 1m Allw|27784588|EvangD (US) 5th May| 10762541|       Specialeyes|        LOSER|                  14|\n",
      "|           mcm| 1462502535129|1.124659133|R9 7f Mdn Claim|27784588|EvangD (US) 5th May| 10175250|           Cabildo|        LOSER|                   1|\n",
      "|           mcm| 1462502535129|1.124659133|R9 7f Mdn Claim|27784588|EvangD (US) 5th May| 10592064|      Point Secret|        LOSER|                   2|\n",
      "|           mcm| 1462502535129|1.124659133|R9 7f Mdn Claim|27784588|EvangD (US) 5th May|  9111702|       Lip Service|       WINNER|                   3|\n",
      "|           mcm| 1462502535129|1.124659133|R9 7f Mdn Claim|27784588|EvangD (US) 5th May| 10154653|         Warlander|        LOSER|                   4|\n",
      "|           mcm| 1462502535129|1.124659133|R9 7f Mdn Claim|27784588|EvangD (US) 5th May| 10059993|    Cowboy Classic|        LOSER|                   5|\n",
      "|           mcm| 1462502535129|1.124659133|R9 7f Mdn Claim|27784588|EvangD (US) 5th May| 10681528|    Dry Wood Creek|        LOSER|                   6|\n",
      "+--------------+--------------+-----------+---------------+--------+-------------------+---------+------------------+-------------+--------------------+\n",
      "only showing top 20 rows\n",
      "\n"
     ]
    },
    {
     "name": "stderr",
     "output_type": "stream",
     "text": [
      "                                                                                \r"
     ]
    }
   ],
   "source": [
    "runners.show()"
   ]
  },
  {
   "cell_type": "code",
   "execution_count": 27,
   "metadata": {},
   "outputs": [],
   "source": [
    "# https://www.researchgate.net/publication/351844751_Sonic_Thunder_vs_Brian_the_Snail_Are_people_affected_by_uninformative_racehorse_names\n",
    "fast_names = [\n",
    "    'a mile a minute', 'helter-skelter', 'quick-fire',\n",
    "    'apace', 'high-speed quickly',\n",
    "    'as fast as your legs would carry you',\n",
    "    'hot', 'quickness',\n",
    "    'as if it is going out of style', 'hotfoot', 'rapid',\n",
    "    'at a rate of knots', 'hustle', 'rapid-fire',\n",
    "    'at full pelt', 'in the twinkling of an eye',\n",
    "    'rate',\n",
    "    'at full speed', 'Jack Robinson', 'say',\n",
    "    'at full tilt', 'lick', 'shot',\n",
    "    'at full tilt', 'lickety-split', 'smartly',\n",
    "    'before you can say Jack Robinson', 'lightning', 'souped-up',\n",
    "    'blistering', 'like a shot', 'spanking',\n",
    "    'breakneck' 'like a streak of lightning', 'speed',\n",
    "    'brisk' 'like lightning spread', 'like wildfire',\n",
    "    'chop-chop', 'meteoric', 'streak',\n",
    "    'crash', 'mile', 'style',\n",
    "    'express', 'nimble', 'superfast',\n",
    "    'fast', 'nimbleness', 'supersonic',\n",
    "\n",
    "    'fleet', 'nimbly', 'swift',\n",
    "    'full', 'nippy', 'swiftly',\n",
    "    'full steam ahead', 'pdq', 'thick',\n",
    "    'gallop', 'pell-mell', 'thick and fast',\n",
    "    'galloping', 'poky', 'tilt',\n",
    "    'go like hot cakes', 'posthaste', 'top',\n",
    "    'have a heavy foot', 'precipitous', 'twinkling',\n",
    "    'headlong', 'precipitously', 'whoosh',\n",
    "    'heavy', 'prompt', 'wildfire',\n",
    "    'hell', 'promptly', 'zippy',\n",
    "    'hell for leather', 'quick',\n",
    "\n",
    "\n",
    "    'accelerated', 'high-speed', 'pell-mell',\n",
    "    'at full speed', 'hurried', 'post-haste',\n",
    "    'at full tilt', 'hurriedly', 'quick',\n",
    "    'at speed', 'in a flash', 'quickly',\n",
    "    'at the speed of light', 'in a hurry', 'rapid',\n",
    "    'blistering', 'in a trice', 'rapidly',\n",
    "    'breakneck', 'in a wink', 'smart',\n",
    "    'brisk', 'in haste', 'speedily',\n",
    "    'briskly', 'in time', 'speedy',\n",
    "    'energetically', 'in no time at all', 'sporty',\n",
    "    'expeditious', 'in the blink of an eye', 'sprightly',\n",
    "    'expeditiously', 'like a flash', 'swift',\n",
    "    'express', 'like a shot', 'swiftly',\n",
    "    'fast', 'like an arrow from a bow', 'turbo',\n",
    "    'fast-moving', 'lively', 'unhesitating',\n",
    "    'fleet-footed', 'meteoric', 'whirlwind',\n",
    "    'flying', 'nimble', 'with all haste',\n",
    "    'hastily', 'on the double', 'with dispatch',\n",
    "    'hasty', 'pell-mell', 'without delay',\n",
    "\n",
    "    'acceleration', 'haste', 'scutter',\n",
    "    'alacrity', 'hasten', 'sharpness',\n",
    "    'blast', 'hurriedness', 'shoot',\n",
    "    'bolt', 'hurry', 'spank along',\n",
    "    'bowl along', 'hurry', 'speed',\n",
    "    'briskness', 'hurtle', 'speediness',\n",
    "    'career', 'immediacy', 'sprint',\n",
    "    'celerity', 'momentum', 'stampede',\n",
    "    'charge', 'pace', 'streak',\n",
    "    'dart', 'precipitateness', 'sweep',\n",
    "    'dash', 'promptness', 'swiftness',\n",
    "    'dispatch', 'quickness', 'swoop',\n",
    "    'expedition', 'race', 'tempo',\n",
    "    'expeditiousness', 'rapidity', 'uzz',\n",
    "    'fastness', 'rate', 'velocity',\n",
    "    'flash', 'rattle along', 'whirl',\n",
    "    'fly', 'run', 'whizz',\n",
    "    'gallop', 'rush', 'whoosh',\n",
    "    'go hell for leather', 'scramble', 'wing',\n",
    "    'go like lightning', 'scud', 'zoom',\n",
    "    'hare', 'scurry',\n",
    "\n",
    "    'abrupt', 'impetuous', 'rushed',\n",
    "    'agility', 'outrun', 'scramble',\n",
    "    'dash', 'overhasty', 'speed',\n",
    "    'disconcerted', 'overrun', 'speedily',\n",
    "    'dodge', 'promptly', 'speedy',\n",
    "    'haste', 'quick', 'sudden',\n",
    "    'hastily', 'quickly', 'suddenly',\n",
    "    'hurried', 'rapid', 'swift',\n",
    "    'hurriedly', 'rapidly', 'swiftly',\n",
    "    'hurry', 'rush', 'zoom',\n",
    "\n",
    "    'accelerate', 'haste', 'race',\n",
    "    'acceleration', 'hasten', 'rapidity',\n",
    "    'agility', 'hie', 'rush',\n",
    "    'airspeed', 'hurriedly', 'speedy',\n",
    "    'celerity', 'hurry', 'stronghold',\n",
    "    'dash', 'pace', 'swift',\n",
    "    'decelerate', 'quick', 'swiftness',\n",
    "    'expedite', 'quicken', 'tempo',\n",
    "    'fast', 'quickly', 'urgently',\n",
    "    'fastness', 'quickness', 'velocity',\n",
    "\n",
    "    'Apache', 'Bentley', 'Blustery',\n",
    "    'Bullet', 'Buzz', 'Comet',\n",
    "    ',Cougar', ',Falcon', 'Faster',\n",
    "    'Flash', 'Ghost', 'rider', 'Harley',\n",
    "    'Jet', 'Jump', 'Jumping',\n",
    "    'Miles', 'Mustang', 'Pony express',\n",
    "    'Quick', 'Quicky', 'Racer',\n",
    "    'Rapid', 'Rapide', 'Rocket',\n",
    "    'Sonic', 'Speedy', 'Taz',\n",
    "    'Tornado', 'Traveler', 'Wildfire',\n",
    "    'Voyager', 'Wild', 'Velocity', \n",
    "\n",
    "    'Sonic Power', 'Speed Dragon', 'Zippy Lad', 'Lightening Vault',\n",
    "    'Powerful Jet', 'Orbit Express', 'Swift Chap', 'Blazing Tempo',\n",
    "    'Brave Falcon', 'Rush Now', 'Top Magic', 'Dixie Flyer',\n",
    "    'Esprit De Bullet', 'Strike Fast', 'Hustle Hard', 'Diamond Rush',\n",
    "    'Crown Me Fast', 'Hot Seat', 'Top Gear', 'Bright Bullet',\n",
    "    'Quick Art', 'Rush Of Blood', 'Top Boy', 'Meteoric',\n",
    "    'Moments',\n",
    "    'One Wild Guy', 'Sonic Thunder', 'Grand Gallop', 'Zippy Speed',\n",
    "    'Run for Roses', 'Saratoga',\n",
    "    'Wildcat',\n",
    "    'Quick Beers', 'Sudden Rush',\n",
    "    'Flyingwithoutwings', 'Fast On', 'Dazzlem Quick', 'You Drive I Fly',\n",
    "    'Irish Rocket', 'Hot Sauce', 'Mighty Flying', 'frost'\n",
    "]"
   ]
  },
  {
   "cell_type": "code",
   "execution_count": 28,
   "metadata": {},
   "outputs": [],
   "source": [
    "for i in range(len(fast_names)):\n",
    "    fast_names[i] = fast_names[i].lower()"
   ]
  },
  {
   "cell_type": "code",
   "execution_count": 29,
   "metadata": {},
   "outputs": [],
   "source": [
    "runners = runners.filter(runners.runner_status!='REMOVED')"
   ]
  },
  {
   "cell_type": "code",
   "execution_count": 30,
   "metadata": {},
   "outputs": [
    {
     "name": "stdout",
     "output_type": "stream",
     "text": [
      "+--------------+--------------+-----------+---------------+--------+-------------------+---------+------------------+-------------+--------------------+\n",
      "|operation_type|published_time|  market_id|    market_name|event_id|         event_name|runner_id|       runner_name|runner_status|runner_sort_priority|\n",
      "+--------------+--------------+-----------+---------------+--------+-------------------+---------+------------------+-------------+--------------------+\n",
      "|           mcm| 1462501034557|1.124659130|     R8 1m Allw|27784588|EvangD (US) 5th May| 10575249|       Bitsys Half|        LOSER|                   5|\n",
      "|           mcm| 1462501034557|1.124659130|     R8 1m Allw|27784588|EvangD (US) 5th May| 10288198|         Blue Code|        LOSER|                   6|\n",
      "|           mcm| 1462501034557|1.124659130|     R8 1m Allw|27784588|EvangD (US) 5th May| 10116126|            Zartan|        LOSER|                   7|\n",
      "|           mcm| 1462501034557|1.124659130|     R8 1m Allw|27784588|EvangD (US) 5th May| 10221428|         Old Conch|        LOSER|                   8|\n",
      "|           mcm| 1462501034557|1.124659130|     R8 1m Allw|27784588|EvangD (US) 5th May| 10150151|Rose Needs A Check|        LOSER|                   9|\n",
      "|           mcm| 1462501034557|1.124659130|     R8 1m Allw|27784588|EvangD (US) 5th May| 10237987|           Make Do|        LOSER|                  10|\n",
      "|           mcm| 1462501034557|1.124659130|     R8 1m Allw|27784588|EvangD (US) 5th May| 10674850|      Cajun Kitten|        LOSER|                  11|\n",
      "|           mcm| 1462501034557|1.124659130|     R8 1m Allw|27784588|EvangD (US) 5th May| 10550376|       Dr. Zipcity|       WINNER|                  12|\n",
      "|           mcm| 1462501034557|1.124659130|     R8 1m Allw|27784588|EvangD (US) 5th May| 10849769|     Goforthegreen|        LOSER|                  13|\n",
      "|           mcm| 1462501034557|1.124659130|     R8 1m Allw|27784588|EvangD (US) 5th May| 10762541|       Specialeyes|        LOSER|                  14|\n",
      "|           mcm| 1462502535129|1.124659133|R9 7f Mdn Claim|27784588|EvangD (US) 5th May| 10175250|           Cabildo|        LOSER|                   1|\n",
      "|           mcm| 1462502535129|1.124659133|R9 7f Mdn Claim|27784588|EvangD (US) 5th May| 10592064|      Point Secret|        LOSER|                   2|\n",
      "|           mcm| 1462502535129|1.124659133|R9 7f Mdn Claim|27784588|EvangD (US) 5th May|  9111702|       Lip Service|       WINNER|                   3|\n",
      "|           mcm| 1462502535129|1.124659133|R9 7f Mdn Claim|27784588|EvangD (US) 5th May| 10154653|         Warlander|        LOSER|                   4|\n",
      "|           mcm| 1462502535129|1.124659133|R9 7f Mdn Claim|27784588|EvangD (US) 5th May| 10059993|    Cowboy Classic|        LOSER|                   5|\n",
      "|           mcm| 1462502535129|1.124659133|R9 7f Mdn Claim|27784588|EvangD (US) 5th May| 10681528|    Dry Wood Creek|        LOSER|                   6|\n",
      "|           mcm| 1462502535129|1.124659133|R9 7f Mdn Claim|27784588|EvangD (US) 5th May| 10804072|              Eppy|        LOSER|                   7|\n",
      "|           mcm| 1462502535129|1.124659133|R9 7f Mdn Claim|27784588|EvangD (US) 5th May| 10882521|     Ball And Pins|        LOSER|                   8|\n",
      "|           mcm| 1462495994956|1.124659121|    R5 6f Claim|27784588|EvangD (US) 5th May| 10102626|       Philli Four|        LOSER|                   1|\n",
      "|           mcm| 1462495994956|1.124659121|    R5 6f Claim|27784588|EvangD (US) 5th May| 10134313|    Lydgate Affair|        LOSER|                   2|\n",
      "+--------------+--------------+-----------+---------------+--------+-------------------+---------+------------------+-------------+--------------------+\n",
      "only showing top 20 rows\n",
      "\n"
     ]
    },
    {
     "name": "stderr",
     "output_type": "stream",
     "text": [
      "                                                                                \r"
     ]
    }
   ],
   "source": [
    "runners.show()"
   ]
  },
  {
   "cell_type": "code",
   "execution_count": 31,
   "metadata": {},
   "outputs": [],
   "source": [
    "from pyspark.sql.functions import udf\n",
    "from pyspark.sql.types import BooleanType, StringType, DoubleType"
   ]
  },
  {
   "cell_type": "code",
   "execution_count": 32,
   "metadata": {},
   "outputs": [],
   "source": [
    "@udf(BooleanType())\n",
    "def is_fast(name):\n",
    "    if name is None:\n",
    "        return False\n",
    "    name = name.lower()\n",
    "    for s in fast_names:\n",
    "        if s in name:\n",
    "            return True\n",
    "    return False"
   ]
  },
  {
   "cell_type": "code",
   "execution_count": 33,
   "metadata": {},
   "outputs": [],
   "source": [
    "from pyspark.sql.functions import lit, col"
   ]
  },
  {
   "cell_type": "code",
   "execution_count": 34,
   "metadata": {},
   "outputs": [],
   "source": [
    "runners_fast = runners.withColumn('is_fast_horse',  is_fast(runners.runner_name))"
   ]
  },
  {
   "cell_type": "code",
   "execution_count": null,
   "metadata": {},
   "outputs": [],
   "source": []
  },
  {
   "cell_type": "code",
   "execution_count": 35,
   "metadata": {},
   "outputs": [],
   "source": [
    "#############################\n",
    "### aisling with bsp data\n",
    "runners_fast_wbsp = runners_wbsp.withColumn('is_fast_horse',  is_fast(runners_wbsp.runner_name)) "
   ]
  },
  {
   "cell_type": "code",
   "execution_count": 36,
   "metadata": {},
   "outputs": [],
   "source": [
    "### aisling with bsp data\n",
    "runners_fast_wbsp = runners_fast_wbsp.filter(runners_fast_wbsp.bsp.isNotNull())"
   ]
  },
  {
   "cell_type": "code",
   "execution_count": 37,
   "metadata": {},
   "outputs": [],
   "source": [
    "runners_fast_wbsp = runners_fast_wbsp.filter(runners_fast_wbsp.bsp!='None')"
   ]
  },
  {
   "cell_type": "code",
   "execution_count": 38,
   "metadata": {},
   "outputs": [],
   "source": [
    "runners_fast_wbsp = runners_fast_wbsp.filter(runners_fast_wbsp.bsp!='NaN')"
   ]
  },
  {
   "cell_type": "code",
   "execution_count": 39,
   "metadata": {},
   "outputs": [
    {
     "data": {
      "text/plain": [
       "[('operation_type', 'string'),\n",
       " ('published_time', 'bigint'),\n",
       " ('market_id', 'string'),\n",
       " ('market_name', 'string'),\n",
       " ('event_id', 'string'),\n",
       " ('event_name', 'string'),\n",
       " ('runner_id', 'int'),\n",
       " ('runner_name', 'string'),\n",
       " ('runner_status', 'string'),\n",
       " ('bsp', 'string'),\n",
       " ('runner_sort_priority', 'int'),\n",
       " ('is_fast_horse', 'boolean')]"
      ]
     },
     "execution_count": 39,
     "metadata": {},
     "output_type": "execute_result"
    }
   ],
   "source": [
    "runners_fast_wbsp.dtypes"
   ]
  },
  {
   "cell_type": "code",
   "execution_count": 40,
   "metadata": {},
   "outputs": [
    {
     "name": "stderr",
     "output_type": "stream",
     "text": [
      "[Stage 6:>                                                          (0 + 1) / 1]\r"
     ]
    },
    {
     "name": "stdout",
     "output_type": "stream",
     "text": [
      "+--------------+--------------+-----------+---------------+--------+-------------------+---------+------------------+-------------+------+--------------------+-------------+\n",
      "|operation_type|published_time|  market_id|    market_name|event_id|         event_name|runner_id|       runner_name|runner_status|   bsp|runner_sort_priority|is_fast_horse|\n",
      "+--------------+--------------+-----------+---------------+--------+-------------------+---------+------------------+-------------+------+--------------------+-------------+\n",
      "|           mcm| 1462501034557|1.124659130|     R8 1m Allw|27784588|EvangD (US) 5th May| 10575249|       Bitsys Half|        LOSER|  13.5|                   5|        false|\n",
      "|           mcm| 1462501034557|1.124659130|     R8 1m Allw|27784588|EvangD (US) 5th May| 10288198|         Blue Code|        LOSER|  32.0|                   6|        false|\n",
      "|           mcm| 1462501034557|1.124659130|     R8 1m Allw|27784588|EvangD (US) 5th May| 10116126|            Zartan|        LOSER| 57.95|                   7|        false|\n",
      "|           mcm| 1462501034557|1.124659130|     R8 1m Allw|27784588|EvangD (US) 5th May| 10221428|         Old Conch|        LOSER|223.91|                   8|        false|\n",
      "|           mcm| 1462501034557|1.124659130|     R8 1m Allw|27784588|EvangD (US) 5th May| 10150151|Rose Needs A Check|        LOSER| 15.34|                   9|        false|\n",
      "|           mcm| 1462501034557|1.124659130|     R8 1m Allw|27784588|EvangD (US) 5th May| 10237987|           Make Do|        LOSER|  10.5|                  10|        false|\n",
      "|           mcm| 1462501034557|1.124659130|     R8 1m Allw|27784588|EvangD (US) 5th May| 10674850|      Cajun Kitten|        LOSER|   4.0|                  11|        false|\n",
      "|           mcm| 1462501034557|1.124659130|     R8 1m Allw|27784588|EvangD (US) 5th May| 10550376|       Dr. Zipcity|       WINNER| 26.28|                  12|        false|\n",
      "|           mcm| 1462501034557|1.124659130|     R8 1m Allw|27784588|EvangD (US) 5th May| 10849769|     Goforthegreen|        LOSER|  21.0|                  13|        false|\n",
      "|           mcm| 1462501034557|1.124659130|     R8 1m Allw|27784588|EvangD (US) 5th May| 10762541|       Specialeyes|        LOSER|  2.31|                  14|        false|\n",
      "|           mcm| 1462502535129|1.124659133|R9 7f Mdn Claim|27784588|EvangD (US) 5th May| 10175250|           Cabildo|        LOSER| 83.46|                   1|        false|\n",
      "|           mcm| 1462502535129|1.124659133|R9 7f Mdn Claim|27784588|EvangD (US) 5th May| 10592064|      Point Secret|        LOSER|   5.6|                   2|        false|\n",
      "|           mcm| 1462502535129|1.124659133|R9 7f Mdn Claim|27784588|EvangD (US) 5th May|  9111702|       Lip Service|       WINNER|   4.0|                   3|        false|\n",
      "|           mcm| 1462502535129|1.124659133|R9 7f Mdn Claim|27784588|EvangD (US) 5th May| 10154653|         Warlander|        LOSER|   7.0|                   4|        false|\n",
      "|           mcm| 1462502535129|1.124659133|R9 7f Mdn Claim|27784588|EvangD (US) 5th May| 10059993|    Cowboy Classic|        LOSER| 12.07|                   5|        false|\n",
      "|           mcm| 1462502535129|1.124659133|R9 7f Mdn Claim|27784588|EvangD (US) 5th May| 10681528|    Dry Wood Creek|        LOSER|   4.4|                   6|        false|\n",
      "|           mcm| 1462502535129|1.124659133|R9 7f Mdn Claim|27784588|EvangD (US) 5th May| 10804072|              Eppy|        LOSER| 18.52|                   7|        false|\n",
      "|           mcm| 1462502535129|1.124659133|R9 7f Mdn Claim|27784588|EvangD (US) 5th May| 10882521|     Ball And Pins|        LOSER| 14.54|                   8|        false|\n",
      "|           mcm| 1462495994956|1.124659121|    R5 6f Claim|27784588|EvangD (US) 5th May| 10102626|       Philli Four|        LOSER| 14.99|                   1|        false|\n",
      "|           mcm| 1462495994956|1.124659121|    R5 6f Claim|27784588|EvangD (US) 5th May| 10134313|    Lydgate Affair|        LOSER| 38.42|                   2|        false|\n",
      "+--------------+--------------+-----------+---------------+--------+-------------------+---------+------------------+-------------+------+--------------------+-------------+\n",
      "only showing top 20 rows\n",
      "\n"
     ]
    },
    {
     "name": "stderr",
     "output_type": "stream",
     "text": [
      "                                                                                \r"
     ]
    }
   ],
   "source": [
    "runners_fast_wbsp.show()"
   ]
  },
  {
   "cell_type": "code",
   "execution_count": 41,
   "metadata": {},
   "outputs": [],
   "source": [
    "## turning bsp to integer type\n",
    "from pyspark.sql.types import IntegerType\n"
   ]
  },
  {
   "cell_type": "code",
   "execution_count": 42,
   "metadata": {},
   "outputs": [],
   "source": [
    "runners_fast_wbsp = runners_fast_wbsp.withColumn(\"bsp\", runners_fast_wbsp[\"bsp\"].cast(IntegerType()))"
   ]
  },
  {
   "cell_type": "code",
   "execution_count": 43,
   "metadata": {},
   "outputs": [
    {
     "data": {
      "text/plain": [
       "[('operation_type', 'string'),\n",
       " ('published_time', 'bigint'),\n",
       " ('market_id', 'string'),\n",
       " ('market_name', 'string'),\n",
       " ('event_id', 'string'),\n",
       " ('event_name', 'string'),\n",
       " ('runner_id', 'int'),\n",
       " ('runner_name', 'string'),\n",
       " ('runner_status', 'string'),\n",
       " ('bsp', 'int'),\n",
       " ('runner_sort_priority', 'int'),\n",
       " ('is_fast_horse', 'boolean')]"
      ]
     },
     "execution_count": 43,
     "metadata": {},
     "output_type": "execute_result"
    }
   ],
   "source": [
    "runners_fast_wbsp.dtypes"
   ]
  },
  {
   "cell_type": "code",
   "execution_count": 44,
   "metadata": {},
   "outputs": [],
   "source": [
    "#runners_fast_wbsp.count()"
   ]
  },
  {
   "cell_type": "code",
   "execution_count": 45,
   "metadata": {},
   "outputs": [],
   "source": [
    "#############################"
   ]
  },
  {
   "cell_type": "code",
   "execution_count": null,
   "metadata": {},
   "outputs": [],
   "source": []
  },
  {
   "cell_type": "code",
   "execution_count": 46,
   "metadata": {},
   "outputs": [
    {
     "data": {
      "text/plain": [
       "[('operation_type', 'string'),\n",
       " ('published_time', 'bigint'),\n",
       " ('market_id', 'string'),\n",
       " ('market_name', 'string'),\n",
       " ('event_id', 'string'),\n",
       " ('event_name', 'string'),\n",
       " ('runner_id', 'int'),\n",
       " ('runner_name', 'string'),\n",
       " ('runner_status', 'string'),\n",
       " ('runner_sort_priority', 'int'),\n",
       " ('is_fast_horse', 'boolean')]"
      ]
     },
     "execution_count": 46,
     "metadata": {},
     "output_type": "execute_result"
    }
   ],
   "source": [
    "runners_fast.dtypes"
   ]
  },
  {
   "cell_type": "code",
   "execution_count": 47,
   "metadata": {},
   "outputs": [
    {
     "name": "stderr",
     "output_type": "stream",
     "text": [
      "[Stage 7:>                                                          (0 + 1) / 1]\r"
     ]
    },
    {
     "name": "stdout",
     "output_type": "stream",
     "text": [
      "+--------------+--------------+-----------+---------------+--------+-------------------+---------+------------------+-------------+--------------------+-------------+\n",
      "|operation_type|published_time|  market_id|    market_name|event_id|         event_name|runner_id|       runner_name|runner_status|runner_sort_priority|is_fast_horse|\n",
      "+--------------+--------------+-----------+---------------+--------+-------------------+---------+------------------+-------------+--------------------+-------------+\n",
      "|           mcm| 1462501034557|1.124659130|     R8 1m Allw|27784588|EvangD (US) 5th May| 10575249|       Bitsys Half|        LOSER|                   5|        false|\n",
      "|           mcm| 1462501034557|1.124659130|     R8 1m Allw|27784588|EvangD (US) 5th May| 10288198|         Blue Code|        LOSER|                   6|        false|\n",
      "|           mcm| 1462501034557|1.124659130|     R8 1m Allw|27784588|EvangD (US) 5th May| 10116126|            Zartan|        LOSER|                   7|        false|\n",
      "|           mcm| 1462501034557|1.124659130|     R8 1m Allw|27784588|EvangD (US) 5th May| 10221428|         Old Conch|        LOSER|                   8|        false|\n",
      "|           mcm| 1462501034557|1.124659130|     R8 1m Allw|27784588|EvangD (US) 5th May| 10150151|Rose Needs A Check|        LOSER|                   9|        false|\n",
      "|           mcm| 1462501034557|1.124659130|     R8 1m Allw|27784588|EvangD (US) 5th May| 10237987|           Make Do|        LOSER|                  10|        false|\n",
      "|           mcm| 1462501034557|1.124659130|     R8 1m Allw|27784588|EvangD (US) 5th May| 10674850|      Cajun Kitten|        LOSER|                  11|        false|\n",
      "|           mcm| 1462501034557|1.124659130|     R8 1m Allw|27784588|EvangD (US) 5th May| 10550376|       Dr. Zipcity|       WINNER|                  12|        false|\n",
      "|           mcm| 1462501034557|1.124659130|     R8 1m Allw|27784588|EvangD (US) 5th May| 10849769|     Goforthegreen|        LOSER|                  13|        false|\n",
      "|           mcm| 1462501034557|1.124659130|     R8 1m Allw|27784588|EvangD (US) 5th May| 10762541|       Specialeyes|        LOSER|                  14|        false|\n",
      "|           mcm| 1462502535129|1.124659133|R9 7f Mdn Claim|27784588|EvangD (US) 5th May| 10175250|           Cabildo|        LOSER|                   1|        false|\n",
      "|           mcm| 1462502535129|1.124659133|R9 7f Mdn Claim|27784588|EvangD (US) 5th May| 10592064|      Point Secret|        LOSER|                   2|        false|\n",
      "|           mcm| 1462502535129|1.124659133|R9 7f Mdn Claim|27784588|EvangD (US) 5th May|  9111702|       Lip Service|       WINNER|                   3|        false|\n",
      "|           mcm| 1462502535129|1.124659133|R9 7f Mdn Claim|27784588|EvangD (US) 5th May| 10154653|         Warlander|        LOSER|                   4|        false|\n",
      "|           mcm| 1462502535129|1.124659133|R9 7f Mdn Claim|27784588|EvangD (US) 5th May| 10059993|    Cowboy Classic|        LOSER|                   5|        false|\n",
      "|           mcm| 1462502535129|1.124659133|R9 7f Mdn Claim|27784588|EvangD (US) 5th May| 10681528|    Dry Wood Creek|        LOSER|                   6|        false|\n",
      "|           mcm| 1462502535129|1.124659133|R9 7f Mdn Claim|27784588|EvangD (US) 5th May| 10804072|              Eppy|        LOSER|                   7|        false|\n",
      "|           mcm| 1462502535129|1.124659133|R9 7f Mdn Claim|27784588|EvangD (US) 5th May| 10882521|     Ball And Pins|        LOSER|                   8|        false|\n",
      "|           mcm| 1462495994956|1.124659121|    R5 6f Claim|27784588|EvangD (US) 5th May| 10102626|       Philli Four|        LOSER|                   1|        false|\n",
      "|           mcm| 1462495994956|1.124659121|    R5 6f Claim|27784588|EvangD (US) 5th May| 10134313|    Lydgate Affair|        LOSER|                   2|        false|\n",
      "+--------------+--------------+-----------+---------------+--------+-------------------+---------+------------------+-------------+--------------------+-------------+\n",
      "only showing top 20 rows\n",
      "\n"
     ]
    },
    {
     "name": "stderr",
     "output_type": "stream",
     "text": [
      "                                                                                \r"
     ]
    }
   ],
   "source": [
    "runners_fast.show()"
   ]
  },
  {
   "cell_type": "code",
   "execution_count": 48,
   "metadata": {},
   "outputs": [],
   "source": [
    "runners_fast_only = runners_fast"
   ]
  },
  {
   "cell_type": "code",
   "execution_count": 49,
   "metadata": {},
   "outputs": [],
   "source": [
    "runners_fast_only = runners_fast.filter(runners_fast.is_fast_horse=='true')"
   ]
  },
  {
   "cell_type": "code",
   "execution_count": 50,
   "metadata": {},
   "outputs": [
    {
     "name": "stderr",
     "output_type": "stream",
     "text": [
      "[Stage 8:>                                                          (0 + 1) / 1]\r"
     ]
    },
    {
     "name": "stdout",
     "output_type": "stream",
     "text": [
      "+--------------+--------------+-----------+---------------+--------+-------------------+---------+------------------+-------------+--------------------+-------------+\n",
      "|operation_type|published_time|  market_id|    market_name|event_id|         event_name|runner_id|       runner_name|runner_status|runner_sort_priority|is_fast_horse|\n",
      "+--------------+--------------+-----------+---------------+--------+-------------------+---------+------------------+-------------+--------------------+-------------+\n",
      "|           mcm| 1462495994956|1.124659121|    R5 6f Claim|27784588|EvangD (US) 5th May| 10116132|      Als Wild Cat|        LOSER|                   3|         true|\n",
      "|           mcm| 1462492394718|1.124659115|R3 5f Mdn Claim|27784588|EvangD (US) 5th May| 11133644|       Smart Heath|        LOSER|                   4|         true|\n",
      "|           mcm| 1462494555563|1.124659118|    R4 7f Claim|27784588|EvangD (US) 5th May| 10059691|Run Mardi Gras Run|        LOSER|                   2|         true|\n",
      "|           mcm| 1462494555563|1.124659118|    R4 7f Claim|27784588|EvangD (US) 5th May| 10846299|      Wild Mimosas|        LOSER|                   3|         true|\n",
      "|           mcm| 1462494555563|1.124659118|    R4 7f Claim|27784588|EvangD (US) 5th May| 10150152|     Wildlee Funny|        LOSER|                  11|         true|\n",
      "|           mcm| 1462495994956|1.124659121|    R5 6f Claim|27784588|EvangD (US) 5th May| 10116132|      Als Wild Cat|        LOSER|                   3|         true|\n",
      "|           mcm| 1462497869255|1.124659124|    R6 1m Claim|27784588|EvangD (US) 5th May| 10679436| Silver Rocket Man|        LOSER|                   6|         true|\n",
      "|           mcm| 1462497869255|1.124659124|    R6 1m Claim|27784588|EvangD (US) 5th May|  9991336| Boogiehill Hustle|        LOSER|                   7|         true|\n",
      "|           mcm| 1462499295163|1.124659127|    R7 6f Claim|27784588|EvangD (US) 5th May|  6236917|    Fleeting Image|        LOSER|                   4|         true|\n",
      "|           mcm| 1462492394718|1.124659115|R3 5f Mdn Claim|27784588|EvangD (US) 5th May| 11133644|       Smart Heath|        LOSER|                   4|         true|\n",
      "|           mcm| 1462494555563|1.124659118|    R4 7f Claim|27784588|EvangD (US) 5th May| 10059691|Run Mardi Gras Run|        LOSER|                   2|         true|\n",
      "|           mcm| 1462494555563|1.124659118|    R4 7f Claim|27784588|EvangD (US) 5th May| 10846299|      Wild Mimosas|        LOSER|                   3|         true|\n",
      "|           mcm| 1462494555563|1.124659118|    R4 7f Claim|27784588|EvangD (US) 5th May| 10150152|     Wildlee Funny|        LOSER|                  11|         true|\n",
      "|           mcm| 1462499295163|1.124659127|    R7 6f Claim|27784588|EvangD (US) 5th May|  6236917|    Fleeting Image|        LOSER|                   4|         true|\n",
      "|           mcm| 1462497869255|1.124659124|    R6 1m Claim|27784588|EvangD (US) 5th May| 10679436| Silver Rocket Man|        LOSER|                   6|         true|\n",
      "|           mcm| 1462497869255|1.124659124|    R6 1m Claim|27784588|EvangD (US) 5th May|  9991336| Boogiehill Hustle|        LOSER|                   7|         true|\n",
      "|           mcm| 1462539733136|1.124664265|   2m4f Nov Hrd|27785230|      MrktR 6th May|  8977684| Lettheriverrundry|        LOSER|                   2|         true|\n",
      "|           mcm| 1462539733136|1.124664265|   2m4f Nov Hrd|27785230|      MrktR 6th May|  8079324|          Rushvale|        LOSER|                   6|         true|\n",
      "|           mcm| 1462551124888|1.124664295|         2m NHF|27785230|      MrktR 6th May| 11137663|     Saint Cajetan|        LOSER|                   4|         true|\n",
      "|           mcm| 1462539733136|1.124664265|   2m4f Nov Hrd|27785230|      MrktR 6th May|  8977684| Lettheriverrundry|        LOSER|                   2|         true|\n",
      "+--------------+--------------+-----------+---------------+--------+-------------------+---------+------------------+-------------+--------------------+-------------+\n",
      "only showing top 20 rows\n",
      "\n"
     ]
    },
    {
     "name": "stderr",
     "output_type": "stream",
     "text": [
      "                                                                                \r"
     ]
    }
   ],
   "source": [
    "runners_fast_only.show()"
   ]
  },
  {
   "cell_type": "code",
   "execution_count": 51,
   "metadata": {},
   "outputs": [],
   "source": [
    "runners_fast_only_win = runners_fast_only.filter(runners_fast_only.runner_status=='WINNER')"
   ]
  },
  {
   "cell_type": "code",
   "execution_count": 52,
   "metadata": {},
   "outputs": [
    {
     "name": "stderr",
     "output_type": "stream",
     "text": [
      "[Stage 10:===========================================>              (3 + 1) / 4]\r"
     ]
    },
    {
     "name": "stdout",
     "output_type": "stream",
     "text": [
      "+--------------+--------------+-----------+------------------+--------+--------------------+---------+----------------+-------------+--------------------+-------------+\n",
      "|operation_type|published_time|  market_id|       market_name|event_id|          event_name|runner_id|     runner_name|runner_status|runner_sort_priority|is_fast_horse|\n",
      "+--------------+--------------+-----------+------------------+--------+--------------------+---------+----------------+-------------+--------------------+-------------+\n",
      "|           mcm| 1462549406066|1.124660844|           7f Hcap|27785040|        Ling 6th May|  4776418|       Space War|       WINNER|                   5|         true|\n",
      "|           mcm| 1462549406066|1.124660844|           7f Hcap|27785040|        Ling 6th May|  4776418|       Space War|       WINNER|                   5|         true|\n",
      "|           mcm| 1462487628442|1.124659140|       R2 1m Claim|27784591|   Penn (US) 5th May|  9979505|Wild Imagination|       WINNER|                   2|         true|\n",
      "|           mcm| 1462492820738|1.124659149|  R5 6f Allw Claim|27784591|   Penn (US) 5th May| 10367036|      Chief Lion|       WINNER|                   6|         true|\n",
      "|           mcm| 1462492820738|1.124659149|  R5 6f Allw Claim|27784591|   Penn (US) 5th May| 10367036|      Chief Lion|       WINNER|                   6|         true|\n",
      "|           mcm| 1462487628442|1.124659140|       R2 1m Claim|27784591|   Penn (US) 5th May|  9979505|Wild Imagination|       WINNER|                   2|         true|\n",
      "|           mcm| 1462566534735|1.124689833|         R7 7f Mdn|27786142|  Woodb (US) 6th May| 10398259|     Rocket Plan|       WINNER|                   2|         true|\n",
      "|           mcm| 1462568461762|1.124689836|R8 1m1f Allw Claim|27786142|  Woodb (US) 6th May|  9993030|        Hot Kiss|       WINNER|                   7|         true|\n",
      "|           mcm| 1462566534735|1.124689833|         R7 7f Mdn|27786142|  Woodb (US) 6th May| 10398259|     Rocket Plan|       WINNER|                   2|         true|\n",
      "|           mcm| 1462568461762|1.124689836|R8 1m1f Allw Claim|27786142|  Woodb (US) 6th May|  9993030|        Hot Kiss|       WINNER|                   7|         true|\n",
      "|           mcm| 1462541867200|1.124654246| 1600m 4yo+ Listed|27784315| Chant (FRA) 6th May|  9382369|       2. Sayana|       WINNER|                   7|         true|\n",
      "|           mcm| 1462541867200|1.124654246| 1600m 4yo+ Listed|27784315| Chant (FRA) 6th May|  9382369|       2. Sayana|       WINNER|                   7|         true|\n",
      "|           mcm| 1462544323081|1.124649425|         1m5f Grp3|27783894|       Chest 6th May|  8787781|       Dartmouth|       WINNER|                   3|         true|\n",
      "|           mcm| 1462544323081|1.124649425|         1m5f Grp3|27783894|       Chest 6th May|  8787781|       Dartmouth|       WINNER|                   3|         true|\n",
      "|           mcm| 1462653595524|1.124714894|       R2 6f Claim|27787686|Emerald (US) 7th May| 10097089|    Sophie Dopey|       WINNER|                   3|         true|\n",
      "|           mcm| 1462653595524|1.124714894|       R2 6f Claim|27787686|Emerald (US) 7th May| 10097089|    Sophie Dopey|       WINNER|                   3|         true|\n",
      "|           mcm| 1462672355616|1.124715150|       R7 1m Claim|27787689| EvangD (US) 7th May| 10116145| Moment Of Grace|       WINNER|                   8|         true|\n",
      "|           mcm| 1462672355616|1.124715150|       R7 1m Claim|27787689| EvangD (US) 7th May| 10116145| Moment Of Grace|       WINNER|                   8|         true|\n",
      "|           mcm| 1462715272795|1.124735343| 1600m 4yo+ Listed|27788515|   Col (GER) 8th May| 11149698|     8. Wildpark|       WINNER|                   3|         true|\n",
      "|           mcm| 1462715272795|1.124735343| 1600m 4yo+ Listed|27788515|   Col (GER) 8th May| 11149698|     8. Wildpark|       WINNER|                   3|         true|\n",
      "+--------------+--------------+-----------+------------------+--------+--------------------+---------+----------------+-------------+--------------------+-------------+\n",
      "only showing top 20 rows\n",
      "\n"
     ]
    },
    {
     "name": "stderr",
     "output_type": "stream",
     "text": [
      "                                                                                \r"
     ]
    }
   ],
   "source": [
    "runners_fast_only_win.show()"
   ]
  },
  {
   "cell_type": "code",
   "execution_count": null,
   "metadata": {},
   "outputs": [],
   "source": []
  },
  {
   "cell_type": "code",
   "execution_count": null,
   "metadata": {},
   "outputs": [],
   "source": []
  },
  {
   "cell_type": "code",
   "execution_count": null,
   "metadata": {},
   "outputs": [],
   "source": []
  },
  {
   "cell_type": "code",
   "execution_count": 53,
   "metadata": {},
   "outputs": [],
   "source": [
    "###########################"
   ]
  },
  {
   "cell_type": "code",
   "execution_count": 54,
   "metadata": {},
   "outputs": [],
   "source": [
    "runners_fast_wbsp_sample = runners_fast_wbsp.limit(1000)"
   ]
  },
  {
   "cell_type": "code",
   "execution_count": 55,
   "metadata": {},
   "outputs": [
    {
     "name": "stderr",
     "output_type": "stream",
     "text": [
      "[Stage 11:=====================================================>(113 + 1) / 114]\r"
     ]
    },
    {
     "name": "stdout",
     "output_type": "stream",
     "text": [
      "+--------------+--------------+-----------+-------------+--------+-------------+---------+------------------+-------------+---+--------------------+-------------+\n",
      "|operation_type|published_time|  market_id|  market_name|event_id|   event_name|runner_id|       runner_name|runner_status|bsp|runner_sort_priority|is_fast_horse|\n",
      "+--------------+--------------+-----------+-------------+--------+-------------+---------+------------------+-------------+---+--------------------+-------------+\n",
      "|           mcm| 1462555329364|1.124663535|  1m Mdn Stks|27785190| Nott 6th May| 10412311|         Snow Moon|       WINNER|  2|                   2|        false|\n",
      "|           mcm| 1462555329364|1.124663535|  1m Mdn Stks|27785190| Nott 6th May| 10463899|            Quebee|        LOSER| 11|                   3|        false|\n",
      "|           mcm| 1462555329364|1.124663535|  1m Mdn Stks|27785190| Nott 6th May| 10322412|           Nicarra|        LOSER| 37|                   4|        false|\n",
      "|           mcm| 1462555329364|1.124663535|  1m Mdn Stks|27785190| Nott 6th May| 10626199|       Pietrafiore|        LOSER|  7|                   5|        false|\n",
      "|           mcm| 1462555329364|1.124663535|  1m Mdn Stks|27785190| Nott 6th May| 11131823|      Beauty Sleep|        LOSER| 52|                   6|        false|\n",
      "|           mcm| 1462555329364|1.124663535|  1m Mdn Stks|27785190| Nott 6th May|   237174|      Cosmic Storm|        LOSER|  5|                   7|        false|\n",
      "|           mcm| 1462555329364|1.124663535|  1m Mdn Stks|27785190| Nott 6th May| 11131826|           Jantina|        LOSER| 24|                   8|        false|\n",
      "|           mcm| 1462555329364|1.124663535|  1m Mdn Stks|27785190| Nott 6th May| 11131829|        Queen Elsa|        LOSER|130|                   9|        false|\n",
      "|           mcm| 1462555329364|1.124663535|  1m Mdn Stks|27785190| Nott 6th May| 11069623|         Rock Palm|        LOSER|149|                  10|        false|\n",
      "|           mcm| 1462555329364|1.124663535|  1m Mdn Stks|27785190| Nott 6th May| 11131830|          Trainnah|        LOSER| 24|                  11|        false|\n",
      "|           mcm| 1462555329364|1.124663535|  1m Mdn Stks|27785190| Nott 6th May| 11131824|       Brief Visit|        LOSER|108|                  12|        false|\n",
      "|           mcm| 1462555329364|1.124663535|  1m Mdn Stks|27785190| Nott 6th May| 11131822|       Apache Myth|        LOSER| 84|                  13|         true|\n",
      "|           mcm| 1462555329364|1.124663535|  1m Mdn Stks|27785190| Nott 6th May| 11131803|        Zain Arion|        LOSER|409|                  14|        false|\n",
      "|           mcm| 1462555329364|1.124663535|  1m Mdn Stks|27785190| Nott 6th May| 11027939|        Cliff Face|        LOSER|354|                  15|        false|\n",
      "|           mcm| 1462555329364|1.124663535|  1m Mdn Stks|27785190| Nott 6th May| 11131828|      Purple Party|        LOSER|450|                  16|        false|\n",
      "|           mcm| 1462555329364|1.124663535|  1m Mdn Stks|27785190| Nott 6th May| 11131825|          Fire Jet|        LOSER|379|                  17|         true|\n",
      "|           mcm| 1462559469355|1.124663545|      1m Hcap|27785190| Nott 6th May| 10192514|           Shufoog|        LOSER|  2|                   3|        false|\n",
      "|           mcm| 1462559469355|1.124663545|      1m Hcap|27785190| Nott 6th May| 10465332|             Kilim|        LOSER| 10|                   4|        false|\n",
      "|           mcm| 1462559469355|1.124663545|      1m Hcap|27785190| Nott 6th May|   753018|     Perfect Quest|        LOSER|  6|                   5|        false|\n",
      "|           mcm| 1462559469355|1.124663545|      1m Hcap|27785190| Nott 6th May| 10408343|       Little Avon|       WINNER|  3|                   6|        false|\n",
      "|           mcm| 1462559469355|1.124663545|      1m Hcap|27785190| Nott 6th May| 10635175|   Wings of Esteem|        LOSER|  8|                   7|         true|\n",
      "|           mcm| 1462559469355|1.124663545|      1m Hcap|27785190| Nott 6th May| 10137017|         Bad Penny|        LOSER| 44|                   8|        false|\n",
      "|           mcm| 1462562091711|1.124664389|2m7f Hunt Chs|27785239|DownP 6th May| 11098595|       Kilna Shane|        LOSER|  5|                   1|        false|\n",
      "|           mcm| 1462562091711|1.124664389|2m7f Hunt Chs|27785239|DownP 6th May|  6130659|    Likeable Rogue|        LOSER|  8|                   2|        false|\n",
      "|           mcm| 1462562091711|1.124664389|2m7f Hunt Chs|27785239|DownP 6th May| 11137659|       Larry Capri|        LOSER|  9|                   3|        false|\n",
      "|           mcm| 1462562091711|1.124664389|2m7f Hunt Chs|27785239|DownP 6th May|  8392976|       Shake It Up|       WINNER|  3|                   4|        false|\n",
      "|           mcm| 1462562091711|1.124664389|2m7f Hunt Chs|27785239|DownP 6th May| 11118080|      St Killenagh|        LOSER| 14|                   5|        false|\n",
      "|           mcm| 1462562091711|1.124664389|2m7f Hunt Chs|27785239|DownP 6th May|  7142731|        Miss Coley|        LOSER| 26|                   6|        false|\n",
      "|           mcm| 1462562091711|1.124664389|2m7f Hunt Chs|27785239|DownP 6th May|    52398|       Cousin Bill|        LOSER| 11|                   7|        false|\n",
      "|           mcm| 1462562091711|1.124664389|2m7f Hunt Chs|27785239|DownP 6th May| 11137658|    Im An Izz Wizz|        LOSER| 38|                   8|        false|\n",
      "|           mcm| 1462562091711|1.124664389|2m7f Hunt Chs|27785239|DownP 6th May|  6773871|     Chief Admiral|        LOSER| 29|                   9|         true|\n",
      "|           mcm| 1462552249707|1.124664364| 2m2f Mdn Hrd|27785239|DownP 6th May| 10757849|      Henry Howard|        LOSER|  1|                   1|        false|\n",
      "|           mcm| 1462552249707|1.124664364| 2m2f Mdn Hrd|27785239|DownP 6th May|  8587854|          Tsundoku|       WINNER|  5|                   2|        false|\n",
      "|           mcm| 1462552249707|1.124664364| 2m2f Mdn Hrd|27785239|DownP 6th May|  7903900|          Carnduff|        LOSER|  9|                   3|        false|\n",
      "|           mcm| 1462552249707|1.124664364| 2m2f Mdn Hrd|27785239|DownP 6th May|  9517698|   Twilight Shadow|        LOSER| 15|                   4|        false|\n",
      "|           mcm| 1462552249707|1.124664364| 2m2f Mdn Hrd|27785239|DownP 6th May|    29792|Executive Decision|        LOSER| 71|                   5|        false|\n",
      "|           mcm| 1462552249707|1.124664364| 2m2f Mdn Hrd|27785239|DownP 6th May| 11118078|     Master Philip|        LOSER|460|                   6|        false|\n",
      "|           mcm| 1462552249707|1.124664364| 2m2f Mdn Hrd|27785239|DownP 6th May|  8312266|          Tom Mann|        LOSER| 45|                   7|        false|\n",
      "|           mcm| 1462552249707|1.124664364| 2m2f Mdn Hrd|27785239|DownP 6th May|  9318800|   Rorys Valentine|        LOSER| 86|                   8|        false|\n",
      "|           mcm| 1462563830828|1.124664394|    2m2f INHF|27785239|DownP 6th May|  9122231|       Bertie Bell|       WINNER|  4|                   2|        false|\n",
      "|           mcm| 1462563830828|1.124664394|    2m2f INHF|27785239|DownP 6th May|  8064558|     Leopards Leap|        LOSER|  3|                   3|        false|\n",
      "|           mcm| 1462563830828|1.124664394|    2m2f INHF|27785239|DownP 6th May| 10452324|         River Dun|        LOSER| 13|                   4|        false|\n",
      "|           mcm| 1462563830828|1.124664394|    2m2f INHF|27785239|DownP 6th May| 10472256|   The Storyteller|        LOSER|  3|                   5|        false|\n",
      "|           mcm| 1462563830828|1.124664394|    2m2f INHF|27785239|DownP 6th May| 11137661|     Grand Mariner|        LOSER| 78|                   6|        false|\n",
      "|           mcm| 1462563830828|1.124664394|    2m2f INHF|27785239|DownP 6th May|  9375194| Allduckornodinner|        LOSER| 27|                   7|        false|\n",
      "|           mcm| 1462563830828|1.124664394|    2m2f INHF|27785239|DownP 6th May| 11137660|             Beeno|        LOSER| 49|                   8|        false|\n",
      "|           mcm| 1462554172526|1.124664369|2m2f Hcap Hrd|27785239|DownP 6th May|  6135126|      Annie Alainn|        LOSER|  4|                   1|        false|\n",
      "|           mcm| 1462554172526|1.124664369|2m2f Hcap Hrd|27785239|DownP 6th May|  9389275|    More Than Ever|        LOSER|  4|                   2|        false|\n",
      "|           mcm| 1462554172526|1.124664369|2m2f Hcap Hrd|27785239|DownP 6th May|  6579588|  Personal Shopper|        LOSER| 21|                   3|        false|\n",
      "|           mcm| 1462554172526|1.124664369|2m2f Hcap Hrd|27785239|DownP 6th May|  9444550|     One Can Cally|        LOSER|  8|                   4|        false|\n",
      "|           mcm| 1462554172526|1.124664369|2m2f Hcap Hrd|27785239|DownP 6th May|  8957644|      Verona Opera|        LOSER| 16|                   5|        false|\n",
      "|           mcm| 1462554172526|1.124664369|2m2f Hcap Hrd|27785239|DownP 6th May|  8455215|  Bell of The Ball|        LOSER| 22|                   6|        false|\n",
      "|           mcm| 1462554172526|1.124664369|2m2f Hcap Hrd|27785239|DownP 6th May|  8829187|        Vocal Heir|        LOSER| 34|                   7|        false|\n",
      "|           mcm| 1462554172526|1.124664369|2m2f Hcap Hrd|27785239|DownP 6th May|  7615232|   Mystic Princess|       WINNER|  8|                   8|        false|\n",
      "|           mcm| 1462554172526|1.124664369|2m2f Hcap Hrd|27785239|DownP 6th May|  8339599|     Havana Dancer|        LOSER|  9|                   9|        false|\n",
      "|           mcm| 1462552249707|1.124664364| 2m2f Mdn Hrd|27785239|DownP 6th May| 10757849|      Henry Howard|        LOSER|  1|                   1|        false|\n",
      "|           mcm| 1462552249707|1.124664364| 2m2f Mdn Hrd|27785239|DownP 6th May|  8587854|          Tsundoku|       WINNER|  5|                   2|        false|\n",
      "|           mcm| 1462552249707|1.124664364| 2m2f Mdn Hrd|27785239|DownP 6th May|  7903900|          Carnduff|        LOSER|  9|                   3|        false|\n",
      "|           mcm| 1462552249707|1.124664364| 2m2f Mdn Hrd|27785239|DownP 6th May|  9517698|   Twilight Shadow|        LOSER| 15|                   4|        false|\n",
      "|           mcm| 1462552249707|1.124664364| 2m2f Mdn Hrd|27785239|DownP 6th May|    29792|Executive Decision|        LOSER| 71|                   5|        false|\n",
      "|           mcm| 1462552249707|1.124664364| 2m2f Mdn Hrd|27785239|DownP 6th May| 11118078|     Master Philip|        LOSER|460|                   6|        false|\n",
      "|           mcm| 1462552249707|1.124664364| 2m2f Mdn Hrd|27785239|DownP 6th May|  8312266|          Tom Mann|        LOSER| 45|                   7|        false|\n",
      "|           mcm| 1462552249707|1.124664364| 2m2f Mdn Hrd|27785239|DownP 6th May|  9318800|   Rorys Valentine|        LOSER| 86|                   8|        false|\n",
      "|           mcm| 1462554172526|1.124664369|2m2f Hcap Hrd|27785239|DownP 6th May|  6135126|      Annie Alainn|        LOSER|  4|                   1|        false|\n",
      "|           mcm| 1462554172526|1.124664369|2m2f Hcap Hrd|27785239|DownP 6th May|  9389275|    More Than Ever|        LOSER|  4|                   2|        false|\n",
      "|           mcm| 1462554172526|1.124664369|2m2f Hcap Hrd|27785239|DownP 6th May|  6579588|  Personal Shopper|        LOSER| 21|                   3|        false|\n",
      "|           mcm| 1462554172526|1.124664369|2m2f Hcap Hrd|27785239|DownP 6th May|  9444550|     One Can Cally|        LOSER|  8|                   4|        false|\n",
      "|           mcm| 1462554172526|1.124664369|2m2f Hcap Hrd|27785239|DownP 6th May|  8957644|      Verona Opera|        LOSER| 16|                   5|        false|\n",
      "|           mcm| 1462554172526|1.124664369|2m2f Hcap Hrd|27785239|DownP 6th May|  8455215|  Bell of The Ball|        LOSER| 22|                   6|        false|\n",
      "|           mcm| 1462554172526|1.124664369|2m2f Hcap Hrd|27785239|DownP 6th May|  8829187|        Vocal Heir|        LOSER| 34|                   7|        false|\n",
      "|           mcm| 1462554172526|1.124664369|2m2f Hcap Hrd|27785239|DownP 6th May|  7615232|   Mystic Princess|       WINNER|  8|                   8|        false|\n",
      "|           mcm| 1462554172526|1.124664369|2m2f Hcap Hrd|27785239|DownP 6th May|  8339599|     Havana Dancer|        LOSER|  9|                   9|        false|\n",
      "|           mcm| 1462556032236|1.124664374|2m5f Hcap Hrd|27785239|DownP 6th May|  9098024|              Theo|        LOSER|  5|                   4|        false|\n",
      "|           mcm| 1462556032236|1.124664374|2m5f Hcap Hrd|27785239|DownP 6th May|  8176593|Laird of Monksford|        LOSER| 17|                   5|        false|\n",
      "|           mcm| 1462556032236|1.124664374|2m5f Hcap Hrd|27785239|DownP 6th May|  8397403|       Maighnealta|        LOSER|  5|                   6|        false|\n",
      "|           mcm| 1462556032236|1.124664374|2m5f Hcap Hrd|27785239|DownP 6th May|  8227366|Just Likeold Times|        LOSER|  8|                   7|        false|\n",
      "|           mcm| 1462556032236|1.124664374|2m5f Hcap Hrd|27785239|DownP 6th May|  6236183|    Star Of Angels|        LOSER| 12|                   8|        false|\n",
      "|           mcm| 1462556032236|1.124664374|2m5f Hcap Hrd|27785239|DownP 6th May|  8929334|         Overtures|        LOSER| 11|                   9|        false|\n",
      "|           mcm| 1462556032236|1.124664374|2m5f Hcap Hrd|27785239|DownP 6th May|  9448028|        Boris Boru|        LOSER| 25|                  10|        false|\n",
      "|           mcm| 1462556032236|1.124664374|2m5f Hcap Hrd|27785239|DownP 6th May|  7170226|     Western Goose|        LOSER| 21|                  11|        false|\n",
      "|           mcm| 1462556032236|1.124664374|2m5f Hcap Hrd|27785239|DownP 6th May|    67004|           Vincent|        LOSER| 10|                  12|        false|\n",
      "|           mcm| 1462556032236|1.124664374|2m5f Hcap Hrd|27785239|DownP 6th May|  8421832|     Sixteen Again|        LOSER| 59|                  13|        false|\n",
      "|           mcm| 1462556032236|1.124664374|2m5f Hcap Hrd|27785239|DownP 6th May|  7569910|        Gold Class|        LOSER| 28|                  14|        false|\n",
      "|           mcm| 1462556032236|1.124664374|2m5f Hcap Hrd|27785239|DownP 6th May|  6936085|   News For Pascal|        LOSER|110|                  15|        false|\n",
      "|           mcm| 1462556032236|1.124664374|2m5f Hcap Hrd|27785239|DownP 6th May|  8762146|   Whispering Hope|        LOSER| 45|                  16|        false|\n",
      "|           mcm| 1462556032236|1.124664374|2m5f Hcap Hrd|27785239|DownP 6th May|  6507742|       Nevada Rose|        LOSER|138|                  17|        false|\n",
      "|           mcm| 1462556032236|1.124664374|2m5f Hcap Hrd|27785239|DownP 6th May| 10524018|    Tellthemnuttin|       WINNER| 25|                  18|        false|\n",
      "|           mcm| 1462558072379|1.124664379| 2m5f Mdn Hrd|27785239|DownP 6th May| 10571007|     Steels Cotton|        LOSER|  2|                   3|        false|\n",
      "|           mcm| 1462558072379|1.124664379| 2m5f Mdn Hrd|27785239|DownP 6th May|  9098019|     Coolfore Jack|        LOSER|  3|                   4|        false|\n",
      "|           mcm| 1462558072379|1.124664379| 2m5f Mdn Hrd|27785239|DownP 6th May|  8765243|       Sarah Joyce|        LOSER| 12|                   5|        false|\n",
      "|           mcm| 1462558072379|1.124664379| 2m5f Mdn Hrd|27785239|DownP 6th May| 10369952|  Faraway Mountain|        LOSER| 21|                   6|        false|\n",
      "|           mcm| 1462558072379|1.124664379| 2m5f Mdn Hrd|27785239|DownP 6th May| 10524023| Rise of An Empire|       WINNER|  6|                   7|        false|\n",
      "|           mcm| 1462558072379|1.124664379| 2m5f Mdn Hrd|27785239|DownP 6th May| 10619600|      Kildoon Trix|        LOSER| 21|                   8|        false|\n",
      "|           mcm| 1462558072379|1.124664379| 2m5f Mdn Hrd|27785239|DownP 6th May| 10385587| Corskeagh Express|        LOSER| 21|                   9|         true|\n",
      "|           mcm| 1462558072379|1.124664379| 2m5f Mdn Hrd|27785239|DownP 6th May| 10472255|         Isle Road|        LOSER|234|                  10|        false|\n",
      "|           mcm| 1462558072379|1.124664379| 2m5f Mdn Hrd|27785239|DownP 6th May| 11002495| Mountmellick Girl|        LOSER|280|                  11|         true|\n",
      "|           mcm| 1462560292503|1.124664384|2m7f Hcap Chs|27785239|DownP 6th May|  8163015| One Cool Clarkson|        LOSER| 13|                   1|        false|\n",
      "|           mcm| 1462560292503|1.124664384|2m7f Hcap Chs|27785239|DownP 6th May|  3918381|  West Ship Master|        LOSER| 13|                   2|        false|\n",
      "|           mcm| 1462560292503|1.124664384|2m7f Hcap Chs|27785239|DownP 6th May|  5987316|           Redclue|       WINNER|  2|                   3|        false|\n",
      "|           mcm| 1462560292503|1.124664384|2m7f Hcap Chs|27785239|DownP 6th May|  6933881|         Town Pond|        LOSER| 12|                   4|        false|\n",
      "+--------------+--------------+-----------+-------------+--------+-------------+---------+------------------+-------------+---+--------------------+-------------+\n",
      "only showing top 100 rows\n",
      "\n"
     ]
    },
    {
     "name": "stderr",
     "output_type": "stream",
     "text": [
      "                                                                                \r"
     ]
    }
   ],
   "source": [
    "runners_fast_wbsp_sample.show(100)"
   ]
  },
  {
   "cell_type": "markdown",
   "metadata": {},
   "source": [
    "from pyspark.ml.feature import OneHotEncoderEstimator, StringIndexer, VectorAssembler\n",
    "categoricalColumns = ['job', 'marital', 'education', 'default', 'housing', 'loan', 'contact', 'poutcome']\n",
    "stages = []\n",
    "for categoricalCol in categoricalColumns:\n",
    "    stringIndexer = StringIndexer(inputCol = categoricalCol, outputCol = categoricalCol + 'Index')\n",
    "    encoder = OneHotEncoderEstimator(inputCols=[stringIndexer.getOutputCol()], outputCols=[categoricalCol + \"classVec\"])\n",
    "    stages += [stringIndexer, encoder]\n",
    "label_stringIdx = StringIndexer(inputCol = 'deposit', outputCol = 'label')\n",
    "stages += [label_stringIdx]\n",
    "numericCols = ['age', 'balance', 'duration', 'campaign', 'pdays', 'previous']\n",
    "assemblerInputs = [c + \"classVec\" for c in categoricalColumns] + numericCols\n",
    "assembler = VectorAssembler(inputCols=assemblerInputs, outputCol=\"features\")\n",
    "stages += [assembler]"
   ]
  },
  {
   "cell_type": "markdown",
   "metadata": {},
   "source": [
    "[('operation_type', 'string'),\n",
    " ('published_time', 'bigint'),\n",
    " ('market_id', 'string'),\n",
    " ('market_name', 'string'),\n",
    " ('event_id', 'string'),\n",
    " ('event_name', 'string'),\n",
    " ('runner_id', 'int'),\n",
    " ('runner_name', 'string'),\n",
    " ('runner_status', 'string'),\n",
    " ('runner_sort_priority', 'int'),\n",
    " ('is_fast_horse', 'boolean')]"
   ]
  },
  {
   "cell_type": "code",
   "execution_count": 56,
   "metadata": {},
   "outputs": [],
   "source": [
    "columns_to_drop = ['operation_type', 'published_time', 'market_id', 'market_name', 'event_id', 'event_name', 'runner_id', 'runner_name', 'runner_sort_priority' ]\n"
   ]
  },
  {
   "cell_type": "code",
   "execution_count": 57,
   "metadata": {},
   "outputs": [],
   "source": [
    "runners_fast_wbsp_sample1 = runners_fast_wbsp_sample.drop(*columns_to_drop)"
   ]
  },
  {
   "cell_type": "code",
   "execution_count": 58,
   "metadata": {},
   "outputs": [
    {
     "name": "stderr",
     "output_type": "stream",
     "text": [
      "[Stage 13:=====================================================>(113 + 1) / 114]\r"
     ]
    },
    {
     "name": "stdout",
     "output_type": "stream",
     "text": [
      "+-------------+---+-------------+\n",
      "|runner_status|bsp|is_fast_horse|\n",
      "+-------------+---+-------------+\n",
      "|       WINNER|  2|        false|\n",
      "|        LOSER|  3|        false|\n",
      "|        LOSER|  6|        false|\n",
      "|        LOSER|  9|        false|\n",
      "|        LOSER| 44|        false|\n",
      "|        LOSER|  9|        false|\n",
      "|        LOSER|  1|        false|\n",
      "|        LOSER|  5|        false|\n",
      "|        LOSER| 16|         true|\n",
      "|       WINNER|  5|        false|\n",
      "|        LOSER| 29|        false|\n",
      "|        LOSER|247|        false|\n",
      "|       WINNER|  1|        false|\n",
      "|        LOSER|  4|        false|\n",
      "|        LOSER|  8|        false|\n",
      "|        LOSER| 22|        false|\n",
      "|       WINNER|  4|        false|\n",
      "|        LOSER|  6|        false|\n",
      "|        LOSER|  5|        false|\n",
      "|        LOSER|  5|        false|\n",
      "+-------------+---+-------------+\n",
      "only showing top 20 rows\n",
      "\n"
     ]
    },
    {
     "name": "stderr",
     "output_type": "stream",
     "text": [
      "                                                                                \r"
     ]
    }
   ],
   "source": [
    "runners_fast_wbsp_sample1.show()"
   ]
  },
  {
   "cell_type": "code",
   "execution_count": 59,
   "metadata": {},
   "outputs": [],
   "source": [
    "### Sum of two or more columns in pyspark\n",
    "\n",
    "from pyspark.sql.functions import col"
   ]
  },
  {
   "cell_type": "code",
   "execution_count": 111,
   "metadata": {},
   "outputs": [],
   "source": [
    "runners_fast_wbsp_sample2=runners_fast_wbsp_sample1.withColumn(\"implied_prob\", 1/col(\"bsp\"))"
   ]
  },
  {
   "cell_type": "code",
   "execution_count": 61,
   "metadata": {},
   "outputs": [
    {
     "name": "stderr",
     "output_type": "stream",
     "text": [
      "[Stage 15:=====================================================>(113 + 1) / 114]\r"
     ]
    },
    {
     "name": "stdout",
     "output_type": "stream",
     "text": [
      "+-------------+---+-------------+--------------------+\n",
      "|runner_status|bsp|is_fast_horse|        implied_prob|\n",
      "+-------------+---+-------------+--------------------+\n",
      "|        LOSER| 13|        false| 0.07692307692307693|\n",
      "|        LOSER| 32|        false|             0.03125|\n",
      "|        LOSER| 57|        false|0.017543859649122806|\n",
      "|        LOSER|223|        false|0.004484304932735426|\n",
      "|        LOSER| 15|        false| 0.06666666666666667|\n",
      "|        LOSER| 10|        false|                 0.1|\n",
      "|        LOSER|  4|        false|                0.25|\n",
      "|       WINNER| 26|        false|0.038461538461538464|\n",
      "|        LOSER| 21|        false|0.047619047619047616|\n",
      "|        LOSER|  2|        false|                 0.5|\n",
      "+-------------+---+-------------+--------------------+\n",
      "only showing top 10 rows\n",
      "\n"
     ]
    },
    {
     "name": "stderr",
     "output_type": "stream",
     "text": [
      "                                                                                \r"
     ]
    }
   ],
   "source": [
    "runners_fast_wbsp_sample2.show(10)"
   ]
  },
  {
   "cell_type": "code",
   "execution_count": 112,
   "metadata": {},
   "outputs": [],
   "source": [
    "columns_to_drop = [\"bsp\"]\n",
    "runners_fast_wbsp_sample2 = runners_fast_wbsp_sample2.drop(*columns_to_drop)"
   ]
  },
  {
   "cell_type": "code",
   "execution_count": 63,
   "metadata": {},
   "outputs": [
    {
     "name": "stderr",
     "output_type": "stream",
     "text": [
      "[Stage 17:=====================================================>(112 + 2) / 114]\r"
     ]
    },
    {
     "name": "stdout",
     "output_type": "stream",
     "text": [
      "+-------------+-----+\n",
      "|runner_status|count|\n",
      "+-------------+-----+\n",
      "|        LOSER|  872|\n",
      "|       WINNER|  128|\n",
      "+-------------+-----+\n",
      "\n"
     ]
    },
    {
     "name": "stderr",
     "output_type": "stream",
     "text": [
      "                                                                                \r"
     ]
    }
   ],
   "source": [
    "runners_fast_wbsp_sample2.groupby(\"runner_status\").count().show()"
   ]
  },
  {
   "cell_type": "code",
   "execution_count": 64,
   "metadata": {},
   "outputs": [
    {
     "name": "stderr",
     "output_type": "stream",
     "text": [
      "[Stage 19:=====================================================>(113 + 1) / 114]\r"
     ]
    },
    {
     "name": "stdout",
     "output_type": "stream",
     "text": [
      "+-------------+-----+\n",
      "|is_fast_horse|count|\n",
      "+-------------+-----+\n",
      "|        false|  920|\n",
      "|         true|   80|\n",
      "+-------------+-----+\n",
      "\n"
     ]
    },
    {
     "name": "stderr",
     "output_type": "stream",
     "text": [
      "                                                                                \r"
     ]
    }
   ],
   "source": [
    "runners_fast_wbsp_sample2.groupby(\"is_fast_horse\").count().show()"
   ]
  },
  {
   "cell_type": "code",
   "execution_count": null,
   "metadata": {},
   "outputs": [],
   "source": []
  },
  {
   "cell_type": "code",
   "execution_count": 69,
   "metadata": {},
   "outputs": [
    {
     "name": "stderr",
     "output_type": "stream",
     "text": [
      "[Stage 21:=====================================================>(113 + 1) / 114]\r"
     ]
    },
    {
     "name": "stdout",
     "output_type": "stream",
     "text": [
      "+-------------+-------------+--------------------+\n",
      "|runner_status|is_fast_horse|        implied_prob|\n",
      "+-------------+-------------+--------------------+\n",
      "|        LOSER|        false| 0.07692307692307693|\n",
      "|        LOSER|        false|             0.03125|\n",
      "|        LOSER|        false|0.017543859649122806|\n",
      "|        LOSER|        false|0.004484304932735426|\n",
      "|        LOSER|        false| 0.06666666666666667|\n",
      "|        LOSER|        false|                 0.1|\n",
      "|        LOSER|        false|                0.25|\n",
      "|       WINNER|        false|0.038461538461538464|\n",
      "|        LOSER|        false|0.047619047619047616|\n",
      "|        LOSER|        false|                 0.5|\n",
      "|        LOSER|        false|0.012048192771084338|\n",
      "|        LOSER|        false|                 0.2|\n",
      "|       WINNER|        false|                0.25|\n",
      "|        LOSER|        false| 0.14285714285714285|\n",
      "|        LOSER|        false| 0.08333333333333333|\n",
      "|        LOSER|        false|                0.25|\n",
      "|        LOSER|        false| 0.05555555555555555|\n",
      "|        LOSER|        false| 0.07142857142857142|\n",
      "|        LOSER|        false| 0.07142857142857142|\n",
      "|        LOSER|        false| 0.02631578947368421|\n",
      "+-------------+-------------+--------------------+\n",
      "only showing top 20 rows\n",
      "\n"
     ]
    },
    {
     "name": "stderr",
     "output_type": "stream",
     "text": [
      "                                                                                \r"
     ]
    }
   ],
   "source": [
    "runners_fast_wbsp_sample2.show()"
   ]
  },
  {
   "cell_type": "code",
   "execution_count": 67,
   "metadata": {},
   "outputs": [
    {
     "name": "stdout",
     "output_type": "stream",
     "text": [
      "Collecting numpy\n",
      "  Downloading numpy-1.21.4-cp37-cp37m-manylinux_2_12_x86_64.manylinux2010_x86_64.whl (15.7 MB)\n",
      "     |████████████████████████████████| 15.7 MB 5.4 MB/s            \n",
      "\u001b[?25hInstalling collected packages: numpy\n",
      "Successfully installed numpy-1.21.4\n"
     ]
    }
   ],
   "source": [
    "!pip install numpy"
   ]
  },
  {
   "cell_type": "code",
   "execution_count": 113,
   "metadata": {},
   "outputs": [],
   "source": [
    "from pyspark.ml.classification import LogisticRegression"
   ]
  },
  {
   "cell_type": "code",
   "execution_count": 114,
   "metadata": {},
   "outputs": [],
   "source": [
    "runners_fast_wbsp_sample2 = runners_fast_wbsp_sample2.withColumn(\"is_fast_horse_num\", runners_fast_wbsp_sample2[\"is_fast_horse\"].cast(IntegerType()))"
   ]
  },
  {
   "cell_type": "code",
   "execution_count": 115,
   "metadata": {},
   "outputs": [],
   "source": [
    "runners_fast_wbsp_sample2 = runners_fast_wbsp_sample2.drop(\"is_fast_horse\")"
   ]
  },
  {
   "cell_type": "code",
   "execution_count": 78,
   "metadata": {},
   "outputs": [
    {
     "data": {
      "text/plain": [
       "[('runner_status', 'string'),\n",
       " ('implied_prob', 'double'),\n",
       " ('is_fast_horse_num', 'int')]"
      ]
     },
     "execution_count": 78,
     "metadata": {},
     "output_type": "execute_result"
    }
   ],
   "source": [
    "runners_fast_wbsp_sample2.dtypes"
   ]
  },
  {
   "cell_type": "code",
   "execution_count": 79,
   "metadata": {},
   "outputs": [
    {
     "name": "stderr",
     "output_type": "stream",
     "text": [
      "[Stage 23:=====================================================>(113 + 1) / 114]\r"
     ]
    },
    {
     "name": "stdout",
     "output_type": "stream",
     "text": [
      "+-------------+------------------+-----------------+\n",
      "|runner_status|      implied_prob|is_fast_horse_num|\n",
      "+-------------+------------------+-----------------+\n",
      "|       WINNER|0.3333333333333333|                0|\n",
      "+-------------+------------------+-----------------+\n",
      "only showing top 1 row\n",
      "\n"
     ]
    },
    {
     "name": "stderr",
     "output_type": "stream",
     "text": [
      "                                                                                \r"
     ]
    }
   ],
   "source": [
    "runners_fast_wbsp_sample2.show(1)"
   ]
  },
  {
   "cell_type": "code",
   "execution_count": null,
   "metadata": {},
   "outputs": [],
   "source": [
    "cols = runners_fast_wbsp_sample2.columns"
   ]
  },
  {
   "cell_type": "code",
   "execution_count": 116,
   "metadata": {},
   "outputs": [],
   "source": [
    "from pyspark.ml.feature import OneHotEncoder, StringIndexer, VectorAssembler\n",
    "categoricalColumns = ['is_fast_horse_num']\n",
    "#  is_fast_horse, runner_status, implied_prob\n",
    "stages = []\n",
    "\n",
    "for categoricalCol in categoricalColumns:\n",
    "    stringIndexer = StringIndexer(inputCol = categoricalCol, outputCol = categoricalCol + 'Index')\n",
    "    encoder = OneHotEncoder(inputCols=[stringIndexer.getOutputCol()], outputCols=[categoricalCol + \"classVec\"])\n",
    "    stages += [stringIndexer, encoder]\n",
    "\n",
    "label_stringIdx = StringIndexer(inputCol = 'runner_status', outputCol = 'label')\n",
    "\n",
    "stages += [label_stringIdx]\n",
    "\n",
    "numericCols = ['implied_prob']\n",
    "\n",
    "assemblerInputs = [c + \"classVec\" for c in categoricalColumns] + numericCols\n",
    "\n",
    "assembler = VectorAssembler(inputCols=assemblerInputs, outputCol=\"features\")\n",
    "\n",
    "stages += [assembler]"
   ]
  },
  {
   "cell_type": "code",
   "execution_count": 117,
   "metadata": {},
   "outputs": [
    {
     "name": "stderr",
     "output_type": "stream",
     "text": [
      "                                                                                \r"
     ]
    }
   ],
   "source": [
    "# pipline\n",
    "from pyspark.ml import Pipeline\n",
    "pipeline = Pipeline(stages = stages)\n",
    "pipelineModel = pipeline.fit(runners_fast_wbsp_sample2)\n",
    "runners_fast_wbsp_sample2 = pipelineModel.transform(runners_fast_wbsp_sample2)\n"
   ]
  },
  {
   "cell_type": "code",
   "execution_count": 120,
   "metadata": {},
   "outputs": [
    {
     "name": "stdout",
     "output_type": "stream",
     "text": [
      "root\n",
      " |-- runner_status: string (nullable = true)\n",
      " |-- implied_prob: double (nullable = true)\n",
      " |-- is_fast_horse_num: integer (nullable = true)\n",
      " |-- is_fast_horse_numIndex: double (nullable = false)\n",
      " |-- is_fast_horse_numclassVec: vector (nullable = true)\n",
      " |-- label: double (nullable = false)\n",
      " |-- features: vector (nullable = true)\n",
      "\n"
     ]
    }
   ],
   "source": [
    "selectedCols = ['label', 'features'] + cols\n",
    "runners_fast_wbsp_sample2 = runners_fast_wbsp_sample2.select(selectedCols)\n",
    "runners_fast_wbsp_sample2.printSchema()"
   ]
  },
  {
   "cell_type": "code",
   "execution_count": 136,
   "metadata": {},
   "outputs": [
    {
     "name": "stderr",
     "output_type": "stream",
     "text": [
      "                                                                                \r"
     ]
    },
    {
     "data": {
      "text/plain": [
       "Row(runner_status='LOSER', implied_prob=0.5, is_fast_horse_num=0, is_fast_horse_numIndex=0.0, is_fast_horse_numclassVec=SparseVector(1, {0: 1.0}), label=0.0, features=DenseVector([1.0, 0.5]))"
      ]
     },
     "execution_count": 136,
     "metadata": {},
     "output_type": "execute_result"
    }
   ],
   "source": [
    "runners_fast_wbsp_sample2.head()"
   ]
  },
  {
   "cell_type": "code",
   "execution_count": 87,
   "metadata": {},
   "outputs": [
    {
     "name": "stdout",
     "output_type": "stream",
     "text": [
      "Collecting pandas\n",
      "  Downloading pandas-1.3.4-cp37-cp37m-manylinux_2_17_x86_64.manylinux2014_x86_64.whl (11.3 MB)\n",
      "     |████████████████████████████████| 11.3 MB 5.1 MB/s            \n",
      "\u001b[?25hRequirement already satisfied: numpy>=1.17.3 in /opt/conda/envs/python37/lib/python3.7/site-packages (from pandas) (1.21.4)\n",
      "Collecting pytz>=2017.3\n",
      "  Downloading pytz-2021.3-py2.py3-none-any.whl (503 kB)\n",
      "     |████████████████████████████████| 503 kB 58.7 MB/s            \n",
      "\u001b[?25hRequirement already satisfied: python-dateutil>=2.7.3 in /opt/conda/envs/python37/lib/python3.7/site-packages (from pandas) (2.8.2)\n",
      "Requirement already satisfied: six>=1.5 in /opt/conda/envs/python37/lib/python3.7/site-packages (from python-dateutil>=2.7.3->pandas) (1.16.0)\n",
      "Installing collected packages: pytz, pandas\n",
      "Successfully installed pandas-1.3.4 pytz-2021.3\n"
     ]
    }
   ],
   "source": [
    "!pip install pandas"
   ]
  },
  {
   "cell_type": "code",
   "execution_count": 88,
   "metadata": {},
   "outputs": [],
   "source": [
    "import pandas as pd"
   ]
  },
  {
   "cell_type": "code",
   "execution_count": 121,
   "metadata": {},
   "outputs": [
    {
     "data": {
      "text/plain": [
       "[('runner_status', 'string'),\n",
       " ('implied_prob', 'double'),\n",
       " ('is_fast_horse_num', 'int'),\n",
       " ('is_fast_horse_numIndex', 'double'),\n",
       " ('is_fast_horse_numclassVec', 'vector'),\n",
       " ('label', 'double'),\n",
       " ('features', 'vector')]"
      ]
     },
     "execution_count": 121,
     "metadata": {},
     "output_type": "execute_result"
    }
   ],
   "source": [
    "runners_fast_wbsp_sample2.dtypes"
   ]
  },
  {
   "cell_type": "code",
   "execution_count": 89,
   "metadata": {},
   "outputs": [
    {
     "name": "stderr",
     "output_type": "stream",
     "text": [
      "                                                                                \r"
     ]
    },
    {
     "data": {
      "text/html": [
       "<div>\n",
       "<style scoped>\n",
       "    .dataframe tbody tr th:only-of-type {\n",
       "        vertical-align: middle;\n",
       "    }\n",
       "\n",
       "    .dataframe tbody tr th {\n",
       "        vertical-align: top;\n",
       "    }\n",
       "\n",
       "    .dataframe thead th {\n",
       "        text-align: right;\n",
       "    }\n",
       "</style>\n",
       "<table border=\"1\" class=\"dataframe\">\n",
       "  <thead>\n",
       "    <tr style=\"text-align: right;\">\n",
       "      <th></th>\n",
       "      <th>0</th>\n",
       "      <th>1</th>\n",
       "      <th>2</th>\n",
       "      <th>3</th>\n",
       "      <th>4</th>\n",
       "    </tr>\n",
       "  </thead>\n",
       "  <tbody>\n",
       "    <tr>\n",
       "      <th>label</th>\n",
       "      <td>1.0</td>\n",
       "      <td>0.0</td>\n",
       "      <td>0.0</td>\n",
       "      <td>0.0</td>\n",
       "      <td>0.0</td>\n",
       "    </tr>\n",
       "    <tr>\n",
       "      <th>features</th>\n",
       "      <td>[1.0, 0.5]</td>\n",
       "      <td>[1.0, 0.029411764705882353]</td>\n",
       "      <td>[1.0, 0.03125]</td>\n",
       "      <td>[1.0, 0.25]</td>\n",
       "      <td>[1.0, 0.04]</td>\n",
       "    </tr>\n",
       "    <tr>\n",
       "      <th>runner_status</th>\n",
       "      <td>WINNER</td>\n",
       "      <td>LOSER</td>\n",
       "      <td>LOSER</td>\n",
       "      <td>LOSER</td>\n",
       "      <td>LOSER</td>\n",
       "    </tr>\n",
       "    <tr>\n",
       "      <th>implied_prob</th>\n",
       "      <td>0.5</td>\n",
       "      <td>0.029412</td>\n",
       "      <td>0.03125</td>\n",
       "      <td>0.25</td>\n",
       "      <td>0.04</td>\n",
       "    </tr>\n",
       "    <tr>\n",
       "      <th>is_fast_horse_num</th>\n",
       "      <td>0</td>\n",
       "      <td>0</td>\n",
       "      <td>0</td>\n",
       "      <td>0</td>\n",
       "      <td>0</td>\n",
       "    </tr>\n",
       "    <tr>\n",
       "      <th>is_fast_horse_numIndex</th>\n",
       "      <td>0.0</td>\n",
       "      <td>0.0</td>\n",
       "      <td>0.0</td>\n",
       "      <td>0.0</td>\n",
       "      <td>0.0</td>\n",
       "    </tr>\n",
       "    <tr>\n",
       "      <th>is_fast_horse_numclassVec</th>\n",
       "      <td>(1.0)</td>\n",
       "      <td>(1.0)</td>\n",
       "      <td>(1.0)</td>\n",
       "      <td>(1.0)</td>\n",
       "      <td>(1.0)</td>\n",
       "    </tr>\n",
       "    <tr>\n",
       "      <th>label</th>\n",
       "      <td>1.0</td>\n",
       "      <td>0.0</td>\n",
       "      <td>0.0</td>\n",
       "      <td>0.0</td>\n",
       "      <td>0.0</td>\n",
       "    </tr>\n",
       "    <tr>\n",
       "      <th>features</th>\n",
       "      <td>[1.0, 0.5]</td>\n",
       "      <td>[1.0, 0.029411764705882353]</td>\n",
       "      <td>[1.0, 0.03125]</td>\n",
       "      <td>[1.0, 0.25]</td>\n",
       "      <td>[1.0, 0.04]</td>\n",
       "    </tr>\n",
       "  </tbody>\n",
       "</table>\n",
       "</div>"
      ],
      "text/plain": [
       "                                    0                            1  \\\n",
       "label                             1.0                          0.0   \n",
       "features                   [1.0, 0.5]  [1.0, 0.029411764705882353]   \n",
       "runner_status                  WINNER                        LOSER   \n",
       "implied_prob                      0.5                     0.029412   \n",
       "is_fast_horse_num                   0                            0   \n",
       "is_fast_horse_numIndex            0.0                          0.0   \n",
       "is_fast_horse_numclassVec       (1.0)                        (1.0)   \n",
       "label                             1.0                          0.0   \n",
       "features                   [1.0, 0.5]  [1.0, 0.029411764705882353]   \n",
       "\n",
       "                                        2            3            4  \n",
       "label                                 0.0          0.0          0.0  \n",
       "features                   [1.0, 0.03125]  [1.0, 0.25]  [1.0, 0.04]  \n",
       "runner_status                       LOSER        LOSER        LOSER  \n",
       "implied_prob                      0.03125         0.25         0.04  \n",
       "is_fast_horse_num                       0            0            0  \n",
       "is_fast_horse_numIndex                0.0          0.0          0.0  \n",
       "is_fast_horse_numclassVec           (1.0)        (1.0)        (1.0)  \n",
       "label                                 0.0          0.0          0.0  \n",
       "features                   [1.0, 0.03125]  [1.0, 0.25]  [1.0, 0.04]  "
      ]
     },
     "execution_count": 89,
     "metadata": {},
     "output_type": "execute_result"
    }
   ],
   "source": [
    "pd.DataFrame(runners_fast_wbsp_sample2.take(5), columns=runners_fast_wbsp_sample2.columns).transpose()"
   ]
  },
  {
   "cell_type": "code",
   "execution_count": 123,
   "metadata": {},
   "outputs": [
    {
     "name": "stderr",
     "output_type": "stream",
     "text": [
      "                                                                                \r"
     ]
    },
    {
     "name": "stdout",
     "output_type": "stream",
     "text": [
      "Training Dataset Count: 712\n"
     ]
    },
    {
     "name": "stderr",
     "output_type": "stream",
     "text": [
      "[Stage 41:=====================================================>(113 + 1) / 114]\r"
     ]
    },
    {
     "name": "stdout",
     "output_type": "stream",
     "text": [
      "Test Dataset Count: 288\n"
     ]
    },
    {
     "name": "stderr",
     "output_type": "stream",
     "text": [
      "                                                                                \r"
     ]
    }
   ],
   "source": [
    "train, test = runners_fast_wbsp_sample2.randomSplit([0.7, 0.3], seed = 2018)\n",
    "print(\"Training Dataset Count: \" + str(train.count()))\n",
    "print(\"Test Dataset Count: \" + str(test.count()))"
   ]
  },
  {
   "cell_type": "code",
   "execution_count": 124,
   "metadata": {},
   "outputs": [
    {
     "name": "stderr",
     "output_type": "stream",
     "text": [
      "21/12/07 21:31:37 WARN BLAS: Failed to load implementation from: com.github.fommil.netlib.NativeSystemBLAS\n",
      "21/12/07 21:31:37 WARN BLAS: Failed to load implementation from: com.github.fommil.netlib.NativeRefBLAS\n"
     ]
    }
   ],
   "source": [
    "from pyspark.ml.classification import LogisticRegression\n",
    "lr = LogisticRegression(featuresCol = 'features', labelCol = 'label', maxIter=10)\n",
    "lrModel = lr.fit(train)"
   ]
  },
  {
   "cell_type": "code",
   "execution_count": 126,
   "metadata": {},
   "outputs": [
    {
     "name": "stdout",
     "output_type": "stream",
     "text": [
      "Collecting matplotlib\n",
      "  Downloading matplotlib-3.5.0-cp37-cp37m-manylinux_2_5_x86_64.manylinux1_x86_64.whl (11.2 MB)\n",
      "     |████████████████████████████████| 11.2 MB 5.4 MB/s            \n",
      "\u001b[?25hCollecting kiwisolver>=1.0.1\n",
      "  Downloading kiwisolver-1.3.2-cp37-cp37m-manylinux_2_5_x86_64.manylinux1_x86_64.whl (1.1 MB)\n",
      "     |████████████████████████████████| 1.1 MB 52.7 MB/s            \n",
      "\u001b[?25hCollecting packaging>=20.0\n",
      "  Downloading packaging-21.3-py3-none-any.whl (40 kB)\n",
      "     |████████████████████████████████| 40 kB 7.0 MB/s             \n",
      "\u001b[?25hCollecting fonttools>=4.22.0\n",
      "  Downloading fonttools-4.28.3-py3-none-any.whl (884 kB)\n",
      "     |████████████████████████████████| 884 kB 56.5 MB/s            \n",
      "\u001b[?25hCollecting pillow>=6.2.0\n",
      "  Downloading Pillow-8.4.0-cp37-cp37m-manylinux_2_17_x86_64.manylinux2014_x86_64.whl (3.1 MB)\n",
      "     |████████████████████████████████| 3.1 MB 66.0 MB/s            \n",
      "\u001b[?25hCollecting setuptools-scm>=4\n",
      "  Downloading setuptools_scm-6.3.2-py3-none-any.whl (33 kB)\n",
      "Requirement already satisfied: numpy>=1.17 in /opt/conda/envs/python37/lib/python3.7/site-packages (from matplotlib) (1.21.4)\n",
      "Collecting pyparsing>=2.2.1\n",
      "  Downloading pyparsing-3.0.6-py3-none-any.whl (97 kB)\n",
      "     |████████████████████████████████| 97 kB 9.4 MB/s             \n",
      "\u001b[?25hCollecting cycler>=0.10\n",
      "  Downloading cycler-0.11.0-py3-none-any.whl (6.4 kB)\n",
      "Requirement already satisfied: python-dateutil>=2.7 in /opt/conda/envs/python37/lib/python3.7/site-packages (from matplotlib) (2.8.2)\n",
      "Requirement already satisfied: six>=1.5 in /opt/conda/envs/python37/lib/python3.7/site-packages (from python-dateutil>=2.7->matplotlib) (1.16.0)\n",
      "Collecting tomli>=1.0.0\n",
      "  Downloading tomli-1.2.2-py3-none-any.whl (12 kB)\n",
      "Requirement already satisfied: setuptools in /opt/conda/envs/python37/lib/python3.7/site-packages (from setuptools-scm>=4->matplotlib) (59.4.0)\n",
      "Installing collected packages: pyparsing, tomli, packaging, setuptools-scm, pillow, kiwisolver, fonttools, cycler, matplotlib\n",
      "Successfully installed cycler-0.11.0 fonttools-4.28.3 kiwisolver-1.3.2 matplotlib-3.5.0 packaging-21.3 pillow-8.4.0 pyparsing-3.0.6 setuptools-scm-6.3.2 tomli-1.2.2\n"
     ]
    }
   ],
   "source": [
    "!pip install matplotlib"
   ]
  },
  {
   "cell_type": "code",
   "execution_count": 127,
   "metadata": {},
   "outputs": [
    {
     "data": {
      "image/png": "[encoded data removed]",
      "text/plain": [
       "<Figure size 432x288 with 1 Axes>"
      ]
     },
     "metadata": {
      "needs_background": "light"
     },
     "output_type": "display_data"
    }
   ],
   "source": [
    "import matplotlib.pyplot as plt\n",
    "import numpy as np\n",
    "beta = np.sort(lrModel.coefficients)\n",
    "plt.plot(beta)\n",
    "plt.ylabel('Beta Coefficients')\n",
    "plt.show()"
   ]
  },
  {
   "cell_type": "code",
   "execution_count": 128,
   "metadata": {},
   "outputs": [
    {
     "name": "stderr",
     "output_type": "stream",
     "text": [
      "                                                                                \r"
     ]
    },
    {
     "data": {
      "image/png": "[encoded data removed]",
      "text/plain": [
       "<Figure size 432x288 with 1 Axes>"
      ]
     },
     "metadata": {
      "needs_background": "light"
     },
     "output_type": "display_data"
    },
    {
     "name": "stdout",
     "output_type": "stream",
     "text": [
      "Training set areaUnderROC: 0.7282010838793173\n"
     ]
    }
   ],
   "source": [
    "trainingSummary = lrModel.summary\n",
    "roc = trainingSummary.roc.toPandas()\n",
    "plt.plot(roc['FPR'],roc['TPR'])\n",
    "plt.ylabel('False Positive Rate')\n",
    "plt.xlabel('True Positive Rate')\n",
    "plt.title('ROC Curve')\n",
    "plt.show()\n",
    "print('Training set areaUnderROC: ' + str(trainingSummary.areaUnderROC))"
   ]
  },
  {
   "cell_type": "code",
   "execution_count": 129,
   "metadata": {},
   "outputs": [
    {
     "data": {
      "image/png": "[encoded data removed]",
      "text/plain": [
       "<Figure size 432x288 with 1 Axes>"
      ]
     },
     "metadata": {
      "needs_background": "light"
     },
     "output_type": "display_data"
    }
   ],
   "source": [
    "pr = trainingSummary.pr.toPandas()\n",
    "plt.plot(pr['recall'],pr['precision'])\n",
    "plt.ylabel('Precision')\n",
    "plt.xlabel('Recall')\n",
    "plt.show()"
   ]
  },
  {
   "cell_type": "code",
   "execution_count": 132,
   "metadata": {},
   "outputs": [
    {
     "name": "stderr",
     "output_type": "stream",
     "text": [
      "[Stage 93:=====================================================>(113 + 1) / 114]\r"
     ]
    },
    {
     "name": "stdout",
     "output_type": "stream",
     "text": [
      "+-----------------+--------------------+\n",
      "|is_fast_horse_num|        implied_prob|\n",
      "+-----------------+--------------------+\n",
      "|                0|               0.001|\n",
      "|                0|0.003225806451612...|\n",
      "|                0|0.003597122302158...|\n",
      "|                0|0.003846153846153...|\n",
      "|                0|0.004545454545454545|\n",
      "|                0|  0.0045662100456621|\n",
      "|                0|0.006097560975609756|\n",
      "|                0|0.007692307692307693|\n",
      "|                0|0.007692307692307693|\n",
      "|                0|0.008333333333333333|\n",
      "+-----------------+--------------------+\n",
      "only showing top 10 rows\n",
      "\n"
     ]
    },
    {
     "name": "stderr",
     "output_type": "stream",
     "text": [
      "                                                                                \r"
     ]
    }
   ],
   "source": [
    "predictions = lrModel.transform(test)\n",
    "predictions.select('is_fast_horse_num', 'implied_prob').show(10)"
   ]
  },
  {
   "cell_type": "code",
   "execution_count": 133,
   "metadata": {},
   "outputs": [
    {
     "name": "stderr",
     "output_type": "stream",
     "text": [
      "[Stage 95:=====================================================>(113 + 1) / 114]\r"
     ]
    },
    {
     "name": "stdout",
     "output_type": "stream",
     "text": [
      "Test Area Under ROC 0.8698966408268732\n"
     ]
    },
    {
     "name": "stderr",
     "output_type": "stream",
     "text": [
      "                                                                                \r"
     ]
    }
   ],
   "source": [
    "from pyspark.ml.evaluation import BinaryClassificationEvaluator\n",
    "evaluator = BinaryClassificationEvaluator()\n",
    "print('Test Area Under ROC', evaluator.evaluate(predictions))"
   ]
  },
  {
   "cell_type": "code",
   "execution_count": 134,
   "metadata": {},
   "outputs": [
    {
     "data": {
      "text/plain": [
       "DenseVector([-0.2172, 5.2113])"
      ]
     },
     "execution_count": 134,
     "metadata": {},
     "output_type": "execute_result"
    }
   ],
   "source": [
    "lrModel.coefficients"
   ]
  },
  {
   "cell_type": "markdown",
   "metadata": {},
   "source": [
    "the bigger the coefficient the more predictive power it has\n",
    "\n",
    "Winner = 1, Loser = 0\n",
    "Winner = X*is_fast + Y*implied_prob\n",
    "\n",
    "\n",
    "the bigger the coefficient the more predictive power it has\n",
    "\n",
    "is_fast=0, is_not_fast=1\n",
    "Winner = 1, Loser = 0\n",
    "Winner = -0.2172*is_fast + 5.2113*implied_prob"
   ]
  },
  {
   "cell_type": "code",
   "execution_count": 137,
   "metadata": {},
   "outputs": [
    {
     "name": "stdout",
     "output_type": "stream",
     "text": [
      "Multinomial coefficients: DenseMatrix([[-0.21722497,  5.21125974]])\n",
      "\n"
     ]
    }
   ],
   "source": [
    "print(\"Multinomial coefficients: \" + str(lrModel.coefficientMatrix))\n"
   ]
  },
  {
   "cell_type": "code",
   "execution_count": 138,
   "metadata": {},
   "outputs": [
    {
     "name": "stdout",
     "output_type": "stream",
     "text": [
      "Multinomial intercepts: [-2.7164630059689507]\n"
     ]
    }
   ],
   "source": [
    "print(\"Multinomial intercepts: \" + str(lrModel.interceptVector))"
   ]
  },
  {
   "cell_type": "code",
   "execution_count": 141,
   "metadata": {},
   "outputs": [
    {
     "ename": "TypeError",
     "evalue": "'BinaryLogisticRegressionTrainingSummary' object is not callable",
     "output_type": "error",
     "traceback": [
      "\u001b[0;31m---------------------------------------------------------------------------\u001b[0m",
      "\u001b[0;31mTypeError\u001b[0m                                 Traceback (most recent call last)",
      "\u001b[0;32m/tmp/ipykernel_121/490935294.py\u001b[0m in \u001b[0;36m<module>\u001b[0;34m\u001b[0m\n\u001b[0;32m----> 1\u001b[0;31m \u001b[0mlrModel\u001b[0m\u001b[0;34m.\u001b[0m\u001b[0msummary\u001b[0m\u001b[0;34m(\u001b[0m\u001b[0;34m)\u001b[0m\u001b[0;34m\u001b[0m\u001b[0;34m\u001b[0m\u001b[0m\n\u001b[0m",
      "\u001b[0;31mTypeError\u001b[0m: 'BinaryLogisticRegressionTrainingSummary' object is not callable"
     ]
    }
   ],
   "source": [
    "lrModel.summary()"
   ]
  },
  {
   "cell_type": "code",
   "execution_count": null,
   "metadata": {},
   "outputs": [],
   "source": []
  }
 ],
 "metadata": {
  "kernelspec": {
   "display_name": "python37",
   "language": "python",
   "name": "python37"
  },
  "language_info": {
   "codemirror_mode": {
    "name": "ipython",
    "version": 3
   },
   "file_extension": ".py",
   "mimetype": "text/x-python",
   "name": "python",
   "nbconvert_exporter": "python",
   "pygments_lexer": "ipython3",
   "version": "3.7.7"
  }
 },
 "nbformat": 4,
 "nbformat_minor": 4
}
