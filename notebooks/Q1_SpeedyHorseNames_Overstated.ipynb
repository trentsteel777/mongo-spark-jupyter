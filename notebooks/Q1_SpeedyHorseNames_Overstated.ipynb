{
 "cells": [
  {
   "cell_type": "code",
   "execution_count": 1,
   "metadata": {},
   "outputs": [
    {
     "name": "stdout",
     "output_type": "stream",
     "text": [
      "Python 3.7.7\n"
     ]
    }
   ],
   "source": [
    "!python --version"
   ]
  },
  {
   "cell_type": "code",
   "execution_count": 2,
   "metadata": {},
   "outputs": [],
   "source": [
    "#https://stackoverflow.com/questions/53457975/pyspark-udf-function-error-in-lambda-function\n",
    "import os\n",
    "os.environ['OBJC_DISABLE_INITIALIZE_FORK_SAFETY'] = 'YES'"
   ]
  },
  {
   "cell_type": "code",
   "execution_count": 3,
   "metadata": {},
   "outputs": [
    {
     "name": "stderr",
     "output_type": "stream",
     "text": [
      "WARNING: An illegal reflective access operation has occurred\n",
      "WARNING: Illegal reflective access by org.apache.spark.unsafe.Platform (file:/usr/local/spark-3.0.0-bin-hadoop3.2/jars/spark-unsafe_2.12-3.0.0.jar) to constructor java.nio.DirectByteBuffer(long,int)\n",
      "WARNING: Please consider reporting this to the maintainers of org.apache.spark.unsafe.Platform\n",
      "WARNING: Use --illegal-access=warn to enable warnings of further illegal reflective access operations\n",
      "WARNING: All illegal access operations will be denied in a future release\n",
      "Ivy Default Cache set to: /home/jovyan/.ivy2/cache\n",
      "The jars for the packages stored in: /home/jovyan/.ivy2/jars\n",
      ":: loading settings :: url = jar:file:/usr/local/spark-3.0.0-bin-hadoop3.2/jars/ivy-2.4.0.jar!/org/apache/ivy/core/settings/ivysettings.xml\n",
      "org.mongodb.spark#mongo-spark-connector_2.12 added as a dependency\n",
      ":: resolving dependencies :: org.apache.spark#spark-submit-parent-ccc8cd79-9482-42ff-973a-e4c36d43372a;1.0\n",
      "\tconfs: [default]\n",
      "\tfound org.mongodb.spark#mongo-spark-connector_2.12;3.0.0 in central\n",
      "\tfound org.mongodb#mongodb-driver-sync;4.0.5 in central\n",
      "\tfound org.mongodb#bson;4.0.5 in central\n",
      "\tfound org.mongodb#mongodb-driver-core;4.0.5 in central\n",
      ":: resolution report :: resolve 310ms :: artifacts dl 16ms\n",
      "\t:: modules in use:\n",
      "\torg.mongodb#bson;4.0.5 from central in [default]\n",
      "\torg.mongodb#mongodb-driver-core;4.0.5 from central in [default]\n",
      "\torg.mongodb#mongodb-driver-sync;4.0.5 from central in [default]\n",
      "\torg.mongodb.spark#mongo-spark-connector_2.12;3.0.0 from central in [default]\n",
      "\t---------------------------------------------------------------------\n",
      "\t|                  |            modules            ||   artifacts   |\n",
      "\t|       conf       | number| search|dwnlded|evicted|| number|dwnlded|\n",
      "\t---------------------------------------------------------------------\n",
      "\t|      default     |   4   |   0   |   0   |   0   ||   4   |   0   |\n",
      "\t---------------------------------------------------------------------\n",
      ":: retrieving :: org.apache.spark#spark-submit-parent-ccc8cd79-9482-42ff-973a-e4c36d43372a\n",
      "\tconfs: [default]\n",
      "\t0 artifacts copied, 4 already retrieved (0kB/15ms)\n",
      "21/12/03 00:37:15 WARN NativeCodeLoader: Unable to load native-hadoop library for your platform... using builtin-java classes where applicable\n",
      "Using Spark's default log4j profile: org/apache/spark/log4j-defaults.properties\n",
      "Setting default log level to \"WARN\".\n",
      "To adjust logging level use sc.setLogLevel(newLevel). For SparkR, use setLogLevel(newLevel).\n"
     ]
    }
   ],
   "source": [
    "from pyspark.sql import SparkSession\n",
    "\n",
    "spark = SparkSession.\\\n",
    "        builder.\\\n",
    "        appName(\"pyspark-notebook2\").\\\n",
    "        master(\"spark://spark-master:7077\").\\\n",
    "        config(\"spark.executor.memory\", \"5g\").\\\n",
    "        config(\"spark.mongodb.input.uri\",\"mongodb://mongo1:27017,mongo2:27018,mongo3:27019/database.horses_collection?replicaSet=rs0\").\\\n",
    "        config(\"spark.mongodb.output.uri\",\"mongodb://mongo1:27017,mongo2:27018,mongo3:27019/database.horses_collection?replicaSet=rs0\").\\\n",
    "        config(\"spark.jars.packages\", \"org.mongodb.spark:mongo-spark-connector_2.12:3.0.0\").\\\n",
    "        getOrCreate()\n"
   ]
  },
  {
   "cell_type": "code",
   "execution_count": 4,
   "metadata": {},
   "outputs": [
    {
     "data": {
      "text/plain": [
       "'default'"
      ]
     },
     "execution_count": 4,
     "metadata": {},
     "output_type": "execute_result"
    }
   ],
   "source": [
    "spark.catalog.currentDatabase()"
   ]
  },
  {
   "cell_type": "code",
   "execution_count": 5,
   "metadata": {},
   "outputs": [
    {
     "name": "stderr",
     "output_type": "stream",
     "text": [
      "21/12/03 00:37:32 WARN TaskSetManager: Lost task 0.0 in stage 0.0 (TID 0, 172.22.0.8, executor 1): com.mongodb.MongoQueryException: Query failed with error code 28799 and error message '$sample stage could not find a non-duplicate document after 100 while using a random cursor. This is likely a sporadic failure, please try again.' on server mongo1:27017\n",
      "\tat com.mongodb.internal.operation.QueryHelper.translateCommandException(QueryHelper.java:29)\n",
      "\tat com.mongodb.internal.operation.QueryBatchCursor.getMore(QueryBatchCursor.java:267)\n",
      "\tat com.mongodb.internal.operation.QueryBatchCursor.hasNext(QueryBatchCursor.java:138)\n",
      "\tat com.mongodb.client.internal.MongoBatchCursorAdapter.hasNext(MongoBatchCursorAdapter.java:54)\n",
      "\tat com.mongodb.spark.rdd.MongoRDD$MongoCursorIterator.hasNext(MongoRDD.scala:198)\n",
      "\tat scala.collection.Iterator$$anon$10.hasNext(Iterator.scala:458)\n",
      "\tat scala.collection.Iterator.foreach(Iterator.scala:941)\n",
      "\tat scala.collection.Iterator.foreach$(Iterator.scala:941)\n",
      "\tat scala.collection.AbstractIterator.foreach(Iterator.scala:1429)\n",
      "\tat scala.collection.TraversableOnce.foldLeft(TraversableOnce.scala:162)\n",
      "\tat scala.collection.TraversableOnce.foldLeft$(TraversableOnce.scala:160)\n",
      "\tat scala.collection.AbstractIterator.foldLeft(Iterator.scala:1429)\n",
      "\tat scala.collection.TraversableOnce.aggregate(TraversableOnce.scala:219)\n",
      "\tat scala.collection.TraversableOnce.aggregate$(TraversableOnce.scala:219)\n",
      "\tat scala.collection.AbstractIterator.aggregate(Iterator.scala:1429)\n",
      "\tat org.apache.spark.rdd.RDD.$anonfun$treeAggregate$3(RDD.scala:1204)\n",
      "\tat org.apache.spark.rdd.RDD.$anonfun$treeAggregate$5(RDD.scala:1205)\n",
      "\tat org.apache.spark.rdd.RDD.$anonfun$mapPartitions$2(RDD.scala:837)\n",
      "\tat org.apache.spark.rdd.RDD.$anonfun$mapPartitions$2$adapted(RDD.scala:837)\n",
      "\tat org.apache.spark.rdd.MapPartitionsRDD.compute(MapPartitionsRDD.scala:52)\n",
      "\tat org.apache.spark.rdd.RDD.computeOrReadCheckpoint(RDD.scala:349)\n",
      "\tat org.apache.spark.rdd.RDD.iterator(RDD.scala:313)\n",
      "\tat org.apache.spark.scheduler.ResultTask.runTask(ResultTask.scala:90)\n",
      "\tat org.apache.spark.scheduler.Task.run(Task.scala:127)\n",
      "\tat org.apache.spark.executor.Executor$TaskRunner.$anonfun$run$3(Executor.scala:444)\n",
      "\tat org.apache.spark.util.Utils$.tryWithSafeFinally(Utils.scala:1377)\n",
      "\tat org.apache.spark.executor.Executor$TaskRunner.run(Executor.scala:447)\n",
      "\tat java.util.concurrent.ThreadPoolExecutor.runWorker(ThreadPoolExecutor.java:1149)\n",
      "\tat java.util.concurrent.ThreadPoolExecutor$Worker.run(ThreadPoolExecutor.java:624)\n",
      "\tat java.lang.Thread.run(Thread.java:748)\n",
      "\n",
      "21/12/03 00:37:46 WARN MongoInferSchema: Field 'bsp' contains conflicting types converting to StringType\n",
      "21/12/03 00:37:48 WARN package: Truncated the string representation of a plan since it was too large. This behavior can be adjusted by setting 'spark.sql.debug.maxToStringFields'.\n"
     ]
    }
   ],
   "source": [
    "#reading dataframes from MongoDB\n",
    "\n",
    "# sampleSize - https://stackoverflow.com/a/56255303\n",
    "df = spark.read.format(\"mongo\").option('sampleSize', 50000).load()\n",
    "df.createOrReplaceTempView(\"mongo\")\n"
   ]
  },
  {
   "cell_type": "code",
   "execution_count": 6,
   "metadata": {},
   "outputs": [
    {
     "name": "stdout",
     "output_type": "stream",
     "text": [
      "root\n",
      " |-- _id: struct (nullable = true)\n",
      " |    |-- oid: string (nullable = true)\n",
      " |-- clk: string (nullable = true)\n",
      " |-- mc: array (nullable = true)\n",
      " |    |-- element: struct (containsNull = true)\n",
      " |    |    |-- id: string (nullable = true)\n",
      " |    |    |-- marketDefinition: struct (nullable = true)\n",
      " |    |    |    |-- betDelay: integer (nullable = true)\n",
      " |    |    |    |-- bettingType: string (nullable = true)\n",
      " |    |    |    |-- bspMarket: boolean (nullable = true)\n",
      " |    |    |    |-- bspReconciled: boolean (nullable = true)\n",
      " |    |    |    |-- complete: boolean (nullable = true)\n",
      " |    |    |    |-- countryCode: string (nullable = true)\n",
      " |    |    |    |-- crossMatching: boolean (nullable = true)\n",
      " |    |    |    |-- discountAllowed: boolean (nullable = true)\n",
      " |    |    |    |-- eachWayDivisor: double (nullable = true)\n",
      " |    |    |    |-- eventId: string (nullable = true)\n",
      " |    |    |    |-- eventName: string (nullable = true)\n",
      " |    |    |    |-- eventTypeId: string (nullable = true)\n",
      " |    |    |    |-- inPlay: boolean (nullable = true)\n",
      " |    |    |    |-- marketBaseRate: double (nullable = true)\n",
      " |    |    |    |-- marketTime: string (nullable = true)\n",
      " |    |    |    |-- marketType: string (nullable = true)\n",
      " |    |    |    |-- name: string (nullable = true)\n",
      " |    |    |    |-- numberOfActiveRunners: integer (nullable = true)\n",
      " |    |    |    |-- numberOfWinners: integer (nullable = true)\n",
      " |    |    |    |-- openDate: string (nullable = true)\n",
      " |    |    |    |-- persistenceEnabled: boolean (nullable = true)\n",
      " |    |    |    |-- regulators: array (nullable = true)\n",
      " |    |    |    |    |-- element: string (containsNull = true)\n",
      " |    |    |    |-- runners: array (nullable = true)\n",
      " |    |    |    |    |-- element: struct (containsNull = true)\n",
      " |    |    |    |    |    |-- adjustmentFactor: double (nullable = true)\n",
      " |    |    |    |    |    |-- bsp: string (nullable = true)\n",
      " |    |    |    |    |    |-- id: integer (nullable = true)\n",
      " |    |    |    |    |    |-- name: string (nullable = true)\n",
      " |    |    |    |    |    |-- removalDate: string (nullable = true)\n",
      " |    |    |    |    |    |-- sortPriority: integer (nullable = true)\n",
      " |    |    |    |    |    |-- status: string (nullable = true)\n",
      " |    |    |    |-- runnersVoidable: boolean (nullable = true)\n",
      " |    |    |    |-- settledTime: string (nullable = true)\n",
      " |    |    |    |-- status: string (nullable = true)\n",
      " |    |    |    |-- suspendTime: string (nullable = true)\n",
      " |    |    |    |-- timezone: string (nullable = true)\n",
      " |    |    |    |-- turnInPlayEnabled: boolean (nullable = true)\n",
      " |    |    |    |-- venue: string (nullable = true)\n",
      " |    |    |    |-- version: integer (nullable = true)\n",
      " |    |    |-- rc: array (nullable = true)\n",
      " |    |    |    |-- element: struct (containsNull = true)\n",
      " |    |    |    |    |-- ltp: double (nullable = true)\n",
      " |    |    |    |    |-- id: integer (nullable = true)\n",
      " |-- op: string (nullable = true)\n",
      " |-- pt: long (nullable = true)\n",
      "\n"
     ]
    }
   ],
   "source": [
    "df.printSchema()"
   ]
  },
  {
   "cell_type": "code",
   "execution_count": 7,
   "metadata": {},
   "outputs": [
    {
     "name": "stderr",
     "output_type": "stream",
     "text": [
      "[Stage 1:>                                                          (0 + 1) / 1]\r"
     ]
    },
    {
     "name": "stdout",
     "output_type": "stream",
     "text": [
      "+--------------------+----------+--------------------+---+-------------+\n",
      "|                 _id|       clk|                  mc| op|           pt|\n",
      "+--------------------+----------+--------------------+---+-------------+\n",
      "|[619e9dd8677066b2...|2480088678|[[1.124699287, [0...|mcm|1462537993283|\n",
      "|[619e9dd8677066b2...|2480249142|[[1.124699287, [0...|mcm|1462540135101|\n",
      "|[619e9dd8677066b2...|2481803835|[[1.124699287, [0...|mcm|1462555384075|\n",
      "|[619e9dd8677066b2...|2481994285|[[1.124699287,, [...|mcm|1462557371191|\n",
      "|[619e9dd8677066b2...|2482055516|[[1.124699287,, [...|mcm|1462557910955|\n",
      "|[619e9dd8677066b2...|2482072939|[[1.124699287,, [...|mcm|1462558089056|\n",
      "|[619e9dd8677066b2...|2482078964|[[1.124699287,, [...|mcm|1462558150717|\n",
      "|[619e9dd8677066b2...|2482083965|[[1.124699287, [0...|mcm|1462558199155|\n",
      "|[619e9dd8677066b2...|2482177634|[[1.124699287, [0...|mcm|1462559078531|\n",
      "|[619e9dd8677066b2...|2480088678|[[1.124699285, [0...|mcm|1462537993283|\n",
      "|[619e9dd8677066b2...|2480212422|[[1.124699285, [0...|mcm|1462539800697|\n",
      "|[619e9dd8677066b2...|2480409166|[[1.124699285, [0...|mcm|1462541919372|\n",
      "|[619e9dd8677066b2...|2481526806|[[1.124699285,, [...|mcm|1462552870198|\n",
      "|[619e9dd8677066b2...|2481622628|[[1.124699285, [0...|mcm|1462553643217|\n",
      "|[619e9dd8677066b2...|2481628092|[[1.124699285, [0...|mcm|1462553705002|\n",
      "|[619e9dd8677066b2...|2481633423|[[1.124699285, [0...|mcm|1462553765802|\n",
      "|[619e9dd8677066b2...|2481879973|[[1.124699285, [0...|mcm|1462556181157|\n",
      "|[619e9dd8677066b2...|2481938295|[[1.124699285, [0...|mcm|1462556825096|\n",
      "|[619e9dd8677066b2...|2480088678|[[1.124699278, [0...|mcm|1462537993283|\n",
      "|[619e9dd8677066b2...|2480180647|[[1.124699278, [0...|mcm|1462539270638|\n",
      "+--------------------+----------+--------------------+---+-------------+\n",
      "only showing top 20 rows\n",
      "\n"
     ]
    },
    {
     "name": "stderr",
     "output_type": "stream",
     "text": [
      "                                                                                \r"
     ]
    }
   ],
   "source": [
    "df.show()"
   ]
  },
  {
   "cell_type": "code",
   "execution_count": 8,
   "metadata": {},
   "outputs": [],
   "source": [
    "#spark.sql(\"select * from mongo array_contains(root.mc, array('CLOSED'))\").show()\n",
    "from pyspark.sql.functions import explode   # Explodes lists into rows."
   ]
  },
  {
   "cell_type": "code",
   "execution_count": 9,
   "metadata": {},
   "outputs": [],
   "source": [
    "mc_exploded = df.select('*', explode(df.mc).alias('mc_row'))"
   ]
  },
  {
   "cell_type": "code",
   "execution_count": 10,
   "metadata": {},
   "outputs": [],
   "source": [
    "md_only = mc_exploded.filter(mc_exploded.mc_row.marketDefinition.isNotNull())"
   ]
  },
  {
   "cell_type": "code",
   "execution_count": 11,
   "metadata": {},
   "outputs": [
    {
     "name": "stderr",
     "output_type": "stream",
     "text": [
      "[Stage 2:>                                                          (0 + 1) / 1]\r"
     ]
    },
    {
     "name": "stdout",
     "output_type": "stream",
     "text": [
      "+--------------------+----------+--------------------+---+-------------+--------------------+\n",
      "|                 _id|       clk|                  mc| op|           pt|              mc_row|\n",
      "+--------------------+----------+--------------------+---+-------------+--------------------+\n",
      "|[619e9dd8677066b2...|2480088678|[[1.124699287, [0...|mcm|1462537993283|[1.124699287, [0,...|\n",
      "|[619e9dd8677066b2...|2480249142|[[1.124699287, [0...|mcm|1462540135101|[1.124699287, [0,...|\n",
      "|[619e9dd8677066b2...|2481803835|[[1.124699287, [0...|mcm|1462555384075|[1.124699287, [0,...|\n",
      "|[619e9dd8677066b2...|2482083965|[[1.124699287, [0...|mcm|1462558199155|[1.124699287, [0,...|\n",
      "|[619e9dd8677066b2...|2482177634|[[1.124699287, [0...|mcm|1462559078531|[1.124699287, [0,...|\n",
      "|[619e9dd8677066b2...|2480088678|[[1.124699285, [0...|mcm|1462537993283|[1.124699285, [0,...|\n",
      "|[619e9dd8677066b2...|2480212422|[[1.124699285, [0...|mcm|1462539800697|[1.124699285, [0,...|\n",
      "|[619e9dd8677066b2...|2480409166|[[1.124699285, [0...|mcm|1462541919372|[1.124699285, [0,...|\n",
      "|[619e9dd8677066b2...|2481622628|[[1.124699285, [0...|mcm|1462553643217|[1.124699285, [0,...|\n",
      "|[619e9dd8677066b2...|2481628092|[[1.124699285, [0...|mcm|1462553705002|[1.124699285, [0,...|\n",
      "|[619e9dd8677066b2...|2481633423|[[1.124699285, [0...|mcm|1462553765802|[1.124699285, [0,...|\n",
      "|[619e9dd8677066b2...|2481879973|[[1.124699285, [0...|mcm|1462556181157|[1.124699285, [0,...|\n",
      "|[619e9dd8677066b2...|2481938295|[[1.124699285, [0...|mcm|1462556825096|[1.124699285, [0,...|\n",
      "|[619e9dd8677066b2...|2480088678|[[1.124699278, [0...|mcm|1462537993283|[1.124699278, [0,...|\n",
      "|[619e9dd8677066b2...|2480180647|[[1.124699278, [0...|mcm|1462539270638|[1.124699278, [0,...|\n",
      "|[619e9dd8677066b2...|2481407254|[[1.124699278, [0...|mcm|1462551952407|[1.124699278, [0,...|\n",
      "|[619e9dd8677066b2...|2481698341|[[1.124699278, [0...|mcm|1462554327642|[1.124699278, [0,...|\n",
      "|[619e9dd8677066b2...|2481740307|[[1.124699278, [0...|mcm|1462554768806|[1.124699278, [0,...|\n",
      "|[619e9dd8677066b2...|2480088678|[[1.124699287, [0...|mcm|1462537993283|[1.124699287, [0,...|\n",
      "|[619e9dd8677066b2...|2480088678|[[1.124699287, [0...|mcm|1462537993283|[1.124699278, [0,...|\n",
      "+--------------------+----------+--------------------+---+-------------+--------------------+\n",
      "only showing top 20 rows\n",
      "\n"
     ]
    },
    {
     "name": "stderr",
     "output_type": "stream",
     "text": [
      "                                                                                \r"
     ]
    }
   ],
   "source": [
    "md_only.show()"
   ]
  },
  {
   "cell_type": "code",
   "execution_count": 12,
   "metadata": {},
   "outputs": [],
   "source": [
    "# Explode the marketDefinition array.\n",
    "market_definitions = md_only.selectExpr('op AS operation_type',\n",
    "                                        'clk AS sequence_token',\n",
    "                                        'pt AS published_time',\n",
    "                                        'mc_row.id AS market_id',\n",
    "                                        'mc_row.rc AS rc',\n",
    "                                        'mc_row.marketDefinition.betDelay AS bet_delay',\n",
    "                                        'mc_row.marketDefinition.bettingType AS betting_type',\n",
    "                                        'mc_row.marketDefinition.bspMarket AS bsp_market',\n",
    "                                        'mc_row.marketDefinition.bspReconciled AS bsp_reconciled',\n",
    "                                        'mc_row.marketDefinition.complete AS complete',\n",
    "                                        'mc_row.marketDefinition.countryCode AS country_code',\n",
    "                                        'mc_row.marketDefinition.crossMatching AS cross_matching',\n",
    "                                        'mc_row.marketDefinition.discountAllowed AS discount_allowed',\n",
    "                                        'mc_row.marketDefinition.eventId AS event_id',\n",
    "                                        'mc_row.marketDefinition.eventName AS event_name',\n",
    "                                        'mc_row.marketDefinition.eventTypeId AS event_type_id',\n",
    "                                        'mc_row.marketDefinition.inPlay AS in_play',\n",
    "                                        'mc_row.marketDefinition.marketBaseRate AS market_base_rate',\n",
    "                                        'mc_row.marketDefinition.marketTime AS market_time',\n",
    "                                        'mc_row.marketDefinition.marketType AS market_type',\n",
    "                                        'mc_row.marketDefinition.numberOfActiveRunners AS number_of_active_runners',\n",
    "                                        'mc_row.marketDefinition.numberOfWinners AS number_of_winners',\n",
    "                                        'mc_row.marketDefinition.openDate AS open_date',\n",
    "                                        'mc_row.marketDefinition.persistenceEnabled AS persistence_enabled',\n",
    "                                        'mc_row.marketDefinition.runnersVoidable AS runners_voidable',\n",
    "                                        'mc_row.marketDefinition.settledTime AS settled_time',\n",
    "                                        'mc_row.marketDefinition.status AS status',\n",
    "                                        'mc_row.marketDefinition.suspendTime AS suspend_time',\n",
    "                                        'mc_row.marketDefinition.timezone AS timezone',\n",
    "                                        'mc_row.marketDefinition.turnInPlayEnabled AS turn_in_play_enabled',\n",
    "                                        'mc_row.marketDefinition.version AS version',\n",
    "                                        'mc_row.marketDefinition.name AS market_name',\n",
    "                                        'mc_row.marketDefinition.regulators AS regulators',\n",
    "                                        'mc_row.marketDefinition.runners AS runners')"
   ]
  },
  {
   "cell_type": "code",
   "execution_count": 13,
   "metadata": {},
   "outputs": [],
   "source": [
    "market_definitions = market_definitions.filter(market_definitions[\"status\"]==\"CLOSED\")"
   ]
  },
  {
   "cell_type": "code",
   "execution_count": 14,
   "metadata": {},
   "outputs": [],
   "source": [
    "market_definitions = market_definitions.filter(market_definitions[\"market_type\"]==\"WIN\")"
   ]
  },
  {
   "cell_type": "code",
   "execution_count": 15,
   "metadata": {},
   "outputs": [],
   "source": [
    "runners_only = market_definitions.filter(market_definitions.runners.isNotNull())"
   ]
  },
  {
   "cell_type": "code",
   "execution_count": 16,
   "metadata": {},
   "outputs": [],
   "source": [
    "# Explode the Runners array.\n",
    "runners_exploded = runners_only.select(market_definitions.operation_type,\n",
    "                                       market_definitions.published_time,\n",
    "                                       market_definitions.market_id,\n",
    "                                       market_definitions.market_name,\n",
    "                                       market_definitions.event_id,\n",
    "                                       market_definitions.event_name,\n",
    "                                       explode(market_definitions.runners).alias('runner_row'))"
   ]
  },
  {
   "cell_type": "code",
   "execution_count": 17,
   "metadata": {},
   "outputs": [],
   "source": [
    "# Select the useful fields, and give them user friendly names.\n",
    "runners = runners_exploded.selectExpr('operation_type',\n",
    "                                      'published_time',\n",
    "                                      'market_id',\n",
    "                                      'market_name',\n",
    "                                      'event_id',\n",
    "                                      'event_name',\n",
    "                                      'runner_row.id AS runner_id',\n",
    "                                      'runner_row.name AS runner_name',\n",
    "                                      'runner_row.status AS runner_status',\n",
    "                                      'runner_row.sortPriority AS runner_sort_priority')"
   ]
  },
  {
   "cell_type": "code",
   "execution_count": 18,
   "metadata": {},
   "outputs": [],
   "source": [
    "# Filter down to only the records that have rc (runner changes).\n",
    "rc_only = mc_exploded.filter(mc_exploded.mc_row.rc.isNotNull())"
   ]
  },
  {
   "cell_type": "code",
   "execution_count": 19,
   "metadata": {},
   "outputs": [],
   "source": [
    "# Explode the rc (runner changes) array.\n",
    "rc_exploded = rc_only.select(rc_only.op.alias('operation_type'),\n",
    "                             rc_only.pt.alias('published_time'),\n",
    "                             rc_only.mc_row.id.alias('market_id'),\n",
    "                             explode(rc_only.mc_row.rc).alias('runner_change_row'))"
   ]
  },
  {
   "cell_type": "code",
   "execution_count": 20,
   "metadata": {},
   "outputs": [],
   "source": [
    "# Select the useful fields, and give them user friendly names.\n",
    "runner_changes = rc_exploded.selectExpr('operation_type',\n",
    "                                        'published_time',\n",
    "                                        'market_id',\n",
    "                                        'runner_change_row.id AS runner_id',\n",
    "                                        'runner_change_row.ltp AS last_traded_price')"
   ]
  },
  {
   "cell_type": "code",
   "execution_count": 21,
   "metadata": {},
   "outputs": [
    {
     "name": "stderr",
     "output_type": "stream",
     "text": [
      "[Stage 3:>                                                          (0 + 1) / 1]\r"
     ]
    },
    {
     "name": "stdout",
     "output_type": "stream",
     "text": [
      "+--------------+--------------+-----------+---------------+--------+-------------------+---------+------------------+-------------+--------------------+\n",
      "|operation_type|published_time|  market_id|    market_name|event_id|         event_name|runner_id|       runner_name|runner_status|runner_sort_priority|\n",
      "+--------------+--------------+-----------+---------------+--------+-------------------+---------+------------------+-------------+--------------------+\n",
      "|           mcm| 1462501034557|1.124659130|     R8 1m Allw|27784588|EvangD (US) 5th May| 10861746|          B Brazin|      REMOVED|                   1|\n",
      "|           mcm| 1462501034557|1.124659130|     R8 1m Allw|27784588|EvangD (US) 5th May|  4517788|       Great Value|      REMOVED|                   2|\n",
      "|           mcm| 1462501034557|1.124659130|     R8 1m Allw|27784588|EvangD (US) 5th May|   187960|        Kid Creole|      REMOVED|                   3|\n",
      "|           mcm| 1462501034557|1.124659130|     R8 1m Allw|27784588|EvangD (US) 5th May| 10743810|        Slideruler|      REMOVED|                   4|\n",
      "|           mcm| 1462501034557|1.124659130|     R8 1m Allw|27784588|EvangD (US) 5th May| 10575249|       Bitsys Half|        LOSER|                   5|\n",
      "|           mcm| 1462501034557|1.124659130|     R8 1m Allw|27784588|EvangD (US) 5th May| 10288198|         Blue Code|        LOSER|                   6|\n",
      "|           mcm| 1462501034557|1.124659130|     R8 1m Allw|27784588|EvangD (US) 5th May| 10116126|            Zartan|        LOSER|                   7|\n",
      "|           mcm| 1462501034557|1.124659130|     R8 1m Allw|27784588|EvangD (US) 5th May| 10221428|         Old Conch|        LOSER|                   8|\n",
      "|           mcm| 1462501034557|1.124659130|     R8 1m Allw|27784588|EvangD (US) 5th May| 10150151|Rose Needs A Check|        LOSER|                   9|\n",
      "|           mcm| 1462501034557|1.124659130|     R8 1m Allw|27784588|EvangD (US) 5th May| 10237987|           Make Do|        LOSER|                  10|\n",
      "|           mcm| 1462501034557|1.124659130|     R8 1m Allw|27784588|EvangD (US) 5th May| 10674850|      Cajun Kitten|        LOSER|                  11|\n",
      "|           mcm| 1462501034557|1.124659130|     R8 1m Allw|27784588|EvangD (US) 5th May| 10550376|       Dr. Zipcity|       WINNER|                  12|\n",
      "|           mcm| 1462501034557|1.124659130|     R8 1m Allw|27784588|EvangD (US) 5th May| 10849769|     Goforthegreen|        LOSER|                  13|\n",
      "|           mcm| 1462501034557|1.124659130|     R8 1m Allw|27784588|EvangD (US) 5th May| 10762541|       Specialeyes|        LOSER|                  14|\n",
      "|           mcm| 1462502535129|1.124659133|R9 7f Mdn Claim|27784588|EvangD (US) 5th May| 10175250|           Cabildo|        LOSER|                   1|\n",
      "|           mcm| 1462502535129|1.124659133|R9 7f Mdn Claim|27784588|EvangD (US) 5th May| 10592064|      Point Secret|        LOSER|                   2|\n",
      "|           mcm| 1462502535129|1.124659133|R9 7f Mdn Claim|27784588|EvangD (US) 5th May|  9111702|       Lip Service|       WINNER|                   3|\n",
      "|           mcm| 1462502535129|1.124659133|R9 7f Mdn Claim|27784588|EvangD (US) 5th May| 10154653|         Warlander|        LOSER|                   4|\n",
      "|           mcm| 1462502535129|1.124659133|R9 7f Mdn Claim|27784588|EvangD (US) 5th May| 10059993|    Cowboy Classic|        LOSER|                   5|\n",
      "|           mcm| 1462502535129|1.124659133|R9 7f Mdn Claim|27784588|EvangD (US) 5th May| 10681528|    Dry Wood Creek|        LOSER|                   6|\n",
      "+--------------+--------------+-----------+---------------+--------+-------------------+---------+------------------+-------------+--------------------+\n",
      "only showing top 20 rows\n",
      "\n"
     ]
    },
    {
     "name": "stderr",
     "output_type": "stream",
     "text": [
      "                                                                                \r"
     ]
    }
   ],
   "source": [
    "runners.show()"
   ]
  },
  {
   "cell_type": "code",
   "execution_count": 22,
   "metadata": {},
   "outputs": [],
   "source": [
    "# https://www.researchgate.net/publication/351844751_Sonic_Thunder_vs_Brian_the_Snail_Are_people_affected_by_uninformative_racehorse_names\n",
    "fast_names = [\n",
    "    'a mile a minute', 'helter-skelter', 'quick-fire',\n",
    "    'apace', 'high-speed quickly',\n",
    "    'as fast as your legs would carry you',\n",
    "    'hot', 'quickness',\n",
    "    'as if it is going out of style', 'hotfoot', 'rapid',\n",
    "    'at a rate of knots', 'hustle', 'rapid-fire',\n",
    "    'at full pelt', 'in the twinkling of an eye',\n",
    "    'rate',\n",
    "    'at full speed', 'Jack Robinson', 'say',\n",
    "    'at full tilt', 'lick', 'shot',\n",
    "    'at full tilt', 'lickety-split', 'smartly',\n",
    "    'before you can say Jack Robinson', 'lightning', 'souped-up',\n",
    "    'blistering', 'like a shot', 'spanking',\n",
    "    'breakneck' 'like a streak of lightning', 'speed',\n",
    "    'brisk' 'like lightning spread', 'like wildfire',\n",
    "    'chop-chop', 'meteoric', 'streak',\n",
    "    'crash', 'mile', 'style',\n",
    "    'express', 'nimble', 'superfast',\n",
    "    'fast', 'nimbleness', 'supersonic',\n",
    "\n",
    "    'fleet', 'nimbly', 'swift',\n",
    "    'full', 'nippy', 'swiftly',\n",
    "    'full steam ahead', 'pdq', 'thick',\n",
    "    'gallop', 'pell-mell', 'thick and fast',\n",
    "    'galloping', 'poky', 'tilt',\n",
    "    'go like hot cakes', 'posthaste', 'top',\n",
    "    'have a heavy foot', 'precipitous', 'twinkling',\n",
    "    'headlong', 'precipitously', 'whoosh',\n",
    "    'heavy', 'prompt', 'wildfire',\n",
    "    'hell', 'promptly', 'zippy',\n",
    "    'hell for leather', 'quick',\n",
    "\n",
    "\n",
    "    'accelerated', 'high-speed', 'pell-mell',\n",
    "    'at full speed', 'hurried', 'post-haste',\n",
    "    'at full tilt', 'hurriedly', 'quick',\n",
    "    'at speed', 'in a flash', 'quickly',\n",
    "    'at the speed of light', 'in a hurry', 'rapid',\n",
    "    'blistering', 'in a trice', 'rapidly',\n",
    "    'breakneck', 'in a wink', 'smart',\n",
    "    'brisk', 'in haste', 'speedily',\n",
    "    'briskly', 'in time', 'speedy',\n",
    "    'energetically', 'in no time at all', 'sporty',\n",
    "    'expeditious', 'in the blink of an eye', 'sprightly',\n",
    "    'expeditiously', 'like a flash', 'swift',\n",
    "    'express', 'like a shot', 'swiftly',\n",
    "    'fast', 'like an arrow from a bow', 'turbo',\n",
    "    'fast-moving', 'lively', 'unhesitating',\n",
    "    'fleet-footed', 'meteoric', 'whirlwind',\n",
    "    'flying', 'nimble', 'with all haste',\n",
    "    'hastily', 'on the double', 'with dispatch',\n",
    "    'hasty', 'pell-mell', 'without delay',\n",
    "\n",
    "    'acceleration', 'haste', 'scutter',\n",
    "    'alacrity', 'hasten', 'sharpness',\n",
    "    'blast', 'hurriedness', 'shoot',\n",
    "    'bolt', 'hurry', 'spank along',\n",
    "    'bowl along', 'hurry', 'speed',\n",
    "    'briskness', 'hurtle', 'speediness',\n",
    "    'career', 'immediacy', 'sprint',\n",
    "    'celerity', 'momentum', 'stampede',\n",
    "    'charge', 'pace', 'streak',\n",
    "    'dart', 'precipitateness', 'sweep',\n",
    "    'dash', 'promptness', 'swiftness',\n",
    "    'dispatch', 'quickness', 'swoop',\n",
    "    'expedition', 'race', 'tempo',\n",
    "    'expeditiousness', 'rapidity', 'uzz',\n",
    "    'fastness', 'rate', 'velocity',\n",
    "    'flash', 'rattle along', 'whirl',\n",
    "    'fly', 'run', 'whizz',\n",
    "    'gallop', 'rush', 'whoosh',\n",
    "    'go hell for leather', 'scramble', 'wing',\n",
    "    'go like lightning', 'scud', 'zoom',\n",
    "    'hare', 'scurry',\n",
    "\n",
    "    'abrupt', 'impetuous', 'rushed',\n",
    "    'agility', 'outrun', 'scramble',\n",
    "    'dash', 'overhasty', 'speed',\n",
    "    'disconcerted', 'overrun', 'speedily',\n",
    "    'dodge', 'promptly', 'speedy',\n",
    "    'haste', 'quick', 'sudden',\n",
    "    'hastily', 'quickly', 'suddenly',\n",
    "    'hurried', 'rapid', 'swift',\n",
    "    'hurriedly', 'rapidly', 'swiftly',\n",
    "    'hurry', 'rush', 'zoom',\n",
    "\n",
    "    'accelerate', 'haste', 'race',\n",
    "    'acceleration', 'hasten', 'rapidity',\n",
    "    'agility', 'hie', 'rush',\n",
    "    'airspeed', 'hurriedly', 'speedy',\n",
    "    'celerity', 'hurry', 'stronghold',\n",
    "    'dash', 'pace', 'swift',\n",
    "    'decelerate', 'quick', 'swiftness',\n",
    "    'expedite', 'quicken', 'tempo',\n",
    "    'fast', 'quickly', 'urgently',\n",
    "    'fastness', 'quickness', 'velocity',\n",
    "\n",
    "    'Apache', 'Bentley', 'Blustery',\n",
    "    'Bullet', 'Buzz', 'Comet',\n",
    "    ',Cougar', ',Falcon', 'Faster',\n",
    "    'Flash', 'Ghost', 'rider', 'Harley',\n",
    "    'Jet', 'Jump', 'Jumping',\n",
    "    'Miles', 'Mustang', 'Pony express',\n",
    "    'Quick', 'Quicky', 'Racer',\n",
    "    'Rapid', 'Rapide', 'Rocket',\n",
    "    'Sonic', 'Speedy', 'Taz',\n",
    "    'Tornado', 'Traveler', 'Wildfire',\n",
    "    'Voyager', 'Wild', 'Velocity', \n",
    "\n",
    "    'Sonic Power', 'Speed Dragon', 'Zippy Lad', 'Lightening Vault',\n",
    "    'Powerful Jet', 'Orbit Express', 'Swift Chap', 'Blazing Tempo',\n",
    "    'Brave Falcon', 'Rush Now', 'Top Magic', 'Dixie Flyer',\n",
    "    'Esprit De Bullet', 'Strike Fast', 'Hustle Hard', 'Diamond Rush',\n",
    "    'Crown Me Fast', 'Hot Seat', 'Top Gear', 'Bright Bullet',\n",
    "    'Quick Art', 'Rush Of Blood', 'Top Boy', 'Meteoric',\n",
    "    'Moments',\n",
    "    'One Wild Guy', 'Sonic Thunder', 'Grand Gallop', 'Zippy Speed',\n",
    "    'Run for Roses', 'Saratoga',\n",
    "    'Wildcat',\n",
    "    'Quick Beers', 'Sudden Rush',\n",
    "    'Flyingwithoutwings', 'Fast On', 'Dazzlem Quick', 'You Drive I Fly',\n",
    "    'Irish Rocket', 'Hot Sauce', 'Mighty Flying', 'frost'\n",
    "]"
   ]
  },
  {
   "cell_type": "code",
   "execution_count": 23,
   "metadata": {},
   "outputs": [],
   "source": [
    "for i in range(len(fast_names)):\n",
    "    fast_names[i] = fast_names[i].lower()"
   ]
  },
  {
   "cell_type": "code",
   "execution_count": 24,
   "metadata": {},
   "outputs": [],
   "source": [
    "runners = runners.filter(runners.runner_status!='REMOVED')"
   ]
  },
  {
   "cell_type": "code",
   "execution_count": 25,
   "metadata": {},
   "outputs": [
    {
     "name": "stdout",
     "output_type": "stream",
     "text": [
      "+--------------+--------------+-----------+---------------+--------+-------------------+---------+------------------+-------------+--------------------+\n",
      "|operation_type|published_time|  market_id|    market_name|event_id|         event_name|runner_id|       runner_name|runner_status|runner_sort_priority|\n",
      "+--------------+--------------+-----------+---------------+--------+-------------------+---------+------------------+-------------+--------------------+\n",
      "|           mcm| 1462501034557|1.124659130|     R8 1m Allw|27784588|EvangD (US) 5th May| 10575249|       Bitsys Half|        LOSER|                   5|\n",
      "|           mcm| 1462501034557|1.124659130|     R8 1m Allw|27784588|EvangD (US) 5th May| 10288198|         Blue Code|        LOSER|                   6|\n",
      "|           mcm| 1462501034557|1.124659130|     R8 1m Allw|27784588|EvangD (US) 5th May| 10116126|            Zartan|        LOSER|                   7|\n",
      "|           mcm| 1462501034557|1.124659130|     R8 1m Allw|27784588|EvangD (US) 5th May| 10221428|         Old Conch|        LOSER|                   8|\n",
      "|           mcm| 1462501034557|1.124659130|     R8 1m Allw|27784588|EvangD (US) 5th May| 10150151|Rose Needs A Check|        LOSER|                   9|\n",
      "|           mcm| 1462501034557|1.124659130|     R8 1m Allw|27784588|EvangD (US) 5th May| 10237987|           Make Do|        LOSER|                  10|\n",
      "|           mcm| 1462501034557|1.124659130|     R8 1m Allw|27784588|EvangD (US) 5th May| 10674850|      Cajun Kitten|        LOSER|                  11|\n",
      "|           mcm| 1462501034557|1.124659130|     R8 1m Allw|27784588|EvangD (US) 5th May| 10550376|       Dr. Zipcity|       WINNER|                  12|\n",
      "|           mcm| 1462501034557|1.124659130|     R8 1m Allw|27784588|EvangD (US) 5th May| 10849769|     Goforthegreen|        LOSER|                  13|\n",
      "|           mcm| 1462501034557|1.124659130|     R8 1m Allw|27784588|EvangD (US) 5th May| 10762541|       Specialeyes|        LOSER|                  14|\n",
      "|           mcm| 1462502535129|1.124659133|R9 7f Mdn Claim|27784588|EvangD (US) 5th May| 10175250|           Cabildo|        LOSER|                   1|\n",
      "|           mcm| 1462502535129|1.124659133|R9 7f Mdn Claim|27784588|EvangD (US) 5th May| 10592064|      Point Secret|        LOSER|                   2|\n",
      "|           mcm| 1462502535129|1.124659133|R9 7f Mdn Claim|27784588|EvangD (US) 5th May|  9111702|       Lip Service|       WINNER|                   3|\n",
      "|           mcm| 1462502535129|1.124659133|R9 7f Mdn Claim|27784588|EvangD (US) 5th May| 10154653|         Warlander|        LOSER|                   4|\n",
      "|           mcm| 1462502535129|1.124659133|R9 7f Mdn Claim|27784588|EvangD (US) 5th May| 10059993|    Cowboy Classic|        LOSER|                   5|\n",
      "|           mcm| 1462502535129|1.124659133|R9 7f Mdn Claim|27784588|EvangD (US) 5th May| 10681528|    Dry Wood Creek|        LOSER|                   6|\n",
      "|           mcm| 1462502535129|1.124659133|R9 7f Mdn Claim|27784588|EvangD (US) 5th May| 10804072|              Eppy|        LOSER|                   7|\n",
      "|           mcm| 1462502535129|1.124659133|R9 7f Mdn Claim|27784588|EvangD (US) 5th May| 10882521|     Ball And Pins|        LOSER|                   8|\n",
      "|           mcm| 1462495994956|1.124659121|    R5 6f Claim|27784588|EvangD (US) 5th May| 10102626|       Philli Four|        LOSER|                   1|\n",
      "|           mcm| 1462495994956|1.124659121|    R5 6f Claim|27784588|EvangD (US) 5th May| 10134313|    Lydgate Affair|        LOSER|                   2|\n",
      "+--------------+--------------+-----------+---------------+--------+-------------------+---------+------------------+-------------+--------------------+\n",
      "only showing top 20 rows\n",
      "\n"
     ]
    }
   ],
   "source": [
    "runners.show()"
   ]
  },
  {
   "cell_type": "code",
   "execution_count": 26,
   "metadata": {},
   "outputs": [],
   "source": [
    "from pyspark.sql.functions import udf\n",
    "from pyspark.sql.types import BooleanType, StringType, DoubleType"
   ]
  },
  {
   "cell_type": "code",
   "execution_count": 27,
   "metadata": {},
   "outputs": [],
   "source": [
    "@udf(BooleanType())\n",
    "def is_fast(name):\n",
    "    if name is None:\n",
    "        return False\n",
    "    name = name.lower()\n",
    "    for s in fast_names:\n",
    "        if s in name:\n",
    "            return True\n",
    "    return False"
   ]
  },
  {
   "cell_type": "code",
   "execution_count": 28,
   "metadata": {},
   "outputs": [],
   "source": [
    "from pyspark.sql.functions import lit, col"
   ]
  },
  {
   "cell_type": "code",
   "execution_count": 29,
   "metadata": {},
   "outputs": [],
   "source": [
    "runners_fast = runners.withColumn('is_fast_horse',  is_fast(runners.runner_name))"
   ]
  },
  {
   "cell_type": "code",
   "execution_count": 30,
   "metadata": {},
   "outputs": [
    {
     "data": {
      "text/plain": [
       "[('operation_type', 'string'),\n",
       " ('published_time', 'bigint'),\n",
       " ('market_id', 'string'),\n",
       " ('market_name', 'string'),\n",
       " ('event_id', 'string'),\n",
       " ('event_name', 'string'),\n",
       " ('runner_id', 'int'),\n",
       " ('runner_name', 'string'),\n",
       " ('runner_status', 'string'),\n",
       " ('runner_sort_priority', 'int'),\n",
       " ('is_fast_horse', 'boolean')]"
      ]
     },
     "execution_count": 30,
     "metadata": {},
     "output_type": "execute_result"
    }
   ],
   "source": [
    "runners_fast.dtypes"
   ]
  },
  {
   "cell_type": "code",
   "execution_count": 31,
   "metadata": {},
   "outputs": [
    {
     "name": "stderr",
     "output_type": "stream",
     "text": [
      "[Stage 5:>                                                          (0 + 1) / 1]\r"
     ]
    },
    {
     "name": "stdout",
     "output_type": "stream",
     "text": [
      "+--------------+--------------+-----------+---------------+--------+-------------------+---------+------------------+-------------+--------------------+-------------+\n",
      "|operation_type|published_time|  market_id|    market_name|event_id|         event_name|runner_id|       runner_name|runner_status|runner_sort_priority|is_fast_horse|\n",
      "+--------------+--------------+-----------+---------------+--------+-------------------+---------+------------------+-------------+--------------------+-------------+\n",
      "|           mcm| 1462501034557|1.124659130|     R8 1m Allw|27784588|EvangD (US) 5th May| 10575249|       Bitsys Half|        LOSER|                   5|        false|\n",
      "|           mcm| 1462501034557|1.124659130|     R8 1m Allw|27784588|EvangD (US) 5th May| 10288198|         Blue Code|        LOSER|                   6|        false|\n",
      "|           mcm| 1462501034557|1.124659130|     R8 1m Allw|27784588|EvangD (US) 5th May| 10116126|            Zartan|        LOSER|                   7|        false|\n",
      "|           mcm| 1462501034557|1.124659130|     R8 1m Allw|27784588|EvangD (US) 5th May| 10221428|         Old Conch|        LOSER|                   8|        false|\n",
      "|           mcm| 1462501034557|1.124659130|     R8 1m Allw|27784588|EvangD (US) 5th May| 10150151|Rose Needs A Check|        LOSER|                   9|        false|\n",
      "|           mcm| 1462501034557|1.124659130|     R8 1m Allw|27784588|EvangD (US) 5th May| 10237987|           Make Do|        LOSER|                  10|        false|\n",
      "|           mcm| 1462501034557|1.124659130|     R8 1m Allw|27784588|EvangD (US) 5th May| 10674850|      Cajun Kitten|        LOSER|                  11|        false|\n",
      "|           mcm| 1462501034557|1.124659130|     R8 1m Allw|27784588|EvangD (US) 5th May| 10550376|       Dr. Zipcity|       WINNER|                  12|        false|\n",
      "|           mcm| 1462501034557|1.124659130|     R8 1m Allw|27784588|EvangD (US) 5th May| 10849769|     Goforthegreen|        LOSER|                  13|        false|\n",
      "|           mcm| 1462501034557|1.124659130|     R8 1m Allw|27784588|EvangD (US) 5th May| 10762541|       Specialeyes|        LOSER|                  14|        false|\n",
      "|           mcm| 1462502535129|1.124659133|R9 7f Mdn Claim|27784588|EvangD (US) 5th May| 10175250|           Cabildo|        LOSER|                   1|        false|\n",
      "|           mcm| 1462502535129|1.124659133|R9 7f Mdn Claim|27784588|EvangD (US) 5th May| 10592064|      Point Secret|        LOSER|                   2|        false|\n",
      "|           mcm| 1462502535129|1.124659133|R9 7f Mdn Claim|27784588|EvangD (US) 5th May|  9111702|       Lip Service|       WINNER|                   3|        false|\n",
      "|           mcm| 1462502535129|1.124659133|R9 7f Mdn Claim|27784588|EvangD (US) 5th May| 10154653|         Warlander|        LOSER|                   4|        false|\n",
      "|           mcm| 1462502535129|1.124659133|R9 7f Mdn Claim|27784588|EvangD (US) 5th May| 10059993|    Cowboy Classic|        LOSER|                   5|        false|\n",
      "|           mcm| 1462502535129|1.124659133|R9 7f Mdn Claim|27784588|EvangD (US) 5th May| 10681528|    Dry Wood Creek|        LOSER|                   6|        false|\n",
      "|           mcm| 1462502535129|1.124659133|R9 7f Mdn Claim|27784588|EvangD (US) 5th May| 10804072|              Eppy|        LOSER|                   7|        false|\n",
      "|           mcm| 1462502535129|1.124659133|R9 7f Mdn Claim|27784588|EvangD (US) 5th May| 10882521|     Ball And Pins|        LOSER|                   8|        false|\n",
      "|           mcm| 1462495994956|1.124659121|    R5 6f Claim|27784588|EvangD (US) 5th May| 10102626|       Philli Four|        LOSER|                   1|        false|\n",
      "|           mcm| 1462495994956|1.124659121|    R5 6f Claim|27784588|EvangD (US) 5th May| 10134313|    Lydgate Affair|        LOSER|                   2|        false|\n",
      "+--------------+--------------+-----------+---------------+--------+-------------------+---------+------------------+-------------+--------------------+-------------+\n",
      "only showing top 20 rows\n",
      "\n"
     ]
    },
    {
     "name": "stderr",
     "output_type": "stream",
     "text": [
      "                                                                                \r"
     ]
    }
   ],
   "source": [
    "runners_fast.show()"
   ]
  },
  {
   "cell_type": "code",
   "execution_count": 32,
   "metadata": {},
   "outputs": [],
   "source": [
    "runners_fast_only = runners_fast"
   ]
  },
  {
   "cell_type": "code",
   "execution_count": 33,
   "metadata": {},
   "outputs": [],
   "source": [
    "runners_fast_only = runners_fast.filter(runners_fast.is_fast_horse=='true')"
   ]
  },
  {
   "cell_type": "code",
   "execution_count": 34,
   "metadata": {},
   "outputs": [
    {
     "name": "stderr",
     "output_type": "stream",
     "text": [
      "[Stage 6:>                                                          (0 + 1) / 1]\r"
     ]
    },
    {
     "name": "stdout",
     "output_type": "stream",
     "text": [
      "+--------------+--------------+-----------+---------------+--------+-------------------+---------+------------------+-------------+--------------------+-------------+\n",
      "|operation_type|published_time|  market_id|    market_name|event_id|         event_name|runner_id|       runner_name|runner_status|runner_sort_priority|is_fast_horse|\n",
      "+--------------+--------------+-----------+---------------+--------+-------------------+---------+------------------+-------------+--------------------+-------------+\n",
      "|           mcm| 1462495994956|1.124659121|    R5 6f Claim|27784588|EvangD (US) 5th May| 10116132|      Als Wild Cat|        LOSER|                   3|         true|\n",
      "|           mcm| 1462492394718|1.124659115|R3 5f Mdn Claim|27784588|EvangD (US) 5th May| 11133644|       Smart Heath|        LOSER|                   4|         true|\n",
      "|           mcm| 1462494555563|1.124659118|    R4 7f Claim|27784588|EvangD (US) 5th May| 10059691|Run Mardi Gras Run|        LOSER|                   2|         true|\n",
      "|           mcm| 1462494555563|1.124659118|    R4 7f Claim|27784588|EvangD (US) 5th May| 10846299|      Wild Mimosas|        LOSER|                   3|         true|\n",
      "|           mcm| 1462494555563|1.124659118|    R4 7f Claim|27784588|EvangD (US) 5th May| 10150152|     Wildlee Funny|        LOSER|                  11|         true|\n",
      "|           mcm| 1462495994956|1.124659121|    R5 6f Claim|27784588|EvangD (US) 5th May| 10116132|      Als Wild Cat|        LOSER|                   3|         true|\n",
      "|           mcm| 1462497869255|1.124659124|    R6 1m Claim|27784588|EvangD (US) 5th May| 10679436| Silver Rocket Man|        LOSER|                   6|         true|\n",
      "|           mcm| 1462497869255|1.124659124|    R6 1m Claim|27784588|EvangD (US) 5th May|  9991336| Boogiehill Hustle|        LOSER|                   7|         true|\n",
      "|           mcm| 1462499295163|1.124659127|    R7 6f Claim|27784588|EvangD (US) 5th May|  6236917|    Fleeting Image|        LOSER|                   4|         true|\n",
      "|           mcm| 1462492394718|1.124659115|R3 5f Mdn Claim|27784588|EvangD (US) 5th May| 11133644|       Smart Heath|        LOSER|                   4|         true|\n",
      "|           mcm| 1462494555563|1.124659118|    R4 7f Claim|27784588|EvangD (US) 5th May| 10059691|Run Mardi Gras Run|        LOSER|                   2|         true|\n",
      "|           mcm| 1462494555563|1.124659118|    R4 7f Claim|27784588|EvangD (US) 5th May| 10846299|      Wild Mimosas|        LOSER|                   3|         true|\n",
      "|           mcm| 1462494555563|1.124659118|    R4 7f Claim|27784588|EvangD (US) 5th May| 10150152|     Wildlee Funny|        LOSER|                  11|         true|\n",
      "|           mcm| 1462499295163|1.124659127|    R7 6f Claim|27784588|EvangD (US) 5th May|  6236917|    Fleeting Image|        LOSER|                   4|         true|\n",
      "|           mcm| 1462497869255|1.124659124|    R6 1m Claim|27784588|EvangD (US) 5th May| 10679436| Silver Rocket Man|        LOSER|                   6|         true|\n",
      "|           mcm| 1462497869255|1.124659124|    R6 1m Claim|27784588|EvangD (US) 5th May|  9991336| Boogiehill Hustle|        LOSER|                   7|         true|\n",
      "|           mcm| 1462539733136|1.124664265|   2m4f Nov Hrd|27785230|      MrktR 6th May|  8977684| Lettheriverrundry|        LOSER|                   2|         true|\n",
      "|           mcm| 1462539733136|1.124664265|   2m4f Nov Hrd|27785230|      MrktR 6th May|  8079324|          Rushvale|        LOSER|                   6|         true|\n",
      "|           mcm| 1462551124888|1.124664295|         2m NHF|27785230|      MrktR 6th May| 11137663|     Saint Cajetan|        LOSER|                   4|         true|\n",
      "|           mcm| 1462539733136|1.124664265|   2m4f Nov Hrd|27785230|      MrktR 6th May|  8977684| Lettheriverrundry|        LOSER|                   2|         true|\n",
      "+--------------+--------------+-----------+---------------+--------+-------------------+---------+------------------+-------------+--------------------+-------------+\n",
      "only showing top 20 rows\n",
      "\n"
     ]
    },
    {
     "name": "stderr",
     "output_type": "stream",
     "text": [
      "                                                                                \r"
     ]
    }
   ],
   "source": [
    "runners_fast_only.show()"
   ]
  },
  {
   "cell_type": "code",
   "execution_count": 35,
   "metadata": {},
   "outputs": [],
   "source": [
    "runners_fast_only_win = runners_fast_only.filter(runners_fast_only.runner_status=='WINNER')"
   ]
  },
  {
   "cell_type": "code",
   "execution_count": 36,
   "metadata": {},
   "outputs": [
    {
     "name": "stderr",
     "output_type": "stream",
     "text": [
      "[Stage 8:>                                                          (0 + 1) / 1]\r"
     ]
    },
    {
     "name": "stdout",
     "output_type": "stream",
     "text": [
      "+--------------+--------------+-----------+------------------+--------+--------------------+---------+----------------+-------------+--------------------+-------------+\n",
      "|operation_type|published_time|  market_id|       market_name|event_id|          event_name|runner_id|     runner_name|runner_status|runner_sort_priority|is_fast_horse|\n",
      "+--------------+--------------+-----------+------------------+--------+--------------------+---------+----------------+-------------+--------------------+-------------+\n",
      "|           mcm| 1462549406066|1.124660844|           7f Hcap|27785040|        Ling 6th May|  4776418|       Space War|       WINNER|                   5|         true|\n",
      "|           mcm| 1462549406066|1.124660844|           7f Hcap|27785040|        Ling 6th May|  4776418|       Space War|       WINNER|                   5|         true|\n",
      "|           mcm| 1462487628442|1.124659140|       R2 1m Claim|27784591|   Penn (US) 5th May|  9979505|Wild Imagination|       WINNER|                   2|         true|\n",
      "|           mcm| 1462492820738|1.124659149|  R5 6f Allw Claim|27784591|   Penn (US) 5th May| 10367036|      Chief Lion|       WINNER|                   6|         true|\n",
      "|           mcm| 1462492820738|1.124659149|  R5 6f Allw Claim|27784591|   Penn (US) 5th May| 10367036|      Chief Lion|       WINNER|                   6|         true|\n",
      "|           mcm| 1462487628442|1.124659140|       R2 1m Claim|27784591|   Penn (US) 5th May|  9979505|Wild Imagination|       WINNER|                   2|         true|\n",
      "|           mcm| 1462566534735|1.124689833|         R7 7f Mdn|27786142|  Woodb (US) 6th May| 10398259|     Rocket Plan|       WINNER|                   2|         true|\n",
      "|           mcm| 1462568461762|1.124689836|R8 1m1f Allw Claim|27786142|  Woodb (US) 6th May|  9993030|        Hot Kiss|       WINNER|                   7|         true|\n",
      "|           mcm| 1462566534735|1.124689833|         R7 7f Mdn|27786142|  Woodb (US) 6th May| 10398259|     Rocket Plan|       WINNER|                   2|         true|\n",
      "|           mcm| 1462568461762|1.124689836|R8 1m1f Allw Claim|27786142|  Woodb (US) 6th May|  9993030|        Hot Kiss|       WINNER|                   7|         true|\n",
      "|           mcm| 1462541867200|1.124654246| 1600m 4yo+ Listed|27784315| Chant (FRA) 6th May|  9382369|       2. Sayana|       WINNER|                   7|         true|\n",
      "|           mcm| 1462541867200|1.124654246| 1600m 4yo+ Listed|27784315| Chant (FRA) 6th May|  9382369|       2. Sayana|       WINNER|                   7|         true|\n",
      "|           mcm| 1462544323081|1.124649425|         1m5f Grp3|27783894|       Chest 6th May|  8787781|       Dartmouth|       WINNER|                   3|         true|\n",
      "|           mcm| 1462544323081|1.124649425|         1m5f Grp3|27783894|       Chest 6th May|  8787781|       Dartmouth|       WINNER|                   3|         true|\n",
      "|           mcm| 1462653595524|1.124714894|       R2 6f Claim|27787686|Emerald (US) 7th May| 10097089|    Sophie Dopey|       WINNER|                   3|         true|\n",
      "|           mcm| 1462653595524|1.124714894|       R2 6f Claim|27787686|Emerald (US) 7th May| 10097089|    Sophie Dopey|       WINNER|                   3|         true|\n",
      "|           mcm| 1462672355616|1.124715150|       R7 1m Claim|27787689| EvangD (US) 7th May| 10116145| Moment Of Grace|       WINNER|                   8|         true|\n",
      "|           mcm| 1462672355616|1.124715150|       R7 1m Claim|27787689| EvangD (US) 7th May| 10116145| Moment Of Grace|       WINNER|                   8|         true|\n",
      "|           mcm| 1462715272795|1.124735343| 1600m 4yo+ Listed|27788515|   Col (GER) 8th May| 11149698|     8. Wildpark|       WINNER|                   3|         true|\n",
      "|           mcm| 1462715272795|1.124735343| 1600m 4yo+ Listed|27788515|   Col (GER) 8th May| 11149698|     8. Wildpark|       WINNER|                   3|         true|\n",
      "+--------------+--------------+-----------+------------------+--------+--------------------+---------+----------------+-------------+--------------------+-------------+\n",
      "only showing top 20 rows\n",
      "\n"
     ]
    },
    {
     "name": "stderr",
     "output_type": "stream",
     "text": [
      "                                                                                \r"
     ]
    }
   ],
   "source": [
    "runners_fast_only_win.show()"
   ]
  },
  {
   "cell_type": "code",
   "execution_count": null,
   "metadata": {},
   "outputs": [],
   "source": []
  }
 ],
 "metadata": {
  "kernelspec": {
   "display_name": "python37",
   "language": "python",
   "name": "python37"
  },
  "language_info": {
   "codemirror_mode": {
    "name": "ipython",
    "version": 3
   },
   "file_extension": ".py",
   "mimetype": "text/x-python",
   "name": "python",
   "nbconvert_exporter": "python",
   "pygments_lexer": "ipython3",
   "version": "3.7.7"
  }
 },
 "nbformat": 4,
 "nbformat_minor": 4
}
