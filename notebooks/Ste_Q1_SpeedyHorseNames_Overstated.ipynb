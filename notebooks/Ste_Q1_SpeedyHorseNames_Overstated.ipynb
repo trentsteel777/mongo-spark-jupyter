{
 "cells": [
  {
   "cell_type": "code",
   "execution_count": 101,
   "metadata": {},
   "outputs": [
    {
     "name": "stdout",
     "output_type": "stream",
     "text": [
      "Python 3.7.7\n"
     ]
    }
   ],
   "source": [
    "!python --version"
   ]
  },
  {
   "cell_type": "code",
   "execution_count": 102,
   "metadata": {},
   "outputs": [],
   "source": [
    "#https://stackoverflow.com/questions/53457975/pyspark-udf-function-error-in-lambda-function\n",
    "import os\n",
    "os.environ['OBJC_DISABLE_INITIALIZE_FORK_SAFETY'] = 'YES'"
   ]
  },
  {
   "cell_type": "code",
   "execution_count": 103,
   "metadata": {},
   "outputs": [],
   "source": [
    "from pyspark.sql import SparkSession\n",
    "# https://spark.apache.org/docs/latest/job-scheduling.html\n",
    "spark = SparkSession.\\\n",
    "        builder.\\\n",
    "        appName(\"pyspark-notebook2-ste\").\\\n",
    "        master(\"spark://spark-master:7077\").\\\n",
    "        config(\"spark.executor.memory\", \"7g\").\\\n",
    "        config(\"spark.cores.max\", \"3\").\\\n",
    "        config(\"spark.executor.instances\", \"1\").\\\n",
    "        config(\"spark.executor.cores\", \"3\").\\\n",
    "        config(\"spark.mongodb.input.uri\",\"mongodb://mongo1:27017,mongo2:27018,mongo3:27019/database.horses_collection?replicaSet=rs0\").\\\n",
    "        config(\"spark.mongodb.output.uri\",\"mongodb://mongo1:27017,mongo2:27018,mongo3:27019/database.horses_collection?replicaSet=rs0\").\\\n",
    "        config(\"spark.jars.packages\", \"org.mongodb.spark:mongo-spark-connector_2.12:3.0.0\").\\\n",
    "        getOrCreate()\n"
   ]
  },
  {
   "cell_type": "code",
   "execution_count": 104,
   "metadata": {},
   "outputs": [
    {
     "data": {
      "text/plain": [
       "'default'"
      ]
     },
     "execution_count": 104,
     "metadata": {},
     "output_type": "execute_result"
    }
   ],
   "source": [
    "spark.catalog.currentDatabase()"
   ]
  },
  {
   "cell_type": "code",
   "execution_count": 105,
   "metadata": {},
   "outputs": [
    {
     "ename": "Py4JJavaError",
     "evalue": "An error occurred while calling o667.load.\n: java.lang.IllegalStateException: Cannot call methods on a stopped SparkContext.\nThis stopped SparkContext was created at:\n\norg.apache.spark.api.java.JavaSparkContext.<init>(JavaSparkContext.scala:58)\njava.base/jdk.internal.reflect.NativeConstructorAccessorImpl.newInstance0(Native Method)\njava.base/jdk.internal.reflect.NativeConstructorAccessorImpl.newInstance(NativeConstructorAccessorImpl.java:62)\njava.base/jdk.internal.reflect.DelegatingConstructorAccessorImpl.newInstance(DelegatingConstructorAccessorImpl.java:45)\njava.base/java.lang.reflect.Constructor.newInstance(Constructor.java:490)\npy4j.reflection.MethodInvoker.invoke(MethodInvoker.java:247)\npy4j.reflection.ReflectionEngine.invoke(ReflectionEngine.java:357)\npy4j.Gateway.invoke(Gateway.java:238)\npy4j.commands.ConstructorCommand.invokeConstructor(ConstructorCommand.java:80)\npy4j.commands.ConstructorCommand.execute(ConstructorCommand.java:69)\npy4j.GatewayConnection.run(GatewayConnection.java:238)\njava.base/java.lang.Thread.run(Thread.java:834)\n\nThe currently active SparkContext was created at:\n\n(No active SparkContext.)\n         \n\tat org.apache.spark.SparkContext.assertNotStopped(SparkContext.scala:111)\n\tat org.apache.spark.SparkContext.broadcast(SparkContext.scala:1471)\n\tat com.mongodb.spark.MongoSpark.rdd(MongoSpark.scala:542)\n\tat com.mongodb.spark.MongoSpark.toRDD(MongoSpark.scala:554)\n\tat com.mongodb.spark.sql.DefaultSource.constructRelation(DefaultSource.scala:93)\n\tat com.mongodb.spark.sql.DefaultSource.createRelation(DefaultSource.scala:50)\n\tat org.apache.spark.sql.execution.datasources.DataSource.resolveRelation(DataSource.scala:339)\n\tat org.apache.spark.sql.DataFrameReader.loadV1Source(DataFrameReader.scala:279)\n\tat org.apache.spark.sql.DataFrameReader.$anonfun$load$2(DataFrameReader.scala:268)\n\tat scala.Option.getOrElse(Option.scala:189)\n\tat org.apache.spark.sql.DataFrameReader.load(DataFrameReader.scala:268)\n\tat org.apache.spark.sql.DataFrameReader.load(DataFrameReader.scala:203)\n\tat java.base/jdk.internal.reflect.NativeMethodAccessorImpl.invoke0(Native Method)\n\tat java.base/jdk.internal.reflect.NativeMethodAccessorImpl.invoke(NativeMethodAccessorImpl.java:62)\n\tat java.base/jdk.internal.reflect.DelegatingMethodAccessorImpl.invoke(DelegatingMethodAccessorImpl.java:43)\n\tat java.base/java.lang.reflect.Method.invoke(Method.java:566)\n\tat py4j.reflection.MethodInvoker.invoke(MethodInvoker.java:244)\n\tat py4j.reflection.ReflectionEngine.invoke(ReflectionEngine.java:357)\n\tat py4j.Gateway.invoke(Gateway.java:282)\n\tat py4j.commands.AbstractCommand.invokeMethod(AbstractCommand.java:132)\n\tat py4j.commands.CallCommand.execute(CallCommand.java:79)\n\tat py4j.GatewayConnection.run(GatewayConnection.java:238)\n\tat java.base/java.lang.Thread.run(Thread.java:834)\n",
     "output_type": "error",
     "traceback": [
      "\u001b[0;31m---------------------------------------------------------------------------\u001b[0m",
      "\u001b[0;31mPy4JJavaError\u001b[0m                             Traceback (most recent call last)",
      "\u001b[0;32m/tmp/ipykernel_10178/1880752232.py\u001b[0m in \u001b[0;36m<module>\u001b[0;34m\u001b[0m\n\u001b[1;32m      2\u001b[0m \u001b[0;34m\u001b[0m\u001b[0m\n\u001b[1;32m      3\u001b[0m \u001b[0;31m# sampleSize - https://stackoverflow.com/a/56255303\u001b[0m\u001b[0;34m\u001b[0m\u001b[0;34m\u001b[0m\u001b[0;34m\u001b[0m\u001b[0m\n\u001b[0;32m----> 4\u001b[0;31m \u001b[0mdf\u001b[0m \u001b[0;34m=\u001b[0m \u001b[0mspark\u001b[0m\u001b[0;34m.\u001b[0m\u001b[0mread\u001b[0m\u001b[0;34m.\u001b[0m\u001b[0mformat\u001b[0m\u001b[0;34m(\u001b[0m\u001b[0;34m\"mongo\"\u001b[0m\u001b[0;34m)\u001b[0m\u001b[0;34m.\u001b[0m\u001b[0moption\u001b[0m\u001b[0;34m(\u001b[0m\u001b[0;34m'sampleSize'\u001b[0m\u001b[0;34m,\u001b[0m \u001b[0;36m50000\u001b[0m\u001b[0;34m)\u001b[0m\u001b[0;34m.\u001b[0m\u001b[0mload\u001b[0m\u001b[0;34m(\u001b[0m\u001b[0;34m)\u001b[0m\u001b[0;34m\u001b[0m\u001b[0;34m\u001b[0m\u001b[0m\n\u001b[0m\u001b[1;32m      5\u001b[0m \u001b[0mdf\u001b[0m\u001b[0;34m.\u001b[0m\u001b[0mcreateOrReplaceTempView\u001b[0m\u001b[0;34m(\u001b[0m\u001b[0;34m\"mongo\"\u001b[0m\u001b[0;34m)\u001b[0m\u001b[0;34m\u001b[0m\u001b[0;34m\u001b[0m\u001b[0m\n",
      "\u001b[0;32m/usr/local/spark/python/pyspark/sql/readwriter.py\u001b[0m in \u001b[0;36mload\u001b[0;34m(self, path, format, schema, **options)\u001b[0m\n\u001b[1;32m    182\u001b[0m             \u001b[0;32mreturn\u001b[0m \u001b[0mself\u001b[0m\u001b[0;34m.\u001b[0m\u001b[0m_df\u001b[0m\u001b[0;34m(\u001b[0m\u001b[0mself\u001b[0m\u001b[0;34m.\u001b[0m\u001b[0m_jreader\u001b[0m\u001b[0;34m.\u001b[0m\u001b[0mload\u001b[0m\u001b[0;34m(\u001b[0m\u001b[0mself\u001b[0m\u001b[0;34m.\u001b[0m\u001b[0m_spark\u001b[0m\u001b[0;34m.\u001b[0m\u001b[0m_sc\u001b[0m\u001b[0;34m.\u001b[0m\u001b[0m_jvm\u001b[0m\u001b[0;34m.\u001b[0m\u001b[0mPythonUtils\u001b[0m\u001b[0;34m.\u001b[0m\u001b[0mtoSeq\u001b[0m\u001b[0;34m(\u001b[0m\u001b[0mpath\u001b[0m\u001b[0;34m)\u001b[0m\u001b[0;34m)\u001b[0m\u001b[0;34m)\u001b[0m\u001b[0;34m\u001b[0m\u001b[0;34m\u001b[0m\u001b[0m\n\u001b[1;32m    183\u001b[0m         \u001b[0;32melse\u001b[0m\u001b[0;34m:\u001b[0m\u001b[0;34m\u001b[0m\u001b[0;34m\u001b[0m\u001b[0m\n\u001b[0;32m--> 184\u001b[0;31m             \u001b[0;32mreturn\u001b[0m \u001b[0mself\u001b[0m\u001b[0;34m.\u001b[0m\u001b[0m_df\u001b[0m\u001b[0;34m(\u001b[0m\u001b[0mself\u001b[0m\u001b[0;34m.\u001b[0m\u001b[0m_jreader\u001b[0m\u001b[0;34m.\u001b[0m\u001b[0mload\u001b[0m\u001b[0;34m(\u001b[0m\u001b[0;34m)\u001b[0m\u001b[0;34m)\u001b[0m\u001b[0;34m\u001b[0m\u001b[0;34m\u001b[0m\u001b[0m\n\u001b[0m\u001b[1;32m    185\u001b[0m \u001b[0;34m\u001b[0m\u001b[0m\n\u001b[1;32m    186\u001b[0m     \u001b[0;34m@\u001b[0m\u001b[0msince\u001b[0m\u001b[0;34m(\u001b[0m\u001b[0;36m1.4\u001b[0m\u001b[0;34m)\u001b[0m\u001b[0;34m\u001b[0m\u001b[0;34m\u001b[0m\u001b[0m\n",
      "\u001b[0;32m/usr/local/spark/python/lib/py4j-0.10.9-src.zip/py4j/java_gateway.py\u001b[0m in \u001b[0;36m__call__\u001b[0;34m(self, *args)\u001b[0m\n\u001b[1;32m   1303\u001b[0m         \u001b[0manswer\u001b[0m \u001b[0;34m=\u001b[0m \u001b[0mself\u001b[0m\u001b[0;34m.\u001b[0m\u001b[0mgateway_client\u001b[0m\u001b[0;34m.\u001b[0m\u001b[0msend_command\u001b[0m\u001b[0;34m(\u001b[0m\u001b[0mcommand\u001b[0m\u001b[0;34m)\u001b[0m\u001b[0;34m\u001b[0m\u001b[0;34m\u001b[0m\u001b[0m\n\u001b[1;32m   1304\u001b[0m         return_value = get_return_value(\n\u001b[0;32m-> 1305\u001b[0;31m             answer, self.gateway_client, self.target_id, self.name)\n\u001b[0m\u001b[1;32m   1306\u001b[0m \u001b[0;34m\u001b[0m\u001b[0m\n\u001b[1;32m   1307\u001b[0m         \u001b[0;32mfor\u001b[0m \u001b[0mtemp_arg\u001b[0m \u001b[0;32min\u001b[0m \u001b[0mtemp_args\u001b[0m\u001b[0;34m:\u001b[0m\u001b[0;34m\u001b[0m\u001b[0;34m\u001b[0m\u001b[0m\n",
      "\u001b[0;32m/usr/local/spark/python/pyspark/sql/utils.py\u001b[0m in \u001b[0;36mdeco\u001b[0;34m(*a, **kw)\u001b[0m\n\u001b[1;32m    129\u001b[0m     \u001b[0;32mdef\u001b[0m \u001b[0mdeco\u001b[0m\u001b[0;34m(\u001b[0m\u001b[0;34m*\u001b[0m\u001b[0ma\u001b[0m\u001b[0;34m,\u001b[0m \u001b[0;34m**\u001b[0m\u001b[0mkw\u001b[0m\u001b[0;34m)\u001b[0m\u001b[0;34m:\u001b[0m\u001b[0;34m\u001b[0m\u001b[0;34m\u001b[0m\u001b[0m\n\u001b[1;32m    130\u001b[0m         \u001b[0;32mtry\u001b[0m\u001b[0;34m:\u001b[0m\u001b[0;34m\u001b[0m\u001b[0;34m\u001b[0m\u001b[0m\n\u001b[0;32m--> 131\u001b[0;31m             \u001b[0;32mreturn\u001b[0m \u001b[0mf\u001b[0m\u001b[0;34m(\u001b[0m\u001b[0;34m*\u001b[0m\u001b[0ma\u001b[0m\u001b[0;34m,\u001b[0m \u001b[0;34m**\u001b[0m\u001b[0mkw\u001b[0m\u001b[0;34m)\u001b[0m\u001b[0;34m\u001b[0m\u001b[0;34m\u001b[0m\u001b[0m\n\u001b[0m\u001b[1;32m    132\u001b[0m         \u001b[0;32mexcept\u001b[0m \u001b[0mpy4j\u001b[0m\u001b[0;34m.\u001b[0m\u001b[0mprotocol\u001b[0m\u001b[0;34m.\u001b[0m\u001b[0mPy4JJavaError\u001b[0m \u001b[0;32mas\u001b[0m \u001b[0me\u001b[0m\u001b[0;34m:\u001b[0m\u001b[0;34m\u001b[0m\u001b[0;34m\u001b[0m\u001b[0m\n\u001b[1;32m    133\u001b[0m             \u001b[0mconverted\u001b[0m \u001b[0;34m=\u001b[0m \u001b[0mconvert_exception\u001b[0m\u001b[0;34m(\u001b[0m\u001b[0me\u001b[0m\u001b[0;34m.\u001b[0m\u001b[0mjava_exception\u001b[0m\u001b[0;34m)\u001b[0m\u001b[0;34m\u001b[0m\u001b[0;34m\u001b[0m\u001b[0m\n",
      "\u001b[0;32m/usr/local/spark/python/lib/py4j-0.10.9-src.zip/py4j/protocol.py\u001b[0m in \u001b[0;36mget_return_value\u001b[0;34m(answer, gateway_client, target_id, name)\u001b[0m\n\u001b[1;32m    326\u001b[0m                 raise Py4JJavaError(\n\u001b[1;32m    327\u001b[0m                     \u001b[0;34m\"An error occurred while calling {0}{1}{2}.\\n\"\u001b[0m\u001b[0;34m.\u001b[0m\u001b[0;34m\u001b[0m\u001b[0;34m\u001b[0m\u001b[0m\n\u001b[0;32m--> 328\u001b[0;31m                     format(target_id, \".\", name), value)\n\u001b[0m\u001b[1;32m    329\u001b[0m             \u001b[0;32melse\u001b[0m\u001b[0;34m:\u001b[0m\u001b[0;34m\u001b[0m\u001b[0;34m\u001b[0m\u001b[0m\n\u001b[1;32m    330\u001b[0m                 raise Py4JError(\n",
      "\u001b[0;31mPy4JJavaError\u001b[0m: An error occurred while calling o667.load.\n: java.lang.IllegalStateException: Cannot call methods on a stopped SparkContext.\nThis stopped SparkContext was created at:\n\norg.apache.spark.api.java.JavaSparkContext.<init>(JavaSparkContext.scala:58)\njava.base/jdk.internal.reflect.NativeConstructorAccessorImpl.newInstance0(Native Method)\njava.base/jdk.internal.reflect.NativeConstructorAccessorImpl.newInstance(NativeConstructorAccessorImpl.java:62)\njava.base/jdk.internal.reflect.DelegatingConstructorAccessorImpl.newInstance(DelegatingConstructorAccessorImpl.java:45)\njava.base/java.lang.reflect.Constructor.newInstance(Constructor.java:490)\npy4j.reflection.MethodInvoker.invoke(MethodInvoker.java:247)\npy4j.reflection.ReflectionEngine.invoke(ReflectionEngine.java:357)\npy4j.Gateway.invoke(Gateway.java:238)\npy4j.commands.ConstructorCommand.invokeConstructor(ConstructorCommand.java:80)\npy4j.commands.ConstructorCommand.execute(ConstructorCommand.java:69)\npy4j.GatewayConnection.run(GatewayConnection.java:238)\njava.base/java.lang.Thread.run(Thread.java:834)\n\nThe currently active SparkContext was created at:\n\n(No active SparkContext.)\n         \n\tat org.apache.spark.SparkContext.assertNotStopped(SparkContext.scala:111)\n\tat org.apache.spark.SparkContext.broadcast(SparkContext.scala:1471)\n\tat com.mongodb.spark.MongoSpark.rdd(MongoSpark.scala:542)\n\tat com.mongodb.spark.MongoSpark.toRDD(MongoSpark.scala:554)\n\tat com.mongodb.spark.sql.DefaultSource.constructRelation(DefaultSource.scala:93)\n\tat com.mongodb.spark.sql.DefaultSource.createRelation(DefaultSource.scala:50)\n\tat org.apache.spark.sql.execution.datasources.DataSource.resolveRelation(DataSource.scala:339)\n\tat org.apache.spark.sql.DataFrameReader.loadV1Source(DataFrameReader.scala:279)\n\tat org.apache.spark.sql.DataFrameReader.$anonfun$load$2(DataFrameReader.scala:268)\n\tat scala.Option.getOrElse(Option.scala:189)\n\tat org.apache.spark.sql.DataFrameReader.load(DataFrameReader.scala:268)\n\tat org.apache.spark.sql.DataFrameReader.load(DataFrameReader.scala:203)\n\tat java.base/jdk.internal.reflect.NativeMethodAccessorImpl.invoke0(Native Method)\n\tat java.base/jdk.internal.reflect.NativeMethodAccessorImpl.invoke(NativeMethodAccessorImpl.java:62)\n\tat java.base/jdk.internal.reflect.DelegatingMethodAccessorImpl.invoke(DelegatingMethodAccessorImpl.java:43)\n\tat java.base/java.lang.reflect.Method.invoke(Method.java:566)\n\tat py4j.reflection.MethodInvoker.invoke(MethodInvoker.java:244)\n\tat py4j.reflection.ReflectionEngine.invoke(ReflectionEngine.java:357)\n\tat py4j.Gateway.invoke(Gateway.java:282)\n\tat py4j.commands.AbstractCommand.invokeMethod(AbstractCommand.java:132)\n\tat py4j.commands.CallCommand.execute(CallCommand.java:79)\n\tat py4j.GatewayConnection.run(GatewayConnection.java:238)\n\tat java.base/java.lang.Thread.run(Thread.java:834)\n"
     ]
    }
   ],
   "source": [
    "#reading dataframes from MongoDB\n",
    "\n",
    "# sampleSize - https://stackoverflow.com/a/56255303\n",
    "df = spark.read.format(\"mongo\").option('sampleSize', 50000).load()\n",
    "df.createOrReplaceTempView(\"mongo\")\n"
   ]
  },
  {
   "cell_type": "code",
   "execution_count": 99,
   "metadata": {},
   "outputs": [
    {
     "name": "stdout",
     "output_type": "stream",
     "text": [
      "root\n",
      " |-- _id: struct (nullable = true)\n",
      " |    |-- oid: string (nullable = true)\n",
      " |-- clk: string (nullable = true)\n",
      " |-- mc: array (nullable = true)\n",
      " |    |-- element: struct (containsNull = true)\n",
      " |    |    |-- id: string (nullable = true)\n",
      " |    |    |-- marketDefinition: struct (nullable = true)\n",
      " |    |    |    |-- betDelay: integer (nullable = true)\n",
      " |    |    |    |-- bettingType: string (nullable = true)\n",
      " |    |    |    |-- bspMarket: boolean (nullable = true)\n",
      " |    |    |    |-- bspReconciled: boolean (nullable = true)\n",
      " |    |    |    |-- complete: boolean (nullable = true)\n",
      " |    |    |    |-- countryCode: string (nullable = true)\n",
      " |    |    |    |-- crossMatching: boolean (nullable = true)\n",
      " |    |    |    |-- discountAllowed: boolean (nullable = true)\n",
      " |    |    |    |-- eachWayDivisor: double (nullable = true)\n",
      " |    |    |    |-- eventId: string (nullable = true)\n",
      " |    |    |    |-- eventName: string (nullable = true)\n",
      " |    |    |    |-- eventTypeId: string (nullable = true)\n",
      " |    |    |    |-- inPlay: boolean (nullable = true)\n",
      " |    |    |    |-- marketBaseRate: double (nullable = true)\n",
      " |    |    |    |-- marketTime: string (nullable = true)\n",
      " |    |    |    |-- marketType: string (nullable = true)\n",
      " |    |    |    |-- name: string (nullable = true)\n",
      " |    |    |    |-- numberOfActiveRunners: integer (nullable = true)\n",
      " |    |    |    |-- numberOfWinners: integer (nullable = true)\n",
      " |    |    |    |-- openDate: string (nullable = true)\n",
      " |    |    |    |-- persistenceEnabled: boolean (nullable = true)\n",
      " |    |    |    |-- regulators: array (nullable = true)\n",
      " |    |    |    |    |-- element: string (containsNull = true)\n",
      " |    |    |    |-- runners: array (nullable = true)\n",
      " |    |    |    |    |-- element: struct (containsNull = true)\n",
      " |    |    |    |    |    |-- adjustmentFactor: double (nullable = true)\n",
      " |    |    |    |    |    |-- bsp: string (nullable = true)\n",
      " |    |    |    |    |    |-- id: integer (nullable = true)\n",
      " |    |    |    |    |    |-- name: string (nullable = true)\n",
      " |    |    |    |    |    |-- removalDate: string (nullable = true)\n",
      " |    |    |    |    |    |-- sortPriority: integer (nullable = true)\n",
      " |    |    |    |    |    |-- status: string (nullable = true)\n",
      " |    |    |    |-- runnersVoidable: boolean (nullable = true)\n",
      " |    |    |    |-- settledTime: string (nullable = true)\n",
      " |    |    |    |-- status: string (nullable = true)\n",
      " |    |    |    |-- suspendTime: string (nullable = true)\n",
      " |    |    |    |-- timezone: string (nullable = true)\n",
      " |    |    |    |-- turnInPlayEnabled: boolean (nullable = true)\n",
      " |    |    |    |-- venue: string (nullable = true)\n",
      " |    |    |    |-- version: integer (nullable = true)\n",
      " |    |    |-- rc: array (nullable = true)\n",
      " |    |    |    |-- element: struct (containsNull = true)\n",
      " |    |    |    |    |-- ltp: double (nullable = true)\n",
      " |    |    |    |    |-- id: integer (nullable = true)\n",
      " |-- op: string (nullable = true)\n",
      " |-- pt: long (nullable = true)\n",
      "\n"
     ]
    }
   ],
   "source": [
    "df.printSchema()"
   ]
  },
  {
   "cell_type": "code",
   "execution_count": 100,
   "metadata": {},
   "outputs": [
    {
     "ename": "Py4JJavaError",
     "evalue": "An error occurred while calling o64.showString.\n: java.lang.IllegalStateException: SparkContext has been shutdown\n\tat org.apache.spark.SparkContext.runJob(SparkContext.scala:2085)\n\tat org.apache.spark.SparkContext.runJob(SparkContext.scala:2114)\n\tat org.apache.spark.SparkContext.runJob(SparkContext.scala:2133)\n\tat org.apache.spark.sql.execution.SparkPlan.executeTake(SparkPlan.scala:467)\n\tat org.apache.spark.sql.execution.SparkPlan.executeTake(SparkPlan.scala:420)\n\tat org.apache.spark.sql.execution.CollectLimitExec.executeCollect(limit.scala:47)\n\tat org.apache.spark.sql.Dataset.collectFromPlan(Dataset.scala:3625)\n\tat org.apache.spark.sql.Dataset.$anonfun$head$1(Dataset.scala:2695)\n\tat org.apache.spark.sql.Dataset.$anonfun$withAction$1(Dataset.scala:3616)\n\tat org.apache.spark.sql.execution.SQLExecution$.$anonfun$withNewExecutionId$5(SQLExecution.scala:100)\n\tat org.apache.spark.sql.execution.SQLExecution$.withSQLConfPropagated(SQLExecution.scala:160)\n\tat org.apache.spark.sql.execution.SQLExecution$.$anonfun$withNewExecutionId$1(SQLExecution.scala:87)\n\tat org.apache.spark.sql.SparkSession.withActive(SparkSession.scala:763)\n\tat org.apache.spark.sql.execution.SQLExecution$.withNewExecutionId(SQLExecution.scala:64)\n\tat org.apache.spark.sql.Dataset.withAction(Dataset.scala:3614)\n\tat org.apache.spark.sql.Dataset.head(Dataset.scala:2695)\n\tat org.apache.spark.sql.Dataset.take(Dataset.scala:2902)\n\tat org.apache.spark.sql.Dataset.getRows(Dataset.scala:300)\n\tat org.apache.spark.sql.Dataset.showString(Dataset.scala:337)\n\tat jdk.internal.reflect.GeneratedMethodAccessor49.invoke(Unknown Source)\n\tat java.base/jdk.internal.reflect.DelegatingMethodAccessorImpl.invoke(DelegatingMethodAccessorImpl.java:43)\n\tat java.base/java.lang.reflect.Method.invoke(Method.java:566)\n\tat py4j.reflection.MethodInvoker.invoke(MethodInvoker.java:244)\n\tat py4j.reflection.ReflectionEngine.invoke(ReflectionEngine.java:357)\n\tat py4j.Gateway.invoke(Gateway.java:282)\n\tat py4j.commands.AbstractCommand.invokeMethod(AbstractCommand.java:132)\n\tat py4j.commands.CallCommand.execute(CallCommand.java:79)\n\tat py4j.GatewayConnection.run(GatewayConnection.java:238)\n\tat java.base/java.lang.Thread.run(Thread.java:834)\n",
     "output_type": "error",
     "traceback": [
      "\u001b[0;31m---------------------------------------------------------------------------\u001b[0m",
      "\u001b[0;31mPy4JJavaError\u001b[0m                             Traceback (most recent call last)",
      "\u001b[0;32m/tmp/ipykernel_10178/3726558592.py\u001b[0m in \u001b[0;36m<module>\u001b[0;34m\u001b[0m\n\u001b[0;32m----> 1\u001b[0;31m \u001b[0mdf\u001b[0m\u001b[0;34m.\u001b[0m\u001b[0mshow\u001b[0m\u001b[0;34m(\u001b[0m\u001b[0;34m)\u001b[0m\u001b[0;34m\u001b[0m\u001b[0;34m\u001b[0m\u001b[0m\n\u001b[0m",
      "\u001b[0;32m/usr/local/spark/python/pyspark/sql/dataframe.py\u001b[0m in \u001b[0;36mshow\u001b[0;34m(self, n, truncate, vertical)\u001b[0m\n\u001b[1;32m    438\u001b[0m         \"\"\"\n\u001b[1;32m    439\u001b[0m         \u001b[0;32mif\u001b[0m \u001b[0misinstance\u001b[0m\u001b[0;34m(\u001b[0m\u001b[0mtruncate\u001b[0m\u001b[0;34m,\u001b[0m \u001b[0mbool\u001b[0m\u001b[0;34m)\u001b[0m \u001b[0;32mand\u001b[0m \u001b[0mtruncate\u001b[0m\u001b[0;34m:\u001b[0m\u001b[0;34m\u001b[0m\u001b[0;34m\u001b[0m\u001b[0m\n\u001b[0;32m--> 440\u001b[0;31m             \u001b[0mprint\u001b[0m\u001b[0;34m(\u001b[0m\u001b[0mself\u001b[0m\u001b[0;34m.\u001b[0m\u001b[0m_jdf\u001b[0m\u001b[0;34m.\u001b[0m\u001b[0mshowString\u001b[0m\u001b[0;34m(\u001b[0m\u001b[0mn\u001b[0m\u001b[0;34m,\u001b[0m \u001b[0;36m20\u001b[0m\u001b[0;34m,\u001b[0m \u001b[0mvertical\u001b[0m\u001b[0;34m)\u001b[0m\u001b[0;34m)\u001b[0m\u001b[0;34m\u001b[0m\u001b[0;34m\u001b[0m\u001b[0m\n\u001b[0m\u001b[1;32m    441\u001b[0m         \u001b[0;32melse\u001b[0m\u001b[0;34m:\u001b[0m\u001b[0;34m\u001b[0m\u001b[0;34m\u001b[0m\u001b[0m\n\u001b[1;32m    442\u001b[0m             \u001b[0mprint\u001b[0m\u001b[0;34m(\u001b[0m\u001b[0mself\u001b[0m\u001b[0;34m.\u001b[0m\u001b[0m_jdf\u001b[0m\u001b[0;34m.\u001b[0m\u001b[0mshowString\u001b[0m\u001b[0;34m(\u001b[0m\u001b[0mn\u001b[0m\u001b[0;34m,\u001b[0m \u001b[0mint\u001b[0m\u001b[0;34m(\u001b[0m\u001b[0mtruncate\u001b[0m\u001b[0;34m)\u001b[0m\u001b[0;34m,\u001b[0m \u001b[0mvertical\u001b[0m\u001b[0;34m)\u001b[0m\u001b[0;34m)\u001b[0m\u001b[0;34m\u001b[0m\u001b[0;34m\u001b[0m\u001b[0m\n",
      "\u001b[0;32m/usr/local/spark/python/lib/py4j-0.10.9-src.zip/py4j/java_gateway.py\u001b[0m in \u001b[0;36m__call__\u001b[0;34m(self, *args)\u001b[0m\n\u001b[1;32m   1303\u001b[0m         \u001b[0manswer\u001b[0m \u001b[0;34m=\u001b[0m \u001b[0mself\u001b[0m\u001b[0;34m.\u001b[0m\u001b[0mgateway_client\u001b[0m\u001b[0;34m.\u001b[0m\u001b[0msend_command\u001b[0m\u001b[0;34m(\u001b[0m\u001b[0mcommand\u001b[0m\u001b[0;34m)\u001b[0m\u001b[0;34m\u001b[0m\u001b[0;34m\u001b[0m\u001b[0m\n\u001b[1;32m   1304\u001b[0m         return_value = get_return_value(\n\u001b[0;32m-> 1305\u001b[0;31m             answer, self.gateway_client, self.target_id, self.name)\n\u001b[0m\u001b[1;32m   1306\u001b[0m \u001b[0;34m\u001b[0m\u001b[0m\n\u001b[1;32m   1307\u001b[0m         \u001b[0;32mfor\u001b[0m \u001b[0mtemp_arg\u001b[0m \u001b[0;32min\u001b[0m \u001b[0mtemp_args\u001b[0m\u001b[0;34m:\u001b[0m\u001b[0;34m\u001b[0m\u001b[0;34m\u001b[0m\u001b[0m\n",
      "\u001b[0;32m/usr/local/spark/python/pyspark/sql/utils.py\u001b[0m in \u001b[0;36mdeco\u001b[0;34m(*a, **kw)\u001b[0m\n\u001b[1;32m    129\u001b[0m     \u001b[0;32mdef\u001b[0m \u001b[0mdeco\u001b[0m\u001b[0;34m(\u001b[0m\u001b[0;34m*\u001b[0m\u001b[0ma\u001b[0m\u001b[0;34m,\u001b[0m \u001b[0;34m**\u001b[0m\u001b[0mkw\u001b[0m\u001b[0;34m)\u001b[0m\u001b[0;34m:\u001b[0m\u001b[0;34m\u001b[0m\u001b[0;34m\u001b[0m\u001b[0m\n\u001b[1;32m    130\u001b[0m         \u001b[0;32mtry\u001b[0m\u001b[0;34m:\u001b[0m\u001b[0;34m\u001b[0m\u001b[0;34m\u001b[0m\u001b[0m\n\u001b[0;32m--> 131\u001b[0;31m             \u001b[0;32mreturn\u001b[0m \u001b[0mf\u001b[0m\u001b[0;34m(\u001b[0m\u001b[0;34m*\u001b[0m\u001b[0ma\u001b[0m\u001b[0;34m,\u001b[0m \u001b[0;34m**\u001b[0m\u001b[0mkw\u001b[0m\u001b[0;34m)\u001b[0m\u001b[0;34m\u001b[0m\u001b[0;34m\u001b[0m\u001b[0m\n\u001b[0m\u001b[1;32m    132\u001b[0m         \u001b[0;32mexcept\u001b[0m \u001b[0mpy4j\u001b[0m\u001b[0;34m.\u001b[0m\u001b[0mprotocol\u001b[0m\u001b[0;34m.\u001b[0m\u001b[0mPy4JJavaError\u001b[0m \u001b[0;32mas\u001b[0m \u001b[0me\u001b[0m\u001b[0;34m:\u001b[0m\u001b[0;34m\u001b[0m\u001b[0;34m\u001b[0m\u001b[0m\n\u001b[1;32m    133\u001b[0m             \u001b[0mconverted\u001b[0m \u001b[0;34m=\u001b[0m \u001b[0mconvert_exception\u001b[0m\u001b[0;34m(\u001b[0m\u001b[0me\u001b[0m\u001b[0;34m.\u001b[0m\u001b[0mjava_exception\u001b[0m\u001b[0;34m)\u001b[0m\u001b[0;34m\u001b[0m\u001b[0;34m\u001b[0m\u001b[0m\n",
      "\u001b[0;32m/usr/local/spark/python/lib/py4j-0.10.9-src.zip/py4j/protocol.py\u001b[0m in \u001b[0;36mget_return_value\u001b[0;34m(answer, gateway_client, target_id, name)\u001b[0m\n\u001b[1;32m    326\u001b[0m                 raise Py4JJavaError(\n\u001b[1;32m    327\u001b[0m                     \u001b[0;34m\"An error occurred while calling {0}{1}{2}.\\n\"\u001b[0m\u001b[0;34m.\u001b[0m\u001b[0;34m\u001b[0m\u001b[0;34m\u001b[0m\u001b[0m\n\u001b[0;32m--> 328\u001b[0;31m                     format(target_id, \".\", name), value)\n\u001b[0m\u001b[1;32m    329\u001b[0m             \u001b[0;32melse\u001b[0m\u001b[0;34m:\u001b[0m\u001b[0;34m\u001b[0m\u001b[0;34m\u001b[0m\u001b[0m\n\u001b[1;32m    330\u001b[0m                 raise Py4JError(\n",
      "\u001b[0;31mPy4JJavaError\u001b[0m: An error occurred while calling o64.showString.\n: java.lang.IllegalStateException: SparkContext has been shutdown\n\tat org.apache.spark.SparkContext.runJob(SparkContext.scala:2085)\n\tat org.apache.spark.SparkContext.runJob(SparkContext.scala:2114)\n\tat org.apache.spark.SparkContext.runJob(SparkContext.scala:2133)\n\tat org.apache.spark.sql.execution.SparkPlan.executeTake(SparkPlan.scala:467)\n\tat org.apache.spark.sql.execution.SparkPlan.executeTake(SparkPlan.scala:420)\n\tat org.apache.spark.sql.execution.CollectLimitExec.executeCollect(limit.scala:47)\n\tat org.apache.spark.sql.Dataset.collectFromPlan(Dataset.scala:3625)\n\tat org.apache.spark.sql.Dataset.$anonfun$head$1(Dataset.scala:2695)\n\tat org.apache.spark.sql.Dataset.$anonfun$withAction$1(Dataset.scala:3616)\n\tat org.apache.spark.sql.execution.SQLExecution$.$anonfun$withNewExecutionId$5(SQLExecution.scala:100)\n\tat org.apache.spark.sql.execution.SQLExecution$.withSQLConfPropagated(SQLExecution.scala:160)\n\tat org.apache.spark.sql.execution.SQLExecution$.$anonfun$withNewExecutionId$1(SQLExecution.scala:87)\n\tat org.apache.spark.sql.SparkSession.withActive(SparkSession.scala:763)\n\tat org.apache.spark.sql.execution.SQLExecution$.withNewExecutionId(SQLExecution.scala:64)\n\tat org.apache.spark.sql.Dataset.withAction(Dataset.scala:3614)\n\tat org.apache.spark.sql.Dataset.head(Dataset.scala:2695)\n\tat org.apache.spark.sql.Dataset.take(Dataset.scala:2902)\n\tat org.apache.spark.sql.Dataset.getRows(Dataset.scala:300)\n\tat org.apache.spark.sql.Dataset.showString(Dataset.scala:337)\n\tat jdk.internal.reflect.GeneratedMethodAccessor49.invoke(Unknown Source)\n\tat java.base/jdk.internal.reflect.DelegatingMethodAccessorImpl.invoke(DelegatingMethodAccessorImpl.java:43)\n\tat java.base/java.lang.reflect.Method.invoke(Method.java:566)\n\tat py4j.reflection.MethodInvoker.invoke(MethodInvoker.java:244)\n\tat py4j.reflection.ReflectionEngine.invoke(ReflectionEngine.java:357)\n\tat py4j.Gateway.invoke(Gateway.java:282)\n\tat py4j.commands.AbstractCommand.invokeMethod(AbstractCommand.java:132)\n\tat py4j.commands.CallCommand.execute(CallCommand.java:79)\n\tat py4j.GatewayConnection.run(GatewayConnection.java:238)\n\tat java.base/java.lang.Thread.run(Thread.java:834)\n"
     ]
    }
   ],
   "source": [
    "df.show()"
   ]
  },
  {
   "cell_type": "code",
   "execution_count": 8,
   "metadata": {},
   "outputs": [],
   "source": [
    "#spark.sql(\"select * from mongo array_contains(root.mc, array('CLOSED'))\").show()\n",
    "from pyspark.sql.functions import explode   # Explodes lists into rows."
   ]
  },
  {
   "cell_type": "code",
   "execution_count": 9,
   "metadata": {},
   "outputs": [],
   "source": [
    "mc_exploded = df.select('*', explode(df.mc).alias('mc_row'))"
   ]
  },
  {
   "cell_type": "code",
   "execution_count": 10,
   "metadata": {},
   "outputs": [],
   "source": [
    "md_only = mc_exploded.filter(mc_exploded.mc_row.marketDefinition.isNotNull())"
   ]
  },
  {
   "cell_type": "code",
   "execution_count": 11,
   "metadata": {},
   "outputs": [
    {
     "name": "stdout",
     "output_type": "stream",
     "text": [
      "+--------------------+----------+--------------------+---+-------------+--------------------+\n",
      "|                 _id|       clk|                  mc| op|           pt|              mc_row|\n",
      "+--------------------+----------+--------------------+---+-------------+--------------------+\n",
      "|[619e9dd8677066b2...|2480088678|[[1.124699287, [0...|mcm|1462537993283|[1.124699287, [0,...|\n",
      "|[619e9dd8677066b2...|2480249142|[[1.124699287, [0...|mcm|1462540135101|[1.124699287, [0,...|\n",
      "|[619e9dd8677066b2...|2481803835|[[1.124699287, [0...|mcm|1462555384075|[1.124699287, [0,...|\n",
      "|[619e9dd8677066b2...|2482083965|[[1.124699287, [0...|mcm|1462558199155|[1.124699287, [0,...|\n",
      "|[619e9dd8677066b2...|2482177634|[[1.124699287, [0...|mcm|1462559078531|[1.124699287, [0,...|\n",
      "|[619e9dd8677066b2...|2480088678|[[1.124699285, [0...|mcm|1462537993283|[1.124699285, [0,...|\n",
      "|[619e9dd8677066b2...|2480212422|[[1.124699285, [0...|mcm|1462539800697|[1.124699285, [0,...|\n",
      "|[619e9dd8677066b2...|2480409166|[[1.124699285, [0...|mcm|1462541919372|[1.124699285, [0,...|\n",
      "|[619e9dd8677066b2...|2481622628|[[1.124699285, [0...|mcm|1462553643217|[1.124699285, [0,...|\n",
      "|[619e9dd8677066b2...|2481628092|[[1.124699285, [0...|mcm|1462553705002|[1.124699285, [0,...|\n",
      "|[619e9dd8677066b2...|2481633423|[[1.124699285, [0...|mcm|1462553765802|[1.124699285, [0,...|\n",
      "|[619e9dd8677066b2...|2481879973|[[1.124699285, [0...|mcm|1462556181157|[1.124699285, [0,...|\n",
      "|[619e9dd8677066b2...|2481938295|[[1.124699285, [0...|mcm|1462556825096|[1.124699285, [0,...|\n",
      "|[619e9dd8677066b2...|2480088678|[[1.124699278, [0...|mcm|1462537993283|[1.124699278, [0,...|\n",
      "|[619e9dd8677066b2...|2480180647|[[1.124699278, [0...|mcm|1462539270638|[1.124699278, [0,...|\n",
      "|[619e9dd8677066b2...|2481407254|[[1.124699278, [0...|mcm|1462551952407|[1.124699278, [0,...|\n",
      "|[619e9dd8677066b2...|2481698341|[[1.124699278, [0...|mcm|1462554327642|[1.124699278, [0,...|\n",
      "|[619e9dd8677066b2...|2481740307|[[1.124699278, [0...|mcm|1462554768806|[1.124699278, [0,...|\n",
      "|[619e9dd8677066b2...|2480088678|[[1.124699287, [0...|mcm|1462537993283|[1.124699287, [0,...|\n",
      "|[619e9dd8677066b2...|2480088678|[[1.124699287, [0...|mcm|1462537993283|[1.124699278, [0,...|\n",
      "+--------------------+----------+--------------------+---+-------------+--------------------+\n",
      "only showing top 20 rows\n",
      "\n"
     ]
    },
    {
     "name": "stderr",
     "output_type": "stream",
     "text": [
      "                                                                                \r"
     ]
    }
   ],
   "source": [
    "md_only.show()"
   ]
  },
  {
   "cell_type": "code",
   "execution_count": 12,
   "metadata": {},
   "outputs": [],
   "source": [
    "# Explode the marketDefinition array.\n",
    "market_definitions = md_only.selectExpr('op AS operation_type',\n",
    "                                        'clk AS sequence_token',\n",
    "                                        'pt AS published_time',\n",
    "                                        'mc_row.id AS market_id',\n",
    "                                        'mc_row.rc AS rc',\n",
    "                                        'mc_row.marketDefinition.betDelay AS bet_delay',\n",
    "                                        'mc_row.marketDefinition.bettingType AS betting_type',\n",
    "                                        'mc_row.marketDefinition.bspMarket AS bsp_market',\n",
    "                                        'mc_row.marketDefinition.bspReconciled AS bsp_reconciled',\n",
    "                                        'mc_row.marketDefinition.complete AS complete',\n",
    "                                        'mc_row.marketDefinition.countryCode AS country_code',\n",
    "                                        'mc_row.marketDefinition.crossMatching AS cross_matching',\n",
    "                                        'mc_row.marketDefinition.discountAllowed AS discount_allowed',\n",
    "                                        'mc_row.marketDefinition.eventId AS event_id',\n",
    "                                        'mc_row.marketDefinition.eventName AS event_name',\n",
    "                                        'mc_row.marketDefinition.eventTypeId AS event_type_id',\n",
    "                                        'mc_row.marketDefinition.inPlay AS in_play',\n",
    "                                        'mc_row.marketDefinition.marketBaseRate AS market_base_rate',\n",
    "                                        'mc_row.marketDefinition.marketTime AS market_time',\n",
    "                                        'mc_row.marketDefinition.marketType AS market_type',\n",
    "                                        'mc_row.marketDefinition.numberOfActiveRunners AS number_of_active_runners',\n",
    "                                        'mc_row.marketDefinition.numberOfWinners AS number_of_winners',\n",
    "                                        'mc_row.marketDefinition.openDate AS open_date',\n",
    "                                        'mc_row.marketDefinition.persistenceEnabled AS persistence_enabled',\n",
    "                                        'mc_row.marketDefinition.runnersVoidable AS runners_voidable',\n",
    "                                        'mc_row.marketDefinition.settledTime AS settled_time',\n",
    "                                        'mc_row.marketDefinition.status AS status',\n",
    "                                        'mc_row.marketDefinition.suspendTime AS suspend_time',\n",
    "                                        'mc_row.marketDefinition.timezone AS timezone',\n",
    "                                        'mc_row.marketDefinition.turnInPlayEnabled AS turn_in_play_enabled',\n",
    "                                        'mc_row.marketDefinition.version AS version',\n",
    "                                        'mc_row.marketDefinition.name AS market_name',\n",
    "                                        'mc_row.marketDefinition.regulators AS regulators',\n",
    "                                        'mc_row.marketDefinition.runners AS runners')"
   ]
  },
  {
   "cell_type": "code",
   "execution_count": 13,
   "metadata": {},
   "outputs": [],
   "source": [
    "market_definitions = market_definitions.filter(market_definitions[\"status\"]==\"CLOSED\")"
   ]
  },
  {
   "cell_type": "code",
   "execution_count": 14,
   "metadata": {},
   "outputs": [],
   "source": [
    "market_definitions = market_definitions.filter(market_definitions[\"market_type\"]==\"WIN\")"
   ]
  },
  {
   "cell_type": "code",
   "execution_count": 15,
   "metadata": {},
   "outputs": [],
   "source": [
    "runners_only = market_definitions.filter(market_definitions.runners.isNotNull())"
   ]
  },
  {
   "cell_type": "code",
   "execution_count": 16,
   "metadata": {},
   "outputs": [],
   "source": [
    "# Explode the Runners array.\n",
    "runners_exploded = runners_only.select(market_definitions.operation_type,\n",
    "                                       market_definitions.published_time,\n",
    "                                       market_definitions.market_id,\n",
    "                                       market_definitions.market_name,\n",
    "                                       market_definitions.event_id,\n",
    "                                       market_definitions.event_name,\n",
    "                                       explode(market_definitions.runners).alias('runner_row'))"
   ]
  },
  {
   "cell_type": "code",
   "execution_count": null,
   "metadata": {},
   "outputs": [],
   "source": []
  },
  {
   "cell_type": "code",
   "execution_count": 17,
   "metadata": {},
   "outputs": [],
   "source": [
    "#############################\n",
    "##### new dataset (just added BSP to the runners dataframe created above)\n",
    "runners_exploded_wbsp = runners_only.select(market_definitions.operation_type,\n",
    "                                       market_definitions.published_time,\n",
    "                                       market_definitions.market_id,\n",
    "                                       market_definitions.market_name,\n",
    "                                       market_definitions.event_id,\n",
    "                                       market_definitions.event_name,\n",
    "                                       explode(market_definitions.runners).alias('runner_row'))"
   ]
  },
  {
   "cell_type": "code",
   "execution_count": 18,
   "metadata": {},
   "outputs": [],
   "source": [
    "##### new dataset (just added BSP to the runners dataframe created above)\n",
    "runners_wbsp = runners_exploded_wbsp.selectExpr('operation_type',\n",
    "                                      'published_time',\n",
    "                                      'market_id',\n",
    "                                      'market_name',\n",
    "                                      'event_id',\n",
    "                                      'event_name',\n",
    "                                      'runner_row.id AS runner_id',\n",
    "                                      'runner_row.name AS runner_name',\n",
    "                                      'runner_row.status AS runner_status',\n",
    "                                      'runner_row.bsp AS bsp',\n",
    "                                      'runner_row.sortPriority AS runner_sort_priority')"
   ]
  },
  {
   "cell_type": "code",
   "execution_count": 19,
   "metadata": {},
   "outputs": [],
   "source": [
    "##### new dataset (just added BSP to the runners dataframe created above)\n",
    "runners_wbsp = runners_wbsp.filter(runners_wbsp.runner_status!='REMOVED')"
   ]
  },
  {
   "cell_type": "code",
   "execution_count": 20,
   "metadata": {},
   "outputs": [
    {
     "name": "stderr",
     "output_type": "stream",
     "text": [
      "[Stage 3:>                                                          (0 + 1) / 1]\r"
     ]
    },
    {
     "name": "stdout",
     "output_type": "stream",
     "text": [
      "+--------------+--------------+-----------+---------------+--------+-------------------+---------+------------------+-------------+------+--------------------+\n",
      "|operation_type|published_time|  market_id|    market_name|event_id|         event_name|runner_id|       runner_name|runner_status|   bsp|runner_sort_priority|\n",
      "+--------------+--------------+-----------+---------------+--------+-------------------+---------+------------------+-------------+------+--------------------+\n",
      "|           mcm| 1462501034557|1.124659130|     R8 1m Allw|27784588|EvangD (US) 5th May| 10575249|       Bitsys Half|        LOSER|  13.5|                   5|\n",
      "|           mcm| 1462501034557|1.124659130|     R8 1m Allw|27784588|EvangD (US) 5th May| 10288198|         Blue Code|        LOSER|  32.0|                   6|\n",
      "|           mcm| 1462501034557|1.124659130|     R8 1m Allw|27784588|EvangD (US) 5th May| 10116126|            Zartan|        LOSER| 57.95|                   7|\n",
      "|           mcm| 1462501034557|1.124659130|     R8 1m Allw|27784588|EvangD (US) 5th May| 10221428|         Old Conch|        LOSER|223.91|                   8|\n",
      "|           mcm| 1462501034557|1.124659130|     R8 1m Allw|27784588|EvangD (US) 5th May| 10150151|Rose Needs A Check|        LOSER| 15.34|                   9|\n",
      "|           mcm| 1462501034557|1.124659130|     R8 1m Allw|27784588|EvangD (US) 5th May| 10237987|           Make Do|        LOSER|  10.5|                  10|\n",
      "|           mcm| 1462501034557|1.124659130|     R8 1m Allw|27784588|EvangD (US) 5th May| 10674850|      Cajun Kitten|        LOSER|   4.0|                  11|\n",
      "|           mcm| 1462501034557|1.124659130|     R8 1m Allw|27784588|EvangD (US) 5th May| 10550376|       Dr. Zipcity|       WINNER| 26.28|                  12|\n",
      "|           mcm| 1462501034557|1.124659130|     R8 1m Allw|27784588|EvangD (US) 5th May| 10849769|     Goforthegreen|        LOSER|  21.0|                  13|\n",
      "|           mcm| 1462501034557|1.124659130|     R8 1m Allw|27784588|EvangD (US) 5th May| 10762541|       Specialeyes|        LOSER|  2.31|                  14|\n",
      "|           mcm| 1462502535129|1.124659133|R9 7f Mdn Claim|27784588|EvangD (US) 5th May| 10175250|           Cabildo|        LOSER| 83.46|                   1|\n",
      "|           mcm| 1462502535129|1.124659133|R9 7f Mdn Claim|27784588|EvangD (US) 5th May| 10592064|      Point Secret|        LOSER|   5.6|                   2|\n",
      "|           mcm| 1462502535129|1.124659133|R9 7f Mdn Claim|27784588|EvangD (US) 5th May|  9111702|       Lip Service|       WINNER|   4.0|                   3|\n",
      "|           mcm| 1462502535129|1.124659133|R9 7f Mdn Claim|27784588|EvangD (US) 5th May| 10154653|         Warlander|        LOSER|   7.0|                   4|\n",
      "|           mcm| 1462502535129|1.124659133|R9 7f Mdn Claim|27784588|EvangD (US) 5th May| 10059993|    Cowboy Classic|        LOSER| 12.07|                   5|\n",
      "|           mcm| 1462502535129|1.124659133|R9 7f Mdn Claim|27784588|EvangD (US) 5th May| 10681528|    Dry Wood Creek|        LOSER|   4.4|                   6|\n",
      "|           mcm| 1462502535129|1.124659133|R9 7f Mdn Claim|27784588|EvangD (US) 5th May| 10804072|              Eppy|        LOSER| 18.52|                   7|\n",
      "|           mcm| 1462502535129|1.124659133|R9 7f Mdn Claim|27784588|EvangD (US) 5th May| 10882521|     Ball And Pins|        LOSER| 14.54|                   8|\n",
      "|           mcm| 1462495994956|1.124659121|    R5 6f Claim|27784588|EvangD (US) 5th May| 10102626|       Philli Four|        LOSER| 14.99|                   1|\n",
      "|           mcm| 1462495994956|1.124659121|    R5 6f Claim|27784588|EvangD (US) 5th May| 10134313|    Lydgate Affair|        LOSER| 38.42|                   2|\n",
      "+--------------+--------------+-----------+---------------+--------+-------------------+---------+------------------+-------------+------+--------------------+\n",
      "only showing top 20 rows\n",
      "\n"
     ]
    },
    {
     "name": "stderr",
     "output_type": "stream",
     "text": [
      "                                                                                \r"
     ]
    }
   ],
   "source": [
    "##### new dataset (just added BSP to the runners dataframe created above)\n",
    "runners_wbsp.show()"
   ]
  },
  {
   "cell_type": "code",
   "execution_count": 21,
   "metadata": {},
   "outputs": [],
   "source": [
    "#############################"
   ]
  },
  {
   "cell_type": "code",
   "execution_count": null,
   "metadata": {},
   "outputs": [],
   "source": []
  },
  {
   "cell_type": "code",
   "execution_count": 22,
   "metadata": {},
   "outputs": [],
   "source": [
    "# Select the useful fields, and give them user friendly names.\n",
    "runners = runners_exploded.selectExpr('operation_type',\n",
    "                                      'published_time',\n",
    "                                      'market_id',\n",
    "                                      'market_name',\n",
    "                                      'event_id',\n",
    "                                      'event_name',\n",
    "                                      'runner_row.id AS runner_id',\n",
    "                                      'runner_row.name AS runner_name',\n",
    "                                      'runner_row.status AS runner_status',\n",
    "                                      'runner_row.sortPriority AS runner_sort_priority')"
   ]
  },
  {
   "cell_type": "code",
   "execution_count": 23,
   "metadata": {},
   "outputs": [],
   "source": [
    "# Filter down to only the records that have rc (runner changes).\n",
    "rc_only = mc_exploded.filter(mc_exploded.mc_row.rc.isNotNull())"
   ]
  },
  {
   "cell_type": "code",
   "execution_count": 24,
   "metadata": {},
   "outputs": [],
   "source": [
    "# Explode the rc (runner changes) array.\n",
    "rc_exploded = rc_only.select(rc_only.op.alias('operation_type'),\n",
    "                             rc_only.pt.alias('published_time'),\n",
    "                             rc_only.mc_row.id.alias('market_id'),\n",
    "                             explode(rc_only.mc_row.rc).alias('runner_change_row'))"
   ]
  },
  {
   "cell_type": "code",
   "execution_count": 25,
   "metadata": {},
   "outputs": [],
   "source": [
    "# Select the useful fields, and give them user friendly names.\n",
    "runner_changes = rc_exploded.selectExpr('operation_type',\n",
    "                                        'published_time',\n",
    "                                        'market_id',\n",
    "                                        'runner_change_row.id AS runner_id',\n",
    "                                        'runner_change_row.ltp AS last_traded_price')"
   ]
  },
  {
   "cell_type": "code",
   "execution_count": 26,
   "metadata": {},
   "outputs": [
    {
     "name": "stderr",
     "output_type": "stream",
     "text": [
      "[Stage 5:=============================>                             (2 + 2) / 4]\r"
     ]
    },
    {
     "name": "stdout",
     "output_type": "stream",
     "text": [
      "+--------------+--------------+-----------+---------------+--------+-------------------+---------+------------------+-------------+--------------------+\n",
      "|operation_type|published_time|  market_id|    market_name|event_id|         event_name|runner_id|       runner_name|runner_status|runner_sort_priority|\n",
      "+--------------+--------------+-----------+---------------+--------+-------------------+---------+------------------+-------------+--------------------+\n",
      "|           mcm| 1462501034557|1.124659130|     R8 1m Allw|27784588|EvangD (US) 5th May| 10861746|          B Brazin|      REMOVED|                   1|\n",
      "|           mcm| 1462501034557|1.124659130|     R8 1m Allw|27784588|EvangD (US) 5th May|  4517788|       Great Value|      REMOVED|                   2|\n",
      "|           mcm| 1462501034557|1.124659130|     R8 1m Allw|27784588|EvangD (US) 5th May|   187960|        Kid Creole|      REMOVED|                   3|\n",
      "|           mcm| 1462501034557|1.124659130|     R8 1m Allw|27784588|EvangD (US) 5th May| 10743810|        Slideruler|      REMOVED|                   4|\n",
      "|           mcm| 1462501034557|1.124659130|     R8 1m Allw|27784588|EvangD (US) 5th May| 10575249|       Bitsys Half|        LOSER|                   5|\n",
      "|           mcm| 1462501034557|1.124659130|     R8 1m Allw|27784588|EvangD (US) 5th May| 10288198|         Blue Code|        LOSER|                   6|\n",
      "|           mcm| 1462501034557|1.124659130|     R8 1m Allw|27784588|EvangD (US) 5th May| 10116126|            Zartan|        LOSER|                   7|\n",
      "|           mcm| 1462501034557|1.124659130|     R8 1m Allw|27784588|EvangD (US) 5th May| 10221428|         Old Conch|        LOSER|                   8|\n",
      "|           mcm| 1462501034557|1.124659130|     R8 1m Allw|27784588|EvangD (US) 5th May| 10150151|Rose Needs A Check|        LOSER|                   9|\n",
      "|           mcm| 1462501034557|1.124659130|     R8 1m Allw|27784588|EvangD (US) 5th May| 10237987|           Make Do|        LOSER|                  10|\n",
      "|           mcm| 1462501034557|1.124659130|     R8 1m Allw|27784588|EvangD (US) 5th May| 10674850|      Cajun Kitten|        LOSER|                  11|\n",
      "|           mcm| 1462501034557|1.124659130|     R8 1m Allw|27784588|EvangD (US) 5th May| 10550376|       Dr. Zipcity|       WINNER|                  12|\n",
      "|           mcm| 1462501034557|1.124659130|     R8 1m Allw|27784588|EvangD (US) 5th May| 10849769|     Goforthegreen|        LOSER|                  13|\n",
      "|           mcm| 1462501034557|1.124659130|     R8 1m Allw|27784588|EvangD (US) 5th May| 10762541|       Specialeyes|        LOSER|                  14|\n",
      "|           mcm| 1462502535129|1.124659133|R9 7f Mdn Claim|27784588|EvangD (US) 5th May| 10175250|           Cabildo|        LOSER|                   1|\n",
      "|           mcm| 1462502535129|1.124659133|R9 7f Mdn Claim|27784588|EvangD (US) 5th May| 10592064|      Point Secret|        LOSER|                   2|\n",
      "|           mcm| 1462502535129|1.124659133|R9 7f Mdn Claim|27784588|EvangD (US) 5th May|  9111702|       Lip Service|       WINNER|                   3|\n",
      "|           mcm| 1462502535129|1.124659133|R9 7f Mdn Claim|27784588|EvangD (US) 5th May| 10154653|         Warlander|        LOSER|                   4|\n",
      "|           mcm| 1462502535129|1.124659133|R9 7f Mdn Claim|27784588|EvangD (US) 5th May| 10059993|    Cowboy Classic|        LOSER|                   5|\n",
      "|           mcm| 1462502535129|1.124659133|R9 7f Mdn Claim|27784588|EvangD (US) 5th May| 10681528|    Dry Wood Creek|        LOSER|                   6|\n",
      "+--------------+--------------+-----------+---------------+--------+-------------------+---------+------------------+-------------+--------------------+\n",
      "only showing top 20 rows\n",
      "\n"
     ]
    },
    {
     "name": "stderr",
     "output_type": "stream",
     "text": [
      "                                                                                \r"
     ]
    }
   ],
   "source": [
    "runners.show()"
   ]
  },
  {
   "cell_type": "code",
   "execution_count": 27,
   "metadata": {},
   "outputs": [],
   "source": [
    "# https://www.researchgate.net/publication/351844751_Sonic_Thunder_vs_Brian_the_Snail_Are_people_affected_by_uninformative_racehorse_names\n",
    "fast_names = [\n",
    "    'a mile a minute', 'helter-skelter', 'quick-fire',\n",
    "    'apace', 'high-speed quickly',\n",
    "    'as fast as your legs would carry you',\n",
    "    'hot', 'quickness',\n",
    "    'as if it is going out of style', 'hotfoot', 'rapid',\n",
    "    'at a rate of knots', 'hustle', 'rapid-fire',\n",
    "    'at full pelt', 'in the twinkling of an eye',\n",
    "    'rate',\n",
    "    'at full speed', 'Jack Robinson', 'say',\n",
    "    'at full tilt', 'lick', 'shot',\n",
    "    'at full tilt', 'lickety-split', 'smartly',\n",
    "    'before you can say Jack Robinson', 'lightning', 'souped-up',\n",
    "    'blistering', 'like a shot', 'spanking',\n",
    "    'breakneck' 'like a streak of lightning', 'speed',\n",
    "    'brisk' 'like lightning spread', 'like wildfire',\n",
    "    'chop-chop', 'meteoric', 'streak',\n",
    "    'crash', 'mile', 'style',\n",
    "    'express', 'nimble', 'superfast',\n",
    "    'fast', 'nimbleness', 'supersonic',\n",
    "\n",
    "    'fleet', 'nimbly', 'swift',\n",
    "    'full', 'nippy', 'swiftly',\n",
    "    'full steam ahead', 'pdq', 'thick',\n",
    "    'gallop', 'pell-mell', 'thick and fast',\n",
    "    'galloping', 'poky', 'tilt',\n",
    "    'go like hot cakes', 'posthaste', 'top',\n",
    "    'have a heavy foot', 'precipitous', 'twinkling',\n",
    "    'headlong', 'precipitously', 'whoosh',\n",
    "    'heavy', 'prompt', 'wildfire',\n",
    "    'hell', 'promptly', 'zippy',\n",
    "    'hell for leather', 'quick',\n",
    "\n",
    "\n",
    "    'accelerated', 'high-speed', 'pell-mell',\n",
    "    'at full speed', 'hurried', 'post-haste',\n",
    "    'at full tilt', 'hurriedly', 'quick',\n",
    "    'at speed', 'in a flash', 'quickly',\n",
    "    'at the speed of light', 'in a hurry', 'rapid',\n",
    "    'blistering', 'in a trice', 'rapidly',\n",
    "    'breakneck', 'in a wink', 'smart',\n",
    "    'brisk', 'in haste', 'speedily',\n",
    "    'briskly', 'in time', 'speedy',\n",
    "    'energetically', 'in no time at all', 'sporty',\n",
    "    'expeditious', 'in the blink of an eye', 'sprightly',\n",
    "    'expeditiously', 'like a flash', 'swift',\n",
    "    'express', 'like a shot', 'swiftly',\n",
    "    'fast', 'like an arrow from a bow', 'turbo',\n",
    "    'fast-moving', 'lively', 'unhesitating',\n",
    "    'fleet-footed', 'meteoric', 'whirlwind',\n",
    "    'flying', 'nimble', 'with all haste',\n",
    "    'hastily', 'on the double', 'with dispatch',\n",
    "    'hasty', 'pell-mell', 'without delay',\n",
    "\n",
    "    'acceleration', 'haste', 'scutter',\n",
    "    'alacrity', 'hasten', 'sharpness',\n",
    "    'blast', 'hurriedness', 'shoot',\n",
    "    'bolt', 'hurry', 'spank along',\n",
    "    'bowl along', 'hurry', 'speed',\n",
    "    'briskness', 'hurtle', 'speediness',\n",
    "    'career', 'immediacy', 'sprint',\n",
    "    'celerity', 'momentum', 'stampede',\n",
    "    'charge', 'pace', 'streak',\n",
    "    'dart', 'precipitateness', 'sweep',\n",
    "    'dash', 'promptness', 'swiftness',\n",
    "    'dispatch', 'quickness', 'swoop',\n",
    "    'expedition', 'race', 'tempo',\n",
    "    'expeditiousness', 'rapidity', 'uzz',\n",
    "    'fastness', 'rate', 'velocity',\n",
    "    'flash', 'rattle along', 'whirl',\n",
    "    'fly', 'run', 'whizz',\n",
    "    'gallop', 'rush', 'whoosh',\n",
    "    'go hell for leather', 'scramble', 'wing',\n",
    "    'go like lightning', 'scud', 'zoom',\n",
    "    'hare', 'scurry',\n",
    "\n",
    "    'abrupt', 'impetuous', 'rushed',\n",
    "    'agility', 'outrun', 'scramble',\n",
    "    'dash', 'overhasty', 'speed',\n",
    "    'disconcerted', 'overrun', 'speedily',\n",
    "    'dodge', 'promptly', 'speedy',\n",
    "    'haste', 'quick', 'sudden',\n",
    "    'hastily', 'quickly', 'suddenly',\n",
    "    'hurried', 'rapid', 'swift',\n",
    "    'hurriedly', 'rapidly', 'swiftly',\n",
    "    'hurry', 'rush', 'zoom',\n",
    "\n",
    "    'accelerate', 'haste', 'race',\n",
    "    'acceleration', 'hasten', 'rapidity',\n",
    "    'agility', 'hie', 'rush',\n",
    "    'airspeed', 'hurriedly', 'speedy',\n",
    "    'celerity', 'hurry', 'stronghold',\n",
    "    'dash', 'pace', 'swift',\n",
    "    'decelerate', 'quick', 'swiftness',\n",
    "    'expedite', 'quicken', 'tempo',\n",
    "    'fast', 'quickly', 'urgently',\n",
    "    'fastness', 'quickness', 'velocity',\n",
    "\n",
    "    'Apache', 'Bentley', 'Blustery',\n",
    "    'Bullet', 'Buzz', 'Comet',\n",
    "    ',Cougar', ',Falcon', 'Faster',\n",
    "    'Flash', 'Ghost', 'rider', 'Harley',\n",
    "    'Jet', 'Jump', 'Jumping',\n",
    "    'Miles', 'Mustang', 'Pony express',\n",
    "    'Quick', 'Quicky', 'Racer',\n",
    "    'Rapid', 'Rapide', 'Rocket',\n",
    "    'Sonic', 'Speedy', 'Taz',\n",
    "    'Tornado', 'Traveler', 'Wildfire',\n",
    "    'Voyager', 'Wild', 'Velocity', \n",
    "\n",
    "    'Sonic Power', 'Speed Dragon', 'Zippy Lad', 'Lightening Vault',\n",
    "    'Powerful Jet', 'Orbit Express', 'Swift Chap', 'Blazing Tempo',\n",
    "    'Brave Falcon', 'Rush Now', 'Top Magic', 'Dixie Flyer',\n",
    "    'Esprit De Bullet', 'Strike Fast', 'Hustle Hard', 'Diamond Rush',\n",
    "    'Crown Me Fast', 'Hot Seat', 'Top Gear', 'Bright Bullet',\n",
    "    'Quick Art', 'Rush Of Blood', 'Top Boy', 'Meteoric',\n",
    "    'Moments',\n",
    "    'One Wild Guy', 'Sonic Thunder', 'Grand Gallop', 'Zippy Speed',\n",
    "    'Run for Roses', 'Saratoga',\n",
    "    'Wildcat',\n",
    "    'Quick Beers', 'Sudden Rush',\n",
    "    'Flyingwithoutwings', 'Fast On', 'Dazzlem Quick', 'You Drive I Fly',\n",
    "    'Irish Rocket', 'Hot Sauce', 'Mighty Flying', 'frost'\n",
    "]"
   ]
  },
  {
   "cell_type": "code",
   "execution_count": 28,
   "metadata": {},
   "outputs": [],
   "source": [
    "for i in range(len(fast_names)):\n",
    "    fast_names[i] = fast_names[i].lower()"
   ]
  },
  {
   "cell_type": "code",
   "execution_count": 29,
   "metadata": {},
   "outputs": [],
   "source": [
    "runners = runners.filter(runners.runner_status!='REMOVED')"
   ]
  },
  {
   "cell_type": "code",
   "execution_count": 30,
   "metadata": {},
   "outputs": [
    {
     "name": "stderr",
     "output_type": "stream",
     "text": [
      "[Stage 6:>                                                          (0 + 1) / 1]\r"
     ]
    },
    {
     "name": "stdout",
     "output_type": "stream",
     "text": [
      "+--------------+--------------+-----------+---------------+--------+-------------------+---------+------------------+-------------+--------------------+\n",
      "|operation_type|published_time|  market_id|    market_name|event_id|         event_name|runner_id|       runner_name|runner_status|runner_sort_priority|\n",
      "+--------------+--------------+-----------+---------------+--------+-------------------+---------+------------------+-------------+--------------------+\n",
      "|           mcm| 1462501034557|1.124659130|     R8 1m Allw|27784588|EvangD (US) 5th May| 10575249|       Bitsys Half|        LOSER|                   5|\n",
      "|           mcm| 1462501034557|1.124659130|     R8 1m Allw|27784588|EvangD (US) 5th May| 10288198|         Blue Code|        LOSER|                   6|\n",
      "|           mcm| 1462501034557|1.124659130|     R8 1m Allw|27784588|EvangD (US) 5th May| 10116126|            Zartan|        LOSER|                   7|\n",
      "|           mcm| 1462501034557|1.124659130|     R8 1m Allw|27784588|EvangD (US) 5th May| 10221428|         Old Conch|        LOSER|                   8|\n",
      "|           mcm| 1462501034557|1.124659130|     R8 1m Allw|27784588|EvangD (US) 5th May| 10150151|Rose Needs A Check|        LOSER|                   9|\n",
      "|           mcm| 1462501034557|1.124659130|     R8 1m Allw|27784588|EvangD (US) 5th May| 10237987|           Make Do|        LOSER|                  10|\n",
      "|           mcm| 1462501034557|1.124659130|     R8 1m Allw|27784588|EvangD (US) 5th May| 10674850|      Cajun Kitten|        LOSER|                  11|\n",
      "|           mcm| 1462501034557|1.124659130|     R8 1m Allw|27784588|EvangD (US) 5th May| 10550376|       Dr. Zipcity|       WINNER|                  12|\n",
      "|           mcm| 1462501034557|1.124659130|     R8 1m Allw|27784588|EvangD (US) 5th May| 10849769|     Goforthegreen|        LOSER|                  13|\n",
      "|           mcm| 1462501034557|1.124659130|     R8 1m Allw|27784588|EvangD (US) 5th May| 10762541|       Specialeyes|        LOSER|                  14|\n",
      "|           mcm| 1462502535129|1.124659133|R9 7f Mdn Claim|27784588|EvangD (US) 5th May| 10175250|           Cabildo|        LOSER|                   1|\n",
      "|           mcm| 1462502535129|1.124659133|R9 7f Mdn Claim|27784588|EvangD (US) 5th May| 10592064|      Point Secret|        LOSER|                   2|\n",
      "|           mcm| 1462502535129|1.124659133|R9 7f Mdn Claim|27784588|EvangD (US) 5th May|  9111702|       Lip Service|       WINNER|                   3|\n",
      "|           mcm| 1462502535129|1.124659133|R9 7f Mdn Claim|27784588|EvangD (US) 5th May| 10154653|         Warlander|        LOSER|                   4|\n",
      "|           mcm| 1462502535129|1.124659133|R9 7f Mdn Claim|27784588|EvangD (US) 5th May| 10059993|    Cowboy Classic|        LOSER|                   5|\n",
      "|           mcm| 1462502535129|1.124659133|R9 7f Mdn Claim|27784588|EvangD (US) 5th May| 10681528|    Dry Wood Creek|        LOSER|                   6|\n",
      "|           mcm| 1462502535129|1.124659133|R9 7f Mdn Claim|27784588|EvangD (US) 5th May| 10804072|              Eppy|        LOSER|                   7|\n",
      "|           mcm| 1462502535129|1.124659133|R9 7f Mdn Claim|27784588|EvangD (US) 5th May| 10882521|     Ball And Pins|        LOSER|                   8|\n",
      "|           mcm| 1462495994956|1.124659121|    R5 6f Claim|27784588|EvangD (US) 5th May| 10102626|       Philli Four|        LOSER|                   1|\n",
      "|           mcm| 1462495994956|1.124659121|    R5 6f Claim|27784588|EvangD (US) 5th May| 10134313|    Lydgate Affair|        LOSER|                   2|\n",
      "+--------------+--------------+-----------+---------------+--------+-------------------+---------+------------------+-------------+--------------------+\n",
      "only showing top 20 rows\n",
      "\n"
     ]
    },
    {
     "name": "stderr",
     "output_type": "stream",
     "text": [
      "                                                                                \r"
     ]
    }
   ],
   "source": [
    "runners.show()"
   ]
  },
  {
   "cell_type": "code",
   "execution_count": 31,
   "metadata": {},
   "outputs": [],
   "source": [
    "from pyspark.sql.functions import udf\n",
    "from pyspark.sql.types import BooleanType, StringType, DoubleType"
   ]
  },
  {
   "cell_type": "code",
   "execution_count": 32,
   "metadata": {},
   "outputs": [],
   "source": [
    "@udf(BooleanType())\n",
    "def is_fast(name):\n",
    "    if name is None:\n",
    "        return False\n",
    "    name = name.lower()\n",
    "    for s in fast_names:\n",
    "        if s in name:\n",
    "            return True\n",
    "    return False"
   ]
  },
  {
   "cell_type": "code",
   "execution_count": 33,
   "metadata": {},
   "outputs": [],
   "source": [
    "from pyspark.sql.functions import lit, col"
   ]
  },
  {
   "cell_type": "code",
   "execution_count": 34,
   "metadata": {},
   "outputs": [],
   "source": [
    "runners_fast = runners.withColumn('is_fast_horse',  is_fast(runners.runner_name))"
   ]
  },
  {
   "cell_type": "code",
   "execution_count": null,
   "metadata": {},
   "outputs": [],
   "source": []
  },
  {
   "cell_type": "code",
   "execution_count": 35,
   "metadata": {},
   "outputs": [],
   "source": [
    "#############################\n",
    "### aisling with bsp data\n",
    "runners_fast_wbsp = runners_wbsp.withColumn('is_fast_horse',  is_fast(runners_wbsp.runner_name)) "
   ]
  },
  {
   "cell_type": "code",
   "execution_count": 36,
   "metadata": {},
   "outputs": [],
   "source": [
    "### aisling with bsp data\n",
    "runners_fast_wbsp = runners_fast_wbsp.filter(runners_fast_wbsp.bsp.isNotNull())"
   ]
  },
  {
   "cell_type": "code",
   "execution_count": 37,
   "metadata": {},
   "outputs": [],
   "source": [
    "runners_fast_wbsp = runners_fast_wbsp.filter(runners_fast_wbsp.bsp!='None')"
   ]
  },
  {
   "cell_type": "code",
   "execution_count": 38,
   "metadata": {},
   "outputs": [],
   "source": [
    "runners_fast_wbsp = runners_fast_wbsp.filter(runners_fast_wbsp.bsp!='NaN')"
   ]
  },
  {
   "cell_type": "code",
   "execution_count": 39,
   "metadata": {},
   "outputs": [
    {
     "data": {
      "text/plain": [
       "[('operation_type', 'string'),\n",
       " ('published_time', 'bigint'),\n",
       " ('market_id', 'string'),\n",
       " ('market_name', 'string'),\n",
       " ('event_id', 'string'),\n",
       " ('event_name', 'string'),\n",
       " ('runner_id', 'int'),\n",
       " ('runner_name', 'string'),\n",
       " ('runner_status', 'string'),\n",
       " ('bsp', 'string'),\n",
       " ('runner_sort_priority', 'int'),\n",
       " ('is_fast_horse', 'boolean')]"
      ]
     },
     "execution_count": 39,
     "metadata": {},
     "output_type": "execute_result"
    }
   ],
   "source": [
    "runners_fast_wbsp.dtypes"
   ]
  },
  {
   "cell_type": "code",
   "execution_count": 40,
   "metadata": {},
   "outputs": [
    {
     "name": "stderr",
     "output_type": "stream",
     "text": [
      "[Stage 7:>                                                          (0 + 1) / 1]\r"
     ]
    },
    {
     "name": "stdout",
     "output_type": "stream",
     "text": [
      "+--------------+--------------+-----------+---------------+--------+-------------------+---------+------------------+-------------+------+--------------------+-------------+\n",
      "|operation_type|published_time|  market_id|    market_name|event_id|         event_name|runner_id|       runner_name|runner_status|   bsp|runner_sort_priority|is_fast_horse|\n",
      "+--------------+--------------+-----------+---------------+--------+-------------------+---------+------------------+-------------+------+--------------------+-------------+\n",
      "|           mcm| 1462501034557|1.124659130|     R8 1m Allw|27784588|EvangD (US) 5th May| 10575249|       Bitsys Half|        LOSER|  13.5|                   5|        false|\n",
      "|           mcm| 1462501034557|1.124659130|     R8 1m Allw|27784588|EvangD (US) 5th May| 10288198|         Blue Code|        LOSER|  32.0|                   6|        false|\n",
      "|           mcm| 1462501034557|1.124659130|     R8 1m Allw|27784588|EvangD (US) 5th May| 10116126|            Zartan|        LOSER| 57.95|                   7|        false|\n",
      "|           mcm| 1462501034557|1.124659130|     R8 1m Allw|27784588|EvangD (US) 5th May| 10221428|         Old Conch|        LOSER|223.91|                   8|        false|\n",
      "|           mcm| 1462501034557|1.124659130|     R8 1m Allw|27784588|EvangD (US) 5th May| 10150151|Rose Needs A Check|        LOSER| 15.34|                   9|        false|\n",
      "|           mcm| 1462501034557|1.124659130|     R8 1m Allw|27784588|EvangD (US) 5th May| 10237987|           Make Do|        LOSER|  10.5|                  10|        false|\n",
      "|           mcm| 1462501034557|1.124659130|     R8 1m Allw|27784588|EvangD (US) 5th May| 10674850|      Cajun Kitten|        LOSER|   4.0|                  11|        false|\n",
      "|           mcm| 1462501034557|1.124659130|     R8 1m Allw|27784588|EvangD (US) 5th May| 10550376|       Dr. Zipcity|       WINNER| 26.28|                  12|        false|\n",
      "|           mcm| 1462501034557|1.124659130|     R8 1m Allw|27784588|EvangD (US) 5th May| 10849769|     Goforthegreen|        LOSER|  21.0|                  13|        false|\n",
      "|           mcm| 1462501034557|1.124659130|     R8 1m Allw|27784588|EvangD (US) 5th May| 10762541|       Specialeyes|        LOSER|  2.31|                  14|        false|\n",
      "|           mcm| 1462502535129|1.124659133|R9 7f Mdn Claim|27784588|EvangD (US) 5th May| 10175250|           Cabildo|        LOSER| 83.46|                   1|        false|\n",
      "|           mcm| 1462502535129|1.124659133|R9 7f Mdn Claim|27784588|EvangD (US) 5th May| 10592064|      Point Secret|        LOSER|   5.6|                   2|        false|\n",
      "|           mcm| 1462502535129|1.124659133|R9 7f Mdn Claim|27784588|EvangD (US) 5th May|  9111702|       Lip Service|       WINNER|   4.0|                   3|        false|\n",
      "|           mcm| 1462502535129|1.124659133|R9 7f Mdn Claim|27784588|EvangD (US) 5th May| 10154653|         Warlander|        LOSER|   7.0|                   4|        false|\n",
      "|           mcm| 1462502535129|1.124659133|R9 7f Mdn Claim|27784588|EvangD (US) 5th May| 10059993|    Cowboy Classic|        LOSER| 12.07|                   5|        false|\n",
      "|           mcm| 1462502535129|1.124659133|R9 7f Mdn Claim|27784588|EvangD (US) 5th May| 10681528|    Dry Wood Creek|        LOSER|   4.4|                   6|        false|\n",
      "|           mcm| 1462502535129|1.124659133|R9 7f Mdn Claim|27784588|EvangD (US) 5th May| 10804072|              Eppy|        LOSER| 18.52|                   7|        false|\n",
      "|           mcm| 1462502535129|1.124659133|R9 7f Mdn Claim|27784588|EvangD (US) 5th May| 10882521|     Ball And Pins|        LOSER| 14.54|                   8|        false|\n",
      "|           mcm| 1462495994956|1.124659121|    R5 6f Claim|27784588|EvangD (US) 5th May| 10102626|       Philli Four|        LOSER| 14.99|                   1|        false|\n",
      "|           mcm| 1462495994956|1.124659121|    R5 6f Claim|27784588|EvangD (US) 5th May| 10134313|    Lydgate Affair|        LOSER| 38.42|                   2|        false|\n",
      "+--------------+--------------+-----------+---------------+--------+-------------------+---------+------------------+-------------+------+--------------------+-------------+\n",
      "only showing top 20 rows\n",
      "\n"
     ]
    },
    {
     "name": "stderr",
     "output_type": "stream",
     "text": [
      "                                                                                \r"
     ]
    }
   ],
   "source": [
    "runners_fast_wbsp.show()"
   ]
  },
  {
   "cell_type": "code",
   "execution_count": 41,
   "metadata": {},
   "outputs": [],
   "source": [
    "## turning bsp to integer type\n",
    "from pyspark.sql.types import IntegerType\n"
   ]
  },
  {
   "cell_type": "code",
   "execution_count": 42,
   "metadata": {},
   "outputs": [],
   "source": [
    "runners_fast_wbsp = runners_fast_wbsp.withColumn(\"bsp\", runners_fast_wbsp[\"bsp\"].cast(IntegerType()))"
   ]
  },
  {
   "cell_type": "code",
   "execution_count": 43,
   "metadata": {},
   "outputs": [
    {
     "data": {
      "text/plain": [
       "[('operation_type', 'string'),\n",
       " ('published_time', 'bigint'),\n",
       " ('market_id', 'string'),\n",
       " ('market_name', 'string'),\n",
       " ('event_id', 'string'),\n",
       " ('event_name', 'string'),\n",
       " ('runner_id', 'int'),\n",
       " ('runner_name', 'string'),\n",
       " ('runner_status', 'string'),\n",
       " ('bsp', 'int'),\n",
       " ('runner_sort_priority', 'int'),\n",
       " ('is_fast_horse', 'boolean')]"
      ]
     },
     "execution_count": 43,
     "metadata": {},
     "output_type": "execute_result"
    }
   ],
   "source": [
    "runners_fast_wbsp.dtypes"
   ]
  },
  {
   "cell_type": "code",
   "execution_count": 44,
   "metadata": {},
   "outputs": [],
   "source": [
    "#runners_fast_wbsp.count()"
   ]
  },
  {
   "cell_type": "code",
   "execution_count": 45,
   "metadata": {},
   "outputs": [],
   "source": [
    "#############################"
   ]
  },
  {
   "cell_type": "code",
   "execution_count": null,
   "metadata": {},
   "outputs": [],
   "source": []
  },
  {
   "cell_type": "code",
   "execution_count": 46,
   "metadata": {},
   "outputs": [
    {
     "data": {
      "text/plain": [
       "[('operation_type', 'string'),\n",
       " ('published_time', 'bigint'),\n",
       " ('market_id', 'string'),\n",
       " ('market_name', 'string'),\n",
       " ('event_id', 'string'),\n",
       " ('event_name', 'string'),\n",
       " ('runner_id', 'int'),\n",
       " ('runner_name', 'string'),\n",
       " ('runner_status', 'string'),\n",
       " ('runner_sort_priority', 'int'),\n",
       " ('is_fast_horse', 'boolean')]"
      ]
     },
     "execution_count": 46,
     "metadata": {},
     "output_type": "execute_result"
    }
   ],
   "source": [
    "runners_fast.dtypes"
   ]
  },
  {
   "cell_type": "code",
   "execution_count": 47,
   "metadata": {},
   "outputs": [
    {
     "name": "stdout",
     "output_type": "stream",
     "text": [
      "+--------------+--------------+-----------+---------------+--------+-------------------+---------+------------------+-------------+--------------------+-------------+\n",
      "|operation_type|published_time|  market_id|    market_name|event_id|         event_name|runner_id|       runner_name|runner_status|runner_sort_priority|is_fast_horse|\n",
      "+--------------+--------------+-----------+---------------+--------+-------------------+---------+------------------+-------------+--------------------+-------------+\n",
      "|           mcm| 1462501034557|1.124659130|     R8 1m Allw|27784588|EvangD (US) 5th May| 10575249|       Bitsys Half|        LOSER|                   5|        false|\n",
      "|           mcm| 1462501034557|1.124659130|     R8 1m Allw|27784588|EvangD (US) 5th May| 10288198|         Blue Code|        LOSER|                   6|        false|\n",
      "|           mcm| 1462501034557|1.124659130|     R8 1m Allw|27784588|EvangD (US) 5th May| 10116126|            Zartan|        LOSER|                   7|        false|\n",
      "|           mcm| 1462501034557|1.124659130|     R8 1m Allw|27784588|EvangD (US) 5th May| 10221428|         Old Conch|        LOSER|                   8|        false|\n",
      "|           mcm| 1462501034557|1.124659130|     R8 1m Allw|27784588|EvangD (US) 5th May| 10150151|Rose Needs A Check|        LOSER|                   9|        false|\n",
      "|           mcm| 1462501034557|1.124659130|     R8 1m Allw|27784588|EvangD (US) 5th May| 10237987|           Make Do|        LOSER|                  10|        false|\n",
      "|           mcm| 1462501034557|1.124659130|     R8 1m Allw|27784588|EvangD (US) 5th May| 10674850|      Cajun Kitten|        LOSER|                  11|        false|\n",
      "|           mcm| 1462501034557|1.124659130|     R8 1m Allw|27784588|EvangD (US) 5th May| 10550376|       Dr. Zipcity|       WINNER|                  12|        false|\n",
      "|           mcm| 1462501034557|1.124659130|     R8 1m Allw|27784588|EvangD (US) 5th May| 10849769|     Goforthegreen|        LOSER|                  13|        false|\n",
      "|           mcm| 1462501034557|1.124659130|     R8 1m Allw|27784588|EvangD (US) 5th May| 10762541|       Specialeyes|        LOSER|                  14|        false|\n",
      "|           mcm| 1462502535129|1.124659133|R9 7f Mdn Claim|27784588|EvangD (US) 5th May| 10175250|           Cabildo|        LOSER|                   1|        false|\n",
      "|           mcm| 1462502535129|1.124659133|R9 7f Mdn Claim|27784588|EvangD (US) 5th May| 10592064|      Point Secret|        LOSER|                   2|        false|\n",
      "|           mcm| 1462502535129|1.124659133|R9 7f Mdn Claim|27784588|EvangD (US) 5th May|  9111702|       Lip Service|       WINNER|                   3|        false|\n",
      "|           mcm| 1462502535129|1.124659133|R9 7f Mdn Claim|27784588|EvangD (US) 5th May| 10154653|         Warlander|        LOSER|                   4|        false|\n",
      "|           mcm| 1462502535129|1.124659133|R9 7f Mdn Claim|27784588|EvangD (US) 5th May| 10059993|    Cowboy Classic|        LOSER|                   5|        false|\n",
      "|           mcm| 1462502535129|1.124659133|R9 7f Mdn Claim|27784588|EvangD (US) 5th May| 10681528|    Dry Wood Creek|        LOSER|                   6|        false|\n",
      "|           mcm| 1462502535129|1.124659133|R9 7f Mdn Claim|27784588|EvangD (US) 5th May| 10804072|              Eppy|        LOSER|                   7|        false|\n",
      "|           mcm| 1462502535129|1.124659133|R9 7f Mdn Claim|27784588|EvangD (US) 5th May| 10882521|     Ball And Pins|        LOSER|                   8|        false|\n",
      "|           mcm| 1462495994956|1.124659121|    R5 6f Claim|27784588|EvangD (US) 5th May| 10102626|       Philli Four|        LOSER|                   1|        false|\n",
      "|           mcm| 1462495994956|1.124659121|    R5 6f Claim|27784588|EvangD (US) 5th May| 10134313|    Lydgate Affair|        LOSER|                   2|        false|\n",
      "+--------------+--------------+-----------+---------------+--------+-------------------+---------+------------------+-------------+--------------------+-------------+\n",
      "only showing top 20 rows\n",
      "\n"
     ]
    }
   ],
   "source": [
    "runners_fast.show()"
   ]
  },
  {
   "cell_type": "code",
   "execution_count": 48,
   "metadata": {},
   "outputs": [],
   "source": [
    "runners_fast_only = runners_fast"
   ]
  },
  {
   "cell_type": "code",
   "execution_count": 49,
   "metadata": {},
   "outputs": [],
   "source": [
    "runners_fast_only = runners_fast.filter(runners_fast.is_fast_horse=='true')"
   ]
  },
  {
   "cell_type": "code",
   "execution_count": 50,
   "metadata": {},
   "outputs": [
    {
     "name": "stderr",
     "output_type": "stream",
     "text": [
      "[Stage 9:>                                                          (0 + 1) / 1]\r"
     ]
    },
    {
     "name": "stdout",
     "output_type": "stream",
     "text": [
      "+--------------+--------------+-----------+---------------+--------+-------------------+---------+------------------+-------------+--------------------+-------------+\n",
      "|operation_type|published_time|  market_id|    market_name|event_id|         event_name|runner_id|       runner_name|runner_status|runner_sort_priority|is_fast_horse|\n",
      "+--------------+--------------+-----------+---------------+--------+-------------------+---------+------------------+-------------+--------------------+-------------+\n",
      "|           mcm| 1462495994956|1.124659121|    R5 6f Claim|27784588|EvangD (US) 5th May| 10116132|      Als Wild Cat|        LOSER|                   3|         true|\n",
      "|           mcm| 1462492394718|1.124659115|R3 5f Mdn Claim|27784588|EvangD (US) 5th May| 11133644|       Smart Heath|        LOSER|                   4|         true|\n",
      "|           mcm| 1462494555563|1.124659118|    R4 7f Claim|27784588|EvangD (US) 5th May| 10059691|Run Mardi Gras Run|        LOSER|                   2|         true|\n",
      "|           mcm| 1462494555563|1.124659118|    R4 7f Claim|27784588|EvangD (US) 5th May| 10846299|      Wild Mimosas|        LOSER|                   3|         true|\n",
      "|           mcm| 1462494555563|1.124659118|    R4 7f Claim|27784588|EvangD (US) 5th May| 10150152|     Wildlee Funny|        LOSER|                  11|         true|\n",
      "|           mcm| 1462495994956|1.124659121|    R5 6f Claim|27784588|EvangD (US) 5th May| 10116132|      Als Wild Cat|        LOSER|                   3|         true|\n",
      "|           mcm| 1462497869255|1.124659124|    R6 1m Claim|27784588|EvangD (US) 5th May| 10679436| Silver Rocket Man|        LOSER|                   6|         true|\n",
      "|           mcm| 1462497869255|1.124659124|    R6 1m Claim|27784588|EvangD (US) 5th May|  9991336| Boogiehill Hustle|        LOSER|                   7|         true|\n",
      "|           mcm| 1462499295163|1.124659127|    R7 6f Claim|27784588|EvangD (US) 5th May|  6236917|    Fleeting Image|        LOSER|                   4|         true|\n",
      "|           mcm| 1462492394718|1.124659115|R3 5f Mdn Claim|27784588|EvangD (US) 5th May| 11133644|       Smart Heath|        LOSER|                   4|         true|\n",
      "|           mcm| 1462494555563|1.124659118|    R4 7f Claim|27784588|EvangD (US) 5th May| 10059691|Run Mardi Gras Run|        LOSER|                   2|         true|\n",
      "|           mcm| 1462494555563|1.124659118|    R4 7f Claim|27784588|EvangD (US) 5th May| 10846299|      Wild Mimosas|        LOSER|                   3|         true|\n",
      "|           mcm| 1462494555563|1.124659118|    R4 7f Claim|27784588|EvangD (US) 5th May| 10150152|     Wildlee Funny|        LOSER|                  11|         true|\n",
      "|           mcm| 1462499295163|1.124659127|    R7 6f Claim|27784588|EvangD (US) 5th May|  6236917|    Fleeting Image|        LOSER|                   4|         true|\n",
      "|           mcm| 1462497869255|1.124659124|    R6 1m Claim|27784588|EvangD (US) 5th May| 10679436| Silver Rocket Man|        LOSER|                   6|         true|\n",
      "|           mcm| 1462497869255|1.124659124|    R6 1m Claim|27784588|EvangD (US) 5th May|  9991336| Boogiehill Hustle|        LOSER|                   7|         true|\n",
      "|           mcm| 1462539733136|1.124664265|   2m4f Nov Hrd|27785230|      MrktR 6th May|  8977684| Lettheriverrundry|        LOSER|                   2|         true|\n",
      "|           mcm| 1462539733136|1.124664265|   2m4f Nov Hrd|27785230|      MrktR 6th May|  8079324|          Rushvale|        LOSER|                   6|         true|\n",
      "|           mcm| 1462551124888|1.124664295|         2m NHF|27785230|      MrktR 6th May| 11137663|     Saint Cajetan|        LOSER|                   4|         true|\n",
      "|           mcm| 1462539733136|1.124664265|   2m4f Nov Hrd|27785230|      MrktR 6th May|  8977684| Lettheriverrundry|        LOSER|                   2|         true|\n",
      "+--------------+--------------+-----------+---------------+--------+-------------------+---------+------------------+-------------+--------------------+-------------+\n",
      "only showing top 20 rows\n",
      "\n"
     ]
    },
    {
     "name": "stderr",
     "output_type": "stream",
     "text": [
      "                                                                                \r"
     ]
    }
   ],
   "source": [
    "runners_fast_only.show()"
   ]
  },
  {
   "cell_type": "code",
   "execution_count": 51,
   "metadata": {},
   "outputs": [],
   "source": [
    "runners_fast_only_win = runners_fast_only.filter(runners_fast_only.runner_status=='WINNER')"
   ]
  },
  {
   "cell_type": "code",
   "execution_count": 52,
   "metadata": {},
   "outputs": [
    {
     "name": "stderr",
     "output_type": "stream",
     "text": [
      "[Stage 11:=============================>                            (1 + 1) / 2]\r"
     ]
    },
    {
     "name": "stdout",
     "output_type": "stream",
     "text": [
      "+--------------+--------------+-----------+------------------+--------+--------------------+---------+----------------+-------------+--------------------+-------------+\n",
      "|operation_type|published_time|  market_id|       market_name|event_id|          event_name|runner_id|     runner_name|runner_status|runner_sort_priority|is_fast_horse|\n",
      "+--------------+--------------+-----------+------------------+--------+--------------------+---------+----------------+-------------+--------------------+-------------+\n",
      "|           mcm| 1462549406066|1.124660844|           7f Hcap|27785040|        Ling 6th May|  4776418|       Space War|       WINNER|                   5|         true|\n",
      "|           mcm| 1462549406066|1.124660844|           7f Hcap|27785040|        Ling 6th May|  4776418|       Space War|       WINNER|                   5|         true|\n",
      "|           mcm| 1462487628442|1.124659140|       R2 1m Claim|27784591|   Penn (US) 5th May|  9979505|Wild Imagination|       WINNER|                   2|         true|\n",
      "|           mcm| 1462492820738|1.124659149|  R5 6f Allw Claim|27784591|   Penn (US) 5th May| 10367036|      Chief Lion|       WINNER|                   6|         true|\n",
      "|           mcm| 1462492820738|1.124659149|  R5 6f Allw Claim|27784591|   Penn (US) 5th May| 10367036|      Chief Lion|       WINNER|                   6|         true|\n",
      "|           mcm| 1462487628442|1.124659140|       R2 1m Claim|27784591|   Penn (US) 5th May|  9979505|Wild Imagination|       WINNER|                   2|         true|\n",
      "|           mcm| 1462566534735|1.124689833|         R7 7f Mdn|27786142|  Woodb (US) 6th May| 10398259|     Rocket Plan|       WINNER|                   2|         true|\n",
      "|           mcm| 1462568461762|1.124689836|R8 1m1f Allw Claim|27786142|  Woodb (US) 6th May|  9993030|        Hot Kiss|       WINNER|                   7|         true|\n",
      "|           mcm| 1462566534735|1.124689833|         R7 7f Mdn|27786142|  Woodb (US) 6th May| 10398259|     Rocket Plan|       WINNER|                   2|         true|\n",
      "|           mcm| 1462568461762|1.124689836|R8 1m1f Allw Claim|27786142|  Woodb (US) 6th May|  9993030|        Hot Kiss|       WINNER|                   7|         true|\n",
      "|           mcm| 1462541867200|1.124654246| 1600m 4yo+ Listed|27784315| Chant (FRA) 6th May|  9382369|       2. Sayana|       WINNER|                   7|         true|\n",
      "|           mcm| 1462541867200|1.124654246| 1600m 4yo+ Listed|27784315| Chant (FRA) 6th May|  9382369|       2. Sayana|       WINNER|                   7|         true|\n",
      "|           mcm| 1462544323081|1.124649425|         1m5f Grp3|27783894|       Chest 6th May|  8787781|       Dartmouth|       WINNER|                   3|         true|\n",
      "|           mcm| 1462544323081|1.124649425|         1m5f Grp3|27783894|       Chest 6th May|  8787781|       Dartmouth|       WINNER|                   3|         true|\n",
      "|           mcm| 1462653595524|1.124714894|       R2 6f Claim|27787686|Emerald (US) 7th May| 10097089|    Sophie Dopey|       WINNER|                   3|         true|\n",
      "|           mcm| 1462653595524|1.124714894|       R2 6f Claim|27787686|Emerald (US) 7th May| 10097089|    Sophie Dopey|       WINNER|                   3|         true|\n",
      "|           mcm| 1462672355616|1.124715150|       R7 1m Claim|27787689| EvangD (US) 7th May| 10116145| Moment Of Grace|       WINNER|                   8|         true|\n",
      "|           mcm| 1462672355616|1.124715150|       R7 1m Claim|27787689| EvangD (US) 7th May| 10116145| Moment Of Grace|       WINNER|                   8|         true|\n",
      "|           mcm| 1462715272795|1.124735343| 1600m 4yo+ Listed|27788515|   Col (GER) 8th May| 11149698|     8. Wildpark|       WINNER|                   3|         true|\n",
      "|           mcm| 1462715272795|1.124735343| 1600m 4yo+ Listed|27788515|   Col (GER) 8th May| 11149698|     8. Wildpark|       WINNER|                   3|         true|\n",
      "+--------------+--------------+-----------+------------------+--------+--------------------+---------+----------------+-------------+--------------------+-------------+\n",
      "only showing top 20 rows\n",
      "\n"
     ]
    },
    {
     "name": "stderr",
     "output_type": "stream",
     "text": [
      "                                                                                \r"
     ]
    }
   ],
   "source": [
    "runners_fast_only_win.show()"
   ]
  },
  {
   "cell_type": "code",
   "execution_count": null,
   "metadata": {},
   "outputs": [],
   "source": []
  },
  {
   "cell_type": "code",
   "execution_count": null,
   "metadata": {},
   "outputs": [],
   "source": []
  },
  {
   "cell_type": "code",
   "execution_count": null,
   "metadata": {},
   "outputs": [],
   "source": []
  },
  {
   "cell_type": "code",
   "execution_count": 53,
   "metadata": {},
   "outputs": [],
   "source": [
    "###########################"
   ]
  },
  {
   "cell_type": "code",
   "execution_count": 54,
   "metadata": {},
   "outputs": [],
   "source": [
    "runners_fast_wbsp_sample = runners_fast_wbsp.limit(1000)"
   ]
  },
  {
   "cell_type": "code",
   "execution_count": 55,
   "metadata": {},
   "outputs": [
    {
     "name": "stderr",
     "output_type": "stream",
     "text": [
      "[Stage 12:=====================================================>(113 + 1) / 114]\r"
     ]
    },
    {
     "name": "stdout",
     "output_type": "stream",
     "text": [
      "+--------------+--------------+-----------+---------------+--------+-------------------+---------+------------------+-------------+---+--------------------+-------------+\n",
      "|operation_type|published_time|  market_id|    market_name|event_id|         event_name|runner_id|       runner_name|runner_status|bsp|runner_sort_priority|is_fast_horse|\n",
      "+--------------+--------------+-----------+---------------+--------+-------------------+---------+------------------+-------------+---+--------------------+-------------+\n",
      "|           mcm| 1462501034557|1.124659130|     R8 1m Allw|27784588|EvangD (US) 5th May| 10575249|       Bitsys Half|        LOSER| 13|                   5|        false|\n",
      "|           mcm| 1462501034557|1.124659130|     R8 1m Allw|27784588|EvangD (US) 5th May| 10288198|         Blue Code|        LOSER| 32|                   6|        false|\n",
      "|           mcm| 1462501034557|1.124659130|     R8 1m Allw|27784588|EvangD (US) 5th May| 10116126|            Zartan|        LOSER| 57|                   7|        false|\n",
      "|           mcm| 1462501034557|1.124659130|     R8 1m Allw|27784588|EvangD (US) 5th May| 10221428|         Old Conch|        LOSER|223|                   8|        false|\n",
      "|           mcm| 1462501034557|1.124659130|     R8 1m Allw|27784588|EvangD (US) 5th May| 10150151|Rose Needs A Check|        LOSER| 15|                   9|        false|\n",
      "|           mcm| 1462501034557|1.124659130|     R8 1m Allw|27784588|EvangD (US) 5th May| 10237987|           Make Do|        LOSER| 10|                  10|        false|\n",
      "|           mcm| 1462501034557|1.124659130|     R8 1m Allw|27784588|EvangD (US) 5th May| 10674850|      Cajun Kitten|        LOSER|  4|                  11|        false|\n",
      "|           mcm| 1462501034557|1.124659130|     R8 1m Allw|27784588|EvangD (US) 5th May| 10550376|       Dr. Zipcity|       WINNER| 26|                  12|        false|\n",
      "|           mcm| 1462501034557|1.124659130|     R8 1m Allw|27784588|EvangD (US) 5th May| 10849769|     Goforthegreen|        LOSER| 21|                  13|        false|\n",
      "|           mcm| 1462501034557|1.124659130|     R8 1m Allw|27784588|EvangD (US) 5th May| 10762541|       Specialeyes|        LOSER|  2|                  14|        false|\n",
      "|           mcm| 1462502535129|1.124659133|R9 7f Mdn Claim|27784588|EvangD (US) 5th May| 10175250|           Cabildo|        LOSER| 83|                   1|        false|\n",
      "|           mcm| 1462502535129|1.124659133|R9 7f Mdn Claim|27784588|EvangD (US) 5th May| 10592064|      Point Secret|        LOSER|  5|                   2|        false|\n",
      "|           mcm| 1462502535129|1.124659133|R9 7f Mdn Claim|27784588|EvangD (US) 5th May|  9111702|       Lip Service|       WINNER|  4|                   3|        false|\n",
      "|           mcm| 1462502535129|1.124659133|R9 7f Mdn Claim|27784588|EvangD (US) 5th May| 10154653|         Warlander|        LOSER|  7|                   4|        false|\n",
      "|           mcm| 1462502535129|1.124659133|R9 7f Mdn Claim|27784588|EvangD (US) 5th May| 10059993|    Cowboy Classic|        LOSER| 12|                   5|        false|\n",
      "|           mcm| 1462502535129|1.124659133|R9 7f Mdn Claim|27784588|EvangD (US) 5th May| 10681528|    Dry Wood Creek|        LOSER|  4|                   6|        false|\n",
      "|           mcm| 1462502535129|1.124659133|R9 7f Mdn Claim|27784588|EvangD (US) 5th May| 10804072|              Eppy|        LOSER| 18|                   7|        false|\n",
      "|           mcm| 1462502535129|1.124659133|R9 7f Mdn Claim|27784588|EvangD (US) 5th May| 10882521|     Ball And Pins|        LOSER| 14|                   8|        false|\n",
      "|           mcm| 1462495994956|1.124659121|    R5 6f Claim|27784588|EvangD (US) 5th May| 10102626|       Philli Four|        LOSER| 14|                   1|        false|\n",
      "|           mcm| 1462495994956|1.124659121|    R5 6f Claim|27784588|EvangD (US) 5th May| 10134313|    Lydgate Affair|        LOSER| 38|                   2|        false|\n",
      "|           mcm| 1462495994956|1.124659121|    R5 6f Claim|27784588|EvangD (US) 5th May| 10116132|      Als Wild Cat|        LOSER| 26|                   3|         true|\n",
      "|           mcm| 1462495994956|1.124659121|    R5 6f Claim|27784588|EvangD (US) 5th May| 10097148|     Beturselfrich|        LOSER|111|                   4|        false|\n",
      "|           mcm| 1462495994956|1.124659121|    R5 6f Claim|27784588|EvangD (US) 5th May| 10097149|    Diamond Chaser|        LOSER| 39|                   5|        false|\n",
      "|           mcm| 1462495994956|1.124659121|    R5 6f Claim|27784588|EvangD (US) 5th May| 10497623|           Big Bam|        LOSER| 20|                   6|        false|\n",
      "|           mcm| 1462495994956|1.124659121|    R5 6f Claim|27784588|EvangD (US) 5th May| 10066024|        Delta Code|        LOSER|  7|                   7|        false|\n",
      "|           mcm| 1462495994956|1.124659121|    R5 6f Claim|27784588|EvangD (US) 5th May| 10449724|       Just Glossy|        LOSER|  2|                   8|        false|\n",
      "|           mcm| 1462495994956|1.124659121|    R5 6f Claim|27784588|EvangD (US) 5th May| 10059674|   Executive Chick|       WINNER|  4|                   9|        false|\n",
      "|           mcm| 1462495994956|1.124659121|    R5 6f Claim|27784588|EvangD (US) 5th May| 10006102|       Dixie Vicki|        LOSER| 16|                  10|        false|\n",
      "|           mcm| 1462495994956|1.124659121|    R5 6f Claim|27784588|EvangD (US) 5th May| 10672221|        Parlor Cat|        LOSER| 71|                  11|        false|\n",
      "|           mcm| 1462490774116|1.124659112|    R2 7f Claim|27784588|EvangD (US) 5th May| 10719364|            Unveil|       WINNER|  5|                   3|        false|\n",
      "|           mcm| 1462490774116|1.124659112|    R2 7f Claim|27784588|EvangD (US) 5th May| 10092365|     Provoking Cat|        LOSER|  1|                   4|        false|\n",
      "|           mcm| 1462490774116|1.124659112|    R2 7f Claim|27784588|EvangD (US) 5th May| 10119737|      Incrimidator|        LOSER| 61|                   5|        false|\n",
      "|           mcm| 1462490774116|1.124659112|    R2 7f Claim|27784588|EvangD (US) 5th May| 10059668|     Deedeelicious|        LOSER|  6|                   6|        false|\n",
      "|           mcm| 1462490774116|1.124659112|    R2 7f Claim|27784588|EvangD (US) 5th May|  7808922|      Third Strike|        LOSER| 24|                   7|        false|\n",
      "|           mcm| 1462489087817|1.124659109|R1 1m Mdn Claim|27784588|EvangD (US) 5th May| 10116143|      Ide Be Dyana|        LOSER|  2|                   3|        false|\n",
      "|           mcm| 1462489087817|1.124659109|R1 1m Mdn Claim|27784588|EvangD (US) 5th May| 10735859|         Tiz Rizen|        LOSER| 11|                   4|        false|\n",
      "|           mcm| 1462489087817|1.124659109|R1 1m Mdn Claim|27784588|EvangD (US) 5th May| 10771481|     Cimarron Rose|        LOSER| 50|                   5|        false|\n",
      "|           mcm| 1462489087817|1.124659109|R1 1m Mdn Claim|27784588|EvangD (US) 5th May| 10664761|    All Fore Kicks|        LOSER| 27|                   6|        false|\n",
      "|           mcm| 1462489087817|1.124659109|R1 1m Mdn Claim|27784588|EvangD (US) 5th May| 10672223|  Late Appointment|       WINNER|  1|                   7|        false|\n",
      "|           mcm| 1462490774116|1.124659112|    R2 7f Claim|27784588|EvangD (US) 5th May| 10719364|            Unveil|       WINNER|  5|                   3|        false|\n",
      "|           mcm| 1462490774116|1.124659112|    R2 7f Claim|27784588|EvangD (US) 5th May| 10092365|     Provoking Cat|        LOSER|  1|                   4|        false|\n",
      "|           mcm| 1462490774116|1.124659112|    R2 7f Claim|27784588|EvangD (US) 5th May| 10119737|      Incrimidator|        LOSER| 61|                   5|        false|\n",
      "|           mcm| 1462490774116|1.124659112|    R2 7f Claim|27784588|EvangD (US) 5th May| 10059668|     Deedeelicious|        LOSER|  6|                   6|        false|\n",
      "|           mcm| 1462490774116|1.124659112|    R2 7f Claim|27784588|EvangD (US) 5th May|  7808922|      Third Strike|        LOSER| 24|                   7|        false|\n",
      "|           mcm| 1462492394718|1.124659115|R3 5f Mdn Claim|27784588|EvangD (US) 5th May|  5324624|       Big Red Cat|        LOSER|  2|                   2|        false|\n",
      "|           mcm| 1462492394718|1.124659115|R3 5f Mdn Claim|27784588|EvangD (US) 5th May| 11043806|       Valid Sense|        LOSER| 22|                   3|        false|\n",
      "|           mcm| 1462492394718|1.124659115|R3 5f Mdn Claim|27784588|EvangD (US) 5th May| 11133644|       Smart Heath|        LOSER| 26|                   4|         true|\n",
      "|           mcm| 1462492394718|1.124659115|R3 5f Mdn Claim|27784588|EvangD (US) 5th May| 11048919|  Callitwhatyawant|       WINNER|  3|                   5|        false|\n",
      "|           mcm| 1462492394718|1.124659115|R3 5f Mdn Claim|27784588|EvangD (US) 5th May| 10773932|    Grand Assembly|        LOSER|128|                   6|        false|\n",
      "|           mcm| 1462492394718|1.124659115|R3 5f Mdn Claim|27784588|EvangD (US) 5th May|  3865226|    Whistling Wind|        LOSER|  5|                   7|        false|\n",
      "|           mcm| 1462492394718|1.124659115|R3 5f Mdn Claim|27784588|EvangD (US) 5th May| 11043807|    N C I S Howard|        LOSER|100|                   8|        false|\n",
      "|           mcm| 1462492394718|1.124659115|R3 5f Mdn Claim|27784588|EvangD (US) 5th May| 10134335| Skinney Like That|        LOSER|170|                   9|        false|\n",
      "|           mcm| 1462492394718|1.124659115|R3 5f Mdn Claim|27784588|EvangD (US) 5th May| 10092354|Idol Mcartneyvalue|        LOSER| 13|                  10|        false|\n",
      "|           mcm| 1462494555563|1.124659118|    R4 7f Claim|27784588|EvangD (US) 5th May| 10146699|        Rebel Miss|        LOSER| 21|                   1|        false|\n",
      "|           mcm| 1462494555563|1.124659118|    R4 7f Claim|27784588|EvangD (US) 5th May| 10059691|Run Mardi Gras Run|        LOSER|  8|                   2|         true|\n",
      "|           mcm| 1462494555563|1.124659118|    R4 7f Claim|27784588|EvangD (US) 5th May| 10846299|      Wild Mimosas|        LOSER| 50|                   3|         true|\n",
      "|           mcm| 1462494555563|1.124659118|    R4 7f Claim|27784588|EvangD (US) 5th May|  9969066|           Z Smoke|        LOSER| 13|                   4|        false|\n",
      "|           mcm| 1462494555563|1.124659118|    R4 7f Claim|27784588|EvangD (US) 5th May| 10102601|         Junes Pal|        LOSER|  7|                   5|        false|\n",
      "|           mcm| 1462494555563|1.124659118|    R4 7f Claim|27784588|EvangD (US) 5th May| 10059693|         Jakes Bet|        LOSER|113|                   6|        false|\n",
      "|           mcm| 1462494555563|1.124659118|    R4 7f Claim|27784588|EvangD (US) 5th May|  9978850|        Snowy Girl|        LOSER| 11|                   7|        false|\n",
      "|           mcm| 1462494555563|1.124659118|    R4 7f Claim|27784588|EvangD (US) 5th May| 10441414|  Parkers Nite Out|       WINNER|  4|                   8|        false|\n",
      "|           mcm| 1462494555563|1.124659118|    R4 7f Claim|27784588|EvangD (US) 5th May| 10065615|       Coast Of La|        LOSER|  8|                   9|        false|\n",
      "|           mcm| 1462494555563|1.124659118|    R4 7f Claim|27784588|EvangD (US) 5th May| 10059722|         Fire Arms|        LOSER|  9|                  10|        false|\n",
      "|           mcm| 1462494555563|1.124659118|    R4 7f Claim|27784588|EvangD (US) 5th May| 10150152|     Wildlee Funny|        LOSER| 25|                  11|         true|\n",
      "|           mcm| 1462495994956|1.124659121|    R5 6f Claim|27784588|EvangD (US) 5th May| 10102626|       Philli Four|        LOSER| 14|                   1|        false|\n",
      "|           mcm| 1462495994956|1.124659121|    R5 6f Claim|27784588|EvangD (US) 5th May| 10134313|    Lydgate Affair|        LOSER| 38|                   2|        false|\n",
      "|           mcm| 1462495994956|1.124659121|    R5 6f Claim|27784588|EvangD (US) 5th May| 10116132|      Als Wild Cat|        LOSER| 26|                   3|         true|\n",
      "|           mcm| 1462495994956|1.124659121|    R5 6f Claim|27784588|EvangD (US) 5th May| 10097148|     Beturselfrich|        LOSER|111|                   4|        false|\n",
      "|           mcm| 1462495994956|1.124659121|    R5 6f Claim|27784588|EvangD (US) 5th May| 10097149|    Diamond Chaser|        LOSER| 39|                   5|        false|\n",
      "|           mcm| 1462495994956|1.124659121|    R5 6f Claim|27784588|EvangD (US) 5th May| 10497623|           Big Bam|        LOSER| 20|                   6|        false|\n",
      "|           mcm| 1462495994956|1.124659121|    R5 6f Claim|27784588|EvangD (US) 5th May| 10066024|        Delta Code|        LOSER|  7|                   7|        false|\n",
      "|           mcm| 1462495994956|1.124659121|    R5 6f Claim|27784588|EvangD (US) 5th May| 10449724|       Just Glossy|        LOSER|  2|                   8|        false|\n",
      "|           mcm| 1462495994956|1.124659121|    R5 6f Claim|27784588|EvangD (US) 5th May| 10059674|   Executive Chick|       WINNER|  4|                   9|        false|\n",
      "|           mcm| 1462495994956|1.124659121|    R5 6f Claim|27784588|EvangD (US) 5th May| 10006102|       Dixie Vicki|        LOSER| 16|                  10|        false|\n",
      "|           mcm| 1462495994956|1.124659121|    R5 6f Claim|27784588|EvangD (US) 5th May| 10672221|        Parlor Cat|        LOSER| 71|                  11|        false|\n",
      "|           mcm| 1462497869255|1.124659124|    R6 1m Claim|27784588|EvangD (US) 5th May| 10092348|        Devils Pay|        LOSER|  8|                   1|        false|\n",
      "|           mcm| 1462497869255|1.124659124|    R6 1m Claim|27784588|EvangD (US) 5th May| 10065606|       Zantastical|       WINNER|  5|                   2|        false|\n",
      "|           mcm| 1462497869255|1.124659124|    R6 1m Claim|27784588|EvangD (US) 5th May| 10557000|      Adieu Gerald|        LOSER|  8|                   3|        false|\n",
      "|           mcm| 1462497869255|1.124659124|    R6 1m Claim|27784588|EvangD (US) 5th May| 10088013|         Idealites|        LOSER| 30|                   4|        false|\n",
      "|           mcm| 1462497869255|1.124659124|    R6 1m Claim|27784588|EvangD (US) 5th May|  9978821|         Ten Scars|        LOSER| 12|                   5|        false|\n",
      "|           mcm| 1462497869255|1.124659124|    R6 1m Claim|27784588|EvangD (US) 5th May| 10679436| Silver Rocket Man|        LOSER|  7|                   6|         true|\n",
      "|           mcm| 1462497869255|1.124659124|    R6 1m Claim|27784588|EvangD (US) 5th May|  9991336| Boogiehill Hustle|        LOSER| 12|                   7|         true|\n",
      "|           mcm| 1462497869255|1.124659124|    R6 1m Claim|27784588|EvangD (US) 5th May| 10059891|       Connors Ace|        LOSER|  3|                   8|        false|\n",
      "|           mcm| 1462497869255|1.124659124|    R6 1m Claim|27784588|EvangD (US) 5th May| 10657644|   Traveling Stone|        LOSER| 70|                   9|        false|\n",
      "|           mcm| 1462497869255|1.124659124|    R6 1m Claim|27784588|EvangD (US) 5th May| 10065601|     Wills Not Mad|        LOSER| 33|                  10|        false|\n",
      "|           mcm| 1462499295163|1.124659127|    R7 6f Claim|27784588|EvangD (US) 5th May|  6236917|    Fleeting Image|        LOSER| 23|                   4|         true|\n",
      "|           mcm| 1462499295163|1.124659127|    R7 6f Claim|27784588|EvangD (US) 5th May| 10441399|    Shobiz Or Bust|        LOSER|  3|                   5|        false|\n",
      "|           mcm| 1462499295163|1.124659127|    R7 6f Claim|27784588|EvangD (US) 5th May| 10179973|       Gold Nation|        LOSER| 10|                   6|        false|\n",
      "|           mcm| 1462499295163|1.124659127|    R7 6f Claim|27784588|EvangD (US) 5th May|  9991378|  Private Joshua G|        LOSER| 24|                   7|        false|\n",
      "|           mcm| 1462499295163|1.124659127|    R7 6f Claim|27784588|EvangD (US) 5th May| 10102608|           Mr Rail|        LOSER|120|                   8|        false|\n",
      "|           mcm| 1462499295163|1.124659127|    R7 6f Claim|27784588|EvangD (US) 5th May|  9991387|      Etbauers Ego|        LOSER| 29|                   9|        false|\n",
      "|           mcm| 1462499295163|1.124659127|    R7 6f Claim|27784588|EvangD (US) 5th May| 10116159|     Zippit Yankee|       WINNER|  3|                  10|        false|\n",
      "|           mcm| 1462499295163|1.124659127|    R7 6f Claim|27784588|EvangD (US) 5th May| 10237992|      Super Sparky|        LOSER| 16|                  11|        false|\n",
      "|           mcm| 1462499295163|1.124659127|    R7 6f Claim|27784588|EvangD (US) 5th May| 10116158|  Booth Road Ozzie|        LOSER| 55|                  12|        false|\n",
      "|           mcm| 1462499295163|1.124659127|    R7 6f Claim|27784588|EvangD (US) 5th May| 10123943| Maddys Production|        LOSER| 69|                  13|        false|\n",
      "|           mcm| 1462499295163|1.124659127|    R7 6f Claim|27784588|EvangD (US) 5th May| 10092358|          Anterior|        LOSER|  6|                  14|        false|\n",
      "|           mcm| 1462501034557|1.124659130|     R8 1m Allw|27784588|EvangD (US) 5th May| 10575249|       Bitsys Half|        LOSER| 13|                   5|        false|\n",
      "|           mcm| 1462501034557|1.124659130|     R8 1m Allw|27784588|EvangD (US) 5th May| 10288198|         Blue Code|        LOSER| 32|                   6|        false|\n",
      "|           mcm| 1462501034557|1.124659130|     R8 1m Allw|27784588|EvangD (US) 5th May| 10116126|            Zartan|        LOSER| 57|                   7|        false|\n",
      "|           mcm| 1462501034557|1.124659130|     R8 1m Allw|27784588|EvangD (US) 5th May| 10221428|         Old Conch|        LOSER|223|                   8|        false|\n",
      "+--------------+--------------+-----------+---------------+--------+-------------------+---------+------------------+-------------+---+--------------------+-------------+\n",
      "only showing top 100 rows\n",
      "\n"
     ]
    },
    {
     "name": "stderr",
     "output_type": "stream",
     "text": [
      "                                                                                \r"
     ]
    }
   ],
   "source": [
    "runners_fast_wbsp_sample.show(100)"
   ]
  },
  {
   "cell_type": "markdown",
   "metadata": {},
   "source": [
    "from pyspark.ml.feature import OneHotEncoderEstimator, StringIndexer, VectorAssembler\n",
    "categoricalColumns = ['job', 'marital', 'education', 'default', 'housing', 'loan', 'contact', 'poutcome']\n",
    "stages = []\n",
    "for categoricalCol in categoricalColumns:\n",
    "    stringIndexer = StringIndexer(inputCol = categoricalCol, outputCol = categoricalCol + 'Index')\n",
    "    encoder = OneHotEncoderEstimator(inputCols=[stringIndexer.getOutputCol()], outputCols=[categoricalCol + \"classVec\"])\n",
    "    stages += [stringIndexer, encoder]\n",
    "label_stringIdx = StringIndexer(inputCol = 'deposit', outputCol = 'label')\n",
    "stages += [label_stringIdx]\n",
    "numericCols = ['age', 'balance', 'duration', 'campaign', 'pdays', 'previous']\n",
    "assemblerInputs = [c + \"classVec\" for c in categoricalColumns] + numericCols\n",
    "assembler = VectorAssembler(inputCols=assemblerInputs, outputCol=\"features\")\n",
    "stages += [assembler]"
   ]
  },
  {
   "cell_type": "markdown",
   "metadata": {},
   "source": [
    "[('operation_type', 'string'),\n",
    " ('published_time', 'bigint'),\n",
    " ('market_id', 'string'),\n",
    " ('market_name', 'string'),\n",
    " ('event_id', 'string'),\n",
    " ('event_name', 'string'),\n",
    " ('runner_id', 'int'),\n",
    " ('runner_name', 'string'),\n",
    " ('runner_status', 'string'),\n",
    " ('runner_sort_priority', 'int'),\n",
    " ('is_fast_horse', 'boolean')]"
   ]
  },
  {
   "cell_type": "code",
   "execution_count": 56,
   "metadata": {},
   "outputs": [],
   "source": [
    "columns_to_drop = ['operation_type', 'published_time', 'market_id', 'market_name', 'event_id', 'event_name', 'runner_id', 'runner_name', 'runner_sort_priority' ]\n"
   ]
  },
  {
   "cell_type": "code",
   "execution_count": 57,
   "metadata": {},
   "outputs": [],
   "source": [
    "runners_fast_wbsp_sample1 = runners_fast_wbsp_sample.drop(*columns_to_drop)"
   ]
  },
  {
   "cell_type": "code",
   "execution_count": 58,
   "metadata": {},
   "outputs": [
    {
     "name": "stderr",
     "output_type": "stream",
     "text": [
      "[Stage 14:=====================================================>(113 + 1) / 114]\r"
     ]
    },
    {
     "name": "stdout",
     "output_type": "stream",
     "text": [
      "+-------------+---+-------------+\n",
      "|runner_status|bsp|is_fast_horse|\n",
      "+-------------+---+-------------+\n",
      "|        LOSER| 13|        false|\n",
      "|        LOSER| 32|        false|\n",
      "|        LOSER| 57|        false|\n",
      "|        LOSER|223|        false|\n",
      "|        LOSER| 15|        false|\n",
      "|        LOSER| 10|        false|\n",
      "|        LOSER|  4|        false|\n",
      "|       WINNER| 26|        false|\n",
      "|        LOSER| 21|        false|\n",
      "|        LOSER|  2|        false|\n",
      "|        LOSER| 83|        false|\n",
      "|        LOSER|  5|        false|\n",
      "|       WINNER|  4|        false|\n",
      "|        LOSER|  7|        false|\n",
      "|        LOSER| 12|        false|\n",
      "|        LOSER|  4|        false|\n",
      "|        LOSER| 18|        false|\n",
      "|        LOSER| 14|        false|\n",
      "|        LOSER| 14|        false|\n",
      "|        LOSER| 38|        false|\n",
      "+-------------+---+-------------+\n",
      "only showing top 20 rows\n",
      "\n"
     ]
    },
    {
     "name": "stderr",
     "output_type": "stream",
     "text": [
      "                                                                                \r"
     ]
    }
   ],
   "source": [
    "runners_fast_wbsp_sample1.show()"
   ]
  },
  {
   "cell_type": "code",
   "execution_count": 59,
   "metadata": {},
   "outputs": [],
   "source": [
    "### Sum of two or more columns in pyspark\n",
    "\n",
    "from pyspark.sql.functions import col"
   ]
  },
  {
   "cell_type": "code",
   "execution_count": 60,
   "metadata": {},
   "outputs": [],
   "source": [
    "runners_fast_wbsp_sample2=runners_fast_wbsp_sample1.withColumn(\"implied_prob\", 1/col(\"bsp\"))"
   ]
  },
  {
   "cell_type": "code",
   "execution_count": 61,
   "metadata": {},
   "outputs": [
    {
     "name": "stderr",
     "output_type": "stream",
     "text": [
      "[Stage 16:=====================================================>(113 + 1) / 114]\r"
     ]
    },
    {
     "name": "stdout",
     "output_type": "stream",
     "text": [
      "+-------------+---+-------------+--------------------+\n",
      "|runner_status|bsp|is_fast_horse|        implied_prob|\n",
      "+-------------+---+-------------+--------------------+\n",
      "|        LOSER| 13|        false| 0.07692307692307693|\n",
      "|        LOSER| 32|        false|             0.03125|\n",
      "|        LOSER| 57|        false|0.017543859649122806|\n",
      "|        LOSER|223|        false|0.004484304932735426|\n",
      "|        LOSER| 15|        false| 0.06666666666666667|\n",
      "|        LOSER| 10|        false|                 0.1|\n",
      "|        LOSER|  4|        false|                0.25|\n",
      "|       WINNER| 26|        false|0.038461538461538464|\n",
      "|        LOSER| 21|        false|0.047619047619047616|\n",
      "|        LOSER|  2|        false|                 0.5|\n",
      "+-------------+---+-------------+--------------------+\n",
      "only showing top 10 rows\n",
      "\n"
     ]
    },
    {
     "name": "stderr",
     "output_type": "stream",
     "text": [
      "                                                                                \r"
     ]
    }
   ],
   "source": [
    "runners_fast_wbsp_sample2.show(10)"
   ]
  },
  {
   "cell_type": "code",
   "execution_count": 62,
   "metadata": {},
   "outputs": [],
   "source": [
    "columns_to_drop = [\"bsp\"]\n",
    "runners_fast_wbsp_sample2 = runners_fast_wbsp_sample2.drop(*columns_to_drop)"
   ]
  },
  {
   "cell_type": "code",
   "execution_count": 63,
   "metadata": {},
   "outputs": [
    {
     "name": "stderr",
     "output_type": "stream",
     "text": [
      "[Stage 18:=====================================================>(113 + 1) / 114]\r"
     ]
    },
    {
     "name": "stdout",
     "output_type": "stream",
     "text": [
      "+-------------+-----+\n",
      "|runner_status|count|\n",
      "+-------------+-----+\n",
      "|        LOSER|  877|\n",
      "|       WINNER|  123|\n",
      "+-------------+-----+\n",
      "\n"
     ]
    },
    {
     "name": "stderr",
     "output_type": "stream",
     "text": [
      "                                                                                \r"
     ]
    }
   ],
   "source": [
    "runners_fast_wbsp_sample2.groupby(\"runner_status\").count().show()"
   ]
  },
  {
   "cell_type": "code",
   "execution_count": 64,
   "metadata": {},
   "outputs": [
    {
     "name": "stderr",
     "output_type": "stream",
     "text": [
      "[Stage 20:=====================================================>(113 + 1) / 114]\r"
     ]
    },
    {
     "name": "stdout",
     "output_type": "stream",
     "text": [
      "+-------------+-----+\n",
      "|is_fast_horse|count|\n",
      "+-------------+-----+\n",
      "|        false|  921|\n",
      "|         true|   79|\n",
      "+-------------+-----+\n",
      "\n"
     ]
    },
    {
     "name": "stderr",
     "output_type": "stream",
     "text": [
      "                                                                                \r"
     ]
    }
   ],
   "source": [
    "runners_fast_wbsp_sample2.groupby(\"is_fast_horse\").count().show()"
   ]
  },
  {
   "cell_type": "code",
   "execution_count": null,
   "metadata": {},
   "outputs": [],
   "source": []
  },
  {
   "cell_type": "code",
   "execution_count": 65,
   "metadata": {},
   "outputs": [
    {
     "name": "stderr",
     "output_type": "stream",
     "text": [
      "[Stage 22:=====================================================>(113 + 1) / 114]\r"
     ]
    },
    {
     "name": "stdout",
     "output_type": "stream",
     "text": [
      "+-------------+-------------+--------------------+\n",
      "|runner_status|is_fast_horse|        implied_prob|\n",
      "+-------------+-------------+--------------------+\n",
      "|        LOSER|        false| 0.07692307692307693|\n",
      "|        LOSER|        false|             0.03125|\n",
      "|        LOSER|        false|0.017543859649122806|\n",
      "|        LOSER|        false|0.004484304932735426|\n",
      "|        LOSER|        false| 0.06666666666666667|\n",
      "|        LOSER|        false|                 0.1|\n",
      "|        LOSER|        false|                0.25|\n",
      "|       WINNER|        false|0.038461538461538464|\n",
      "|        LOSER|        false|0.047619047619047616|\n",
      "|        LOSER|        false|                 0.5|\n",
      "|        LOSER|        false|0.012048192771084338|\n",
      "|        LOSER|        false|                 0.2|\n",
      "|       WINNER|        false|                0.25|\n",
      "|        LOSER|        false| 0.14285714285714285|\n",
      "|        LOSER|        false| 0.08333333333333333|\n",
      "|        LOSER|        false|                0.25|\n",
      "|        LOSER|        false| 0.05555555555555555|\n",
      "|        LOSER|        false| 0.07142857142857142|\n",
      "|        LOSER|        false| 0.07142857142857142|\n",
      "|        LOSER|        false| 0.02631578947368421|\n",
      "+-------------+-------------+--------------------+\n",
      "only showing top 20 rows\n",
      "\n"
     ]
    },
    {
     "name": "stderr",
     "output_type": "stream",
     "text": [
      "                                                                                \r"
     ]
    }
   ],
   "source": [
    "runners_fast_wbsp_sample2.show()"
   ]
  },
  {
   "cell_type": "code",
   "execution_count": 66,
   "metadata": {},
   "outputs": [
    {
     "name": "stdout",
     "output_type": "stream",
     "text": [
      "Requirement already satisfied: numpy in /opt/conda/envs/python37/lib/python3.7/site-packages (1.21.4)\n"
     ]
    }
   ],
   "source": [
    "!pip install numpy"
   ]
  },
  {
   "cell_type": "code",
   "execution_count": 67,
   "metadata": {},
   "outputs": [],
   "source": [
    "from pyspark.ml.classification import LogisticRegression"
   ]
  },
  {
   "cell_type": "code",
   "execution_count": 68,
   "metadata": {},
   "outputs": [],
   "source": [
    "runners_fast_wbsp_sample2 = runners_fast_wbsp_sample2.withColumn(\"is_fast_horse_num\", runners_fast_wbsp_sample2[\"is_fast_horse\"].cast(IntegerType()))"
   ]
  },
  {
   "cell_type": "code",
   "execution_count": 69,
   "metadata": {},
   "outputs": [],
   "source": [
    "runners_fast_wbsp_sample2 = runners_fast_wbsp_sample2.drop(\"is_fast_horse\")"
   ]
  },
  {
   "cell_type": "code",
   "execution_count": 70,
   "metadata": {},
   "outputs": [
    {
     "data": {
      "text/plain": [
       "[('runner_status', 'string'),\n",
       " ('implied_prob', 'double'),\n",
       " ('is_fast_horse_num', 'int')]"
      ]
     },
     "execution_count": 70,
     "metadata": {},
     "output_type": "execute_result"
    }
   ],
   "source": [
    "runners_fast_wbsp_sample2.dtypes"
   ]
  },
  {
   "cell_type": "code",
   "execution_count": 71,
   "metadata": {},
   "outputs": [
    {
     "name": "stderr",
     "output_type": "stream",
     "text": [
      "[Stage 24:=====================================================>(113 + 1) / 114]\r"
     ]
    },
    {
     "name": "stdout",
     "output_type": "stream",
     "text": [
      "+-------------+-------------------+-----------------+\n",
      "|runner_status|       implied_prob|is_fast_horse_num|\n",
      "+-------------+-------------------+-----------------+\n",
      "|        LOSER|0.07692307692307693|                0|\n",
      "+-------------+-------------------+-----------------+\n",
      "only showing top 1 row\n",
      "\n"
     ]
    },
    {
     "name": "stderr",
     "output_type": "stream",
     "text": [
      "                                                                                \r"
     ]
    }
   ],
   "source": [
    "runners_fast_wbsp_sample2.show(1)"
   ]
  },
  {
   "cell_type": "code",
   "execution_count": 72,
   "metadata": {},
   "outputs": [],
   "source": [
    "cols = runners_fast_wbsp_sample2.columns"
   ]
  },
  {
   "cell_type": "code",
   "execution_count": 73,
   "metadata": {},
   "outputs": [],
   "source": [
    "from pyspark.ml.feature import OneHotEncoder, StringIndexer, VectorAssembler\n",
    "categoricalColumns = ['is_fast_horse_num']\n",
    "#  is_fast_horse, runner_status, implied_prob\n",
    "stages = []\n",
    "\n",
    "for categoricalCol in categoricalColumns:\n",
    "    stringIndexer = StringIndexer(inputCol = categoricalCol, outputCol = categoricalCol + 'Index')\n",
    "    encoder = OneHotEncoder(inputCols=[stringIndexer.getOutputCol()], outputCols=[categoricalCol + \"classVec\"])\n",
    "    stages += [stringIndexer, encoder]\n",
    "\n",
    "label_stringIdx = StringIndexer(inputCol = 'runner_status', outputCol = 'label')\n",
    "\n",
    "stages += [label_stringIdx]\n",
    "\n",
    "numericCols = ['implied_prob']\n",
    "\n",
    "assemblerInputs = [c + \"classVec\" for c in categoricalColumns] + numericCols\n",
    "\n",
    "assembler = VectorAssembler(inputCols=assemblerInputs, outputCol=\"features\")\n",
    "\n",
    "stages += [assembler]"
   ]
  },
  {
   "cell_type": "code",
   "execution_count": 74,
   "metadata": {},
   "outputs": [
    {
     "name": "stderr",
     "output_type": "stream",
     "text": [
      "                                                                                \r"
     ]
    }
   ],
   "source": [
    "# pipline\n",
    "from pyspark.ml import Pipeline\n",
    "pipeline = Pipeline(stages = stages)\n",
    "pipelineModel = pipeline.fit(runners_fast_wbsp_sample2)\n",
    "runners_fast_wbsp_sample2 = pipelineModel.transform(runners_fast_wbsp_sample2)\n"
   ]
  },
  {
   "cell_type": "code",
   "execution_count": 75,
   "metadata": {},
   "outputs": [
    {
     "name": "stdout",
     "output_type": "stream",
     "text": [
      "root\n",
      " |-- label: double (nullable = false)\n",
      " |-- features: vector (nullable = true)\n",
      " |-- runner_status: string (nullable = true)\n",
      " |-- implied_prob: double (nullable = true)\n",
      " |-- is_fast_horse_num: integer (nullable = true)\n",
      "\n"
     ]
    }
   ],
   "source": [
    "selectedCols = ['label', 'features'] + cols\n",
    "runners_fast_wbsp_sample2 = runners_fast_wbsp_sample2.select(selectedCols)\n",
    "runners_fast_wbsp_sample2.printSchema()"
   ]
  },
  {
   "cell_type": "code",
   "execution_count": 76,
   "metadata": {},
   "outputs": [
    {
     "name": "stderr",
     "output_type": "stream",
     "text": [
      "                                                                                \r"
     ]
    },
    {
     "data": {
      "text/plain": [
       "Row(label=0.0, features=DenseVector([1.0, 0.0769]), runner_status='LOSER', implied_prob=0.07692307692307693, is_fast_horse_num=0)"
      ]
     },
     "execution_count": 76,
     "metadata": {},
     "output_type": "execute_result"
    }
   ],
   "source": [
    "runners_fast_wbsp_sample2.head()"
   ]
  },
  {
   "cell_type": "code",
   "execution_count": 77,
   "metadata": {},
   "outputs": [
    {
     "name": "stdout",
     "output_type": "stream",
     "text": [
      "Requirement already satisfied: pandas in /opt/conda/envs/python37/lib/python3.7/site-packages (1.3.4)\n",
      "Requirement already satisfied: pytz>=2017.3 in /opt/conda/envs/python37/lib/python3.7/site-packages (from pandas) (2021.3)\n",
      "Requirement already satisfied: python-dateutil>=2.7.3 in /opt/conda/envs/python37/lib/python3.7/site-packages (from pandas) (2.8.2)\n",
      "Requirement already satisfied: numpy>=1.17.3 in /opt/conda/envs/python37/lib/python3.7/site-packages (from pandas) (1.21.4)\n",
      "Requirement already satisfied: six>=1.5 in /opt/conda/envs/python37/lib/python3.7/site-packages (from python-dateutil>=2.7.3->pandas) (1.16.0)\n"
     ]
    }
   ],
   "source": [
    "!pip install pandas"
   ]
  },
  {
   "cell_type": "code",
   "execution_count": 78,
   "metadata": {},
   "outputs": [],
   "source": [
    "import pandas as pd"
   ]
  },
  {
   "cell_type": "code",
   "execution_count": 79,
   "metadata": {},
   "outputs": [
    {
     "data": {
      "text/plain": [
       "[('label', 'double'),\n",
       " ('features', 'vector'),\n",
       " ('runner_status', 'string'),\n",
       " ('implied_prob', 'double'),\n",
       " ('is_fast_horse_num', 'int')]"
      ]
     },
     "execution_count": 79,
     "metadata": {},
     "output_type": "execute_result"
    }
   ],
   "source": [
    "runners_fast_wbsp_sample2.dtypes"
   ]
  },
  {
   "cell_type": "code",
   "execution_count": 80,
   "metadata": {},
   "outputs": [
    {
     "name": "stderr",
     "output_type": "stream",
     "text": [
      "                                                                                \r"
     ]
    },
    {
     "data": {
      "text/html": [
       "<div>\n",
       "<style scoped>\n",
       "    .dataframe tbody tr th:only-of-type {\n",
       "        vertical-align: middle;\n",
       "    }\n",
       "\n",
       "    .dataframe tbody tr th {\n",
       "        vertical-align: top;\n",
       "    }\n",
       "\n",
       "    .dataframe thead th {\n",
       "        text-align: right;\n",
       "    }\n",
       "</style>\n",
       "<table border=\"1\" class=\"dataframe\">\n",
       "  <thead>\n",
       "    <tr style=\"text-align: right;\">\n",
       "      <th></th>\n",
       "      <th>0</th>\n",
       "      <th>1</th>\n",
       "      <th>2</th>\n",
       "      <th>3</th>\n",
       "      <th>4</th>\n",
       "    </tr>\n",
       "  </thead>\n",
       "  <tbody>\n",
       "    <tr>\n",
       "      <th>label</th>\n",
       "      <td>0.0</td>\n",
       "      <td>0.0</td>\n",
       "      <td>0.0</td>\n",
       "      <td>0.0</td>\n",
       "      <td>0.0</td>\n",
       "    </tr>\n",
       "    <tr>\n",
       "      <th>features</th>\n",
       "      <td>[1.0, 0.07692307692307693]</td>\n",
       "      <td>[1.0, 0.03125]</td>\n",
       "      <td>[1.0, 0.017543859649122806]</td>\n",
       "      <td>[1.0, 0.004484304932735426]</td>\n",
       "      <td>[1.0, 0.06666666666666667]</td>\n",
       "    </tr>\n",
       "    <tr>\n",
       "      <th>runner_status</th>\n",
       "      <td>LOSER</td>\n",
       "      <td>LOSER</td>\n",
       "      <td>LOSER</td>\n",
       "      <td>LOSER</td>\n",
       "      <td>LOSER</td>\n",
       "    </tr>\n",
       "    <tr>\n",
       "      <th>implied_prob</th>\n",
       "      <td>0.076923</td>\n",
       "      <td>0.03125</td>\n",
       "      <td>0.017544</td>\n",
       "      <td>0.004484</td>\n",
       "      <td>0.066667</td>\n",
       "    </tr>\n",
       "    <tr>\n",
       "      <th>is_fast_horse_num</th>\n",
       "      <td>0</td>\n",
       "      <td>0</td>\n",
       "      <td>0</td>\n",
       "      <td>0</td>\n",
       "      <td>0</td>\n",
       "    </tr>\n",
       "  </tbody>\n",
       "</table>\n",
       "</div>"
      ],
      "text/plain": [
       "                                            0               1  \\\n",
       "label                                     0.0             0.0   \n",
       "features           [1.0, 0.07692307692307693]  [1.0, 0.03125]   \n",
       "runner_status                           LOSER           LOSER   \n",
       "implied_prob                         0.076923         0.03125   \n",
       "is_fast_horse_num                           0               0   \n",
       "\n",
       "                                             2                            3  \\\n",
       "label                                      0.0                          0.0   \n",
       "features           [1.0, 0.017543859649122806]  [1.0, 0.004484304932735426]   \n",
       "runner_status                            LOSER                        LOSER   \n",
       "implied_prob                          0.017544                     0.004484   \n",
       "is_fast_horse_num                            0                            0   \n",
       "\n",
       "                                            4  \n",
       "label                                     0.0  \n",
       "features           [1.0, 0.06666666666666667]  \n",
       "runner_status                           LOSER  \n",
       "implied_prob                         0.066667  \n",
       "is_fast_horse_num                           0  "
      ]
     },
     "execution_count": 80,
     "metadata": {},
     "output_type": "execute_result"
    }
   ],
   "source": [
    "pd.DataFrame(runners_fast_wbsp_sample2.take(5), columns=runners_fast_wbsp_sample2.columns).transpose()"
   ]
  },
  {
   "cell_type": "code",
   "execution_count": 81,
   "metadata": {},
   "outputs": [
    {
     "name": "stderr",
     "output_type": "stream",
     "text": [
      "                                                                                \r"
     ]
    },
    {
     "name": "stdout",
     "output_type": "stream",
     "text": [
      "Training Dataset Count: 712\n"
     ]
    },
    {
     "name": "stderr",
     "output_type": "stream",
     "text": [
      "[Stage 36:=====================================================>(113 + 1) / 114]\r"
     ]
    },
    {
     "name": "stdout",
     "output_type": "stream",
     "text": [
      "Test Dataset Count: 288\n"
     ]
    },
    {
     "name": "stderr",
     "output_type": "stream",
     "text": [
      "                                                                                \r"
     ]
    }
   ],
   "source": [
    "train, test = runners_fast_wbsp_sample2.randomSplit([0.7, 0.3], seed = 2018)\n",
    "print(\"Training Dataset Count: \" + str(train.count()))\n",
    "print(\"Test Dataset Count: \" + str(test.count()))"
   ]
  },
  {
   "cell_type": "code",
   "execution_count": 82,
   "metadata": {},
   "outputs": [
    {
     "name": "stderr",
     "output_type": "stream",
     "text": [
      "21/12/11 11:36:13 WARN BLAS: Failed to load implementation from: com.github.fommil.netlib.NativeSystemBLAS\n",
      "21/12/11 11:36:13 WARN BLAS: Failed to load implementation from: com.github.fommil.netlib.NativeRefBLAS\n"
     ]
    }
   ],
   "source": [
    "from pyspark.ml.classification import LogisticRegression\n",
    "lr = LogisticRegression(featuresCol = 'features', labelCol = 'label', maxIter=10)\n",
    "lrModel = lr.fit(train)"
   ]
  },
  {
   "cell_type": "code",
   "execution_count": 83,
   "metadata": {},
   "outputs": [
    {
     "name": "stdout",
     "output_type": "stream",
     "text": [
      "Collecting matplotlib\n",
      "  Downloading matplotlib-3.5.1-cp37-cp37m-manylinux_2_5_x86_64.manylinux1_x86_64.whl (11.2 MB)\n",
      "     |████████████████████████████████| 11.2 MB 5.4 MB/s            \n",
      "\u001b[?25hCollecting cycler>=0.10\n",
      "  Downloading cycler-0.11.0-py3-none-any.whl (6.4 kB)\n",
      "Collecting pillow>=6.2.0\n",
      "  Downloading Pillow-8.4.0-cp37-cp37m-manylinux_2_17_x86_64.manylinux2014_x86_64.whl (3.1 MB)\n",
      "     |████████████████████████████████| 3.1 MB 57.2 MB/s            \n",
      "\u001b[?25hCollecting packaging>=20.0\n",
      "  Downloading packaging-21.3-py3-none-any.whl (40 kB)\n",
      "     |████████████████████████████████| 40 kB 7.8 MB/s             \n",
      "\u001b[?25hCollecting kiwisolver>=1.0.1\n",
      "  Downloading kiwisolver-1.3.2-cp37-cp37m-manylinux_2_5_x86_64.manylinux1_x86_64.whl (1.1 MB)\n",
      "     |████████████████████████████████| 1.1 MB 69.8 MB/s            \n",
      "\u001b[?25hCollecting fonttools>=4.22.0\n",
      "  Downloading fonttools-4.28.3-py3-none-any.whl (884 kB)\n",
      "     |████████████████████████████████| 884 kB 61.5 MB/s            \n",
      "\u001b[?25hCollecting pyparsing>=2.2.1\n",
      "  Downloading pyparsing-3.0.6-py3-none-any.whl (97 kB)\n",
      "     |████████████████████████████████| 97 kB 9.3 MB/s             \n",
      "\u001b[?25hRequirement already satisfied: numpy>=1.17 in /opt/conda/envs/python37/lib/python3.7/site-packages (from matplotlib) (1.21.4)\n",
      "Requirement already satisfied: python-dateutil>=2.7 in /opt/conda/envs/python37/lib/python3.7/site-packages (from matplotlib) (2.8.2)\n",
      "Requirement already satisfied: six>=1.5 in /opt/conda/envs/python37/lib/python3.7/site-packages (from python-dateutil>=2.7->matplotlib) (1.16.0)\n",
      "Installing collected packages: pyparsing, pillow, packaging, kiwisolver, fonttools, cycler, matplotlib\n",
      "Successfully installed cycler-0.11.0 fonttools-4.28.3 kiwisolver-1.3.2 matplotlib-3.5.1 packaging-21.3 pillow-8.4.0 pyparsing-3.0.6\n"
     ]
    }
   ],
   "source": [
    "!pip install matplotlib"
   ]
  },
  {
   "cell_type": "code",
   "execution_count": 84,
   "metadata": {},
   "outputs": [
    {
     "data": {
      "image/png": "[encoded data removed]",
      "text/plain": [
       "<Figure size 432x288 with 1 Axes>"
      ]
     },
     "metadata": {
      "needs_background": "light"
     },
     "output_type": "display_data"
    }
   ],
   "source": [
    "import matplotlib.pyplot as plt\n",
    "import numpy as np\n",
    "beta = np.sort(lrModel.coefficients)\n",
    "plt.plot(beta)\n",
    "plt.ylabel('Beta Coefficients')\n",
    "plt.show()"
   ]
  },
  {
   "cell_type": "code",
   "execution_count": 85,
   "metadata": {},
   "outputs": [
    {
     "name": "stderr",
     "output_type": "stream",
     "text": [
      "                                                                                \r"
     ]
    },
    {
     "data": {
      "image/png": "[encoded data removed]",
      "text/plain": [
       "<Figure size 432x288 with 1 Axes>"
      ]
     },
     "metadata": {
      "needs_background": "light"
     },
     "output_type": "display_data"
    },
    {
     "name": "stdout",
     "output_type": "stream",
     "text": [
      "Training set areaUnderROC: 0.7586012861736335\n"
     ]
    }
   ],
   "source": [
    "trainingSummary = lrModel.summary\n",
    "roc = trainingSummary.roc.toPandas()\n",
    "plt.plot(roc['FPR'],roc['TPR'])\n",
    "plt.ylabel('False Positive Rate')\n",
    "plt.xlabel('True Positive Rate')\n",
    "plt.title('ROC Curve')\n",
    "plt.show()\n",
    "print('Training set areaUnderROC: ' + str(trainingSummary.areaUnderROC))"
   ]
  },
  {
   "cell_type": "code",
   "execution_count": 86,
   "metadata": {},
   "outputs": [
    {
     "data": {
      "image/png": "[encoded data removed]",
      "text/plain": [
       "<Figure size 432x288 with 1 Axes>"
      ]
     },
     "metadata": {
      "needs_background": "light"
     },
     "output_type": "display_data"
    }
   ],
   "source": [
    "pr = trainingSummary.pr.toPandas()\n",
    "plt.plot(pr['recall'],pr['precision'])\n",
    "plt.ylabel('Precision')\n",
    "plt.xlabel('Recall')\n",
    "plt.show()"
   ]
  },
  {
   "cell_type": "code",
   "execution_count": 87,
   "metadata": {},
   "outputs": [
    {
     "name": "stderr",
     "output_type": "stream",
     "text": [
      "[Stage 88:=====================================================>(113 + 1) / 114]\r"
     ]
    },
    {
     "name": "stdout",
     "output_type": "stream",
     "text": [
      "+-----------------+--------------------+\n",
      "|is_fast_horse_num|        implied_prob|\n",
      "+-----------------+--------------------+\n",
      "|                1|0.008333333333333333|\n",
      "|                1|0.027777777777777776|\n",
      "|                1| 0.03333333333333333|\n",
      "|                1| 0.03571428571428571|\n",
      "|                1|0.038461538461538464|\n",
      "|                1|                0.04|\n",
      "|                1|0.043478260869565216|\n",
      "|                1|              0.0625|\n",
      "|                1|              0.0625|\n",
      "|                1| 0.06666666666666667|\n",
      "+-----------------+--------------------+\n",
      "only showing top 10 rows\n",
      "\n"
     ]
    },
    {
     "name": "stderr",
     "output_type": "stream",
     "text": [
      "                                                                                \r"
     ]
    }
   ],
   "source": [
    "predictions = lrModel.transform(test)\n",
    "predictions.select('is_fast_horse_num', 'implied_prob').show(10)"
   ]
  },
  {
   "cell_type": "code",
   "execution_count": 88,
   "metadata": {},
   "outputs": [
    {
     "name": "stderr",
     "output_type": "stream",
     "text": [
      "[Stage 90:=====================================================>(113 + 1) / 114]\r"
     ]
    },
    {
     "name": "stdout",
     "output_type": "stream",
     "text": [
      "Test Area Under ROC 0.8283422459893044\n"
     ]
    },
    {
     "name": "stderr",
     "output_type": "stream",
     "text": [
      "                                                                                \r"
     ]
    }
   ],
   "source": [
    "from pyspark.ml.evaluation import BinaryClassificationEvaluator\n",
    "evaluator = BinaryClassificationEvaluator()\n",
    "print('Test Area Under ROC', evaluator.evaluate(predictions))"
   ]
  },
  {
   "cell_type": "code",
   "execution_count": 89,
   "metadata": {},
   "outputs": [
    {
     "data": {
      "text/plain": [
       "DenseVector([0.7307, 3.0349])"
      ]
     },
     "execution_count": 89,
     "metadata": {},
     "output_type": "execute_result"
    }
   ],
   "source": [
    "lrModel.coefficients"
   ]
  },
  {
   "cell_type": "markdown",
   "metadata": {},
   "source": [
    "the bigger the coefficient the more predictive power it has\n",
    "\n",
    "Winner = 1, Loser = 0\n",
    "Winner = X*is_fast + Y*implied_prob\n",
    "\n",
    "\n",
    "the bigger the coefficient the more predictive power it has\n",
    "\n",
    "is_fast=0, is_not_fast=1\n",
    "Winner = 1, Loser = 0\n",
    "Winner = -0.2172*is_fast + 5.2113*implied_prob"
   ]
  },
  {
   "cell_type": "code",
   "execution_count": 90,
   "metadata": {},
   "outputs": [
    {
     "name": "stdout",
     "output_type": "stream",
     "text": [
      "Multinomial coefficients: DenseMatrix([[0.73070766, 3.03491352]])\n",
      "\n"
     ]
    }
   ],
   "source": [
    "print(\"Multinomial coefficients: \" + str(lrModel.coefficientMatrix))\n"
   ]
  },
  {
   "cell_type": "code",
   "execution_count": 91,
   "metadata": {},
   "outputs": [
    {
     "name": "stdout",
     "output_type": "stream",
     "text": [
      "Multinomial intercepts: [-3.1534459192701125]\n"
     ]
    }
   ],
   "source": [
    "print(\"Multinomial intercepts: \" + str(lrModel.interceptVector))"
   ]
  },
  {
   "cell_type": "code",
   "execution_count": 93,
   "metadata": {},
   "outputs": [
    {
     "ename": "TypeError",
     "evalue": "'BinaryLogisticRegressionTrainingSummary' object is not callable",
     "output_type": "error",
     "traceback": [
      "\u001b[0;31m---------------------------------------------------------------------------\u001b[0m",
      "\u001b[0;31mTypeError\u001b[0m                                 Traceback (most recent call last)",
      "\u001b[0;32m/tmp/ipykernel_10178/490935294.py\u001b[0m in \u001b[0;36m<module>\u001b[0;34m\u001b[0m\n\u001b[0;32m----> 1\u001b[0;31m \u001b[0mlrModel\u001b[0m\u001b[0;34m.\u001b[0m\u001b[0msummary\u001b[0m\u001b[0;34m(\u001b[0m\u001b[0;34m)\u001b[0m\u001b[0;34m\u001b[0m\u001b[0;34m\u001b[0m\u001b[0m\n\u001b[0m",
      "\u001b[0;31mTypeError\u001b[0m: 'BinaryLogisticRegressionTrainingSummary' object is not callable"
     ]
    }
   ],
   "source": [
    "lrModel.summary()"
   ]
  },
  {
   "cell_type": "code",
   "execution_count": null,
   "metadata": {},
   "outputs": [],
   "source": []
  }
 ],
 "metadata": {
  "kernelspec": {
   "display_name": "python37",
   "language": "python",
   "name": "python37"
  },
  "language_info": {
   "codemirror_mode": {
    "name": "ipython",
    "version": 3
   },
   "file_extension": ".py",
   "mimetype": "text/x-python",
   "name": "python",
   "nbconvert_exporter": "python",
   "pygments_lexer": "ipython3",
   "version": "3.7.7"
  }
 },
 "nbformat": 4,
 "nbformat_minor": 4
}
